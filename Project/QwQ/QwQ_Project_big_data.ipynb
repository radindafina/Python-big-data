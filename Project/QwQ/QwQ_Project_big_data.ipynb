{
  "nbformat": 4,
  "nbformat_minor": 0,
  "metadata": {
    "colab": {
      "provenance": [],
      "machine_shape": "hm",
      "include_colab_link": true
    },
    "kernelspec": {
      "name": "python3",
      "display_name": "Python 3"
    },
    "accelerator": "TPU"
  },
  "cells": [
    {
      "cell_type": "markdown",
      "metadata": {
        "id": "view-in-github",
        "colab_type": "text"
      },
      "source": [
        "<a href=\"https://colab.research.google.com/github/drshahizan/Python-big-data/blob/main/QwQ_Project_big_data.ipynb\" target=\"_parent\"><img src=\"https://colab.research.google.com/assets/colab-badge.svg\" alt=\"Open In Colab\"/></a>"
      ]
    },
    {
      "cell_type": "markdown",
      "metadata": {
        "id": "4cbgwZWWfWpp"
      },
      "source": [
        "# New York City Automated Traffic Volume Counts\n",
        "\n",
        "This project aims to study the volume of traffic in NYC at bridge crossings and roadways. The dataset consists of 14 columns and 27.4M rows. It is considered as big data and occupies 3.33GB of memory. The dataset is obtained from Kaggle. We have selected this dataset because we like to analyze the traffic volume in NYC. We will perform a series of steps like data processing, data cleaning and visualization on this dataset. Google Colab will be used in this project."
      ]
    },
    {
      "cell_type": "markdown",
      "source": [
        "**Team Members:**\n",
        "\n",
        "1.   MUHAMMAD DINIE HAZIM BIN AZALI\n",
        "2.   RADIN DAFINA BINTI RADIN ZULKAR NAIN\n",
        "3.   ADRINA ASYIQIN BINTI MD ADHA\n",
        "4.   KELVIN EE"
      ],
      "metadata": {
        "id": "LqMXBro2BOQ2"
      }
    },
    {
      "cell_type": "markdown",
      "source": [
        "## Downloading the Dataset\n",
        "\n",
        " \n",
        "\n",
        "*   This dataset contains all traffic sample volume counts at bridge crossings and roadways.\n",
        "*   However, these counts do not cover the entire year, and the number of days counted per location may vary from year to year.\n",
        "*   There are 27.2M samples and 14 feature variables in this dataset.\n",
        "*   The size of dataset is 3.33GB."
      ],
      "metadata": {
        "id": "OhLcuIIcBUIG"
      }
    },
    {
      "cell_type": "markdown",
      "source": [
        "Columns in this dataset:\n",
        "\n",
        "|Column Name |\tDescription |\tType |\n",
        "|---|---|---|\n",
        "|**RequestID**|An unique ID that is generated for each counts request.|\tNumber |\n",
        "|**Boro**|Lists which of the five administrative divisions of New York City the location is within, written as a word|Plain Text|\n",
        "|**Yr**|The two digit year portion of the date when the count was conducted.|\tNumber|\n",
        "|**M**|The two digit month portion of the date when the count was conducted.|\tNumber|\n",
        "|**D**|The two digit day portion of the date when the count was conducted.|\tNumber|\n",
        "|**HH**|The two digit hour portion of the time when the count was conducted.|\tNumber|\n",
        "|**MM**|The two digit start minute portion of the time when the count was conducted.|Number|\n",
        "|**Vol**|The total sum of count collected within a 15 minute increments.|Number|\n",
        "|**SegmentID**|The ID that identifies each segment of a street in the LION street network version 14.|Number|\n",
        "|**WktGeom**|A text markup language for representing vector geometry objects on a map and spatial reference systems of spatial objects.|Plain Text|\n",
        "|**street**|The 'On Street' where the count took place.|Plain Text|\n",
        "|**fromSt**|The 'From Street' where the count took place.|Plain Text|\n",
        "|**toSt**|The 'To Street' where the count took place.|Plain Text|\n",
        "|**Direction**|The text-based direction of traffic where the count took place.|\tPlain Text|"
      ],
      "metadata": {
        "id": "i2FQyBCPBYCt"
      }
    },
    {
      "cell_type": "markdown",
      "source": [
        "**Step 1**\n",
        "\n",
        "Download the dataset from [Kaggle](https://www.kaggle.com/datasets/aadimator/nyc-automated-traffic-volume-counts), which is in a zip file format. Extract the file and check the content."
      ],
      "metadata": {
        "id": "-2ZfByRfBcOm"
      }
    },
    {
      "cell_type": "markdown",
      "source": [
        "**Step 2**\n",
        "\n",
        "Upload the dataset to Google Drive and share the link for access."
      ],
      "metadata": {
        "id": "J66M5swnBfnm"
      }
    },
    {
      "cell_type": "markdown",
      "source": [
        "**Step 3**\n",
        "\n",
        "Create a link to the dataset on Google Drive and retrieve the dataset for use."
      ],
      "metadata": {
        "id": "-VdneANrBh49"
      }
    },
    {
      "cell_type": "code",
      "metadata": {
        "id": "tAb77yZ9fzMG"
      },
      "source": [
        "# Pull dataset from my google drive\n",
        "!pip install -U -q PyDrive\n",
        "from pydrive.auth import GoogleAuth\n",
        "from pydrive.drive import GoogleDrive\n",
        "from google.colab import auth\n",
        "from oauth2client.client import GoogleCredentials\n",
        "\n",
        "# Authenticate and create the PyDrive client.\n",
        "auth.authenticate_user()\n",
        "gauth = GoogleAuth()\n",
        "gauth.credentials = GoogleCredentials.get_application_default()\n",
        "drive = GoogleDrive(gauth)\n",
        "link = 'https://drive.google.com/file/d/19ZF66bqoiVy2vtLhKgtvc3yyisUq6Fw7/view?usp=share_link'\n",
        "\n",
        "# to get the id part of the file\n",
        "id = link.split(\"/\")[-2]\n",
        " \n",
        "downloaded = drive.CreateFile({'id':id})\n",
        "downloaded.GetContentFile('Automated_Traffic_Volume_Counts.csv') "
      ],
      "execution_count": 1,
      "outputs": []
    },
    {
      "cell_type": "markdown",
      "source": [
        "## Data Preparation and Cleaning\n",
        "\n",
        "Data preparation involves cleaning and transforming the data to ensure quality results in the analysis. This includes removing missing, duplicate or outlier data. It is a crucial step in managing large data sets before proceeding to analysis.\n"
      ],
      "metadata": {
        "id": "yMkKecFIB6DX"
      }
    },
    {
      "cell_type": "markdown",
      "source": [
        "**Import Data**"
      ],
      "metadata": {
        "id": "cLCcJM37B-e-"
      }
    },
    {
      "cell_type": "markdown",
      "source": [
        "**1. Koalas**"
      ],
      "metadata": {
        "id": "cntlscvnCB1H"
      }
    },
    {
      "cell_type": "code",
      "metadata": {
        "id": "pafL7Li0jyXW",
        "colab": {
          "base_uri": "https://localhost:8080/"
        },
        "outputId": "999bde54-1f46-46b9-e1fc-e380de217fd1"
      },
      "source": [
        "!pip install koalas\n",
        "!pip install pyspark"
      ],
      "execution_count": 2,
      "outputs": [
        {
          "output_type": "stream",
          "name": "stdout",
          "text": [
            "Looking in indexes: https://pypi.org/simple, https://us-python.pkg.dev/colab-wheels/public/simple/\n",
            "Collecting koalas\n",
            "  Downloading koalas-1.8.2-py3-none-any.whl (390 kB)\n",
            "\u001b[2K     \u001b[90m━━━━━━━━━━━━━━━━━━━━━━━━━━━━━━━━━━━━━━\u001b[0m \u001b[32m390.8/390.8 KB\u001b[0m \u001b[31m18.6 MB/s\u001b[0m eta \u001b[36m0:00:00\u001b[0m\n",
            "\u001b[?25hRequirement already satisfied: pyarrow>=0.10 in /usr/local/lib/python3.8/dist-packages (from koalas) (9.0.0)\n",
            "Requirement already satisfied: pandas>=0.23.2 in /usr/local/lib/python3.8/dist-packages (from koalas) (1.3.5)\n",
            "Requirement already satisfied: numpy>=1.14 in /usr/local/lib/python3.8/dist-packages (from koalas) (1.21.6)\n",
            "Requirement already satisfied: python-dateutil>=2.7.3 in /usr/local/lib/python3.8/dist-packages (from pandas>=0.23.2->koalas) (2.8.2)\n",
            "Requirement already satisfied: pytz>=2017.3 in /usr/local/lib/python3.8/dist-packages (from pandas>=0.23.2->koalas) (2022.7)\n",
            "Requirement already satisfied: six>=1.5 in /usr/local/lib/python3.8/dist-packages (from python-dateutil>=2.7.3->pandas>=0.23.2->koalas) (1.15.0)\n",
            "Installing collected packages: koalas\n",
            "Successfully installed koalas-1.8.2\n",
            "Looking in indexes: https://pypi.org/simple, https://us-python.pkg.dev/colab-wheels/public/simple/\n",
            "Collecting pyspark\n",
            "  Downloading pyspark-3.3.1.tar.gz (281.4 MB)\n",
            "\u001b[2K     \u001b[90m━━━━━━━━━━━━━━━━━━━━━━━━━━━━━━━━━━━━━━━\u001b[0m \u001b[32m281.4/281.4 MB\u001b[0m \u001b[31m3.1 MB/s\u001b[0m eta \u001b[36m0:00:00\u001b[0m\n",
            "\u001b[?25h  Preparing metadata (setup.py) ... \u001b[?25l\u001b[?25hdone\n",
            "Collecting py4j==0.10.9.5\n",
            "  Downloading py4j-0.10.9.5-py2.py3-none-any.whl (199 kB)\n",
            "\u001b[2K     \u001b[90m━━━━━━━━━━━━━━━━━━━━━━━━━━━━━━━━━━━━━━\u001b[0m \u001b[32m199.7/199.7 KB\u001b[0m \u001b[31m16.7 MB/s\u001b[0m eta \u001b[36m0:00:00\u001b[0m\n",
            "\u001b[?25hBuilding wheels for collected packages: pyspark\n",
            "  Building wheel for pyspark (setup.py) ... \u001b[?25l\u001b[?25hdone\n",
            "  Created wheel for pyspark: filename=pyspark-3.3.1-py2.py3-none-any.whl size=281845512 sha256=bf067d8c0120ddeb0679786e6802fd45cddd6b81849e7802810c3eddafc1d0dd\n",
            "  Stored in directory: /root/.cache/pip/wheels/43/dc/11/ec201cd671da62fa9c5cc77078235e40722170ceba231d7598\n",
            "Successfully built pyspark\n",
            "Installing collected packages: py4j, pyspark\n",
            "Successfully installed py4j-0.10.9.5 pyspark-3.3.1\n"
          ]
        }
      ]
    },
    {
      "cell_type": "code",
      "source": [
        "import databricks.koalas as ks"
      ],
      "metadata": {
        "colab": {
          "base_uri": "https://localhost:8080/"
        },
        "id": "RzrGTHqtCEF9",
        "outputId": "aafb2fdb-10d5-4a59-d68f-300c3e517fd5"
      },
      "execution_count": 3,
      "outputs": [
        {
          "output_type": "stream",
          "name": "stderr",
          "text": [
            "WARNING:root:Found pyspark version \"3.3.1\" installed. The pyspark version 3.2 and above has a built-in \"pandas APIs on Spark\" module ported from Koalas. Try `import pyspark.pandas as ps` instead. \n",
            "WARNING:root:'PYARROW_IGNORE_TIMEZONE' environment variable was not set. It is required to set this environment variable to '1' in both driver and executor sides if you use pyarrow>=2.0.0. Koalas will set it for you but it does not work if there is a Spark context already launched.\n"
          ]
        }
      ]
    },
    {
      "cell_type": "code",
      "source": [
        "%%time\n",
        "kdf = ks.read_csv('Automated_Traffic_Volume_Counts.csv')\n",
        "kdf.head()"
      ],
      "metadata": {
        "colab": {
          "base_uri": "https://localhost:8080/",
          "height": 241
        },
        "id": "nDy7SAfSCEZG",
        "outputId": "3daec4d3-a62a-4d7a-cb0f-a5a96c577c2c"
      },
      "execution_count": 9,
      "outputs": [
        {
          "output_type": "stream",
          "name": "stdout",
          "text": [
            "CPU times: user 290 ms, sys: 40.8 ms, total: 331 ms\n",
            "Wall time: 41.7 s\n"
          ]
        },
        {
          "output_type": "execute_result",
          "data": {
            "text/plain": [
              "   RequestID           Boro    Yr   M   D  HH  MM  Vol  SegmentID                                        WktGeom              street                  fromSt                     toSt Direction\n",
              "0      20856         Queens  2015   6  23  23  30    9     171896   POINT (1052296.600156678 199785.26932711253)           94 AVENUE              207 Street  Francis Lewis Boulevard        WB\n",
              "1      21231  Staten Island  2015   9  14   4  15    6       9896      POINT (942668.0589509147 171441.21296926)    RICHMOND TERRACE           Wright Avenue             Emeric Court        WB\n",
              "2      29279          Bronx  2017  10  19   4  30   85      77817  POINT (1016508.0034050211 235221.59092266942)  HUNTS POINT AVENUE         Whittier Street           Randall Avenue        NB\n",
              "3      27019       Brooklyn  2017  11   7  18  30  168     188023   POINT (992925.4316054962 184116.82855457635)     FLATBUSH AVENUE           Brighton Line            Brighton Line        NB\n",
              "4      26734      Manhattan  2017  11   3  22   0  355     137516  POINT (1004175.9505178436 247779.63624949602)   WASHINGTON BRIDGE  Harlem River Shoreline   Harlem River Shoreline        EB"
            ],
            "text/html": [
              "<div>\n",
              "<style scoped>\n",
              "    .dataframe tbody tr th:only-of-type {\n",
              "        vertical-align: middle;\n",
              "    }\n",
              "\n",
              "    .dataframe tbody tr th {\n",
              "        vertical-align: top;\n",
              "    }\n",
              "\n",
              "    .dataframe thead th {\n",
              "        text-align: right;\n",
              "    }\n",
              "</style>\n",
              "<table border=\"1\" class=\"dataframe\">\n",
              "  <thead>\n",
              "    <tr style=\"text-align: right;\">\n",
              "      <th></th>\n",
              "      <th>RequestID</th>\n",
              "      <th>Boro</th>\n",
              "      <th>Yr</th>\n",
              "      <th>M</th>\n",
              "      <th>D</th>\n",
              "      <th>HH</th>\n",
              "      <th>MM</th>\n",
              "      <th>Vol</th>\n",
              "      <th>SegmentID</th>\n",
              "      <th>WktGeom</th>\n",
              "      <th>street</th>\n",
              "      <th>fromSt</th>\n",
              "      <th>toSt</th>\n",
              "      <th>Direction</th>\n",
              "    </tr>\n",
              "  </thead>\n",
              "  <tbody>\n",
              "    <tr>\n",
              "      <th>0</th>\n",
              "      <td>20856</td>\n",
              "      <td>Queens</td>\n",
              "      <td>2015</td>\n",
              "      <td>6</td>\n",
              "      <td>23</td>\n",
              "      <td>23</td>\n",
              "      <td>30</td>\n",
              "      <td>9</td>\n",
              "      <td>171896</td>\n",
              "      <td>POINT (1052296.600156678 199785.26932711253)</td>\n",
              "      <td>94 AVENUE</td>\n",
              "      <td>207 Street</td>\n",
              "      <td>Francis Lewis Boulevard</td>\n",
              "      <td>WB</td>\n",
              "    </tr>\n",
              "    <tr>\n",
              "      <th>1</th>\n",
              "      <td>21231</td>\n",
              "      <td>Staten Island</td>\n",
              "      <td>2015</td>\n",
              "      <td>9</td>\n",
              "      <td>14</td>\n",
              "      <td>4</td>\n",
              "      <td>15</td>\n",
              "      <td>6</td>\n",
              "      <td>9896</td>\n",
              "      <td>POINT (942668.0589509147 171441.21296926)</td>\n",
              "      <td>RICHMOND TERRACE</td>\n",
              "      <td>Wright Avenue</td>\n",
              "      <td>Emeric Court</td>\n",
              "      <td>WB</td>\n",
              "    </tr>\n",
              "    <tr>\n",
              "      <th>2</th>\n",
              "      <td>29279</td>\n",
              "      <td>Bronx</td>\n",
              "      <td>2017</td>\n",
              "      <td>10</td>\n",
              "      <td>19</td>\n",
              "      <td>4</td>\n",
              "      <td>30</td>\n",
              "      <td>85</td>\n",
              "      <td>77817</td>\n",
              "      <td>POINT (1016508.0034050211 235221.59092266942)</td>\n",
              "      <td>HUNTS POINT AVENUE</td>\n",
              "      <td>Whittier Street</td>\n",
              "      <td>Randall Avenue</td>\n",
              "      <td>NB</td>\n",
              "    </tr>\n",
              "    <tr>\n",
              "      <th>3</th>\n",
              "      <td>27019</td>\n",
              "      <td>Brooklyn</td>\n",
              "      <td>2017</td>\n",
              "      <td>11</td>\n",
              "      <td>7</td>\n",
              "      <td>18</td>\n",
              "      <td>30</td>\n",
              "      <td>168</td>\n",
              "      <td>188023</td>\n",
              "      <td>POINT (992925.4316054962 184116.82855457635)</td>\n",
              "      <td>FLATBUSH AVENUE</td>\n",
              "      <td>Brighton Line</td>\n",
              "      <td>Brighton Line</td>\n",
              "      <td>NB</td>\n",
              "    </tr>\n",
              "    <tr>\n",
              "      <th>4</th>\n",
              "      <td>26734</td>\n",
              "      <td>Manhattan</td>\n",
              "      <td>2017</td>\n",
              "      <td>11</td>\n",
              "      <td>3</td>\n",
              "      <td>22</td>\n",
              "      <td>0</td>\n",
              "      <td>355</td>\n",
              "      <td>137516</td>\n",
              "      <td>POINT (1004175.9505178436 247779.63624949602)</td>\n",
              "      <td>WASHINGTON BRIDGE</td>\n",
              "      <td>Harlem River Shoreline</td>\n",
              "      <td>Harlem River Shoreline</td>\n",
              "      <td>EB</td>\n",
              "    </tr>\n",
              "  </tbody>\n",
              "</table>\n",
              "</div>"
            ]
          },
          "metadata": {},
          "execution_count": 9
        }
      ]
    },
    {
      "cell_type": "markdown",
      "source": [
        "**2. PySpark**"
      ],
      "metadata": {
        "id": "-9ZxFOp0CE1G"
      }
    },
    {
      "cell_type": "code",
      "source": [
        "!pip install pyspark"
      ],
      "metadata": {
        "colab": {
          "base_uri": "https://localhost:8080/"
        },
        "id": "EU8RQF64CGdz",
        "outputId": "b36eebd7-99e8-44cc-8d22-94dd033b535e"
      },
      "execution_count": null,
      "outputs": [
        {
          "output_type": "stream",
          "name": "stdout",
          "text": [
            "Looking in indexes: https://pypi.org/simple, https://us-python.pkg.dev/colab-wheels/public/simple/\n",
            "Requirement already satisfied: pyspark in /usr/local/lib/python3.8/dist-packages (3.3.1)\n",
            "Requirement already satisfied: py4j==0.10.9.5 in /usr/local/lib/python3.8/dist-packages (from pyspark) (0.10.9.5)\n"
          ]
        }
      ]
    },
    {
      "cell_type": "code",
      "source": [
        "from pyspark.sql import SparkSession\n",
        "import pyspark.sql.functions as func\n",
        "spark = SparkSession.builder.getOrCreate()"
      ],
      "metadata": {
        "id": "m3uoDpNJCHoG"
      },
      "execution_count": null,
      "outputs": []
    },
    {
      "cell_type": "code",
      "source": [
        "%%time\n",
        "s_df = spark.read.csv('Automated_Traffic_Volume_Counts.csv', header=True)\n",
        "s_df.show(5)"
      ],
      "metadata": {
        "colab": {
          "base_uri": "https://localhost:8080/"
        },
        "id": "OLhH-uHKCHee",
        "outputId": "b9ccdb64-1ad9-4071-b313-a20af82efcda"
      },
      "execution_count": null,
      "outputs": [
        {
          "output_type": "stream",
          "name": "stdout",
          "text": [
            "+---------+-------------+----+---+---+---+---+---+---------+--------------------+------------------+--------------------+--------------------+---------+\n",
            "|RequestID|         Boro|  Yr|  M|  D| HH| MM|Vol|SegmentID|             WktGeom|            street|              fromSt|                toSt|Direction|\n",
            "+---------+-------------+----+---+---+---+---+---+---------+--------------------+------------------+--------------------+--------------------+---------+\n",
            "|    20856|       Queens|2015|  6| 23| 23| 30|  9|   171896|POINT (1052296.60...|         94 AVENUE|          207 Street|Francis Lewis Bou...|       WB|\n",
            "|    21231|Staten Island|2015|  9| 14|  4| 15|  6|     9896|POINT (942668.058...|  RICHMOND TERRACE|       Wright Avenue|        Emeric Court|       WB|\n",
            "|    29279|        Bronx|2017| 10| 19|  4| 30| 85|    77817|POINT (1016508.00...|HUNTS POINT AVENUE|     Whittier Street|      Randall Avenue|       NB|\n",
            "|    27019|     Brooklyn|2017| 11|  7| 18| 30|168|   188023|POINT (992925.431...|   FLATBUSH AVENUE|       Brighton Line|       Brighton Line|       NB|\n",
            "|    26734|    Manhattan|2017| 11|  3| 22|  0|355|   137516|POINT (1004175.95...| WASHINGTON BRIDGE|Harlem River Shor...|Harlem River Shor...|       EB|\n",
            "+---------+-------------+----+---+---+---+---+---+---------+--------------------+------------------+--------------------+--------------------+---------+\n",
            "only showing top 5 rows\n",
            "\n",
            "CPU times: user 38.8 ms, sys: 10.7 ms, total: 49.5 ms\n",
            "Wall time: 7.37 s\n"
          ]
        }
      ]
    },
    {
      "cell_type": "markdown",
      "source": [
        "**3. Dask**"
      ],
      "metadata": {
        "id": "Z06YNL_cCID-"
      }
    },
    {
      "cell_type": "code",
      "source": [
        "!pip install dask"
      ],
      "metadata": {
        "colab": {
          "base_uri": "https://localhost:8080/"
        },
        "id": "rXHjtoxHCJ_e",
        "outputId": "c81b82d5-58d0-4d22-efa8-7e8d03c0bae0"
      },
      "execution_count": null,
      "outputs": [
        {
          "output_type": "stream",
          "name": "stdout",
          "text": [
            "Looking in indexes: https://pypi.org/simple, https://us-python.pkg.dev/colab-wheels/public/simple/\n",
            "Requirement already satisfied: dask in /usr/local/lib/python3.8/dist-packages (2022.2.1)\n",
            "Requirement already satisfied: partd>=0.3.10 in /usr/local/lib/python3.8/dist-packages (from dask) (1.3.0)\n",
            "Requirement already satisfied: packaging>=20.0 in /usr/local/lib/python3.8/dist-packages (from dask) (21.3)\n",
            "Requirement already satisfied: toolz>=0.8.2 in /usr/local/lib/python3.8/dist-packages (from dask) (0.12.0)\n",
            "Requirement already satisfied: cloudpickle>=1.1.1 in /usr/local/lib/python3.8/dist-packages (from dask) (2.2.0)\n",
            "Requirement already satisfied: fsspec>=0.6.0 in /usr/local/lib/python3.8/dist-packages (from dask) (2022.11.0)\n",
            "Requirement already satisfied: pyyaml>=5.3.1 in /usr/local/lib/python3.8/dist-packages (from dask) (6.0)\n",
            "Requirement already satisfied: pyparsing!=3.0.5,>=2.0.2 in /usr/local/lib/python3.8/dist-packages (from packaging>=20.0->dask) (3.0.9)\n",
            "Requirement already satisfied: locket in /usr/local/lib/python3.8/dist-packages (from partd>=0.3.10->dask) (1.0.0)\n"
          ]
        }
      ]
    },
    {
      "cell_type": "code",
      "source": [
        "import dask.dataframe as dd"
      ],
      "metadata": {
        "id": "kizya1BUCKfW"
      },
      "execution_count": null,
      "outputs": []
    },
    {
      "cell_type": "code",
      "source": [
        "%%time\n",
        "ddf = dd.read_csv('Automated_Traffic_Volume_Counts.csv')\n",
        "ddf.head()"
      ],
      "metadata": {
        "colab": {
          "base_uri": "https://localhost:8080/",
          "height": 285
        },
        "id": "ekko3u5hCK4G",
        "outputId": "97fa8b1a-8ada-4728-d1f5-c43170981822"
      },
      "execution_count": null,
      "outputs": [
        {
          "output_type": "stream",
          "name": "stdout",
          "text": [
            "CPU times: user 1.08 s, sys: 450 ms, total: 1.53 s\n",
            "Wall time: 1.6 s\n"
          ]
        },
        {
          "output_type": "execute_result",
          "data": {
            "text/plain": [
              "   RequestID           Boro    Yr   M   D  HH  MM  Vol  SegmentID  \\\n",
              "0      20856         Queens  2015   6  23  23  30    9     171896   \n",
              "1      21231  Staten Island  2015   9  14   4  15    6       9896   \n",
              "2      29279          Bronx  2017  10  19   4  30   85      77817   \n",
              "3      27019       Brooklyn  2017  11   7  18  30  168     188023   \n",
              "4      26734      Manhattan  2017  11   3  22   0  355     137516   \n",
              "\n",
              "                                         WktGeom              street  \\\n",
              "0   POINT (1052296.600156678 199785.26932711253)           94 AVENUE   \n",
              "1      POINT (942668.0589509147 171441.21296926)    RICHMOND TERRACE   \n",
              "2  POINT (1016508.0034050211 235221.59092266942)  HUNTS POINT AVENUE   \n",
              "3   POINT (992925.4316054962 184116.82855457635)     FLATBUSH AVENUE   \n",
              "4  POINT (1004175.9505178436 247779.63624949602)   WASHINGTON BRIDGE   \n",
              "\n",
              "                   fromSt                     toSt Direction  \n",
              "0              207 Street  Francis Lewis Boulevard        WB  \n",
              "1           Wright Avenue             Emeric Court        WB  \n",
              "2         Whittier Street           Randall Avenue        NB  \n",
              "3           Brighton Line            Brighton Line        NB  \n",
              "4  Harlem River Shoreline   Harlem River Shoreline        EB  "
            ],
            "text/html": [
              "\n",
              "  <div id=\"df-ada9be40-048e-4b3b-86b5-f8be394c4a14\">\n",
              "    <div class=\"colab-df-container\">\n",
              "      <div>\n",
              "<style scoped>\n",
              "    .dataframe tbody tr th:only-of-type {\n",
              "        vertical-align: middle;\n",
              "    }\n",
              "\n",
              "    .dataframe tbody tr th {\n",
              "        vertical-align: top;\n",
              "    }\n",
              "\n",
              "    .dataframe thead th {\n",
              "        text-align: right;\n",
              "    }\n",
              "</style>\n",
              "<table border=\"1\" class=\"dataframe\">\n",
              "  <thead>\n",
              "    <tr style=\"text-align: right;\">\n",
              "      <th></th>\n",
              "      <th>RequestID</th>\n",
              "      <th>Boro</th>\n",
              "      <th>Yr</th>\n",
              "      <th>M</th>\n",
              "      <th>D</th>\n",
              "      <th>HH</th>\n",
              "      <th>MM</th>\n",
              "      <th>Vol</th>\n",
              "      <th>SegmentID</th>\n",
              "      <th>WktGeom</th>\n",
              "      <th>street</th>\n",
              "      <th>fromSt</th>\n",
              "      <th>toSt</th>\n",
              "      <th>Direction</th>\n",
              "    </tr>\n",
              "  </thead>\n",
              "  <tbody>\n",
              "    <tr>\n",
              "      <th>0</th>\n",
              "      <td>20856</td>\n",
              "      <td>Queens</td>\n",
              "      <td>2015</td>\n",
              "      <td>6</td>\n",
              "      <td>23</td>\n",
              "      <td>23</td>\n",
              "      <td>30</td>\n",
              "      <td>9</td>\n",
              "      <td>171896</td>\n",
              "      <td>POINT (1052296.600156678 199785.26932711253)</td>\n",
              "      <td>94 AVENUE</td>\n",
              "      <td>207 Street</td>\n",
              "      <td>Francis Lewis Boulevard</td>\n",
              "      <td>WB</td>\n",
              "    </tr>\n",
              "    <tr>\n",
              "      <th>1</th>\n",
              "      <td>21231</td>\n",
              "      <td>Staten Island</td>\n",
              "      <td>2015</td>\n",
              "      <td>9</td>\n",
              "      <td>14</td>\n",
              "      <td>4</td>\n",
              "      <td>15</td>\n",
              "      <td>6</td>\n",
              "      <td>9896</td>\n",
              "      <td>POINT (942668.0589509147 171441.21296926)</td>\n",
              "      <td>RICHMOND TERRACE</td>\n",
              "      <td>Wright Avenue</td>\n",
              "      <td>Emeric Court</td>\n",
              "      <td>WB</td>\n",
              "    </tr>\n",
              "    <tr>\n",
              "      <th>2</th>\n",
              "      <td>29279</td>\n",
              "      <td>Bronx</td>\n",
              "      <td>2017</td>\n",
              "      <td>10</td>\n",
              "      <td>19</td>\n",
              "      <td>4</td>\n",
              "      <td>30</td>\n",
              "      <td>85</td>\n",
              "      <td>77817</td>\n",
              "      <td>POINT (1016508.0034050211 235221.59092266942)</td>\n",
              "      <td>HUNTS POINT AVENUE</td>\n",
              "      <td>Whittier Street</td>\n",
              "      <td>Randall Avenue</td>\n",
              "      <td>NB</td>\n",
              "    </tr>\n",
              "    <tr>\n",
              "      <th>3</th>\n",
              "      <td>27019</td>\n",
              "      <td>Brooklyn</td>\n",
              "      <td>2017</td>\n",
              "      <td>11</td>\n",
              "      <td>7</td>\n",
              "      <td>18</td>\n",
              "      <td>30</td>\n",
              "      <td>168</td>\n",
              "      <td>188023</td>\n",
              "      <td>POINT (992925.4316054962 184116.82855457635)</td>\n",
              "      <td>FLATBUSH AVENUE</td>\n",
              "      <td>Brighton Line</td>\n",
              "      <td>Brighton Line</td>\n",
              "      <td>NB</td>\n",
              "    </tr>\n",
              "    <tr>\n",
              "      <th>4</th>\n",
              "      <td>26734</td>\n",
              "      <td>Manhattan</td>\n",
              "      <td>2017</td>\n",
              "      <td>11</td>\n",
              "      <td>3</td>\n",
              "      <td>22</td>\n",
              "      <td>0</td>\n",
              "      <td>355</td>\n",
              "      <td>137516</td>\n",
              "      <td>POINT (1004175.9505178436 247779.63624949602)</td>\n",
              "      <td>WASHINGTON BRIDGE</td>\n",
              "      <td>Harlem River Shoreline</td>\n",
              "      <td>Harlem River Shoreline</td>\n",
              "      <td>EB</td>\n",
              "    </tr>\n",
              "  </tbody>\n",
              "</table>\n",
              "</div>\n",
              "      <button class=\"colab-df-convert\" onclick=\"convertToInteractive('df-ada9be40-048e-4b3b-86b5-f8be394c4a14')\"\n",
              "              title=\"Convert this dataframe to an interactive table.\"\n",
              "              style=\"display:none;\">\n",
              "        \n",
              "  <svg xmlns=\"http://www.w3.org/2000/svg\" height=\"24px\"viewBox=\"0 0 24 24\"\n",
              "       width=\"24px\">\n",
              "    <path d=\"M0 0h24v24H0V0z\" fill=\"none\"/>\n",
              "    <path d=\"M18.56 5.44l.94 2.06.94-2.06 2.06-.94-2.06-.94-.94-2.06-.94 2.06-2.06.94zm-11 1L8.5 8.5l.94-2.06 2.06-.94-2.06-.94L8.5 2.5l-.94 2.06-2.06.94zm10 10l.94 2.06.94-2.06 2.06-.94-2.06-.94-.94-2.06-.94 2.06-2.06.94z\"/><path d=\"M17.41 7.96l-1.37-1.37c-.4-.4-.92-.59-1.43-.59-.52 0-1.04.2-1.43.59L10.3 9.45l-7.72 7.72c-.78.78-.78 2.05 0 2.83L4 21.41c.39.39.9.59 1.41.59.51 0 1.02-.2 1.41-.59l7.78-7.78 2.81-2.81c.8-.78.8-2.07 0-2.86zM5.41 20L4 18.59l7.72-7.72 1.47 1.35L5.41 20z\"/>\n",
              "  </svg>\n",
              "      </button>\n",
              "      \n",
              "  <style>\n",
              "    .colab-df-container {\n",
              "      display:flex;\n",
              "      flex-wrap:wrap;\n",
              "      gap: 12px;\n",
              "    }\n",
              "\n",
              "    .colab-df-convert {\n",
              "      background-color: #E8F0FE;\n",
              "      border: none;\n",
              "      border-radius: 50%;\n",
              "      cursor: pointer;\n",
              "      display: none;\n",
              "      fill: #1967D2;\n",
              "      height: 32px;\n",
              "      padding: 0 0 0 0;\n",
              "      width: 32px;\n",
              "    }\n",
              "\n",
              "    .colab-df-convert:hover {\n",
              "      background-color: #E2EBFA;\n",
              "      box-shadow: 0px 1px 2px rgba(60, 64, 67, 0.3), 0px 1px 3px 1px rgba(60, 64, 67, 0.15);\n",
              "      fill: #174EA6;\n",
              "    }\n",
              "\n",
              "    [theme=dark] .colab-df-convert {\n",
              "      background-color: #3B4455;\n",
              "      fill: #D2E3FC;\n",
              "    }\n",
              "\n",
              "    [theme=dark] .colab-df-convert:hover {\n",
              "      background-color: #434B5C;\n",
              "      box-shadow: 0px 1px 3px 1px rgba(0, 0, 0, 0.15);\n",
              "      filter: drop-shadow(0px 1px 2px rgba(0, 0, 0, 0.3));\n",
              "      fill: #FFFFFF;\n",
              "    }\n",
              "  </style>\n",
              "\n",
              "      <script>\n",
              "        const buttonEl =\n",
              "          document.querySelector('#df-ada9be40-048e-4b3b-86b5-f8be394c4a14 button.colab-df-convert');\n",
              "        buttonEl.style.display =\n",
              "          google.colab.kernel.accessAllowed ? 'block' : 'none';\n",
              "\n",
              "        async function convertToInteractive(key) {\n",
              "          const element = document.querySelector('#df-ada9be40-048e-4b3b-86b5-f8be394c4a14');\n",
              "          const dataTable =\n",
              "            await google.colab.kernel.invokeFunction('convertToInteractive',\n",
              "                                                     [key], {});\n",
              "          if (!dataTable) return;\n",
              "\n",
              "          const docLinkHtml = 'Like what you see? Visit the ' +\n",
              "            '<a target=\"_blank\" href=https://colab.research.google.com/notebooks/data_table.ipynb>data table notebook</a>'\n",
              "            + ' to learn more about interactive tables.';\n",
              "          element.innerHTML = '';\n",
              "          dataTable['output_type'] = 'display_data';\n",
              "          await google.colab.output.renderOutput(dataTable, element);\n",
              "          const docLink = document.createElement('div');\n",
              "          docLink.innerHTML = docLinkHtml;\n",
              "          element.appendChild(docLink);\n",
              "        }\n",
              "      </script>\n",
              "    </div>\n",
              "  </div>\n",
              "  "
            ]
          },
          "metadata": {},
          "execution_count": 16
        }
      ]
    },
    {
      "cell_type": "markdown",
      "source": [
        "**Remove null values**\n",
        "\n",
        "We will remove the null values to avoid it affect the perfomance and accuracy."
      ],
      "metadata": {
        "id": "CTVXe0LGCOGW"
      }
    },
    {
      "cell_type": "markdown",
      "source": [
        "**1. Koalas**"
      ],
      "metadata": {
        "id": "wMHrKh35CRo_"
      }
    },
    {
      "cell_type": "code",
      "source": [
        "kdf.isnull().sum()"
      ],
      "metadata": {
        "colab": {
          "base_uri": "https://localhost:8080/"
        },
        "id": "QlffEz7WCOo3",
        "outputId": "339dac3a-8c3f-4ab0-b30f-723fdb8cc18c"
      },
      "execution_count": null,
      "outputs": [
        {
          "output_type": "execute_result",
          "data": {
            "text/plain": [
              "RequestID       0\n",
              "Boro            0\n",
              "Yr              0\n",
              "M               0\n",
              "D               0\n",
              "HH              0\n",
              "MM              0\n",
              "Vol             0\n",
              "SegmentID       0\n",
              "WktGeom         0\n",
              "street          0\n",
              "fromSt          0\n",
              "toSt         2002\n",
              "Direction       0\n",
              "dtype: int64"
            ]
          },
          "metadata": {},
          "execution_count": 30
        }
      ]
    },
    {
      "cell_type": "code",
      "source": [
        "%%time\n",
        "kdf = kdf.dropna()"
      ],
      "metadata": {
        "colab": {
          "base_uri": "https://localhost:8080/"
        },
        "id": "SgJEqQIHCTdm",
        "outputId": "15044973-3b52-43d0-8b01-f56a9b81c645"
      },
      "execution_count": 11,
      "outputs": [
        {
          "output_type": "stream",
          "name": "stdout",
          "text": [
            "CPU times: user 106 ms, sys: 16.2 ms, total: 122 ms\n",
            "Wall time: 429 ms\n"
          ]
        }
      ]
    },
    {
      "cell_type": "code",
      "source": [
        "kdf.isnull().sum()"
      ],
      "metadata": {
        "colab": {
          "base_uri": "https://localhost:8080/"
        },
        "id": "TYoWZ4WCCTUe",
        "outputId": "7dbdb5ad-e6a7-4b65-a95f-701181d506ad"
      },
      "execution_count": null,
      "outputs": [
        {
          "output_type": "execute_result",
          "data": {
            "text/plain": [
              "RequestID    0\n",
              "Boro         0\n",
              "Yr           0\n",
              "M            0\n",
              "D            0\n",
              "HH           0\n",
              "MM           0\n",
              "Vol          0\n",
              "SegmentID    0\n",
              "WktGeom      0\n",
              "street       0\n",
              "fromSt       0\n",
              "toSt         0\n",
              "Direction    0\n",
              "dtype: int64"
            ]
          },
          "metadata": {},
          "execution_count": 32
        }
      ]
    },
    {
      "cell_type": "markdown",
      "source": [
        "**2. PySpark**"
      ],
      "metadata": {
        "id": "kirTomOqCT0m"
      }
    },
    {
      "cell_type": "code",
      "source": [
        "from pyspark.sql.functions import col,isnan,when,count\n",
        "s_df1 = s_df.select([count(when(col(c).contains('None') | \\\n",
        "                            col(c).contains('NULL') | \\\n",
        "                            (col(c) == '' ) | \\\n",
        "                            col(c).isNull() | \\\n",
        "                            isnan(c), c \n",
        "                           )).alias(c)\n",
        "                    for c in s_df.columns])\n",
        "s_df1.show()"
      ],
      "metadata": {
        "colab": {
          "base_uri": "https://localhost:8080/"
        },
        "id": "feE5L_8nCYRn",
        "outputId": "a915bddb-a0d3-485f-f83f-1a7a69e23c14"
      },
      "execution_count": null,
      "outputs": [
        {
          "output_type": "stream",
          "name": "stdout",
          "text": [
            "+---------+----+---+---+---+---+---+---+---------+-------+------+------+----+---------+\n",
            "|RequestID|Boro| Yr|  M|  D| HH| MM|Vol|SegmentID|WktGeom|street|fromSt|toSt|Direction|\n",
            "+---------+----+---+---+---+---+---+---+---------+-------+------+------+----+---------+\n",
            "|        0|   0|  0|  0|  0|  0|  0|  0|        0|      0|     0|     0|2002|        0|\n",
            "+---------+----+---+---+---+---+---+---+---------+-------+------+------+----+---------+\n",
            "\n"
          ]
        }
      ]
    },
    {
      "cell_type": "code",
      "source": [
        "%%time\n",
        "s_df = s_df.dropna()"
      ],
      "metadata": {
        "colab": {
          "base_uri": "https://localhost:8080/"
        },
        "id": "jBhqL7SuCap1",
        "outputId": "93dbabce-6b1b-4649-c6cb-864755dbc6ae"
      },
      "execution_count": null,
      "outputs": [
        {
          "output_type": "stream",
          "name": "stdout",
          "text": [
            "CPU times: user 4.75 ms, sys: 1.72 ms, total: 6.47 ms\n",
            "Wall time: 74.9 ms\n"
          ]
        }
      ]
    },
    {
      "cell_type": "code",
      "source": [
        "from pyspark.sql.functions import col,isnan,when,count\n",
        "s_df1 = s_df.select([count(when(col(c).contains('None') | \\\n",
        "                            col(c).contains('NULL') | \\\n",
        "                            (col(c) == '' ) | \\\n",
        "                            col(c).isNull() | \\\n",
        "                            isnan(c), c \n",
        "                           )).alias(c)\n",
        "                    for c in s_df.columns])\n",
        "s_df1.show()"
      ],
      "metadata": {
        "colab": {
          "base_uri": "https://localhost:8080/"
        },
        "id": "DX8XNK7_Cai2",
        "outputId": "0025b5ea-e529-4106-f937-04ab247a375b"
      },
      "execution_count": null,
      "outputs": [
        {
          "output_type": "stream",
          "name": "stdout",
          "text": [
            "+---------+----+---+---+---+---+---+---+---------+-------+------+------+----+---------+\n",
            "|RequestID|Boro| Yr|  M|  D| HH| MM|Vol|SegmentID|WktGeom|street|fromSt|toSt|Direction|\n",
            "+---------+----+---+---+---+---+---+---+---------+-------+------+------+----+---------+\n",
            "|        0|   0|  0|  0|  0|  0|  0|  0|        0|      0|     0|     0|   0|        0|\n",
            "+---------+----+---+---+---+---+---+---+---------+-------+------+------+----+---------+\n",
            "\n"
          ]
        }
      ]
    },
    {
      "cell_type": "markdown",
      "source": [
        "**3. Dask**"
      ],
      "metadata": {
        "id": "sqbMRobWCa8-"
      }
    },
    {
      "cell_type": "code",
      "source": [
        "ddf.isnull().sum().compute()"
      ],
      "metadata": {
        "colab": {
          "base_uri": "https://localhost:8080/"
        },
        "id": "Nc_tlrNpCgPi",
        "outputId": "20939389-be4a-4c6b-c566-136eed751727"
      },
      "execution_count": null,
      "outputs": [
        {
          "output_type": "execute_result",
          "data": {
            "text/plain": [
              "RequestID       0\n",
              "Boro            0\n",
              "Yr              0\n",
              "M               0\n",
              "D               0\n",
              "HH              0\n",
              "MM              0\n",
              "Vol             0\n",
              "SegmentID       0\n",
              "WktGeom         0\n",
              "street          0\n",
              "fromSt          0\n",
              "toSt         2002\n",
              "Direction       0\n",
              "dtype: int64"
            ]
          },
          "metadata": {},
          "execution_count": 43
        }
      ]
    },
    {
      "cell_type": "code",
      "source": [
        "%%time\n",
        "ddf = ddf.dropna()"
      ],
      "metadata": {
        "colab": {
          "base_uri": "https://localhost:8080/"
        },
        "id": "eJZxFcpGCgye",
        "outputId": "ae82da17-eab1-4689-fb90-cd3da3b6182e"
      },
      "execution_count": null,
      "outputs": [
        {
          "output_type": "stream",
          "name": "stdout",
          "text": [
            "CPU times: user 9.74 ms, sys: 945 µs, total: 10.7 ms\n",
            "Wall time: 10.7 ms\n"
          ]
        }
      ]
    },
    {
      "cell_type": "code",
      "source": [
        "ddf.isnull().sum().compute()"
      ],
      "metadata": {
        "colab": {
          "base_uri": "https://localhost:8080/"
        },
        "id": "K4IwILKaCgoF",
        "outputId": "f199c5aa-70d3-481a-d1de-120661d92b85"
      },
      "execution_count": null,
      "outputs": [
        {
          "output_type": "execute_result",
          "data": {
            "text/plain": [
              "RequestID    0\n",
              "Boro         0\n",
              "Yr           0\n",
              "M            0\n",
              "D            0\n",
              "HH           0\n",
              "MM           0\n",
              "Vol          0\n",
              "SegmentID    0\n",
              "WktGeom      0\n",
              "street       0\n",
              "fromSt       0\n",
              "toSt         0\n",
              "Direction    0\n",
              "dtype: int64"
            ]
          },
          "metadata": {},
          "execution_count": 45
        }
      ]
    },
    {
      "cell_type": "markdown",
      "source": [
        "**Drop dupilcated rows**\n",
        "\n",
        "We will remove duplicate data because it may contaminate our result later."
      ],
      "metadata": {
        "id": "mEVdTYlDCihm"
      }
    },
    {
      "cell_type": "markdown",
      "source": [
        "**1. Koalas**"
      ],
      "metadata": {
        "id": "rJuQR7EwCsIV"
      }
    },
    {
      "cell_type": "code",
      "source": [
        "print('(',len(kdf),',',len(kdf.columns),')')"
      ],
      "metadata": {
        "colab": {
          "base_uri": "https://localhost:8080/"
        },
        "id": "qMnSezUlCjAW",
        "outputId": "1ec42d40-cee2-4235-da7c-b623171e0093"
      },
      "execution_count": null,
      "outputs": [
        {
          "output_type": "stream",
          "name": "stdout",
          "text": [
            "( 27188509 , 14 )\n"
          ]
        }
      ]
    },
    {
      "cell_type": "code",
      "source": [
        "%%time\n",
        "kdf = kdf.drop_duplicates()"
      ],
      "metadata": {
        "colab": {
          "base_uri": "https://localhost:8080/"
        },
        "id": "GGatiaeWCu8l",
        "outputId": "ae2b7e08-6fa0-433a-ac95-e128e9ffc790"
      },
      "execution_count": 12,
      "outputs": [
        {
          "output_type": "stream",
          "name": "stdout",
          "text": [
            "CPU times: user 43 ms, sys: 12.6 ms, total: 55.6 ms\n",
            "Wall time: 219 ms\n"
          ]
        }
      ]
    },
    {
      "cell_type": "code",
      "source": [
        "print('(',len(kdf),',',len(kdf.columns),')')"
      ],
      "metadata": {
        "colab": {
          "base_uri": "https://localhost:8080/"
        },
        "id": "lGCAsmkvCuvW",
        "outputId": "0b1465d4-34b7-4366-ec7e-9b79fff69e33"
      },
      "execution_count": null,
      "outputs": [
        {
          "output_type": "stream",
          "name": "stdout",
          "text": [
            "( 26872239 , 14 )\n"
          ]
        }
      ]
    },
    {
      "cell_type": "markdown",
      "source": [
        "**2. PySpark**"
      ],
      "metadata": {
        "id": "0mFKbpR3CvNl"
      }
    },
    {
      "cell_type": "code",
      "source": [
        "print('(',s_df.count(),',',len(s_df.columns),')')"
      ],
      "metadata": {
        "colab": {
          "base_uri": "https://localhost:8080/"
        },
        "id": "qaE5F35vCxBW",
        "outputId": "e0ca08a1-4787-4a5c-ac28-0cb45ce0200b"
      },
      "execution_count": null,
      "outputs": [
        {
          "output_type": "stream",
          "name": "stdout",
          "text": [
            "( 27188509 , 14 )\n"
          ]
        }
      ]
    },
    {
      "cell_type": "code",
      "source": [
        "%%time\n",
        "s_df = s_df.dropDuplicates()"
      ],
      "metadata": {
        "colab": {
          "base_uri": "https://localhost:8080/"
        },
        "id": "RZlooJPXCyyG",
        "outputId": "3ece6e7b-c160-4a20-f0e8-378f9b66b1df"
      },
      "execution_count": null,
      "outputs": [
        {
          "output_type": "stream",
          "name": "stdout",
          "text": [
            "CPU times: user 1.92 ms, sys: 360 µs, total: 2.28 ms\n",
            "Wall time: 15.7 ms\n"
          ]
        }
      ]
    },
    {
      "cell_type": "code",
      "source": [
        "print('(',s_df.count(),',',len(s_df.columns),')')"
      ],
      "metadata": {
        "colab": {
          "base_uri": "https://localhost:8080/"
        },
        "id": "c7_A3LcqCyvl",
        "outputId": "d2f27f5a-9872-4424-a207-0d20172c789a"
      },
      "execution_count": null,
      "outputs": [
        {
          "output_type": "stream",
          "name": "stdout",
          "text": [
            "( 26872239 , 14 )\n"
          ]
        }
      ]
    },
    {
      "cell_type": "markdown",
      "source": [
        "**3. Dask**"
      ],
      "metadata": {
        "id": "8MUJjJzdCzRt"
      }
    },
    {
      "cell_type": "code",
      "source": [
        "print('(',len(ddf),',',len(ddf.columns),')')"
      ],
      "metadata": {
        "colab": {
          "base_uri": "https://localhost:8080/"
        },
        "id": "CJJLa-CoC01c",
        "outputId": "df856eb0-2597-4e7b-f20d-db9d089c1d88"
      },
      "execution_count": null,
      "outputs": [
        {
          "output_type": "stream",
          "name": "stdout",
          "text": [
            "( 27188509 , 14 )\n"
          ]
        }
      ]
    },
    {
      "cell_type": "code",
      "source": [
        "%%time\n",
        "ddf = ddf.drop_duplicates()"
      ],
      "metadata": {
        "colab": {
          "base_uri": "https://localhost:8080/"
        },
        "id": "3ItsGV4fC81l",
        "outputId": "14a0bad7-2487-4297-9c96-ae64c270b3e2"
      },
      "execution_count": null,
      "outputs": [
        {
          "output_type": "stream",
          "name": "stdout",
          "text": [
            "CPU times: user 12 ms, sys: 866 µs, total: 12.9 ms\n",
            "Wall time: 13.9 ms\n"
          ]
        }
      ]
    },
    {
      "cell_type": "code",
      "source": [
        "print('(',len(ddf),',',len(ddf.columns),')')"
      ],
      "metadata": {
        "colab": {
          "base_uri": "https://localhost:8080/"
        },
        "id": "Z2RiR1CFC8r2",
        "outputId": "44f9ca65-b1c9-4a9a-b20b-d8221426e90c"
      },
      "execution_count": null,
      "outputs": [
        {
          "output_type": "stream",
          "name": "stdout",
          "text": [
            "( 26872239 , 14 )\n"
          ]
        }
      ]
    },
    {
      "cell_type": "markdown",
      "source": [
        "## Exploratory Analysis and Visualization"
      ],
      "metadata": {
        "id": "eTC3wZjtDD2-"
      }
    },
    {
      "cell_type": "markdown",
      "source": [
        "**Statistic**\n",
        "\n",
        "The summary of each column has been shown by using describe function."
      ],
      "metadata": {
        "id": "c9knWRY_DShe"
      }
    },
    {
      "cell_type": "markdown",
      "source": [
        "**1. Koalas**"
      ],
      "metadata": {
        "id": "f0Wei11hDYQ-"
      }
    },
    {
      "cell_type": "code",
      "source": [
        "kdf.describe()"
      ],
      "metadata": {
        "colab": {
          "base_uri": "https://localhost:8080/",
          "height": 300
        },
        "id": "GkuXUabdDHw1",
        "outputId": "5b683c24-c9b7-49ca-e7cd-89907a309951"
      },
      "execution_count": null,
      "outputs": [
        {
          "output_type": "execute_result",
          "data": {
            "text/plain": [
              "          RequestID            Yr             M             D            HH            MM           Vol     SegmentID\n",
              "count  2.687224e+07  2.687224e+07  2.687224e+07  2.687224e+07  2.687224e+07  2.687224e+07  2.687224e+07  2.687224e+07\n",
              "mean   1.933668e+04  2.014701e+03  7.033458e+00  1.564205e+01  1.151157e+01  2.246783e+01  1.068877e+02  3.202635e+05\n",
              "std    8.132072e+03  2.805388e+00  3.317070e+00  8.187555e+00  6.924605e+00  1.677902e+01  1.570096e+02  1.407291e+06\n",
              "min    1.100000e+03  2.000000e+03  1.000000e+00  1.000000e+00  0.000000e+00  0.000000e+00 -1.000000e+00  4.400000e+01\n",
              "25%    1.257600e+04  2.013000e+03  4.000000e+00  9.000000e+00  6.000000e+00  0.000000e+00  2.000000e+01  3.636400e+04\n",
              "50%    2.026300e+04  2.015000e+03  7.000000e+00  1.600000e+01  1.200000e+01  1.500000e+01  5.900000e+01  7.899100e+04\n",
              "75%    2.629100e+04  2.017000e+03  1.000000e+01  2.200000e+01  1.800000e+01  3.000000e+01  1.300000e+02  1.515280e+05\n",
              "max    3.241800e+04  2.020000e+03  1.200000e+01  3.100000e+01  2.300000e+01  4.500000e+01  3.276700e+04  9.017093e+06"
            ],
            "text/html": [
              "<div>\n",
              "<style scoped>\n",
              "    .dataframe tbody tr th:only-of-type {\n",
              "        vertical-align: middle;\n",
              "    }\n",
              "\n",
              "    .dataframe tbody tr th {\n",
              "        vertical-align: top;\n",
              "    }\n",
              "\n",
              "    .dataframe thead th {\n",
              "        text-align: right;\n",
              "    }\n",
              "</style>\n",
              "<table border=\"1\" class=\"dataframe\">\n",
              "  <thead>\n",
              "    <tr style=\"text-align: right;\">\n",
              "      <th></th>\n",
              "      <th>RequestID</th>\n",
              "      <th>Yr</th>\n",
              "      <th>M</th>\n",
              "      <th>D</th>\n",
              "      <th>HH</th>\n",
              "      <th>MM</th>\n",
              "      <th>Vol</th>\n",
              "      <th>SegmentID</th>\n",
              "    </tr>\n",
              "  </thead>\n",
              "  <tbody>\n",
              "    <tr>\n",
              "      <th>count</th>\n",
              "      <td>2.687224e+07</td>\n",
              "      <td>2.687224e+07</td>\n",
              "      <td>2.687224e+07</td>\n",
              "      <td>2.687224e+07</td>\n",
              "      <td>2.687224e+07</td>\n",
              "      <td>2.687224e+07</td>\n",
              "      <td>2.687224e+07</td>\n",
              "      <td>2.687224e+07</td>\n",
              "    </tr>\n",
              "    <tr>\n",
              "      <th>mean</th>\n",
              "      <td>1.933668e+04</td>\n",
              "      <td>2.014701e+03</td>\n",
              "      <td>7.033458e+00</td>\n",
              "      <td>1.564205e+01</td>\n",
              "      <td>1.151157e+01</td>\n",
              "      <td>2.246783e+01</td>\n",
              "      <td>1.068877e+02</td>\n",
              "      <td>3.202635e+05</td>\n",
              "    </tr>\n",
              "    <tr>\n",
              "      <th>std</th>\n",
              "      <td>8.132072e+03</td>\n",
              "      <td>2.805388e+00</td>\n",
              "      <td>3.317070e+00</td>\n",
              "      <td>8.187555e+00</td>\n",
              "      <td>6.924605e+00</td>\n",
              "      <td>1.677902e+01</td>\n",
              "      <td>1.570096e+02</td>\n",
              "      <td>1.407291e+06</td>\n",
              "    </tr>\n",
              "    <tr>\n",
              "      <th>min</th>\n",
              "      <td>1.100000e+03</td>\n",
              "      <td>2.000000e+03</td>\n",
              "      <td>1.000000e+00</td>\n",
              "      <td>1.000000e+00</td>\n",
              "      <td>0.000000e+00</td>\n",
              "      <td>0.000000e+00</td>\n",
              "      <td>-1.000000e+00</td>\n",
              "      <td>4.400000e+01</td>\n",
              "    </tr>\n",
              "    <tr>\n",
              "      <th>25%</th>\n",
              "      <td>1.257600e+04</td>\n",
              "      <td>2.013000e+03</td>\n",
              "      <td>4.000000e+00</td>\n",
              "      <td>9.000000e+00</td>\n",
              "      <td>6.000000e+00</td>\n",
              "      <td>0.000000e+00</td>\n",
              "      <td>2.000000e+01</td>\n",
              "      <td>3.636400e+04</td>\n",
              "    </tr>\n",
              "    <tr>\n",
              "      <th>50%</th>\n",
              "      <td>2.026300e+04</td>\n",
              "      <td>2.015000e+03</td>\n",
              "      <td>7.000000e+00</td>\n",
              "      <td>1.600000e+01</td>\n",
              "      <td>1.200000e+01</td>\n",
              "      <td>1.500000e+01</td>\n",
              "      <td>5.900000e+01</td>\n",
              "      <td>7.899100e+04</td>\n",
              "    </tr>\n",
              "    <tr>\n",
              "      <th>75%</th>\n",
              "      <td>2.629100e+04</td>\n",
              "      <td>2.017000e+03</td>\n",
              "      <td>1.000000e+01</td>\n",
              "      <td>2.200000e+01</td>\n",
              "      <td>1.800000e+01</td>\n",
              "      <td>3.000000e+01</td>\n",
              "      <td>1.300000e+02</td>\n",
              "      <td>1.515280e+05</td>\n",
              "    </tr>\n",
              "    <tr>\n",
              "      <th>max</th>\n",
              "      <td>3.241800e+04</td>\n",
              "      <td>2.020000e+03</td>\n",
              "      <td>1.200000e+01</td>\n",
              "      <td>3.100000e+01</td>\n",
              "      <td>2.300000e+01</td>\n",
              "      <td>4.500000e+01</td>\n",
              "      <td>3.276700e+04</td>\n",
              "      <td>9.017093e+06</td>\n",
              "    </tr>\n",
              "  </tbody>\n",
              "</table>\n",
              "</div>"
            ]
          },
          "metadata": {},
          "execution_count": 10
        }
      ]
    },
    {
      "cell_type": "markdown",
      "source": [
        "**2. PySpark**"
      ],
      "metadata": {
        "id": "1_pXqKGYDcK2"
      }
    },
    {
      "cell_type": "code",
      "source": [
        "s_df.describe().show()"
      ],
      "metadata": {
        "colab": {
          "base_uri": "https://localhost:8080/"
        },
        "id": "VEO8ZT_gDeWm",
        "outputId": "e9ea0ecf-14ee-4520-e0c3-46d38ca93a35"
      },
      "execution_count": null,
      "outputs": [
        {
          "output_type": "stream",
          "name": "stdout",
          "text": [
            "+-------+------------------+-------------+------------------+------------------+------------------+------------------+------------------+------------------+------------------+--------------------+----------+--------------------+--------------------+---------+\n",
            "|summary|         RequestID|         Boro|                Yr|                 M|                 D|                HH|                MM|               Vol|         SegmentID|             WktGeom|    street|              fromSt|                toSt|Direction|\n",
            "+-------+------------------+-------------+------------------+------------------+------------------+------------------+------------------+------------------+------------------+--------------------+----------+--------------------+--------------------+---------+\n",
            "|  count|          26872239|     26872239|          26872239|          26872239|          26872239|          26872239|          26872239|          26872239|          26872239|            26872239|  26872239|            26872239|            26872239| 26872239|\n",
            "|   mean|19336.676539122775|         null|2014.7007368831455| 7.033458283844528|15.642051970436851|11.511569616510183|22.467828043655015|106.88768382865305|320263.54019637144|                null|      null|                null|                null|     null|\n",
            "| stddev| 8132.072182579992|         null|2.8053876831023774|3.3170697791520656| 8.187554750517577| 6.924605234854879|16.779017329526955|157.00956090905007|1407291.1563272825|                null|      null|                null|                null|     null|\n",
            "|    min|             10105|        Bronx|              2000|                 1|                 1|                 0|                 0|                -1|             10012|POINT (1000002.81...|      1 AV|     0.000 Undefined|***ATR was moved ...|       EB|\n",
            "|    max|              9966|Staten Island|              2020|                 9|                 9|                 9|                45|               999|             99980|POINT (999999.608...|ZULETTE AV|and Floyd Bennet ...|         Zoller Road|       WB|\n",
            "+-------+------------------+-------------+------------------+------------------+------------------+------------------+------------------+------------------+------------------+--------------------+----------+--------------------+--------------------+---------+\n",
            "\n"
          ]
        }
      ]
    },
    {
      "cell_type": "markdown",
      "source": [
        "**3. Dask**"
      ],
      "metadata": {
        "id": "jtzH3e05DfUV"
      }
    },
    {
      "cell_type": "code",
      "source": [
        "ddf.describe().compute()"
      ],
      "metadata": {
        "colab": {
          "base_uri": "https://localhost:8080/",
          "height": 300
        },
        "id": "BYJgKwXsDhal",
        "outputId": "8b60cfb5-a020-4672-ea30-40fe41bd4528"
      },
      "execution_count": null,
      "outputs": [
        {
          "output_type": "execute_result",
          "data": {
            "text/plain": [
              "          RequestID            Yr             M             D            HH  \\\n",
              "count  2.687224e+07  2.687224e+07  2.687224e+07  2.687224e+07  2.687224e+07   \n",
              "mean   1.933668e+04  2.014701e+03  7.033458e+00  1.564205e+01  1.151157e+01   \n",
              "std    8.132072e+03  2.805388e+00  3.317070e+00  8.187555e+00  6.924605e+00   \n",
              "min    1.100000e+03  2.000000e+03  1.000000e+00  1.000000e+00  0.000000e+00   \n",
              "25%    1.257800e+04  2.013000e+03  4.000000e+00  9.000000e+00  6.000000e+00   \n",
              "50%    2.027300e+04  2.015000e+03  7.000000e+00  1.600000e+01  1.200000e+01   \n",
              "75%    2.629100e+04  2.017000e+03  1.000000e+01  2.200000e+01  1.800000e+01   \n",
              "max    3.241800e+04  2.020000e+03  1.200000e+01  3.100000e+01  2.300000e+01   \n",
              "\n",
              "                 MM           Vol     SegmentID  \n",
              "count  2.687224e+07  2.687224e+07  2.687224e+07  \n",
              "mean   2.246783e+01  1.068877e+02  3.202635e+05  \n",
              "std    1.677902e+01  1.570096e+02  1.407291e+06  \n",
              "min    0.000000e+00 -1.000000e+00  4.400000e+01  \n",
              "25%    0.000000e+00  2.000000e+01  3.636400e+04  \n",
              "50%    1.500000e+01  5.900000e+01  7.899100e+04  \n",
              "75%    3.000000e+01  1.300000e+02  1.515370e+05  \n",
              "max    4.500000e+01  3.276700e+04  9.017093e+06  "
            ],
            "text/html": [
              "\n",
              "  <div id=\"df-3c0abacf-52c0-45c4-96b2-181aab4b47fa\">\n",
              "    <div class=\"colab-df-container\">\n",
              "      <div>\n",
              "<style scoped>\n",
              "    .dataframe tbody tr th:only-of-type {\n",
              "        vertical-align: middle;\n",
              "    }\n",
              "\n",
              "    .dataframe tbody tr th {\n",
              "        vertical-align: top;\n",
              "    }\n",
              "\n",
              "    .dataframe thead th {\n",
              "        text-align: right;\n",
              "    }\n",
              "</style>\n",
              "<table border=\"1\" class=\"dataframe\">\n",
              "  <thead>\n",
              "    <tr style=\"text-align: right;\">\n",
              "      <th></th>\n",
              "      <th>RequestID</th>\n",
              "      <th>Yr</th>\n",
              "      <th>M</th>\n",
              "      <th>D</th>\n",
              "      <th>HH</th>\n",
              "      <th>MM</th>\n",
              "      <th>Vol</th>\n",
              "      <th>SegmentID</th>\n",
              "    </tr>\n",
              "  </thead>\n",
              "  <tbody>\n",
              "    <tr>\n",
              "      <th>count</th>\n",
              "      <td>2.687224e+07</td>\n",
              "      <td>2.687224e+07</td>\n",
              "      <td>2.687224e+07</td>\n",
              "      <td>2.687224e+07</td>\n",
              "      <td>2.687224e+07</td>\n",
              "      <td>2.687224e+07</td>\n",
              "      <td>2.687224e+07</td>\n",
              "      <td>2.687224e+07</td>\n",
              "    </tr>\n",
              "    <tr>\n",
              "      <th>mean</th>\n",
              "      <td>1.933668e+04</td>\n",
              "      <td>2.014701e+03</td>\n",
              "      <td>7.033458e+00</td>\n",
              "      <td>1.564205e+01</td>\n",
              "      <td>1.151157e+01</td>\n",
              "      <td>2.246783e+01</td>\n",
              "      <td>1.068877e+02</td>\n",
              "      <td>3.202635e+05</td>\n",
              "    </tr>\n",
              "    <tr>\n",
              "      <th>std</th>\n",
              "      <td>8.132072e+03</td>\n",
              "      <td>2.805388e+00</td>\n",
              "      <td>3.317070e+00</td>\n",
              "      <td>8.187555e+00</td>\n",
              "      <td>6.924605e+00</td>\n",
              "      <td>1.677902e+01</td>\n",
              "      <td>1.570096e+02</td>\n",
              "      <td>1.407291e+06</td>\n",
              "    </tr>\n",
              "    <tr>\n",
              "      <th>min</th>\n",
              "      <td>1.100000e+03</td>\n",
              "      <td>2.000000e+03</td>\n",
              "      <td>1.000000e+00</td>\n",
              "      <td>1.000000e+00</td>\n",
              "      <td>0.000000e+00</td>\n",
              "      <td>0.000000e+00</td>\n",
              "      <td>-1.000000e+00</td>\n",
              "      <td>4.400000e+01</td>\n",
              "    </tr>\n",
              "    <tr>\n",
              "      <th>25%</th>\n",
              "      <td>1.257800e+04</td>\n",
              "      <td>2.013000e+03</td>\n",
              "      <td>4.000000e+00</td>\n",
              "      <td>9.000000e+00</td>\n",
              "      <td>6.000000e+00</td>\n",
              "      <td>0.000000e+00</td>\n",
              "      <td>2.000000e+01</td>\n",
              "      <td>3.636400e+04</td>\n",
              "    </tr>\n",
              "    <tr>\n",
              "      <th>50%</th>\n",
              "      <td>2.027300e+04</td>\n",
              "      <td>2.015000e+03</td>\n",
              "      <td>7.000000e+00</td>\n",
              "      <td>1.600000e+01</td>\n",
              "      <td>1.200000e+01</td>\n",
              "      <td>1.500000e+01</td>\n",
              "      <td>5.900000e+01</td>\n",
              "      <td>7.899100e+04</td>\n",
              "    </tr>\n",
              "    <tr>\n",
              "      <th>75%</th>\n",
              "      <td>2.629100e+04</td>\n",
              "      <td>2.017000e+03</td>\n",
              "      <td>1.000000e+01</td>\n",
              "      <td>2.200000e+01</td>\n",
              "      <td>1.800000e+01</td>\n",
              "      <td>3.000000e+01</td>\n",
              "      <td>1.300000e+02</td>\n",
              "      <td>1.515370e+05</td>\n",
              "    </tr>\n",
              "    <tr>\n",
              "      <th>max</th>\n",
              "      <td>3.241800e+04</td>\n",
              "      <td>2.020000e+03</td>\n",
              "      <td>1.200000e+01</td>\n",
              "      <td>3.100000e+01</td>\n",
              "      <td>2.300000e+01</td>\n",
              "      <td>4.500000e+01</td>\n",
              "      <td>3.276700e+04</td>\n",
              "      <td>9.017093e+06</td>\n",
              "    </tr>\n",
              "  </tbody>\n",
              "</table>\n",
              "</div>\n",
              "      <button class=\"colab-df-convert\" onclick=\"convertToInteractive('df-3c0abacf-52c0-45c4-96b2-181aab4b47fa')\"\n",
              "              title=\"Convert this dataframe to an interactive table.\"\n",
              "              style=\"display:none;\">\n",
              "        \n",
              "  <svg xmlns=\"http://www.w3.org/2000/svg\" height=\"24px\"viewBox=\"0 0 24 24\"\n",
              "       width=\"24px\">\n",
              "    <path d=\"M0 0h24v24H0V0z\" fill=\"none\"/>\n",
              "    <path d=\"M18.56 5.44l.94 2.06.94-2.06 2.06-.94-2.06-.94-.94-2.06-.94 2.06-2.06.94zm-11 1L8.5 8.5l.94-2.06 2.06-.94-2.06-.94L8.5 2.5l-.94 2.06-2.06.94zm10 10l.94 2.06.94-2.06 2.06-.94-2.06-.94-.94-2.06-.94 2.06-2.06.94z\"/><path d=\"M17.41 7.96l-1.37-1.37c-.4-.4-.92-.59-1.43-.59-.52 0-1.04.2-1.43.59L10.3 9.45l-7.72 7.72c-.78.78-.78 2.05 0 2.83L4 21.41c.39.39.9.59 1.41.59.51 0 1.02-.2 1.41-.59l7.78-7.78 2.81-2.81c.8-.78.8-2.07 0-2.86zM5.41 20L4 18.59l7.72-7.72 1.47 1.35L5.41 20z\"/>\n",
              "  </svg>\n",
              "      </button>\n",
              "      \n",
              "  <style>\n",
              "    .colab-df-container {\n",
              "      display:flex;\n",
              "      flex-wrap:wrap;\n",
              "      gap: 12px;\n",
              "    }\n",
              "\n",
              "    .colab-df-convert {\n",
              "      background-color: #E8F0FE;\n",
              "      border: none;\n",
              "      border-radius: 50%;\n",
              "      cursor: pointer;\n",
              "      display: none;\n",
              "      fill: #1967D2;\n",
              "      height: 32px;\n",
              "      padding: 0 0 0 0;\n",
              "      width: 32px;\n",
              "    }\n",
              "\n",
              "    .colab-df-convert:hover {\n",
              "      background-color: #E2EBFA;\n",
              "      box-shadow: 0px 1px 2px rgba(60, 64, 67, 0.3), 0px 1px 3px 1px rgba(60, 64, 67, 0.15);\n",
              "      fill: #174EA6;\n",
              "    }\n",
              "\n",
              "    [theme=dark] .colab-df-convert {\n",
              "      background-color: #3B4455;\n",
              "      fill: #D2E3FC;\n",
              "    }\n",
              "\n",
              "    [theme=dark] .colab-df-convert:hover {\n",
              "      background-color: #434B5C;\n",
              "      box-shadow: 0px 1px 3px 1px rgba(0, 0, 0, 0.15);\n",
              "      filter: drop-shadow(0px 1px 2px rgba(0, 0, 0, 0.3));\n",
              "      fill: #FFFFFF;\n",
              "    }\n",
              "  </style>\n",
              "\n",
              "      <script>\n",
              "        const buttonEl =\n",
              "          document.querySelector('#df-3c0abacf-52c0-45c4-96b2-181aab4b47fa button.colab-df-convert');\n",
              "        buttonEl.style.display =\n",
              "          google.colab.kernel.accessAllowed ? 'block' : 'none';\n",
              "\n",
              "        async function convertToInteractive(key) {\n",
              "          const element = document.querySelector('#df-3c0abacf-52c0-45c4-96b2-181aab4b47fa');\n",
              "          const dataTable =\n",
              "            await google.colab.kernel.invokeFunction('convertToInteractive',\n",
              "                                                     [key], {});\n",
              "          if (!dataTable) return;\n",
              "\n",
              "          const docLinkHtml = 'Like what you see? Visit the ' +\n",
              "            '<a target=\"_blank\" href=https://colab.research.google.com/notebooks/data_table.ipynb>data table notebook</a>'\n",
              "            + ' to learn more about interactive tables.';\n",
              "          element.innerHTML = '';\n",
              "          dataTable['output_type'] = 'display_data';\n",
              "          await google.colab.output.renderOutput(dataTable, element);\n",
              "          const docLink = document.createElement('div');\n",
              "          docLink.innerHTML = docLinkHtml;\n",
              "          element.appendChild(docLink);\n",
              "        }\n",
              "      </script>\n",
              "    </div>\n",
              "  </div>\n",
              "  "
            ]
          },
          "metadata": {},
          "execution_count": 49
        }
      ]
    },
    {
      "cell_type": "markdown",
      "source": [
        "**Yearly Distribution**\n",
        "\n",
        "Let's take a look at the number of distribution of years in the dataset using three different library on pie chart and bar chart."
      ],
      "metadata": {
        "id": "xqtARhRHDkD9"
      }
    },
    {
      "cell_type": "markdown",
      "source": [
        "**1. Koalas**"
      ],
      "metadata": {
        "id": "IK7IMEbEDsUW"
      }
    },
    {
      "cell_type": "code",
      "source": [
        "import matplotlib.pyplot as plt\n",
        "%time kdf['Yr'].value_counts().plot.pie()"
      ],
      "metadata": {
        "colab": {
          "base_uri": "https://localhost:8080/",
          "height": 577
        },
        "id": "8cpuHRlJDkwm",
        "outputId": "4c70b64a-9ed2-4fad-ad20-e05511c92ef1"
      },
      "execution_count": null,
      "outputs": [
        {
          "output_type": "stream",
          "name": "stdout",
          "text": [
            "CPU times: user 1.36 s, sys: 224 ms, total: 1.59 s\n",
            "Wall time: 1min 28s\n"
          ]
        },
        {
          "output_type": "display_data",
          "data": {
            "text/html": [
              "<html>\n",
              "<head><meta charset=\"utf-8\" /></head>\n",
              "<body>\n",
              "    <div>            <script src=\"https://cdnjs.cloudflare.com/ajax/libs/mathjax/2.7.5/MathJax.js?config=TeX-AMS-MML_SVG\"></script><script type=\"text/javascript\">if (window.MathJax) {MathJax.Hub.Config({SVG: {font: \"STIX-Web\"}});}</script>                <script type=\"text/javascript\">window.PlotlyConfig = {MathJaxConfig: 'local'};</script>\n",
              "        <script src=\"https://cdn.plot.ly/plotly-2.8.3.min.js\"></script>                <div id=\"a4ca1b31-4717-450e-ba64-af68a57f0837\" class=\"plotly-graph-div\" style=\"height:525px; width:100%;\"></div>            <script type=\"text/javascript\">                                    window.PLOTLYENV=window.PLOTLYENV || {};                                    if (document.getElementById(\"a4ca1b31-4717-450e-ba64-af68a57f0837\")) {                    Plotly.newPlot(                        \"a4ca1b31-4717-450e-ba64-af68a57f0837\",                        [{\"domain\":{\"x\":[0.0,1.0],\"y\":[0.0,1.0]},\"hovertemplate\":\"index=%{label}<br>Yr=%{value}<extra></extra>\",\"labels\":[2014,2016,2015,2017,2013,2012,2019,2018,2010,2011,2009,2020,2008,2007,2000,2006],\"legendgroup\":\"\",\"name\":\"\",\"showlegend\":true,\"values\":[3655476,3340052,3190899,2956673,2792927,2417458,2343577,2039342,1412456,1191678,1009073,439689,68591,11780,1904,664],\"type\":\"pie\"}],                        {\"template\":{\"data\":{\"bar\":[{\"error_x\":{\"color\":\"#2a3f5f\"},\"error_y\":{\"color\":\"#2a3f5f\"},\"marker\":{\"line\":{\"color\":\"#E5ECF6\",\"width\":0.5},\"pattern\":{\"fillmode\":\"overlay\",\"size\":10,\"solidity\":0.2}},\"type\":\"bar\"}],\"barpolar\":[{\"marker\":{\"line\":{\"color\":\"#E5ECF6\",\"width\":0.5},\"pattern\":{\"fillmode\":\"overlay\",\"size\":10,\"solidity\":0.2}},\"type\":\"barpolar\"}],\"carpet\":[{\"aaxis\":{\"endlinecolor\":\"#2a3f5f\",\"gridcolor\":\"white\",\"linecolor\":\"white\",\"minorgridcolor\":\"white\",\"startlinecolor\":\"#2a3f5f\"},\"baxis\":{\"endlinecolor\":\"#2a3f5f\",\"gridcolor\":\"white\",\"linecolor\":\"white\",\"minorgridcolor\":\"white\",\"startlinecolor\":\"#2a3f5f\"},\"type\":\"carpet\"}],\"choropleth\":[{\"colorbar\":{\"outlinewidth\":0,\"ticks\":\"\"},\"type\":\"choropleth\"}],\"contour\":[{\"colorbar\":{\"outlinewidth\":0,\"ticks\":\"\"},\"colorscale\":[[0.0,\"#0d0887\"],[0.1111111111111111,\"#46039f\"],[0.2222222222222222,\"#7201a8\"],[0.3333333333333333,\"#9c179e\"],[0.4444444444444444,\"#bd3786\"],[0.5555555555555556,\"#d8576b\"],[0.6666666666666666,\"#ed7953\"],[0.7777777777777778,\"#fb9f3a\"],[0.8888888888888888,\"#fdca26\"],[1.0,\"#f0f921\"]],\"type\":\"contour\"}],\"contourcarpet\":[{\"colorbar\":{\"outlinewidth\":0,\"ticks\":\"\"},\"type\":\"contourcarpet\"}],\"heatmap\":[{\"colorbar\":{\"outlinewidth\":0,\"ticks\":\"\"},\"colorscale\":[[0.0,\"#0d0887\"],[0.1111111111111111,\"#46039f\"],[0.2222222222222222,\"#7201a8\"],[0.3333333333333333,\"#9c179e\"],[0.4444444444444444,\"#bd3786\"],[0.5555555555555556,\"#d8576b\"],[0.6666666666666666,\"#ed7953\"],[0.7777777777777778,\"#fb9f3a\"],[0.8888888888888888,\"#fdca26\"],[1.0,\"#f0f921\"]],\"type\":\"heatmap\"}],\"heatmapgl\":[{\"colorbar\":{\"outlinewidth\":0,\"ticks\":\"\"},\"colorscale\":[[0.0,\"#0d0887\"],[0.1111111111111111,\"#46039f\"],[0.2222222222222222,\"#7201a8\"],[0.3333333333333333,\"#9c179e\"],[0.4444444444444444,\"#bd3786\"],[0.5555555555555556,\"#d8576b\"],[0.6666666666666666,\"#ed7953\"],[0.7777777777777778,\"#fb9f3a\"],[0.8888888888888888,\"#fdca26\"],[1.0,\"#f0f921\"]],\"type\":\"heatmapgl\"}],\"histogram\":[{\"marker\":{\"pattern\":{\"fillmode\":\"overlay\",\"size\":10,\"solidity\":0.2}},\"type\":\"histogram\"}],\"histogram2d\":[{\"colorbar\":{\"outlinewidth\":0,\"ticks\":\"\"},\"colorscale\":[[0.0,\"#0d0887\"],[0.1111111111111111,\"#46039f\"],[0.2222222222222222,\"#7201a8\"],[0.3333333333333333,\"#9c179e\"],[0.4444444444444444,\"#bd3786\"],[0.5555555555555556,\"#d8576b\"],[0.6666666666666666,\"#ed7953\"],[0.7777777777777778,\"#fb9f3a\"],[0.8888888888888888,\"#fdca26\"],[1.0,\"#f0f921\"]],\"type\":\"histogram2d\"}],\"histogram2dcontour\":[{\"colorbar\":{\"outlinewidth\":0,\"ticks\":\"\"},\"colorscale\":[[0.0,\"#0d0887\"],[0.1111111111111111,\"#46039f\"],[0.2222222222222222,\"#7201a8\"],[0.3333333333333333,\"#9c179e\"],[0.4444444444444444,\"#bd3786\"],[0.5555555555555556,\"#d8576b\"],[0.6666666666666666,\"#ed7953\"],[0.7777777777777778,\"#fb9f3a\"],[0.8888888888888888,\"#fdca26\"],[1.0,\"#f0f921\"]],\"type\":\"histogram2dcontour\"}],\"mesh3d\":[{\"colorbar\":{\"outlinewidth\":0,\"ticks\":\"\"},\"type\":\"mesh3d\"}],\"parcoords\":[{\"line\":{\"colorbar\":{\"outlinewidth\":0,\"ticks\":\"\"}},\"type\":\"parcoords\"}],\"pie\":[{\"automargin\":true,\"type\":\"pie\"}],\"scatter\":[{\"marker\":{\"colorbar\":{\"outlinewidth\":0,\"ticks\":\"\"}},\"type\":\"scatter\"}],\"scatter3d\":[{\"line\":{\"colorbar\":{\"outlinewidth\":0,\"ticks\":\"\"}},\"marker\":{\"colorbar\":{\"outlinewidth\":0,\"ticks\":\"\"}},\"type\":\"scatter3d\"}],\"scattercarpet\":[{\"marker\":{\"colorbar\":{\"outlinewidth\":0,\"ticks\":\"\"}},\"type\":\"scattercarpet\"}],\"scattergeo\":[{\"marker\":{\"colorbar\":{\"outlinewidth\":0,\"ticks\":\"\"}},\"type\":\"scattergeo\"}],\"scattergl\":[{\"marker\":{\"colorbar\":{\"outlinewidth\":0,\"ticks\":\"\"}},\"type\":\"scattergl\"}],\"scattermapbox\":[{\"marker\":{\"colorbar\":{\"outlinewidth\":0,\"ticks\":\"\"}},\"type\":\"scattermapbox\"}],\"scatterpolar\":[{\"marker\":{\"colorbar\":{\"outlinewidth\":0,\"ticks\":\"\"}},\"type\":\"scatterpolar\"}],\"scatterpolargl\":[{\"marker\":{\"colorbar\":{\"outlinewidth\":0,\"ticks\":\"\"}},\"type\":\"scatterpolargl\"}],\"scatterternary\":[{\"marker\":{\"colorbar\":{\"outlinewidth\":0,\"ticks\":\"\"}},\"type\":\"scatterternary\"}],\"surface\":[{\"colorbar\":{\"outlinewidth\":0,\"ticks\":\"\"},\"colorscale\":[[0.0,\"#0d0887\"],[0.1111111111111111,\"#46039f\"],[0.2222222222222222,\"#7201a8\"],[0.3333333333333333,\"#9c179e\"],[0.4444444444444444,\"#bd3786\"],[0.5555555555555556,\"#d8576b\"],[0.6666666666666666,\"#ed7953\"],[0.7777777777777778,\"#fb9f3a\"],[0.8888888888888888,\"#fdca26\"],[1.0,\"#f0f921\"]],\"type\":\"surface\"}],\"table\":[{\"cells\":{\"fill\":{\"color\":\"#EBF0F8\"},\"line\":{\"color\":\"white\"}},\"header\":{\"fill\":{\"color\":\"#C8D4E3\"},\"line\":{\"color\":\"white\"}},\"type\":\"table\"}]},\"layout\":{\"annotationdefaults\":{\"arrowcolor\":\"#2a3f5f\",\"arrowhead\":0,\"arrowwidth\":1},\"autotypenumbers\":\"strict\",\"coloraxis\":{\"colorbar\":{\"outlinewidth\":0,\"ticks\":\"\"}},\"colorscale\":{\"diverging\":[[0,\"#8e0152\"],[0.1,\"#c51b7d\"],[0.2,\"#de77ae\"],[0.3,\"#f1b6da\"],[0.4,\"#fde0ef\"],[0.5,\"#f7f7f7\"],[0.6,\"#e6f5d0\"],[0.7,\"#b8e186\"],[0.8,\"#7fbc41\"],[0.9,\"#4d9221\"],[1,\"#276419\"]],\"sequential\":[[0.0,\"#0d0887\"],[0.1111111111111111,\"#46039f\"],[0.2222222222222222,\"#7201a8\"],[0.3333333333333333,\"#9c179e\"],[0.4444444444444444,\"#bd3786\"],[0.5555555555555556,\"#d8576b\"],[0.6666666666666666,\"#ed7953\"],[0.7777777777777778,\"#fb9f3a\"],[0.8888888888888888,\"#fdca26\"],[1.0,\"#f0f921\"]],\"sequentialminus\":[[0.0,\"#0d0887\"],[0.1111111111111111,\"#46039f\"],[0.2222222222222222,\"#7201a8\"],[0.3333333333333333,\"#9c179e\"],[0.4444444444444444,\"#bd3786\"],[0.5555555555555556,\"#d8576b\"],[0.6666666666666666,\"#ed7953\"],[0.7777777777777778,\"#fb9f3a\"],[0.8888888888888888,\"#fdca26\"],[1.0,\"#f0f921\"]]},\"colorway\":[\"#636efa\",\"#EF553B\",\"#00cc96\",\"#ab63fa\",\"#FFA15A\",\"#19d3f3\",\"#FF6692\",\"#B6E880\",\"#FF97FF\",\"#FECB52\"],\"font\":{\"color\":\"#2a3f5f\"},\"geo\":{\"bgcolor\":\"white\",\"lakecolor\":\"white\",\"landcolor\":\"#E5ECF6\",\"showlakes\":true,\"showland\":true,\"subunitcolor\":\"white\"},\"hoverlabel\":{\"align\":\"left\"},\"hovermode\":\"closest\",\"mapbox\":{\"style\":\"light\"},\"paper_bgcolor\":\"white\",\"plot_bgcolor\":\"#E5ECF6\",\"polar\":{\"angularaxis\":{\"gridcolor\":\"white\",\"linecolor\":\"white\",\"ticks\":\"\"},\"bgcolor\":\"#E5ECF6\",\"radialaxis\":{\"gridcolor\":\"white\",\"linecolor\":\"white\",\"ticks\":\"\"}},\"scene\":{\"xaxis\":{\"backgroundcolor\":\"#E5ECF6\",\"gridcolor\":\"white\",\"gridwidth\":2,\"linecolor\":\"white\",\"showbackground\":true,\"ticks\":\"\",\"zerolinecolor\":\"white\"},\"yaxis\":{\"backgroundcolor\":\"#E5ECF6\",\"gridcolor\":\"white\",\"gridwidth\":2,\"linecolor\":\"white\",\"showbackground\":true,\"ticks\":\"\",\"zerolinecolor\":\"white\"},\"zaxis\":{\"backgroundcolor\":\"#E5ECF6\",\"gridcolor\":\"white\",\"gridwidth\":2,\"linecolor\":\"white\",\"showbackground\":true,\"ticks\":\"\",\"zerolinecolor\":\"white\"}},\"shapedefaults\":{\"line\":{\"color\":\"#2a3f5f\"}},\"ternary\":{\"aaxis\":{\"gridcolor\":\"white\",\"linecolor\":\"white\",\"ticks\":\"\"},\"baxis\":{\"gridcolor\":\"white\",\"linecolor\":\"white\",\"ticks\":\"\"},\"bgcolor\":\"#E5ECF6\",\"caxis\":{\"gridcolor\":\"white\",\"linecolor\":\"white\",\"ticks\":\"\"}},\"title\":{\"x\":0.05},\"xaxis\":{\"automargin\":true,\"gridcolor\":\"white\",\"linecolor\":\"white\",\"ticks\":\"\",\"title\":{\"standoff\":15},\"zerolinecolor\":\"white\",\"zerolinewidth\":2},\"yaxis\":{\"automargin\":true,\"gridcolor\":\"white\",\"linecolor\":\"white\",\"ticks\":\"\",\"title\":{\"standoff\":15},\"zerolinecolor\":\"white\",\"zerolinewidth\":2}}},\"legend\":{\"tracegroupgap\":0},\"margin\":{\"t\":60}},                        {\"responsive\": true}                    ).then(function(){\n",
              "                            \n",
              "var gd = document.getElementById('a4ca1b31-4717-450e-ba64-af68a57f0837');\n",
              "var x = new MutationObserver(function (mutations, observer) {{\n",
              "        var display = window.getComputedStyle(gd).display;\n",
              "        if (!display || display === 'none') {{\n",
              "            console.log([gd, 'removed!']);\n",
              "            Plotly.purge(gd);\n",
              "            observer.disconnect();\n",
              "        }}\n",
              "}});\n",
              "\n",
              "// Listen for the removal of the full notebook cells\n",
              "var notebookContainer = gd.closest('#notebook-container');\n",
              "if (notebookContainer) {{\n",
              "    x.observe(notebookContainer, {childList: true});\n",
              "}}\n",
              "\n",
              "// Listen for the clearing of the current output cell\n",
              "var outputEl = gd.closest('.output');\n",
              "if (outputEl) {{\n",
              "    x.observe(outputEl, {childList: true});\n",
              "}}\n",
              "\n",
              "                        })                };                            </script>        </div>\n",
              "</body>\n",
              "</html>"
            ]
          },
          "metadata": {}
        }
      ]
    },
    {
      "cell_type": "code",
      "source": [
        "%time kdf['Yr'].value_counts().plot.bar()"
      ],
      "metadata": {
        "colab": {
          "base_uri": "https://localhost:8080/",
          "height": 577
        },
        "id": "PHgD2pYbDvhW",
        "outputId": "5aedaabc-7815-42fb-86d2-2fbe40b9e37a"
      },
      "execution_count": null,
      "outputs": [
        {
          "output_type": "stream",
          "name": "stdout",
          "text": [
            "CPU times: user 711 ms, sys: 61.5 ms, total: 773 ms\n",
            "Wall time: 1min 32s\n"
          ]
        },
        {
          "output_type": "display_data",
          "data": {
            "text/html": [
              "<html>\n",
              "<head><meta charset=\"utf-8\" /></head>\n",
              "<body>\n",
              "    <div>            <script src=\"https://cdnjs.cloudflare.com/ajax/libs/mathjax/2.7.5/MathJax.js?config=TeX-AMS-MML_SVG\"></script><script type=\"text/javascript\">if (window.MathJax) {MathJax.Hub.Config({SVG: {font: \"STIX-Web\"}});}</script>                <script type=\"text/javascript\">window.PlotlyConfig = {MathJaxConfig: 'local'};</script>\n",
              "        <script src=\"https://cdn.plot.ly/plotly-2.8.3.min.js\"></script>                <div id=\"60ba60a2-e273-493c-beb9-91f1c4582641\" class=\"plotly-graph-div\" style=\"height:525px; width:100%;\"></div>            <script type=\"text/javascript\">                                    window.PLOTLYENV=window.PLOTLYENV || {};                                    if (document.getElementById(\"60ba60a2-e273-493c-beb9-91f1c4582641\")) {                    Plotly.newPlot(                        \"60ba60a2-e273-493c-beb9-91f1c4582641\",                        [{\"alignmentgroup\":\"True\",\"hovertemplate\":\"variable=Yr<br>index=%{x}<br>value=%{y}<extra></extra>\",\"legendgroup\":\"Yr\",\"marker\":{\"color\":\"#636efa\",\"pattern\":{\"shape\":\"\"}},\"name\":\"Yr\",\"offsetgroup\":\"Yr\",\"orientation\":\"v\",\"showlegend\":true,\"textposition\":\"auto\",\"x\":[2014,2016,2015,2017,2013,2012,2019,2018,2010,2011,2009,2020,2008,2007,2000,2006],\"xaxis\":\"x\",\"y\":[3655476,3340052,3190899,2956673,2792927,2417458,2343577,2039342,1412456,1191678,1009073,439689,68591,11780,1904,664],\"yaxis\":\"y\",\"type\":\"bar\"}],                        {\"template\":{\"data\":{\"bar\":[{\"error_x\":{\"color\":\"#2a3f5f\"},\"error_y\":{\"color\":\"#2a3f5f\"},\"marker\":{\"line\":{\"color\":\"#E5ECF6\",\"width\":0.5},\"pattern\":{\"fillmode\":\"overlay\",\"size\":10,\"solidity\":0.2}},\"type\":\"bar\"}],\"barpolar\":[{\"marker\":{\"line\":{\"color\":\"#E5ECF6\",\"width\":0.5},\"pattern\":{\"fillmode\":\"overlay\",\"size\":10,\"solidity\":0.2}},\"type\":\"barpolar\"}],\"carpet\":[{\"aaxis\":{\"endlinecolor\":\"#2a3f5f\",\"gridcolor\":\"white\",\"linecolor\":\"white\",\"minorgridcolor\":\"white\",\"startlinecolor\":\"#2a3f5f\"},\"baxis\":{\"endlinecolor\":\"#2a3f5f\",\"gridcolor\":\"white\",\"linecolor\":\"white\",\"minorgridcolor\":\"white\",\"startlinecolor\":\"#2a3f5f\"},\"type\":\"carpet\"}],\"choropleth\":[{\"colorbar\":{\"outlinewidth\":0,\"ticks\":\"\"},\"type\":\"choropleth\"}],\"contour\":[{\"colorbar\":{\"outlinewidth\":0,\"ticks\":\"\"},\"colorscale\":[[0.0,\"#0d0887\"],[0.1111111111111111,\"#46039f\"],[0.2222222222222222,\"#7201a8\"],[0.3333333333333333,\"#9c179e\"],[0.4444444444444444,\"#bd3786\"],[0.5555555555555556,\"#d8576b\"],[0.6666666666666666,\"#ed7953\"],[0.7777777777777778,\"#fb9f3a\"],[0.8888888888888888,\"#fdca26\"],[1.0,\"#f0f921\"]],\"type\":\"contour\"}],\"contourcarpet\":[{\"colorbar\":{\"outlinewidth\":0,\"ticks\":\"\"},\"type\":\"contourcarpet\"}],\"heatmap\":[{\"colorbar\":{\"outlinewidth\":0,\"ticks\":\"\"},\"colorscale\":[[0.0,\"#0d0887\"],[0.1111111111111111,\"#46039f\"],[0.2222222222222222,\"#7201a8\"],[0.3333333333333333,\"#9c179e\"],[0.4444444444444444,\"#bd3786\"],[0.5555555555555556,\"#d8576b\"],[0.6666666666666666,\"#ed7953\"],[0.7777777777777778,\"#fb9f3a\"],[0.8888888888888888,\"#fdca26\"],[1.0,\"#f0f921\"]],\"type\":\"heatmap\"}],\"heatmapgl\":[{\"colorbar\":{\"outlinewidth\":0,\"ticks\":\"\"},\"colorscale\":[[0.0,\"#0d0887\"],[0.1111111111111111,\"#46039f\"],[0.2222222222222222,\"#7201a8\"],[0.3333333333333333,\"#9c179e\"],[0.4444444444444444,\"#bd3786\"],[0.5555555555555556,\"#d8576b\"],[0.6666666666666666,\"#ed7953\"],[0.7777777777777778,\"#fb9f3a\"],[0.8888888888888888,\"#fdca26\"],[1.0,\"#f0f921\"]],\"type\":\"heatmapgl\"}],\"histogram\":[{\"marker\":{\"pattern\":{\"fillmode\":\"overlay\",\"size\":10,\"solidity\":0.2}},\"type\":\"histogram\"}],\"histogram2d\":[{\"colorbar\":{\"outlinewidth\":0,\"ticks\":\"\"},\"colorscale\":[[0.0,\"#0d0887\"],[0.1111111111111111,\"#46039f\"],[0.2222222222222222,\"#7201a8\"],[0.3333333333333333,\"#9c179e\"],[0.4444444444444444,\"#bd3786\"],[0.5555555555555556,\"#d8576b\"],[0.6666666666666666,\"#ed7953\"],[0.7777777777777778,\"#fb9f3a\"],[0.8888888888888888,\"#fdca26\"],[1.0,\"#f0f921\"]],\"type\":\"histogram2d\"}],\"histogram2dcontour\":[{\"colorbar\":{\"outlinewidth\":0,\"ticks\":\"\"},\"colorscale\":[[0.0,\"#0d0887\"],[0.1111111111111111,\"#46039f\"],[0.2222222222222222,\"#7201a8\"],[0.3333333333333333,\"#9c179e\"],[0.4444444444444444,\"#bd3786\"],[0.5555555555555556,\"#d8576b\"],[0.6666666666666666,\"#ed7953\"],[0.7777777777777778,\"#fb9f3a\"],[0.8888888888888888,\"#fdca26\"],[1.0,\"#f0f921\"]],\"type\":\"histogram2dcontour\"}],\"mesh3d\":[{\"colorbar\":{\"outlinewidth\":0,\"ticks\":\"\"},\"type\":\"mesh3d\"}],\"parcoords\":[{\"line\":{\"colorbar\":{\"outlinewidth\":0,\"ticks\":\"\"}},\"type\":\"parcoords\"}],\"pie\":[{\"automargin\":true,\"type\":\"pie\"}],\"scatter\":[{\"marker\":{\"colorbar\":{\"outlinewidth\":0,\"ticks\":\"\"}},\"type\":\"scatter\"}],\"scatter3d\":[{\"line\":{\"colorbar\":{\"outlinewidth\":0,\"ticks\":\"\"}},\"marker\":{\"colorbar\":{\"outlinewidth\":0,\"ticks\":\"\"}},\"type\":\"scatter3d\"}],\"scattercarpet\":[{\"marker\":{\"colorbar\":{\"outlinewidth\":0,\"ticks\":\"\"}},\"type\":\"scattercarpet\"}],\"scattergeo\":[{\"marker\":{\"colorbar\":{\"outlinewidth\":0,\"ticks\":\"\"}},\"type\":\"scattergeo\"}],\"scattergl\":[{\"marker\":{\"colorbar\":{\"outlinewidth\":0,\"ticks\":\"\"}},\"type\":\"scattergl\"}],\"scattermapbox\":[{\"marker\":{\"colorbar\":{\"outlinewidth\":0,\"ticks\":\"\"}},\"type\":\"scattermapbox\"}],\"scatterpolar\":[{\"marker\":{\"colorbar\":{\"outlinewidth\":0,\"ticks\":\"\"}},\"type\":\"scatterpolar\"}],\"scatterpolargl\":[{\"marker\":{\"colorbar\":{\"outlinewidth\":0,\"ticks\":\"\"}},\"type\":\"scatterpolargl\"}],\"scatterternary\":[{\"marker\":{\"colorbar\":{\"outlinewidth\":0,\"ticks\":\"\"}},\"type\":\"scatterternary\"}],\"surface\":[{\"colorbar\":{\"outlinewidth\":0,\"ticks\":\"\"},\"colorscale\":[[0.0,\"#0d0887\"],[0.1111111111111111,\"#46039f\"],[0.2222222222222222,\"#7201a8\"],[0.3333333333333333,\"#9c179e\"],[0.4444444444444444,\"#bd3786\"],[0.5555555555555556,\"#d8576b\"],[0.6666666666666666,\"#ed7953\"],[0.7777777777777778,\"#fb9f3a\"],[0.8888888888888888,\"#fdca26\"],[1.0,\"#f0f921\"]],\"type\":\"surface\"}],\"table\":[{\"cells\":{\"fill\":{\"color\":\"#EBF0F8\"},\"line\":{\"color\":\"white\"}},\"header\":{\"fill\":{\"color\":\"#C8D4E3\"},\"line\":{\"color\":\"white\"}},\"type\":\"table\"}]},\"layout\":{\"annotationdefaults\":{\"arrowcolor\":\"#2a3f5f\",\"arrowhead\":0,\"arrowwidth\":1},\"autotypenumbers\":\"strict\",\"coloraxis\":{\"colorbar\":{\"outlinewidth\":0,\"ticks\":\"\"}},\"colorscale\":{\"diverging\":[[0,\"#8e0152\"],[0.1,\"#c51b7d\"],[0.2,\"#de77ae\"],[0.3,\"#f1b6da\"],[0.4,\"#fde0ef\"],[0.5,\"#f7f7f7\"],[0.6,\"#e6f5d0\"],[0.7,\"#b8e186\"],[0.8,\"#7fbc41\"],[0.9,\"#4d9221\"],[1,\"#276419\"]],\"sequential\":[[0.0,\"#0d0887\"],[0.1111111111111111,\"#46039f\"],[0.2222222222222222,\"#7201a8\"],[0.3333333333333333,\"#9c179e\"],[0.4444444444444444,\"#bd3786\"],[0.5555555555555556,\"#d8576b\"],[0.6666666666666666,\"#ed7953\"],[0.7777777777777778,\"#fb9f3a\"],[0.8888888888888888,\"#fdca26\"],[1.0,\"#f0f921\"]],\"sequentialminus\":[[0.0,\"#0d0887\"],[0.1111111111111111,\"#46039f\"],[0.2222222222222222,\"#7201a8\"],[0.3333333333333333,\"#9c179e\"],[0.4444444444444444,\"#bd3786\"],[0.5555555555555556,\"#d8576b\"],[0.6666666666666666,\"#ed7953\"],[0.7777777777777778,\"#fb9f3a\"],[0.8888888888888888,\"#fdca26\"],[1.0,\"#f0f921\"]]},\"colorway\":[\"#636efa\",\"#EF553B\",\"#00cc96\",\"#ab63fa\",\"#FFA15A\",\"#19d3f3\",\"#FF6692\",\"#B6E880\",\"#FF97FF\",\"#FECB52\"],\"font\":{\"color\":\"#2a3f5f\"},\"geo\":{\"bgcolor\":\"white\",\"lakecolor\":\"white\",\"landcolor\":\"#E5ECF6\",\"showlakes\":true,\"showland\":true,\"subunitcolor\":\"white\"},\"hoverlabel\":{\"align\":\"left\"},\"hovermode\":\"closest\",\"mapbox\":{\"style\":\"light\"},\"paper_bgcolor\":\"white\",\"plot_bgcolor\":\"#E5ECF6\",\"polar\":{\"angularaxis\":{\"gridcolor\":\"white\",\"linecolor\":\"white\",\"ticks\":\"\"},\"bgcolor\":\"#E5ECF6\",\"radialaxis\":{\"gridcolor\":\"white\",\"linecolor\":\"white\",\"ticks\":\"\"}},\"scene\":{\"xaxis\":{\"backgroundcolor\":\"#E5ECF6\",\"gridcolor\":\"white\",\"gridwidth\":2,\"linecolor\":\"white\",\"showbackground\":true,\"ticks\":\"\",\"zerolinecolor\":\"white\"},\"yaxis\":{\"backgroundcolor\":\"#E5ECF6\",\"gridcolor\":\"white\",\"gridwidth\":2,\"linecolor\":\"white\",\"showbackground\":true,\"ticks\":\"\",\"zerolinecolor\":\"white\"},\"zaxis\":{\"backgroundcolor\":\"#E5ECF6\",\"gridcolor\":\"white\",\"gridwidth\":2,\"linecolor\":\"white\",\"showbackground\":true,\"ticks\":\"\",\"zerolinecolor\":\"white\"}},\"shapedefaults\":{\"line\":{\"color\":\"#2a3f5f\"}},\"ternary\":{\"aaxis\":{\"gridcolor\":\"white\",\"linecolor\":\"white\",\"ticks\":\"\"},\"baxis\":{\"gridcolor\":\"white\",\"linecolor\":\"white\",\"ticks\":\"\"},\"bgcolor\":\"#E5ECF6\",\"caxis\":{\"gridcolor\":\"white\",\"linecolor\":\"white\",\"ticks\":\"\"}},\"title\":{\"x\":0.05},\"xaxis\":{\"automargin\":true,\"gridcolor\":\"white\",\"linecolor\":\"white\",\"ticks\":\"\",\"title\":{\"standoff\":15},\"zerolinecolor\":\"white\",\"zerolinewidth\":2},\"yaxis\":{\"automargin\":true,\"gridcolor\":\"white\",\"linecolor\":\"white\",\"ticks\":\"\",\"title\":{\"standoff\":15},\"zerolinecolor\":\"white\",\"zerolinewidth\":2}}},\"xaxis\":{\"anchor\":\"y\",\"domain\":[0.0,1.0],\"title\":{\"text\":\"index\"}},\"yaxis\":{\"anchor\":\"x\",\"domain\":[0.0,1.0],\"title\":{\"text\":\"value\"}},\"legend\":{\"title\":{\"text\":\"variable\"},\"tracegroupgap\":0},\"margin\":{\"t\":60},\"barmode\":\"relative\"},                        {\"responsive\": true}                    ).then(function(){\n",
              "                            \n",
              "var gd = document.getElementById('60ba60a2-e273-493c-beb9-91f1c4582641');\n",
              "var x = new MutationObserver(function (mutations, observer) {{\n",
              "        var display = window.getComputedStyle(gd).display;\n",
              "        if (!display || display === 'none') {{\n",
              "            console.log([gd, 'removed!']);\n",
              "            Plotly.purge(gd);\n",
              "            observer.disconnect();\n",
              "        }}\n",
              "}});\n",
              "\n",
              "// Listen for the removal of the full notebook cells\n",
              "var notebookContainer = gd.closest('#notebook-container');\n",
              "if (notebookContainer) {{\n",
              "    x.observe(notebookContainer, {childList: true});\n",
              "}}\n",
              "\n",
              "// Listen for the clearing of the current output cell\n",
              "var outputEl = gd.closest('.output');\n",
              "if (outputEl) {{\n",
              "    x.observe(outputEl, {childList: true});\n",
              "}}\n",
              "\n",
              "                        })                };                            </script>        </div>\n",
              "</body>\n",
              "</html>"
            ]
          },
          "metadata": {}
        }
      ]
    },
    {
      "cell_type": "markdown",
      "source": [
        "**2. PySpark**"
      ],
      "metadata": {
        "id": "er_ZB9ZNDwE3"
      }
    },
    {
      "cell_type": "code",
      "source": [
        "from pyspark.sql import SparkSession\n",
        "import matplotlib.pyplot as plt\n",
        "\n",
        "%time\n",
        "spark = SparkSession.builder.appName(\"Yr_Pie_Chart\").getOrCreate()\n",
        "\n",
        "\n",
        "# Compute the value counts of the 'Yr' column\n",
        "value_counts = s_df.groupBy(\"Yr\").count()\n",
        "value_counts_pd=value_counts.toPandas()\n",
        "\n",
        "# Plot the value counts as a pie chart\n",
        "plt.pie(value_counts_pd['count'], labels=value_counts_pd['Yr'])\n",
        "plt.show()"
      ],
      "metadata": {
        "colab": {
          "base_uri": "https://localhost:8080/",
          "height": 283
        },
        "id": "kU96aD9aDx4D",
        "outputId": "9a676654-9195-4102-fba6-884eb8c73411"
      },
      "execution_count": null,
      "outputs": [
        {
          "output_type": "stream",
          "name": "stdout",
          "text": [
            "CPU times: user 3 µs, sys: 1 µs, total: 4 µs\n",
            "Wall time: 6.91 µs\n"
          ]
        },
        {
          "output_type": "display_data",
          "data": {
            "text/plain": [
              "<Figure size 432x288 with 1 Axes>"
            ],
            "image/png": "[encoded data removed]"
          },
          "metadata": {}
        }
      ]
    },
    {
      "cell_type": "code",
      "source": [
        "%%time\n",
        "value_counts_pd.plot(kind='bar',x='Yr',y='count')\n",
        "plt.show()"
      ],
      "metadata": {
        "colab": {
          "base_uri": "https://localhost:8080/",
          "height": 341
        },
        "id": "T30LCsepDyXm",
        "outputId": "d322e8ac-e60b-4394-bc2c-a36f1b3320b7"
      },
      "execution_count": null,
      "outputs": [
        {
          "output_type": "display_data",
          "data": {
            "text/plain": [
              "<Figure size 432x288 with 1 Axes>"
            ],
            "image/png": "[encoded data removed]"
          },
          "metadata": {
            "needs_background": "light"
          }
        },
        {
          "output_type": "stream",
          "name": "stdout",
          "text": [
            "CPU times: user 158 ms, sys: 5.09 ms, total: 163 ms\n",
            "Wall time: 159 ms\n"
          ]
        }
      ]
    },
    {
      "cell_type": "markdown",
      "source": [
        "**3. Dask**"
      ],
      "metadata": {
        "id": "CXRG0atPDypO"
      }
    },
    {
      "cell_type": "code",
      "source": [
        "import matplotlib.pyplot as plt\n",
        "import dask.delayed as delayed\n",
        "from dask.distributed import Client"
      ],
      "metadata": {
        "id": "lVwTySiXDz_n"
      },
      "execution_count": null,
      "outputs": []
    },
    {
      "cell_type": "code",
      "source": [
        "%time\n",
        "client = Client()\n",
        "\n",
        "value_counts = ddf['Yr'].value_counts().compute()\n",
        "\n",
        "# Plot the value counts as a pie chart\n",
        "delayed(value_counts.plot.pie())"
      ],
      "metadata": {
        "colab": {
          "base_uri": "https://localhost:8080/",
          "height": 369
        },
        "id": "RzDLfQSou2Jj",
        "outputId": "cb40a17b-f4b5-4006-d7d8-be6abd3f8e5f"
      },
      "execution_count": null,
      "outputs": [
        {
          "output_type": "stream",
          "name": "stdout",
          "text": [
            "CPU times: user 3 µs, sys: 1 µs, total: 4 µs\n",
            "Wall time: 9.54 µs\n"
          ]
        },
        {
          "output_type": "stream",
          "name": "stderr",
          "text": [
            "/usr/local/lib/python3.8/dist-packages/distributed/node.py:180: UserWarning: Port 8787 is already in use.\n",
            "Perhaps you already have a cluster running?\n",
            "Hosting the HTTP server on port 34221 instead\n",
            "  warnings.warn(\n"
          ]
        },
        {
          "output_type": "execute_result",
          "data": {
            "text/plain": [
              "Delayed('AxesSubplot-2ba6a9da-edc5-45ba-84df-b44649badfe5')"
            ]
          },
          "metadata": {},
          "execution_count": 8
        },
        {
          "output_type": "display_data",
          "data": {
            "text/plain": [
              "<Figure size 432x288 with 1 Axes>"
            ],
            "image/png": "[encoded data removed]"
          },
          "metadata": {}
        }
      ]
    },
    {
      "cell_type": "code",
      "source": [
        "%time\n",
        "client = Client()\n",
        "\n",
        "value_counts = ddf['Yr'].value_counts().compute()\n",
        "\n",
        "# Plot the value counts as a bar chart\n",
        "delayed(value_counts.plot.bar())"
      ],
      "metadata": {
        "id": "7qzxX_O-D0a-",
        "colab": {
          "base_uri": "https://localhost:8080/",
          "height": 413
        },
        "outputId": "bf4be4f7-42b8-42d9-b152-ae438eb729e1"
      },
      "execution_count": null,
      "outputs": [
        {
          "output_type": "stream",
          "name": "stdout",
          "text": [
            "CPU times: user 3 µs, sys: 1 µs, total: 4 µs\n",
            "Wall time: 6.68 µs\n"
          ]
        },
        {
          "output_type": "stream",
          "name": "stderr",
          "text": [
            "/usr/local/lib/python3.8/dist-packages/distributed/node.py:180: UserWarning: Port 8787 is already in use.\n",
            "Perhaps you already have a cluster running?\n",
            "Hosting the HTTP server on port 35361 instead\n",
            "  warnings.warn(\n"
          ]
        },
        {
          "output_type": "execute_result",
          "data": {
            "text/plain": [
              "Delayed('AxesSubplot-2dd0e8ac-3649-4337-a35a-428fe04736d3')"
            ]
          },
          "metadata": {},
          "execution_count": 9
        },
        {
          "output_type": "display_data",
          "data": {
            "text/plain": [
              "<Figure size 432x288 with 1 Axes>"
            ],
            "image/png": "[encoded data removed]"
          },
          "metadata": {
            "needs_background": "light"
          }
        }
      ]
    },
    {
      "cell_type": "markdown",
      "source": [
        "## Asking and Answering Questions"
      ],
      "metadata": {
        "id": "IQTAoT1kD_qe"
      }
    },
    {
      "cell_type": "markdown",
      "source": [
        "Before we start asking and answering question, we will import all the library we will use such as matplotlib and pyspark functions."
      ],
      "metadata": {
        "id": "n9RBsFaQEC3v"
      }
    },
    {
      "cell_type": "code",
      "source": [
        "import matplotlib.pyplot as plt"
      ],
      "metadata": {
        "id": "fJLLuq1jIiB2"
      },
      "execution_count": null,
      "outputs": []
    },
    {
      "cell_type": "code",
      "source": [
        "from pyspark.sql.functions import col,isnan,when,count,sum\n",
        "from pyspark.sql.functions import desc\n",
        "from pyspark.sql import functions as F"
      ],
      "metadata": {
        "id": "G6Zs0FZnEBjb"
      },
      "execution_count": null,
      "outputs": []
    },
    {
      "cell_type": "markdown",
      "source": [
        "#### Q1: Which division has the most cars?"
      ],
      "metadata": {
        "id": "pPOdFb1fEbwW"
      }
    },
    {
      "cell_type": "markdown",
      "source": [
        "**1. Koalas**"
      ],
      "metadata": {
        "id": "0cqVfoZuEh0Y"
      }
    },
    {
      "cell_type": "code",
      "source": [
        "%%time\n",
        "k_div = kdf.groupby(['Boro'], as_index=False).Vol.sum().sort_values(by='Vol', ascending=False)\n",
        "k_div"
      ],
      "metadata": {
        "colab": {
          "base_uri": "https://localhost:8080/",
          "height": 241
        },
        "id": "uI7wLOIeEcQi",
        "outputId": "62742de4-a315-4499-efcd-eafc98b65654"
      },
      "execution_count": null,
      "outputs": [
        {
          "output_type": "stream",
          "name": "stdout",
          "text": [
            "CPU times: user 47.4 ms, sys: 2.24 ms, total: 49.7 ms\n",
            "Wall time: 225 ms\n"
          ]
        },
        {
          "output_type": "execute_result",
          "data": {
            "text/plain": [
              "            Boro        Vol\n",
              "3      Manhattan  878384457\n",
              "0         Queens  749302332\n",
              "1       Brooklyn  652695107\n",
              "4          Bronx  478183149\n",
              "2  Staten Island  113746341"
            ],
            "text/html": [
              "<div>\n",
              "<style scoped>\n",
              "    .dataframe tbody tr th:only-of-type {\n",
              "        vertical-align: middle;\n",
              "    }\n",
              "\n",
              "    .dataframe tbody tr th {\n",
              "        vertical-align: top;\n",
              "    }\n",
              "\n",
              "    .dataframe thead th {\n",
              "        text-align: right;\n",
              "    }\n",
              "</style>\n",
              "<table border=\"1\" class=\"dataframe\">\n",
              "  <thead>\n",
              "    <tr style=\"text-align: right;\">\n",
              "      <th></th>\n",
              "      <th>Boro</th>\n",
              "      <th>Vol</th>\n",
              "    </tr>\n",
              "  </thead>\n",
              "  <tbody>\n",
              "    <tr>\n",
              "      <th>3</th>\n",
              "      <td>Manhattan</td>\n",
              "      <td>878384457</td>\n",
              "    </tr>\n",
              "    <tr>\n",
              "      <th>0</th>\n",
              "      <td>Queens</td>\n",
              "      <td>749302332</td>\n",
              "    </tr>\n",
              "    <tr>\n",
              "      <th>1</th>\n",
              "      <td>Brooklyn</td>\n",
              "      <td>652695107</td>\n",
              "    </tr>\n",
              "    <tr>\n",
              "      <th>4</th>\n",
              "      <td>Bronx</td>\n",
              "      <td>478183149</td>\n",
              "    </tr>\n",
              "    <tr>\n",
              "      <th>2</th>\n",
              "      <td>Staten Island</td>\n",
              "      <td>113746341</td>\n",
              "    </tr>\n",
              "  </tbody>\n",
              "</table>\n",
              "</div>"
            ]
          },
          "metadata": {},
          "execution_count": 34
        }
      ]
    },
    {
      "cell_type": "code",
      "source": [
        "%%time\n",
        "#convert the df to pandas\n",
        "k_div1 = k_div.toPandas()\n",
        "\n",
        "k_div1.plot(kind='bar')\n",
        "plt.title('Total Volume of Cars in each Division')\n",
        "plt.xlabel('Division')\n",
        "plt.ylabel('Volume')\n",
        "plt.show()"
      ],
      "metadata": {
        "colab": {
          "base_uri": "https://localhost:8080/",
          "height": 413
        },
        "id": "oaN9ULf2ElRF",
        "outputId": "cedcf8fe-e57d-4403-e81d-e729e7ac3370"
      },
      "execution_count": null,
      "outputs": [
        {
          "output_type": "stream",
          "name": "stderr",
          "text": [
            "/usr/local/lib/python3.8/dist-packages/databricks/koalas/frame.py:4901: FutureWarning:\n",
            "\n",
            "DataFrame.toPandas is deprecated as of DataFrame.to_pandas. Please use the API instead.\n",
            "\n"
          ]
        },
        {
          "output_type": "display_data",
          "data": {
            "text/plain": [
              "<Figure size 1080x792 with 0 Axes>"
            ]
          },
          "metadata": {}
        },
        {
          "output_type": "display_data",
          "data": {
            "text/plain": [
              "<Figure size 432x288 with 1 Axes>"
            ],
            "image/png": "[encoded data removed]"
          },
          "metadata": {
            "needs_background": "light"
          }
        },
        {
          "output_type": "stream",
          "name": "stdout",
          "text": [
            "CPU times: user 110 ms, sys: 7.79 ms, total: 118 ms\n",
            "Wall time: 117 ms\n"
          ]
        }
      ]
    },
    {
      "cell_type": "markdown",
      "source": [
        "**2. PySpark**"
      ],
      "metadata": {
        "id": "6GtlWqfiEqrO"
      }
    },
    {
      "cell_type": "code",
      "source": [
        "%time\n",
        "py_div = s_df.groupBy(\"Boro\").agg(sum(\"Vol\").alias(\"Vol\"))\n",
        "py_div = py_div.sort(col(\"Vol\").desc())\n",
        "py_div.show()"
      ],
      "metadata": {
        "colab": {
          "base_uri": "https://localhost:8080/"
        },
        "id": "LOMzRO4SE7Dt",
        "outputId": "e3672100-072d-40be-ca8c-0eab8f955cbd"
      },
      "execution_count": null,
      "outputs": [
        {
          "output_type": "stream",
          "name": "stdout",
          "text": [
            "CPU times: user 2 µs, sys: 0 ns, total: 2 µs\n",
            "Wall time: 5.01 µs\n",
            "+-------------+------------+\n",
            "|         Boro|         Vol|\n",
            "+-------------+------------+\n",
            "|    Manhattan|8.78384457E8|\n",
            "|       Queens|7.49302332E8|\n",
            "|     Brooklyn|6.52695107E8|\n",
            "|        Bronx|4.78183149E8|\n",
            "|Staten Island|1.13746341E8|\n",
            "+-------------+------------+\n",
            "\n"
          ]
        }
      ]
    },
    {
      "cell_type": "code",
      "source": [
        "%time\n",
        "#convert to pandas\n",
        "result = py_div.toPandas()\n",
        "\n",
        "result.plot(kind='bar', x='Boro', y='Vol', legend=True)\n",
        "plt.xlabel('Volume')\n",
        "plt.ylabel('Division')\n",
        "plt.title('Total Volume of Cars in each Division')\n",
        "plt.show()"
      ],
      "metadata": {
        "colab": {
          "base_uri": "https://localhost:8080/",
          "height": 386
        },
        "id": "j_nMomYzE659",
        "outputId": "c7584095-440d-416c-8871-cbe3ae7ff991"
      },
      "execution_count": null,
      "outputs": [
        {
          "output_type": "stream",
          "name": "stdout",
          "text": [
            "CPU times: user 4 µs, sys: 1 µs, total: 5 µs\n",
            "Wall time: 8.34 µs\n"
          ]
        },
        {
          "output_type": "display_data",
          "data": {
            "text/plain": [
              "<Figure size 432x288 with 1 Axes>"
            ],
            "image/png": "[encoded data removed]"
          },
          "metadata": {
            "needs_background": "light"
          }
        }
      ]
    },
    {
      "cell_type": "markdown",
      "source": [
        "**3. Dask**"
      ],
      "metadata": {
        "id": "uPZVBPMVE7bv"
      }
    },
    {
      "cell_type": "code",
      "source": [
        "%%time\n",
        "d_div = ddf.groupby('Boro').Vol.sum().compute().reset_index().sort_values(by='Vol', ascending=False)\n",
        "d_div"
      ],
      "metadata": {
        "id": "4RK2B3TyFSWG",
        "colab": {
          "base_uri": "https://localhost:8080/",
          "height": 241
        },
        "outputId": "7e9f547e-cec9-4a5e-b4b6-dd24a23e617b"
      },
      "execution_count": null,
      "outputs": [
        {
          "output_type": "stream",
          "name": "stdout",
          "text": [
            "CPU times: user 3min 42s, sys: 12.6 s, total: 3min 55s\n",
            "Wall time: 2min 23s\n"
          ]
        },
        {
          "output_type": "execute_result",
          "data": {
            "text/plain": [
              "            Boro        Vol\n",
              "2      Manhattan  878384457\n",
              "3         Queens  749302332\n",
              "1       Brooklyn  652695107\n",
              "0          Bronx  478183149\n",
              "4  Staten Island  113746341"
            ],
            "text/html": [
              "\n",
              "  <div id=\"df-7e0eaa31-3904-4435-806e-3eedd9f3d647\">\n",
              "    <div class=\"colab-df-container\">\n",
              "      <div>\n",
              "<style scoped>\n",
              "    .dataframe tbody tr th:only-of-type {\n",
              "        vertical-align: middle;\n",
              "    }\n",
              "\n",
              "    .dataframe tbody tr th {\n",
              "        vertical-align: top;\n",
              "    }\n",
              "\n",
              "    .dataframe thead th {\n",
              "        text-align: right;\n",
              "    }\n",
              "</style>\n",
              "<table border=\"1\" class=\"dataframe\">\n",
              "  <thead>\n",
              "    <tr style=\"text-align: right;\">\n",
              "      <th></th>\n",
              "      <th>Boro</th>\n",
              "      <th>Vol</th>\n",
              "    </tr>\n",
              "  </thead>\n",
              "  <tbody>\n",
              "    <tr>\n",
              "      <th>2</th>\n",
              "      <td>Manhattan</td>\n",
              "      <td>878384457</td>\n",
              "    </tr>\n",
              "    <tr>\n",
              "      <th>3</th>\n",
              "      <td>Queens</td>\n",
              "      <td>749302332</td>\n",
              "    </tr>\n",
              "    <tr>\n",
              "      <th>1</th>\n",
              "      <td>Brooklyn</td>\n",
              "      <td>652695107</td>\n",
              "    </tr>\n",
              "    <tr>\n",
              "      <th>0</th>\n",
              "      <td>Bronx</td>\n",
              "      <td>478183149</td>\n",
              "    </tr>\n",
              "    <tr>\n",
              "      <th>4</th>\n",
              "      <td>Staten Island</td>\n",
              "      <td>113746341</td>\n",
              "    </tr>\n",
              "  </tbody>\n",
              "</table>\n",
              "</div>\n",
              "      <button class=\"colab-df-convert\" onclick=\"convertToInteractive('df-7e0eaa31-3904-4435-806e-3eedd9f3d647')\"\n",
              "              title=\"Convert this dataframe to an interactive table.\"\n",
              "              style=\"display:none;\">\n",
              "        \n",
              "  <svg xmlns=\"http://www.w3.org/2000/svg\" height=\"24px\"viewBox=\"0 0 24 24\"\n",
              "       width=\"24px\">\n",
              "    <path d=\"M0 0h24v24H0V0z\" fill=\"none\"/>\n",
              "    <path d=\"M18.56 5.44l.94 2.06.94-2.06 2.06-.94-2.06-.94-.94-2.06-.94 2.06-2.06.94zm-11 1L8.5 8.5l.94-2.06 2.06-.94-2.06-.94L8.5 2.5l-.94 2.06-2.06.94zm10 10l.94 2.06.94-2.06 2.06-.94-2.06-.94-.94-2.06-.94 2.06-2.06.94z\"/><path d=\"M17.41 7.96l-1.37-1.37c-.4-.4-.92-.59-1.43-.59-.52 0-1.04.2-1.43.59L10.3 9.45l-7.72 7.72c-.78.78-.78 2.05 0 2.83L4 21.41c.39.39.9.59 1.41.59.51 0 1.02-.2 1.41-.59l7.78-7.78 2.81-2.81c.8-.78.8-2.07 0-2.86zM5.41 20L4 18.59l7.72-7.72 1.47 1.35L5.41 20z\"/>\n",
              "  </svg>\n",
              "      </button>\n",
              "      \n",
              "  <style>\n",
              "    .colab-df-container {\n",
              "      display:flex;\n",
              "      flex-wrap:wrap;\n",
              "      gap: 12px;\n",
              "    }\n",
              "\n",
              "    .colab-df-convert {\n",
              "      background-color: #E8F0FE;\n",
              "      border: none;\n",
              "      border-radius: 50%;\n",
              "      cursor: pointer;\n",
              "      display: none;\n",
              "      fill: #1967D2;\n",
              "      height: 32px;\n",
              "      padding: 0 0 0 0;\n",
              "      width: 32px;\n",
              "    }\n",
              "\n",
              "    .colab-df-convert:hover {\n",
              "      background-color: #E2EBFA;\n",
              "      box-shadow: 0px 1px 2px rgba(60, 64, 67, 0.3), 0px 1px 3px 1px rgba(60, 64, 67, 0.15);\n",
              "      fill: #174EA6;\n",
              "    }\n",
              "\n",
              "    [theme=dark] .colab-df-convert {\n",
              "      background-color: #3B4455;\n",
              "      fill: #D2E3FC;\n",
              "    }\n",
              "\n",
              "    [theme=dark] .colab-df-convert:hover {\n",
              "      background-color: #434B5C;\n",
              "      box-shadow: 0px 1px 3px 1px rgba(0, 0, 0, 0.15);\n",
              "      filter: drop-shadow(0px 1px 2px rgba(0, 0, 0, 0.3));\n",
              "      fill: #FFFFFF;\n",
              "    }\n",
              "  </style>\n",
              "\n",
              "      <script>\n",
              "        const buttonEl =\n",
              "          document.querySelector('#df-7e0eaa31-3904-4435-806e-3eedd9f3d647 button.colab-df-convert');\n",
              "        buttonEl.style.display =\n",
              "          google.colab.kernel.accessAllowed ? 'block' : 'none';\n",
              "\n",
              "        async function convertToInteractive(key) {\n",
              "          const element = document.querySelector('#df-7e0eaa31-3904-4435-806e-3eedd9f3d647');\n",
              "          const dataTable =\n",
              "            await google.colab.kernel.invokeFunction('convertToInteractive',\n",
              "                                                     [key], {});\n",
              "          if (!dataTable) return;\n",
              "\n",
              "          const docLinkHtml = 'Like what you see? Visit the ' +\n",
              "            '<a target=\"_blank\" href=https://colab.research.google.com/notebooks/data_table.ipynb>data table notebook</a>'\n",
              "            + ' to learn more about interactive tables.';\n",
              "          element.innerHTML = '';\n",
              "          dataTable['output_type'] = 'display_data';\n",
              "          await google.colab.output.renderOutput(dataTable, element);\n",
              "          const docLink = document.createElement('div');\n",
              "          docLink.innerHTML = docLinkHtml;\n",
              "          element.appendChild(docLink);\n",
              "        }\n",
              "      </script>\n",
              "    </div>\n",
              "  </div>\n",
              "  "
            ]
          },
          "metadata": {},
          "execution_count": 15
        }
      ]
    },
    {
      "cell_type": "code",
      "source": [
        "%%time\n",
        "plt.figure(figsize=(18, 9))\n",
        "d_div.compute().plot.bar()"
      ],
      "metadata": {
        "id": "aFAkEFPIFSQh",
        "colab": {
          "base_uri": "https://localhost:8080/",
          "height": 342
        },
        "outputId": "8852a2f9-f677-44b6-c9d9-a7efac795b45"
      },
      "execution_count": null,
      "outputs": [
        {
          "output_type": "stream",
          "name": "stdout",
          "text": [
            "CPU times: user 34.3 ms, sys: 5.07 ms, total: 39.4 ms\n",
            "Wall time: 42.2 ms\n"
          ]
        },
        {
          "output_type": "execute_result",
          "data": {
            "text/plain": [
              "<matplotlib.axes._subplots.AxesSubplot at 0x7f25709f3460>"
            ]
          },
          "metadata": {},
          "execution_count": 13
        },
        {
          "output_type": "display_data",
          "data": {
            "text/plain": [
              "<Figure size 1296x648 with 0 Axes>"
            ]
          },
          "metadata": {}
        },
        {
          "output_type": "display_data",
          "data": {
            "text/plain": [
              "<Figure size 432x288 with 1 Axes>"
            ],
            "image/png": "[encoded data removed]"
          },
          "metadata": {
            "needs_background": "light"
          }
        }
      ]
    },
    {
      "cell_type": "markdown",
      "source": [
        "><b>Explaination & Answer</b>\n",
        "\n",
        ">For the first question, we were asking on which division has the most car and to answer this question, we were using groupby method to group volume of cars to its division. We getting Manhattan has the highest volume of car followed by Queens, Brooklyn, Bronx and Staten Island. Then, we visualized a bar graph to represent the data in a clear and concise manner. The bar graph clearly shows the volume of cars in each division and helps to quickly determine which division has the highest volume. The bar chart also allows for easy comparison of the different divisions and their respective volumes. This information is valuable in understanding the distribution of traffic across the city and could be useful in making decisions regarding infrastructure and transportation planning."
      ],
      "metadata": {
        "id": "l_naNCw-xcgs"
      }
    },
    {
      "cell_type": "markdown",
      "source": [
        "#### Q2: What is the top 3 street that most cars go?"
      ],
      "metadata": {
        "id": "G96Vs9mbFzU2"
      }
    },
    {
      "cell_type": "markdown",
      "source": [
        "**1. Koalas**"
      ],
      "metadata": {
        "id": "VW62yBgrEyEx"
      }
    },
    {
      "cell_type": "code",
      "source": [
        "%%time\n",
        "k_street = kdf['toSt'].value_counts().sort_values(ascending=False).head(3)\n",
        "k_street"
      ],
      "metadata": {
        "colab": {
          "base_uri": "https://localhost:8080/"
        },
        "id": "g5JeVhsNF5Kn",
        "outputId": "c61bfd80-8a3c-4de5-be2a-902602a8acc6"
      },
      "execution_count": null,
      "outputs": [
        {
          "output_type": "stream",
          "name": "stdout",
          "text": [
            "CPU times: user 2 µs, sys: 0 ns, total: 2 µs\n",
            "Wall time: 6.68 µs\n"
          ]
        },
        {
          "output_type": "execute_result",
          "data": {
            "text/plain": [
              "Dead end         2128177\n",
              "8 Avenue Line     247490\n",
              "BODY OF WATER     213175\n",
              "Name: toSt, dtype: int64"
            ]
          },
          "metadata": {},
          "execution_count": 6
        }
      ]
    },
    {
      "cell_type": "code",
      "source": [
        "%%time\n",
        "kdf['toSt'].value_counts().sort_values(ascending=False).head(3).plot.pie(title='Top 3 Street that most Cars Go')"
      ],
      "metadata": {
        "colab": {
          "base_uri": "https://localhost:8080/",
          "height": 577
        },
        "id": "7DL5nCgiF5G3",
        "outputId": "be4b6bf5-8df3-4f41-b24c-836f01c916cc"
      },
      "execution_count": null,
      "outputs": [
        {
          "output_type": "stream",
          "name": "stdout",
          "text": [
            "CPU times: user 770 ms, sys: 102 ms, total: 872 ms\n",
            "Wall time: 1min 42s\n"
          ]
        },
        {
          "output_type": "display_data",
          "data": {
            "text/html": [
              "<html>\n",
              "<head><meta charset=\"utf-8\" /></head>\n",
              "<body>\n",
              "    <div>            <script src=\"https://cdnjs.cloudflare.com/ajax/libs/mathjax/2.7.5/MathJax.js?config=TeX-AMS-MML_SVG\"></script><script type=\"text/javascript\">if (window.MathJax) {MathJax.Hub.Config({SVG: {font: \"STIX-Web\"}});}</script>                <script type=\"text/javascript\">window.PlotlyConfig = {MathJaxConfig: 'local'};</script>\n",
              "        <script src=\"https://cdn.plot.ly/plotly-2.8.3.min.js\"></script>                <div id=\"772b9055-4ee4-4c94-8158-bd7960acb4e7\" class=\"plotly-graph-div\" style=\"height:525px; width:100%;\"></div>            <script type=\"text/javascript\">                                    window.PLOTLYENV=window.PLOTLYENV || {};                                    if (document.getElementById(\"772b9055-4ee4-4c94-8158-bd7960acb4e7\")) {                    Plotly.newPlot(                        \"772b9055-4ee4-4c94-8158-bd7960acb4e7\",                        [{\"domain\":{\"x\":[0.0,1.0],\"y\":[0.0,1.0]},\"hovertemplate\":\"index=%{label}<br>toSt=%{value}<extra></extra>\",\"labels\":[\"Dead end\",\"8 Avenue Line\",\"BODY OF WATER\"],\"legendgroup\":\"\",\"name\":\"\",\"showlegend\":true,\"values\":[2128177,247490,213175],\"type\":\"pie\"}],                        {\"template\":{\"data\":{\"bar\":[{\"error_x\":{\"color\":\"#2a3f5f\"},\"error_y\":{\"color\":\"#2a3f5f\"},\"marker\":{\"line\":{\"color\":\"#E5ECF6\",\"width\":0.5},\"pattern\":{\"fillmode\":\"overlay\",\"size\":10,\"solidity\":0.2}},\"type\":\"bar\"}],\"barpolar\":[{\"marker\":{\"line\":{\"color\":\"#E5ECF6\",\"width\":0.5},\"pattern\":{\"fillmode\":\"overlay\",\"size\":10,\"solidity\":0.2}},\"type\":\"barpolar\"}],\"carpet\":[{\"aaxis\":{\"endlinecolor\":\"#2a3f5f\",\"gridcolor\":\"white\",\"linecolor\":\"white\",\"minorgridcolor\":\"white\",\"startlinecolor\":\"#2a3f5f\"},\"baxis\":{\"endlinecolor\":\"#2a3f5f\",\"gridcolor\":\"white\",\"linecolor\":\"white\",\"minorgridcolor\":\"white\",\"startlinecolor\":\"#2a3f5f\"},\"type\":\"carpet\"}],\"choropleth\":[{\"colorbar\":{\"outlinewidth\":0,\"ticks\":\"\"},\"type\":\"choropleth\"}],\"contour\":[{\"colorbar\":{\"outlinewidth\":0,\"ticks\":\"\"},\"colorscale\":[[0.0,\"#0d0887\"],[0.1111111111111111,\"#46039f\"],[0.2222222222222222,\"#7201a8\"],[0.3333333333333333,\"#9c179e\"],[0.4444444444444444,\"#bd3786\"],[0.5555555555555556,\"#d8576b\"],[0.6666666666666666,\"#ed7953\"],[0.7777777777777778,\"#fb9f3a\"],[0.8888888888888888,\"#fdca26\"],[1.0,\"#f0f921\"]],\"type\":\"contour\"}],\"contourcarpet\":[{\"colorbar\":{\"outlinewidth\":0,\"ticks\":\"\"},\"type\":\"contourcarpet\"}],\"heatmap\":[{\"colorbar\":{\"outlinewidth\":0,\"ticks\":\"\"},\"colorscale\":[[0.0,\"#0d0887\"],[0.1111111111111111,\"#46039f\"],[0.2222222222222222,\"#7201a8\"],[0.3333333333333333,\"#9c179e\"],[0.4444444444444444,\"#bd3786\"],[0.5555555555555556,\"#d8576b\"],[0.6666666666666666,\"#ed7953\"],[0.7777777777777778,\"#fb9f3a\"],[0.8888888888888888,\"#fdca26\"],[1.0,\"#f0f921\"]],\"type\":\"heatmap\"}],\"heatmapgl\":[{\"colorbar\":{\"outlinewidth\":0,\"ticks\":\"\"},\"colorscale\":[[0.0,\"#0d0887\"],[0.1111111111111111,\"#46039f\"],[0.2222222222222222,\"#7201a8\"],[0.3333333333333333,\"#9c179e\"],[0.4444444444444444,\"#bd3786\"],[0.5555555555555556,\"#d8576b\"],[0.6666666666666666,\"#ed7953\"],[0.7777777777777778,\"#fb9f3a\"],[0.8888888888888888,\"#fdca26\"],[1.0,\"#f0f921\"]],\"type\":\"heatmapgl\"}],\"histogram\":[{\"marker\":{\"pattern\":{\"fillmode\":\"overlay\",\"size\":10,\"solidity\":0.2}},\"type\":\"histogram\"}],\"histogram2d\":[{\"colorbar\":{\"outlinewidth\":0,\"ticks\":\"\"},\"colorscale\":[[0.0,\"#0d0887\"],[0.1111111111111111,\"#46039f\"],[0.2222222222222222,\"#7201a8\"],[0.3333333333333333,\"#9c179e\"],[0.4444444444444444,\"#bd3786\"],[0.5555555555555556,\"#d8576b\"],[0.6666666666666666,\"#ed7953\"],[0.7777777777777778,\"#fb9f3a\"],[0.8888888888888888,\"#fdca26\"],[1.0,\"#f0f921\"]],\"type\":\"histogram2d\"}],\"histogram2dcontour\":[{\"colorbar\":{\"outlinewidth\":0,\"ticks\":\"\"},\"colorscale\":[[0.0,\"#0d0887\"],[0.1111111111111111,\"#46039f\"],[0.2222222222222222,\"#7201a8\"],[0.3333333333333333,\"#9c179e\"],[0.4444444444444444,\"#bd3786\"],[0.5555555555555556,\"#d8576b\"],[0.6666666666666666,\"#ed7953\"],[0.7777777777777778,\"#fb9f3a\"],[0.8888888888888888,\"#fdca26\"],[1.0,\"#f0f921\"]],\"type\":\"histogram2dcontour\"}],\"mesh3d\":[{\"colorbar\":{\"outlinewidth\":0,\"ticks\":\"\"},\"type\":\"mesh3d\"}],\"parcoords\":[{\"line\":{\"colorbar\":{\"outlinewidth\":0,\"ticks\":\"\"}},\"type\":\"parcoords\"}],\"pie\":[{\"automargin\":true,\"type\":\"pie\"}],\"scatter\":[{\"marker\":{\"colorbar\":{\"outlinewidth\":0,\"ticks\":\"\"}},\"type\":\"scatter\"}],\"scatter3d\":[{\"line\":{\"colorbar\":{\"outlinewidth\":0,\"ticks\":\"\"}},\"marker\":{\"colorbar\":{\"outlinewidth\":0,\"ticks\":\"\"}},\"type\":\"scatter3d\"}],\"scattercarpet\":[{\"marker\":{\"colorbar\":{\"outlinewidth\":0,\"ticks\":\"\"}},\"type\":\"scattercarpet\"}],\"scattergeo\":[{\"marker\":{\"colorbar\":{\"outlinewidth\":0,\"ticks\":\"\"}},\"type\":\"scattergeo\"}],\"scattergl\":[{\"marker\":{\"colorbar\":{\"outlinewidth\":0,\"ticks\":\"\"}},\"type\":\"scattergl\"}],\"scattermapbox\":[{\"marker\":{\"colorbar\":{\"outlinewidth\":0,\"ticks\":\"\"}},\"type\":\"scattermapbox\"}],\"scatterpolar\":[{\"marker\":{\"colorbar\":{\"outlinewidth\":0,\"ticks\":\"\"}},\"type\":\"scatterpolar\"}],\"scatterpolargl\":[{\"marker\":{\"colorbar\":{\"outlinewidth\":0,\"ticks\":\"\"}},\"type\":\"scatterpolargl\"}],\"scatterternary\":[{\"marker\":{\"colorbar\":{\"outlinewidth\":0,\"ticks\":\"\"}},\"type\":\"scatterternary\"}],\"surface\":[{\"colorbar\":{\"outlinewidth\":0,\"ticks\":\"\"},\"colorscale\":[[0.0,\"#0d0887\"],[0.1111111111111111,\"#46039f\"],[0.2222222222222222,\"#7201a8\"],[0.3333333333333333,\"#9c179e\"],[0.4444444444444444,\"#bd3786\"],[0.5555555555555556,\"#d8576b\"],[0.6666666666666666,\"#ed7953\"],[0.7777777777777778,\"#fb9f3a\"],[0.8888888888888888,\"#fdca26\"],[1.0,\"#f0f921\"]],\"type\":\"surface\"}],\"table\":[{\"cells\":{\"fill\":{\"color\":\"#EBF0F8\"},\"line\":{\"color\":\"white\"}},\"header\":{\"fill\":{\"color\":\"#C8D4E3\"},\"line\":{\"color\":\"white\"}},\"type\":\"table\"}]},\"layout\":{\"annotationdefaults\":{\"arrowcolor\":\"#2a3f5f\",\"arrowhead\":0,\"arrowwidth\":1},\"autotypenumbers\":\"strict\",\"coloraxis\":{\"colorbar\":{\"outlinewidth\":0,\"ticks\":\"\"}},\"colorscale\":{\"diverging\":[[0,\"#8e0152\"],[0.1,\"#c51b7d\"],[0.2,\"#de77ae\"],[0.3,\"#f1b6da\"],[0.4,\"#fde0ef\"],[0.5,\"#f7f7f7\"],[0.6,\"#e6f5d0\"],[0.7,\"#b8e186\"],[0.8,\"#7fbc41\"],[0.9,\"#4d9221\"],[1,\"#276419\"]],\"sequential\":[[0.0,\"#0d0887\"],[0.1111111111111111,\"#46039f\"],[0.2222222222222222,\"#7201a8\"],[0.3333333333333333,\"#9c179e\"],[0.4444444444444444,\"#bd3786\"],[0.5555555555555556,\"#d8576b\"],[0.6666666666666666,\"#ed7953\"],[0.7777777777777778,\"#fb9f3a\"],[0.8888888888888888,\"#fdca26\"],[1.0,\"#f0f921\"]],\"sequentialminus\":[[0.0,\"#0d0887\"],[0.1111111111111111,\"#46039f\"],[0.2222222222222222,\"#7201a8\"],[0.3333333333333333,\"#9c179e\"],[0.4444444444444444,\"#bd3786\"],[0.5555555555555556,\"#d8576b\"],[0.6666666666666666,\"#ed7953\"],[0.7777777777777778,\"#fb9f3a\"],[0.8888888888888888,\"#fdca26\"],[1.0,\"#f0f921\"]]},\"colorway\":[\"#636efa\",\"#EF553B\",\"#00cc96\",\"#ab63fa\",\"#FFA15A\",\"#19d3f3\",\"#FF6692\",\"#B6E880\",\"#FF97FF\",\"#FECB52\"],\"font\":{\"color\":\"#2a3f5f\"},\"geo\":{\"bgcolor\":\"white\",\"lakecolor\":\"white\",\"landcolor\":\"#E5ECF6\",\"showlakes\":true,\"showland\":true,\"subunitcolor\":\"white\"},\"hoverlabel\":{\"align\":\"left\"},\"hovermode\":\"closest\",\"mapbox\":{\"style\":\"light\"},\"paper_bgcolor\":\"white\",\"plot_bgcolor\":\"#E5ECF6\",\"polar\":{\"angularaxis\":{\"gridcolor\":\"white\",\"linecolor\":\"white\",\"ticks\":\"\"},\"bgcolor\":\"#E5ECF6\",\"radialaxis\":{\"gridcolor\":\"white\",\"linecolor\":\"white\",\"ticks\":\"\"}},\"scene\":{\"xaxis\":{\"backgroundcolor\":\"#E5ECF6\",\"gridcolor\":\"white\",\"gridwidth\":2,\"linecolor\":\"white\",\"showbackground\":true,\"ticks\":\"\",\"zerolinecolor\":\"white\"},\"yaxis\":{\"backgroundcolor\":\"#E5ECF6\",\"gridcolor\":\"white\",\"gridwidth\":2,\"linecolor\":\"white\",\"showbackground\":true,\"ticks\":\"\",\"zerolinecolor\":\"white\"},\"zaxis\":{\"backgroundcolor\":\"#E5ECF6\",\"gridcolor\":\"white\",\"gridwidth\":2,\"linecolor\":\"white\",\"showbackground\":true,\"ticks\":\"\",\"zerolinecolor\":\"white\"}},\"shapedefaults\":{\"line\":{\"color\":\"#2a3f5f\"}},\"ternary\":{\"aaxis\":{\"gridcolor\":\"white\",\"linecolor\":\"white\",\"ticks\":\"\"},\"baxis\":{\"gridcolor\":\"white\",\"linecolor\":\"white\",\"ticks\":\"\"},\"bgcolor\":\"#E5ECF6\",\"caxis\":{\"gridcolor\":\"white\",\"linecolor\":\"white\",\"ticks\":\"\"}},\"title\":{\"x\":0.05},\"xaxis\":{\"automargin\":true,\"gridcolor\":\"white\",\"linecolor\":\"white\",\"ticks\":\"\",\"title\":{\"standoff\":15},\"zerolinecolor\":\"white\",\"zerolinewidth\":2},\"yaxis\":{\"automargin\":true,\"gridcolor\":\"white\",\"linecolor\":\"white\",\"ticks\":\"\",\"title\":{\"standoff\":15},\"zerolinecolor\":\"white\",\"zerolinewidth\":2}}},\"legend\":{\"tracegroupgap\":0},\"title\":{\"text\":\"Top 3 Street that most Cars Go\"}},                        {\"responsive\": true}                    ).then(function(){\n",
              "                            \n",
              "var gd = document.getElementById('772b9055-4ee4-4c94-8158-bd7960acb4e7');\n",
              "var x = new MutationObserver(function (mutations, observer) {{\n",
              "        var display = window.getComputedStyle(gd).display;\n",
              "        if (!display || display === 'none') {{\n",
              "            console.log([gd, 'removed!']);\n",
              "            Plotly.purge(gd);\n",
              "            observer.disconnect();\n",
              "        }}\n",
              "}});\n",
              "\n",
              "// Listen for the removal of the full notebook cells\n",
              "var notebookContainer = gd.closest('#notebook-container');\n",
              "if (notebookContainer) {{\n",
              "    x.observe(notebookContainer, {childList: true});\n",
              "}}\n",
              "\n",
              "// Listen for the clearing of the current output cell\n",
              "var outputEl = gd.closest('.output');\n",
              "if (outputEl) {{\n",
              "    x.observe(outputEl, {childList: true});\n",
              "}}\n",
              "\n",
              "                        })                };                            </script>        </div>\n",
              "</body>\n",
              "</html>"
            ]
          },
          "metadata": {}
        }
      ]
    },
    {
      "cell_type": "markdown",
      "source": [
        "**2. PySpark**"
      ],
      "metadata": {
        "id": "aafdiFMoE5UI"
      }
    },
    {
      "cell_type": "code",
      "source": [
        "%time\n",
        "py_street = s_df.groupBy(\"toSt\").agg(count(\"*\").alias(\"count\")).sort(col(\"count\").desc())\n",
        "py_street.show(3)"
      ],
      "metadata": {
        "colab": {
          "base_uri": "https://localhost:8080/"
        },
        "id": "DGt7pGprF54m",
        "outputId": "25fdfa17-70c0-4fff-a4e9-144a768bdb9d"
      },
      "execution_count": null,
      "outputs": [
        {
          "output_type": "stream",
          "name": "stdout",
          "text": [
            "CPU times: user 3 µs, sys: 1 µs, total: 4 µs\n",
            "Wall time: 9.3 µs\n",
            "+-------------+-------+\n",
            "|         toSt|  count|\n",
            "+-------------+-------+\n",
            "|     Dead end|2128177|\n",
            "|8 Avenue Line| 247490|\n",
            "|BODY OF WATER| 213175|\n",
            "+-------------+-------+\n",
            "only showing top 3 rows\n",
            "\n"
          ]
        }
      ]
    },
    {
      "cell_type": "code",
      "source": [
        "%time\n",
        "# Group the data by the 'toSt' column and count the number of occurrences of each value\n",
        "grouped_data = s_df.groupBy(\"toSt\").agg(count(\"*\").alias(\"count\"))\n",
        "\n",
        "# Sort the grouped data in descending order by the count\n",
        "sorted_data = grouped_data.sort(col(\"count\").desc())\n",
        "\n",
        "# Select the top 3 rows of sorted data\n",
        "top_3 = sorted_data.limit(3)\n",
        "\n",
        "# Collect the data to a local Python list\n",
        "local_data = [row['count'] for row in top_3.collect()]\n",
        "\n",
        "# Plot the data as a pie chart\n",
        "import matplotlib.pyplot as plt\n",
        "\n",
        "labels = [row['toSt'] for row in top_3.collect()]\n",
        "plt.pie(local_data, labels=labels)\n",
        "plt.title('Top 3 Streets That Most Cars Go')\n",
        "plt.show()"
      ],
      "metadata": {
        "colab": {
          "base_uri": "https://localhost:8080/",
          "height": 299
        },
        "id": "Y58V1W5uF51-",
        "outputId": "53d9d473-19f4-4aa6-e989-9302de32c5b3"
      },
      "execution_count": null,
      "outputs": [
        {
          "output_type": "stream",
          "name": "stdout",
          "text": [
            "CPU times: user 2 µs, sys: 0 ns, total: 2 µs\n",
            "Wall time: 4.77 µs\n"
          ]
        },
        {
          "output_type": "display_data",
          "data": {
            "text/plain": [
              "<Figure size 432x288 with 1 Axes>"
            ],
            "image/png": "[encoded data removed]"
          },
          "metadata": {}
        }
      ]
    },
    {
      "cell_type": "markdown",
      "source": [
        "**3. Dask**"
      ],
      "metadata": {
        "id": "1M4s18CVFRCQ"
      }
    },
    {
      "cell_type": "code",
      "source": [
        "%time\n",
        "d_street = ddf[\"toSt\"].value_counts().nlargest(3)\n",
        "d_street.compute()"
      ],
      "metadata": {
        "id": "5YRuwRVVF6mm",
        "colab": {
          "base_uri": "https://localhost:8080/"
        },
        "outputId": "e2092903-5883-464a-a7b1-ff1d7727cdcc"
      },
      "execution_count": null,
      "outputs": [
        {
          "output_type": "stream",
          "name": "stdout",
          "text": [
            "CPU times: user 3 µs, sys: 0 ns, total: 3 µs\n",
            "Wall time: 5.72 µs\n"
          ]
        },
        {
          "output_type": "execute_result",
          "data": {
            "text/plain": [
              "Dead end         2128177\n",
              "8 Avenue Line     247490\n",
              "BODY OF WATER     213175\n",
              "Name: toSt, dtype: int64"
            ]
          },
          "metadata": {},
          "execution_count": 21
        }
      ]
    },
    {
      "cell_type": "code",
      "source": [
        "%%time\n",
        "d_street.compute().plot.pie(autopct = '%.2f%%', pctdistance=1.1, labeldistance=0.7)\n",
        "plt.legend(d_street.index, loc='right', bbox_to_anchor=(1.5,0.5))\n",
        "plt.title('Top 3 Street that most Cars Go')\n",
        "plt.show()"
      ],
      "metadata": {
        "id": "sGb4YLxTF6kG",
        "colab": {
          "base_uri": "https://localhost:8080/",
          "height": 299
        },
        "outputId": "6cdc69db-338b-4131-9e51-53b004669fcc"
      },
      "execution_count": null,
      "outputs": [
        {
          "output_type": "display_data",
          "data": {
            "text/plain": [
              "<Figure size 432x288 with 1 Axes>"
            ],
            "image/png": "[encoded data removed]"
          },
          "metadata": {}
        },
        {
          "output_type": "stream",
          "name": "stdout",
          "text": [
            "CPU times: user 11min 8s, sys: 8.28 s, total: 11min 17s\n",
            "Wall time: 6min 49s\n"
          ]
        }
      ]
    },
    {
      "cell_type": "markdown",
      "source": [
        "><b>Explaination & Answer</b>\n",
        "\n",
        ">The second question aimed to determine the top 3 streets that see the highest volume of cars. To answer this question, we counted the number of occurrences of each unique value in the 'toSt' column. After sorting the count in descending order, we selected the top 3 values that have the highest count. Then, we used a pie chart to visualize the results so that we could see the proportion of each street in the top 3 streets. This graphical representation helped us to get a clearer understanding of which streets are more frequently used by cars. By plotting the pie chart, we were able to see the percentage of cars that goes to each of the top 3 streets, giving us a better idea of which streets are more heavily used."
      ],
      "metadata": {
        "id": "Vvfw-0HQyILK"
      }
    },
    {
      "cell_type": "markdown",
      "source": [
        "#### Q3: In Brooklyn, what year has the highest count of cars?"
      ],
      "metadata": {
        "id": "kz9F-3QKF8wQ"
      }
    },
    {
      "cell_type": "markdown",
      "source": [
        "**1. Koalas**"
      ],
      "metadata": {
        "id": "xNgY6DNVEzjY"
      }
    },
    {
      "cell_type": "code",
      "source": [
        "%%time\n",
        "kdf1 = kdf[kdf['Boro'] == 'Brooklyn']\n",
        "highest_year = kdf1.groupby('Yr')['Vol'].count().sort_index()\n",
        "highest_year"
      ],
      "metadata": {
        "colab": {
          "base_uri": "https://localhost:8080/"
        },
        "id": "MMQbtULVGDGt",
        "outputId": "81ebec8b-a5c4-4178-fac1-7a340fe39b80"
      },
      "execution_count": null,
      "outputs": [
        {
          "output_type": "stream",
          "name": "stdout",
          "text": [
            "CPU times: user 138 ms, sys: 22.9 ms, total: 161 ms\n",
            "Wall time: 1.2 s\n"
          ]
        },
        {
          "output_type": "execute_result",
          "data": {
            "text/plain": [
              "Yr\n",
              "2007       7035\n",
              "2008      23172\n",
              "2009     290675\n",
              "2010     470595\n",
              "2011     350288\n",
              "2012     728596\n",
              "2013     693686\n",
              "2014    1090610\n",
              "2015     700793\n",
              "2016    1284218\n",
              "2017    1054104\n",
              "2018     660024\n",
              "2019     535372\n",
              "2020      21120\n",
              "Name: Vol, dtype: int64"
            ]
          },
          "metadata": {},
          "execution_count": 21
        }
      ]
    },
    {
      "cell_type": "code",
      "source": [
        "%%time\n",
        "highest_year.plot.line(title='Year vs Count of Cars in Brooklyn')"
      ],
      "metadata": {
        "colab": {
          "base_uri": "https://localhost:8080/",
          "height": 577
        },
        "id": "803ju1A5kAve",
        "outputId": "72a7a934-6e0f-4e2f-a334-73df4b1c1a3b"
      },
      "execution_count": null,
      "outputs": [
        {
          "output_type": "stream",
          "name": "stdout",
          "text": [
            "CPU times: user 522 ms, sys: 58.4 ms, total: 581 ms\n",
            "Wall time: 1min 24s\n"
          ]
        },
        {
          "output_type": "display_data",
          "data": {
            "text/html": [
              "<html>\n",
              "<head><meta charset=\"utf-8\" /></head>\n",
              "<body>\n",
              "    <div>            <script src=\"https://cdnjs.cloudflare.com/ajax/libs/mathjax/2.7.5/MathJax.js?config=TeX-AMS-MML_SVG\"></script><script type=\"text/javascript\">if (window.MathJax) {MathJax.Hub.Config({SVG: {font: \"STIX-Web\"}});}</script>                <script type=\"text/javascript\">window.PlotlyConfig = {MathJaxConfig: 'local'};</script>\n",
              "        <script src=\"https://cdn.plot.ly/plotly-2.8.3.min.js\"></script>                <div id=\"feb562c3-1655-428a-875b-c21887bdc86c\" class=\"plotly-graph-div\" style=\"height:525px; width:100%;\"></div>            <script type=\"text/javascript\">                                    window.PLOTLYENV=window.PLOTLYENV || {};                                    if (document.getElementById(\"feb562c3-1655-428a-875b-c21887bdc86c\")) {                    Plotly.newPlot(                        \"feb562c3-1655-428a-875b-c21887bdc86c\",                        [{\"hovertemplate\":\"variable=Vol<br>Yr=%{x}<br>value=%{y}<extra></extra>\",\"legendgroup\":\"Vol\",\"line\":{\"color\":\"#636efa\",\"dash\":\"solid\"},\"marker\":{\"symbol\":\"circle\"},\"mode\":\"lines\",\"name\":\"Vol\",\"orientation\":\"v\",\"showlegend\":true,\"x\":[2007,2008,2009,2010,2011,2012,2013,2014,2015,2016,2017,2018,2019,2020],\"xaxis\":\"x\",\"y\":[7035,23172,290675,470595,350288,728596,693686,1090610,700793,1284218,1054104,660024,535372,21120],\"yaxis\":\"y\",\"type\":\"scatter\"}],                        {\"template\":{\"data\":{\"bar\":[{\"error_x\":{\"color\":\"#2a3f5f\"},\"error_y\":{\"color\":\"#2a3f5f\"},\"marker\":{\"line\":{\"color\":\"#E5ECF6\",\"width\":0.5},\"pattern\":{\"fillmode\":\"overlay\",\"size\":10,\"solidity\":0.2}},\"type\":\"bar\"}],\"barpolar\":[{\"marker\":{\"line\":{\"color\":\"#E5ECF6\",\"width\":0.5},\"pattern\":{\"fillmode\":\"overlay\",\"size\":10,\"solidity\":0.2}},\"type\":\"barpolar\"}],\"carpet\":[{\"aaxis\":{\"endlinecolor\":\"#2a3f5f\",\"gridcolor\":\"white\",\"linecolor\":\"white\",\"minorgridcolor\":\"white\",\"startlinecolor\":\"#2a3f5f\"},\"baxis\":{\"endlinecolor\":\"#2a3f5f\",\"gridcolor\":\"white\",\"linecolor\":\"white\",\"minorgridcolor\":\"white\",\"startlinecolor\":\"#2a3f5f\"},\"type\":\"carpet\"}],\"choropleth\":[{\"colorbar\":{\"outlinewidth\":0,\"ticks\":\"\"},\"type\":\"choropleth\"}],\"contour\":[{\"colorbar\":{\"outlinewidth\":0,\"ticks\":\"\"},\"colorscale\":[[0.0,\"#0d0887\"],[0.1111111111111111,\"#46039f\"],[0.2222222222222222,\"#7201a8\"],[0.3333333333333333,\"#9c179e\"],[0.4444444444444444,\"#bd3786\"],[0.5555555555555556,\"#d8576b\"],[0.6666666666666666,\"#ed7953\"],[0.7777777777777778,\"#fb9f3a\"],[0.8888888888888888,\"#fdca26\"],[1.0,\"#f0f921\"]],\"type\":\"contour\"}],\"contourcarpet\":[{\"colorbar\":{\"outlinewidth\":0,\"ticks\":\"\"},\"type\":\"contourcarpet\"}],\"heatmap\":[{\"colorbar\":{\"outlinewidth\":0,\"ticks\":\"\"},\"colorscale\":[[0.0,\"#0d0887\"],[0.1111111111111111,\"#46039f\"],[0.2222222222222222,\"#7201a8\"],[0.3333333333333333,\"#9c179e\"],[0.4444444444444444,\"#bd3786\"],[0.5555555555555556,\"#d8576b\"],[0.6666666666666666,\"#ed7953\"],[0.7777777777777778,\"#fb9f3a\"],[0.8888888888888888,\"#fdca26\"],[1.0,\"#f0f921\"]],\"type\":\"heatmap\"}],\"heatmapgl\":[{\"colorbar\":{\"outlinewidth\":0,\"ticks\":\"\"},\"colorscale\":[[0.0,\"#0d0887\"],[0.1111111111111111,\"#46039f\"],[0.2222222222222222,\"#7201a8\"],[0.3333333333333333,\"#9c179e\"],[0.4444444444444444,\"#bd3786\"],[0.5555555555555556,\"#d8576b\"],[0.6666666666666666,\"#ed7953\"],[0.7777777777777778,\"#fb9f3a\"],[0.8888888888888888,\"#fdca26\"],[1.0,\"#f0f921\"]],\"type\":\"heatmapgl\"}],\"histogram\":[{\"marker\":{\"pattern\":{\"fillmode\":\"overlay\",\"size\":10,\"solidity\":0.2}},\"type\":\"histogram\"}],\"histogram2d\":[{\"colorbar\":{\"outlinewidth\":0,\"ticks\":\"\"},\"colorscale\":[[0.0,\"#0d0887\"],[0.1111111111111111,\"#46039f\"],[0.2222222222222222,\"#7201a8\"],[0.3333333333333333,\"#9c179e\"],[0.4444444444444444,\"#bd3786\"],[0.5555555555555556,\"#d8576b\"],[0.6666666666666666,\"#ed7953\"],[0.7777777777777778,\"#fb9f3a\"],[0.8888888888888888,\"#fdca26\"],[1.0,\"#f0f921\"]],\"type\":\"histogram2d\"}],\"histogram2dcontour\":[{\"colorbar\":{\"outlinewidth\":0,\"ticks\":\"\"},\"colorscale\":[[0.0,\"#0d0887\"],[0.1111111111111111,\"#46039f\"],[0.2222222222222222,\"#7201a8\"],[0.3333333333333333,\"#9c179e\"],[0.4444444444444444,\"#bd3786\"],[0.5555555555555556,\"#d8576b\"],[0.6666666666666666,\"#ed7953\"],[0.7777777777777778,\"#fb9f3a\"],[0.8888888888888888,\"#fdca26\"],[1.0,\"#f0f921\"]],\"type\":\"histogram2dcontour\"}],\"mesh3d\":[{\"colorbar\":{\"outlinewidth\":0,\"ticks\":\"\"},\"type\":\"mesh3d\"}],\"parcoords\":[{\"line\":{\"colorbar\":{\"outlinewidth\":0,\"ticks\":\"\"}},\"type\":\"parcoords\"}],\"pie\":[{\"automargin\":true,\"type\":\"pie\"}],\"scatter\":[{\"marker\":{\"colorbar\":{\"outlinewidth\":0,\"ticks\":\"\"}},\"type\":\"scatter\"}],\"scatter3d\":[{\"line\":{\"colorbar\":{\"outlinewidth\":0,\"ticks\":\"\"}},\"marker\":{\"colorbar\":{\"outlinewidth\":0,\"ticks\":\"\"}},\"type\":\"scatter3d\"}],\"scattercarpet\":[{\"marker\":{\"colorbar\":{\"outlinewidth\":0,\"ticks\":\"\"}},\"type\":\"scattercarpet\"}],\"scattergeo\":[{\"marker\":{\"colorbar\":{\"outlinewidth\":0,\"ticks\":\"\"}},\"type\":\"scattergeo\"}],\"scattergl\":[{\"marker\":{\"colorbar\":{\"outlinewidth\":0,\"ticks\":\"\"}},\"type\":\"scattergl\"}],\"scattermapbox\":[{\"marker\":{\"colorbar\":{\"outlinewidth\":0,\"ticks\":\"\"}},\"type\":\"scattermapbox\"}],\"scatterpolar\":[{\"marker\":{\"colorbar\":{\"outlinewidth\":0,\"ticks\":\"\"}},\"type\":\"scatterpolar\"}],\"scatterpolargl\":[{\"marker\":{\"colorbar\":{\"outlinewidth\":0,\"ticks\":\"\"}},\"type\":\"scatterpolargl\"}],\"scatterternary\":[{\"marker\":{\"colorbar\":{\"outlinewidth\":0,\"ticks\":\"\"}},\"type\":\"scatterternary\"}],\"surface\":[{\"colorbar\":{\"outlinewidth\":0,\"ticks\":\"\"},\"colorscale\":[[0.0,\"#0d0887\"],[0.1111111111111111,\"#46039f\"],[0.2222222222222222,\"#7201a8\"],[0.3333333333333333,\"#9c179e\"],[0.4444444444444444,\"#bd3786\"],[0.5555555555555556,\"#d8576b\"],[0.6666666666666666,\"#ed7953\"],[0.7777777777777778,\"#fb9f3a\"],[0.8888888888888888,\"#fdca26\"],[1.0,\"#f0f921\"]],\"type\":\"surface\"}],\"table\":[{\"cells\":{\"fill\":{\"color\":\"#EBF0F8\"},\"line\":{\"color\":\"white\"}},\"header\":{\"fill\":{\"color\":\"#C8D4E3\"},\"line\":{\"color\":\"white\"}},\"type\":\"table\"}]},\"layout\":{\"annotationdefaults\":{\"arrowcolor\":\"#2a3f5f\",\"arrowhead\":0,\"arrowwidth\":1},\"autotypenumbers\":\"strict\",\"coloraxis\":{\"colorbar\":{\"outlinewidth\":0,\"ticks\":\"\"}},\"colorscale\":{\"diverging\":[[0,\"#8e0152\"],[0.1,\"#c51b7d\"],[0.2,\"#de77ae\"],[0.3,\"#f1b6da\"],[0.4,\"#fde0ef\"],[0.5,\"#f7f7f7\"],[0.6,\"#e6f5d0\"],[0.7,\"#b8e186\"],[0.8,\"#7fbc41\"],[0.9,\"#4d9221\"],[1,\"#276419\"]],\"sequential\":[[0.0,\"#0d0887\"],[0.1111111111111111,\"#46039f\"],[0.2222222222222222,\"#7201a8\"],[0.3333333333333333,\"#9c179e\"],[0.4444444444444444,\"#bd3786\"],[0.5555555555555556,\"#d8576b\"],[0.6666666666666666,\"#ed7953\"],[0.7777777777777778,\"#fb9f3a\"],[0.8888888888888888,\"#fdca26\"],[1.0,\"#f0f921\"]],\"sequentialminus\":[[0.0,\"#0d0887\"],[0.1111111111111111,\"#46039f\"],[0.2222222222222222,\"#7201a8\"],[0.3333333333333333,\"#9c179e\"],[0.4444444444444444,\"#bd3786\"],[0.5555555555555556,\"#d8576b\"],[0.6666666666666666,\"#ed7953\"],[0.7777777777777778,\"#fb9f3a\"],[0.8888888888888888,\"#fdca26\"],[1.0,\"#f0f921\"]]},\"colorway\":[\"#636efa\",\"#EF553B\",\"#00cc96\",\"#ab63fa\",\"#FFA15A\",\"#19d3f3\",\"#FF6692\",\"#B6E880\",\"#FF97FF\",\"#FECB52\"],\"font\":{\"color\":\"#2a3f5f\"},\"geo\":{\"bgcolor\":\"white\",\"lakecolor\":\"white\",\"landcolor\":\"#E5ECF6\",\"showlakes\":true,\"showland\":true,\"subunitcolor\":\"white\"},\"hoverlabel\":{\"align\":\"left\"},\"hovermode\":\"closest\",\"mapbox\":{\"style\":\"light\"},\"paper_bgcolor\":\"white\",\"plot_bgcolor\":\"#E5ECF6\",\"polar\":{\"angularaxis\":{\"gridcolor\":\"white\",\"linecolor\":\"white\",\"ticks\":\"\"},\"bgcolor\":\"#E5ECF6\",\"radialaxis\":{\"gridcolor\":\"white\",\"linecolor\":\"white\",\"ticks\":\"\"}},\"scene\":{\"xaxis\":{\"backgroundcolor\":\"#E5ECF6\",\"gridcolor\":\"white\",\"gridwidth\":2,\"linecolor\":\"white\",\"showbackground\":true,\"ticks\":\"\",\"zerolinecolor\":\"white\"},\"yaxis\":{\"backgroundcolor\":\"#E5ECF6\",\"gridcolor\":\"white\",\"gridwidth\":2,\"linecolor\":\"white\",\"showbackground\":true,\"ticks\":\"\",\"zerolinecolor\":\"white\"},\"zaxis\":{\"backgroundcolor\":\"#E5ECF6\",\"gridcolor\":\"white\",\"gridwidth\":2,\"linecolor\":\"white\",\"showbackground\":true,\"ticks\":\"\",\"zerolinecolor\":\"white\"}},\"shapedefaults\":{\"line\":{\"color\":\"#2a3f5f\"}},\"ternary\":{\"aaxis\":{\"gridcolor\":\"white\",\"linecolor\":\"white\",\"ticks\":\"\"},\"baxis\":{\"gridcolor\":\"white\",\"linecolor\":\"white\",\"ticks\":\"\"},\"bgcolor\":\"#E5ECF6\",\"caxis\":{\"gridcolor\":\"white\",\"linecolor\":\"white\",\"ticks\":\"\"}},\"title\":{\"x\":0.05},\"xaxis\":{\"automargin\":true,\"gridcolor\":\"white\",\"linecolor\":\"white\",\"ticks\":\"\",\"title\":{\"standoff\":15},\"zerolinecolor\":\"white\",\"zerolinewidth\":2},\"yaxis\":{\"automargin\":true,\"gridcolor\":\"white\",\"linecolor\":\"white\",\"ticks\":\"\",\"title\":{\"standoff\":15},\"zerolinecolor\":\"white\",\"zerolinewidth\":2}}},\"xaxis\":{\"anchor\":\"y\",\"domain\":[0.0,1.0],\"title\":{\"text\":\"Yr\"}},\"yaxis\":{\"anchor\":\"x\",\"domain\":[0.0,1.0],\"title\":{\"text\":\"value\"}},\"legend\":{\"title\":{\"text\":\"variable\"},\"tracegroupgap\":0},\"title\":{\"text\":\"Year vs Count of Cars in Brooklyn\"}},                        {\"responsive\": true}                    ).then(function(){\n",
              "                            \n",
              "var gd = document.getElementById('feb562c3-1655-428a-875b-c21887bdc86c');\n",
              "var x = new MutationObserver(function (mutations, observer) {{\n",
              "        var display = window.getComputedStyle(gd).display;\n",
              "        if (!display || display === 'none') {{\n",
              "            console.log([gd, 'removed!']);\n",
              "            Plotly.purge(gd);\n",
              "            observer.disconnect();\n",
              "        }}\n",
              "}});\n",
              "\n",
              "// Listen for the removal of the full notebook cells\n",
              "var notebookContainer = gd.closest('#notebook-container');\n",
              "if (notebookContainer) {{\n",
              "    x.observe(notebookContainer, {childList: true});\n",
              "}}\n",
              "\n",
              "// Listen for the clearing of the current output cell\n",
              "var outputEl = gd.closest('.output');\n",
              "if (outputEl) {{\n",
              "    x.observe(outputEl, {childList: true});\n",
              "}}\n",
              "\n",
              "                        })                };                            </script>        </div>\n",
              "</body>\n",
              "</html>"
            ]
          },
          "metadata": {}
        }
      ]
    },
    {
      "cell_type": "markdown",
      "source": [
        "**2. PySpark**"
      ],
      "metadata": {
        "id": "nNVxQsShE5mc"
      }
    },
    {
      "cell_type": "code",
      "source": [
        "%%time\n",
        "s_df1 = s_df.filter(s_df['Boro'] == 'Brooklyn')\n",
        "highest_year = s_df1.groupBy(\"Yr\").agg(count(\"Vol\").alias(\"count\")).sort(\"Yr\")\n",
        "highest_year.show()"
      ],
      "metadata": {
        "id": "q8VdC7KyGD3G",
        "colab": {
          "base_uri": "https://localhost:8080/"
        },
        "outputId": "797f5549-127d-4237-a40f-64b4f72efb16"
      },
      "execution_count": null,
      "outputs": [
        {
          "output_type": "stream",
          "name": "stdout",
          "text": [
            "+----+-------+\n",
            "|  Yr|  count|\n",
            "+----+-------+\n",
            "|2007|   7035|\n",
            "|2008|  23172|\n",
            "|2009| 290675|\n",
            "|2010| 470595|\n",
            "|2011| 350288|\n",
            "|2012| 728596|\n",
            "|2013| 693686|\n",
            "|2014|1090610|\n",
            "|2015| 700793|\n",
            "|2016|1284218|\n",
            "|2017|1054104|\n",
            "|2018| 660024|\n",
            "|2019| 535372|\n",
            "|2020|  21120|\n",
            "+----+-------+\n",
            "\n",
            "CPU times: user 934 ms, sys: 126 ms, total: 1.06 s\n",
            "Wall time: 1min 38s\n"
          ]
        }
      ]
    },
    {
      "cell_type": "code",
      "source": [
        "%%time\n",
        "# Extract the year and count columns as lists\n",
        "years = highest_year.select(\"Yr\").rdd.flatMap(lambda x: x).collect()\n",
        "counts = highest_year.select(\"count\").rdd.flatMap(lambda x: x).collect()\n",
        "\n",
        "# Plot the line chart\n",
        "plt.plot(years, counts)\n",
        "plt.xlabel(\"Year\")\n",
        "plt.ylabel(\"Count\")\n",
        "plt.title(\"Year vs Count of Cars in Brooklyn\")\n",
        "plt.show()"
      ],
      "metadata": {
        "id": "bcyb8jZMGD0N",
        "colab": {
          "base_uri": "https://localhost:8080/",
          "height": 330
        },
        "outputId": "f10af54a-6eb1-4202-bfd3-dbfdce7a9525"
      },
      "execution_count": null,
      "outputs": [
        {
          "output_type": "display_data",
          "data": {
            "text/plain": [
              "<Figure size 432x288 with 1 Axes>"
            ],
            "image/png": "[encoded data removed]"
          },
          "metadata": {
            "needs_background": "light"
          }
        },
        {
          "output_type": "stream",
          "name": "stdout",
          "text": [
            "CPU times: user 830 ms, sys: 78.4 ms, total: 908 ms\n",
            "Wall time: 1min 52s\n"
          ]
        }
      ]
    },
    {
      "cell_type": "markdown",
      "source": [
        "**3. Dask**"
      ],
      "metadata": {
        "id": "d7Zubt-OFRKw"
      }
    },
    {
      "cell_type": "code",
      "source": [
        "%%time\n",
        "ddf1 = ddf[ddf['Boro'] == 'Brooklyn']\n",
        "highest_year = ddf1.groupby('Yr')['Vol'].count().compute()\n",
        "highest_year"
      ],
      "metadata": {
        "id": "fJH6szy9GEct",
        "colab": {
          "base_uri": "https://localhost:8080/"
        },
        "outputId": "6b401455-f7db-46e3-8b36-2542fbd9bdc0"
      },
      "execution_count": null,
      "outputs": [
        {
          "output_type": "stream",
          "name": "stdout",
          "text": [
            "CPU times: user 3min 44s, sys: 2.91 s, total: 3min 47s\n",
            "Wall time: 2min 19s\n"
          ]
        },
        {
          "output_type": "execute_result",
          "data": {
            "text/plain": [
              "Yr\n",
              "2007       7035\n",
              "2008      23172\n",
              "2009     290675\n",
              "2010     470595\n",
              "2011     350288\n",
              "2012     728596\n",
              "2013     693686\n",
              "2014    1090610\n",
              "2015     700793\n",
              "2016    1284218\n",
              "2017    1054104\n",
              "2018     660024\n",
              "2019     535372\n",
              "2020      21120\n",
              "Name: Vol, dtype: int64"
            ]
          },
          "metadata": {},
          "execution_count": 26
        }
      ]
    },
    {
      "cell_type": "code",
      "source": [
        "%%time\n",
        "highest_year.plot(kind='line')\n",
        "\n",
        "plt.title('Year vs Count of Cars in Brooklyn')\n",
        "plt.xlabel('Year')\n",
        "plt.ylabel('Number of Cars')\n",
        "plt.show()"
      ],
      "metadata": {
        "id": "zIg9OirEGERF",
        "colab": {
          "base_uri": "https://localhost:8080/",
          "height": 330
        },
        "outputId": "eca7574d-603b-43c7-cba0-2a46addbc9dd"
      },
      "execution_count": null,
      "outputs": [
        {
          "output_type": "display_data",
          "data": {
            "text/plain": [
              "<Figure size 432x288 with 1 Axes>"
            ],
            "image/png": "[encoded data removed]"
          },
          "metadata": {
            "needs_background": "light"
          }
        },
        {
          "output_type": "stream",
          "name": "stdout",
          "text": [
            "CPU times: user 149 ms, sys: 5.07 ms, total: 154 ms\n",
            "Wall time: 154 ms\n"
          ]
        }
      ]
    },
    {
      "cell_type": "markdown",
      "source": [
        "><b>Explaination & Answer</b>\n",
        "\n",
        ">To understand the trend of car volume in Brooklyn over the years, we first filtered the data frame to include only the records where the value of the 'Boro' column is 'Brooklyn'. Next, we used the groupby method to group the data based on the year, which is the 'Yr' column. After that, we counted the number of cars in each year by aggregating the 'Vol' column.\n",
        "\n",
        ">The result was a series showing the number of cars for each year, sorted in ascending order of the year. To visualize the trend of car volume in Brooklyn, we plotted a line chart to see how the volume changed over the years. The line chart provides a clear visual representation of the growth or decline in car volume in Brooklyn, allowing us to easily identify any patterns or trends in the data. The visual representation makes it easier to comprehend the information and draw insights from the data."
      ],
      "metadata": {
        "id": "uZyloLkGyL98"
      }
    },
    {
      "cell_type": "markdown",
      "source": [
        "#### Q4: What is the 5 year that has the least request ID?"
      ],
      "metadata": {
        "id": "FXHhSo4NGFRW"
      }
    },
    {
      "cell_type": "markdown",
      "source": [
        "**1. Koalas**"
      ],
      "metadata": {
        "id": "hLSpS_Z3EzHs"
      }
    },
    {
      "cell_type": "code",
      "source": [
        "%%time\n",
        "least_request = kdf.groupby(['Yr'])['RequestID'].count().sort_values().head()\n",
        "least_request"
      ],
      "metadata": {
        "colab": {
          "base_uri": "https://localhost:8080/"
        },
        "id": "hJnZDELdGKIW",
        "outputId": "4159496f-3faf-4898-f727-4756474ce8ec"
      },
      "execution_count": null,
      "outputs": [
        {
          "output_type": "stream",
          "name": "stdout",
          "text": [
            "CPU times: user 2 µs, sys: 1 µs, total: 3 µs\n",
            "Wall time: 5.72 µs\n"
          ]
        },
        {
          "output_type": "execute_result",
          "data": {
            "text/plain": [
              "Yr\n",
              "2006       664\n",
              "2000      1904\n",
              "2007     11780\n",
              "2008     68591\n",
              "2020    439689\n",
              "Name: RequestID, dtype: int64"
            ]
          },
          "metadata": {},
          "execution_count": 32
        }
      ]
    },
    {
      "cell_type": "code",
      "source": [
        "%%time\n",
        "kdf.groupby(['Yr'])['RequestID'].count().sort_values().head().plot.pie(title='The 5 Year that has the least Request ID')"
      ],
      "metadata": {
        "colab": {
          "base_uri": "https://localhost:8080/",
          "height": 577
        },
        "id": "e_mA3j9OGKFl",
        "outputId": "82dbf370-b0da-42a2-d7b3-ae713908625d"
      },
      "execution_count": null,
      "outputs": [
        {
          "output_type": "stream",
          "name": "stdout",
          "text": [
            "CPU times: user 589 ms, sys: 61.4 ms, total: 650 ms\n",
            "Wall time: 1min 28s\n"
          ]
        },
        {
          "output_type": "display_data",
          "data": {
            "text/html": [
              "<html>\n",
              "<head><meta charset=\"utf-8\" /></head>\n",
              "<body>\n",
              "    <div>            <script src=\"https://cdnjs.cloudflare.com/ajax/libs/mathjax/2.7.5/MathJax.js?config=TeX-AMS-MML_SVG\"></script><script type=\"text/javascript\">if (window.MathJax) {MathJax.Hub.Config({SVG: {font: \"STIX-Web\"}});}</script>                <script type=\"text/javascript\">window.PlotlyConfig = {MathJaxConfig: 'local'};</script>\n",
              "        <script src=\"https://cdn.plot.ly/plotly-2.8.3.min.js\"></script>                <div id=\"0f382cd8-ab1d-46ca-b7a5-6de94ab9d131\" class=\"plotly-graph-div\" style=\"height:525px; width:100%;\"></div>            <script type=\"text/javascript\">                                    window.PLOTLYENV=window.PLOTLYENV || {};                                    if (document.getElementById(\"0f382cd8-ab1d-46ca-b7a5-6de94ab9d131\")) {                    Plotly.newPlot(                        \"0f382cd8-ab1d-46ca-b7a5-6de94ab9d131\",                        [{\"domain\":{\"x\":[0.0,1.0],\"y\":[0.0,1.0]},\"hovertemplate\":\"Yr=%{label}<br>RequestID=%{value}<extra></extra>\",\"labels\":[2006,2000,2007,2008,2020],\"legendgroup\":\"\",\"name\":\"\",\"showlegend\":true,\"values\":[664,1904,11780,68591,439689],\"type\":\"pie\"}],                        {\"template\":{\"data\":{\"bar\":[{\"error_x\":{\"color\":\"#2a3f5f\"},\"error_y\":{\"color\":\"#2a3f5f\"},\"marker\":{\"line\":{\"color\":\"#E5ECF6\",\"width\":0.5},\"pattern\":{\"fillmode\":\"overlay\",\"size\":10,\"solidity\":0.2}},\"type\":\"bar\"}],\"barpolar\":[{\"marker\":{\"line\":{\"color\":\"#E5ECF6\",\"width\":0.5},\"pattern\":{\"fillmode\":\"overlay\",\"size\":10,\"solidity\":0.2}},\"type\":\"barpolar\"}],\"carpet\":[{\"aaxis\":{\"endlinecolor\":\"#2a3f5f\",\"gridcolor\":\"white\",\"linecolor\":\"white\",\"minorgridcolor\":\"white\",\"startlinecolor\":\"#2a3f5f\"},\"baxis\":{\"endlinecolor\":\"#2a3f5f\",\"gridcolor\":\"white\",\"linecolor\":\"white\",\"minorgridcolor\":\"white\",\"startlinecolor\":\"#2a3f5f\"},\"type\":\"carpet\"}],\"choropleth\":[{\"colorbar\":{\"outlinewidth\":0,\"ticks\":\"\"},\"type\":\"choropleth\"}],\"contour\":[{\"colorbar\":{\"outlinewidth\":0,\"ticks\":\"\"},\"colorscale\":[[0.0,\"#0d0887\"],[0.1111111111111111,\"#46039f\"],[0.2222222222222222,\"#7201a8\"],[0.3333333333333333,\"#9c179e\"],[0.4444444444444444,\"#bd3786\"],[0.5555555555555556,\"#d8576b\"],[0.6666666666666666,\"#ed7953\"],[0.7777777777777778,\"#fb9f3a\"],[0.8888888888888888,\"#fdca26\"],[1.0,\"#f0f921\"]],\"type\":\"contour\"}],\"contourcarpet\":[{\"colorbar\":{\"outlinewidth\":0,\"ticks\":\"\"},\"type\":\"contourcarpet\"}],\"heatmap\":[{\"colorbar\":{\"outlinewidth\":0,\"ticks\":\"\"},\"colorscale\":[[0.0,\"#0d0887\"],[0.1111111111111111,\"#46039f\"],[0.2222222222222222,\"#7201a8\"],[0.3333333333333333,\"#9c179e\"],[0.4444444444444444,\"#bd3786\"],[0.5555555555555556,\"#d8576b\"],[0.6666666666666666,\"#ed7953\"],[0.7777777777777778,\"#fb9f3a\"],[0.8888888888888888,\"#fdca26\"],[1.0,\"#f0f921\"]],\"type\":\"heatmap\"}],\"heatmapgl\":[{\"colorbar\":{\"outlinewidth\":0,\"ticks\":\"\"},\"colorscale\":[[0.0,\"#0d0887\"],[0.1111111111111111,\"#46039f\"],[0.2222222222222222,\"#7201a8\"],[0.3333333333333333,\"#9c179e\"],[0.4444444444444444,\"#bd3786\"],[0.5555555555555556,\"#d8576b\"],[0.6666666666666666,\"#ed7953\"],[0.7777777777777778,\"#fb9f3a\"],[0.8888888888888888,\"#fdca26\"],[1.0,\"#f0f921\"]],\"type\":\"heatmapgl\"}],\"histogram\":[{\"marker\":{\"pattern\":{\"fillmode\":\"overlay\",\"size\":10,\"solidity\":0.2}},\"type\":\"histogram\"}],\"histogram2d\":[{\"colorbar\":{\"outlinewidth\":0,\"ticks\":\"\"},\"colorscale\":[[0.0,\"#0d0887\"],[0.1111111111111111,\"#46039f\"],[0.2222222222222222,\"#7201a8\"],[0.3333333333333333,\"#9c179e\"],[0.4444444444444444,\"#bd3786\"],[0.5555555555555556,\"#d8576b\"],[0.6666666666666666,\"#ed7953\"],[0.7777777777777778,\"#fb9f3a\"],[0.8888888888888888,\"#fdca26\"],[1.0,\"#f0f921\"]],\"type\":\"histogram2d\"}],\"histogram2dcontour\":[{\"colorbar\":{\"outlinewidth\":0,\"ticks\":\"\"},\"colorscale\":[[0.0,\"#0d0887\"],[0.1111111111111111,\"#46039f\"],[0.2222222222222222,\"#7201a8\"],[0.3333333333333333,\"#9c179e\"],[0.4444444444444444,\"#bd3786\"],[0.5555555555555556,\"#d8576b\"],[0.6666666666666666,\"#ed7953\"],[0.7777777777777778,\"#fb9f3a\"],[0.8888888888888888,\"#fdca26\"],[1.0,\"#f0f921\"]],\"type\":\"histogram2dcontour\"}],\"mesh3d\":[{\"colorbar\":{\"outlinewidth\":0,\"ticks\":\"\"},\"type\":\"mesh3d\"}],\"parcoords\":[{\"line\":{\"colorbar\":{\"outlinewidth\":0,\"ticks\":\"\"}},\"type\":\"parcoords\"}],\"pie\":[{\"automargin\":true,\"type\":\"pie\"}],\"scatter\":[{\"marker\":{\"colorbar\":{\"outlinewidth\":0,\"ticks\":\"\"}},\"type\":\"scatter\"}],\"scatter3d\":[{\"line\":{\"colorbar\":{\"outlinewidth\":0,\"ticks\":\"\"}},\"marker\":{\"colorbar\":{\"outlinewidth\":0,\"ticks\":\"\"}},\"type\":\"scatter3d\"}],\"scattercarpet\":[{\"marker\":{\"colorbar\":{\"outlinewidth\":0,\"ticks\":\"\"}},\"type\":\"scattercarpet\"}],\"scattergeo\":[{\"marker\":{\"colorbar\":{\"outlinewidth\":0,\"ticks\":\"\"}},\"type\":\"scattergeo\"}],\"scattergl\":[{\"marker\":{\"colorbar\":{\"outlinewidth\":0,\"ticks\":\"\"}},\"type\":\"scattergl\"}],\"scattermapbox\":[{\"marker\":{\"colorbar\":{\"outlinewidth\":0,\"ticks\":\"\"}},\"type\":\"scattermapbox\"}],\"scatterpolar\":[{\"marker\":{\"colorbar\":{\"outlinewidth\":0,\"ticks\":\"\"}},\"type\":\"scatterpolar\"}],\"scatterpolargl\":[{\"marker\":{\"colorbar\":{\"outlinewidth\":0,\"ticks\":\"\"}},\"type\":\"scatterpolargl\"}],\"scatterternary\":[{\"marker\":{\"colorbar\":{\"outlinewidth\":0,\"ticks\":\"\"}},\"type\":\"scatterternary\"}],\"surface\":[{\"colorbar\":{\"outlinewidth\":0,\"ticks\":\"\"},\"colorscale\":[[0.0,\"#0d0887\"],[0.1111111111111111,\"#46039f\"],[0.2222222222222222,\"#7201a8\"],[0.3333333333333333,\"#9c179e\"],[0.4444444444444444,\"#bd3786\"],[0.5555555555555556,\"#d8576b\"],[0.6666666666666666,\"#ed7953\"],[0.7777777777777778,\"#fb9f3a\"],[0.8888888888888888,\"#fdca26\"],[1.0,\"#f0f921\"]],\"type\":\"surface\"}],\"table\":[{\"cells\":{\"fill\":{\"color\":\"#EBF0F8\"},\"line\":{\"color\":\"white\"}},\"header\":{\"fill\":{\"color\":\"#C8D4E3\"},\"line\":{\"color\":\"white\"}},\"type\":\"table\"}]},\"layout\":{\"annotationdefaults\":{\"arrowcolor\":\"#2a3f5f\",\"arrowhead\":0,\"arrowwidth\":1},\"autotypenumbers\":\"strict\",\"coloraxis\":{\"colorbar\":{\"outlinewidth\":0,\"ticks\":\"\"}},\"colorscale\":{\"diverging\":[[0,\"#8e0152\"],[0.1,\"#c51b7d\"],[0.2,\"#de77ae\"],[0.3,\"#f1b6da\"],[0.4,\"#fde0ef\"],[0.5,\"#f7f7f7\"],[0.6,\"#e6f5d0\"],[0.7,\"#b8e186\"],[0.8,\"#7fbc41\"],[0.9,\"#4d9221\"],[1,\"#276419\"]],\"sequential\":[[0.0,\"#0d0887\"],[0.1111111111111111,\"#46039f\"],[0.2222222222222222,\"#7201a8\"],[0.3333333333333333,\"#9c179e\"],[0.4444444444444444,\"#bd3786\"],[0.5555555555555556,\"#d8576b\"],[0.6666666666666666,\"#ed7953\"],[0.7777777777777778,\"#fb9f3a\"],[0.8888888888888888,\"#fdca26\"],[1.0,\"#f0f921\"]],\"sequentialminus\":[[0.0,\"#0d0887\"],[0.1111111111111111,\"#46039f\"],[0.2222222222222222,\"#7201a8\"],[0.3333333333333333,\"#9c179e\"],[0.4444444444444444,\"#bd3786\"],[0.5555555555555556,\"#d8576b\"],[0.6666666666666666,\"#ed7953\"],[0.7777777777777778,\"#fb9f3a\"],[0.8888888888888888,\"#fdca26\"],[1.0,\"#f0f921\"]]},\"colorway\":[\"#636efa\",\"#EF553B\",\"#00cc96\",\"#ab63fa\",\"#FFA15A\",\"#19d3f3\",\"#FF6692\",\"#B6E880\",\"#FF97FF\",\"#FECB52\"],\"font\":{\"color\":\"#2a3f5f\"},\"geo\":{\"bgcolor\":\"white\",\"lakecolor\":\"white\",\"landcolor\":\"#E5ECF6\",\"showlakes\":true,\"showland\":true,\"subunitcolor\":\"white\"},\"hoverlabel\":{\"align\":\"left\"},\"hovermode\":\"closest\",\"mapbox\":{\"style\":\"light\"},\"paper_bgcolor\":\"white\",\"plot_bgcolor\":\"#E5ECF6\",\"polar\":{\"angularaxis\":{\"gridcolor\":\"white\",\"linecolor\":\"white\",\"ticks\":\"\"},\"bgcolor\":\"#E5ECF6\",\"radialaxis\":{\"gridcolor\":\"white\",\"linecolor\":\"white\",\"ticks\":\"\"}},\"scene\":{\"xaxis\":{\"backgroundcolor\":\"#E5ECF6\",\"gridcolor\":\"white\",\"gridwidth\":2,\"linecolor\":\"white\",\"showbackground\":true,\"ticks\":\"\",\"zerolinecolor\":\"white\"},\"yaxis\":{\"backgroundcolor\":\"#E5ECF6\",\"gridcolor\":\"white\",\"gridwidth\":2,\"linecolor\":\"white\",\"showbackground\":true,\"ticks\":\"\",\"zerolinecolor\":\"white\"},\"zaxis\":{\"backgroundcolor\":\"#E5ECF6\",\"gridcolor\":\"white\",\"gridwidth\":2,\"linecolor\":\"white\",\"showbackground\":true,\"ticks\":\"\",\"zerolinecolor\":\"white\"}},\"shapedefaults\":{\"line\":{\"color\":\"#2a3f5f\"}},\"ternary\":{\"aaxis\":{\"gridcolor\":\"white\",\"linecolor\":\"white\",\"ticks\":\"\"},\"baxis\":{\"gridcolor\":\"white\",\"linecolor\":\"white\",\"ticks\":\"\"},\"bgcolor\":\"#E5ECF6\",\"caxis\":{\"gridcolor\":\"white\",\"linecolor\":\"white\",\"ticks\":\"\"}},\"title\":{\"x\":0.05},\"xaxis\":{\"automargin\":true,\"gridcolor\":\"white\",\"linecolor\":\"white\",\"ticks\":\"\",\"title\":{\"standoff\":15},\"zerolinecolor\":\"white\",\"zerolinewidth\":2},\"yaxis\":{\"automargin\":true,\"gridcolor\":\"white\",\"linecolor\":\"white\",\"ticks\":\"\",\"title\":{\"standoff\":15},\"zerolinecolor\":\"white\",\"zerolinewidth\":2}}},\"legend\":{\"tracegroupgap\":0},\"title\":{\"text\":\"The 5 Year that has the least Request ID\"}},                        {\"responsive\": true}                    ).then(function(){\n",
              "                            \n",
              "var gd = document.getElementById('0f382cd8-ab1d-46ca-b7a5-6de94ab9d131');\n",
              "var x = new MutationObserver(function (mutations, observer) {{\n",
              "        var display = window.getComputedStyle(gd).display;\n",
              "        if (!display || display === 'none') {{\n",
              "            console.log([gd, 'removed!']);\n",
              "            Plotly.purge(gd);\n",
              "            observer.disconnect();\n",
              "        }}\n",
              "}});\n",
              "\n",
              "// Listen for the removal of the full notebook cells\n",
              "var notebookContainer = gd.closest('#notebook-container');\n",
              "if (notebookContainer) {{\n",
              "    x.observe(notebookContainer, {childList: true});\n",
              "}}\n",
              "\n",
              "// Listen for the clearing of the current output cell\n",
              "var outputEl = gd.closest('.output');\n",
              "if (outputEl) {{\n",
              "    x.observe(outputEl, {childList: true});\n",
              "}}\n",
              "\n",
              "                        })                };                            </script>        </div>\n",
              "</body>\n",
              "</html>"
            ]
          },
          "metadata": {}
        }
      ]
    },
    {
      "cell_type": "markdown",
      "source": [
        "**2. PySpark**"
      ],
      "metadata": {
        "id": "hdEkqOPbE5tK"
      }
    },
    {
      "cell_type": "code",
      "source": [
        "%%time\n",
        "least_request = s_df.groupBy(\"Yr\").agg(F.count(\"RequestID\").alias(\"count\"))\n",
        "least_request = least_request.sort(\"count\").limit(5)\n",
        "least_request.show()"
      ],
      "metadata": {
        "id": "JSOwGFONGKv_",
        "colab": {
          "base_uri": "https://localhost:8080/"
        },
        "outputId": "821bae47-4e23-4bb3-e91e-372114014cd4"
      },
      "execution_count": null,
      "outputs": [
        {
          "output_type": "stream",
          "name": "stdout",
          "text": [
            "+----+------+\n",
            "|  Yr| count|\n",
            "+----+------+\n",
            "|2006|   664|\n",
            "|2000|  1904|\n",
            "|2007| 11780|\n",
            "|2008| 68591|\n",
            "|2020|439689|\n",
            "+----+------+\n",
            "\n",
            "CPU times: user 1.07 s, sys: 106 ms, total: 1.17 s\n",
            "Wall time: 3min 20s\n"
          ]
        }
      ]
    },
    {
      "cell_type": "code",
      "source": [
        "%time\n",
        "# Group the data by the 'Yr' column and count the number of occurrences of each value\n",
        "grouped_data = s_df.groupBy(\"Yr\").agg(F.count(\"RequestID\").alias(\"count\"))\n",
        "\n",
        "# Sort the grouped data in ascending order by the count\n",
        "sorted_data = grouped_data.sort(col(\"count\"))\n",
        "\n",
        "# Select the top 5 rows of sorted data\n",
        "top_5 = sorted_data.limit(5)\n",
        "\n",
        "# Collect the data to a local Python list\n",
        "local_data = [row['count'] for row in top_5.collect()]\n",
        "\n",
        "# Plot the data as a pie chart\n",
        "import matplotlib.pyplot as plt\n",
        "\n",
        "labels = [row['Yr'] for row in top_5.collect()]\n",
        "plt.pie(local_data, labels=labels)\n",
        "plt.title('The 5 Year that has the least Request ID')\n",
        "plt.show()"
      ],
      "metadata": {
        "id": "MAQHE1OrGKtO",
        "colab": {
          "base_uri": "https://localhost:8080/",
          "height": 299
        },
        "outputId": "1c2ff7f3-14b4-4678-bbbd-0b11117eda1c"
      },
      "execution_count": null,
      "outputs": [
        {
          "output_type": "stream",
          "name": "stdout",
          "text": [
            "CPU times: user 4 µs, sys: 0 ns, total: 4 µs\n",
            "Wall time: 8.58 µs\n"
          ]
        },
        {
          "output_type": "display_data",
          "data": {
            "text/plain": [
              "<Figure size 432x288 with 1 Axes>"
            ],
            "image/png": "[encoded data removed]"
          },
          "metadata": {}
        }
      ]
    },
    {
      "cell_type": "markdown",
      "source": [
        "**3. Dask**"
      ],
      "metadata": {
        "id": "FBTp12ujFRRu"
      }
    },
    {
      "cell_type": "code",
      "source": [
        "%%time\n",
        "least_request = ddf.groupby(['Yr'])['RequestID'].count().compute().sort_values().head()\n",
        "least_request"
      ],
      "metadata": {
        "id": "0SldmXdeGLRF",
        "colab": {
          "base_uri": "https://localhost:8080/"
        },
        "outputId": "2e338494-2f0c-4b58-dd9d-58d0e82df1a5"
      },
      "execution_count": null,
      "outputs": [
        {
          "output_type": "stream",
          "name": "stdout",
          "text": [
            "CPU times: user 3min 41s, sys: 5.93 s, total: 3min 47s\n",
            "Wall time: 2min 21s\n"
          ]
        },
        {
          "output_type": "execute_result",
          "data": {
            "text/plain": [
              "Yr\n",
              "2006       664\n",
              "2000      1904\n",
              "2007     11780\n",
              "2008     68591\n",
              "2020    439689\n",
              "Name: RequestID, dtype: int64"
            ]
          },
          "metadata": {},
          "execution_count": 33
        }
      ]
    },
    {
      "cell_type": "code",
      "source": [
        "%%time\n",
        "ddf.groupby(['Yr'])['RequestID'].count().compute().sort_values().head().plot.pie(title='The 5 Year that has the least Request ID')"
      ],
      "metadata": {
        "id": "-EeGMZa9GLOV",
        "colab": {
          "base_uri": "https://localhost:8080/",
          "height": 316
        },
        "outputId": "647d3e7b-f1b2-4130-9292-47509e0d21d7"
      },
      "execution_count": null,
      "outputs": [
        {
          "output_type": "stream",
          "name": "stdout",
          "text": [
            "CPU times: user 3min 41s, sys: 11.5 s, total: 3min 52s\n",
            "Wall time: 2min 25s\n"
          ]
        },
        {
          "output_type": "execute_result",
          "data": {
            "text/plain": [
              "<matplotlib.axes._subplots.AxesSubplot at 0x7f256cdefc40>"
            ]
          },
          "metadata": {},
          "execution_count": 34
        },
        {
          "output_type": "display_data",
          "data": {
            "text/plain": [
              "<Figure size 432x288 with 1 Axes>"
            ],
            "image/png": "[encoded data removed]"
          },
          "metadata": {}
        }
      ]
    },
    {
      "cell_type": "markdown",
      "source": [
        "><b>Explaination & Answer</b>\n",
        "\n",
        ">In this fourth question, we aim to understand the years with the lowest count of request IDs in the data. To answer this question, we first utilize the groupby method to group the count of 'RequestID' by year, represented by the column 'Yr'. We then sort the values in ascending order and display the top 5 years with the lowest count of request IDs by using the head method in Koalas and Dask, or the limit method in PySpark. This allows us to have a clear understanding of the 5 years with the lowest count of request IDs. Finally, we use a pie chart to visually display this information, making it easier for us to comprehend the distribution of the least number of request IDs among the 5 years. The pie chart gives us a clearer picture of the proportion of each year compared to the others, allowing us to see the difference in count of request IDs between the 5 years at a glance."
      ],
      "metadata": {
        "id": "6GVvYfwpyNuT"
      }
    },
    {
      "cell_type": "markdown",
      "source": [
        "#### Q5: Which direction has the most cars headed to?"
      ],
      "metadata": {
        "id": "dxBJGkPZGLsN"
      }
    },
    {
      "cell_type": "markdown",
      "source": [
        "**1. Koalas**"
      ],
      "metadata": {
        "id": "Eiz9ZcW6EzdB"
      }
    },
    {
      "cell_type": "code",
      "source": [
        "%%time\n",
        "total_direction = kdf.groupby(['Direction'])['street'].count()\n",
        "total_direction"
      ],
      "metadata": {
        "colab": {
          "base_uri": "https://localhost:8080/"
        },
        "id": "xv2YAdYVGQdd",
        "outputId": "b8b19d75-60ab-485f-c0f8-b723a6319e22"
      },
      "execution_count": null,
      "outputs": [
        {
          "output_type": "stream",
          "name": "stdout",
          "text": [
            "CPU times: user 22.5 ms, sys: 4.83 ms, total: 27.4 ms\n",
            "Wall time: 104 ms\n"
          ]
        },
        {
          "output_type": "execute_result",
          "data": {
            "text/plain": [
              "Direction\n",
              "NS       2964\n",
              "SB    6915592\n",
              "EB    6534409\n",
              "WB    6407041\n",
              "EW       7390\n",
              "NB    7004843\n",
              "Name: street, dtype: int64"
            ]
          },
          "metadata": {},
          "execution_count": 27
        }
      ]
    },
    {
      "cell_type": "code",
      "source": [
        "%%time\n",
        "#convert the df to pandas\n",
        "total_direction1 = total_direction.toPandas()\n",
        "\n",
        "total_direction1.plot(kind='barh')\n",
        "\n",
        "plt.title('Total of Car that Headed to each Direction')\n",
        "plt.xlabel('Total Cars')\n",
        "plt.ylabel('Direction')\n",
        "plt.show()"
      ],
      "metadata": {
        "colab": {
          "base_uri": "https://localhost:8080/",
          "height": 399
        },
        "id": "n2YhMPh1GQbG",
        "outputId": "2315df4b-441e-4367-b30e-16cd5698c311"
      },
      "execution_count": null,
      "outputs": [
        {
          "output_type": "stream",
          "name": "stderr",
          "text": [
            "/usr/local/lib/python3.8/dist-packages/databricks/koalas/series.py:1525: FutureWarning:\n",
            "\n",
            "Series.toPandas is deprecated as of Series.to_pandas. Please use the API instead.\n",
            "\n"
          ]
        },
        {
          "output_type": "display_data",
          "data": {
            "text/plain": [
              "<Figure size 432x288 with 1 Axes>"
            ],
            "image/png": "[encoded data removed]"
          },
          "metadata": {
            "needs_background": "light"
          }
        },
        {
          "output_type": "stream",
          "name": "stdout",
          "text": [
            "CPU times: user 569 ms, sys: 69.5 ms, total: 638 ms\n",
            "Wall time: 1min 26s\n"
          ]
        }
      ]
    },
    {
      "cell_type": "markdown",
      "source": [
        "**2. PySpark**"
      ],
      "metadata": {
        "id": "R4GR_SE7E5zN"
      }
    },
    {
      "cell_type": "code",
      "source": [
        "%%time\n",
        "total_direction = s_df.groupBy(\"Direction\").agg(count(\"street\").alias(\"count\"))\n",
        "total_direction.show()"
      ],
      "metadata": {
        "id": "pxFzfqzPGQ8P",
        "colab": {
          "base_uri": "https://localhost:8080/"
        },
        "outputId": "b2d2d260-fab8-4c62-9094-15132eda30f1"
      },
      "execution_count": null,
      "outputs": [
        {
          "output_type": "stream",
          "name": "stdout",
          "text": [
            "+---------+-------+\n",
            "|Direction|  count|\n",
            "+---------+-------+\n",
            "|       NS|   2964|\n",
            "|       SB|6915592|\n",
            "|       EB|6534409|\n",
            "|       WB|6407041|\n",
            "|       EW|   7390|\n",
            "|       NB|7004843|\n",
            "+---------+-------+\n",
            "\n",
            "CPU times: user 906 ms, sys: 102 ms, total: 1.01 s\n",
            "Wall time: 2min 51s\n"
          ]
        }
      ]
    },
    {
      "cell_type": "code",
      "source": [
        "%%time\n",
        "labels = [row['Direction'] for row in total_direction.collect()]\n",
        "counts = [row['count'] for row in total_direction.collect()]\n",
        "\n",
        "plt.barh(labels, counts)\n",
        "plt.xlabel(\"Count\")\n",
        "plt.ylabel(\"Direction\")\n",
        "plt.title(\"Total of Car that Headed to each Direction\")\n",
        "plt.show()"
      ],
      "metadata": {
        "id": "L3QiVk-KGQ5e",
        "colab": {
          "base_uri": "https://localhost:8080/",
          "height": 330
        },
        "outputId": "1ce61f2d-2146-4220-c85d-b15f4cdc599f"
      },
      "execution_count": null,
      "outputs": [
        {
          "output_type": "display_data",
          "data": {
            "text/plain": [
              "<Figure size 432x288 with 1 Axes>"
            ],
            "image/png": "[encoded data removed]"
          },
          "metadata": {
            "needs_background": "light"
          }
        },
        {
          "output_type": "stream",
          "name": "stdout",
          "text": [
            "CPU times: user 1.03 s, sys: 93.4 ms, total: 1.12 s\n",
            "Wall time: 2min 49s\n"
          ]
        }
      ]
    },
    {
      "cell_type": "markdown",
      "source": [
        "**3. Dask**"
      ],
      "metadata": {
        "id": "jB5xftldFRZs"
      }
    },
    {
      "cell_type": "code",
      "source": [
        "%%time\n",
        "total_direction = ddf.groupby(['Direction'])['street'].count().compute()\n",
        "total_direction"
      ],
      "metadata": {
        "id": "4Uemmem9GRTW",
        "colab": {
          "base_uri": "https://localhost:8080/"
        },
        "outputId": "f82966b0-5c17-4354-99dd-a098bbea1b9b"
      },
      "execution_count": null,
      "outputs": [
        {
          "output_type": "stream",
          "name": "stdout",
          "text": [
            "CPU times: user 3min 43s, sys: 7.37 s, total: 3min 50s\n",
            "Wall time: 2min 24s\n"
          ]
        },
        {
          "output_type": "execute_result",
          "data": {
            "text/plain": [
              "Direction\n",
              "EB    6534409\n",
              "EW       7390\n",
              "NB    7004843\n",
              "NS       2964\n",
              "SB    6915592\n",
              "WB    6407041\n",
              "Name: street, dtype: int64"
            ]
          },
          "metadata": {},
          "execution_count": 36
        }
      ]
    },
    {
      "cell_type": "code",
      "source": [
        "%%time\n",
        "total_direction.plot.barh(title='Total of Car that Headed to each Direction')\n",
        "plt.xlabel('Total Cars')\n",
        "plt.ylabel('Direction')\n",
        "plt.show()"
      ],
      "metadata": {
        "id": "pgjcxbTHGRQ1",
        "colab": {
          "base_uri": "https://localhost:8080/",
          "height": 330
        },
        "outputId": "bdb0a164-7b4b-483c-e4a1-bb917b9b3767"
      },
      "execution_count": null,
      "outputs": [
        {
          "output_type": "display_data",
          "data": {
            "text/plain": [
              "<Figure size 432x288 with 1 Axes>"
            ],
            "image/png": "[encoded data removed]"
          },
          "metadata": {
            "needs_background": "light"
          }
        },
        {
          "output_type": "stream",
          "name": "stdout",
          "text": [
            "CPU times: user 139 ms, sys: 2.03 ms, total: 141 ms\n",
            "Wall time: 157 ms\n"
          ]
        }
      ]
    },
    {
      "cell_type": "markdown",
      "source": [
        "><b>Explaination & Answer</b>\n",
        "\n",
        ">For the last question, we wanted to know what the most common direction of car travel, we used the groupby method to group the 'Direction' column and count the 'street' column. This allowed us to aggregate the data and determine the frequency of each direction. We then plot a barh graph to visualize the output, making it easy to determine the most common direction. By using these techniques, we can generate a clear representation of the most common direction of car travel."
      ],
      "metadata": {
        "id": "jGmIdvuNyPjy"
      }
    },
    {
      "cell_type": "markdown",
      "source": [
        "## Inferences and Conclusion \n",
        "\n",
        "Koalas, Dask, and PySpark are all tools that can be used for large-scale data processing and analysis.\n",
        "\n",
        "Koalas is a library that provides a pandas-like API for working with large datasets using Apache Spark. It allows users to perform operations on large datasets using familiar pandas syntax, and it automatically handles the distributed computing and memory management that is required when working with large amounts of data.\n",
        "\n",
        "Dask is a parallel computing library that can be used to perform parallel and distributed computing on large datasets. It allows users to perform operations on large datasets using familiar numpy and pandas syntax, and it can handle distributed computing and memory management automatically.\n",
        "\n",
        "PySpark is the Python API for Apache Spark, an open-source, distributed computing system for big data processing. It allows users to perform operations on large datasets using a distributed computing model, and it provides a wide variety of APIs for data processing, machine learning, and graph processing.\n",
        "\n",
        "In summary, Koalas and Dask are more similar in that they both provide a more familiar API for data processing and analysis, while PySpark is a more general-purpose tool for distributed data processing.\n",
        "\n",
        "--------------------------------------------------------------------------\n",
        "\n",
        "Koalas is great for begginers. It is easy to understand and requires little effort. both Koalas and PySpark are based on Spark, one of the fastest distributed computing engines.\n",
        "\n",
        "Spark is mature and all-inclusive. If you want a single project that does everything and you’re already on Big Data hardware, then Spark is a safe bet, especially if your use cases are typical ETL + SQL and you’re already using Scala.\n",
        "\n",
        "Dask is lighter weight and is easier to integrate into existing code and hardware. If your problems vary beyond typical ETL + SQL and you want to add flexible parallelism to existing solutions, then Dask may be a good fit, especially if you are already using Python and associated libraries like NumPy and Pandas.\n",
        "\n",
        "--------------------------------------------------------------------------"
      ],
      "metadata": {
        "id": "PrI21-HGGVnt"
      }
    },
    {
      "cell_type": "markdown",
      "source": [
        "Based on the project, we can conclude that Koalas library compute the fastest in the overall tasks. Koalas is the best fit which could process operations many times(100x) faster than Pandas without getting crash. But overall, it all depends on the suitablity to each user."
      ],
      "metadata": {
        "id": "xTmnJw4NGbuV"
      }
    },
    {
      "cell_type": "markdown",
      "source": [
        "# Reasons to choose Koalas:\n",
        "1. Koalas is lazy-evaluated like Spark, i.e., it executes only when triggered by an action.\n",
        "\n",
        "2. You do not need a separate Spark context/Spark session for processing the Koalas dataframe. Koalas makes use of the existing Spark context/Spark session.\n",
        "\n",
        "3. Koalas has an SQL API with which you can perform query operations on a Koalas dataframe.\n",
        "\n",
        "4. By configuring Koalas, you can even toggle computation between Pandas and Spark.\n",
        "\n",
        "5. Koalas dataframe can be derived from both the Pandas and PySpark dataframes.\n",
        "\n",
        "# Reasons to choose Pyspark:\n",
        "(Python is very easy to learn and implement. It provides simple and comprehensive API. With Python, the readability of code, maintenance, and familiarity is far better. It features various options for data visualization, which is difficult using Scala or Java.)\n",
        "\n",
        "1. You prefer Scala or the SQL language\n",
        "\n",
        "2. You have mostly JVM infrastructure and legacy systems\n",
        "\n",
        "3. You want an established and trusted solution for business\n",
        "\n",
        "4. You are mostly doing business analytics with some lightweight machine learning\n",
        "\n",
        "5. You want an all-in-one solution\n",
        "\n",
        "# Reasons to choose Dask:\n",
        "(Dask is lighter weight and is easier to integrate into existing code and hardware. If your problems vary beyond typical ETL + SQL and you want to add flexible parallelism to existing solutions, then Dask may be a good fit, especially if you are already using Python and associated libraries like NumPy and Pandas.)\n",
        "\n",
        "1. You prefer Python or native code, or have large legacy code bases that you do not want to entirely rewrite\n",
        "\n",
        "2. Your use case is complex or does not cleanly fit the Spark computing model\n",
        "\n",
        "3. You want a lighter-weight transition from local computing to cluster computing\n",
        "\n",
        "4. You want to interoperate with other technologies and don’t mind installing multiple packages"
      ],
      "metadata": {
        "id": "Ik7icyRrGcv-"
      }
    },
    {
      "cell_type": "markdown",
      "source": [
        "## References and Future Work\n",
        "\n",
        "https://spark.apache.org/docs/latest/api/python/reference/pyspark.sql/functions.html\n",
        "\n",
        "https://docs.dask.org/en/stable/spark.html\n",
        "\n",
        "https://www.machinelearningplus.com/python/dask-tutorial/"
      ],
      "metadata": {
        "id": "O5T4UvhLGk_W"
      }
    }
  ]
}
