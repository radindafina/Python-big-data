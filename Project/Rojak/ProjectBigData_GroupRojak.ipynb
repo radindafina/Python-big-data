{
  "cells": [
    {
      "cell_type": "markdown",
      "metadata": {
        "id": "XBtcnU6iVJJx"
      },
      "source": [
        "# **Chess Games Analysis with Three Python Libraries**\n",
        "\n",
        "This dataset contains data for every rated Lichess game played between January 2013 and December 2014. There were approximately 15,000,000 games in total. It includes the players' names, ratings, the winner, the opening, the number of moves, etc. We will conduct an analysis to gain insights on the games and address our research questions. We hope to discover interesting patterns by analysing the various characteristics of each game, including the type of opening employed, the ratings of the players, and more. This data analysis allows us to comprehend the effects of various moves, strategies, and time controls on game outcomes. This research will also compare the performance of three Python libraries: Pandas, Vaex, and Koalas.\n",
        "\n",
        "### Libraries\n",
        "1. Pandas\n",
        "2. Vaex\n",
        "3. Koalas\n",
        "\n",
        "###Group Members: \n",
        "\n",
        "<table>\n",
        "  <tr>\n",
        "    <th>Name</th>\n",
        "    <th>Matric No</th>\n",
        "  </tr>\n",
        "  <tr>\n",
        "    <th>Eddie Wong Chung Pheng </th>\n",
        "    <th>A20EC0031</th>\n",
        "  </tr>\n",
        "  <tr>\n",
        "    <th>Madihah Binti Che Zabri </th>\n",
        "    <th>A20EC0074</th>\n",
        "  </tr>\n",
        "  <tr>\n",
        "    <th>Nurarissa Dayana Binti Mohd Sukri</th>\n",
        "    <th>A20EC0120</th>\n",
        "  </tr>\n",
        "  <tr> \n",
        "    <th>Vincent Boo Ee Khai</th>\n",
        "    <th>A20EC0231</th>\n",
        "  </tr>\n",
        "</table>\n",
        "<br></br>\n",
        "\n",
        "###About The Dataset\n",
        "\n",
        "*  This dataset contains data from all rated games played in Lichess from January 2013 to December 2014, in total there are around 15,000,000 games.\n",
        "*  The dataset consists of 14918230 rows and 16 columns.\n",
        "*  The size of this dataset is 1.99GB.\n",
        "*  The dataset can be obtained from [here](https://www.kaggle.com/datasets/maca11/chess-games-from-lichess-20132014?select=Lichess_2013_2014_Complete.csv)\n"
      ]
    },
    {
      "cell_type": "markdown",
      "metadata": {
        "id": "LxWzVndBVJJ1"
      },
      "source": [
        "## Downloading the Dataset"
      ]
    },
    {
      "cell_type": "markdown",
      "metadata": {
        "id": "oHRcyidmVJJ1"
      },
      "source": [
        "Install Pydrive to read dataset from Google Drive. Dataset is uploaded in Google Drive and the link is provided to mount the dataset."
      ]
    },
    {
      "cell_type": "code",
      "execution_count": 1,
      "metadata": {
        "id": "_s6ZSPWYVJJ2"
      },
      "outputs": [],
      "source": [
        "# Read dataset from google drive\n",
        "!pip install -U -q PyDrive\n",
        "from pydrive.auth import GoogleAuth\n",
        "from pydrive.drive import GoogleDrive\n",
        "from google.colab import auth\n",
        "from oauth2client.client import GoogleCredentials\n",
        "\n",
        "# Authenticate and create the PyDrive client.\n",
        "auth.authenticate_user()\n",
        "gauth = GoogleAuth()\n",
        "gauth.credentials = GoogleCredentials.get_application_default()\n",
        "drive = GoogleDrive(gauth)\n",
        "link = 'https://drive.google.com/file/d/10CIeiPoyqyyDT_4C2B0eGANY-XVFpzkr/view?usp=share_link'\n",
        "# to get the id part of the file\n",
        "id = link.split(\"/\")[-2]\n",
        " \n",
        "downloaded = drive.CreateFile({'id':id})\n",
        "downloaded.GetContentFile('Lichess_2013_2014_Complete.csv') "
      ]
    },
    {
      "cell_type": "markdown",
      "metadata": {
        "id": "GhhO14GEVJJ2"
      },
      "source": [
        "The dataset has been downloaded and extracted. We will compare the performance of libraries in analyzing the data."
      ]
    },
    {
      "cell_type": "markdown",
      "metadata": {
        "id": "CmX-deowZ6D-"
      },
      "source": [
        "##Import The Libraries"
      ]
    },
    {
      "cell_type": "code",
      "execution_count": null,
      "metadata": {
        "id": "Y01mz1wea8zE"
      },
      "outputs": [],
      "source": [
        "!pip install vaex"
      ]
    },
    {
      "cell_type": "code",
      "execution_count": null,
      "metadata": {
        "id": "LPePFv2Xf5ZQ"
      },
      "outputs": [],
      "source": [
        "!pip install koalas"
      ]
    },
    {
      "cell_type": "code",
      "execution_count": null,
      "metadata": {
        "id": "H8ZZWVqXcLng"
      },
      "outputs": [],
      "source": [
        "!pip install pyspark"
      ]
    },
    {
      "cell_type": "code",
      "source": [
        "!pip install -U kaleido"
      ],
      "metadata": {
        "id": "MIbA-LdzugbT"
      },
      "execution_count": null,
      "outputs": []
    },
    {
      "cell_type": "code",
      "execution_count": 7,
      "metadata": {
        "id": "teZORj7RbMON",
        "colab": {
          "base_uri": "https://localhost:8080/"
        },
        "outputId": "da081618-af45-41f2-a4ab-b78497c3933e"
      },
      "outputs": [
        {
          "output_type": "stream",
          "name": "stderr",
          "text": [
            "WARNING:root:'PYARROW_IGNORE_TIMEZONE' environment variable was not set. It is required to set this environment variable to '1' in both driver and executor sides if you use pyarrow>=2.0.0. pandas-on-Spark will set it for you but it does not work if there is a Spark context already launched.\n",
            "WARNING:root:Found pyspark version \"3.3.1\" installed. The pyspark version 3.2 and above has a built-in \"pandas APIs on Spark\" module ported from Koalas. Try `import pyspark.pandas as ps` instead. \n"
          ]
        }
      ],
      "source": [
        "import pandas as pd\n",
        "import numpy as np\n",
        "import vaex as vx\n",
        "import vaex.ml\n",
        "import vaex.viz as vv\n",
        "import pyspark.pandas as ps\n",
        "import databricks.koalas as ks\n",
        "from pyspark.sql import SparkSession\n",
        "from pyspark.conf import SparkConf\n",
        "import matplotlib.pyplot as plt\n",
        "import seaborn as sns\n",
        "%matplotlib inline"
      ]
    },
    {
      "cell_type": "markdown",
      "metadata": {
        "id": "u0vucnGFVJJ5"
      },
      "source": [
        "## Data Preparation and Cleaning\n",
        "\n",
        "\n"
      ]
    },
    {
      "cell_type": "markdown",
      "metadata": {
        "id": "kaW7WzMqi0jH"
      },
      "source": [
        "###Read the data\n",
        "We will evaluate which library reads large datasets more efficiently."
      ]
    },
    {
      "cell_type": "markdown",
      "metadata": {
        "id": "aAxrFSVSZUK8"
      },
      "source": [
        "**Pandas**\n"
      ]
    },
    {
      "cell_type": "code",
      "execution_count": 8,
      "metadata": {
        "id": "90nIoWQtVJJ3",
        "colab": {
          "base_uri": "https://localhost:8080/"
        },
        "outputId": "7ab921b1-617c-40f1-f577-a9fa054c9c5a"
      },
      "outputs": [
        {
          "output_type": "stream",
          "name": "stdout",
          "text": [
            "CPU times: user 38.1 s, sys: 4.66 s, total: 42.8 s\n",
            "Wall time: 55.4 s\n"
          ]
        }
      ],
      "source": [
        "%%time \n",
        "pdf = pd.read_csv(\"Lichess_2013_2014_Complete.csv\")\n",
        "pd.set_option('display.max_columns', None)"
      ]
    },
    {
      "cell_type": "markdown",
      "metadata": {
        "id": "E7_W0mWiaaCo"
      },
      "source": [
        "**Vaex**"
      ]
    },
    {
      "cell_type": "code",
      "execution_count": 9,
      "metadata": {
        "id": "oAVmLuq2VJJ3",
        "colab": {
          "base_uri": "https://localhost:8080/"
        },
        "outputId": "f459f0d3-5a07-4434-e935-a38032216c1e"
      },
      "outputs": [
        {
          "output_type": "stream",
          "name": "stdout",
          "text": [
            "CPU times: user 1.85 s, sys: 821 ms, total: 2.67 s\n",
            "Wall time: 6.07 s\n"
          ]
        }
      ],
      "source": [
        "%%time\n",
        "vdf = vx.open('Lichess_2013_2014_Complete.csv') "
      ]
    },
    {
      "cell_type": "markdown",
      "metadata": {
        "id": "6bL3PoACaeAA"
      },
      "source": [
        "**Koalas**"
      ]
    },
    {
      "cell_type": "code",
      "execution_count": 10,
      "metadata": {
        "colab": {
          "base_uri": "https://localhost:8080/"
        },
        "id": "HTOsaP0Cc-Ym",
        "outputId": "2f08eee0-2ae8-453f-bcbd-7cadc6a430b3"
      },
      "outputs": [
        {
          "output_type": "stream",
          "name": "stdout",
          "text": [
            "CPU times: user 457 ms, sys: 243 ms, total: 700 ms\n",
            "Wall time: 1min 10s\n"
          ]
        }
      ],
      "source": [
        "%%time\n",
        "kdf = ks.read_csv('Lichess_2013_2014_Complete.csv')"
      ]
    },
    {
      "cell_type": "markdown",
      "metadata": {
        "id": "WzFvzxuqnRpv"
      },
      "source": [
        "### Viewing The Dataset"
      ]
    },
    {
      "cell_type": "markdown",
      "metadata": {
        "id": "4p8B6mrvnxNb"
      },
      "source": [
        "**Pandas**\n"
      ]
    },
    {
      "cell_type": "code",
      "execution_count": 11,
      "metadata": {
        "colab": {
          "base_uri": "https://localhost:8080/",
          "height": 601
        },
        "id": "Np6iQXSrrBWg",
        "outputId": "842ad7fe-3b5b-4211-a878-920d8181b747"
      },
      "outputs": [
        {
          "output_type": "stream",
          "name": "stdout",
          "text": [
            "CPU times: user 604 µs, sys: 70 µs, total: 674 µs\n",
            "Wall time: 3.18 ms\n"
          ]
        },
        {
          "output_type": "execute_result",
          "data": {
            "text/plain": [
              "   WhiteElo  BlackElo         WhiteName          BlackName Winner Termination  \\\n",
              "0      1639      1403             BFG9k            mamalak  White      Normal   \n",
              "1      1654      1919    Desmond_Wilson          savinka59  White      Normal   \n",
              "2      1643      1747     Kozakmamay007  VanillaShamanilla  White      Normal   \n",
              "3      1824      1973  Naitero_Nagasaki                800  Black      Normal   \n",
              "4      1765      1815      nichiren1967   Naitero_Nagasaki  Black      Normal   \n",
              "\n",
              "                           Site  Day  Month  Year  InitialTime  Increment  \\\n",
              "0  https://lichess.org/j1dkb5dw   31     12  2012          600          8   \n",
              "1  https://lichess.org/a9tcp02g   31     12  2012          480          2   \n",
              "2  https://lichess.org/szom2tog   31     12  2012          420         17   \n",
              "3  https://lichess.org/rklpc7mk   31     12  2012           60          1   \n",
              "4  https://lichess.org/1xb3os63   31     12  2012           60          1   \n",
              "\n",
              "  TimeControl                                      Opening  ECO  \\\n",
              "0       Rapid             French Defense: Normal Variation  C00   \n",
              "1       Rapid  Queen's Pawn Game: Colle System, Anti-Colle  D04   \n",
              "2       Rapid         Four Knights Game: Italian Variation  C50   \n",
              "3      Bullet         Caro-Kann Defense: Goldman Variation  B12   \n",
              "4      Bullet     French Defense: La Bourdonnais Variation  C00   \n",
              "\n",
              "   Number_of_Moves  \n",
              "0               13  \n",
              "1               18  \n",
              "2               11  \n",
              "3               47  \n",
              "4               23  "
            ],
            "text/html": [
              "\n",
              "  <div id=\"df-d1628a0a-6a57-42cf-8aab-23280cc470ba\">\n",
              "    <div class=\"colab-df-container\">\n",
              "      <div>\n",
              "<style scoped>\n",
              "    .dataframe tbody tr th:only-of-type {\n",
              "        vertical-align: middle;\n",
              "    }\n",
              "\n",
              "    .dataframe tbody tr th {\n",
              "        vertical-align: top;\n",
              "    }\n",
              "\n",
              "    .dataframe thead th {\n",
              "        text-align: right;\n",
              "    }\n",
              "</style>\n",
              "<table border=\"1\" class=\"dataframe\">\n",
              "  <thead>\n",
              "    <tr style=\"text-align: right;\">\n",
              "      <th></th>\n",
              "      <th>WhiteElo</th>\n",
              "      <th>BlackElo</th>\n",
              "      <th>WhiteName</th>\n",
              "      <th>BlackName</th>\n",
              "      <th>Winner</th>\n",
              "      <th>Termination</th>\n",
              "      <th>Site</th>\n",
              "      <th>Day</th>\n",
              "      <th>Month</th>\n",
              "      <th>Year</th>\n",
              "      <th>InitialTime</th>\n",
              "      <th>Increment</th>\n",
              "      <th>TimeControl</th>\n",
              "      <th>Opening</th>\n",
              "      <th>ECO</th>\n",
              "      <th>Number_of_Moves</th>\n",
              "    </tr>\n",
              "  </thead>\n",
              "  <tbody>\n",
              "    <tr>\n",
              "      <th>0</th>\n",
              "      <td>1639</td>\n",
              "      <td>1403</td>\n",
              "      <td>BFG9k</td>\n",
              "      <td>mamalak</td>\n",
              "      <td>White</td>\n",
              "      <td>Normal</td>\n",
              "      <td>https://lichess.org/j1dkb5dw</td>\n",
              "      <td>31</td>\n",
              "      <td>12</td>\n",
              "      <td>2012</td>\n",
              "      <td>600</td>\n",
              "      <td>8</td>\n",
              "      <td>Rapid</td>\n",
              "      <td>French Defense: Normal Variation</td>\n",
              "      <td>C00</td>\n",
              "      <td>13</td>\n",
              "    </tr>\n",
              "    <tr>\n",
              "      <th>1</th>\n",
              "      <td>1654</td>\n",
              "      <td>1919</td>\n",
              "      <td>Desmond_Wilson</td>\n",
              "      <td>savinka59</td>\n",
              "      <td>White</td>\n",
              "      <td>Normal</td>\n",
              "      <td>https://lichess.org/a9tcp02g</td>\n",
              "      <td>31</td>\n",
              "      <td>12</td>\n",
              "      <td>2012</td>\n",
              "      <td>480</td>\n",
              "      <td>2</td>\n",
              "      <td>Rapid</td>\n",
              "      <td>Queen's Pawn Game: Colle System, Anti-Colle</td>\n",
              "      <td>D04</td>\n",
              "      <td>18</td>\n",
              "    </tr>\n",
              "    <tr>\n",
              "      <th>2</th>\n",
              "      <td>1643</td>\n",
              "      <td>1747</td>\n",
              "      <td>Kozakmamay007</td>\n",
              "      <td>VanillaShamanilla</td>\n",
              "      <td>White</td>\n",
              "      <td>Normal</td>\n",
              "      <td>https://lichess.org/szom2tog</td>\n",
              "      <td>31</td>\n",
              "      <td>12</td>\n",
              "      <td>2012</td>\n",
              "      <td>420</td>\n",
              "      <td>17</td>\n",
              "      <td>Rapid</td>\n",
              "      <td>Four Knights Game: Italian Variation</td>\n",
              "      <td>C50</td>\n",
              "      <td>11</td>\n",
              "    </tr>\n",
              "    <tr>\n",
              "      <th>3</th>\n",
              "      <td>1824</td>\n",
              "      <td>1973</td>\n",
              "      <td>Naitero_Nagasaki</td>\n",
              "      <td>800</td>\n",
              "      <td>Black</td>\n",
              "      <td>Normal</td>\n",
              "      <td>https://lichess.org/rklpc7mk</td>\n",
              "      <td>31</td>\n",
              "      <td>12</td>\n",
              "      <td>2012</td>\n",
              "      <td>60</td>\n",
              "      <td>1</td>\n",
              "      <td>Bullet</td>\n",
              "      <td>Caro-Kann Defense: Goldman Variation</td>\n",
              "      <td>B12</td>\n",
              "      <td>47</td>\n",
              "    </tr>\n",
              "    <tr>\n",
              "      <th>4</th>\n",
              "      <td>1765</td>\n",
              "      <td>1815</td>\n",
              "      <td>nichiren1967</td>\n",
              "      <td>Naitero_Nagasaki</td>\n",
              "      <td>Black</td>\n",
              "      <td>Normal</td>\n",
              "      <td>https://lichess.org/1xb3os63</td>\n",
              "      <td>31</td>\n",
              "      <td>12</td>\n",
              "      <td>2012</td>\n",
              "      <td>60</td>\n",
              "      <td>1</td>\n",
              "      <td>Bullet</td>\n",
              "      <td>French Defense: La Bourdonnais Variation</td>\n",
              "      <td>C00</td>\n",
              "      <td>23</td>\n",
              "    </tr>\n",
              "  </tbody>\n",
              "</table>\n",
              "</div>\n",
              "      <button class=\"colab-df-convert\" onclick=\"convertToInteractive('df-d1628a0a-6a57-42cf-8aab-23280cc470ba')\"\n",
              "              title=\"Convert this dataframe to an interactive table.\"\n",
              "              style=\"display:none;\">\n",
              "        \n",
              "  <svg xmlns=\"http://www.w3.org/2000/svg\" height=\"24px\"viewBox=\"0 0 24 24\"\n",
              "       width=\"24px\">\n",
              "    <path d=\"M0 0h24v24H0V0z\" fill=\"none\"/>\n",
              "    <path d=\"M18.56 5.44l.94 2.06.94-2.06 2.06-.94-2.06-.94-.94-2.06-.94 2.06-2.06.94zm-11 1L8.5 8.5l.94-2.06 2.06-.94-2.06-.94L8.5 2.5l-.94 2.06-2.06.94zm10 10l.94 2.06.94-2.06 2.06-.94-2.06-.94-.94-2.06-.94 2.06-2.06.94z\"/><path d=\"M17.41 7.96l-1.37-1.37c-.4-.4-.92-.59-1.43-.59-.52 0-1.04.2-1.43.59L10.3 9.45l-7.72 7.72c-.78.78-.78 2.05 0 2.83L4 21.41c.39.39.9.59 1.41.59.51 0 1.02-.2 1.41-.59l7.78-7.78 2.81-2.81c.8-.78.8-2.07 0-2.86zM5.41 20L4 18.59l7.72-7.72 1.47 1.35L5.41 20z\"/>\n",
              "  </svg>\n",
              "      </button>\n",
              "      \n",
              "  <style>\n",
              "    .colab-df-container {\n",
              "      display:flex;\n",
              "      flex-wrap:wrap;\n",
              "      gap: 12px;\n",
              "    }\n",
              "\n",
              "    .colab-df-convert {\n",
              "      background-color: #E8F0FE;\n",
              "      border: none;\n",
              "      border-radius: 50%;\n",
              "      cursor: pointer;\n",
              "      display: none;\n",
              "      fill: #1967D2;\n",
              "      height: 32px;\n",
              "      padding: 0 0 0 0;\n",
              "      width: 32px;\n",
              "    }\n",
              "\n",
              "    .colab-df-convert:hover {\n",
              "      background-color: #E2EBFA;\n",
              "      box-shadow: 0px 1px 2px rgba(60, 64, 67, 0.3), 0px 1px 3px 1px rgba(60, 64, 67, 0.15);\n",
              "      fill: #174EA6;\n",
              "    }\n",
              "\n",
              "    [theme=dark] .colab-df-convert {\n",
              "      background-color: #3B4455;\n",
              "      fill: #D2E3FC;\n",
              "    }\n",
              "\n",
              "    [theme=dark] .colab-df-convert:hover {\n",
              "      background-color: #434B5C;\n",
              "      box-shadow: 0px 1px 3px 1px rgba(0, 0, 0, 0.15);\n",
              "      filter: drop-shadow(0px 1px 2px rgba(0, 0, 0, 0.3));\n",
              "      fill: #FFFFFF;\n",
              "    }\n",
              "  </style>\n",
              "\n",
              "      <script>\n",
              "        const buttonEl =\n",
              "          document.querySelector('#df-d1628a0a-6a57-42cf-8aab-23280cc470ba button.colab-df-convert');\n",
              "        buttonEl.style.display =\n",
              "          google.colab.kernel.accessAllowed ? 'block' : 'none';\n",
              "\n",
              "        async function convertToInteractive(key) {\n",
              "          const element = document.querySelector('#df-d1628a0a-6a57-42cf-8aab-23280cc470ba');\n",
              "          const dataTable =\n",
              "            await google.colab.kernel.invokeFunction('convertToInteractive',\n",
              "                                                     [key], {});\n",
              "          if (!dataTable) return;\n",
              "\n",
              "          const docLinkHtml = 'Like what you see? Visit the ' +\n",
              "            '<a target=\"_blank\" href=https://colab.research.google.com/notebooks/data_table.ipynb>data table notebook</a>'\n",
              "            + ' to learn more about interactive tables.';\n",
              "          element.innerHTML = '';\n",
              "          dataTable['output_type'] = 'display_data';\n",
              "          await google.colab.output.renderOutput(dataTable, element);\n",
              "          const docLink = document.createElement('div');\n",
              "          docLink.innerHTML = docLinkHtml;\n",
              "          element.appendChild(docLink);\n",
              "        }\n",
              "      </script>\n",
              "    </div>\n",
              "  </div>\n",
              "  "
            ]
          },
          "metadata": {},
          "execution_count": 11
        }
      ],
      "source": [
        "%%time\n",
        "pdf.head()"
      ]
    },
    {
      "cell_type": "markdown",
      "metadata": {
        "id": "N42iYGNGn2W-"
      },
      "source": [
        "**Vaex**"
      ]
    },
    {
      "cell_type": "code",
      "execution_count": 12,
      "metadata": {
        "colab": {
          "base_uri": "https://localhost:8080/",
          "height": 498
        },
        "id": "9HsdH1YtrLtw",
        "outputId": "1414ed72-ba69-4216-fd20-04215144cac1"
      },
      "outputs": [
        {
          "output_type": "stream",
          "name": "stdout",
          "text": [
            "CPU times: user 1.38 ms, sys: 80 µs, total: 1.46 ms\n",
            "Wall time: 2.98 ms\n"
          ]
        },
        {
          "output_type": "execute_result",
          "data": {
            "text/html": [
              "<table>\n",
              "<thead>\n",
              "<tr><th>#                            </th><th style=\"text-align: right;\">  WhiteElo</th><th style=\"text-align: right;\">  BlackElo</th><th>WhiteName       </th><th>BlackName        </th><th>Winner  </th><th>Termination  </th><th>Site                        </th><th style=\"text-align: right;\">  Day</th><th style=\"text-align: right;\">  Month</th><th style=\"text-align: right;\">  Year</th><th style=\"text-align: right;\">  InitialTime</th><th style=\"text-align: right;\">  Increment</th><th>TimeControl  </th><th>Opening                                    </th><th>ECO  </th><th style=\"text-align: right;\">  Number_of_Moves</th></tr>\n",
              "</thead>\n",
              "<tbody>\n",
              "<tr><td><i style='opacity: 0.6'>0</i></td><td style=\"text-align: right;\">      1639</td><td style=\"text-align: right;\">      1403</td><td>BFG9k           </td><td>mamalak          </td><td>White   </td><td>Normal       </td><td>https://lichess.org/j1dkb5dw</td><td style=\"text-align: right;\">   31</td><td style=\"text-align: right;\">     12</td><td style=\"text-align: right;\">  2012</td><td style=\"text-align: right;\">          600</td><td style=\"text-align: right;\">          8</td><td>Rapid        </td><td>French Defense: Normal Variation           </td><td>C00  </td><td style=\"text-align: right;\">               13</td></tr>\n",
              "<tr><td><i style='opacity: 0.6'>1</i></td><td style=\"text-align: right;\">      1654</td><td style=\"text-align: right;\">      1919</td><td>Desmond_Wilson  </td><td>savinka59        </td><td>White   </td><td>Normal       </td><td>https://lichess.org/a9tcp02g</td><td style=\"text-align: right;\">   31</td><td style=\"text-align: right;\">     12</td><td style=\"text-align: right;\">  2012</td><td style=\"text-align: right;\">          480</td><td style=\"text-align: right;\">          2</td><td>Rapid        </td><td>Queen&#x27;s Pawn Game: Colle System, Anti-Colle</td><td>D04  </td><td style=\"text-align: right;\">               18</td></tr>\n",
              "<tr><td><i style='opacity: 0.6'>2</i></td><td style=\"text-align: right;\">      1643</td><td style=\"text-align: right;\">      1747</td><td>Kozakmamay007   </td><td>VanillaShamanilla</td><td>White   </td><td>Normal       </td><td>https://lichess.org/szom2tog</td><td style=\"text-align: right;\">   31</td><td style=\"text-align: right;\">     12</td><td style=\"text-align: right;\">  2012</td><td style=\"text-align: right;\">          420</td><td style=\"text-align: right;\">         17</td><td>Rapid        </td><td>Four Knights Game: Italian Variation       </td><td>C50  </td><td style=\"text-align: right;\">               11</td></tr>\n",
              "<tr><td><i style='opacity: 0.6'>3</i></td><td style=\"text-align: right;\">      1824</td><td style=\"text-align: right;\">      1973</td><td>Naitero_Nagasaki</td><td>800              </td><td>Black   </td><td>Normal       </td><td>https://lichess.org/rklpc7mk</td><td style=\"text-align: right;\">   31</td><td style=\"text-align: right;\">     12</td><td style=\"text-align: right;\">  2012</td><td style=\"text-align: right;\">           60</td><td style=\"text-align: right;\">          1</td><td>Bullet       </td><td>Caro-Kann Defense: Goldman Variation       </td><td>B12  </td><td style=\"text-align: right;\">               47</td></tr>\n",
              "<tr><td><i style='opacity: 0.6'>4</i></td><td style=\"text-align: right;\">      1765</td><td style=\"text-align: right;\">      1815</td><td>nichiren1967    </td><td>Naitero_Nagasaki </td><td>Black   </td><td>Normal       </td><td>https://lichess.org/1xb3os63</td><td style=\"text-align: right;\">   31</td><td style=\"text-align: right;\">     12</td><td style=\"text-align: right;\">  2012</td><td style=\"text-align: right;\">           60</td><td style=\"text-align: right;\">          1</td><td>Bullet       </td><td>French Defense: La Bourdonnais Variation   </td><td>C00  </td><td style=\"text-align: right;\">               23</td></tr>\n",
              "</tbody>\n",
              "</table>"
            ],
            "text/plain": [
              "  #    WhiteElo    BlackElo  WhiteName         BlackName          Winner    Termination    Site                            Day    Month    Year    InitialTime    Increment  TimeControl    Opening                                      ECO      Number_of_Moves\n",
              "  0        1639        1403  BFG9k             mamalak            White     Normal         https://lichess.org/j1dkb5dw     31       12    2012            600            8  Rapid          French Defense: Normal Variation             C00                   13\n",
              "  1        1654        1919  Desmond_Wilson    savinka59          White     Normal         https://lichess.org/a9tcp02g     31       12    2012            480            2  Rapid          Queen's Pawn Game: Colle System, Anti-Colle  D04                   18\n",
              "  2        1643        1747  Kozakmamay007     VanillaShamanilla  White     Normal         https://lichess.org/szom2tog     31       12    2012            420           17  Rapid          Four Knights Game: Italian Variation         C50                   11\n",
              "  3        1824        1973  Naitero_Nagasaki  800                Black     Normal         https://lichess.org/rklpc7mk     31       12    2012             60            1  Bullet         Caro-Kann Defense: Goldman Variation         B12                   47\n",
              "  4        1765        1815  nichiren1967      Naitero_Nagasaki   Black     Normal         https://lichess.org/1xb3os63     31       12    2012             60            1  Bullet         French Defense: La Bourdonnais Variation     C00                   23"
            ]
          },
          "metadata": {},
          "execution_count": 12
        }
      ],
      "source": [
        "%%time\n",
        "vdf.head(5)"
      ]
    },
    {
      "cell_type": "markdown",
      "metadata": {
        "id": "plpyDIYYn4GP"
      },
      "source": [
        "**Koalas**"
      ]
    },
    {
      "cell_type": "code",
      "execution_count": 13,
      "metadata": {
        "id": "1Et9QhCbVJJ6",
        "colab": {
          "base_uri": "https://localhost:8080/",
          "height": 557
        },
        "outputId": "de21c3df-631d-4ba4-a776-c84d905a8845"
      },
      "outputs": [
        {
          "output_type": "stream",
          "name": "stdout",
          "text": [
            "CPU times: user 45.6 ms, sys: 9.93 ms, total: 55.6 ms\n",
            "Wall time: 407 ms\n"
          ]
        },
        {
          "output_type": "execute_result",
          "data": {
            "text/plain": [
              "   WhiteElo  BlackElo         WhiteName          BlackName Winner Termination                          Site  Day  Month  Year  InitialTime  Increment TimeControl                                      Opening  ECO  Number_of_Moves\n",
              "0      1639      1403             BFG9k            mamalak  White      Normal  https://lichess.org/j1dkb5dw   31     12  2012          600          8       Rapid             French Defense: Normal Variation  C00               13\n",
              "1      1654      1919    Desmond_Wilson          savinka59  White      Normal  https://lichess.org/a9tcp02g   31     12  2012          480          2       Rapid  Queen's Pawn Game: Colle System, Anti-Colle  D04               18\n",
              "2      1643      1747     Kozakmamay007  VanillaShamanilla  White      Normal  https://lichess.org/szom2tog   31     12  2012          420         17       Rapid         Four Knights Game: Italian Variation  C50               11\n",
              "3      1824      1973  Naitero_Nagasaki                800  Black      Normal  https://lichess.org/rklpc7mk   31     12  2012           60          1      Bullet         Caro-Kann Defense: Goldman Variation  B12               47\n",
              "4      1765      1815      nichiren1967   Naitero_Nagasaki  Black      Normal  https://lichess.org/1xb3os63   31     12  2012           60          1      Bullet     French Defense: La Bourdonnais Variation  C00               23"
            ],
            "text/html": [
              "<div>\n",
              "<style scoped>\n",
              "    .dataframe tbody tr th:only-of-type {\n",
              "        vertical-align: middle;\n",
              "    }\n",
              "\n",
              "    .dataframe tbody tr th {\n",
              "        vertical-align: top;\n",
              "    }\n",
              "\n",
              "    .dataframe thead th {\n",
              "        text-align: right;\n",
              "    }\n",
              "</style>\n",
              "<table border=\"1\" class=\"dataframe\">\n",
              "  <thead>\n",
              "    <tr style=\"text-align: right;\">\n",
              "      <th></th>\n",
              "      <th>WhiteElo</th>\n",
              "      <th>BlackElo</th>\n",
              "      <th>WhiteName</th>\n",
              "      <th>BlackName</th>\n",
              "      <th>Winner</th>\n",
              "      <th>Termination</th>\n",
              "      <th>Site</th>\n",
              "      <th>Day</th>\n",
              "      <th>Month</th>\n",
              "      <th>Year</th>\n",
              "      <th>InitialTime</th>\n",
              "      <th>Increment</th>\n",
              "      <th>TimeControl</th>\n",
              "      <th>Opening</th>\n",
              "      <th>ECO</th>\n",
              "      <th>Number_of_Moves</th>\n",
              "    </tr>\n",
              "  </thead>\n",
              "  <tbody>\n",
              "    <tr>\n",
              "      <th>0</th>\n",
              "      <td>1639</td>\n",
              "      <td>1403</td>\n",
              "      <td>BFG9k</td>\n",
              "      <td>mamalak</td>\n",
              "      <td>White</td>\n",
              "      <td>Normal</td>\n",
              "      <td>https://lichess.org/j1dkb5dw</td>\n",
              "      <td>31</td>\n",
              "      <td>12</td>\n",
              "      <td>2012</td>\n",
              "      <td>600</td>\n",
              "      <td>8</td>\n",
              "      <td>Rapid</td>\n",
              "      <td>French Defense: Normal Variation</td>\n",
              "      <td>C00</td>\n",
              "      <td>13</td>\n",
              "    </tr>\n",
              "    <tr>\n",
              "      <th>1</th>\n",
              "      <td>1654</td>\n",
              "      <td>1919</td>\n",
              "      <td>Desmond_Wilson</td>\n",
              "      <td>savinka59</td>\n",
              "      <td>White</td>\n",
              "      <td>Normal</td>\n",
              "      <td>https://lichess.org/a9tcp02g</td>\n",
              "      <td>31</td>\n",
              "      <td>12</td>\n",
              "      <td>2012</td>\n",
              "      <td>480</td>\n",
              "      <td>2</td>\n",
              "      <td>Rapid</td>\n",
              "      <td>Queen's Pawn Game: Colle System, Anti-Colle</td>\n",
              "      <td>D04</td>\n",
              "      <td>18</td>\n",
              "    </tr>\n",
              "    <tr>\n",
              "      <th>2</th>\n",
              "      <td>1643</td>\n",
              "      <td>1747</td>\n",
              "      <td>Kozakmamay007</td>\n",
              "      <td>VanillaShamanilla</td>\n",
              "      <td>White</td>\n",
              "      <td>Normal</td>\n",
              "      <td>https://lichess.org/szom2tog</td>\n",
              "      <td>31</td>\n",
              "      <td>12</td>\n",
              "      <td>2012</td>\n",
              "      <td>420</td>\n",
              "      <td>17</td>\n",
              "      <td>Rapid</td>\n",
              "      <td>Four Knights Game: Italian Variation</td>\n",
              "      <td>C50</td>\n",
              "      <td>11</td>\n",
              "    </tr>\n",
              "    <tr>\n",
              "      <th>3</th>\n",
              "      <td>1824</td>\n",
              "      <td>1973</td>\n",
              "      <td>Naitero_Nagasaki</td>\n",
              "      <td>800</td>\n",
              "      <td>Black</td>\n",
              "      <td>Normal</td>\n",
              "      <td>https://lichess.org/rklpc7mk</td>\n",
              "      <td>31</td>\n",
              "      <td>12</td>\n",
              "      <td>2012</td>\n",
              "      <td>60</td>\n",
              "      <td>1</td>\n",
              "      <td>Bullet</td>\n",
              "      <td>Caro-Kann Defense: Goldman Variation</td>\n",
              "      <td>B12</td>\n",
              "      <td>47</td>\n",
              "    </tr>\n",
              "    <tr>\n",
              "      <th>4</th>\n",
              "      <td>1765</td>\n",
              "      <td>1815</td>\n",
              "      <td>nichiren1967</td>\n",
              "      <td>Naitero_Nagasaki</td>\n",
              "      <td>Black</td>\n",
              "      <td>Normal</td>\n",
              "      <td>https://lichess.org/1xb3os63</td>\n",
              "      <td>31</td>\n",
              "      <td>12</td>\n",
              "      <td>2012</td>\n",
              "      <td>60</td>\n",
              "      <td>1</td>\n",
              "      <td>Bullet</td>\n",
              "      <td>French Defense: La Bourdonnais Variation</td>\n",
              "      <td>C00</td>\n",
              "      <td>23</td>\n",
              "    </tr>\n",
              "  </tbody>\n",
              "</table>\n",
              "</div>"
            ]
          },
          "metadata": {},
          "execution_count": 13
        }
      ],
      "source": [
        "%%time \n",
        "kdf.head()"
      ]
    },
    {
      "cell_type": "markdown",
      "metadata": {
        "id": "sj8Njm_EoG59"
      },
      "source": [
        "### Handle Missing Values"
      ]
    },
    {
      "cell_type": "markdown",
      "metadata": {
        "id": "tjZRmHsGogYK"
      },
      "source": [
        "**Pandas**\n"
      ]
    },
    {
      "cell_type": "code",
      "execution_count": 14,
      "metadata": {
        "id": "WyflWMNppsfw",
        "colab": {
          "base_uri": "https://localhost:8080/"
        },
        "outputId": "d1f64968-8706-4510-90d9-decf96ea10c1"
      },
      "outputs": [
        {
          "output_type": "stream",
          "name": "stdout",
          "text": [
            "CPU times: user 10.2 s, sys: 582 ms, total: 10.8 s\n",
            "Wall time: 16.3 s\n"
          ]
        },
        {
          "output_type": "execute_result",
          "data": {
            "text/plain": [
              "WhiteElo           0\n",
              "BlackElo           0\n",
              "WhiteName          0\n",
              "BlackName          0\n",
              "Winner             0\n",
              "Termination        0\n",
              "Site               0\n",
              "Day                0\n",
              "Month              0\n",
              "Year               0\n",
              "InitialTime        0\n",
              "Increment          0\n",
              "TimeControl        0\n",
              "Opening            0\n",
              "ECO                0\n",
              "Number_of_Moves    0\n",
              "dtype: int64"
            ]
          },
          "metadata": {},
          "execution_count": 14
        }
      ],
      "source": [
        "%%time\n",
        "pdf.isnull().sum()"
      ]
    },
    {
      "cell_type": "markdown",
      "metadata": {
        "id": "M7OUvGE_o0ZV"
      },
      "source": [
        "**Vaex**"
      ]
    },
    {
      "cell_type": "code",
      "execution_count": 15,
      "metadata": {
        "id": "j-0ZBHF6pmM9",
        "colab": {
          "base_uri": "https://localhost:8080/"
        },
        "outputId": "63e96d2a-98b1-4d95-cef4-b7b7f89d872c"
      },
      "outputs": [
        {
          "output_type": "stream",
          "name": "stdout",
          "text": [
            "WhiteElo\t 0\n",
            "BlackElo\t 0\n",
            "WhiteName\t 0\n",
            "BlackName\t 0\n",
            "Termination\t 0\n",
            "Site\t\t 0\n",
            "Day\t\t 0\n",
            "Month\t\t 0\n",
            "Year\t\t 0\n",
            "InitialTime\t 0\n",
            "Increment\t 0\n",
            "TimeControl\t 0\n",
            "Opening\t\t 0\n",
            "ECO\t\t 0\n",
            "Number_of_Moves\t 0\n",
            "CPU times: user 2min 24s, sys: 15.2 s, total: 2min 39s\n",
            "Wall time: 1min 27s\n"
          ]
        }
      ],
      "source": [
        "%%time\n",
        "print(\"WhiteElo\\t\", vdf.WhiteElo.isnan().sum())\n",
        "print(\"BlackElo\\t\", vdf.BlackElo.isnan().sum())\n",
        "print(\"WhiteName\\t\", vdf.WhiteName.isnan().sum())\n",
        "print(\"BlackName\\t\", vdf.BlackName.isnan().sum())\n",
        "print(\"Termination\\t\", vdf.Termination.isnan().sum())\n",
        "print(\"Site\\t\\t\", vdf.Site.isnan().sum())\n",
        "print(\"Day\\t\\t\", vdf.Day.isnan().sum())\n",
        "print(\"Month\\t\\t\", vdf.Month.isnan().sum())\n",
        "print(\"Year\\t\\t\", vdf.Year.isnan().sum())\n",
        "print(\"InitialTime\\t\", vdf.InitialTime.isnan().sum())\n",
        "print(\"Increment\\t\", vdf.Increment.isnan().sum())\n",
        "print(\"TimeControl\\t\", vdf.TimeControl.isnan().sum())\n",
        "print(\"Opening\\t\\t\", vdf.Opening.isnan().sum())\n",
        "print(\"ECO\\t\\t\", vdf.ECO.isnan().sum())\n",
        "print(\"Number_of_Moves\\t\", vdf.Number_of_Moves.isnan().sum())"
      ]
    },
    {
      "cell_type": "markdown",
      "metadata": {
        "id": "2tYCnFIPo3h3"
      },
      "source": [
        "**Koalas**"
      ]
    },
    {
      "cell_type": "code",
      "execution_count": 16,
      "metadata": {
        "id": "UxntD1GepAuY",
        "colab": {
          "base_uri": "https://localhost:8080/"
        },
        "outputId": "a51d81d7-5ace-4653-a189-c4ec7615c6eb"
      },
      "outputs": [
        {
          "output_type": "stream",
          "name": "stdout",
          "text": [
            "CPU times: user 615 ms, sys: 93 ms, total: 708 ms\n",
            "Wall time: 49.7 s\n"
          ]
        },
        {
          "output_type": "execute_result",
          "data": {
            "text/plain": [
              "WhiteElo           0\n",
              "BlackElo           0\n",
              "WhiteName          0\n",
              "BlackName          0\n",
              "Winner             0\n",
              "Termination        0\n",
              "Site               0\n",
              "Day                0\n",
              "Month              0\n",
              "Year               0\n",
              "InitialTime        0\n",
              "Increment          0\n",
              "TimeControl        0\n",
              "Opening            0\n",
              "ECO                0\n",
              "Number_of_Moves    0\n",
              "dtype: int64"
            ]
          },
          "metadata": {},
          "execution_count": 16
        }
      ],
      "source": [
        "%%time\n",
        "kdf.isnull().sum()"
      ]
    },
    {
      "cell_type": "markdown",
      "metadata": {
        "id": "g54WJZZYoL_b"
      },
      "source": [
        "### Drop Unnecessary Columns "
      ]
    },
    {
      "cell_type": "markdown",
      "metadata": {
        "id": "p8YnHpC2pR12"
      },
      "source": [
        "We will not be using the opening songs and volume, and the day of the gameplay for this study."
      ]
    },
    {
      "cell_type": "markdown",
      "metadata": {
        "id": "P5yJpLcnogwf"
      },
      "source": [
        "**Pandas**\n"
      ]
    },
    {
      "cell_type": "code",
      "execution_count": 17,
      "metadata": {
        "id": "oi5Nus_9uLDa",
        "colab": {
          "base_uri": "https://localhost:8080/"
        },
        "outputId": "9f01bbe5-16cd-417b-848a-a99032ec5a68"
      },
      "outputs": [
        {
          "output_type": "stream",
          "name": "stdout",
          "text": [
            "CPU times: user 1.32 s, sys: 518 ms, total: 1.84 s\n",
            "Wall time: 1.84 s\n"
          ]
        }
      ],
      "source": [
        "%%time\n",
        "pdf = pdf.drop([\"Day\", \"Opening\", \"ECO\"], axis=1)"
      ]
    },
    {
      "cell_type": "markdown",
      "metadata": {
        "id": "TsJsm2XUo03W"
      },
      "source": [
        "**Vaex**"
      ]
    },
    {
      "cell_type": "code",
      "execution_count": 18,
      "metadata": {
        "id": "gkuAQHWqptxd",
        "colab": {
          "base_uri": "https://localhost:8080/"
        },
        "outputId": "2dc295c3-9a16-4f6c-fcb1-b3ea113feca2"
      },
      "outputs": [
        {
          "output_type": "stream",
          "name": "stdout",
          "text": [
            "CPU times: user 1.49 ms, sys: 0 ns, total: 1.49 ms\n",
            "Wall time: 1.43 ms\n"
          ]
        }
      ],
      "source": [
        "%%time\n",
        "vdf = vdf.drop(columns=[\"Day\", \"Opening\", \"ECO\"])"
      ]
    },
    {
      "cell_type": "markdown",
      "metadata": {
        "id": "HV-xhiTho3_q"
      },
      "source": [
        "**Koalas**"
      ]
    },
    {
      "cell_type": "code",
      "execution_count": 19,
      "metadata": {
        "id": "Ff-oeRzMpCfh",
        "colab": {
          "base_uri": "https://localhost:8080/"
        },
        "outputId": "b36ea9cc-a91f-4e31-df8f-d9ff57443738"
      },
      "outputs": [
        {
          "output_type": "stream",
          "name": "stdout",
          "text": [
            "CPU times: user 39.4 ms, sys: 6.49 ms, total: 45.9 ms\n",
            "Wall time: 193 ms\n"
          ]
        }
      ],
      "source": [
        "%%time\n",
        "kdf = kdf.drop(columns=[\"Day\", \"Opening\", \"ECO\"])"
      ]
    },
    {
      "cell_type": "markdown",
      "metadata": {
        "id": "j0sBm4croR6H"
      },
      "source": [
        "###Sorting The Dataset\n",
        "The dataset is sorted by 2014 in order to view the most recent game play."
      ]
    },
    {
      "cell_type": "markdown",
      "metadata": {
        "id": "AfmnRHQFohoD"
      },
      "source": [
        "**Pandas**\n"
      ]
    },
    {
      "cell_type": "code",
      "execution_count": 20,
      "metadata": {
        "id": "u6P05vsbsEAF",
        "colab": {
          "base_uri": "https://localhost:8080/",
          "height": 306
        },
        "outputId": "1803a06c-6fe2-4682-e6c6-53150e97f283"
      },
      "outputs": [
        {
          "output_type": "stream",
          "name": "stdout",
          "text": [
            "CPU times: user 4.07 s, sys: 2.79 s, total: 6.86 s\n",
            "Wall time: 6.87 s\n"
          ]
        },
        {
          "output_type": "execute_result",
          "data": {
            "text/plain": [
              "         WhiteElo  BlackElo         WhiteName    BlackName Winner Termination  \\\n",
              "7459115      1905      1863              Alia    rafiquito  Black      Normal   \n",
              "9945506      1575      1545           veridik   STANISLAV2  White      Normal   \n",
              "9945480      1671      1541           ISHOGAI       audax1  Black      Normal   \n",
              "9945481      1400      1489  Triceratops_2007  Breaksparov  Black      Normal   \n",
              "9945482      1619      1553          Andrew67     rosebud-  White      Normal   \n",
              "\n",
              "                                 Site  Month  Year  InitialTime  Increment  \\\n",
              "7459115  https://lichess.org/ZSsxYwgy      6  2014          420          8   \n",
              "9945506  https://lichess.org/3RcUeAl5      8  2014          300          2   \n",
              "9945480  https://lichess.org/EbdTeNEf      8  2014          180          0   \n",
              "9945481  https://lichess.org/IUyf7e0g      8  2014          120          6   \n",
              "9945482  https://lichess.org/0tyCcZXw      8  2014          600         10   \n",
              "\n",
              "        TimeControl  Number_of_Moves  \n",
              "7459115       Rapid               33  \n",
              "9945506       Blitz               26  \n",
              "9945480       Blitz               28  \n",
              "9945481       Blitz               25  \n",
              "9945482       Rapid               33  "
            ],
            "text/html": [
              "\n",
              "  <div id=\"df-0200e56b-97d3-4986-91c8-f2ee401fe822\">\n",
              "    <div class=\"colab-df-container\">\n",
              "      <div>\n",
              "<style scoped>\n",
              "    .dataframe tbody tr th:only-of-type {\n",
              "        vertical-align: middle;\n",
              "    }\n",
              "\n",
              "    .dataframe tbody tr th {\n",
              "        vertical-align: top;\n",
              "    }\n",
              "\n",
              "    .dataframe thead th {\n",
              "        text-align: right;\n",
              "    }\n",
              "</style>\n",
              "<table border=\"1\" class=\"dataframe\">\n",
              "  <thead>\n",
              "    <tr style=\"text-align: right;\">\n",
              "      <th></th>\n",
              "      <th>WhiteElo</th>\n",
              "      <th>BlackElo</th>\n",
              "      <th>WhiteName</th>\n",
              "      <th>BlackName</th>\n",
              "      <th>Winner</th>\n",
              "      <th>Termination</th>\n",
              "      <th>Site</th>\n",
              "      <th>Month</th>\n",
              "      <th>Year</th>\n",
              "      <th>InitialTime</th>\n",
              "      <th>Increment</th>\n",
              "      <th>TimeControl</th>\n",
              "      <th>Number_of_Moves</th>\n",
              "    </tr>\n",
              "  </thead>\n",
              "  <tbody>\n",
              "    <tr>\n",
              "      <th>7459115</th>\n",
              "      <td>1905</td>\n",
              "      <td>1863</td>\n",
              "      <td>Alia</td>\n",
              "      <td>rafiquito</td>\n",
              "      <td>Black</td>\n",
              "      <td>Normal</td>\n",
              "      <td>https://lichess.org/ZSsxYwgy</td>\n",
              "      <td>6</td>\n",
              "      <td>2014</td>\n",
              "      <td>420</td>\n",
              "      <td>8</td>\n",
              "      <td>Rapid</td>\n",
              "      <td>33</td>\n",
              "    </tr>\n",
              "    <tr>\n",
              "      <th>9945506</th>\n",
              "      <td>1575</td>\n",
              "      <td>1545</td>\n",
              "      <td>veridik</td>\n",
              "      <td>STANISLAV2</td>\n",
              "      <td>White</td>\n",
              "      <td>Normal</td>\n",
              "      <td>https://lichess.org/3RcUeAl5</td>\n",
              "      <td>8</td>\n",
              "      <td>2014</td>\n",
              "      <td>300</td>\n",
              "      <td>2</td>\n",
              "      <td>Blitz</td>\n",
              "      <td>26</td>\n",
              "    </tr>\n",
              "    <tr>\n",
              "      <th>9945480</th>\n",
              "      <td>1671</td>\n",
              "      <td>1541</td>\n",
              "      <td>ISHOGAI</td>\n",
              "      <td>audax1</td>\n",
              "      <td>Black</td>\n",
              "      <td>Normal</td>\n",
              "      <td>https://lichess.org/EbdTeNEf</td>\n",
              "      <td>8</td>\n",
              "      <td>2014</td>\n",
              "      <td>180</td>\n",
              "      <td>0</td>\n",
              "      <td>Blitz</td>\n",
              "      <td>28</td>\n",
              "    </tr>\n",
              "    <tr>\n",
              "      <th>9945481</th>\n",
              "      <td>1400</td>\n",
              "      <td>1489</td>\n",
              "      <td>Triceratops_2007</td>\n",
              "      <td>Breaksparov</td>\n",
              "      <td>Black</td>\n",
              "      <td>Normal</td>\n",
              "      <td>https://lichess.org/IUyf7e0g</td>\n",
              "      <td>8</td>\n",
              "      <td>2014</td>\n",
              "      <td>120</td>\n",
              "      <td>6</td>\n",
              "      <td>Blitz</td>\n",
              "      <td>25</td>\n",
              "    </tr>\n",
              "    <tr>\n",
              "      <th>9945482</th>\n",
              "      <td>1619</td>\n",
              "      <td>1553</td>\n",
              "      <td>Andrew67</td>\n",
              "      <td>rosebud-</td>\n",
              "      <td>White</td>\n",
              "      <td>Normal</td>\n",
              "      <td>https://lichess.org/0tyCcZXw</td>\n",
              "      <td>8</td>\n",
              "      <td>2014</td>\n",
              "      <td>600</td>\n",
              "      <td>10</td>\n",
              "      <td>Rapid</td>\n",
              "      <td>33</td>\n",
              "    </tr>\n",
              "  </tbody>\n",
              "</table>\n",
              "</div>\n",
              "      <button class=\"colab-df-convert\" onclick=\"convertToInteractive('df-0200e56b-97d3-4986-91c8-f2ee401fe822')\"\n",
              "              title=\"Convert this dataframe to an interactive table.\"\n",
              "              style=\"display:none;\">\n",
              "        \n",
              "  <svg xmlns=\"http://www.w3.org/2000/svg\" height=\"24px\"viewBox=\"0 0 24 24\"\n",
              "       width=\"24px\">\n",
              "    <path d=\"M0 0h24v24H0V0z\" fill=\"none\"/>\n",
              "    <path d=\"M18.56 5.44l.94 2.06.94-2.06 2.06-.94-2.06-.94-.94-2.06-.94 2.06-2.06.94zm-11 1L8.5 8.5l.94-2.06 2.06-.94-2.06-.94L8.5 2.5l-.94 2.06-2.06.94zm10 10l.94 2.06.94-2.06 2.06-.94-2.06-.94-.94-2.06-.94 2.06-2.06.94z\"/><path d=\"M17.41 7.96l-1.37-1.37c-.4-.4-.92-.59-1.43-.59-.52 0-1.04.2-1.43.59L10.3 9.45l-7.72 7.72c-.78.78-.78 2.05 0 2.83L4 21.41c.39.39.9.59 1.41.59.51 0 1.02-.2 1.41-.59l7.78-7.78 2.81-2.81c.8-.78.8-2.07 0-2.86zM5.41 20L4 18.59l7.72-7.72 1.47 1.35L5.41 20z\"/>\n",
              "  </svg>\n",
              "      </button>\n",
              "      \n",
              "  <style>\n",
              "    .colab-df-container {\n",
              "      display:flex;\n",
              "      flex-wrap:wrap;\n",
              "      gap: 12px;\n",
              "    }\n",
              "\n",
              "    .colab-df-convert {\n",
              "      background-color: #E8F0FE;\n",
              "      border: none;\n",
              "      border-radius: 50%;\n",
              "      cursor: pointer;\n",
              "      display: none;\n",
              "      fill: #1967D2;\n",
              "      height: 32px;\n",
              "      padding: 0 0 0 0;\n",
              "      width: 32px;\n",
              "    }\n",
              "\n",
              "    .colab-df-convert:hover {\n",
              "      background-color: #E2EBFA;\n",
              "      box-shadow: 0px 1px 2px rgba(60, 64, 67, 0.3), 0px 1px 3px 1px rgba(60, 64, 67, 0.15);\n",
              "      fill: #174EA6;\n",
              "    }\n",
              "\n",
              "    [theme=dark] .colab-df-convert {\n",
              "      background-color: #3B4455;\n",
              "      fill: #D2E3FC;\n",
              "    }\n",
              "\n",
              "    [theme=dark] .colab-df-convert:hover {\n",
              "      background-color: #434B5C;\n",
              "      box-shadow: 0px 1px 3px 1px rgba(0, 0, 0, 0.15);\n",
              "      filter: drop-shadow(0px 1px 2px rgba(0, 0, 0, 0.3));\n",
              "      fill: #FFFFFF;\n",
              "    }\n",
              "  </style>\n",
              "\n",
              "      <script>\n",
              "        const buttonEl =\n",
              "          document.querySelector('#df-0200e56b-97d3-4986-91c8-f2ee401fe822 button.colab-df-convert');\n",
              "        buttonEl.style.display =\n",
              "          google.colab.kernel.accessAllowed ? 'block' : 'none';\n",
              "\n",
              "        async function convertToInteractive(key) {\n",
              "          const element = document.querySelector('#df-0200e56b-97d3-4986-91c8-f2ee401fe822');\n",
              "          const dataTable =\n",
              "            await google.colab.kernel.invokeFunction('convertToInteractive',\n",
              "                                                     [key], {});\n",
              "          if (!dataTable) return;\n",
              "\n",
              "          const docLinkHtml = 'Like what you see? Visit the ' +\n",
              "            '<a target=\"_blank\" href=https://colab.research.google.com/notebooks/data_table.ipynb>data table notebook</a>'\n",
              "            + ' to learn more about interactive tables.';\n",
              "          element.innerHTML = '';\n",
              "          dataTable['output_type'] = 'display_data';\n",
              "          await google.colab.output.renderOutput(dataTable, element);\n",
              "          const docLink = document.createElement('div');\n",
              "          docLink.innerHTML = docLinkHtml;\n",
              "          element.appendChild(docLink);\n",
              "        }\n",
              "      </script>\n",
              "    </div>\n",
              "  </div>\n",
              "  "
            ]
          },
          "metadata": {},
          "execution_count": 20
        }
      ],
      "source": [
        "%%time\n",
        "pdf.sort_values(by='Year', ascending=False).head()"
      ]
    },
    {
      "cell_type": "markdown",
      "metadata": {
        "id": "i_EsRrddo1m6"
      },
      "source": [
        "**Vaex**"
      ]
    },
    {
      "cell_type": "code",
      "execution_count": 21,
      "metadata": {
        "colab": {
          "base_uri": "https://localhost:8080/",
          "height": 183
        },
        "id": "GIYfBv2OsJzN",
        "outputId": "0c72e79f-2796-46c9-d240-cedbccc7c3d3"
      },
      "outputs": [
        {
          "output_type": "stream",
          "name": "stdout",
          "text": [
            "CPU times: user 10.2 s, sys: 1.58 s, total: 11.7 s\n",
            "Wall time: 9.6 s\n"
          ]
        },
        {
          "output_type": "execute_result",
          "data": {
            "text/html": [
              "<table>\n",
              "<thead>\n",
              "<tr><th>#                            </th><th style=\"text-align: right;\">  WhiteElo</th><th style=\"text-align: right;\">  BlackElo</th><th>WhiteName       </th><th>BlackName  </th><th>Winner  </th><th>Termination  </th><th>Site                        </th><th style=\"text-align: right;\">  Month</th><th style=\"text-align: right;\">  Year</th><th style=\"text-align: right;\">  InitialTime</th><th style=\"text-align: right;\">  Increment</th><th>TimeControl  </th><th style=\"text-align: right;\">  Number_of_Moves</th></tr>\n",
              "</thead>\n",
              "<tbody>\n",
              "<tr><td><i style='opacity: 0.6'>0</i></td><td style=\"text-align: right;\">      1433</td><td style=\"text-align: right;\">      1438</td><td>Dolg            </td><td>ArchisT    </td><td>White   </td><td>Normal       </td><td>https://lichess.org/9s3drbbn</td><td style=\"text-align: right;\">      1</td><td style=\"text-align: right;\">  2014</td><td style=\"text-align: right;\">          600</td><td style=\"text-align: right;\">          0</td><td>Rapid        </td><td style=\"text-align: right;\">               21</td></tr>\n",
              "<tr><td><i style='opacity: 0.6'>1</i></td><td style=\"text-align: right;\">      1560</td><td style=\"text-align: right;\">      1652</td><td>NapoleonII      </td><td>SteMitch   </td><td>White   </td><td>Time forfeit </td><td>https://lichess.org/81um1man</td><td style=\"text-align: right;\">      1</td><td style=\"text-align: right;\">  2014</td><td style=\"text-align: right;\">          600</td><td style=\"text-align: right;\">          0</td><td>Rapid        </td><td style=\"text-align: right;\">               22</td></tr>\n",
              "<tr><td><i style='opacity: 0.6'>2</i></td><td style=\"text-align: right;\">      1532</td><td style=\"text-align: right;\">      1160</td><td>juansosaipanaque</td><td>zaza71     </td><td>White   </td><td>Time forfeit </td><td>https://lichess.org/lnpqqokc</td><td style=\"text-align: right;\">      1</td><td style=\"text-align: right;\">  2014</td><td style=\"text-align: right;\">          120</td><td style=\"text-align: right;\">          0</td><td>Bullet       </td><td style=\"text-align: right;\">               29</td></tr>\n",
              "<tr><td><i style='opacity: 0.6'>3</i></td><td style=\"text-align: right;\">      1806</td><td style=\"text-align: right;\">      1914</td><td>draten          </td><td>perico12   </td><td>White   </td><td>Normal       </td><td>https://lichess.org/nga51dld</td><td style=\"text-align: right;\">      1</td><td style=\"text-align: right;\">  2014</td><td style=\"text-align: right;\">          300</td><td style=\"text-align: right;\">          0</td><td>Blitz        </td><td style=\"text-align: right;\">               24</td></tr>\n",
              "<tr><td><i style='opacity: 0.6'>4</i></td><td style=\"text-align: right;\">      1500</td><td style=\"text-align: right;\">      1460</td><td>firespoon       </td><td>yesse2     </td><td>White   </td><td>Time forfeit </td><td>https://lichess.org/me4jnzdp</td><td style=\"text-align: right;\">      1</td><td style=\"text-align: right;\">  2014</td><td style=\"text-align: right;\">          180</td><td style=\"text-align: right;\">          0</td><td>Blitz        </td><td style=\"text-align: right;\">               30</td></tr>\n",
              "</tbody>\n",
              "</table>"
            ],
            "text/plain": [
              "  #    WhiteElo    BlackElo  WhiteName         BlackName    Winner    Termination    Site                            Month    Year    InitialTime    Increment  TimeControl      Number_of_Moves\n",
              "  0        1433        1438  Dolg              ArchisT      White     Normal         https://lichess.org/9s3drbbn        1    2014            600            0  Rapid                         21\n",
              "  1        1560        1652  NapoleonII        SteMitch     White     Time forfeit   https://lichess.org/81um1man        1    2014            600            0  Rapid                         22\n",
              "  2        1532        1160  juansosaipanaque  zaza71       White     Time forfeit   https://lichess.org/lnpqqokc        1    2014            120            0  Bullet                        29\n",
              "  3        1806        1914  draten            perico12     White     Normal         https://lichess.org/nga51dld        1    2014            300            0  Blitz                         24\n",
              "  4        1500        1460  firespoon         yesse2       White     Time forfeit   https://lichess.org/me4jnzdp        1    2014            180            0  Blitz                         30"
            ]
          },
          "metadata": {},
          "execution_count": 21
        }
      ],
      "source": [
        "%%time\n",
        "vdf.sort(by='Year', ascending=False).head(5)"
      ]
    },
    {
      "cell_type": "markdown",
      "metadata": {
        "id": "Or2TLuxjo4mW"
      },
      "source": [
        "**Koalas**"
      ]
    },
    {
      "cell_type": "code",
      "execution_count": 22,
      "metadata": {
        "id": "ibAQP0N6j2fw",
        "colab": {
          "base_uri": "https://localhost:8080/",
          "height": 262
        },
        "outputId": "7d330504-eb59-4b5e-9ead-407903579d99"
      },
      "outputs": [
        {
          "output_type": "stream",
          "name": "stdout",
          "text": [
            "CPU times: user 59.7 ms, sys: 3.5 ms, total: 63.2 ms\n",
            "Wall time: 330 ms\n"
          ]
        },
        {
          "output_type": "execute_result",
          "data": {
            "text/plain": [
              "         WhiteElo  BlackElo         WhiteName BlackName Winner   Termination                          Site  Month  Year  InitialTime  Increment TimeControl  Number_of_Moves\n",
              "3375674      1433      1438              Dolg   ArchisT  White        Normal  https://lichess.org/9s3drbbn      1  2014          600          0       Rapid               21\n",
              "3375677      1560      1652        NapoleonII  SteMitch  White  Time forfeit  https://lichess.org/81um1man      1  2014          600          0       Rapid               22\n",
              "3375681      1532      1160  juansosaipanaque    zaza71  White  Time forfeit  https://lichess.org/lnpqqokc      1  2014          120          0      Bullet               29\n",
              "3375682      1806      1914            draten  perico12  White        Normal  https://lichess.org/nga51dld      1  2014          300          0       Blitz               24\n",
              "3375683      1500      1460         firespoon    yesse2  White  Time forfeit  https://lichess.org/me4jnzdp      1  2014          180          0       Blitz               30"
            ],
            "text/html": [
              "<div>\n",
              "<style scoped>\n",
              "    .dataframe tbody tr th:only-of-type {\n",
              "        vertical-align: middle;\n",
              "    }\n",
              "\n",
              "    .dataframe tbody tr th {\n",
              "        vertical-align: top;\n",
              "    }\n",
              "\n",
              "    .dataframe thead th {\n",
              "        text-align: right;\n",
              "    }\n",
              "</style>\n",
              "<table border=\"1\" class=\"dataframe\">\n",
              "  <thead>\n",
              "    <tr style=\"text-align: right;\">\n",
              "      <th></th>\n",
              "      <th>WhiteElo</th>\n",
              "      <th>BlackElo</th>\n",
              "      <th>WhiteName</th>\n",
              "      <th>BlackName</th>\n",
              "      <th>Winner</th>\n",
              "      <th>Termination</th>\n",
              "      <th>Site</th>\n",
              "      <th>Month</th>\n",
              "      <th>Year</th>\n",
              "      <th>InitialTime</th>\n",
              "      <th>Increment</th>\n",
              "      <th>TimeControl</th>\n",
              "      <th>Number_of_Moves</th>\n",
              "    </tr>\n",
              "  </thead>\n",
              "  <tbody>\n",
              "    <tr>\n",
              "      <th>3375674</th>\n",
              "      <td>1433</td>\n",
              "      <td>1438</td>\n",
              "      <td>Dolg</td>\n",
              "      <td>ArchisT</td>\n",
              "      <td>White</td>\n",
              "      <td>Normal</td>\n",
              "      <td>https://lichess.org/9s3drbbn</td>\n",
              "      <td>1</td>\n",
              "      <td>2014</td>\n",
              "      <td>600</td>\n",
              "      <td>0</td>\n",
              "      <td>Rapid</td>\n",
              "      <td>21</td>\n",
              "    </tr>\n",
              "    <tr>\n",
              "      <th>3375677</th>\n",
              "      <td>1560</td>\n",
              "      <td>1652</td>\n",
              "      <td>NapoleonII</td>\n",
              "      <td>SteMitch</td>\n",
              "      <td>White</td>\n",
              "      <td>Time forfeit</td>\n",
              "      <td>https://lichess.org/81um1man</td>\n",
              "      <td>1</td>\n",
              "      <td>2014</td>\n",
              "      <td>600</td>\n",
              "      <td>0</td>\n",
              "      <td>Rapid</td>\n",
              "      <td>22</td>\n",
              "    </tr>\n",
              "    <tr>\n",
              "      <th>3375681</th>\n",
              "      <td>1532</td>\n",
              "      <td>1160</td>\n",
              "      <td>juansosaipanaque</td>\n",
              "      <td>zaza71</td>\n",
              "      <td>White</td>\n",
              "      <td>Time forfeit</td>\n",
              "      <td>https://lichess.org/lnpqqokc</td>\n",
              "      <td>1</td>\n",
              "      <td>2014</td>\n",
              "      <td>120</td>\n",
              "      <td>0</td>\n",
              "      <td>Bullet</td>\n",
              "      <td>29</td>\n",
              "    </tr>\n",
              "    <tr>\n",
              "      <th>3375682</th>\n",
              "      <td>1806</td>\n",
              "      <td>1914</td>\n",
              "      <td>draten</td>\n",
              "      <td>perico12</td>\n",
              "      <td>White</td>\n",
              "      <td>Normal</td>\n",
              "      <td>https://lichess.org/nga51dld</td>\n",
              "      <td>1</td>\n",
              "      <td>2014</td>\n",
              "      <td>300</td>\n",
              "      <td>0</td>\n",
              "      <td>Blitz</td>\n",
              "      <td>24</td>\n",
              "    </tr>\n",
              "    <tr>\n",
              "      <th>3375683</th>\n",
              "      <td>1500</td>\n",
              "      <td>1460</td>\n",
              "      <td>firespoon</td>\n",
              "      <td>yesse2</td>\n",
              "      <td>White</td>\n",
              "      <td>Time forfeit</td>\n",
              "      <td>https://lichess.org/me4jnzdp</td>\n",
              "      <td>1</td>\n",
              "      <td>2014</td>\n",
              "      <td>180</td>\n",
              "      <td>0</td>\n",
              "      <td>Blitz</td>\n",
              "      <td>30</td>\n",
              "    </tr>\n",
              "  </tbody>\n",
              "</table>\n",
              "</div>"
            ]
          },
          "metadata": {},
          "execution_count": 22
        }
      ],
      "source": [
        "%%time\n",
        "kdf.sort_values(by='Year', ascending=False).head()"
      ]
    },
    {
      "cell_type": "markdown",
      "metadata": {
        "id": "_0m5LkbVVJJ6"
      },
      "source": [
        "## Exploratory Analysis and Visualization\n",
        "\n",
        "In this section, we will examine the data characteristics, including the mean number of moves, the distribution of the month in which the game was played, the highest and lowest rated players, and the correlation between the attributes."
      ]
    },
    {
      "cell_type": "markdown",
      "metadata": {
        "id": "rN1bUu8RVJJ7"
      },
      "source": [
        "**The Number of Moves Mean** - The average value of moves across all chess games."
      ]
    },
    {
      "cell_type": "markdown",
      "metadata": {
        "id": "JxUC2f69vNqH"
      },
      "source": [
        "**Pandas**\n"
      ]
    },
    {
      "cell_type": "code",
      "execution_count": null,
      "metadata": {
        "colab": {
          "base_uri": "https://localhost:8080/"
        },
        "id": "l68WW_a2wOLY",
        "outputId": "94dcef36-36fe-44fe-fc29-d3f2ad191d5d"
      },
      "outputs": [
        {
          "name": "stdout",
          "output_type": "stream",
          "text": [
            "CPU times: user 38.6 ms, sys: 1.08 ms, total: 39.7 ms\n",
            "Wall time: 46.7 ms\n"
          ]
        },
        {
          "data": {
            "text/plain": [
              "33.846118205712074"
            ]
          },
          "execution_count": 21,
          "metadata": {},
          "output_type": "execute_result"
        }
      ],
      "source": [
        "%%time\n",
        "pdf['Number_of_Moves'].mean()"
      ]
    },
    {
      "cell_type": "markdown",
      "metadata": {
        "id": "mMloqF6GvS9-"
      },
      "source": [
        "**Vaex**"
      ]
    },
    {
      "cell_type": "code",
      "execution_count": null,
      "metadata": {
        "colab": {
          "base_uri": "https://localhost:8080/"
        },
        "id": "fG1jJTJ_wOom",
        "outputId": "c8f49267-9490-4ebf-b60c-0e5a2294db2b"
      },
      "outputs": [
        {
          "name": "stdout",
          "output_type": "stream",
          "text": [
            "CPU times: user 9.65 s, sys: 1.87 s, total: 11.5 s\n",
            "Wall time: 19.6 s\n"
          ]
        },
        {
          "data": {
            "text/plain": [
              "array(33.84611821)"
            ]
          },
          "execution_count": 22,
          "metadata": {},
          "output_type": "execute_result"
        }
      ],
      "source": [
        "%%time\n",
        "vdf['Number_of_Moves'].mean()"
      ]
    },
    {
      "cell_type": "markdown",
      "metadata": {
        "id": "M9yVHP0Uvyg1"
      },
      "source": [
        "**Koalas**"
      ]
    },
    {
      "cell_type": "code",
      "execution_count": null,
      "metadata": {
        "colab": {
          "base_uri": "https://localhost:8080/"
        },
        "id": "c7fugjWzVJJ7",
        "outputId": "1e0946f6-6038-41d9-fb88-0cbeda253c64"
      },
      "outputs": [
        {
          "name": "stdout",
          "output_type": "stream",
          "text": [
            "CPU times: user 212 ms, sys: 23 ms, total: 235 ms\n",
            "Wall time: 26.5 s\n"
          ]
        },
        {
          "data": {
            "text/plain": [
              "33.846118205712074"
            ]
          },
          "execution_count": 23,
          "metadata": {},
          "output_type": "execute_result"
        }
      ],
      "source": [
        "%%time\n",
        "kdf['Number_of_Moves'].mean()"
      ]
    },
    {
      "cell_type": "markdown",
      "metadata": {
        "id": "HhOJxwNZCxlr"
      },
      "source": [
        "\n",
        "\n",
        "---\n"
      ]
    },
    {
      "cell_type": "markdown",
      "metadata": {
        "id": "Fv4NPHasVJJ7"
      },
      "source": [
        "**Chess Game Month Distribution** - The monthly distribution of chess matches."
      ]
    },
    {
      "cell_type": "markdown",
      "metadata": {
        "id": "bHh3EiUnvOGd"
      },
      "source": [
        "**Pandas**\n"
      ]
    },
    {
      "cell_type": "code",
      "execution_count": null,
      "metadata": {
        "colab": {
          "base_uri": "https://localhost:8080/",
          "height": 330
        },
        "id": "Sa9msP7hjj6x",
        "outputId": "066f67a6-6dbd-443c-bcda-7ccb72d72058"
      },
      "outputs": [
        {
          "name": "stdout",
          "output_type": "stream",
          "text": [
            "CPU times: user 1.27 s, sys: 127 ms, total: 1.39 s\n",
            "Wall time: 1.39 s\n"
          ]
        },
        {
          "data": {
            "text/plain": [
              "<AxesSubplot: ylabel='Frequency'>"
            ]
          },
          "execution_count": 12,
          "metadata": {},
          "output_type": "execute_result"
        },
        {
          "data": {
            "image/png": "[encoded data removed]",
            "text/plain": [
              "<Figure size 432x288 with 1 Axes>"
            ]
          },
          "metadata": {},
          "output_type": "display_data"
        }
      ],
      "source": [
        "%%time\n",
        "pdf['Month'].plot.hist()"
      ]
    },
    {
      "cell_type": "markdown",
      "metadata": {
        "id": "MdT-BZ_yvTey"
      },
      "source": [
        "**Vaex**"
      ]
    },
    {
      "cell_type": "code",
      "execution_count": null,
      "metadata": {
        "colab": {
          "base_uri": "https://localhost:8080/",
          "height": 353
        },
        "id": "uAGmCnzh4Zlg",
        "outputId": "12ade14b-1eff-48fb-9cf5-cb5c5c89b752"
      },
      "outputs": [
        {
          "name": "stderr",
          "output_type": "stream",
          "text": [
            "/usr/local/lib/python3.8/dist-packages/vaex/viz/mpl.py:46: UserWarning: `plot1d` is deprecated and it will be removed in version 5.x. Please use `df.viz.histogram` instead.\n",
            "  warnings.warn('`plot1d` is deprecated and it will be removed in version 5.x. Please use `df.viz.histogram` instead.')\n"
          ]
        },
        {
          "data": {
            "image/png": "[encoded data removed]",
            "text/plain": [
              "<Figure size 432x288 with 1 Axes>"
            ]
          },
          "metadata": {},
          "output_type": "display_data"
        }
      ],
      "source": [
        "%%time\n",
        "vdf.plot1d(vdf.Month)"
      ]
    },
    {
      "cell_type": "markdown",
      "metadata": {
        "id": "8oBeggjPvy64"
      },
      "source": [
        "**Koalas**"
      ]
    },
    {
      "cell_type": "code",
      "execution_count": 25,
      "metadata": {
        "colab": {
          "base_uri": "https://localhost:8080/",
          "height": 557
        },
        "id": "kMrm6CiAVJJ8",
        "outputId": "d1bde387-ba5d-4714-a8a9-3658c22fdd8b"
      },
      "outputs": [
        {
          "output_type": "display_data",
          "data": {
            "image/svg+xml": "<svg class=\"main-svg\" xmlns=\"http://www.w3.org/2000/svg\" xmlns:xlink=\"http://www.w3.org/1999/xlink\" width=\"700\" height=\"500\" style=\"\" viewBox=\"0 0 700 500\"><rect x=\"0\" y=\"0\" width=\"700\" height=\"500\" style=\"fill: rgb(255, 255, 255); fill-opacity: 1;\"/><defs id=\"defs-763a28\"><g class=\"clips\"><clipPath id=\"clip763a28xyplot\" class=\"plotclip\"><rect width=\"540\" height=\"320\"/></clipPath><clipPath class=\"axesclip\" id=\"clip763a28x\"><rect x=\"80\" y=\"0\" width=\"540\" height=\"500\"/></clipPath><clipPath class=\"axesclip\" id=\"clip763a28y\"><rect x=\"0\" y=\"100\" width=\"700\" height=\"320\"/></clipPath><clipPath class=\"axesclip\" id=\"clip763a28xy\"><rect x=\"80\" y=\"100\" width=\"540\" height=\"320\"/></clipPath></g><g class=\"gradients\"/><g class=\"patterns\"/></defs><g class=\"bglayer\"><rect class=\"bg\" x=\"80\" y=\"100\" width=\"540\" height=\"320\" style=\"fill: rgb(229, 236, 246); fill-opacity: 1; stroke-width: 0;\"/></g><g class=\"layer-below\"><g class=\"imagelayer\"/><g class=\"shapelayer\"/></g><g class=\"cartesianlayer\"><g class=\"subplot xy\"><g class=\"layer-subplot\"><g class=\"shapelayer\"/><g class=\"imagelayer\"/></g><g class=\"gridlayer\"><g class=\"x\"/><g class=\"y\"><path class=\"ygrid crisp\" transform=\"translate(0,377.71)\" d=\"M80,0h540\" style=\"stroke: rgb(255, 255, 255); stroke-opacity: 1; stroke-width: 1px;\"/><path class=\"ygrid crisp\" transform=\"translate(0,335.43)\" d=\"M80,0h540\" style=\"stroke: rgb(255, 255, 255); stroke-opacity: 1; stroke-width: 1px;\"/><path class=\"ygrid crisp\" transform=\"translate(0,293.14)\" d=\"M80,0h540\" style=\"stroke: rgb(255, 255, 255); stroke-opacity: 1; stroke-width: 1px;\"/><path class=\"ygrid crisp\" transform=\"translate(0,250.85)\" d=\"M80,0h540\" style=\"stroke: rgb(255, 255, 255); stroke-opacity: 1; stroke-width: 1px;\"/><path class=\"ygrid crisp\" transform=\"translate(0,208.57)\" d=\"M80,0h540\" style=\"stroke: rgb(255, 255, 255); stroke-opacity: 1; stroke-width: 1px;\"/><path class=\"ygrid crisp\" transform=\"translate(0,166.28)\" d=\"M80,0h540\" style=\"stroke: rgb(255, 255, 255); stroke-opacity: 1; stroke-width: 1px;\"/><path class=\"ygrid crisp\" transform=\"translate(0,123.99)\" d=\"M80,0h540\" style=\"stroke: rgb(255, 255, 255); stroke-opacity: 1; stroke-width: 1px;\"/></g></g><g class=\"zerolinelayer\"><path class=\"yzl zl crisp\" transform=\"translate(0,420)\" d=\"M80,0h540\" style=\"stroke: rgb(255, 255, 255); stroke-opacity: 1; stroke-width: 2px;\"/></g><path class=\"xlines-below\"/><path class=\"ylines-below\"/><g class=\"overlines-below\"/><g class=\"xaxislayer-below\"/><g class=\"yaxislayer-below\"/><g class=\"overaxes-below\"/><g class=\"plot\" transform=\"translate(80,100)\" clip-path=\"url(#clip763a28xyplot)\"><g class=\"barlayer mlayer\"><g class=\"trace bars\" style=\"opacity: 1;\"><g class=\"points\"><g class=\"point\"><path d=\"M5.4,320V182.14H48.6V320Z\" style=\"vector-effect: non-scaling-stroke; opacity: 1; stroke-width: 0.5px; fill: rgb(99, 110, 250); fill-opacity: 1; stroke: rgb(229, 236, 246); stroke-opacity: 1;\"/><text class=\"bartext bartext-inside\" text-anchor=\"middle\" data-notex=\"1\" x=\"0\" y=\"0\" style=\"font-family: 'Open Sans', verdana, arial, sans-serif; font-size: 12px; fill: rgb(255, 255, 255); fill-opacity: 1; white-space: pre;\" transform=\"translate(27,212.8275)rotate(90 0 -4)\">[1.0, 2.1)</text></g><g class=\"point\"><path d=\"M59.4,320V239.51H102.6V320Z\" style=\"vector-effect: non-scaling-stroke; opacity: 1; stroke-width: 0.5px; fill: rgb(99, 110, 250); fill-opacity: 1; stroke: rgb(229, 236, 246); stroke-opacity: 1;\"/><text class=\"bartext bartext-inside\" text-anchor=\"middle\" data-notex=\"1\" x=\"0\" y=\"0\" style=\"font-family: 'Open Sans', verdana, arial, sans-serif; font-size: 12px; fill: rgb(255, 255, 255); fill-opacity: 1; white-space: pre;\" transform=\"translate(81,270.1975)rotate(90 0 -4)\">[2.1, 3.2)</text></g><g class=\"point\"><path d=\"M113.4,320V238.32H156.6V320Z\" style=\"vector-effect: non-scaling-stroke; opacity: 1; stroke-width: 0.5px; fill: rgb(99, 110, 250); fill-opacity: 1; stroke: rgb(229, 236, 246); stroke-opacity: 1;\"/><text class=\"bartext bartext-inside\" text-anchor=\"middle\" data-notex=\"1\" x=\"0\" y=\"0\" style=\"font-family: 'Open Sans', verdana, arial, sans-serif; font-size: 12px; fill: rgb(255, 255, 255); fill-opacity: 1; white-space: pre;\" transform=\"translate(135,269.0075)rotate(90 0 -4)\">[3.2, 4.3)</text></g><g class=\"point\"><path d=\"M167.4,320V228.59H210.6V320Z\" style=\"vector-effect: non-scaling-stroke; opacity: 1; stroke-width: 0.5px; fill: rgb(99, 110, 250); fill-opacity: 1; stroke: rgb(229, 236, 246); stroke-opacity: 1;\"/><text class=\"bartext bartext-inside\" text-anchor=\"middle\" data-notex=\"1\" x=\"0\" y=\"0\" style=\"font-family: 'Open Sans', verdana, arial, sans-serif; font-size: 12px; fill: rgb(255, 255, 255); fill-opacity: 1; white-space: pre;\" transform=\"translate(189,259.27750000000003)rotate(90 0 -4)\">[4.3, 5.4)</text></g><g class=\"point\"><path d=\"M221.4,320V219.92H264.6V320Z\" style=\"vector-effect: non-scaling-stroke; opacity: 1; stroke-width: 0.5px; fill: rgb(99, 110, 250); fill-opacity: 1; stroke: rgb(229, 236, 246); stroke-opacity: 1;\"/><text class=\"bartext bartext-inside\" text-anchor=\"middle\" data-notex=\"1\" x=\"0\" y=\"0\" style=\"font-family: 'Open Sans', verdana, arial, sans-serif; font-size: 12px; fill: rgb(255, 255, 255); fill-opacity: 1; white-space: pre;\" transform=\"translate(243,250.6075)rotate(90 0 -4)\">[5.4, 6.5)</text></g><g class=\"point\"><path d=\"M275.4,320V206.8H318.6V320Z\" style=\"vector-effect: non-scaling-stroke; opacity: 1; stroke-width: 0.5px; fill: rgb(99, 110, 250); fill-opacity: 1; stroke: rgb(229, 236, 246); stroke-opacity: 1;\"/><text class=\"bartext bartext-inside\" text-anchor=\"middle\" data-notex=\"1\" x=\"0\" y=\"0\" style=\"font-family: 'Open Sans', verdana, arial, sans-serif; font-size: 12px; fill: rgb(255, 255, 255); fill-opacity: 1; white-space: pre;\" transform=\"translate(297,237.4875)rotate(90 0 -4)\">[6.5, 7.6)</text></g><g class=\"point\"><path d=\"M329.4,320V207.09H372.6V320Z\" style=\"vector-effect: non-scaling-stroke; opacity: 1; stroke-width: 0.5px; fill: rgb(99, 110, 250); fill-opacity: 1; stroke: rgb(229, 236, 246); stroke-opacity: 1;\"/><text class=\"bartext bartext-inside\" text-anchor=\"middle\" data-notex=\"1\" x=\"0\" y=\"0\" style=\"font-family: 'Open Sans', verdana, arial, sans-serif; font-size: 12px; fill: rgb(255, 255, 255); fill-opacity: 1; white-space: pre;\" transform=\"translate(351,237.7775)rotate(90 0 -4)\">[7.6, 8.7)</text></g><g class=\"point\"><path d=\"M383.4,320V208.22H426.6V320Z\" style=\"vector-effect: non-scaling-stroke; opacity: 1; stroke-width: 0.5px; fill: rgb(99, 110, 250); fill-opacity: 1; stroke: rgb(229, 236, 246); stroke-opacity: 1;\"/><text class=\"bartext bartext-inside\" text-anchor=\"middle\" data-notex=\"1\" x=\"0\" y=\"0\" style=\"font-family: 'Open Sans', verdana, arial, sans-serif; font-size: 12px; fill: rgb(255, 255, 255); fill-opacity: 1; white-space: pre;\" transform=\"translate(405,238.9075)rotate(90 0 -4)\">[8.7, 9.8)</text></g><g class=\"point\"><path d=\"M437.4,320V191.73H480.6V320Z\" style=\"vector-effect: non-scaling-stroke; opacity: 1; stroke-width: 0.5px; fill: rgb(99, 110, 250); fill-opacity: 1; stroke: rgb(229, 236, 246); stroke-opacity: 1;\"/><text class=\"bartext bartext-inside\" text-anchor=\"middle\" data-notex=\"1\" x=\"0\" y=\"0\" style=\"font-family: 'Open Sans', verdana, arial, sans-serif; font-size: 12px; fill: rgb(255, 255, 255); fill-opacity: 1; white-space: pre;\" transform=\"translate(459,225.76125)rotate(90 0 -4)\">[9.8, 10.9)</text></g><g class=\"point\"><path d=\"M491.4,320V16H534.6V320Z\" style=\"vector-effect: non-scaling-stroke; opacity: 1; stroke-width: 0.5px; fill: rgb(99, 110, 250); fill-opacity: 1; stroke: rgb(229, 236, 246); stroke-opacity: 1;\"/><text class=\"bartext bartext-inside\" text-anchor=\"middle\" data-notex=\"1\" x=\"0\" y=\"0\" style=\"font-family: 'Open Sans', verdana, arial, sans-serif; font-size: 12px; fill: rgb(255, 255, 255); fill-opacity: 1; white-space: pre;\" transform=\"translate(513,53.03125)rotate(90 0 -4)\">[10.9, 12.0]</text></g></g></g></g></g><g class=\"overplot\"/><path class=\"xlines-above crisp\" d=\"M0,0\" style=\"fill: none;\"/><path class=\"ylines-above crisp\" d=\"M0,0\" style=\"fill: none;\"/><g class=\"overlines-above\"/><g class=\"xaxislayer-above\"><g class=\"xtick\"><text text-anchor=\"middle\" x=\"0\" y=\"433\" transform=\"translate(129.09,0)\" style=\"font-family: 'Open Sans', verdana, arial, sans-serif; font-size: 12px; fill: rgb(42, 63, 95); fill-opacity: 1; white-space: pre; opacity: 1;\">2</text></g><g class=\"xtick\"><text text-anchor=\"middle\" x=\"0\" y=\"433\" style=\"font-family: 'Open Sans', verdana, arial, sans-serif; font-size: 12px; fill: rgb(42, 63, 95); fill-opacity: 1; white-space: pre; opacity: 1;\" transform=\"translate(227.27,0)\">4</text></g><g class=\"xtick\"><text text-anchor=\"middle\" x=\"0\" y=\"433\" style=\"font-family: 'Open Sans', verdana, arial, sans-serif; font-size: 12px; fill: rgb(42, 63, 95); fill-opacity: 1; white-space: pre; opacity: 1;\" transform=\"translate(325.45,0)\">6</text></g><g class=\"xtick\"><text text-anchor=\"middle\" x=\"0\" y=\"433\" style=\"font-family: 'Open Sans', verdana, arial, sans-serif; font-size: 12px; fill: rgb(42, 63, 95); fill-opacity: 1; white-space: pre; opacity: 1;\" transform=\"translate(423.64,0)\">8</text></g><g class=\"xtick\"><text text-anchor=\"middle\" x=\"0\" y=\"433\" style=\"font-family: 'Open Sans', verdana, arial, sans-serif; font-size: 12px; fill: rgb(42, 63, 95); fill-opacity: 1; white-space: pre; opacity: 1;\" transform=\"translate(521.8199999999999,0)\">10</text></g><g class=\"xtick\"><text text-anchor=\"middle\" x=\"0\" y=\"433\" style=\"font-family: 'Open Sans', verdana, arial, sans-serif; font-size: 12px; fill: rgb(42, 63, 95); fill-opacity: 1; white-space: pre; opacity: 1;\" transform=\"translate(620,0)\">12</text></g></g><g class=\"yaxislayer-above\"><g class=\"ytick\"><text text-anchor=\"end\" x=\"79\" y=\"4.199999999999999\" transform=\"translate(0,420)\" style=\"font-family: 'Open Sans', verdana, arial, sans-serif; font-size: 12px; fill: rgb(42, 63, 95); fill-opacity: 1; white-space: pre; opacity: 1;\">0</text></g><g class=\"ytick\"><text text-anchor=\"end\" x=\"79\" y=\"4.199999999999999\" style=\"font-family: 'Open Sans', verdana, arial, sans-serif; font-size: 12px; fill: rgb(42, 63, 95); fill-opacity: 1; white-space: pre; opacity: 1;\" transform=\"translate(0,377.71)\">0.5M</text></g><g class=\"ytick\"><text text-anchor=\"end\" x=\"79\" y=\"4.199999999999999\" style=\"font-family: 'Open Sans', verdana, arial, sans-serif; font-size: 12px; fill: rgb(42, 63, 95); fill-opacity: 1; white-space: pre; opacity: 1;\" transform=\"translate(0,335.43)\">1M</text></g><g class=\"ytick\"><text text-anchor=\"end\" x=\"79\" y=\"4.199999999999999\" style=\"font-family: 'Open Sans', verdana, arial, sans-serif; font-size: 12px; fill: rgb(42, 63, 95); fill-opacity: 1; white-space: pre; opacity: 1;\" transform=\"translate(0,293.14)\">1.5M</text></g><g class=\"ytick\"><text text-anchor=\"end\" x=\"79\" y=\"4.199999999999999\" style=\"font-family: 'Open Sans', verdana, arial, sans-serif; font-size: 12px; fill: rgb(42, 63, 95); fill-opacity: 1; white-space: pre; opacity: 1;\" transform=\"translate(0,250.85)\">2M</text></g><g class=\"ytick\"><text text-anchor=\"end\" x=\"79\" y=\"4.199999999999999\" style=\"font-family: 'Open Sans', verdana, arial, sans-serif; font-size: 12px; fill: rgb(42, 63, 95); fill-opacity: 1; white-space: pre; opacity: 1;\" transform=\"translate(0,208.57)\">2.5M</text></g><g class=\"ytick\"><text text-anchor=\"end\" x=\"79\" y=\"4.199999999999999\" style=\"font-family: 'Open Sans', verdana, arial, sans-serif; font-size: 12px; fill: rgb(42, 63, 95); fill-opacity: 1; white-space: pre; opacity: 1;\" transform=\"translate(0,166.28)\">3M</text></g><g class=\"ytick\"><text text-anchor=\"end\" x=\"79\" y=\"4.199999999999999\" style=\"font-family: 'Open Sans', verdana, arial, sans-serif; font-size: 12px; fill: rgb(42, 63, 95); fill-opacity: 1; white-space: pre; opacity: 1;\" transform=\"translate(0,123.99)\">3.5M</text></g></g><g class=\"overaxes-above\"/></g></g><g class=\"polarlayer\"/><g class=\"smithlayer\"/><g class=\"ternarylayer\"/><g class=\"geolayer\"/><g class=\"funnelarealayer\"/><g class=\"pielayer\"/><g class=\"iciclelayer\"/><g class=\"treemaplayer\"/><g class=\"sunburstlayer\"/><g class=\"glimages\"/><defs id=\"topdefs-763a28\"><g class=\"clips\"/></defs><g class=\"layer-above\"><g class=\"imagelayer\"/><g class=\"shapelayer\"/></g><g class=\"infolayer\"><g class=\"g-gtitle\"/><g class=\"g-xtitle\"><text class=\"xtitle\" x=\"350\" y=\"460.8\" text-anchor=\"middle\" style=\"font-family: 'Open Sans', verdana, arial, sans-serif; font-size: 14px; fill: rgb(42, 63, 95); opacity: 1; font-weight: normal; white-space: pre;\">value</text></g><g class=\"g-ytitle\"><text class=\"ytitle\" transform=\"rotate(-90,27.512500000000003,260)\" x=\"27.512500000000003\" y=\"260\" text-anchor=\"middle\" style=\"font-family: 'Open Sans', verdana, arial, sans-serif; font-size: 14px; fill: rgb(42, 63, 95); opacity: 1; font-weight: normal; white-space: pre;\">count</text></g></g></svg>"
          },
          "metadata": {}
        },
        {
          "output_type": "stream",
          "name": "stdout",
          "text": [
            "CPU times: user 502 ms, sys: 186 ms, total: 688 ms\n",
            "Wall time: 58.4 s\n"
          ]
        }
      ],
      "source": [
        "%%time\n",
        "fig = kdf['Month'].plot.hist()\n",
        "fig.show(\"svg\", engine=\"kaleido\")"
      ]
    },
    {
      "cell_type": "markdown",
      "metadata": {
        "id": "Ih_eg_GMC4lv"
      },
      "source": [
        "\n",
        "\n",
        "---\n"
      ]
    },
    {
      "cell_type": "markdown",
      "metadata": {
        "id": "Dn_AW-5uVJJ7"
      },
      "source": [
        "**Highest Elo rating** - The Elo rating system is a method for determining the relative skill levels of players in zero-sum games like chess. Having Elo higher than 2000 is consider an advanced player."
      ]
    },
    {
      "cell_type": "markdown",
      "metadata": {
        "id": "eXj_pwSBvOfs"
      },
      "source": [
        "**Pandas**\n"
      ]
    },
    {
      "cell_type": "code",
      "execution_count": null,
      "metadata": {
        "colab": {
          "base_uri": "https://localhost:8080/"
        },
        "id": "Lfg7WYbL4boE",
        "outputId": "d1d1d9f1-7b30-44f6-9cc5-a6628122b195"
      },
      "outputs": [
        {
          "name": "stdout",
          "output_type": "stream",
          "text": [
            "CPU times: user 110 ms, sys: 0 ns, total: 110 ms\n",
            "Wall time: 115 ms\n"
          ]
        },
        {
          "data": {
            "text/plain": [
              "WhiteElo    2970\n",
              "BlackElo    2970\n",
              "dtype: int64"
            ]
          },
          "execution_count": 13,
          "metadata": {},
          "output_type": "execute_result"
        }
      ],
      "source": [
        "%%time\n",
        "pdf[['WhiteElo','BlackElo']].max()"
      ]
    },
    {
      "cell_type": "markdown",
      "metadata": {
        "id": "u6Ug_-7FvT4I"
      },
      "source": [
        "**Vaex**"
      ]
    },
    {
      "cell_type": "code",
      "execution_count": null,
      "metadata": {
        "colab": {
          "base_uri": "https://localhost:8080/"
        },
        "id": "nulYoszT4cIH",
        "outputId": "18fd43ad-ed50-4af7-8f7a-3ed2e7946885"
      },
      "outputs": [
        {
          "name": "stdout",
          "output_type": "stream",
          "text": [
            "WhiteElo 2970\n",
            "BlackELo 2970\n",
            "CPU times: user 18.2 s, sys: 4.8 s, total: 23 s\n",
            "Wall time: 22.4 s\n"
          ]
        }
      ],
      "source": [
        "%%time\n",
        "print(\"WhiteElo\",vdf['WhiteElo'].max())\n",
        "print(\"BlackElo\",vdf['BlackElo'].max())"
      ]
    },
    {
      "cell_type": "markdown",
      "metadata": {
        "id": "Ay8K1ItKvzVS"
      },
      "source": [
        "**Koalas**"
      ]
    },
    {
      "cell_type": "code",
      "execution_count": null,
      "metadata": {
        "colab": {
          "base_uri": "https://localhost:8080/"
        },
        "id": "bn66soce4xyD",
        "outputId": "3dcd7d6f-0356-4fe2-d279-215455392362"
      },
      "outputs": [
        {
          "name": "stdout",
          "output_type": "stream",
          "text": [
            "CPU times: user 263 ms, sys: 33.3 ms, total: 297 ms\n",
            "Wall time: 29.8 s\n"
          ]
        },
        {
          "data": {
            "text/plain": [
              "WhiteElo    2970\n",
              "BlackElo    2970\n",
              "dtype: int32"
            ]
          },
          "execution_count": 8,
          "metadata": {},
          "output_type": "execute_result"
        }
      ],
      "source": [
        "%%time\n",
        "kdf[['WhiteElo','BlackElo']].max()"
      ]
    },
    {
      "cell_type": "markdown",
      "metadata": {
        "id": "6orgs16uDKIv"
      },
      "source": [
        "\n",
        "\n",
        "---\n"
      ]
    },
    {
      "cell_type": "markdown",
      "metadata": {
        "id": "tLNLw0EOVJJ8"
      },
      "source": [
        "**Lowest ELO rating** - The Elo rating system is a method for determining the relative skill levels of players in zero-sum games like chess. Elo lower than 1000 is considered a beginner."
      ]
    },
    {
      "cell_type": "markdown",
      "metadata": {
        "id": "zz3ISExbvO2-"
      },
      "source": [
        "**Pandas**\n"
      ]
    },
    {
      "cell_type": "code",
      "execution_count": null,
      "metadata": {
        "colab": {
          "base_uri": "https://localhost:8080/"
        },
        "id": "61sgf555VJJ8",
        "outputId": "19a8a243-8b65-4208-9a74-496582f331ba"
      },
      "outputs": [
        {
          "name": "stdout",
          "output_type": "stream",
          "text": [
            "CPU times: user 149 ms, sys: 44.8 ms, total: 194 ms\n",
            "Wall time: 292 ms\n"
          ]
        },
        {
          "data": {
            "text/plain": [
              "WhiteElo    511\n",
              "BlackElo    704\n",
              "dtype: int64"
            ]
          },
          "execution_count": 9,
          "metadata": {},
          "output_type": "execute_result"
        }
      ],
      "source": [
        "%%time\n",
        "pdf[['WhiteElo','BlackElo']].min()"
      ]
    },
    {
      "cell_type": "markdown",
      "metadata": {
        "id": "y5EinQ43vUQO"
      },
      "source": [
        "**Vaex**"
      ]
    },
    {
      "cell_type": "code",
      "execution_count": null,
      "metadata": {
        "colab": {
          "base_uri": "https://localhost:8080/"
        },
        "id": "EPAIPWsJ4o3B",
        "outputId": "d43522ca-874a-43c2-9565-154cb1c11c81"
      },
      "outputs": [
        {
          "name": "stdout",
          "output_type": "stream",
          "text": [
            "WhiteElo 511\n",
            "BlackElo 704\n",
            "CPU times: user 18.8 s, sys: 917 ms, total: 19.7 s\n",
            "Wall time: 11.4 s\n"
          ]
        }
      ],
      "source": [
        "%%time\n",
        "print(\"WhiteElo\",vdf['WhiteElo'].min())\n",
        "print(\"BlackElo\",vdf['BlackElo'].min())"
      ]
    },
    {
      "cell_type": "markdown",
      "metadata": {
        "id": "AwL1TWgtvz2B"
      },
      "source": [
        "**Koalas**"
      ]
    },
    {
      "cell_type": "code",
      "execution_count": null,
      "metadata": {
        "colab": {
          "base_uri": "https://localhost:8080/"
        },
        "id": "fOQ9cTWiVJJ8",
        "outputId": "90e4f148-f982-4c50-b84a-4639c38b189b"
      },
      "outputs": [
        {
          "name": "stdout",
          "output_type": "stream",
          "text": [
            "CPU times: user 385 ms, sys: 40.8 ms, total: 426 ms\n",
            "Wall time: 27.2 s\n"
          ]
        },
        {
          "data": {
            "text/plain": [
              "WhiteElo    511\n",
              "BlackElo    704\n",
              "dtype: int32"
            ]
          },
          "execution_count": 11,
          "metadata": {},
          "output_type": "execute_result"
        }
      ],
      "source": [
        "%%time\n",
        "kdf[['WhiteElo','BlackElo']].min()"
      ]
    },
    {
      "cell_type": "markdown",
      "metadata": {
        "id": "DycUA00HDLB5"
      },
      "source": [
        "\n",
        "\n",
        "---\n"
      ]
    },
    {
      "cell_type": "markdown",
      "metadata": {
        "id": "nt_CVhi-VJJ8"
      },
      "source": [
        "**Correlation** - Using correlation, we can analyse the data to determine if there is a relationship between its variables."
      ]
    },
    {
      "cell_type": "markdown",
      "metadata": {
        "id": "3fZINj-qvPdc"
      },
      "source": [
        "**Pandas**\n"
      ]
    },
    {
      "cell_type": "code",
      "execution_count": null,
      "metadata": {
        "colab": {
          "base_uri": "https://localhost:8080/",
          "height": 351
        },
        "id": "JCembFhBgEzz",
        "outputId": "8327df7d-913c-484c-e988-017669d32217"
      },
      "outputs": [
        {
          "data": {
            "image/png": "[encoded data removed]",
            "text/plain": [
              "<Figure size 432x288 with 2 Axes>"
            ]
          },
          "metadata": {},
          "output_type": "display_data"
        }
      ],
      "source": [
        "%%time\n",
        "sns.heatmap(pdf.corr(), annot = True)\n",
        "sns.set(rc={'figure.figsize':(15, 15)})"
      ]
    },
    {
      "cell_type": "markdown",
      "metadata": {
        "id": "j4QgGE_nvUun"
      },
      "source": [
        "**Vaex**"
      ]
    },
    {
      "cell_type": "code",
      "execution_count": null,
      "metadata": {
        "colab": {
          "base_uri": "https://localhost:8080/"
        },
        "id": "YCl1ortyH-Kg",
        "outputId": "2cf39501-2962-46b1-d730-0bce7d11ac25"
      },
      "outputs": [
        {
          "name": "stdout",
          "output_type": "stream",
          "text": [
            "CPU times: user 17.2 s, sys: 840 ms, total: 18 s\n",
            "Wall time: 9.5 s\n"
          ]
        },
        {
          "data": {
            "text/plain": [
              "array([[ 1.        ,  0.63076933,  0.01677337,  0.0237081 , -0.15292352,\n",
              "        -0.12694023,  0.14001812]])"
            ]
          },
          "execution_count": 30,
          "metadata": {},
          "output_type": "execute_result"
        }
      ],
      "source": [
        "%%time\n",
        "vdf.correlation(x=['WhiteElo'], y=['WhiteElo','BlackElo', 'Month', 'Year', 'InitialTime', 'Increment', 'Number_of_Moves'])"
      ]
    },
    {
      "cell_type": "markdown",
      "metadata": {
        "id": "m-CppDOXv0T1"
      },
      "source": [
        "**Koalas**"
      ]
    },
    {
      "cell_type": "code",
      "execution_count": null,
      "metadata": {
        "colab": {
          "base_uri": "https://localhost:8080/",
          "height": 305
        },
        "id": "RBYoxztOVJJ8",
        "outputId": "67df8df1-431b-48fb-d8d4-e1acd6d5a813"
      },
      "outputs": [
        {
          "name": "stdout",
          "output_type": "stream",
          "text": [
            "CPU times: user 828 ms, sys: 78.7 ms, total: 907 ms\n",
            "Wall time: 2min 5s\n"
          ]
        },
        {
          "data": {
            "text/html": [
              "<div>\n",
              "<style scoped>\n",
              "    .dataframe tbody tr th:only-of-type {\n",
              "        vertical-align: middle;\n",
              "    }\n",
              "\n",
              "    .dataframe tbody tr th {\n",
              "        vertical-align: top;\n",
              "    }\n",
              "\n",
              "    .dataframe thead th {\n",
              "        text-align: right;\n",
              "    }\n",
              "</style>\n",
              "<table border=\"1\" class=\"dataframe\">\n",
              "  <thead>\n",
              "    <tr style=\"text-align: right;\">\n",
              "      <th></th>\n",
              "      <th>WhiteElo</th>\n",
              "      <th>BlackElo</th>\n",
              "      <th>Month</th>\n",
              "      <th>Year</th>\n",
              "      <th>InitialTime</th>\n",
              "      <th>Increment</th>\n",
              "      <th>Number_of_Moves</th>\n",
              "    </tr>\n",
              "  </thead>\n",
              "  <tbody>\n",
              "    <tr>\n",
              "      <th>WhiteElo</th>\n",
              "      <td>1.000000</td>\n",
              "      <td>0.630769</td>\n",
              "      <td>0.016773</td>\n",
              "      <td>0.023708</td>\n",
              "      <td>-0.152924</td>\n",
              "      <td>-0.126940</td>\n",
              "      <td>0.140018</td>\n",
              "    </tr>\n",
              "    <tr>\n",
              "      <th>BlackElo</th>\n",
              "      <td>0.630769</td>\n",
              "      <td>1.000000</td>\n",
              "      <td>0.020254</td>\n",
              "      <td>0.028343</td>\n",
              "      <td>-0.152487</td>\n",
              "      <td>-0.124079</td>\n",
              "      <td>0.157436</td>\n",
              "    </tr>\n",
              "    <tr>\n",
              "      <th>Month</th>\n",
              "      <td>0.016773</td>\n",
              "      <td>0.020254</td>\n",
              "      <td>1.000000</td>\n",
              "      <td>-0.126758</td>\n",
              "      <td>-0.007037</td>\n",
              "      <td>-0.026483</td>\n",
              "      <td>-0.003796</td>\n",
              "    </tr>\n",
              "    <tr>\n",
              "      <th>Year</th>\n",
              "      <td>0.023708</td>\n",
              "      <td>0.028343</td>\n",
              "      <td>-0.126758</td>\n",
              "      <td>1.000000</td>\n",
              "      <td>-0.009142</td>\n",
              "      <td>-0.032140</td>\n",
              "      <td>0.002334</td>\n",
              "    </tr>\n",
              "    <tr>\n",
              "      <th>InitialTime</th>\n",
              "      <td>-0.152924</td>\n",
              "      <td>-0.152487</td>\n",
              "      <td>-0.007037</td>\n",
              "      <td>-0.009142</td>\n",
              "      <td>1.000000</td>\n",
              "      <td>0.450276</td>\n",
              "      <td>-0.016472</td>\n",
              "    </tr>\n",
              "    <tr>\n",
              "      <th>Increment</th>\n",
              "      <td>-0.126940</td>\n",
              "      <td>-0.124079</td>\n",
              "      <td>-0.026483</td>\n",
              "      <td>-0.032140</td>\n",
              "      <td>0.450276</td>\n",
              "      <td>1.000000</td>\n",
              "      <td>-0.036216</td>\n",
              "    </tr>\n",
              "    <tr>\n",
              "      <th>Number_of_Moves</th>\n",
              "      <td>0.140018</td>\n",
              "      <td>0.157436</td>\n",
              "      <td>-0.003796</td>\n",
              "      <td>0.002334</td>\n",
              "      <td>-0.016472</td>\n",
              "      <td>-0.036216</td>\n",
              "      <td>1.000000</td>\n",
              "    </tr>\n",
              "  </tbody>\n",
              "</table>\n",
              "</div>"
            ],
            "text/plain": [
              "                 WhiteElo  BlackElo     Month      Year  InitialTime  Increment  Number_of_Moves\n",
              "WhiteElo         1.000000  0.630769  0.016773  0.023708    -0.152924  -0.126940         0.140018\n",
              "BlackElo         0.630769  1.000000  0.020254  0.028343    -0.152487  -0.124079         0.157436\n",
              "Month            0.016773  0.020254  1.000000 -0.126758    -0.007037  -0.026483        -0.003796\n",
              "Year             0.023708  0.028343 -0.126758  1.000000    -0.009142  -0.032140         0.002334\n",
              "InitialTime     -0.152924 -0.152487 -0.007037 -0.009142     1.000000   0.450276        -0.016472\n",
              "Increment       -0.126940 -0.124079 -0.026483 -0.032140     0.450276   1.000000        -0.036216\n",
              "Number_of_Moves  0.140018  0.157436 -0.003796  0.002334    -0.016472  -0.036216         1.000000"
            ]
          },
          "execution_count": 17,
          "metadata": {},
          "output_type": "execute_result"
        }
      ],
      "source": [
        "%%time\n",
        "kdf.corr()"
      ]
    },
    {
      "cell_type": "markdown",
      "metadata": {
        "id": "E0U3IWm8VJJ9"
      },
      "source": [
        "## Asking and Answering Questions\n",
        "\n"
      ]
    },
    {
      "cell_type": "markdown",
      "metadata": {
        "id": "7Lor5rHMVJJ9"
      },
      "source": [
        "#### Q1: Which chess color have more wins?\n",
        "\n",
        "Answer: White color has more wins.\n",
        "\n",
        ">The library function description:\n",
        "* Pandas: Groupby data aggregation\n",
        "* Vaex: Groupby data aggregation\n",
        "* Koalas: Groupby data aggregation\n",
        "* Plotly: Histogram\n",
        "* Matplotlib: Bar Graph"
      ]
    },
    {
      "cell_type": "markdown",
      "metadata": {
        "id": "mLPp_Bnx2dGM"
      },
      "source": [
        "**Pandas**\n"
      ]
    },
    {
      "cell_type": "code",
      "execution_count": null,
      "metadata": {
        "colab": {
          "base_uri": "https://localhost:8080/",
          "height": 309
        },
        "id": "D-PdOKqCVJJ9",
        "outputId": "a4385560-5f81-44fc-aeef-a6a97f86d9bb"
      },
      "outputs": [
        {
          "name": "stdout",
          "output_type": "stream",
          "text": [
            "CPU times: user 3 µs, sys: 1 µs, total: 4 µs\n",
            "Wall time: 10.7 µs\n"
          ]
        },
        {
          "data": {
            "text/plain": [
              "<matplotlib.axes._subplots.AxesSubplot at 0x7f0aa8021130>"
            ]
          },
          "execution_count": 17,
          "metadata": {},
          "output_type": "execute_result"
        },
        {
          "data": {
            "image/png": "[encoded data removed]",
            "text/plain": [
              "<Figure size 720x216 with 1 Axes>"
            ]
          },
          "metadata": {},
          "output_type": "display_data"
        }
      ],
      "source": [
        "%time\n",
        "winpdf = pdf['Winner'].groupby(pdf['Winner']).count()\n",
        "\n",
        "fig, ax = plt.subplots(figsize=(10,3))\n",
        "winpdf.plot.bar(xlabel='Type of Winner', ylabel='Number of Winning')"
      ]
    },
    {
      "cell_type": "markdown",
      "metadata": {
        "id": "N3jPyM0s2hKp"
      },
      "source": [
        "**Vaex**"
      ]
    },
    {
      "cell_type": "code",
      "execution_count": null,
      "metadata": {
        "colab": {
          "base_uri": "https://localhost:8080/",
          "height": 349
        },
        "id": "pR1HdQ4JVJJ9",
        "outputId": "1c4add0b-9374-451d-cdb6-0f5db7fbcf40"
      },
      "outputs": [
        {
          "name": "stdout",
          "output_type": "stream",
          "text": [
            "CPU times: user 5 µs, sys: 1e+03 ns, total: 6 µs\n",
            "Wall time: 12.4 µs\n"
          ]
        },
        {
          "data": {
            "image/png": "[encoded data removed]",
            "text/plain": [
              "<Figure size 432x288 with 1 Axes>"
            ]
          },
          "metadata": {},
          "output_type": "display_data"
        }
      ],
      "source": [
        "%time \n",
        "v = vdf.groupby('Winner').agg({'WhiteElo':'count'})\n",
        "v = v.to_pandas_df()\n",
        "v.plot.bar(x='Winner', y='WhiteElo', color='blue')\n",
        "plt.title(\"Winner\")\n",
        "plt.ylabel('Number of Winning')\n",
        "plt.xlabel('Type of Winner')\n",
        "plt.show()"
      ]
    },
    {
      "cell_type": "markdown",
      "metadata": {
        "id": "_7jIW5Sq2kd-"
      },
      "source": [
        "**Koalas**"
      ]
    },
    {
      "cell_type": "code",
      "execution_count": 26,
      "metadata": {
        "colab": {
          "base_uri": "https://localhost:8080/",
          "height": 557
        },
        "id": "LKIZxnawVJJ9",
        "outputId": "ac9ab969-0d54-4bb6-d0a9-bcc12c76f449"
      },
      "outputs": [
        {
          "output_type": "stream",
          "name": "stdout",
          "text": [
            "CPU times: user 6 µs, sys: 0 ns, total: 6 µs\n",
            "Wall time: 9.78 µs\n"
          ]
        },
        {
          "output_type": "display_data",
          "data": {
            "image/svg+xml": "<svg class=\"main-svg\" xmlns=\"http://www.w3.org/2000/svg\" xmlns:xlink=\"http://www.w3.org/1999/xlink\" width=\"700\" height=\"500\" style=\"\" viewBox=\"0 0 700 500\"><rect x=\"0\" y=\"0\" width=\"700\" height=\"500\" style=\"fill: rgb(255, 255, 255); fill-opacity: 1;\"/><defs id=\"defs-f25b1b\"><g class=\"clips\"><clipPath id=\"clipf25b1bxyplot\" class=\"plotclip\"><rect width=\"540\" height=\"360\"/></clipPath><clipPath class=\"axesclip\" id=\"clipf25b1bx\"><rect x=\"80\" y=\"0\" width=\"540\" height=\"500\"/></clipPath><clipPath class=\"axesclip\" id=\"clipf25b1by\"><rect x=\"0\" y=\"60\" width=\"700\" height=\"360\"/></clipPath><clipPath class=\"axesclip\" id=\"clipf25b1bxy\"><rect x=\"80\" y=\"60\" width=\"540\" height=\"360\"/></clipPath></g><g class=\"gradients\"/><g class=\"patterns\"/></defs><g class=\"bglayer\"><rect class=\"bg\" x=\"80\" y=\"60\" width=\"540\" height=\"360\" style=\"fill: rgb(229, 236, 246); fill-opacity: 1; stroke-width: 0;\"/></g><g class=\"layer-below\"><g class=\"imagelayer\"/><g class=\"shapelayer\"/></g><g class=\"cartesianlayer\"><g class=\"subplot xy\"><g class=\"layer-subplot\"><g class=\"shapelayer\"/><g class=\"imagelayer\"/></g><g class=\"gridlayer\"><g class=\"x\"/><g class=\"y\"><path class=\"ygrid crisp\" transform=\"translate(0,374.62)\" d=\"M80,0h540\" style=\"stroke: rgb(255, 255, 255); stroke-opacity: 1; stroke-width: 1px;\"/><path class=\"ygrid crisp\" transform=\"translate(0,329.25)\" d=\"M80,0h540\" style=\"stroke: rgb(255, 255, 255); stroke-opacity: 1; stroke-width: 1px;\"/><path class=\"ygrid crisp\" transform=\"translate(0,283.87)\" d=\"M80,0h540\" style=\"stroke: rgb(255, 255, 255); stroke-opacity: 1; stroke-width: 1px;\"/><path class=\"ygrid crisp\" transform=\"translate(0,238.5)\" d=\"M80,0h540\" style=\"stroke: rgb(255, 255, 255); stroke-opacity: 1; stroke-width: 1px;\"/><path class=\"ygrid crisp\" transform=\"translate(0,193.12)\" d=\"M80,0h540\" style=\"stroke: rgb(255, 255, 255); stroke-opacity: 1; stroke-width: 1px;\"/><path class=\"ygrid crisp\" transform=\"translate(0,147.75)\" d=\"M80,0h540\" style=\"stroke: rgb(255, 255, 255); stroke-opacity: 1; stroke-width: 1px;\"/><path class=\"ygrid crisp\" transform=\"translate(0,102.37)\" d=\"M80,0h540\" style=\"stroke: rgb(255, 255, 255); stroke-opacity: 1; stroke-width: 1px;\"/></g></g><g class=\"zerolinelayer\"><path class=\"yzl zl crisp\" transform=\"translate(0,420)\" d=\"M80,0h540\" style=\"stroke: rgb(255, 255, 255); stroke-opacity: 1; stroke-width: 2px;\"/></g><path class=\"xlines-below\"/><path class=\"ylines-below\"/><g class=\"overlines-below\"/><g class=\"xaxislayer-below\"/><g class=\"yaxislayer-below\"/><g class=\"overaxes-below\"/><g class=\"plot\" transform=\"translate(80,60)\" clip-path=\"url(#clipf25b1bxyplot)\"><g class=\"barlayer mlayer\"><g class=\"trace bars\" style=\"opacity: 1;\"><g class=\"points\"><g class=\"point\"><path d=\"M18,360V336.5H162V360Z\" style=\"vector-effect: non-scaling-stroke; opacity: 1; stroke-width: 0.5px; fill: rgb(99, 110, 250); fill-opacity: 1; stroke: rgb(229, 236, 246); stroke-opacity: 1;\"/></g><g class=\"point\"><path d=\"M198,360V18H342V360Z\" style=\"vector-effect: non-scaling-stroke; opacity: 1; stroke-width: 0.5px; fill: rgb(99, 110, 250); fill-opacity: 1; stroke: rgb(229, 236, 246); stroke-opacity: 1;\"/></g><g class=\"point\"><path d=\"M378,360V48.58H522V360Z\" style=\"vector-effect: non-scaling-stroke; opacity: 1; stroke-width: 0.5px; fill: rgb(99, 110, 250); fill-opacity: 1; stroke: rgb(229, 236, 246); stroke-opacity: 1;\"/></g></g></g></g></g><g class=\"overplot\"/><path class=\"xlines-above crisp\" d=\"M0,0\" style=\"fill: none;\"/><path class=\"ylines-above crisp\" d=\"M0,0\" style=\"fill: none;\"/><g class=\"overlines-above\"/><g class=\"xaxislayer-above\"><g class=\"xtick\"><text text-anchor=\"middle\" x=\"0\" y=\"433\" transform=\"translate(170,0)\" style=\"font-family: 'Open Sans', verdana, arial, sans-serif; font-size: 12px; fill: rgb(42, 63, 95); fill-opacity: 1; white-space: pre; opacity: 1;\">Draw</text></g><g class=\"xtick\"><text text-anchor=\"middle\" x=\"0\" y=\"433\" transform=\"translate(350,0)\" style=\"font-family: 'Open Sans', verdana, arial, sans-serif; font-size: 12px; fill: rgb(42, 63, 95); fill-opacity: 1; white-space: pre; opacity: 1;\">White</text></g><g class=\"xtick\"><text text-anchor=\"middle\" x=\"0\" y=\"433\" transform=\"translate(530,0)\" style=\"font-family: 'Open Sans', verdana, arial, sans-serif; font-size: 12px; fill: rgb(42, 63, 95); fill-opacity: 1; white-space: pre; opacity: 1;\">Black</text></g></g><g class=\"yaxislayer-above\"><g class=\"ytick\"><text text-anchor=\"end\" x=\"79\" y=\"4.199999999999999\" transform=\"translate(0,420)\" style=\"font-family: 'Open Sans', verdana, arial, sans-serif; font-size: 12px; fill: rgb(42, 63, 95); fill-opacity: 1; white-space: pre; opacity: 1;\">0</text></g><g class=\"ytick\"><text text-anchor=\"end\" x=\"79\" y=\"4.199999999999999\" style=\"font-family: 'Open Sans', verdana, arial, sans-serif; font-size: 12px; fill: rgb(42, 63, 95); fill-opacity: 1; white-space: pre; opacity: 1;\" transform=\"translate(0,374.62)\">1M</text></g><g class=\"ytick\"><text text-anchor=\"end\" x=\"79\" y=\"4.199999999999999\" style=\"font-family: 'Open Sans', verdana, arial, sans-serif; font-size: 12px; fill: rgb(42, 63, 95); fill-opacity: 1; white-space: pre; opacity: 1;\" transform=\"translate(0,329.25)\">2M</text></g><g class=\"ytick\"><text text-anchor=\"end\" x=\"79\" y=\"4.199999999999999\" style=\"font-family: 'Open Sans', verdana, arial, sans-serif; font-size: 12px; fill: rgb(42, 63, 95); fill-opacity: 1; white-space: pre; opacity: 1;\" transform=\"translate(0,283.87)\">3M</text></g><g class=\"ytick\"><text text-anchor=\"end\" x=\"79\" y=\"4.199999999999999\" style=\"font-family: 'Open Sans', verdana, arial, sans-serif; font-size: 12px; fill: rgb(42, 63, 95); fill-opacity: 1; white-space: pre; opacity: 1;\" transform=\"translate(0,238.5)\">4M</text></g><g class=\"ytick\"><text text-anchor=\"end\" x=\"79\" y=\"4.199999999999999\" style=\"font-family: 'Open Sans', verdana, arial, sans-serif; font-size: 12px; fill: rgb(42, 63, 95); fill-opacity: 1; white-space: pre; opacity: 1;\" transform=\"translate(0,193.12)\">5M</text></g><g class=\"ytick\"><text text-anchor=\"end\" x=\"79\" y=\"4.199999999999999\" style=\"font-family: 'Open Sans', verdana, arial, sans-serif; font-size: 12px; fill: rgb(42, 63, 95); fill-opacity: 1; white-space: pre; opacity: 1;\" transform=\"translate(0,147.75)\">6M</text></g><g class=\"ytick\"><text text-anchor=\"end\" x=\"79\" y=\"4.199999999999999\" style=\"font-family: 'Open Sans', verdana, arial, sans-serif; font-size: 12px; fill: rgb(42, 63, 95); fill-opacity: 1; white-space: pre; opacity: 1;\" transform=\"translate(0,102.37)\">7M</text></g></g><g class=\"overaxes-above\"/></g></g><g class=\"polarlayer\"/><g class=\"smithlayer\"/><g class=\"ternarylayer\"/><g class=\"geolayer\"/><g class=\"funnelarealayer\"/><g class=\"pielayer\"/><g class=\"iciclelayer\"/><g class=\"treemaplayer\"/><g class=\"sunburstlayer\"/><g class=\"glimages\"/><defs id=\"topdefs-f25b1b\"><g class=\"clips\"/><clipPath id=\"legendf25b1b\"><rect width=\"54\" height=\"48\" x=\"0\" y=\"0\"/></clipPath></defs><g class=\"layer-above\"><g class=\"imagelayer\"/><g class=\"shapelayer\"/></g><g class=\"infolayer\"><g class=\"legend\" pointer-events=\"all\" transform=\"translate(630.8,60)\"><rect class=\"bg\" shape-rendering=\"crispEdges\" style=\"stroke: rgb(68, 68, 68); stroke-opacity: 1; fill: rgb(255, 255, 255); fill-opacity: 1; stroke-width: 0px;\" width=\"54\" height=\"48\" x=\"0\" y=\"0\"/><g class=\"scrollbox\" transform=\"\" clip-path=\"url(#legendf25b1b)\"><text class=\"legendtitletext\" text-anchor=\"start\" x=\"2\" y=\"18.2\" style=\"font-family: 'Open Sans', verdana, arial, sans-serif; font-size: 14px; fill: rgb(42, 63, 95); fill-opacity: 1; white-space: pre;\">variable</text><g class=\"groups\" transform=\"\"><g class=\"traces\" transform=\"translate(0,32.7)\" style=\"opacity: 1;\"><text class=\"legendtext\" text-anchor=\"start\" x=\"40\" y=\"4.680000000000001\" style=\"font-family: 'Open Sans', verdana, arial, sans-serif; font-size: 12px; fill: rgb(42, 63, 95); fill-opacity: 1; white-space: pre;\">0</text><g class=\"layers\" style=\"opacity: 1;\"><g class=\"legendfill\"/><g class=\"legendlines\"/><g class=\"legendsymbols\"><g class=\"legendpoints\"><path class=\"legendundefined\" d=\"M6,6H-6V-6H6Z\" transform=\"translate(20,0)\" style=\"stroke-width: 0.5px; fill: rgb(99, 110, 250); fill-opacity: 1; stroke: rgb(229, 236, 246); stroke-opacity: 1;\"/></g></g></g><rect class=\"legendtoggle\" x=\"0\" y=\"-9.5\" width=\"47\" height=\"19\" style=\"fill: rgb(0, 0, 0); fill-opacity: 0;\"/></g></g></g><rect class=\"scrollbar\" rx=\"20\" ry=\"3\" width=\"0\" height=\"0\" style=\"fill: rgb(128, 139, 164); fill-opacity: 1;\" x=\"0\" y=\"0\"/></g><g class=\"g-gtitle\"/><g class=\"g-xtitle\"><text class=\"xtitle\" x=\"350\" y=\"460.8\" text-anchor=\"middle\" style=\"font-family: 'Open Sans', verdana, arial, sans-serif; font-size: 14px; fill: rgb(42, 63, 95); opacity: 1; font-weight: normal; white-space: pre;\">Winner</text></g><g class=\"g-ytitle\"><text class=\"ytitle\" transform=\"rotate(-90,37.528125,240)\" x=\"37.528125\" y=\"240\" text-anchor=\"middle\" style=\"font-family: 'Open Sans', verdana, arial, sans-serif; font-size: 14px; fill: rgb(42, 63, 95); opacity: 1; font-weight: normal; white-space: pre;\">value</text></g></g></svg>"
          },
          "metadata": {}
        }
      ],
      "source": [
        "%time \n",
        "k = kdf.groupby('Winner').size()\n",
        "fig2 = k.plot(kind='bar')\n",
        "fig2.show(\"svg\", engine=\"kaleido\")"
      ]
    },
    {
      "cell_type": "markdown",
      "metadata": {
        "id": "c_REVnrhVJJ-"
      },
      "source": [
        "#### Q2: Who is the player that has the most game?\n",
        "\n",
        "Answer: Player ribarisah has the most game with a total of 45907.\n",
        "\n",
        ">The library function description:\n",
        "* Pandas: Data aggregation\n",
        "* Vaex: Data aggregation\n",
        "* Koalas: Data aggregation"
      ]
    },
    {
      "cell_type": "markdown",
      "metadata": {
        "id": "piN3qrJY2dzf"
      },
      "source": [
        "**Pandas**\n"
      ]
    },
    {
      "cell_type": "code",
      "execution_count": 27,
      "metadata": {
        "colab": {
          "base_uri": "https://localhost:8080/"
        },
        "id": "ShA3QyQpVJJ-",
        "outputId": "f25fdf22-424c-4825-ffee-4766c8c6839d"
      },
      "outputs": [
        {
          "output_type": "stream",
          "name": "stdout",
          "text": [
            "CPU times: user 9.76 s, sys: 212 ms, total: 9.97 s\n",
            "Wall time: 11.8 s\n"
          ]
        },
        {
          "output_type": "execute_result",
          "data": {
            "text/plain": [
              "ribarisah    45907.0\n",
              "dtype: float64"
            ]
          },
          "metadata": {},
          "execution_count": 27
        }
      ],
      "source": [
        "%%time\n",
        "total_gamesP = pdf['WhiteName'].value_counts().add(pdf['BlackName'].value_counts(), fill_value=0)\n",
        "total_gamesP = total_gamesP.sort_values(ascending = False)\n",
        "total_gamesP.head(1)"
      ]
    },
    {
      "cell_type": "markdown",
      "metadata": {
        "id": "ND8oOuXl2hsV"
      },
      "source": [
        "**Vaex**"
      ]
    },
    {
      "cell_type": "code",
      "execution_count": 28,
      "metadata": {
        "colab": {
          "base_uri": "https://localhost:8080/"
        },
        "id": "dvyLd9MdVJJ-",
        "outputId": "5a18dbf2-1e05-471e-efde-04d2f9c9f6ab"
      },
      "outputs": [
        {
          "output_type": "stream",
          "name": "stdout",
          "text": [
            "CPU times: user 28.8 s, sys: 4.75 s, total: 33.6 s\n",
            "Wall time: 23 s\n"
          ]
        },
        {
          "output_type": "execute_result",
          "data": {
            "text/plain": [
              "ribarisah    45907.0\n",
              "dtype: float64"
            ]
          },
          "metadata": {},
          "execution_count": 28
        }
      ],
      "source": [
        "%%time\n",
        "total_gamesP = vdf['WhiteName'].value_counts().add(vdf['BlackName'].value_counts(), fill_value=0)\n",
        "total_gamesP = total_gamesP.sort_values(ascending = False)\n",
        "total_gamesP.head(1)"
      ]
    },
    {
      "cell_type": "markdown",
      "metadata": {
        "id": "-KUhq7sz2lpp"
      },
      "source": [
        "**Koalas**"
      ]
    },
    {
      "cell_type": "code",
      "execution_count": 30,
      "metadata": {
        "colab": {
          "base_uri": "https://localhost:8080/"
        },
        "id": "tdjrhzySVJJ-",
        "outputId": "f004efd5-afb8-43c6-cf2f-39f1d9ad2711"
      },
      "outputs": [
        {
          "output_type": "stream",
          "name": "stdout",
          "text": [
            "CPU times: user 241 ms, sys: 21 ms, total: 262 ms\n",
            "Wall time: 2.15 s\n"
          ]
        },
        {
          "output_type": "execute_result",
          "data": {
            "text/plain": [
              "ribarisah    45907\n",
              "dtype: int64"
            ]
          },
          "metadata": {},
          "execution_count": 30
        }
      ],
      "source": [
        "%%time\n",
        "ks.set_option('compute.ops_on_diff_frames', True)\n",
        "total_gamesP = kdf['WhiteName'].value_counts().add(kdf['BlackName'].value_counts())\n",
        "total_gamesP = total_gamesP.sort_values(ascending = False)\n",
        "total_gamesP.head(1)"
      ]
    },
    {
      "cell_type": "markdown",
      "metadata": {
        "id": "ya3o0SurVJJ-"
      },
      "source": [
        "#### Q3: How many games ended normally based on the TimeControl?\n",
        "\n",
        "Answer: 4204736, 1871279, 261979, 3628779 games ended normally for Blitz, Bullet, Classical, and Rapid time control respectively.\n",
        "\n",
        ">The library function description:\n",
        "* Pandas: Groupby data aggregation\n",
        "* Vaex: Groupby data aggregation\n",
        "* Koalas: Groupby data aggregation"
      ]
    },
    {
      "cell_type": "markdown",
      "metadata": {
        "id": "pO5BwhyN2eSE"
      },
      "source": [
        "**Pandas**\n"
      ]
    },
    {
      "cell_type": "code",
      "execution_count": null,
      "metadata": {
        "colab": {
          "base_uri": "https://localhost:8080/",
          "height": 242
        },
        "id": "CaF9SiPeVJJ-",
        "outputId": "24421509-651e-4744-8d33-f23d97d15a09"
      },
      "outputs": [
        {
          "name": "stdout",
          "output_type": "stream",
          "text": [
            "CPU times: user 4.26 s, sys: 76.2 ms, total: 4.34 s\n",
            "Wall time: 4.69 s\n"
          ]
        },
        {
          "data": {
            "text/html": [
              "\n",
              "  <div id=\"df-d5a8bb6f-14ea-4a64-9777-0f28e63d4b20\">\n",
              "    <div class=\"colab-df-container\">\n",
              "      <div>\n",
              "<style scoped>\n",
              "    .dataframe tbody tr th:only-of-type {\n",
              "        vertical-align: middle;\n",
              "    }\n",
              "\n",
              "    .dataframe tbody tr th {\n",
              "        vertical-align: top;\n",
              "    }\n",
              "\n",
              "    .dataframe thead th {\n",
              "        text-align: right;\n",
              "    }\n",
              "</style>\n",
              "<table border=\"1\" class=\"dataframe\">\n",
              "  <thead>\n",
              "    <tr style=\"text-align: right;\">\n",
              "      <th></th>\n",
              "      <th>Termination</th>\n",
              "    </tr>\n",
              "    <tr>\n",
              "      <th>TimeControl</th>\n",
              "      <th></th>\n",
              "    </tr>\n",
              "  </thead>\n",
              "  <tbody>\n",
              "    <tr>\n",
              "      <th>Blitz</th>\n",
              "      <td>4204736</td>\n",
              "    </tr>\n",
              "    <tr>\n",
              "      <th>Bullet</th>\n",
              "      <td>1871279</td>\n",
              "    </tr>\n",
              "    <tr>\n",
              "      <th>Classical</th>\n",
              "      <td>261979</td>\n",
              "    </tr>\n",
              "    <tr>\n",
              "      <th>Rapid</th>\n",
              "      <td>3628779</td>\n",
              "    </tr>\n",
              "  </tbody>\n",
              "</table>\n",
              "</div>\n",
              "      <button class=\"colab-df-convert\" onclick=\"convertToInteractive('df-d5a8bb6f-14ea-4a64-9777-0f28e63d4b20')\"\n",
              "              title=\"Convert this dataframe to an interactive table.\"\n",
              "              style=\"display:none;\">\n",
              "        \n",
              "  <svg xmlns=\"http://www.w3.org/2000/svg\" height=\"24px\"viewBox=\"0 0 24 24\"\n",
              "       width=\"24px\">\n",
              "    <path d=\"M0 0h24v24H0V0z\" fill=\"none\"/>\n",
              "    <path d=\"M18.56 5.44l.94 2.06.94-2.06 2.06-.94-2.06-.94-.94-2.06-.94 2.06-2.06.94zm-11 1L8.5 8.5l.94-2.06 2.06-.94-2.06-.94L8.5 2.5l-.94 2.06-2.06.94zm10 10l.94 2.06.94-2.06 2.06-.94-2.06-.94-.94-2.06-.94 2.06-2.06.94z\"/><path d=\"M17.41 7.96l-1.37-1.37c-.4-.4-.92-.59-1.43-.59-.52 0-1.04.2-1.43.59L10.3 9.45l-7.72 7.72c-.78.78-.78 2.05 0 2.83L4 21.41c.39.39.9.59 1.41.59.51 0 1.02-.2 1.41-.59l7.78-7.78 2.81-2.81c.8-.78.8-2.07 0-2.86zM5.41 20L4 18.59l7.72-7.72 1.47 1.35L5.41 20z\"/>\n",
              "  </svg>\n",
              "      </button>\n",
              "      \n",
              "  <style>\n",
              "    .colab-df-container {\n",
              "      display:flex;\n",
              "      flex-wrap:wrap;\n",
              "      gap: 12px;\n",
              "    }\n",
              "\n",
              "    .colab-df-convert {\n",
              "      background-color: #E8F0FE;\n",
              "      border: none;\n",
              "      border-radius: 50%;\n",
              "      cursor: pointer;\n",
              "      display: none;\n",
              "      fill: #1967D2;\n",
              "      height: 32px;\n",
              "      padding: 0 0 0 0;\n",
              "      width: 32px;\n",
              "    }\n",
              "\n",
              "    .colab-df-convert:hover {\n",
              "      background-color: #E2EBFA;\n",
              "      box-shadow: 0px 1px 2px rgba(60, 64, 67, 0.3), 0px 1px 3px 1px rgba(60, 64, 67, 0.15);\n",
              "      fill: #174EA6;\n",
              "    }\n",
              "\n",
              "    [theme=dark] .colab-df-convert {\n",
              "      background-color: #3B4455;\n",
              "      fill: #D2E3FC;\n",
              "    }\n",
              "\n",
              "    [theme=dark] .colab-df-convert:hover {\n",
              "      background-color: #434B5C;\n",
              "      box-shadow: 0px 1px 3px 1px rgba(0, 0, 0, 0.15);\n",
              "      filter: drop-shadow(0px 1px 2px rgba(0, 0, 0, 0.3));\n",
              "      fill: #FFFFFF;\n",
              "    }\n",
              "  </style>\n",
              "\n",
              "      <script>\n",
              "        const buttonEl =\n",
              "          document.querySelector('#df-d5a8bb6f-14ea-4a64-9777-0f28e63d4b20 button.colab-df-convert');\n",
              "        buttonEl.style.display =\n",
              "          google.colab.kernel.accessAllowed ? 'block' : 'none';\n",
              "\n",
              "        async function convertToInteractive(key) {\n",
              "          const element = document.querySelector('#df-d5a8bb6f-14ea-4a64-9777-0f28e63d4b20');\n",
              "          const dataTable =\n",
              "            await google.colab.kernel.invokeFunction('convertToInteractive',\n",
              "                                                     [key], {});\n",
              "          if (!dataTable) return;\n",
              "\n",
              "          const docLinkHtml = 'Like what you see? Visit the ' +\n",
              "            '<a target=\"_blank\" href=https://colab.research.google.com/notebooks/data_table.ipynb>data table notebook</a>'\n",
              "            + ' to learn more about interactive tables.';\n",
              "          element.innerHTML = '';\n",
              "          dataTable['output_type'] = 'display_data';\n",
              "          await google.colab.output.renderOutput(dataTable, element);\n",
              "          const docLink = document.createElement('div');\n",
              "          docLink.innerHTML = docLinkHtml;\n",
              "          element.appendChild(docLink);\n",
              "        }\n",
              "      </script>\n",
              "    </div>\n",
              "  </div>\n",
              "  "
            ],
            "text/plain": [
              "             Termination\n",
              "TimeControl             \n",
              "Blitz            4204736\n",
              "Bullet           1871279\n",
              "Classical         261979\n",
              "Rapid            3628779"
            ]
          },
          "execution_count": 45,
          "metadata": {},
          "output_type": "execute_result"
        }
      ],
      "source": [
        "%%time\n",
        "newpdf = pdf[pdf.Termination == 'Normal']\n",
        "newpdf[['Termination','TimeControl']].groupby('TimeControl').count()"
      ]
    },
    {
      "cell_type": "markdown",
      "metadata": {
        "id": "omUpXrhF2iIA"
      },
      "source": [
        "**Vaex**"
      ]
    },
    {
      "cell_type": "code",
      "execution_count": null,
      "metadata": {
        "colab": {
          "base_uri": "https://localhost:8080/",
          "height": 162
        },
        "id": "bGV1nEzqVJJ-",
        "outputId": "6a34eb53-c31c-4d91-d219-a51cba9e93a1"
      },
      "outputs": [
        {
          "name": "stdout",
          "output_type": "stream",
          "text": [
            "CPU times: user 23.1 s, sys: 1.92 s, total: 25.1 s\n",
            "Wall time: 16.5 s\n"
          ]
        },
        {
          "data": {
            "text/html": [
              "<table>\n",
              "<thead>\n",
              "<tr><th>#                            </th><th>TimeControl  </th><th style=\"text-align: right;\">  count</th></tr>\n",
              "</thead>\n",
              "<tbody>\n",
              "<tr><td><i style='opacity: 0.6'>0</i></td><td>Rapid        </td><td style=\"text-align: right;\">3628779</td></tr>\n",
              "<tr><td><i style='opacity: 0.6'>1</i></td><td>Classical    </td><td style=\"text-align: right;\"> 261979</td></tr>\n",
              "<tr><td><i style='opacity: 0.6'>2</i></td><td>Blitz        </td><td style=\"text-align: right;\">4204736</td></tr>\n",
              "<tr><td><i style='opacity: 0.6'>3</i></td><td>Bullet       </td><td style=\"text-align: right;\">1871279</td></tr>\n",
              "</tbody>\n",
              "</table>"
            ],
            "text/plain": [
              "  #  TimeControl      count\n",
              "  0  Rapid          3628779\n",
              "  1  Classical       261979\n",
              "  2  Blitz          4204736\n",
              "  3  Bullet         1871279"
            ]
          },
          "execution_count": 47,
          "metadata": {},
          "output_type": "execute_result"
        }
      ],
      "source": [
        "%%time\n",
        "newvdf = vdf[vdf.Termination == 'Normal']\n",
        "newvdf[['Termination','TimeControl']].groupby('TimeControl', agg='count')"
      ]
    },
    {
      "cell_type": "markdown",
      "metadata": {
        "id": "21_DgJFY2mQI"
      },
      "source": [
        "**Koalas**"
      ]
    },
    {
      "cell_type": "code",
      "execution_count": null,
      "metadata": {
        "colab": {
          "base_uri": "https://localhost:8080/",
          "height": 242
        },
        "id": "1y8gWqGcVJJ-",
        "outputId": "cc351077-77df-406e-a24f-874df36a1519"
      },
      "outputs": [
        {
          "name": "stdout",
          "output_type": "stream",
          "text": [
            "CPU times: user 66.2 ms, sys: 10.4 ms, total: 76.6 ms\n",
            "Wall time: 374 ms\n"
          ]
        },
        {
          "data": {
            "text/html": [
              "<div>\n",
              "<style scoped>\n",
              "    .dataframe tbody tr th:only-of-type {\n",
              "        vertical-align: middle;\n",
              "    }\n",
              "\n",
              "    .dataframe tbody tr th {\n",
              "        vertical-align: top;\n",
              "    }\n",
              "\n",
              "    .dataframe thead th {\n",
              "        text-align: right;\n",
              "    }\n",
              "</style>\n",
              "<table border=\"1\" class=\"dataframe\">\n",
              "  <thead>\n",
              "    <tr style=\"text-align: right;\">\n",
              "      <th></th>\n",
              "      <th>Termination</th>\n",
              "    </tr>\n",
              "    <tr>\n",
              "      <th>TimeControl</th>\n",
              "      <th></th>\n",
              "    </tr>\n",
              "  </thead>\n",
              "  <tbody>\n",
              "    <tr>\n",
              "      <th>Bullet</th>\n",
              "      <td>1871279</td>\n",
              "    </tr>\n",
              "    <tr>\n",
              "      <th>Blitz</th>\n",
              "      <td>4204736</td>\n",
              "    </tr>\n",
              "    <tr>\n",
              "      <th>Classical</th>\n",
              "      <td>261979</td>\n",
              "    </tr>\n",
              "    <tr>\n",
              "      <th>Rapid</th>\n",
              "      <td>3628779</td>\n",
              "    </tr>\n",
              "  </tbody>\n",
              "</table>\n",
              "</div>"
            ],
            "text/plain": [
              "             Termination\n",
              "TimeControl             \n",
              "Bullet           1871279\n",
              "Blitz            4204736\n",
              "Classical         261979\n",
              "Rapid            3628779"
            ]
          },
          "execution_count": 48,
          "metadata": {},
          "output_type": "execute_result"
        }
      ],
      "source": [
        "%%time\n",
        "newkdf = kdf[kdf.Termination == 'Normal']\n",
        "newkdf[['Termination','TimeControl']].groupby('TimeControl').count()"
      ]
    },
    {
      "cell_type": "markdown",
      "metadata": {
        "id": "p4CcVO1TVJJ-"
      },
      "source": [
        "#### Q4: Which game did the lower-rated player win against a higher-rated opponent whose elo difference was the greatest?\n",
        "\n",
        "Answer: Site https://lichess.org/o9DnmkC1 is the game where a low-rated player win against high-rated player with an Elo rating difference of 1331.   \n",
        "\n",
        ">The library function description:\n",
        "* Pandas: absolute value, idxmax(), loc for accessing multiple columns\n",
        "* Vaex: absolute and max value\n",
        "* Koalas: absolute value, idxmax(), loc for accessing multiple columns"
      ]
    },
    {
      "cell_type": "markdown",
      "metadata": {
        "id": "mgkjXcGx2epE"
      },
      "source": [
        "**Pandas**\n"
      ]
    },
    {
      "cell_type": "code",
      "execution_count": 31,
      "metadata": {
        "colab": {
          "base_uri": "https://localhost:8080/"
        },
        "id": "Wa96BGX1VJJ-",
        "outputId": "bf2d8bd5-e67d-4d98-b85c-6d14f2dc1629"
      },
      "outputs": [
        {
          "output_type": "stream",
          "name": "stdout",
          "text": [
            "CPU times: user 5 µs, sys: 1e+03 ns, total: 6 µs\n",
            "Wall time: 18.6 µs\n"
          ]
        },
        {
          "output_type": "execute_result",
          "data": {
            "text/plain": [
              "Difference                            1331\n",
              "Site          https://lichess.org/o9DnmkC1\n",
              "Name: 5086669, dtype: object"
            ]
          },
          "metadata": {},
          "execution_count": 31
        }
      ],
      "source": [
        "%time\n",
        "new_pdf = pdf[((pdf['WhiteElo']-pdf['BlackElo']>=400)&(pdf['Winner'] == 'Black'))|((pdf['WhiteElo']-pdf['BlackElo']<=-400)&(pdf['Winner'] == 'White'))][['WhiteElo','BlackElo','Site']]\n",
        "new_pdf['Difference'] = (new_pdf['WhiteElo']-new_pdf['BlackElo']).abs()\n",
        "new_pdf[['Difference','Site']].loc[new_pdf['Difference'].idxmax()]"
      ]
    },
    {
      "cell_type": "markdown",
      "metadata": {
        "id": "-NszpoXK2ikt"
      },
      "source": [
        "**Vaex**"
      ]
    },
    {
      "cell_type": "code",
      "execution_count": 32,
      "metadata": {
        "colab": {
          "base_uri": "https://localhost:8080/"
        },
        "id": "odvn2Qsw2HRW",
        "outputId": "e247b19a-8f39-4307-bf6a-5ebbd990f763"
      },
      "outputs": [
        {
          "output_type": "stream",
          "name": "stdout",
          "text": [
            "CPU times: user 6 µs, sys: 1e+03 ns, total: 7 µs\n",
            "Wall time: 10.5 µs\n"
          ]
        },
        {
          "output_type": "execute_result",
          "data": {
            "text/plain": [
              "array(1331)"
            ]
          },
          "metadata": {},
          "execution_count": 32
        }
      ],
      "source": [
        "%time\n",
        "new_vdf = vdf[((vdf['WhiteElo']-vdf['BlackElo']>=400)&(vdf['Winner'] == 'Black'))|((vdf['WhiteElo']-vdf['BlackElo']<=-400)&(vdf['Winner'] == 'White'))][['WhiteElo','BlackElo','Site']]\n",
        "new_vdf['Difference'] = (new_vdf['WhiteElo']-new_vdf['BlackElo']).abs()\n",
        "new_vdf[['Difference','Site']].max('Difference')"
      ]
    },
    {
      "cell_type": "markdown",
      "metadata": {
        "id": "6Ye1I2lD2m9H"
      },
      "source": [
        "**Koalas**"
      ]
    },
    {
      "cell_type": "code",
      "execution_count": 35,
      "metadata": {
        "colab": {
          "base_uri": "https://localhost:8080/"
        },
        "id": "JfWasWvZ2HVN",
        "outputId": "2b08f096-d858-444a-c7c9-5031482c1ccc"
      },
      "outputs": [
        {
          "output_type": "stream",
          "name": "stdout",
          "text": [
            "CPU times: user 6 µs, sys: 1e+03 ns, total: 7 µs\n",
            "Wall time: 14.1 µs\n"
          ]
        },
        {
          "output_type": "execute_result",
          "data": {
            "text/plain": [
              "Difference                            1331\n",
              "Site          https://lichess.org/o9DnmkC1\n",
              "Name: 5086669, dtype: object"
            ]
          },
          "metadata": {},
          "execution_count": 35
        }
      ],
      "source": [
        "%time\n",
        "new_kdf = kdf[((kdf['WhiteElo']-kdf['BlackElo']>=400)&(kdf['Winner'] == 'Black'))|((kdf['WhiteElo']-kdf['BlackElo']<=-400)&(kdf['Winner'] == 'White'))][['WhiteElo','BlackElo','Site']]\n",
        "new_kdf['Difference'] = (new_kdf['WhiteElo']-new_kdf['BlackElo']).abs()\n",
        "new_kdf[['Difference','Site']].loc[new_kdf['Difference'].idxmax()]"
      ]
    },
    {
      "cell_type": "markdown",
      "metadata": {
        "id": "uFuZBqX1VJJ_"
      },
      "source": [
        "#### Q5: In what time control is it easiest to defeat a higher-rated opponent?\n",
        "\n",
        "Answer: Classical time control shows a high probability to win against a higher-rated opponent.\n",
        "\n",
        ">The library function description:\n",
        "* Pandas: Groupby data aggregation\n",
        "* Vaex: Groupby data aggregation\n",
        "* Koalas: Groupby data aggregation"
      ]
    },
    {
      "cell_type": "markdown",
      "metadata": {
        "id": "E6GQ7jiG2fBz"
      },
      "source": [
        "**Pandas**\n"
      ]
    },
    {
      "cell_type": "code",
      "execution_count": null,
      "metadata": {
        "colab": {
          "base_uri": "https://localhost:8080/"
        },
        "id": "0XCOkgIHVJJ_",
        "outputId": "97c0b459-1a0d-4265-cf15-0145296d0794"
      },
      "outputs": [
        {
          "name": "stdout",
          "output_type": "stream",
          "text": [
            "CPU times: user 68.5 ms, sys: 2.76 ms, total: 71.2 ms\n",
            "Wall time: 90.6 ms\n"
          ]
        },
        {
          "data": {
            "text/plain": [
              "TimeControl  TimeControl\n",
              "Blitz        Blitz           9.321121\n",
              "Bullet       Bullet          8.248378\n",
              "Classical    Classical       7.843137\n",
              "Rapid        Rapid          10.747051\n",
              "Name: TimeControl, dtype: float64"
            ]
          },
          "execution_count": 51,
          "metadata": {},
          "output_type": "execute_result"
        }
      ],
      "source": [
        "%%time\n",
        "games_p = pdf[(pdf['WhiteElo']-pdf['BlackElo']>=400)|(pdf['WhiteElo']-pdf['BlackElo']<=-400)].groupby('TimeControl')['TimeControl'].value_counts()\n",
        "win_p = pdf[((pdf['WhiteElo']-pdf['BlackElo']>=400)&(pdf['Winner'] == 'Black'))|((pdf['WhiteElo']-pdf['BlackElo']<=-400)&(pdf['Winner'] == 'White'))].groupby('TimeControl')['TimeControl'].value_counts()\n",
        "\n",
        "win_p/games_p*100"
      ]
    },
    {
      "cell_type": "markdown",
      "metadata": {
        "id": "1-ragaSS2pcs"
      },
      "source": [
        "**Vaex**"
      ]
    },
    {
      "cell_type": "code",
      "execution_count": null,
      "metadata": {
        "colab": {
          "base_uri": "https://localhost:8080/"
        },
        "id": "xZWIg8jJVJJ_",
        "outputId": "e5326b6a-20b8-461f-92b8-ef058367b7d0"
      },
      "outputs": [
        {
          "name": "stdout",
          "output_type": "stream",
          "text": [
            "CPU times: user 48.2 s, sys: 8.68 s, total: 56.9 s\n",
            "Wall time: 42.5 s\n"
          ]
        },
        {
          "data": {
            "text/plain": [
              "array([[10.59998908],\n",
              "       [10.71677799],\n",
              "       [ 8.86824405],\n",
              "       [ 7.83676869]])"
            ]
          },
          "execution_count": 18,
          "metadata": {},
          "output_type": "execute_result"
        }
      ],
      "source": [
        "%%time\n",
        "games_v = vdf[(vdf['WhiteElo']-vdf['BlackElo']>=400)|(vdf['WhiteElo']-vdf['BlackElo']<=-400)].groupby('TimeControl', agg='count')\n",
        "win_v = vdf[((vdf['WhiteElo']-vdf['BlackElo']>=400)&(vdf['Winner'] == 'Black'))|((vdf['WhiteElo']-vdf['BlackElo']<=-400)&(vdf['Winner'] == 'White'))].groupby('TimeControl', agg='count')\n",
        "\n",
        "(win_v.values/games_v.values)*100"
      ]
    },
    {
      "cell_type": "markdown",
      "metadata": {
        "id": "4-l4mf3J2n0q"
      },
      "source": [
        "**Koalas**"
      ]
    },
    {
      "cell_type": "code",
      "execution_count": null,
      "metadata": {
        "colab": {
          "base_uri": "https://localhost:8080/"
        },
        "id": "MMExemAYVJJ_",
        "outputId": "83d21169-8420-41c7-abda-0a8fc0cb4c20"
      },
      "outputs": [
        {
          "name": "stdout",
          "output_type": "stream",
          "text": [
            "CPU times: user 433 ms, sys: 52.6 ms, total: 485 ms\n",
            "Wall time: 3.09 s\n"
          ]
        },
        {
          "data": {
            "text/plain": [
              "TimeControl  TimeControl\n",
              "Blitz        Blitz           8.868244\n",
              "Bullet       Bullet          7.836769\n",
              "Classical    Classical      10.716778\n",
              "Rapid        Rapid          10.599989\n",
              "Name: TimeControl, dtype: float64"
            ]
          },
          "execution_count": 149,
          "metadata": {},
          "output_type": "execute_result"
        }
      ],
      "source": [
        "%%time\n",
        "games_k = kdf[(kdf['WhiteElo']-kdf['BlackElo']>=400)|(kdf['WhiteElo']-kdf['BlackElo']<=-400)].groupby('TimeControl')['TimeControl'].value_counts()\n",
        "win_k = kdf[((kdf['WhiteElo']-kdf['BlackElo']>=400)&(kdf['Winner'] == 'Black'))|((kdf['WhiteElo']-kdf['BlackElo']<=-400)&(kdf['Winner'] == 'White'))].groupby('TimeControl')['TimeControl'].value_counts()\n",
        "\n",
        "win_k/games_k*100"
      ]
    },
    {
      "cell_type": "markdown",
      "metadata": {
        "id": "VxoO755tVJJ_"
      },
      "source": [
        "## Inferences and Conclusion\n",
        "\n",
        "In conclusion, this study aimed to understand patterns and trends in the game of chess through Exploratory Data Analysis. Using a dataset of games from 2013 to 2014, we performed a comprehensive analysis of player ratings, game outcomes, and move sequences. Our findings showed that player ratings have a strong impact on game outcomes, with higher rated players having a higher win rate. We also observed that certain moves and openings are more frequent in higher rated games, indicating that certain strategies may be more effective at higher levels of play.\n",
        "\n",
        "The results of this study have important implications for the future of chess analysis and can be used to inform the development of new training and evaluation tools. However, it is important to note that the results are limited by the time period and quality of the data, and future studies could benefit from incorporating more recent and comprehensive data. Additionally, our analysis was limited to a relatively small number of variables, and future studies could benefit from exploring other aspects of the game, such as player behavior, time management, and psychological factors."
      ]
    },
    {
      "cell_type": "markdown",
      "metadata": {
        "id": "xfuc6sJgVJKA"
      },
      "source": [
        "## References and Future Work\n",
        "\n",
        "Overall, this project highlights the value of Exploratory Data Analysis in the analysis of complex systems, and the potential for data to inform our understanding of the game of chess. The results of this study lay the foundation for future research aimed at improving the quality and effectiveness of chess analysis.\n",
        "\n",
        "[Vaex Tutorial](https://vaex.io/docs/tutorials.html) <br/>\n",
        "[Koalas](https://koalas.readthedocs.io/en/latest/) <br/>\n",
        "[Vaex Visualization](https://vaex.readthedocs.io/en/latest/_modules/vaex/viz.html) <br/>\n",
        "[Vaex PyPI](https://pypi.org/project/vaex/ps) <br/>\n",
        "[Hands-On Guide to Vaex](https://analyticsindiamag.com/hands-on-guide-to-vaex-tool-to-overcome-drawbacks-of-pandas/) <br/>\n",
        "[Introduction to Vaex in Python](https://www.geeksforgeeks.org/introduction-to-vaex-in-python/)"
      ]
    }
  ],
  "metadata": {
    "colab": {
      "provenance": []
    },
    "kernelspec": {
      "display_name": "Python 3",
      "language": "python",
      "name": "python3"
    },
    "language_info": {
      "codemirror_mode": {
        "name": "ipython",
        "version": 3
      },
      "file_extension": ".py",
      "mimetype": "text/x-python",
      "name": "python",
      "nbconvert_exporter": "python",
      "pygments_lexer": "ipython3",
      "version": "3.8.5"
    }
  },
  "nbformat": 4,
  "nbformat_minor": 0
}