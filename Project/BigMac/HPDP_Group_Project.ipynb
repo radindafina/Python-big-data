{
  "cells": [
    {
      "cell_type": "markdown",
      "metadata": {
        "id": "view-in-github",
        "colab_type": "text"
      },
      "source": [
        "<a href=\"https://colab.research.google.com/github/drshahizan/Python-big-data/blob/main/Project/BigMac/HPDP_Group_Project.ipynb\" target=\"_parent\"><img src=\"https://colab.research.google.com/assets/colab-badge.svg\" alt=\"Open In Colab\"/></a>"
      ]
    },
    {
      "cell_type": "markdown",
      "metadata": {
        "id": "bMeBafK7VkL5"
      },
      "source": [
        "# **Project: Airline Delay and Cancellation Data(2016 - 2018.csv)**\n",
        "\n",
        "\n",
        "The U.S. Department of Transportation's (DOT) Bureau of Transportation Statistics tracks the on-time performance of domestic flights operated by large air carriers. Summary information on the number of on-time, delayed, canceled, and diverted flights is published in DOT's monthly Air Travel Consumer Report and in this dataset of 2016 flight delays and cancellations.\n",
        "\n",
        "**Group members:**\n",
        "\n",
        "<table>\n",
        "  <tr>\n",
        "    <th>Name</th>\n",
        "    <th>Matric</th>\n",
        "  </tr>\n",
        "  <tr>\n",
        "    <th>Muhammad Imran Hakimi Bin Mohd Shukri </th>\n",
        "    <th>A20EC0213</th>\n",
        "  </tr>\n",
        "  <tr>\n",
        "    <th>Afif Hazmie Arsyad Bin Agus</th>\n",
        "    <th>A20EC0176</th>\n",
        "  </tr>\n",
        "    <tr>\n",
        "    <th>Kong Jia Rou</th>\n",
        "    <th>A20EC0198</th>\n",
        "  </tr>\n",
        "    <tr>\n",
        "    <th>Rasmin Kaur Sandhu</th>\n",
        "    <th>A19ET0216</th>\n",
        "  </tr>\n",
        "</table>\n",
        "\n",
        "Dataset source: https://www.kaggle.com/datasets/yuanyuwendymu/airline-delay-and-cancellation-data-2009-2018?select=2018.csv\n",
        "\n",
        "\n"
      ]
    },
    {
      "cell_type": "markdown",
      "metadata": {
        "id": "vU_UArqGytM8"
      },
      "source": [
        "# Installing and Importing the libraries"
      ]
    },
    {
      "cell_type": "markdown",
      "metadata": {
        "id": "iBTybpmUzML_"
      },
      "source": [
        "**Pyspark Library**"
      ]
    },
    {
      "cell_type": "code",
      "execution_count": 1,
      "metadata": {
        "colab": {
          "base_uri": "https://localhost:8080/"
        },
        "id": "OJoWJtRlzEjx",
        "outputId": "94cd7b9e-9161-497e-9f59-afcb1c25a754"
      },
      "outputs": [
        {
          "output_type": "stream",
          "name": "stdout",
          "text": [
            "Looking in indexes: https://pypi.org/simple, https://us-python.pkg.dev/colab-wheels/public/simple/\n",
            "Collecting pyspark\n",
            "  Downloading pyspark-3.3.1.tar.gz (281.4 MB)\n",
            "\u001b[2K     \u001b[90m━━━━━━━━━━━━━━━━━━━━━━━━━━━━━━━━━━━━━━━\u001b[0m \u001b[32m281.4/281.4 MB\u001b[0m \u001b[31m3.0 MB/s\u001b[0m eta \u001b[36m0:00:00\u001b[0m\n",
            "\u001b[?25h  Preparing metadata (setup.py) ... \u001b[?25l\u001b[?25hdone\n",
            "Collecting py4j==0.10.9.5\n",
            "  Downloading py4j-0.10.9.5-py2.py3-none-any.whl (199 kB)\n",
            "\u001b[2K     \u001b[90m━━━━━━━━━━━━━━━━━━━━━━━━━━━━━━━━━━━━━━\u001b[0m \u001b[32m199.7/199.7 KB\u001b[0m \u001b[31m16.7 MB/s\u001b[0m eta \u001b[36m0:00:00\u001b[0m\n",
            "\u001b[?25hBuilding wheels for collected packages: pyspark\n",
            "  Building wheel for pyspark (setup.py) ... \u001b[?25l\u001b[?25hdone\n",
            "  Created wheel for pyspark: filename=pyspark-3.3.1-py2.py3-none-any.whl size=281845512 sha256=d5e2a7808519b1a4997da467866f1ed819c0b6cbd61483a93141fa491c1f297b\n",
            "  Stored in directory: /root/.cache/pip/wheels/43/dc/11/ec201cd671da62fa9c5cc77078235e40722170ceba231d7598\n",
            "Successfully built pyspark\n",
            "Installing collected packages: py4j, pyspark\n",
            "Successfully installed py4j-0.10.9.5 pyspark-3.3.1\n"
          ]
        }
      ],
      "source": [
        "!pip install pyspark"
      ]
    },
    {
      "cell_type": "code",
      "execution_count": 2,
      "metadata": {
        "id": "Fy825olkzJ6U"
      },
      "outputs": [],
      "source": [
        "from pyspark.sql.functions import col\n",
        "from pyspark.sql import SparkSession"
      ]
    },
    {
      "cell_type": "code",
      "execution_count": 3,
      "metadata": {
        "id": "Dc9gX1z1zLDV"
      },
      "outputs": [],
      "source": [
        "spark = SparkSession \\\n",
        "    .builder \\\n",
        "    .appName(\"HPDP Group Project\") \\\n",
        "    .getOrCreate()"
      ]
    },
    {
      "cell_type": "markdown",
      "metadata": {
        "id": "rsKPEbtNzLfG"
      },
      "source": [
        "**Koalas Library**"
      ]
    },
    {
      "cell_type": "code",
      "execution_count": 4,
      "metadata": {
        "colab": {
          "base_uri": "https://localhost:8080/"
        },
        "id": "RCJPTLc6bMs_",
        "outputId": "6cc2f1e1-405e-49de-f71b-6fead51bb3f8"
      },
      "outputs": [
        {
          "output_type": "stream",
          "name": "stdout",
          "text": [
            "Looking in indexes: https://pypi.org/simple, https://us-python.pkg.dev/colab-wheels/public/simple/\n",
            "Collecting koalas\n",
            "  Downloading koalas-1.8.2-py3-none-any.whl (390 kB)\n",
            "\u001b[2K     \u001b[90m━━━━━━━━━━━━━━━━━━━━━━━━━━━━━━━━━━━━━━\u001b[0m \u001b[32m390.8/390.8 KB\u001b[0m \u001b[31m26.8 MB/s\u001b[0m eta \u001b[36m0:00:00\u001b[0m\n",
            "\u001b[?25hRequirement already satisfied: numpy>=1.14 in /usr/local/lib/python3.8/dist-packages (from koalas) (1.21.6)\n",
            "Requirement already satisfied: pandas>=0.23.2 in /usr/local/lib/python3.8/dist-packages (from koalas) (1.3.5)\n",
            "Requirement already satisfied: pyarrow>=0.10 in /usr/local/lib/python3.8/dist-packages (from koalas) (9.0.0)\n",
            "Requirement already satisfied: pytz>=2017.3 in /usr/local/lib/python3.8/dist-packages (from pandas>=0.23.2->koalas) (2022.7)\n",
            "Requirement already satisfied: python-dateutil>=2.7.3 in /usr/local/lib/python3.8/dist-packages (from pandas>=0.23.2->koalas) (2.8.2)\n",
            "Requirement already satisfied: six>=1.5 in /usr/local/lib/python3.8/dist-packages (from python-dateutil>=2.7.3->pandas>=0.23.2->koalas) (1.15.0)\n",
            "Installing collected packages: koalas\n",
            "Successfully installed koalas-1.8.2\n"
          ]
        }
      ],
      "source": [
        "!pip install koalas"
      ]
    },
    {
      "cell_type": "code",
      "execution_count": 5,
      "metadata": {
        "colab": {
          "base_uri": "https://localhost:8080/"
        },
        "id": "N5qyvNv8zzka",
        "outputId": "57ccaf9e-619b-4b5a-c910-5c71a0f7e66f"
      },
      "outputs": [
        {
          "output_type": "stream",
          "name": "stderr",
          "text": [
            "WARNING:root:Found pyspark version \"3.3.1\" installed. The pyspark version 3.2 and above has a built-in \"pandas APIs on Spark\" module ported from Koalas. Try `import pyspark.pandas as ps` instead. \n",
            "WARNING:root:'PYARROW_IGNORE_TIMEZONE' environment variable was not set. It is required to set this environment variable to '1' in both driver and executor sides if you use pyarrow>=2.0.0. Koalas will set it for you but it does not work if there is a Spark context already launched.\n"
          ]
        }
      ],
      "source": [
        "import databricks.koalas as ks"
      ]
    },
    {
      "cell_type": "markdown",
      "metadata": {
        "id": "RwoEcZ6azYnQ"
      },
      "source": [
        "**Vaex Library**"
      ]
    },
    {
      "cell_type": "code",
      "execution_count": 6,
      "metadata": {
        "colab": {
          "base_uri": "https://localhost:8080/",
          "height": 1000
        },
        "id": "ayfJCortzvdJ",
        "outputId": "3d1ff2d1-79e3-40de-a937-af7064003033"
      },
      "outputs": [
        {
          "output_type": "stream",
          "name": "stdout",
          "text": [
            "Looking in indexes: https://pypi.org/simple, https://us-python.pkg.dev/colab-wheels/public/simple/\n",
            "Collecting vaex\n",
            "  Downloading vaex-4.16.0-py3-none-any.whl (4.7 kB)\n",
            "Collecting vaex-astro<0.10,>=0.9.3\n",
            "  Downloading vaex_astro-0.9.3-py3-none-any.whl (20 kB)\n",
            "Collecting vaex-viz<0.6,>=0.5.4\n",
            "  Downloading vaex_viz-0.5.4-py3-none-any.whl (19 kB)\n",
            "Collecting vaex-jupyter<0.9,>=0.8.1\n",
            "  Downloading vaex_jupyter-0.8.1-py3-none-any.whl (43 kB)\n",
            "\u001b[2K     \u001b[90m━━━━━━━━━━━━━━━━━━━━━━━━━━━━━━━━━━━━━━━━\u001b[0m \u001b[32m43.2/43.2 KB\u001b[0m \u001b[31m5.7 MB/s\u001b[0m eta \u001b[36m0:00:00\u001b[0m\n",
            "\u001b[?25hCollecting vaex-server<0.9,>=0.8.1\n",
            "  Downloading vaex_server-0.8.1-py3-none-any.whl (23 kB)\n",
            "Collecting vaex-ml<0.19,>=0.18.1\n",
            "  Downloading vaex_ml-0.18.1-py3-none-any.whl (58 kB)\n",
            "\u001b[2K     \u001b[90m━━━━━━━━━━━━━━━━━━━━━━━━━━━━━━━━━━━━━━━━\u001b[0m \u001b[32m58.2/58.2 KB\u001b[0m \u001b[31m6.0 MB/s\u001b[0m eta \u001b[36m0:00:00\u001b[0m\n",
            "\u001b[?25hCollecting vaex-hdf5<0.15,>=0.13.0\n",
            "  Downloading vaex_hdf5-0.14.1-py3-none-any.whl (16 kB)\n",
            "Collecting vaex-core<4.17,>=4.16.0\n",
            "  Downloading vaex_core-4.16.1-cp38-cp38-manylinux_2_17_x86_64.manylinux2014_x86_64.whl (4.5 MB)\n",
            "\u001b[2K     \u001b[90m━━━━━━━━━━━━━━━━━━━━━━━━━━━━━━━━━━━━━━━━\u001b[0m \u001b[32m4.5/4.5 MB\u001b[0m \u001b[31m73.8 MB/s\u001b[0m eta \u001b[36m0:00:00\u001b[0m\n",
            "\u001b[?25hRequirement already satisfied: astropy in /usr/local/lib/python3.8/dist-packages (from vaex-astro<0.10,>=0.9.3->vaex) (4.3.1)\n",
            "Collecting blake3\n",
            "  Downloading blake3-0.3.3-cp38-cp38-manylinux_2_17_x86_64.manylinux2014_x86_64.whl (1.2 MB)\n",
            "\u001b[2K     \u001b[90m━━━━━━━━━━━━━━━━━━━━━━━━━━━━━━━━━━━━━━━━\u001b[0m \u001b[32m1.2/1.2 MB\u001b[0m \u001b[31m57.6 MB/s\u001b[0m eta \u001b[36m0:00:00\u001b[0m\n",
            "\u001b[?25hRequirement already satisfied: pyarrow>=5.0.0 in /usr/local/lib/python3.8/dist-packages (from vaex-core<4.17,>=4.16.0->vaex) (9.0.0)\n",
            "Collecting aplus\n",
            "  Downloading aplus-0.11.0.tar.gz (3.7 kB)\n",
            "  Preparing metadata (setup.py) ... \u001b[?25l\u001b[?25hdone\n",
            "Collecting rich\n",
            "  Downloading rich-13.3.1-py3-none-any.whl (239 kB)\n",
            "\u001b[2K     \u001b[90m━━━━━━━━━━━━━━━━━━━━━━━━━━━━━━━━━━━━━━\u001b[0m \u001b[32m239.0/239.0 KB\u001b[0m \u001b[31m25.9 MB/s\u001b[0m eta \u001b[36m0:00:00\u001b[0m\n",
            "\u001b[?25hRequirement already satisfied: dask!=2022.4.0 in /usr/local/lib/python3.8/dist-packages (from vaex-core<4.17,>=4.16.0->vaex) (2022.2.1)\n",
            "Requirement already satisfied: progressbar2 in /usr/local/lib/python3.8/dist-packages (from vaex-core<4.17,>=4.16.0->vaex) (3.38.0)\n",
            "Requirement already satisfied: requests in /usr/local/lib/python3.8/dist-packages (from vaex-core<4.17,>=4.16.0->vaex) (2.25.1)\n",
            "Collecting frozendict!=2.2.0\n",
            "  Downloading frozendict-2.3.4-cp38-cp38-manylinux_2_17_x86_64.manylinux2014_x86_64.whl (110 kB)\n",
            "\u001b[2K     \u001b[90m━━━━━━━━━━━━━━━━━━━━━━━━━━━━━━━━━━━━━━\u001b[0m \u001b[32m111.0/111.0 KB\u001b[0m \u001b[31m14.2 MB/s\u001b[0m eta \u001b[36m0:00:00\u001b[0m\n",
            "\u001b[?25hRequirement already satisfied: pandas in /usr/local/lib/python3.8/dist-packages (from vaex-core<4.17,>=4.16.0->vaex) (1.3.5)\n",
            "Requirement already satisfied: cloudpickle in /usr/local/lib/python3.8/dist-packages (from vaex-core<4.17,>=4.16.0->vaex) (2.2.0)\n",
            "Requirement already satisfied: pydantic>=1.8.0 in /usr/local/lib/python3.8/dist-packages (from vaex-core<4.17,>=4.16.0->vaex) (1.10.4)\n",
            "Requirement already satisfied: pyyaml in /usr/local/lib/python3.8/dist-packages (from vaex-core<4.17,>=4.16.0->vaex) (6.0)\n",
            "Requirement already satisfied: numpy>=1.16 in /usr/local/lib/python3.8/dist-packages (from vaex-core<4.17,>=4.16.0->vaex) (1.21.6)\n",
            "Requirement already satisfied: six in /usr/local/lib/python3.8/dist-packages (from vaex-core<4.17,>=4.16.0->vaex) (1.15.0)\n",
            "Requirement already satisfied: filelock in /usr/local/lib/python3.8/dist-packages (from vaex-core<4.17,>=4.16.0->vaex) (3.9.0)\n",
            "Collecting nest-asyncio>=1.3.3\n",
            "  Downloading nest_asyncio-1.5.6-py3-none-any.whl (5.2 kB)\n",
            "Requirement already satisfied: future>=0.15.2 in /usr/local/lib/python3.8/dist-packages (from vaex-core<4.17,>=4.16.0->vaex) (0.16.0)\n",
            "Requirement already satisfied: tabulate>=0.8.3 in /usr/local/lib/python3.8/dist-packages (from vaex-core<4.17,>=4.16.0->vaex) (0.8.10)\n",
            "Requirement already satisfied: h5py>=2.9 in /usr/local/lib/python3.8/dist-packages (from vaex-hdf5<0.15,>=0.13.0->vaex) (3.1.0)\n",
            "Collecting ipyvuetify<2,>=1.2.2\n",
            "  Downloading ipyvuetify-1.8.4-py2.py3-none-any.whl (11.7 MB)\n",
            "\u001b[2K     \u001b[90m━━━━━━━━━━━━━━━━━━━━━━━━━━━━━━━━━━━━━━━━\u001b[0m \u001b[32m11.7/11.7 MB\u001b[0m \u001b[31m85.1 MB/s\u001b[0m eta \u001b[36m0:00:00\u001b[0m\n",
            "\u001b[?25hCollecting ipympl\n",
            "  Downloading ipympl-0.9.2-py2.py3-none-any.whl (510 kB)\n",
            "\u001b[2K     \u001b[90m━━━━━━━━━━━━━━━━━━━━━━━━━━━━━━━━━━━━━━\u001b[0m \u001b[32m510.3/510.3 KB\u001b[0m \u001b[31m47.4 MB/s\u001b[0m eta \u001b[36m0:00:00\u001b[0m\n",
            "\u001b[?25hCollecting ipyvolume>=0.4\n",
            "  Downloading ipyvolume-0.6.0-py3-none-any.whl (1.6 MB)\n",
            "\u001b[2K     \u001b[90m━━━━━━━━━━━━━━━━━━━━━━━━━━━━━━━━━━━━━━━━\u001b[0m \u001b[32m1.6/1.6 MB\u001b[0m \u001b[31m57.1 MB/s\u001b[0m eta \u001b[36m0:00:00\u001b[0m\n",
            "\u001b[?25hCollecting bqplot>=0.10.1\n",
            "  Downloading bqplot-0.12.36-py2.py3-none-any.whl (1.2 MB)\n",
            "\u001b[2K     \u001b[90m━━━━━━━━━━━━━━━━━━━━━━━━━━━━━━━━━━━━━━━━\u001b[0m \u001b[32m1.2/1.2 MB\u001b[0m \u001b[31m72.5 MB/s\u001b[0m eta \u001b[36m0:00:00\u001b[0m\n",
            "\u001b[?25hCollecting ipyleaflet\n",
            "  Downloading ipyleaflet-0.17.2-py3-none-any.whl (3.7 MB)\n",
            "\u001b[2K     \u001b[90m━━━━━━━━━━━━━━━━━━━━━━━━━━━━━━━━━━━━━━━━\u001b[0m \u001b[32m3.7/3.7 MB\u001b[0m \u001b[31m56.7 MB/s\u001b[0m eta \u001b[36m0:00:00\u001b[0m\n",
            "\u001b[?25hRequirement already satisfied: xarray in /usr/local/lib/python3.8/dist-packages (from vaex-jupyter<0.9,>=0.8.1->vaex) (2022.12.0)\n",
            "Requirement already satisfied: jinja2 in /usr/local/lib/python3.8/dist-packages (from vaex-ml<0.19,>=0.18.1->vaex) (2.11.3)\n",
            "Requirement already satisfied: numba in /usr/local/lib/python3.8/dist-packages (from vaex-ml<0.19,>=0.18.1->vaex) (0.56.4)\n",
            "Requirement already satisfied: traitlets in /usr/local/lib/python3.8/dist-packages (from vaex-ml<0.19,>=0.18.1->vaex) (5.7.1)\n",
            "Requirement already satisfied: cachetools in /usr/local/lib/python3.8/dist-packages (from vaex-server<0.9,>=0.8.1->vaex) (5.2.1)\n",
            "Requirement already satisfied: tornado>4.1 in /usr/local/lib/python3.8/dist-packages (from vaex-server<0.9,>=0.8.1->vaex) (6.0.4)\n",
            "Collecting fastapi\n",
            "  Downloading fastapi-0.89.1-py3-none-any.whl (55 kB)\n",
            "\u001b[2K     \u001b[90m━━━━━━━━━━━━━━━━━━━━━━━━━━━━━━━━━━━━━━━━\u001b[0m \u001b[32m55.8/55.8 KB\u001b[0m \u001b[31m6.3 MB/s\u001b[0m eta \u001b[36m0:00:00\u001b[0m\n",
            "\u001b[?25hCollecting uvicorn[standard]\n",
            "  Downloading uvicorn-0.20.0-py3-none-any.whl (56 kB)\n",
            "\u001b[2K     \u001b[90m━━━━━━━━━━━━━━━━━━━━━━━━━━━━━━━━━━━━━━━━\u001b[0m \u001b[32m56.9/56.9 KB\u001b[0m \u001b[31m6.3 MB/s\u001b[0m eta \u001b[36m0:00:00\u001b[0m\n",
            "\u001b[?25hRequirement already satisfied: pillow in /usr/local/lib/python3.8/dist-packages (from vaex-viz<0.6,>=0.5.4->vaex) (7.1.2)\n",
            "Requirement already satisfied: matplotlib>=1.3.1 in /usr/local/lib/python3.8/dist-packages (from vaex-viz<0.6,>=0.5.4->vaex) (3.2.2)\n",
            "Requirement already satisfied: ipywidgets<9,>=7.5.0 in /usr/local/lib/python3.8/dist-packages (from bqplot>=0.10.1->vaex-jupyter<0.9,>=0.8.1->vaex) (7.7.1)\n",
            "Collecting traittypes>=0.0.6\n",
            "  Downloading traittypes-0.2.1-py2.py3-none-any.whl (8.6 kB)\n",
            "Requirement already satisfied: fsspec>=0.6.0 in /usr/local/lib/python3.8/dist-packages (from dask!=2022.4.0->vaex-core<4.17,>=4.16.0->vaex) (2022.11.0)\n",
            "Requirement already satisfied: packaging>=20.0 in /usr/local/lib/python3.8/dist-packages (from dask!=2022.4.0->vaex-core<4.17,>=4.16.0->vaex) (21.3)\n",
            "Requirement already satisfied: partd>=0.3.10 in /usr/local/lib/python3.8/dist-packages (from dask!=2022.4.0->vaex-core<4.17,>=4.16.0->vaex) (1.3.0)\n",
            "Requirement already satisfied: toolz>=0.8.2 in /usr/local/lib/python3.8/dist-packages (from dask!=2022.4.0->vaex-core<4.17,>=4.16.0->vaex) (0.12.0)\n",
            "Collecting ipywebrtc\n",
            "  Downloading ipywebrtc-0.6.0-py2.py3-none-any.whl (260 kB)\n",
            "\u001b[2K     \u001b[90m━━━━━━━━━━━━━━━━━━━━━━━━━━━━━━━━━━━━━━\u001b[0m \u001b[32m260.7/260.7 KB\u001b[0m \u001b[31m23.2 MB/s\u001b[0m eta \u001b[36m0:00:00\u001b[0m\n",
            "\u001b[?25hCollecting ipyvue>=1.7.0\n",
            "  Downloading ipyvue-1.8.0-py2.py3-none-any.whl (2.7 MB)\n",
            "\u001b[2K     \u001b[90m━━━━━━━━━━━━━━━━━━━━━━━━━━━━━━━━━━━━━━━━\u001b[0m \u001b[32m2.7/2.7 MB\u001b[0m \u001b[31m27.9 MB/s\u001b[0m eta \u001b[36m0:00:00\u001b[0m\n",
            "\u001b[?25hCollecting pythreejs>=2.4.0\n",
            "  Downloading pythreejs-2.4.1-py3-none-any.whl (3.3 MB)\n",
            "\u001b[2K     \u001b[90m━━━━━━━━━━━━━━━━━━━━━━━━━━━━━━━━━━━━━━━━\u001b[0m \u001b[32m3.3/3.3 MB\u001b[0m \u001b[31m67.9 MB/s\u001b[0m eta \u001b[36m0:00:00\u001b[0m\n",
            "\u001b[?25hRequirement already satisfied: kiwisolver>=1.0.1 in /usr/local/lib/python3.8/dist-packages (from matplotlib>=1.3.1->vaex-viz<0.6,>=0.5.4->vaex) (1.4.4)\n",
            "Requirement already satisfied: python-dateutil>=2.1 in /usr/local/lib/python3.8/dist-packages (from matplotlib>=1.3.1->vaex-viz<0.6,>=0.5.4->vaex) (2.8.2)\n",
            "Requirement already satisfied: cycler>=0.10 in /usr/local/lib/python3.8/dist-packages (from matplotlib>=1.3.1->vaex-viz<0.6,>=0.5.4->vaex) (0.11.0)\n",
            "Requirement already satisfied: pyparsing!=2.0.4,!=2.1.2,!=2.1.6,>=2.0.1 in /usr/local/lib/python3.8/dist-packages (from matplotlib>=1.3.1->vaex-viz<0.6,>=0.5.4->vaex) (3.0.9)\n",
            "Requirement already satisfied: pytz>=2017.3 in /usr/local/lib/python3.8/dist-packages (from pandas->vaex-core<4.17,>=4.16.0->vaex) (2022.7)\n",
            "Requirement already satisfied: typing-extensions>=4.2.0 in /usr/local/lib/python3.8/dist-packages (from pydantic>=1.8.0->vaex-core<4.17,>=4.16.0->vaex) (4.4.0)\n",
            "Requirement already satisfied: pyerfa>=1.7.3 in /usr/local/lib/python3.8/dist-packages (from astropy->vaex-astro<0.10,>=0.9.3->vaex) (2.0.0.1)\n",
            "Collecting starlette==0.22.0\n",
            "  Downloading starlette-0.22.0-py3-none-any.whl (64 kB)\n",
            "\u001b[2K     \u001b[90m━━━━━━━━━━━━━━━━━━━━━━━━━━━━━━━━━━━━━━━━\u001b[0m \u001b[32m64.3/64.3 KB\u001b[0m \u001b[31m6.9 MB/s\u001b[0m eta \u001b[36m0:00:00\u001b[0m\n",
            "\u001b[?25hCollecting anyio<5,>=3.4.0\n",
            "  Downloading anyio-3.6.2-py3-none-any.whl (80 kB)\n",
            "\u001b[2K     \u001b[90m━━━━━━━━━━━━━━━━━━━━━━━━━━━━━━━━━━━━━━━━\u001b[0m \u001b[32m80.6/80.6 KB\u001b[0m \u001b[31m9.6 MB/s\u001b[0m eta \u001b[36m0:00:00\u001b[0m\n",
            "\u001b[?25hRequirement already satisfied: branca>=0.5.0 in /usr/local/lib/python3.8/dist-packages (from ipyleaflet->vaex-jupyter<0.9,>=0.8.1->vaex) (0.6.0)\n",
            "Collecting xyzservices>=2021.8.1\n",
            "  Downloading xyzservices-2022.9.0-py3-none-any.whl (55 kB)\n",
            "\u001b[2K     \u001b[90m━━━━━━━━━━━━━━━━━━━━━━━━━━━━━━━━━━━━━━━━\u001b[0m \u001b[32m55.9/55.9 KB\u001b[0m \u001b[31m6.5 MB/s\u001b[0m eta \u001b[36m0:00:00\u001b[0m\n",
            "\u001b[?25hCollecting matplotlib>=1.3.1\n",
            "  Downloading matplotlib-3.6.3-cp38-cp38-manylinux_2_12_x86_64.manylinux2010_x86_64.whl (9.4 MB)\n",
            "\u001b[2K     \u001b[90m━━━━━━━━━━━━━━━━━━━━━━━━━━━━━━━━━━━━━━━━\u001b[0m \u001b[32m9.4/9.4 MB\u001b[0m \u001b[31m64.7 MB/s\u001b[0m eta \u001b[36m0:00:00\u001b[0m\n",
            "\u001b[?25hRequirement already satisfied: ipython-genutils in /usr/local/lib/python3.8/dist-packages (from ipympl->vaex-jupyter<0.9,>=0.8.1->vaex) (0.2.0)\n",
            "Requirement already satisfied: ipython<9 in /usr/local/lib/python3.8/dist-packages (from ipympl->vaex-jupyter<0.9,>=0.8.1->vaex) (7.9.0)\n",
            "Collecting contourpy>=1.0.1\n",
            "  Downloading contourpy-1.0.7-cp38-cp38-manylinux_2_17_x86_64.manylinux2014_x86_64.whl (300 kB)\n",
            "\u001b[2K     \u001b[90m━━━━━━━━━━━━━━━━━━━━━━━━━━━━━━━━━━━━━━\u001b[0m \u001b[32m300.0/300.0 KB\u001b[0m \u001b[31m16.1 MB/s\u001b[0m eta \u001b[36m0:00:00\u001b[0m\n",
            "\u001b[?25hCollecting fonttools>=4.22.0\n",
            "  Downloading fonttools-4.38.0-py3-none-any.whl (965 kB)\n",
            "\u001b[2K     \u001b[90m━━━━━━━━━━━━━━━━━━━━━━━━━━━━━━━━━━━━━━\u001b[0m \u001b[32m965.4/965.4 KB\u001b[0m \u001b[31m48.8 MB/s\u001b[0m eta \u001b[36m0:00:00\u001b[0m\n",
            "\u001b[?25hRequirement already satisfied: MarkupSafe>=0.23 in /usr/local/lib/python3.8/dist-packages (from jinja2->vaex-ml<0.19,>=0.18.1->vaex) (2.0.1)\n",
            "Requirement already satisfied: llvmlite<0.40,>=0.39.0dev0 in /usr/local/lib/python3.8/dist-packages (from numba->vaex-ml<0.19,>=0.18.1->vaex) (0.39.1)\n",
            "Requirement already satisfied: setuptools in /usr/local/lib/python3.8/dist-packages (from numba->vaex-ml<0.19,>=0.18.1->vaex) (57.4.0)\n",
            "Requirement already satisfied: importlib-metadata in /usr/local/lib/python3.8/dist-packages (from numba->vaex-ml<0.19,>=0.18.1->vaex) (6.0.0)\n",
            "Requirement already satisfied: python-utils>=2.3.0 in /usr/local/lib/python3.8/dist-packages (from progressbar2->vaex-core<4.17,>=4.16.0->vaex) (3.4.5)\n",
            "Requirement already satisfied: urllib3<1.27,>=1.21.1 in /usr/local/lib/python3.8/dist-packages (from requests->vaex-core<4.17,>=4.16.0->vaex) (1.24.3)\n",
            "Requirement already satisfied: chardet<5,>=3.0.2 in /usr/local/lib/python3.8/dist-packages (from requests->vaex-core<4.17,>=4.16.0->vaex) (4.0.0)\n",
            "Requirement already satisfied: certifi>=2017.4.17 in /usr/local/lib/python3.8/dist-packages (from requests->vaex-core<4.17,>=4.16.0->vaex) (2022.12.7)\n",
            "Requirement already satisfied: idna<3,>=2.5 in /usr/local/lib/python3.8/dist-packages (from requests->vaex-core<4.17,>=4.16.0->vaex) (2.10)\n",
            "Collecting pygments<3.0.0,>=2.14.0\n",
            "  Downloading Pygments-2.14.0-py3-none-any.whl (1.1 MB)\n",
            "\u001b[2K     \u001b[90m━━━━━━━━━━━━━━━━━━━━━━━━━━━━━━━━━━━━━━━━\u001b[0m \u001b[32m1.1/1.1 MB\u001b[0m \u001b[31m34.4 MB/s\u001b[0m eta \u001b[36m0:00:00\u001b[0m\n",
            "\u001b[?25hCollecting markdown-it-py<3.0.0,>=2.1.0\n",
            "  Downloading markdown_it_py-2.1.0-py3-none-any.whl (84 kB)\n",
            "\u001b[2K     \u001b[90m━━━━━━━━━━━━━━━━━━━━━━━━━━━━━━━━━━━━━━━━\u001b[0m \u001b[32m84.5/84.5 KB\u001b[0m \u001b[31m10.2 MB/s\u001b[0m eta \u001b[36m0:00:00\u001b[0m\n",
            "\u001b[?25hRequirement already satisfied: click>=7.0 in /usr/local/lib/python3.8/dist-packages (from uvicorn[standard]->vaex-server<0.9,>=0.8.1->vaex) (7.1.2)\n",
            "Collecting h11>=0.8\n",
            "  Downloading h11-0.14.0-py3-none-any.whl (58 kB)\n",
            "\u001b[2K     \u001b[90m━━━━━━━━━━━━━━━━━━━━━━━━━━━━━━━━━━━━━━━━\u001b[0m \u001b[32m58.3/58.3 KB\u001b[0m \u001b[31m6.9 MB/s\u001b[0m eta \u001b[36m0:00:00\u001b[0m\n",
            "\u001b[?25hCollecting httptools>=0.5.0\n",
            "  Downloading httptools-0.5.0-cp38-cp38-manylinux_2_5_x86_64.manylinux1_x86_64.manylinux_2_17_x86_64.manylinux2014_x86_64.whl (427 kB)\n",
            "\u001b[2K     \u001b[90m━━━━━━━━━━━━━━━━━━━━━━━━━━━━━━━━━━━━━━\u001b[0m \u001b[32m427.8/427.8 KB\u001b[0m \u001b[31m16.6 MB/s\u001b[0m eta \u001b[36m0:00:00\u001b[0m\n",
            "\u001b[?25hCollecting python-dotenv>=0.13\n",
            "  Downloading python_dotenv-0.21.1-py3-none-any.whl (19 kB)\n",
            "Collecting websockets>=10.4\n",
            "  Downloading websockets-10.4-cp38-cp38-manylinux_2_5_x86_64.manylinux1_x86_64.manylinux_2_17_x86_64.manylinux2014_x86_64.whl (106 kB)\n",
            "\u001b[2K     \u001b[90m━━━━━━━━━━━━━━━━━━━━━━━━━━━━━━━━━━━━━━\u001b[0m \u001b[32m107.0/107.0 KB\u001b[0m \u001b[31m12.4 MB/s\u001b[0m eta \u001b[36m0:00:00\u001b[0m\n",
            "\u001b[?25hCollecting uvloop!=0.15.0,!=0.15.1,>=0.14.0\n",
            "  Downloading uvloop-0.17.0-cp38-cp38-manylinux_2_17_x86_64.manylinux2014_x86_64.whl (4.6 MB)\n",
            "\u001b[2K     \u001b[90m━━━━━━━━━━━━━━━━━━━━━━━━━━━━━━━━━━━━━━━━\u001b[0m \u001b[32m4.6/4.6 MB\u001b[0m \u001b[31m67.4 MB/s\u001b[0m eta \u001b[36m0:00:00\u001b[0m\n",
            "\u001b[?25hCollecting watchfiles>=0.13\n",
            "  Downloading watchfiles-0.18.1-cp37-abi3-manylinux_2_17_x86_64.manylinux2014_x86_64.whl (1.2 MB)\n",
            "\u001b[2K     \u001b[90m━━━━━━━━━━━━━━━━━━━━━━━━━━━━━━━━━━━━━━━━\u001b[0m \u001b[32m1.2/1.2 MB\u001b[0m \u001b[31m48.6 MB/s\u001b[0m eta \u001b[36m0:00:00\u001b[0m\n",
            "\u001b[?25hRequirement already satisfied: backcall in /usr/local/lib/python3.8/dist-packages (from ipython<9->ipympl->vaex-jupyter<0.9,>=0.8.1->vaex) (0.2.0)\n",
            "Requirement already satisfied: prompt-toolkit<2.1.0,>=2.0.0 in /usr/local/lib/python3.8/dist-packages (from ipython<9->ipympl->vaex-jupyter<0.9,>=0.8.1->vaex) (2.0.10)\n",
            "Requirement already satisfied: pexpect in /usr/local/lib/python3.8/dist-packages (from ipython<9->ipympl->vaex-jupyter<0.9,>=0.8.1->vaex) (4.8.0)\n",
            "Collecting jedi>=0.10\n",
            "  Downloading jedi-0.18.2-py2.py3-none-any.whl (1.6 MB)\n",
            "\u001b[2K     \u001b[90m━━━━━━━━━━━━━━━━━━━━━━━━━━━━━━━━━━━━━━━━\u001b[0m \u001b[32m1.6/1.6 MB\u001b[0m \u001b[31m29.8 MB/s\u001b[0m eta \u001b[36m0:00:00\u001b[0m\n",
            "\u001b[?25hRequirement already satisfied: pickleshare in /usr/local/lib/python3.8/dist-packages (from ipython<9->ipympl->vaex-jupyter<0.9,>=0.8.1->vaex) (0.7.5)\n",
            "Requirement already satisfied: decorator in /usr/local/lib/python3.8/dist-packages (from ipython<9->ipympl->vaex-jupyter<0.9,>=0.8.1->vaex) (4.4.2)\n",
            "Requirement already satisfied: ipykernel>=4.5.1 in /usr/local/lib/python3.8/dist-packages (from ipywidgets<9,>=7.5.0->bqplot>=0.10.1->vaex-jupyter<0.9,>=0.8.1->vaex) (5.3.4)\n",
            "Requirement already satisfied: jupyterlab-widgets>=1.0.0 in /usr/local/lib/python3.8/dist-packages (from ipywidgets<9,>=7.5.0->bqplot>=0.10.1->vaex-jupyter<0.9,>=0.8.1->vaex) (3.0.5)\n",
            "Requirement already satisfied: widgetsnbextension~=3.6.0 in /usr/local/lib/python3.8/dist-packages (from ipywidgets<9,>=7.5.0->bqplot>=0.10.1->vaex-jupyter<0.9,>=0.8.1->vaex) (3.6.1)\n",
            "Collecting mdurl~=0.1\n",
            "  Downloading mdurl-0.1.2-py3-none-any.whl (10.0 kB)\n",
            "Requirement already satisfied: locket in /usr/local/lib/python3.8/dist-packages (from partd>=0.3.10->dask!=2022.4.0->vaex-core<4.17,>=4.16.0->vaex) (1.0.0)\n",
            "Collecting ipydatawidgets>=1.1.1\n",
            "  Downloading ipydatawidgets-4.3.2-py2.py3-none-any.whl (271 kB)\n",
            "\u001b[2K     \u001b[90m━━━━━━━━━━━━━━━━━━━━━━━━━━━━━━━━━━━━━━\u001b[0m \u001b[32m271.6/271.6 KB\u001b[0m \u001b[31m25.7 MB/s\u001b[0m eta \u001b[36m0:00:00\u001b[0m\n",
            "\u001b[?25hRequirement already satisfied: zipp>=0.5 in /usr/local/lib/python3.8/dist-packages (from importlib-metadata->numba->vaex-ml<0.19,>=0.18.1->vaex) (3.11.0)\n",
            "Collecting sniffio>=1.1\n",
            "  Downloading sniffio-1.3.0-py3-none-any.whl (10 kB)\n",
            "Requirement already satisfied: jupyter-client in /usr/local/lib/python3.8/dist-packages (from ipykernel>=4.5.1->ipywidgets<9,>=7.5.0->bqplot>=0.10.1->vaex-jupyter<0.9,>=0.8.1->vaex) (6.1.12)\n",
            "Requirement already satisfied: parso<0.9.0,>=0.8.0 in /usr/local/lib/python3.8/dist-packages (from jedi>=0.10->ipython<9->ipympl->vaex-jupyter<0.9,>=0.8.1->vaex) (0.8.3)\n",
            "Requirement already satisfied: wcwidth in /usr/local/lib/python3.8/dist-packages (from prompt-toolkit<2.1.0,>=2.0.0->ipython<9->ipympl->vaex-jupyter<0.9,>=0.8.1->vaex) (0.2.5)\n",
            "Requirement already satisfied: notebook>=4.4.1 in /usr/local/lib/python3.8/dist-packages (from widgetsnbextension~=3.6.0->ipywidgets<9,>=7.5.0->bqplot>=0.10.1->vaex-jupyter<0.9,>=0.8.1->vaex) (5.7.16)\n",
            "Requirement already satisfied: ptyprocess>=0.5 in /usr/local/lib/python3.8/dist-packages (from pexpect->ipython<9->ipympl->vaex-jupyter<0.9,>=0.8.1->vaex) (0.7.0)\n",
            "Requirement already satisfied: terminado>=0.8.1 in /usr/local/lib/python3.8/dist-packages (from notebook>=4.4.1->widgetsnbextension~=3.6.0->ipywidgets<9,>=7.5.0->bqplot>=0.10.1->vaex-jupyter<0.9,>=0.8.1->vaex) (0.13.3)\n",
            "Requirement already satisfied: nbformat in /usr/local/lib/python3.8/dist-packages (from notebook>=4.4.1->widgetsnbextension~=3.6.0->ipywidgets<9,>=7.5.0->bqplot>=0.10.1->vaex-jupyter<0.9,>=0.8.1->vaex) (5.7.1)\n",
            "Requirement already satisfied: nbconvert<6.0 in /usr/local/lib/python3.8/dist-packages (from notebook>=4.4.1->widgetsnbextension~=3.6.0->ipywidgets<9,>=7.5.0->bqplot>=0.10.1->vaex-jupyter<0.9,>=0.8.1->vaex) (5.6.1)\n",
            "Requirement already satisfied: jupyter-core>=4.4.0 in /usr/local/lib/python3.8/dist-packages (from notebook>=4.4.1->widgetsnbextension~=3.6.0->ipywidgets<9,>=7.5.0->bqplot>=0.10.1->vaex-jupyter<0.9,>=0.8.1->vaex) (5.1.3)\n",
            "Requirement already satisfied: pyzmq>=17 in /usr/local/lib/python3.8/dist-packages (from notebook>=4.4.1->widgetsnbextension~=3.6.0->ipywidgets<9,>=7.5.0->bqplot>=0.10.1->vaex-jupyter<0.9,>=0.8.1->vaex) (23.2.1)\n",
            "Requirement already satisfied: prometheus-client in /usr/local/lib/python3.8/dist-packages (from notebook>=4.4.1->widgetsnbextension~=3.6.0->ipywidgets<9,>=7.5.0->bqplot>=0.10.1->vaex-jupyter<0.9,>=0.8.1->vaex) (0.15.0)\n",
            "Requirement already satisfied: Send2Trash in /usr/local/lib/python3.8/dist-packages (from notebook>=4.4.1->widgetsnbextension~=3.6.0->ipywidgets<9,>=7.5.0->bqplot>=0.10.1->vaex-jupyter<0.9,>=0.8.1->vaex) (1.8.0)\n",
            "Requirement already satisfied: platformdirs>=2.5 in /usr/local/lib/python3.8/dist-packages (from jupyter-core>=4.4.0->notebook>=4.4.1->widgetsnbextension~=3.6.0->ipywidgets<9,>=7.5.0->bqplot>=0.10.1->vaex-jupyter<0.9,>=0.8.1->vaex) (2.6.2)\n",
            "Requirement already satisfied: defusedxml in /usr/local/lib/python3.8/dist-packages (from nbconvert<6.0->notebook>=4.4.1->widgetsnbextension~=3.6.0->ipywidgets<9,>=7.5.0->bqplot>=0.10.1->vaex-jupyter<0.9,>=0.8.1->vaex) (0.7.1)\n",
            "Requirement already satisfied: bleach in /usr/local/lib/python3.8/dist-packages (from nbconvert<6.0->notebook>=4.4.1->widgetsnbextension~=3.6.0->ipywidgets<9,>=7.5.0->bqplot>=0.10.1->vaex-jupyter<0.9,>=0.8.1->vaex) (5.0.1)\n",
            "Requirement already satisfied: testpath in /usr/local/lib/python3.8/dist-packages (from nbconvert<6.0->notebook>=4.4.1->widgetsnbextension~=3.6.0->ipywidgets<9,>=7.5.0->bqplot>=0.10.1->vaex-jupyter<0.9,>=0.8.1->vaex) (0.6.0)\n",
            "Requirement already satisfied: pandocfilters>=1.4.1 in /usr/local/lib/python3.8/dist-packages (from nbconvert<6.0->notebook>=4.4.1->widgetsnbextension~=3.6.0->ipywidgets<9,>=7.5.0->bqplot>=0.10.1->vaex-jupyter<0.9,>=0.8.1->vaex) (1.5.0)\n",
            "Requirement already satisfied: entrypoints>=0.2.2 in /usr/local/lib/python3.8/dist-packages (from nbconvert<6.0->notebook>=4.4.1->widgetsnbextension~=3.6.0->ipywidgets<9,>=7.5.0->bqplot>=0.10.1->vaex-jupyter<0.9,>=0.8.1->vaex) (0.4)\n",
            "Requirement already satisfied: mistune<2,>=0.8.1 in /usr/local/lib/python3.8/dist-packages (from nbconvert<6.0->notebook>=4.4.1->widgetsnbextension~=3.6.0->ipywidgets<9,>=7.5.0->bqplot>=0.10.1->vaex-jupyter<0.9,>=0.8.1->vaex) (0.8.4)\n",
            "Requirement already satisfied: jsonschema>=2.6 in /usr/local/lib/python3.8/dist-packages (from nbformat->notebook>=4.4.1->widgetsnbextension~=3.6.0->ipywidgets<9,>=7.5.0->bqplot>=0.10.1->vaex-jupyter<0.9,>=0.8.1->vaex) (4.3.3)\n",
            "Requirement already satisfied: fastjsonschema in /usr/local/lib/python3.8/dist-packages (from nbformat->notebook>=4.4.1->widgetsnbextension~=3.6.0->ipywidgets<9,>=7.5.0->bqplot>=0.10.1->vaex-jupyter<0.9,>=0.8.1->vaex) (2.16.2)\n",
            "Requirement already satisfied: attrs>=17.4.0 in /usr/local/lib/python3.8/dist-packages (from jsonschema>=2.6->nbformat->notebook>=4.4.1->widgetsnbextension~=3.6.0->ipywidgets<9,>=7.5.0->bqplot>=0.10.1->vaex-jupyter<0.9,>=0.8.1->vaex) (22.2.0)\n",
            "Requirement already satisfied: pyrsistent!=0.17.0,!=0.17.1,!=0.17.2,>=0.14.0 in /usr/local/lib/python3.8/dist-packages (from jsonschema>=2.6->nbformat->notebook>=4.4.1->widgetsnbextension~=3.6.0->ipywidgets<9,>=7.5.0->bqplot>=0.10.1->vaex-jupyter<0.9,>=0.8.1->vaex) (0.19.3)\n",
            "Requirement already satisfied: importlib-resources>=1.4.0 in /usr/local/lib/python3.8/dist-packages (from jsonschema>=2.6->nbformat->notebook>=4.4.1->widgetsnbextension~=3.6.0->ipywidgets<9,>=7.5.0->bqplot>=0.10.1->vaex-jupyter<0.9,>=0.8.1->vaex) (5.10.2)\n",
            "Requirement already satisfied: webencodings in /usr/local/lib/python3.8/dist-packages (from bleach->nbconvert<6.0->notebook>=4.4.1->widgetsnbextension~=3.6.0->ipywidgets<9,>=7.5.0->bqplot>=0.10.1->vaex-jupyter<0.9,>=0.8.1->vaex) (0.5.1)\n",
            "Building wheels for collected packages: aplus\n",
            "  Building wheel for aplus (setup.py) ... \u001b[?25l\u001b[?25hdone\n",
            "  Created wheel for aplus: filename=aplus-0.11.0-py3-none-any.whl size=4408 sha256=52a0013acfdf6ee05bee4ad40410b09c272058473a9926a2a14970eed4df7033\n",
            "  Stored in directory: /root/.cache/pip/wheels/de/93/23/3db69e1003030a764c9827dc02137119ec5e6e439afd64eebb\n",
            "Successfully built aplus\n",
            "Installing collected packages: ipywebrtc, blake3, aplus, xyzservices, websockets, uvloop, traittypes, sniffio, python-dotenv, pygments, nest-asyncio, mdurl, jedi, httptools, h11, frozendict, fonttools, contourpy, uvicorn, matplotlib, markdown-it-py, anyio, watchfiles, starlette, rich, vaex-core, fastapi, vaex-viz, vaex-server, vaex-ml, vaex-hdf5, vaex-astro, ipyvue, ipympl, ipyleaflet, ipydatawidgets, bqplot, pythreejs, ipyvuetify, ipyvolume, vaex-jupyter, vaex\n",
            "  Attempting uninstall: pygments\n",
            "    Found existing installation: Pygments 2.6.1\n",
            "    Uninstalling Pygments-2.6.1:\n",
            "      Successfully uninstalled Pygments-2.6.1\n",
            "  Attempting uninstall: matplotlib\n",
            "    Found existing installation: matplotlib 3.2.2\n",
            "    Uninstalling matplotlib-3.2.2:\n",
            "      Successfully uninstalled matplotlib-3.2.2\n",
            "Successfully installed anyio-3.6.2 aplus-0.11.0 blake3-0.3.3 bqplot-0.12.36 contourpy-1.0.7 fastapi-0.89.1 fonttools-4.38.0 frozendict-2.3.4 h11-0.14.0 httptools-0.5.0 ipydatawidgets-4.3.2 ipyleaflet-0.17.2 ipympl-0.9.2 ipyvolume-0.6.0 ipyvue-1.8.0 ipyvuetify-1.8.4 ipywebrtc-0.6.0 jedi-0.18.2 markdown-it-py-2.1.0 matplotlib-3.6.3 mdurl-0.1.2 nest-asyncio-1.5.6 pygments-2.14.0 python-dotenv-0.21.1 pythreejs-2.4.1 rich-13.3.1 sniffio-1.3.0 starlette-0.22.0 traittypes-0.2.1 uvicorn-0.20.0 uvloop-0.17.0 vaex-4.16.0 vaex-astro-0.9.3 vaex-core-4.16.1 vaex-hdf5-0.14.1 vaex-jupyter-0.8.1 vaex-ml-0.18.1 vaex-server-0.8.1 vaex-viz-0.5.4 watchfiles-0.18.1 websockets-10.4 xyzservices-2022.9.0\n"
          ]
        },
        {
          "output_type": "display_data",
          "data": {
            "application/vnd.colab-display-data+json": {
              "pip_warning": {
                "packages": [
                  "matplotlib",
                  "mpl_toolkits",
                  "pygments"
                ]
              }
            }
          },
          "metadata": {}
        },
        {
          "output_type": "stream",
          "name": "stdout",
          "text": [
            "Looking in indexes: https://pypi.org/simple, https://us-python.pkg.dev/colab-wheels/public/simple/\n",
            "Requirement already satisfied: vaex-viz in /usr/local/lib/python3.8/dist-packages (0.5.4)\n",
            "Requirement already satisfied: matplotlib>=1.3.1 in /usr/local/lib/python3.8/dist-packages (from vaex-viz) (3.6.3)\n",
            "Requirement already satisfied: vaex-core<5,>=4.0.0 in /usr/local/lib/python3.8/dist-packages (from vaex-viz) (4.16.1)\n",
            "Requirement already satisfied: pillow in /usr/local/lib/python3.8/dist-packages (from vaex-viz) (7.1.2)\n",
            "Requirement already satisfied: fonttools>=4.22.0 in /usr/local/lib/python3.8/dist-packages (from matplotlib>=1.3.1->vaex-viz) (4.38.0)\n",
            "Requirement already satisfied: cycler>=0.10 in /usr/local/lib/python3.8/dist-packages (from matplotlib>=1.3.1->vaex-viz) (0.11.0)\n",
            "Requirement already satisfied: contourpy>=1.0.1 in /usr/local/lib/python3.8/dist-packages (from matplotlib>=1.3.1->vaex-viz) (1.0.7)\n",
            "Requirement already satisfied: numpy>=1.19 in /usr/local/lib/python3.8/dist-packages (from matplotlib>=1.3.1->vaex-viz) (1.21.6)\n",
            "Requirement already satisfied: pyparsing>=2.2.1 in /usr/local/lib/python3.8/dist-packages (from matplotlib>=1.3.1->vaex-viz) (3.0.9)\n",
            "Requirement already satisfied: python-dateutil>=2.7 in /usr/local/lib/python3.8/dist-packages (from matplotlib>=1.3.1->vaex-viz) (2.8.2)\n",
            "Requirement already satisfied: packaging>=20.0 in /usr/local/lib/python3.8/dist-packages (from matplotlib>=1.3.1->vaex-viz) (21.3)\n",
            "Requirement already satisfied: kiwisolver>=1.0.1 in /usr/local/lib/python3.8/dist-packages (from matplotlib>=1.3.1->vaex-viz) (1.4.4)\n",
            "Requirement already satisfied: progressbar2 in /usr/local/lib/python3.8/dist-packages (from vaex-core<5,>=4.0.0->vaex-viz) (3.38.0)\n",
            "Requirement already satisfied: six in /usr/local/lib/python3.8/dist-packages (from vaex-core<5,>=4.0.0->vaex-viz) (1.15.0)\n",
            "Requirement already satisfied: cloudpickle in /usr/local/lib/python3.8/dist-packages (from vaex-core<5,>=4.0.0->vaex-viz) (2.2.0)\n",
            "Requirement already satisfied: dask!=2022.4.0 in /usr/local/lib/python3.8/dist-packages (from vaex-core<5,>=4.0.0->vaex-viz) (2022.2.1)\n",
            "Requirement already satisfied: nest-asyncio>=1.3.3 in /usr/local/lib/python3.8/dist-packages (from vaex-core<5,>=4.0.0->vaex-viz) (1.5.6)\n",
            "Requirement already satisfied: pyarrow>=5.0.0 in /usr/local/lib/python3.8/dist-packages (from vaex-core<5,>=4.0.0->vaex-viz) (9.0.0)\n",
            "Requirement already satisfied: requests in /usr/local/lib/python3.8/dist-packages (from vaex-core<5,>=4.0.0->vaex-viz) (2.25.1)\n",
            "Requirement already satisfied: pandas in /usr/local/lib/python3.8/dist-packages (from vaex-core<5,>=4.0.0->vaex-viz) (1.3.5)\n",
            "Requirement already satisfied: frozendict!=2.2.0 in /usr/local/lib/python3.8/dist-packages (from vaex-core<5,>=4.0.0->vaex-viz) (2.3.4)\n",
            "Requirement already satisfied: blake3 in /usr/local/lib/python3.8/dist-packages (from vaex-core<5,>=4.0.0->vaex-viz) (0.3.3)\n",
            "Requirement already satisfied: future>=0.15.2 in /usr/local/lib/python3.8/dist-packages (from vaex-core<5,>=4.0.0->vaex-viz) (0.16.0)\n",
            "Requirement already satisfied: filelock in /usr/local/lib/python3.8/dist-packages (from vaex-core<5,>=4.0.0->vaex-viz) (3.9.0)\n",
            "Requirement already satisfied: pydantic>=1.8.0 in /usr/local/lib/python3.8/dist-packages (from vaex-core<5,>=4.0.0->vaex-viz) (1.10.4)\n",
            "Requirement already satisfied: aplus in /usr/local/lib/python3.8/dist-packages (from vaex-core<5,>=4.0.0->vaex-viz) (0.11.0)\n",
            "Requirement already satisfied: pyyaml in /usr/local/lib/python3.8/dist-packages (from vaex-core<5,>=4.0.0->vaex-viz) (6.0)\n",
            "Requirement already satisfied: tabulate>=0.8.3 in /usr/local/lib/python3.8/dist-packages (from vaex-core<5,>=4.0.0->vaex-viz) (0.8.10)\n",
            "Requirement already satisfied: rich in /usr/local/lib/python3.8/dist-packages (from vaex-core<5,>=4.0.0->vaex-viz) (13.3.1)\n",
            "Requirement already satisfied: fsspec>=0.6.0 in /usr/local/lib/python3.8/dist-packages (from dask!=2022.4.0->vaex-core<5,>=4.0.0->vaex-viz) (2022.11.0)\n",
            "Requirement already satisfied: partd>=0.3.10 in /usr/local/lib/python3.8/dist-packages (from dask!=2022.4.0->vaex-core<5,>=4.0.0->vaex-viz) (1.3.0)\n",
            "Requirement already satisfied: toolz>=0.8.2 in /usr/local/lib/python3.8/dist-packages (from dask!=2022.4.0->vaex-core<5,>=4.0.0->vaex-viz) (0.12.0)\n",
            "Requirement already satisfied: typing-extensions>=4.2.0 in /usr/local/lib/python3.8/dist-packages (from pydantic>=1.8.0->vaex-core<5,>=4.0.0->vaex-viz) (4.4.0)\n",
            "Requirement already satisfied: pytz>=2017.3 in /usr/local/lib/python3.8/dist-packages (from pandas->vaex-core<5,>=4.0.0->vaex-viz) (2022.7)\n",
            "Requirement already satisfied: python-utils>=2.3.0 in /usr/local/lib/python3.8/dist-packages (from progressbar2->vaex-core<5,>=4.0.0->vaex-viz) (3.4.5)\n",
            "Requirement already satisfied: certifi>=2017.4.17 in /usr/local/lib/python3.8/dist-packages (from requests->vaex-core<5,>=4.0.0->vaex-viz) (2022.12.7)\n",
            "Requirement already satisfied: idna<3,>=2.5 in /usr/local/lib/python3.8/dist-packages (from requests->vaex-core<5,>=4.0.0->vaex-viz) (2.10)\n",
            "Requirement already satisfied: chardet<5,>=3.0.2 in /usr/local/lib/python3.8/dist-packages (from requests->vaex-core<5,>=4.0.0->vaex-viz) (4.0.0)\n",
            "Requirement already satisfied: urllib3<1.27,>=1.21.1 in /usr/local/lib/python3.8/dist-packages (from requests->vaex-core<5,>=4.0.0->vaex-viz) (1.24.3)\n",
            "Requirement already satisfied: markdown-it-py<3.0.0,>=2.1.0 in /usr/local/lib/python3.8/dist-packages (from rich->vaex-core<5,>=4.0.0->vaex-viz) (2.1.0)\n",
            "Requirement already satisfied: pygments<3.0.0,>=2.14.0 in /usr/local/lib/python3.8/dist-packages (from rich->vaex-core<5,>=4.0.0->vaex-viz) (2.14.0)\n",
            "Requirement already satisfied: mdurl~=0.1 in /usr/local/lib/python3.8/dist-packages (from markdown-it-py<3.0.0,>=2.1.0->rich->vaex-core<5,>=4.0.0->vaex-viz) (0.1.2)\n",
            "Requirement already satisfied: locket in /usr/local/lib/python3.8/dist-packages (from partd>=0.3.10->dask!=2022.4.0->vaex-core<5,>=4.0.0->vaex-viz) (1.0.0)\n"
          ]
        }
      ],
      "source": [
        "!pip install vaex\n",
        "!pip install vaex-viz"
      ]
    },
    {
      "cell_type": "code",
      "execution_count": 7,
      "metadata": {
        "id": "Ep3FjAefzwxa"
      },
      "outputs": [],
      "source": [
        "import vaex as vx"
      ]
    },
    {
      "cell_type": "markdown",
      "metadata": {
        "id": "Ka99vIE4zfAP"
      },
      "source": [
        "**Pandas Library**"
      ]
    },
    {
      "cell_type": "code",
      "execution_count": 8,
      "metadata": {
        "id": "guEZhsOmewnE"
      },
      "outputs": [],
      "source": [
        "import pandas as pd\n",
        "import numpy as np\n",
        "import matplotlib.pyplot as plt\n",
        "import time\n",
        "from timeit import default_timer as timer"
      ]
    },
    {
      "cell_type": "markdown",
      "metadata": {
        "id": "kLoOmqNqyzuo"
      },
      "source": [
        "# Retrieve/Pulling Dataset from Google Drive"
      ]
    },
    {
      "cell_type": "code",
      "execution_count": 9,
      "metadata": {
        "colab": {
          "base_uri": "https://localhost:8080/"
        },
        "id": "pSCkjRx8bw5k",
        "outputId": "1db4e4fe-68d5-4e23-e3fa-22a139af583e"
      },
      "outputs": [
        {
          "output_type": "stream",
          "name": "stdout",
          "text": [
            "2017.csv\n",
            "2016.csv\n",
            "2018.csv\n"
          ]
        }
      ],
      "source": [
        "# Pull dataset from my google drive \n",
        "!pip install -U -q PyDrive\n",
        "from pydrive.auth import GoogleAuth\n",
        "from pydrive.drive import GoogleDrive\n",
        "from google.colab import auth\n",
        "from oauth2client.client import GoogleCredentials\n",
        "\n",
        "# Authenticate and create the PyDrive client.\n",
        "auth.authenticate_user()\n",
        "gauth = GoogleAuth()\n",
        "gauth.credentials = GoogleCredentials.get_application_default()\n",
        "drive = GoogleDrive(gauth)\n",
        "link = 'https://drive.google.com/drive/u/1/folders/1fpBzh5qnR0PkRfM3Ba23AoqzEKoMcqdi'\n",
        "# to get the id part of the file\n",
        "id = link.split(\"/\")[-2]\n",
        "downloaded = drive.CreateFile({'id':id})\n",
        "\n",
        "# Get the folder ID\n",
        "folder_id = '1fpBzh5qnR0PkRfM3Ba23AoqzEKoMcqdi'\n",
        "\n",
        "# Use the ListFile method to list all the files in the folder\n",
        "file_list = drive.ListFile({'q': \"'\" + folder_id + \"' in parents and trashed = false\"}).GetList()\n",
        "\n",
        "# Iterate through the list of files and download each one\n",
        "for file in file_list:\n",
        "    print(file['title'])\n",
        "    file_id = file['id']\n",
        "    downloaded = drive.CreateFile({'id': file_id})\n",
        "    downloaded.GetContentFile(file['title'])"
      ]
    },
    {
      "cell_type": "markdown",
      "metadata": {
        "id": "Tj52W6bDrjvL"
      },
      "source": [
        "# Reading Dataset into Dataframe"
      ]
    },
    {
      "cell_type": "markdown",
      "metadata": {
        "id": "mG3iyO-Iqlx-"
      },
      "source": [
        "**Reading The Dataset into a Dataframe:** Using *Koalas*\n",
        "\n",
        "\n",
        "*   Read all 3 files\n",
        "*   Combine/Merge the dataframe into a single dataframe\n",
        "\n"
      ]
    },
    {
      "cell_type": "code",
      "execution_count": 10,
      "metadata": {
        "colab": {
          "base_uri": "https://localhost:8080/",
          "height": 330
        },
        "id": "YJwk7GW9b0DG",
        "outputId": "7bea21a3-7670-4d21-a8fb-5b0b63e533e9"
      },
      "outputs": [
        {
          "output_type": "execute_result",
          "data": {
            "text/plain": [
              "     FL_DATE OP_CARRIER  OP_CARRIER_FL_NUM ORIGIN DEST  CRS_DEP_TIME  DEP_TIME  DEP_DELAY  TAXI_OUT  WHEELS_OFF  WHEELS_ON  TAXI_IN  CRS_ARR_TIME  ARR_TIME  ARR_DELAY  CANCELLED CANCELLATION_CODE  DIVERTED  CRS_ELAPSED_TIME  ACTUAL_ELAPSED_TIME  AIR_TIME  DISTANCE  CARRIER_DELAY  WEATHER_DELAY  NAS_DELAY  SECURITY_DELAY  LATE_AIRCRAFT_DELAY Unnamed: 27\n",
              "0 2016-01-01         DL               1248    DTW  LAX          1935    1935.0        0.0      23.0      1958.0     2107.0     13.0          2144    2120.0      -24.0        0.0              None       0.0             309.0                285.0     249.0    1979.0            NaN            NaN        NaN             NaN                  NaN        None\n",
              "1 2016-01-01         DL               1251    ATL  GRR          2125    2130.0        5.0      13.0      2143.0     2315.0      4.0          2321    2319.0       -2.0        0.0              None       0.0             116.0                109.0      92.0     640.0            NaN            NaN        NaN             NaN                  NaN        None\n",
              "2 2016-01-01         DL               1254    LAX  ATL          2255    2256.0        1.0      19.0      2315.0      542.0      5.0           600     547.0      -13.0        0.0              None       0.0             245.0                231.0     207.0    1947.0            NaN            NaN        NaN             NaN                  NaN        None\n",
              "3 2016-01-01         DL               1255    SLC  ATL          1656    1700.0        4.0      12.0      1712.0     2205.0      8.0          2229    2213.0      -16.0        0.0              None       0.0             213.0                193.0     173.0    1590.0            NaN            NaN        NaN             NaN                  NaN        None\n",
              "4 2016-01-01         DL               1256    BZN  MSP           900    1012.0       72.0      63.0      1115.0     1416.0      4.0          1216    1420.0      124.0        0.0              None       0.0             136.0                188.0     121.0     874.0           72.0            0.0       52.0             0.0                  0.0        None"
            ],
            "text/html": [
              "<div>\n",
              "<style scoped>\n",
              "    .dataframe tbody tr th:only-of-type {\n",
              "        vertical-align: middle;\n",
              "    }\n",
              "\n",
              "    .dataframe tbody tr th {\n",
              "        vertical-align: top;\n",
              "    }\n",
              "\n",
              "    .dataframe thead th {\n",
              "        text-align: right;\n",
              "    }\n",
              "</style>\n",
              "<table border=\"1\" class=\"dataframe\">\n",
              "  <thead>\n",
              "    <tr style=\"text-align: right;\">\n",
              "      <th></th>\n",
              "      <th>FL_DATE</th>\n",
              "      <th>OP_CARRIER</th>\n",
              "      <th>OP_CARRIER_FL_NUM</th>\n",
              "      <th>ORIGIN</th>\n",
              "      <th>DEST</th>\n",
              "      <th>CRS_DEP_TIME</th>\n",
              "      <th>DEP_TIME</th>\n",
              "      <th>DEP_DELAY</th>\n",
              "      <th>TAXI_OUT</th>\n",
              "      <th>WHEELS_OFF</th>\n",
              "      <th>WHEELS_ON</th>\n",
              "      <th>TAXI_IN</th>\n",
              "      <th>CRS_ARR_TIME</th>\n",
              "      <th>ARR_TIME</th>\n",
              "      <th>ARR_DELAY</th>\n",
              "      <th>CANCELLED</th>\n",
              "      <th>CANCELLATION_CODE</th>\n",
              "      <th>DIVERTED</th>\n",
              "      <th>CRS_ELAPSED_TIME</th>\n",
              "      <th>ACTUAL_ELAPSED_TIME</th>\n",
              "      <th>AIR_TIME</th>\n",
              "      <th>DISTANCE</th>\n",
              "      <th>CARRIER_DELAY</th>\n",
              "      <th>WEATHER_DELAY</th>\n",
              "      <th>NAS_DELAY</th>\n",
              "      <th>SECURITY_DELAY</th>\n",
              "      <th>LATE_AIRCRAFT_DELAY</th>\n",
              "      <th>Unnamed: 27</th>\n",
              "    </tr>\n",
              "  </thead>\n",
              "  <tbody>\n",
              "    <tr>\n",
              "      <th>0</th>\n",
              "      <td>2016-01-01</td>\n",
              "      <td>DL</td>\n",
              "      <td>1248</td>\n",
              "      <td>DTW</td>\n",
              "      <td>LAX</td>\n",
              "      <td>1935</td>\n",
              "      <td>1935.0</td>\n",
              "      <td>0.0</td>\n",
              "      <td>23.0</td>\n",
              "      <td>1958.0</td>\n",
              "      <td>2107.0</td>\n",
              "      <td>13.0</td>\n",
              "      <td>2144</td>\n",
              "      <td>2120.0</td>\n",
              "      <td>-24.0</td>\n",
              "      <td>0.0</td>\n",
              "      <td>None</td>\n",
              "      <td>0.0</td>\n",
              "      <td>309.0</td>\n",
              "      <td>285.0</td>\n",
              "      <td>249.0</td>\n",
              "      <td>1979.0</td>\n",
              "      <td>NaN</td>\n",
              "      <td>NaN</td>\n",
              "      <td>NaN</td>\n",
              "      <td>NaN</td>\n",
              "      <td>NaN</td>\n",
              "      <td>None</td>\n",
              "    </tr>\n",
              "    <tr>\n",
              "      <th>1</th>\n",
              "      <td>2016-01-01</td>\n",
              "      <td>DL</td>\n",
              "      <td>1251</td>\n",
              "      <td>ATL</td>\n",
              "      <td>GRR</td>\n",
              "      <td>2125</td>\n",
              "      <td>2130.0</td>\n",
              "      <td>5.0</td>\n",
              "      <td>13.0</td>\n",
              "      <td>2143.0</td>\n",
              "      <td>2315.0</td>\n",
              "      <td>4.0</td>\n",
              "      <td>2321</td>\n",
              "      <td>2319.0</td>\n",
              "      <td>-2.0</td>\n",
              "      <td>0.0</td>\n",
              "      <td>None</td>\n",
              "      <td>0.0</td>\n",
              "      <td>116.0</td>\n",
              "      <td>109.0</td>\n",
              "      <td>92.0</td>\n",
              "      <td>640.0</td>\n",
              "      <td>NaN</td>\n",
              "      <td>NaN</td>\n",
              "      <td>NaN</td>\n",
              "      <td>NaN</td>\n",
              "      <td>NaN</td>\n",
              "      <td>None</td>\n",
              "    </tr>\n",
              "    <tr>\n",
              "      <th>2</th>\n",
              "      <td>2016-01-01</td>\n",
              "      <td>DL</td>\n",
              "      <td>1254</td>\n",
              "      <td>LAX</td>\n",
              "      <td>ATL</td>\n",
              "      <td>2255</td>\n",
              "      <td>2256.0</td>\n",
              "      <td>1.0</td>\n",
              "      <td>19.0</td>\n",
              "      <td>2315.0</td>\n",
              "      <td>542.0</td>\n",
              "      <td>5.0</td>\n",
              "      <td>600</td>\n",
              "      <td>547.0</td>\n",
              "      <td>-13.0</td>\n",
              "      <td>0.0</td>\n",
              "      <td>None</td>\n",
              "      <td>0.0</td>\n",
              "      <td>245.0</td>\n",
              "      <td>231.0</td>\n",
              "      <td>207.0</td>\n",
              "      <td>1947.0</td>\n",
              "      <td>NaN</td>\n",
              "      <td>NaN</td>\n",
              "      <td>NaN</td>\n",
              "      <td>NaN</td>\n",
              "      <td>NaN</td>\n",
              "      <td>None</td>\n",
              "    </tr>\n",
              "    <tr>\n",
              "      <th>3</th>\n",
              "      <td>2016-01-01</td>\n",
              "      <td>DL</td>\n",
              "      <td>1255</td>\n",
              "      <td>SLC</td>\n",
              "      <td>ATL</td>\n",
              "      <td>1656</td>\n",
              "      <td>1700.0</td>\n",
              "      <td>4.0</td>\n",
              "      <td>12.0</td>\n",
              "      <td>1712.0</td>\n",
              "      <td>2205.0</td>\n",
              "      <td>8.0</td>\n",
              "      <td>2229</td>\n",
              "      <td>2213.0</td>\n",
              "      <td>-16.0</td>\n",
              "      <td>0.0</td>\n",
              "      <td>None</td>\n",
              "      <td>0.0</td>\n",
              "      <td>213.0</td>\n",
              "      <td>193.0</td>\n",
              "      <td>173.0</td>\n",
              "      <td>1590.0</td>\n",
              "      <td>NaN</td>\n",
              "      <td>NaN</td>\n",
              "      <td>NaN</td>\n",
              "      <td>NaN</td>\n",
              "      <td>NaN</td>\n",
              "      <td>None</td>\n",
              "    </tr>\n",
              "    <tr>\n",
              "      <th>4</th>\n",
              "      <td>2016-01-01</td>\n",
              "      <td>DL</td>\n",
              "      <td>1256</td>\n",
              "      <td>BZN</td>\n",
              "      <td>MSP</td>\n",
              "      <td>900</td>\n",
              "      <td>1012.0</td>\n",
              "      <td>72.0</td>\n",
              "      <td>63.0</td>\n",
              "      <td>1115.0</td>\n",
              "      <td>1416.0</td>\n",
              "      <td>4.0</td>\n",
              "      <td>1216</td>\n",
              "      <td>1420.0</td>\n",
              "      <td>124.0</td>\n",
              "      <td>0.0</td>\n",
              "      <td>None</td>\n",
              "      <td>0.0</td>\n",
              "      <td>136.0</td>\n",
              "      <td>188.0</td>\n",
              "      <td>121.0</td>\n",
              "      <td>874.0</td>\n",
              "      <td>72.0</td>\n",
              "      <td>0.0</td>\n",
              "      <td>52.0</td>\n",
              "      <td>0.0</td>\n",
              "      <td>0.0</td>\n",
              "      <td>None</td>\n",
              "    </tr>\n",
              "  </tbody>\n",
              "</table>\n",
              "</div>"
            ]
          },
          "metadata": {},
          "execution_count": 10
        }
      ],
      "source": [
        "df1 = ks.read_csv(\"2016.csv\")\n",
        "df1.head()"
      ]
    },
    {
      "cell_type": "code",
      "execution_count": 11,
      "metadata": {
        "colab": {
          "base_uri": "https://localhost:8080/",
          "height": 330
        },
        "id": "wh5kzgXGe9ia",
        "outputId": "9daddfb0-133c-4b10-88fe-a15908db5e1d"
      },
      "outputs": [
        {
          "output_type": "execute_result",
          "data": {
            "text/plain": [
              "     FL_DATE OP_CARRIER  OP_CARRIER_FL_NUM ORIGIN DEST  CRS_DEP_TIME  DEP_TIME  DEP_DELAY  TAXI_OUT  WHEELS_OFF  WHEELS_ON  TAXI_IN  CRS_ARR_TIME  ARR_TIME  ARR_DELAY  CANCELLED CANCELLATION_CODE  DIVERTED  CRS_ELAPSED_TIME  ACTUAL_ELAPSED_TIME  AIR_TIME  DISTANCE  CARRIER_DELAY  WEATHER_DELAY  NAS_DELAY  SECURITY_DELAY  LATE_AIRCRAFT_DELAY Unnamed: 27\n",
              "0 2017-01-01         AA                  1    JFK  LAX           800     831.0       31.0      25.0       856.0     1143.0     26.0          1142    1209.0       27.0        0.0              None       0.0             402.0                398.0     347.0    2475.0           27.0            0.0        0.0             0.0                  0.0        None\n",
              "1 2017-01-01         AA                  2    LAX  JFK           900     934.0       34.0      34.0      1008.0     1757.0     12.0          1727    1809.0       42.0        0.0              None       0.0             327.0                335.0     289.0    2475.0           34.0            0.0        8.0             0.0                  0.0        None\n",
              "2 2017-01-01         AA                  4    LAX  JFK          1130    1221.0       51.0      20.0      1241.0     2025.0     15.0          1958    2040.0       42.0        0.0              None       0.0             328.0                319.0     284.0    2475.0            7.0            0.0        0.0             0.0                 35.0        None\n",
              "3 2017-01-01         AA                  5    DFW  HNL          1135    1252.0       77.0      19.0      1311.0     1744.0      5.0          1612    1749.0       97.0        0.0              None       0.0             517.0                537.0     513.0    3784.0           77.0            0.0       20.0             0.0                  0.0        None\n",
              "4 2017-01-01         AA                  6    OGG  DFW          1855    1855.0        0.0      16.0      1911.0      631.0     11.0           600     642.0       42.0        0.0              None       0.0             425.0                467.0     440.0    3711.0            0.0            0.0       42.0             0.0                  0.0        None"
            ],
            "text/html": [
              "<div>\n",
              "<style scoped>\n",
              "    .dataframe tbody tr th:only-of-type {\n",
              "        vertical-align: middle;\n",
              "    }\n",
              "\n",
              "    .dataframe tbody tr th {\n",
              "        vertical-align: top;\n",
              "    }\n",
              "\n",
              "    .dataframe thead th {\n",
              "        text-align: right;\n",
              "    }\n",
              "</style>\n",
              "<table border=\"1\" class=\"dataframe\">\n",
              "  <thead>\n",
              "    <tr style=\"text-align: right;\">\n",
              "      <th></th>\n",
              "      <th>FL_DATE</th>\n",
              "      <th>OP_CARRIER</th>\n",
              "      <th>OP_CARRIER_FL_NUM</th>\n",
              "      <th>ORIGIN</th>\n",
              "      <th>DEST</th>\n",
              "      <th>CRS_DEP_TIME</th>\n",
              "      <th>DEP_TIME</th>\n",
              "      <th>DEP_DELAY</th>\n",
              "      <th>TAXI_OUT</th>\n",
              "      <th>WHEELS_OFF</th>\n",
              "      <th>WHEELS_ON</th>\n",
              "      <th>TAXI_IN</th>\n",
              "      <th>CRS_ARR_TIME</th>\n",
              "      <th>ARR_TIME</th>\n",
              "      <th>ARR_DELAY</th>\n",
              "      <th>CANCELLED</th>\n",
              "      <th>CANCELLATION_CODE</th>\n",
              "      <th>DIVERTED</th>\n",
              "      <th>CRS_ELAPSED_TIME</th>\n",
              "      <th>ACTUAL_ELAPSED_TIME</th>\n",
              "      <th>AIR_TIME</th>\n",
              "      <th>DISTANCE</th>\n",
              "      <th>CARRIER_DELAY</th>\n",
              "      <th>WEATHER_DELAY</th>\n",
              "      <th>NAS_DELAY</th>\n",
              "      <th>SECURITY_DELAY</th>\n",
              "      <th>LATE_AIRCRAFT_DELAY</th>\n",
              "      <th>Unnamed: 27</th>\n",
              "    </tr>\n",
              "  </thead>\n",
              "  <tbody>\n",
              "    <tr>\n",
              "      <th>0</th>\n",
              "      <td>2017-01-01</td>\n",
              "      <td>AA</td>\n",
              "      <td>1</td>\n",
              "      <td>JFK</td>\n",
              "      <td>LAX</td>\n",
              "      <td>800</td>\n",
              "      <td>831.0</td>\n",
              "      <td>31.0</td>\n",
              "      <td>25.0</td>\n",
              "      <td>856.0</td>\n",
              "      <td>1143.0</td>\n",
              "      <td>26.0</td>\n",
              "      <td>1142</td>\n",
              "      <td>1209.0</td>\n",
              "      <td>27.0</td>\n",
              "      <td>0.0</td>\n",
              "      <td>None</td>\n",
              "      <td>0.0</td>\n",
              "      <td>402.0</td>\n",
              "      <td>398.0</td>\n",
              "      <td>347.0</td>\n",
              "      <td>2475.0</td>\n",
              "      <td>27.0</td>\n",
              "      <td>0.0</td>\n",
              "      <td>0.0</td>\n",
              "      <td>0.0</td>\n",
              "      <td>0.0</td>\n",
              "      <td>None</td>\n",
              "    </tr>\n",
              "    <tr>\n",
              "      <th>1</th>\n",
              "      <td>2017-01-01</td>\n",
              "      <td>AA</td>\n",
              "      <td>2</td>\n",
              "      <td>LAX</td>\n",
              "      <td>JFK</td>\n",
              "      <td>900</td>\n",
              "      <td>934.0</td>\n",
              "      <td>34.0</td>\n",
              "      <td>34.0</td>\n",
              "      <td>1008.0</td>\n",
              "      <td>1757.0</td>\n",
              "      <td>12.0</td>\n",
              "      <td>1727</td>\n",
              "      <td>1809.0</td>\n",
              "      <td>42.0</td>\n",
              "      <td>0.0</td>\n",
              "      <td>None</td>\n",
              "      <td>0.0</td>\n",
              "      <td>327.0</td>\n",
              "      <td>335.0</td>\n",
              "      <td>289.0</td>\n",
              "      <td>2475.0</td>\n",
              "      <td>34.0</td>\n",
              "      <td>0.0</td>\n",
              "      <td>8.0</td>\n",
              "      <td>0.0</td>\n",
              "      <td>0.0</td>\n",
              "      <td>None</td>\n",
              "    </tr>\n",
              "    <tr>\n",
              "      <th>2</th>\n",
              "      <td>2017-01-01</td>\n",
              "      <td>AA</td>\n",
              "      <td>4</td>\n",
              "      <td>LAX</td>\n",
              "      <td>JFK</td>\n",
              "      <td>1130</td>\n",
              "      <td>1221.0</td>\n",
              "      <td>51.0</td>\n",
              "      <td>20.0</td>\n",
              "      <td>1241.0</td>\n",
              "      <td>2025.0</td>\n",
              "      <td>15.0</td>\n",
              "      <td>1958</td>\n",
              "      <td>2040.0</td>\n",
              "      <td>42.0</td>\n",
              "      <td>0.0</td>\n",
              "      <td>None</td>\n",
              "      <td>0.0</td>\n",
              "      <td>328.0</td>\n",
              "      <td>319.0</td>\n",
              "      <td>284.0</td>\n",
              "      <td>2475.0</td>\n",
              "      <td>7.0</td>\n",
              "      <td>0.0</td>\n",
              "      <td>0.0</td>\n",
              "      <td>0.0</td>\n",
              "      <td>35.0</td>\n",
              "      <td>None</td>\n",
              "    </tr>\n",
              "    <tr>\n",
              "      <th>3</th>\n",
              "      <td>2017-01-01</td>\n",
              "      <td>AA</td>\n",
              "      <td>5</td>\n",
              "      <td>DFW</td>\n",
              "      <td>HNL</td>\n",
              "      <td>1135</td>\n",
              "      <td>1252.0</td>\n",
              "      <td>77.0</td>\n",
              "      <td>19.0</td>\n",
              "      <td>1311.0</td>\n",
              "      <td>1744.0</td>\n",
              "      <td>5.0</td>\n",
              "      <td>1612</td>\n",
              "      <td>1749.0</td>\n",
              "      <td>97.0</td>\n",
              "      <td>0.0</td>\n",
              "      <td>None</td>\n",
              "      <td>0.0</td>\n",
              "      <td>517.0</td>\n",
              "      <td>537.0</td>\n",
              "      <td>513.0</td>\n",
              "      <td>3784.0</td>\n",
              "      <td>77.0</td>\n",
              "      <td>0.0</td>\n",
              "      <td>20.0</td>\n",
              "      <td>0.0</td>\n",
              "      <td>0.0</td>\n",
              "      <td>None</td>\n",
              "    </tr>\n",
              "    <tr>\n",
              "      <th>4</th>\n",
              "      <td>2017-01-01</td>\n",
              "      <td>AA</td>\n",
              "      <td>6</td>\n",
              "      <td>OGG</td>\n",
              "      <td>DFW</td>\n",
              "      <td>1855</td>\n",
              "      <td>1855.0</td>\n",
              "      <td>0.0</td>\n",
              "      <td>16.0</td>\n",
              "      <td>1911.0</td>\n",
              "      <td>631.0</td>\n",
              "      <td>11.0</td>\n",
              "      <td>600</td>\n",
              "      <td>642.0</td>\n",
              "      <td>42.0</td>\n",
              "      <td>0.0</td>\n",
              "      <td>None</td>\n",
              "      <td>0.0</td>\n",
              "      <td>425.0</td>\n",
              "      <td>467.0</td>\n",
              "      <td>440.0</td>\n",
              "      <td>3711.0</td>\n",
              "      <td>0.0</td>\n",
              "      <td>0.0</td>\n",
              "      <td>42.0</td>\n",
              "      <td>0.0</td>\n",
              "      <td>0.0</td>\n",
              "      <td>None</td>\n",
              "    </tr>\n",
              "  </tbody>\n",
              "</table>\n",
              "</div>"
            ]
          },
          "metadata": {},
          "execution_count": 11
        }
      ],
      "source": [
        "df2 = ks.read_csv(\"2017.csv\")\n",
        "df2.head()"
      ]
    },
    {
      "cell_type": "code",
      "execution_count": 12,
      "metadata": {
        "colab": {
          "base_uri": "https://localhost:8080/",
          "height": 330
        },
        "id": "wPrKGj_3WaSa",
        "outputId": "852eef01-86f5-4a9d-9c4f-56b0b9834230"
      },
      "outputs": [
        {
          "output_type": "execute_result",
          "data": {
            "text/plain": [
              "     FL_DATE OP_CARRIER  OP_CARRIER_FL_NUM ORIGIN DEST  CRS_DEP_TIME  DEP_TIME  DEP_DELAY  TAXI_OUT  WHEELS_OFF  WHEELS_ON  TAXI_IN  CRS_ARR_TIME  ARR_TIME  ARR_DELAY  CANCELLED CANCELLATION_CODE  DIVERTED  CRS_ELAPSED_TIME  ACTUAL_ELAPSED_TIME  AIR_TIME  DISTANCE  CARRIER_DELAY  WEATHER_DELAY  NAS_DELAY  SECURITY_DELAY  LATE_AIRCRAFT_DELAY Unnamed: 27\n",
              "0 2018-01-01         UA               2429    EWR  DEN          1517    1512.0       -5.0      15.0      1527.0     1712.0     10.0          1745    1722.0      -23.0        0.0              None       0.0             268.0                250.0     225.0    1605.0            NaN            NaN        NaN             NaN                  NaN        None\n",
              "1 2018-01-01         UA               2427    LAS  SFO          1115    1107.0       -8.0      11.0      1118.0     1223.0      7.0          1254    1230.0      -24.0        0.0              None       0.0              99.0                 83.0      65.0     414.0            NaN            NaN        NaN             NaN                  NaN        None\n",
              "2 2018-01-01         UA               2426    SNA  DEN          1335    1330.0       -5.0      15.0      1345.0     1631.0      5.0          1649    1636.0      -13.0        0.0              None       0.0             134.0                126.0     106.0     846.0            NaN            NaN        NaN             NaN                  NaN        None\n",
              "3 2018-01-01         UA               2425    RSW  ORD          1546    1552.0        6.0      19.0      1611.0     1748.0      6.0          1756    1754.0       -2.0        0.0              None       0.0             190.0                182.0     157.0    1120.0            NaN            NaN        NaN             NaN                  NaN        None\n",
              "4 2018-01-01         UA               2424    ORD  ALB           630     650.0       20.0      13.0       703.0      926.0     10.0           922     936.0       14.0        0.0              None       0.0             112.0                106.0      83.0     723.0            NaN            NaN        NaN             NaN                  NaN        None"
            ],
            "text/html": [
              "<div>\n",
              "<style scoped>\n",
              "    .dataframe tbody tr th:only-of-type {\n",
              "        vertical-align: middle;\n",
              "    }\n",
              "\n",
              "    .dataframe tbody tr th {\n",
              "        vertical-align: top;\n",
              "    }\n",
              "\n",
              "    .dataframe thead th {\n",
              "        text-align: right;\n",
              "    }\n",
              "</style>\n",
              "<table border=\"1\" class=\"dataframe\">\n",
              "  <thead>\n",
              "    <tr style=\"text-align: right;\">\n",
              "      <th></th>\n",
              "      <th>FL_DATE</th>\n",
              "      <th>OP_CARRIER</th>\n",
              "      <th>OP_CARRIER_FL_NUM</th>\n",
              "      <th>ORIGIN</th>\n",
              "      <th>DEST</th>\n",
              "      <th>CRS_DEP_TIME</th>\n",
              "      <th>DEP_TIME</th>\n",
              "      <th>DEP_DELAY</th>\n",
              "      <th>TAXI_OUT</th>\n",
              "      <th>WHEELS_OFF</th>\n",
              "      <th>WHEELS_ON</th>\n",
              "      <th>TAXI_IN</th>\n",
              "      <th>CRS_ARR_TIME</th>\n",
              "      <th>ARR_TIME</th>\n",
              "      <th>ARR_DELAY</th>\n",
              "      <th>CANCELLED</th>\n",
              "      <th>CANCELLATION_CODE</th>\n",
              "      <th>DIVERTED</th>\n",
              "      <th>CRS_ELAPSED_TIME</th>\n",
              "      <th>ACTUAL_ELAPSED_TIME</th>\n",
              "      <th>AIR_TIME</th>\n",
              "      <th>DISTANCE</th>\n",
              "      <th>CARRIER_DELAY</th>\n",
              "      <th>WEATHER_DELAY</th>\n",
              "      <th>NAS_DELAY</th>\n",
              "      <th>SECURITY_DELAY</th>\n",
              "      <th>LATE_AIRCRAFT_DELAY</th>\n",
              "      <th>Unnamed: 27</th>\n",
              "    </tr>\n",
              "  </thead>\n",
              "  <tbody>\n",
              "    <tr>\n",
              "      <th>0</th>\n",
              "      <td>2018-01-01</td>\n",
              "      <td>UA</td>\n",
              "      <td>2429</td>\n",
              "      <td>EWR</td>\n",
              "      <td>DEN</td>\n",
              "      <td>1517</td>\n",
              "      <td>1512.0</td>\n",
              "      <td>-5.0</td>\n",
              "      <td>15.0</td>\n",
              "      <td>1527.0</td>\n",
              "      <td>1712.0</td>\n",
              "      <td>10.0</td>\n",
              "      <td>1745</td>\n",
              "      <td>1722.0</td>\n",
              "      <td>-23.0</td>\n",
              "      <td>0.0</td>\n",
              "      <td>None</td>\n",
              "      <td>0.0</td>\n",
              "      <td>268.0</td>\n",
              "      <td>250.0</td>\n",
              "      <td>225.0</td>\n",
              "      <td>1605.0</td>\n",
              "      <td>NaN</td>\n",
              "      <td>NaN</td>\n",
              "      <td>NaN</td>\n",
              "      <td>NaN</td>\n",
              "      <td>NaN</td>\n",
              "      <td>None</td>\n",
              "    </tr>\n",
              "    <tr>\n",
              "      <th>1</th>\n",
              "      <td>2018-01-01</td>\n",
              "      <td>UA</td>\n",
              "      <td>2427</td>\n",
              "      <td>LAS</td>\n",
              "      <td>SFO</td>\n",
              "      <td>1115</td>\n",
              "      <td>1107.0</td>\n",
              "      <td>-8.0</td>\n",
              "      <td>11.0</td>\n",
              "      <td>1118.0</td>\n",
              "      <td>1223.0</td>\n",
              "      <td>7.0</td>\n",
              "      <td>1254</td>\n",
              "      <td>1230.0</td>\n",
              "      <td>-24.0</td>\n",
              "      <td>0.0</td>\n",
              "      <td>None</td>\n",
              "      <td>0.0</td>\n",
              "      <td>99.0</td>\n",
              "      <td>83.0</td>\n",
              "      <td>65.0</td>\n",
              "      <td>414.0</td>\n",
              "      <td>NaN</td>\n",
              "      <td>NaN</td>\n",
              "      <td>NaN</td>\n",
              "      <td>NaN</td>\n",
              "      <td>NaN</td>\n",
              "      <td>None</td>\n",
              "    </tr>\n",
              "    <tr>\n",
              "      <th>2</th>\n",
              "      <td>2018-01-01</td>\n",
              "      <td>UA</td>\n",
              "      <td>2426</td>\n",
              "      <td>SNA</td>\n",
              "      <td>DEN</td>\n",
              "      <td>1335</td>\n",
              "      <td>1330.0</td>\n",
              "      <td>-5.0</td>\n",
              "      <td>15.0</td>\n",
              "      <td>1345.0</td>\n",
              "      <td>1631.0</td>\n",
              "      <td>5.0</td>\n",
              "      <td>1649</td>\n",
              "      <td>1636.0</td>\n",
              "      <td>-13.0</td>\n",
              "      <td>0.0</td>\n",
              "      <td>None</td>\n",
              "      <td>0.0</td>\n",
              "      <td>134.0</td>\n",
              "      <td>126.0</td>\n",
              "      <td>106.0</td>\n",
              "      <td>846.0</td>\n",
              "      <td>NaN</td>\n",
              "      <td>NaN</td>\n",
              "      <td>NaN</td>\n",
              "      <td>NaN</td>\n",
              "      <td>NaN</td>\n",
              "      <td>None</td>\n",
              "    </tr>\n",
              "    <tr>\n",
              "      <th>3</th>\n",
              "      <td>2018-01-01</td>\n",
              "      <td>UA</td>\n",
              "      <td>2425</td>\n",
              "      <td>RSW</td>\n",
              "      <td>ORD</td>\n",
              "      <td>1546</td>\n",
              "      <td>1552.0</td>\n",
              "      <td>6.0</td>\n",
              "      <td>19.0</td>\n",
              "      <td>1611.0</td>\n",
              "      <td>1748.0</td>\n",
              "      <td>6.0</td>\n",
              "      <td>1756</td>\n",
              "      <td>1754.0</td>\n",
              "      <td>-2.0</td>\n",
              "      <td>0.0</td>\n",
              "      <td>None</td>\n",
              "      <td>0.0</td>\n",
              "      <td>190.0</td>\n",
              "      <td>182.0</td>\n",
              "      <td>157.0</td>\n",
              "      <td>1120.0</td>\n",
              "      <td>NaN</td>\n",
              "      <td>NaN</td>\n",
              "      <td>NaN</td>\n",
              "      <td>NaN</td>\n",
              "      <td>NaN</td>\n",
              "      <td>None</td>\n",
              "    </tr>\n",
              "    <tr>\n",
              "      <th>4</th>\n",
              "      <td>2018-01-01</td>\n",
              "      <td>UA</td>\n",
              "      <td>2424</td>\n",
              "      <td>ORD</td>\n",
              "      <td>ALB</td>\n",
              "      <td>630</td>\n",
              "      <td>650.0</td>\n",
              "      <td>20.0</td>\n",
              "      <td>13.0</td>\n",
              "      <td>703.0</td>\n",
              "      <td>926.0</td>\n",
              "      <td>10.0</td>\n",
              "      <td>922</td>\n",
              "      <td>936.0</td>\n",
              "      <td>14.0</td>\n",
              "      <td>0.0</td>\n",
              "      <td>None</td>\n",
              "      <td>0.0</td>\n",
              "      <td>112.0</td>\n",
              "      <td>106.0</td>\n",
              "      <td>83.0</td>\n",
              "      <td>723.0</td>\n",
              "      <td>NaN</td>\n",
              "      <td>NaN</td>\n",
              "      <td>NaN</td>\n",
              "      <td>NaN</td>\n",
              "      <td>NaN</td>\n",
              "      <td>None</td>\n",
              "    </tr>\n",
              "  </tbody>\n",
              "</table>\n",
              "</div>"
            ]
          },
          "metadata": {},
          "execution_count": 12
        }
      ],
      "source": [
        "df3 = ks.read_csv(\"2018.csv\")\n",
        "df3.head()"
      ]
    },
    {
      "cell_type": "code",
      "execution_count": 13,
      "metadata": {
        "colab": {
          "base_uri": "https://localhost:8080/",
          "height": 330
        },
        "id": "EN5erIb7WkWB",
        "outputId": "ebf50b19-c541-4c60-921f-97297068c1a3"
      },
      "outputs": [
        {
          "output_type": "execute_result",
          "data": {
            "text/plain": [
              "     FL_DATE OP_CARRIER  OP_CARRIER_FL_NUM ORIGIN DEST  CRS_DEP_TIME  DEP_TIME  DEP_DELAY  TAXI_OUT  WHEELS_OFF  WHEELS_ON  TAXI_IN  CRS_ARR_TIME  ARR_TIME  ARR_DELAY  CANCELLED CANCELLATION_CODE  DIVERTED  CRS_ELAPSED_TIME  ACTUAL_ELAPSED_TIME  AIR_TIME  DISTANCE  CARRIER_DELAY  WEATHER_DELAY  NAS_DELAY  SECURITY_DELAY  LATE_AIRCRAFT_DELAY Unnamed: 27\n",
              "0 2016-01-01         DL               1248    DTW  LAX          1935    1935.0        0.0      23.0      1958.0     2107.0     13.0          2144    2120.0      -24.0        0.0              None       0.0             309.0                285.0     249.0    1979.0            NaN            NaN        NaN             NaN                  NaN        None\n",
              "1 2016-01-01         DL               1251    ATL  GRR          2125    2130.0        5.0      13.0      2143.0     2315.0      4.0          2321    2319.0       -2.0        0.0              None       0.0             116.0                109.0      92.0     640.0            NaN            NaN        NaN             NaN                  NaN        None\n",
              "2 2016-01-01         DL               1254    LAX  ATL          2255    2256.0        1.0      19.0      2315.0      542.0      5.0           600     547.0      -13.0        0.0              None       0.0             245.0                231.0     207.0    1947.0            NaN            NaN        NaN             NaN                  NaN        None\n",
              "3 2016-01-01         DL               1255    SLC  ATL          1656    1700.0        4.0      12.0      1712.0     2205.0      8.0          2229    2213.0      -16.0        0.0              None       0.0             213.0                193.0     173.0    1590.0            NaN            NaN        NaN             NaN                  NaN        None\n",
              "4 2016-01-01         DL               1256    BZN  MSP           900    1012.0       72.0      63.0      1115.0     1416.0      4.0          1216    1420.0      124.0        0.0              None       0.0             136.0                188.0     121.0     874.0           72.0            0.0       52.0             0.0                  0.0        None"
            ],
            "text/html": [
              "<div>\n",
              "<style scoped>\n",
              "    .dataframe tbody tr th:only-of-type {\n",
              "        vertical-align: middle;\n",
              "    }\n",
              "\n",
              "    .dataframe tbody tr th {\n",
              "        vertical-align: top;\n",
              "    }\n",
              "\n",
              "    .dataframe thead th {\n",
              "        text-align: right;\n",
              "    }\n",
              "</style>\n",
              "<table border=\"1\" class=\"dataframe\">\n",
              "  <thead>\n",
              "    <tr style=\"text-align: right;\">\n",
              "      <th></th>\n",
              "      <th>FL_DATE</th>\n",
              "      <th>OP_CARRIER</th>\n",
              "      <th>OP_CARRIER_FL_NUM</th>\n",
              "      <th>ORIGIN</th>\n",
              "      <th>DEST</th>\n",
              "      <th>CRS_DEP_TIME</th>\n",
              "      <th>DEP_TIME</th>\n",
              "      <th>DEP_DELAY</th>\n",
              "      <th>TAXI_OUT</th>\n",
              "      <th>WHEELS_OFF</th>\n",
              "      <th>WHEELS_ON</th>\n",
              "      <th>TAXI_IN</th>\n",
              "      <th>CRS_ARR_TIME</th>\n",
              "      <th>ARR_TIME</th>\n",
              "      <th>ARR_DELAY</th>\n",
              "      <th>CANCELLED</th>\n",
              "      <th>CANCELLATION_CODE</th>\n",
              "      <th>DIVERTED</th>\n",
              "      <th>CRS_ELAPSED_TIME</th>\n",
              "      <th>ACTUAL_ELAPSED_TIME</th>\n",
              "      <th>AIR_TIME</th>\n",
              "      <th>DISTANCE</th>\n",
              "      <th>CARRIER_DELAY</th>\n",
              "      <th>WEATHER_DELAY</th>\n",
              "      <th>NAS_DELAY</th>\n",
              "      <th>SECURITY_DELAY</th>\n",
              "      <th>LATE_AIRCRAFT_DELAY</th>\n",
              "      <th>Unnamed: 27</th>\n",
              "    </tr>\n",
              "  </thead>\n",
              "  <tbody>\n",
              "    <tr>\n",
              "      <th>0</th>\n",
              "      <td>2016-01-01</td>\n",
              "      <td>DL</td>\n",
              "      <td>1248</td>\n",
              "      <td>DTW</td>\n",
              "      <td>LAX</td>\n",
              "      <td>1935</td>\n",
              "      <td>1935.0</td>\n",
              "      <td>0.0</td>\n",
              "      <td>23.0</td>\n",
              "      <td>1958.0</td>\n",
              "      <td>2107.0</td>\n",
              "      <td>13.0</td>\n",
              "      <td>2144</td>\n",
              "      <td>2120.0</td>\n",
              "      <td>-24.0</td>\n",
              "      <td>0.0</td>\n",
              "      <td>None</td>\n",
              "      <td>0.0</td>\n",
              "      <td>309.0</td>\n",
              "      <td>285.0</td>\n",
              "      <td>249.0</td>\n",
              "      <td>1979.0</td>\n",
              "      <td>NaN</td>\n",
              "      <td>NaN</td>\n",
              "      <td>NaN</td>\n",
              "      <td>NaN</td>\n",
              "      <td>NaN</td>\n",
              "      <td>None</td>\n",
              "    </tr>\n",
              "    <tr>\n",
              "      <th>1</th>\n",
              "      <td>2016-01-01</td>\n",
              "      <td>DL</td>\n",
              "      <td>1251</td>\n",
              "      <td>ATL</td>\n",
              "      <td>GRR</td>\n",
              "      <td>2125</td>\n",
              "      <td>2130.0</td>\n",
              "      <td>5.0</td>\n",
              "      <td>13.0</td>\n",
              "      <td>2143.0</td>\n",
              "      <td>2315.0</td>\n",
              "      <td>4.0</td>\n",
              "      <td>2321</td>\n",
              "      <td>2319.0</td>\n",
              "      <td>-2.0</td>\n",
              "      <td>0.0</td>\n",
              "      <td>None</td>\n",
              "      <td>0.0</td>\n",
              "      <td>116.0</td>\n",
              "      <td>109.0</td>\n",
              "      <td>92.0</td>\n",
              "      <td>640.0</td>\n",
              "      <td>NaN</td>\n",
              "      <td>NaN</td>\n",
              "      <td>NaN</td>\n",
              "      <td>NaN</td>\n",
              "      <td>NaN</td>\n",
              "      <td>None</td>\n",
              "    </tr>\n",
              "    <tr>\n",
              "      <th>2</th>\n",
              "      <td>2016-01-01</td>\n",
              "      <td>DL</td>\n",
              "      <td>1254</td>\n",
              "      <td>LAX</td>\n",
              "      <td>ATL</td>\n",
              "      <td>2255</td>\n",
              "      <td>2256.0</td>\n",
              "      <td>1.0</td>\n",
              "      <td>19.0</td>\n",
              "      <td>2315.0</td>\n",
              "      <td>542.0</td>\n",
              "      <td>5.0</td>\n",
              "      <td>600</td>\n",
              "      <td>547.0</td>\n",
              "      <td>-13.0</td>\n",
              "      <td>0.0</td>\n",
              "      <td>None</td>\n",
              "      <td>0.0</td>\n",
              "      <td>245.0</td>\n",
              "      <td>231.0</td>\n",
              "      <td>207.0</td>\n",
              "      <td>1947.0</td>\n",
              "      <td>NaN</td>\n",
              "      <td>NaN</td>\n",
              "      <td>NaN</td>\n",
              "      <td>NaN</td>\n",
              "      <td>NaN</td>\n",
              "      <td>None</td>\n",
              "    </tr>\n",
              "    <tr>\n",
              "      <th>3</th>\n",
              "      <td>2016-01-01</td>\n",
              "      <td>DL</td>\n",
              "      <td>1255</td>\n",
              "      <td>SLC</td>\n",
              "      <td>ATL</td>\n",
              "      <td>1656</td>\n",
              "      <td>1700.0</td>\n",
              "      <td>4.0</td>\n",
              "      <td>12.0</td>\n",
              "      <td>1712.0</td>\n",
              "      <td>2205.0</td>\n",
              "      <td>8.0</td>\n",
              "      <td>2229</td>\n",
              "      <td>2213.0</td>\n",
              "      <td>-16.0</td>\n",
              "      <td>0.0</td>\n",
              "      <td>None</td>\n",
              "      <td>0.0</td>\n",
              "      <td>213.0</td>\n",
              "      <td>193.0</td>\n",
              "      <td>173.0</td>\n",
              "      <td>1590.0</td>\n",
              "      <td>NaN</td>\n",
              "      <td>NaN</td>\n",
              "      <td>NaN</td>\n",
              "      <td>NaN</td>\n",
              "      <td>NaN</td>\n",
              "      <td>None</td>\n",
              "    </tr>\n",
              "    <tr>\n",
              "      <th>4</th>\n",
              "      <td>2016-01-01</td>\n",
              "      <td>DL</td>\n",
              "      <td>1256</td>\n",
              "      <td>BZN</td>\n",
              "      <td>MSP</td>\n",
              "      <td>900</td>\n",
              "      <td>1012.0</td>\n",
              "      <td>72.0</td>\n",
              "      <td>63.0</td>\n",
              "      <td>1115.0</td>\n",
              "      <td>1416.0</td>\n",
              "      <td>4.0</td>\n",
              "      <td>1216</td>\n",
              "      <td>1420.0</td>\n",
              "      <td>124.0</td>\n",
              "      <td>0.0</td>\n",
              "      <td>None</td>\n",
              "      <td>0.0</td>\n",
              "      <td>136.0</td>\n",
              "      <td>188.0</td>\n",
              "      <td>121.0</td>\n",
              "      <td>874.0</td>\n",
              "      <td>72.0</td>\n",
              "      <td>0.0</td>\n",
              "      <td>52.0</td>\n",
              "      <td>0.0</td>\n",
              "      <td>0.0</td>\n",
              "      <td>None</td>\n",
              "    </tr>\n",
              "  </tbody>\n",
              "</table>\n",
              "</div>"
            ]
          },
          "metadata": {},
          "execution_count": 13
        }
      ],
      "source": [
        "kdf = ks.concat([df1, df2, df3], axis=0)\n",
        "kdf.head()"
      ]
    },
    {
      "cell_type": "markdown",
      "metadata": {
        "id": "uLypM2QlsRkf"
      },
      "source": [
        "**Reading The Dataset into a Dataframe:** Using *Vaex Library*\n",
        "\n",
        "\n",
        "*   Read all 3 files\n",
        "*   Combine/Merge the dataframe into a single dataframe\n",
        "\n"
      ]
    },
    {
      "cell_type": "code",
      "execution_count": 14,
      "metadata": {
        "colab": {
          "base_uri": "https://localhost:8080/",
          "height": 465
        },
        "id": "-kd-D6-gtbg0",
        "outputId": "26005580-5fc5-41d7-86df-e3149bd9514d"
      },
      "outputs": [
        {
          "output_type": "execute_result",
          "data": {
            "text/html": [
              "<table>\n",
              "<thead>\n",
              "<tr><th>#                            </th><th>FL_DATE   </th><th>OP_CARRIER  </th><th style=\"text-align: right;\">  OP_CARRIER_FL_NUM</th><th>ORIGIN  </th><th>DEST  </th><th style=\"text-align: right;\">  CRS_DEP_TIME</th><th style=\"text-align: right;\">  DEP_TIME</th><th style=\"text-align: right;\">  DEP_DELAY</th><th style=\"text-align: right;\">  TAXI_OUT</th><th style=\"text-align: right;\">  WHEELS_OFF</th><th style=\"text-align: right;\">  WHEELS_ON</th><th style=\"text-align: right;\">  TAXI_IN</th><th style=\"text-align: right;\">  CRS_ARR_TIME</th><th style=\"text-align: right;\">  ARR_TIME</th><th style=\"text-align: right;\">  ARR_DELAY</th><th style=\"text-align: right;\">  CANCELLED</th><th>CANCELLATION_CODE  </th><th style=\"text-align: right;\">  DIVERTED</th><th style=\"text-align: right;\">  CRS_ELAPSED_TIME</th><th style=\"text-align: right;\">  ACTUAL_ELAPSED_TIME</th><th style=\"text-align: right;\">  AIR_TIME</th><th style=\"text-align: right;\">  DISTANCE</th><th>CARRIER_DELAY  </th><th>WEATHER_DELAY  </th><th>NAS_DELAY  </th><th>SECURITY_DELAY  </th><th>LATE_AIRCRAFT_DELAY  </th><th>Unnamed: 27  </th></tr>\n",
              "</thead>\n",
              "<tbody>\n",
              "<tr><td><i style='opacity: 0.6'>0</i></td><td>2016-01-01</td><td>DL          </td><td style=\"text-align: right;\">               1248</td><td>DTW     </td><td>LAX   </td><td style=\"text-align: right;\">          1935</td><td style=\"text-align: right;\">      1935</td><td style=\"text-align: right;\">          0</td><td style=\"text-align: right;\">        23</td><td style=\"text-align: right;\">        1958</td><td style=\"text-align: right;\">       2107</td><td style=\"text-align: right;\">       13</td><td style=\"text-align: right;\">          2144</td><td style=\"text-align: right;\">      2120</td><td style=\"text-align: right;\">        -24</td><td style=\"text-align: right;\">          0</td><td>                   </td><td style=\"text-align: right;\">         0</td><td style=\"text-align: right;\">               309</td><td style=\"text-align: right;\">                  285</td><td style=\"text-align: right;\">       249</td><td style=\"text-align: right;\">      1979</td><td>--             </td><td>--             </td><td>--         </td><td>--              </td><td>--                   </td><td>--           </td></tr>\n",
              "<tr><td><i style='opacity: 0.6'>1</i></td><td>2016-01-01</td><td>DL          </td><td style=\"text-align: right;\">               1251</td><td>ATL     </td><td>GRR   </td><td style=\"text-align: right;\">          2125</td><td style=\"text-align: right;\">      2130</td><td style=\"text-align: right;\">          5</td><td style=\"text-align: right;\">        13</td><td style=\"text-align: right;\">        2143</td><td style=\"text-align: right;\">       2315</td><td style=\"text-align: right;\">        4</td><td style=\"text-align: right;\">          2321</td><td style=\"text-align: right;\">      2319</td><td style=\"text-align: right;\">         -2</td><td style=\"text-align: right;\">          0</td><td>                   </td><td style=\"text-align: right;\">         0</td><td style=\"text-align: right;\">               116</td><td style=\"text-align: right;\">                  109</td><td style=\"text-align: right;\">        92</td><td style=\"text-align: right;\">       640</td><td>--             </td><td>--             </td><td>--         </td><td>--              </td><td>--                   </td><td>--           </td></tr>\n",
              "<tr><td><i style='opacity: 0.6'>2</i></td><td>2016-01-01</td><td>DL          </td><td style=\"text-align: right;\">               1254</td><td>LAX     </td><td>ATL   </td><td style=\"text-align: right;\">          2255</td><td style=\"text-align: right;\">      2256</td><td style=\"text-align: right;\">          1</td><td style=\"text-align: right;\">        19</td><td style=\"text-align: right;\">        2315</td><td style=\"text-align: right;\">        542</td><td style=\"text-align: right;\">        5</td><td style=\"text-align: right;\">           600</td><td style=\"text-align: right;\">       547</td><td style=\"text-align: right;\">        -13</td><td style=\"text-align: right;\">          0</td><td>                   </td><td style=\"text-align: right;\">         0</td><td style=\"text-align: right;\">               245</td><td style=\"text-align: right;\">                  231</td><td style=\"text-align: right;\">       207</td><td style=\"text-align: right;\">      1947</td><td>--             </td><td>--             </td><td>--         </td><td>--              </td><td>--                   </td><td>--           </td></tr>\n",
              "<tr><td><i style='opacity: 0.6'>3</i></td><td>2016-01-01</td><td>DL          </td><td style=\"text-align: right;\">               1255</td><td>SLC     </td><td>ATL   </td><td style=\"text-align: right;\">          1656</td><td style=\"text-align: right;\">      1700</td><td style=\"text-align: right;\">          4</td><td style=\"text-align: right;\">        12</td><td style=\"text-align: right;\">        1712</td><td style=\"text-align: right;\">       2205</td><td style=\"text-align: right;\">        8</td><td style=\"text-align: right;\">          2229</td><td style=\"text-align: right;\">      2213</td><td style=\"text-align: right;\">        -16</td><td style=\"text-align: right;\">          0</td><td>                   </td><td style=\"text-align: right;\">         0</td><td style=\"text-align: right;\">               213</td><td style=\"text-align: right;\">                  193</td><td style=\"text-align: right;\">       173</td><td style=\"text-align: right;\">      1590</td><td>--             </td><td>--             </td><td>--         </td><td>--              </td><td>--                   </td><td>--           </td></tr>\n",
              "<tr><td><i style='opacity: 0.6'>4</i></td><td>2016-01-01</td><td>DL          </td><td style=\"text-align: right;\">               1256</td><td>BZN     </td><td>MSP   </td><td style=\"text-align: right;\">           900</td><td style=\"text-align: right;\">      1012</td><td style=\"text-align: right;\">         72</td><td style=\"text-align: right;\">        63</td><td style=\"text-align: right;\">        1115</td><td style=\"text-align: right;\">       1416</td><td style=\"text-align: right;\">        4</td><td style=\"text-align: right;\">          1216</td><td style=\"text-align: right;\">      1420</td><td style=\"text-align: right;\">        124</td><td style=\"text-align: right;\">          0</td><td>                   </td><td style=\"text-align: right;\">         0</td><td style=\"text-align: right;\">               136</td><td style=\"text-align: right;\">                  188</td><td style=\"text-align: right;\">       121</td><td style=\"text-align: right;\">       874</td><td>72.0           </td><td>0.0            </td><td>52.0       </td><td>0.0             </td><td>0.0                  </td><td>--           </td></tr>\n",
              "<tr><td><i style='opacity: 0.6'>5</i></td><td>2016-01-01</td><td>DL          </td><td style=\"text-align: right;\">               1257</td><td>ATL     </td><td>BNA   </td><td style=\"text-align: right;\">          1233</td><td style=\"text-align: right;\">      1356</td><td style=\"text-align: right;\">         83</td><td style=\"text-align: right;\">        22</td><td style=\"text-align: right;\">        1418</td><td style=\"text-align: right;\">       1356</td><td style=\"text-align: right;\">        6</td><td style=\"text-align: right;\">          1239</td><td style=\"text-align: right;\">      1402</td><td style=\"text-align: right;\">         83</td><td style=\"text-align: right;\">          0</td><td>                   </td><td style=\"text-align: right;\">         0</td><td style=\"text-align: right;\">                66</td><td style=\"text-align: right;\">                   66</td><td style=\"text-align: right;\">        38</td><td style=\"text-align: right;\">       214</td><td>43.0           </td><td>0.0            </td><td>0.0        </td><td>0.0             </td><td>40.0                 </td><td>--           </td></tr>\n",
              "<tr><td><i style='opacity: 0.6'>6</i></td><td>2016-01-01</td><td>DL          </td><td style=\"text-align: right;\">               1257</td><td>BNA     </td><td>ATL   </td><td style=\"text-align: right;\">          1320</td><td style=\"text-align: right;\">      1446</td><td style=\"text-align: right;\">         86</td><td style=\"text-align: right;\">        15</td><td style=\"text-align: right;\">        1501</td><td style=\"text-align: right;\">       1638</td><td style=\"text-align: right;\">        6</td><td style=\"text-align: right;\">          1530</td><td style=\"text-align: right;\">      1644</td><td style=\"text-align: right;\">         74</td><td style=\"text-align: right;\">          0</td><td>                   </td><td style=\"text-align: right;\">         0</td><td style=\"text-align: right;\">                70</td><td style=\"text-align: right;\">                   58</td><td style=\"text-align: right;\">        37</td><td style=\"text-align: right;\">       214</td><td>3.0            </td><td>0.0            </td><td>0.0        </td><td>0.0             </td><td>71.0                 </td><td>--           </td></tr>\n",
              "<tr><td><i style='opacity: 0.6'>7</i></td><td>2016-01-01</td><td>DL          </td><td style=\"text-align: right;\">               1258</td><td>ATL     </td><td>JAX   </td><td style=\"text-align: right;\">           945</td><td style=\"text-align: right;\">       946</td><td style=\"text-align: right;\">          1</td><td style=\"text-align: right;\">        19</td><td style=\"text-align: right;\">        1005</td><td style=\"text-align: right;\">       1050</td><td style=\"text-align: right;\">        3</td><td style=\"text-align: right;\">          1050</td><td style=\"text-align: right;\">      1053</td><td style=\"text-align: right;\">          3</td><td style=\"text-align: right;\">          0</td><td>                   </td><td style=\"text-align: right;\">         0</td><td style=\"text-align: right;\">                65</td><td style=\"text-align: right;\">                   67</td><td style=\"text-align: right;\">        45</td><td style=\"text-align: right;\">       270</td><td>--             </td><td>--             </td><td>--         </td><td>--              </td><td>--                   </td><td>--           </td></tr>\n",
              "<tr><td><i style='opacity: 0.6'>8</i></td><td>2016-01-01</td><td>DL          </td><td style=\"text-align: right;\">               1258</td><td>JAX     </td><td>ATL   </td><td style=\"text-align: right;\">          1145</td><td style=\"text-align: right;\">      1144</td><td style=\"text-align: right;\">         -1</td><td style=\"text-align: right;\">        12</td><td style=\"text-align: right;\">        1156</td><td style=\"text-align: right;\">       1239</td><td style=\"text-align: right;\">        8</td><td style=\"text-align: right;\">          1302</td><td style=\"text-align: right;\">      1247</td><td style=\"text-align: right;\">        -15</td><td style=\"text-align: right;\">          0</td><td>                   </td><td style=\"text-align: right;\">         0</td><td style=\"text-align: right;\">                77</td><td style=\"text-align: right;\">                   63</td><td style=\"text-align: right;\">        43</td><td style=\"text-align: right;\">       270</td><td>--             </td><td>--             </td><td>--         </td><td>--              </td><td>--                   </td><td>--           </td></tr>\n",
              "<tr><td><i style='opacity: 0.6'>9</i></td><td>2016-01-01</td><td>DL          </td><td style=\"text-align: right;\">               1259</td><td>ATL     </td><td>OKC   </td><td style=\"text-align: right;\">          2110</td><td style=\"text-align: right;\">      2107</td><td style=\"text-align: right;\">         -3</td><td style=\"text-align: right;\">        16</td><td style=\"text-align: right;\">        2123</td><td style=\"text-align: right;\">       2219</td><td style=\"text-align: right;\">        5</td><td style=\"text-align: right;\">          2236</td><td style=\"text-align: right;\">      2224</td><td style=\"text-align: right;\">        -12</td><td style=\"text-align: right;\">          0</td><td>                   </td><td style=\"text-align: right;\">         0</td><td style=\"text-align: right;\">               146</td><td style=\"text-align: right;\">                  137</td><td style=\"text-align: right;\">       116</td><td style=\"text-align: right;\">       761</td><td>--             </td><td>--             </td><td>--         </td><td>--              </td><td>--                   </td><td>--           </td></tr>\n",
              "</tbody>\n",
              "</table>"
            ],
            "text/plain": [
              "  #  FL_DATE     OP_CARRIER      OP_CARRIER_FL_NUM  ORIGIN    DEST      CRS_DEP_TIME    DEP_TIME    DEP_DELAY    TAXI_OUT    WHEELS_OFF    WHEELS_ON    TAXI_IN    CRS_ARR_TIME    ARR_TIME    ARR_DELAY    CANCELLED  CANCELLATION_CODE      DIVERTED    CRS_ELAPSED_TIME    ACTUAL_ELAPSED_TIME    AIR_TIME    DISTANCE  CARRIER_DELAY    WEATHER_DELAY    NAS_DELAY    SECURITY_DELAY    LATE_AIRCRAFT_DELAY    Unnamed: 27\n",
              "  0  2016-01-01  DL                           1248  DTW       LAX               1935        1935            0          23          1958         2107         13            2144        2120          -24            0                                0                 309                    285         249        1979  --               --               --           --                --                     --\n",
              "  1  2016-01-01  DL                           1251  ATL       GRR               2125        2130            5          13          2143         2315          4            2321        2319           -2            0                                0                 116                    109          92         640  --               --               --           --                --                     --\n",
              "  2  2016-01-01  DL                           1254  LAX       ATL               2255        2256            1          19          2315          542          5             600         547          -13            0                                0                 245                    231         207        1947  --               --               --           --                --                     --\n",
              "  3  2016-01-01  DL                           1255  SLC       ATL               1656        1700            4          12          1712         2205          8            2229        2213          -16            0                                0                 213                    193         173        1590  --               --               --           --                --                     --\n",
              "  4  2016-01-01  DL                           1256  BZN       MSP                900        1012           72          63          1115         1416          4            1216        1420          124            0                                0                 136                    188         121         874  72.0             0.0              52.0         0.0               0.0                    --\n",
              "  5  2016-01-01  DL                           1257  ATL       BNA               1233        1356           83          22          1418         1356          6            1239        1402           83            0                                0                  66                     66          38         214  43.0             0.0              0.0          0.0               40.0                   --\n",
              "  6  2016-01-01  DL                           1257  BNA       ATL               1320        1446           86          15          1501         1638          6            1530        1644           74            0                                0                  70                     58          37         214  3.0              0.0              0.0          0.0               71.0                   --\n",
              "  7  2016-01-01  DL                           1258  ATL       JAX                945         946            1          19          1005         1050          3            1050        1053            3            0                                0                  65                     67          45         270  --               --               --           --                --                     --\n",
              "  8  2016-01-01  DL                           1258  JAX       ATL               1145        1144           -1          12          1156         1239          8            1302        1247          -15            0                                0                  77                     63          43         270  --               --               --           --                --                     --\n",
              "  9  2016-01-01  DL                           1259  ATL       OKC               2110        2107           -3          16          2123         2219          5            2236        2224          -12            0                                0                 146                    137         116         761  --               --               --           --                --                     --"
            ]
          },
          "metadata": {},
          "execution_count": 14
        }
      ],
      "source": [
        "dfa = vx.open(\"2016.csv\")\n",
        "dfa.head()"
      ]
    },
    {
      "cell_type": "code",
      "execution_count": 15,
      "metadata": {
        "colab": {
          "base_uri": "https://localhost:8080/",
          "height": 465
        },
        "id": "Pvx3aVf_tt9f",
        "outputId": "c5ddb2fb-45a4-4c12-e54c-cfe2ea7e3b03"
      },
      "outputs": [
        {
          "output_type": "execute_result",
          "data": {
            "text/html": [
              "<table>\n",
              "<thead>\n",
              "<tr><th>#                            </th><th>FL_DATE   </th><th>OP_CARRIER  </th><th style=\"text-align: right;\">  OP_CARRIER_FL_NUM</th><th>ORIGIN  </th><th>DEST  </th><th style=\"text-align: right;\">  CRS_DEP_TIME</th><th style=\"text-align: right;\">  DEP_TIME</th><th style=\"text-align: right;\">  DEP_DELAY</th><th style=\"text-align: right;\">  TAXI_OUT</th><th style=\"text-align: right;\">  WHEELS_OFF</th><th style=\"text-align: right;\">  WHEELS_ON</th><th style=\"text-align: right;\">  TAXI_IN</th><th style=\"text-align: right;\">  CRS_ARR_TIME</th><th style=\"text-align: right;\">  ARR_TIME</th><th style=\"text-align: right;\">  ARR_DELAY</th><th style=\"text-align: right;\">  CANCELLED</th><th>CANCELLATION_CODE  </th><th style=\"text-align: right;\">  DIVERTED</th><th style=\"text-align: right;\">  CRS_ELAPSED_TIME</th><th style=\"text-align: right;\">  ACTUAL_ELAPSED_TIME</th><th style=\"text-align: right;\">  AIR_TIME</th><th style=\"text-align: right;\">  DISTANCE</th><th>CARRIER_DELAY  </th><th>WEATHER_DELAY  </th><th>NAS_DELAY  </th><th>SECURITY_DELAY  </th><th>LATE_AIRCRAFT_DELAY  </th><th>Unnamed: 27  </th></tr>\n",
              "</thead>\n",
              "<tbody>\n",
              "<tr><td><i style='opacity: 0.6'>0</i></td><td>2017-01-01</td><td>AA          </td><td style=\"text-align: right;\">                  1</td><td>JFK     </td><td>LAX   </td><td style=\"text-align: right;\">           800</td><td style=\"text-align: right;\">       831</td><td style=\"text-align: right;\">         31</td><td style=\"text-align: right;\">        25</td><td style=\"text-align: right;\">         856</td><td style=\"text-align: right;\">       1143</td><td style=\"text-align: right;\">       26</td><td style=\"text-align: right;\">          1142</td><td style=\"text-align: right;\">      1209</td><td style=\"text-align: right;\">         27</td><td style=\"text-align: right;\">          0</td><td>                   </td><td style=\"text-align: right;\">         0</td><td style=\"text-align: right;\">               402</td><td style=\"text-align: right;\">                  398</td><td style=\"text-align: right;\">       347</td><td style=\"text-align: right;\">      2475</td><td>27.0           </td><td>0.0            </td><td>0.0        </td><td>0.0             </td><td>0.0                  </td><td>--           </td></tr>\n",
              "<tr><td><i style='opacity: 0.6'>1</i></td><td>2017-01-01</td><td>AA          </td><td style=\"text-align: right;\">                  2</td><td>LAX     </td><td>JFK   </td><td style=\"text-align: right;\">           900</td><td style=\"text-align: right;\">       934</td><td style=\"text-align: right;\">         34</td><td style=\"text-align: right;\">        34</td><td style=\"text-align: right;\">        1008</td><td style=\"text-align: right;\">       1757</td><td style=\"text-align: right;\">       12</td><td style=\"text-align: right;\">          1727</td><td style=\"text-align: right;\">      1809</td><td style=\"text-align: right;\">         42</td><td style=\"text-align: right;\">          0</td><td>                   </td><td style=\"text-align: right;\">         0</td><td style=\"text-align: right;\">               327</td><td style=\"text-align: right;\">                  335</td><td style=\"text-align: right;\">       289</td><td style=\"text-align: right;\">      2475</td><td>34.0           </td><td>0.0            </td><td>8.0        </td><td>0.0             </td><td>0.0                  </td><td>--           </td></tr>\n",
              "<tr><td><i style='opacity: 0.6'>2</i></td><td>2017-01-01</td><td>AA          </td><td style=\"text-align: right;\">                  4</td><td>LAX     </td><td>JFK   </td><td style=\"text-align: right;\">          1130</td><td style=\"text-align: right;\">      1221</td><td style=\"text-align: right;\">         51</td><td style=\"text-align: right;\">        20</td><td style=\"text-align: right;\">        1241</td><td style=\"text-align: right;\">       2025</td><td style=\"text-align: right;\">       15</td><td style=\"text-align: right;\">          1958</td><td style=\"text-align: right;\">      2040</td><td style=\"text-align: right;\">         42</td><td style=\"text-align: right;\">          0</td><td>                   </td><td style=\"text-align: right;\">         0</td><td style=\"text-align: right;\">               328</td><td style=\"text-align: right;\">                  319</td><td style=\"text-align: right;\">       284</td><td style=\"text-align: right;\">      2475</td><td>7.0            </td><td>0.0            </td><td>0.0        </td><td>0.0             </td><td>35.0                 </td><td>--           </td></tr>\n",
              "<tr><td><i style='opacity: 0.6'>3</i></td><td>2017-01-01</td><td>AA          </td><td style=\"text-align: right;\">                  5</td><td>DFW     </td><td>HNL   </td><td style=\"text-align: right;\">          1135</td><td style=\"text-align: right;\">      1252</td><td style=\"text-align: right;\">         77</td><td style=\"text-align: right;\">        19</td><td style=\"text-align: right;\">        1311</td><td style=\"text-align: right;\">       1744</td><td style=\"text-align: right;\">        5</td><td style=\"text-align: right;\">          1612</td><td style=\"text-align: right;\">      1749</td><td style=\"text-align: right;\">         97</td><td style=\"text-align: right;\">          0</td><td>                   </td><td style=\"text-align: right;\">         0</td><td style=\"text-align: right;\">               517</td><td style=\"text-align: right;\">                  537</td><td style=\"text-align: right;\">       513</td><td style=\"text-align: right;\">      3784</td><td>77.0           </td><td>0.0            </td><td>20.0       </td><td>0.0             </td><td>0.0                  </td><td>--           </td></tr>\n",
              "<tr><td><i style='opacity: 0.6'>4</i></td><td>2017-01-01</td><td>AA          </td><td style=\"text-align: right;\">                  6</td><td>OGG     </td><td>DFW   </td><td style=\"text-align: right;\">          1855</td><td style=\"text-align: right;\">      1855</td><td style=\"text-align: right;\">          0</td><td style=\"text-align: right;\">        16</td><td style=\"text-align: right;\">        1911</td><td style=\"text-align: right;\">        631</td><td style=\"text-align: right;\">       11</td><td style=\"text-align: right;\">           600</td><td style=\"text-align: right;\">       642</td><td style=\"text-align: right;\">         42</td><td style=\"text-align: right;\">          0</td><td>                   </td><td style=\"text-align: right;\">         0</td><td style=\"text-align: right;\">               425</td><td style=\"text-align: right;\">                  467</td><td style=\"text-align: right;\">       440</td><td style=\"text-align: right;\">      3711</td><td>0.0            </td><td>0.0            </td><td>42.0       </td><td>0.0             </td><td>0.0                  </td><td>--           </td></tr>\n",
              "<tr><td><i style='opacity: 0.6'>5</i></td><td>2017-01-01</td><td>AA          </td><td style=\"text-align: right;\">                  7</td><td>DFW     </td><td>OGG   </td><td style=\"text-align: right;\">           940</td><td style=\"text-align: right;\">      1619</td><td style=\"text-align: right;\">        399</td><td style=\"text-align: right;\">        12</td><td style=\"text-align: right;\">        1631</td><td style=\"text-align: right;\">       2031</td><td style=\"text-align: right;\">        6</td><td style=\"text-align: right;\">          1403</td><td style=\"text-align: right;\">      2037</td><td style=\"text-align: right;\">        394</td><td style=\"text-align: right;\">          0</td><td>                   </td><td style=\"text-align: right;\">         0</td><td style=\"text-align: right;\">               503</td><td style=\"text-align: right;\">                  498</td><td style=\"text-align: right;\">       480</td><td style=\"text-align: right;\">      3711</td><td>394.0          </td><td>0.0            </td><td>0.0        </td><td>0.0             </td><td>0.0                  </td><td>--           </td></tr>\n",
              "<tr><td><i style='opacity: 0.6'>6</i></td><td>2017-01-01</td><td>AA          </td><td style=\"text-align: right;\">                  8</td><td>HNL     </td><td>DFW   </td><td style=\"text-align: right;\">          1838</td><td style=\"text-align: right;\">      1903</td><td style=\"text-align: right;\">         25</td><td style=\"text-align: right;\">        19</td><td style=\"text-align: right;\">        1922</td><td style=\"text-align: right;\">        636</td><td style=\"text-align: right;\">       12</td><td style=\"text-align: right;\">           550</td><td style=\"text-align: right;\">       648</td><td style=\"text-align: right;\">         58</td><td style=\"text-align: right;\">          0</td><td>                   </td><td style=\"text-align: right;\">         0</td><td style=\"text-align: right;\">               432</td><td style=\"text-align: right;\">                  465</td><td style=\"text-align: right;\">       434</td><td style=\"text-align: right;\">      3784</td><td>25.0           </td><td>0.0            </td><td>33.0       </td><td>0.0             </td><td>0.0                  </td><td>--           </td></tr>\n",
              "<tr><td><i style='opacity: 0.6'>7</i></td><td>2017-01-01</td><td>AA          </td><td style=\"text-align: right;\">                  9</td><td>JFK     </td><td>SFO   </td><td style=\"text-align: right;\">           700</td><td style=\"text-align: right;\">       656</td><td style=\"text-align: right;\">         -4</td><td style=\"text-align: right;\">        22</td><td style=\"text-align: right;\">         718</td><td style=\"text-align: right;\">       1020</td><td style=\"text-align: right;\">        3</td><td style=\"text-align: right;\">          1045</td><td style=\"text-align: right;\">      1023</td><td style=\"text-align: right;\">        -22</td><td style=\"text-align: right;\">          0</td><td>                   </td><td style=\"text-align: right;\">         0</td><td style=\"text-align: right;\">               405</td><td style=\"text-align: right;\">                  387</td><td style=\"text-align: right;\">       362</td><td style=\"text-align: right;\">      2586</td><td>--             </td><td>--             </td><td>--         </td><td>--              </td><td>--                   </td><td>--           </td></tr>\n",
              "<tr><td><i style='opacity: 0.6'>8</i></td><td>2017-01-01</td><td>AA          </td><td style=\"text-align: right;\">                 10</td><td>LAX     </td><td>JFK   </td><td style=\"text-align: right;\">          2100</td><td style=\"text-align: right;\">      2100</td><td style=\"text-align: right;\">          0</td><td style=\"text-align: right;\">        15</td><td style=\"text-align: right;\">        2115</td><td style=\"text-align: right;\">        447</td><td style=\"text-align: right;\">       10</td><td style=\"text-align: right;\">           527</td><td style=\"text-align: right;\">       457</td><td style=\"text-align: right;\">        -30</td><td style=\"text-align: right;\">          0</td><td>                   </td><td style=\"text-align: right;\">         0</td><td style=\"text-align: right;\">               327</td><td style=\"text-align: right;\">                  297</td><td style=\"text-align: right;\">       272</td><td style=\"text-align: right;\">      2475</td><td>--             </td><td>--             </td><td>--         </td><td>--              </td><td>--                   </td><td>--           </td></tr>\n",
              "<tr><td><i style='opacity: 0.6'>9</i></td><td>2017-01-01</td><td>AA          </td><td style=\"text-align: right;\">                 12</td><td>SFO     </td><td>JFK   </td><td style=\"text-align: right;\">          1135</td><td style=\"text-align: right;\">      1130</td><td style=\"text-align: right;\">         -5</td><td style=\"text-align: right;\">        27</td><td style=\"text-align: right;\">        1157</td><td style=\"text-align: right;\">       1937</td><td style=\"text-align: right;\">       17</td><td style=\"text-align: right;\">          2018</td><td style=\"text-align: right;\">      1954</td><td style=\"text-align: right;\">        -24</td><td style=\"text-align: right;\">          0</td><td>                   </td><td style=\"text-align: right;\">         0</td><td style=\"text-align: right;\">               343</td><td style=\"text-align: right;\">                  324</td><td style=\"text-align: right;\">       280</td><td style=\"text-align: right;\">      2586</td><td>--             </td><td>--             </td><td>--         </td><td>--              </td><td>--                   </td><td>--           </td></tr>\n",
              "</tbody>\n",
              "</table>"
            ],
            "text/plain": [
              "  #  FL_DATE     OP_CARRIER      OP_CARRIER_FL_NUM  ORIGIN    DEST      CRS_DEP_TIME    DEP_TIME    DEP_DELAY    TAXI_OUT    WHEELS_OFF    WHEELS_ON    TAXI_IN    CRS_ARR_TIME    ARR_TIME    ARR_DELAY    CANCELLED  CANCELLATION_CODE      DIVERTED    CRS_ELAPSED_TIME    ACTUAL_ELAPSED_TIME    AIR_TIME    DISTANCE  CARRIER_DELAY    WEATHER_DELAY    NAS_DELAY    SECURITY_DELAY    LATE_AIRCRAFT_DELAY    Unnamed: 27\n",
              "  0  2017-01-01  AA                              1  JFK       LAX                800         831           31          25           856         1143         26            1142        1209           27            0                                0                 402                    398         347        2475  27.0             0.0              0.0          0.0               0.0                    --\n",
              "  1  2017-01-01  AA                              2  LAX       JFK                900         934           34          34          1008         1757         12            1727        1809           42            0                                0                 327                    335         289        2475  34.0             0.0              8.0          0.0               0.0                    --\n",
              "  2  2017-01-01  AA                              4  LAX       JFK               1130        1221           51          20          1241         2025         15            1958        2040           42            0                                0                 328                    319         284        2475  7.0              0.0              0.0          0.0               35.0                   --\n",
              "  3  2017-01-01  AA                              5  DFW       HNL               1135        1252           77          19          1311         1744          5            1612        1749           97            0                                0                 517                    537         513        3784  77.0             0.0              20.0         0.0               0.0                    --\n",
              "  4  2017-01-01  AA                              6  OGG       DFW               1855        1855            0          16          1911          631         11             600         642           42            0                                0                 425                    467         440        3711  0.0              0.0              42.0         0.0               0.0                    --\n",
              "  5  2017-01-01  AA                              7  DFW       OGG                940        1619          399          12          1631         2031          6            1403        2037          394            0                                0                 503                    498         480        3711  394.0            0.0              0.0          0.0               0.0                    --\n",
              "  6  2017-01-01  AA                              8  HNL       DFW               1838        1903           25          19          1922          636         12             550         648           58            0                                0                 432                    465         434        3784  25.0             0.0              33.0         0.0               0.0                    --\n",
              "  7  2017-01-01  AA                              9  JFK       SFO                700         656           -4          22           718         1020          3            1045        1023          -22            0                                0                 405                    387         362        2586  --               --               --           --                --                     --\n",
              "  8  2017-01-01  AA                             10  LAX       JFK               2100        2100            0          15          2115          447         10             527         457          -30            0                                0                 327                    297         272        2475  --               --               --           --                --                     --\n",
              "  9  2017-01-01  AA                             12  SFO       JFK               1135        1130           -5          27          1157         1937         17            2018        1954          -24            0                                0                 343                    324         280        2586  --               --               --           --                --                     --"
            ]
          },
          "metadata": {},
          "execution_count": 15
        }
      ],
      "source": [
        "dfb = vx.open(\"2017.csv\")\n",
        "dfb.head()"
      ]
    },
    {
      "cell_type": "code",
      "execution_count": 16,
      "metadata": {
        "colab": {
          "base_uri": "https://localhost:8080/",
          "height": 465
        },
        "id": "txMqxmrxtuQ6",
        "outputId": "3fd9fc02-194c-4f28-e27c-2c5135ad7bbe"
      },
      "outputs": [
        {
          "output_type": "execute_result",
          "data": {
            "text/html": [
              "<table>\n",
              "<thead>\n",
              "<tr><th>#                            </th><th>FL_DATE   </th><th>OP_CARRIER  </th><th style=\"text-align: right;\">  OP_CARRIER_FL_NUM</th><th>ORIGIN  </th><th>DEST  </th><th style=\"text-align: right;\">  CRS_DEP_TIME</th><th style=\"text-align: right;\">  DEP_TIME</th><th style=\"text-align: right;\">  DEP_DELAY</th><th style=\"text-align: right;\">  TAXI_OUT</th><th style=\"text-align: right;\">  WHEELS_OFF</th><th style=\"text-align: right;\">  WHEELS_ON</th><th style=\"text-align: right;\">  TAXI_IN</th><th style=\"text-align: right;\">  CRS_ARR_TIME</th><th style=\"text-align: right;\">  ARR_TIME</th><th style=\"text-align: right;\">  ARR_DELAY</th><th style=\"text-align: right;\">  CANCELLED</th><th>CANCELLATION_CODE  </th><th style=\"text-align: right;\">  DIVERTED</th><th style=\"text-align: right;\">  CRS_ELAPSED_TIME</th><th style=\"text-align: right;\">  ACTUAL_ELAPSED_TIME</th><th style=\"text-align: right;\">  AIR_TIME</th><th style=\"text-align: right;\">  DISTANCE</th><th>CARRIER_DELAY  </th><th>WEATHER_DELAY  </th><th>NAS_DELAY  </th><th>SECURITY_DELAY  </th><th>LATE_AIRCRAFT_DELAY  </th><th>Unnamed: 27  </th></tr>\n",
              "</thead>\n",
              "<tbody>\n",
              "<tr><td><i style='opacity: 0.6'>0</i></td><td>2018-01-01</td><td>UA          </td><td style=\"text-align: right;\">               2429</td><td>EWR     </td><td>DEN   </td><td style=\"text-align: right;\">          1517</td><td style=\"text-align: right;\">      1512</td><td style=\"text-align: right;\">         -5</td><td style=\"text-align: right;\">        15</td><td style=\"text-align: right;\">        1527</td><td style=\"text-align: right;\">       1712</td><td style=\"text-align: right;\">       10</td><td style=\"text-align: right;\">          1745</td><td style=\"text-align: right;\">      1722</td><td style=\"text-align: right;\">        -23</td><td style=\"text-align: right;\">          0</td><td>                   </td><td style=\"text-align: right;\">         0</td><td style=\"text-align: right;\">               268</td><td style=\"text-align: right;\">                  250</td><td style=\"text-align: right;\">       225</td><td style=\"text-align: right;\">      1605</td><td>--             </td><td>--             </td><td>--         </td><td>--              </td><td>--                   </td><td>--           </td></tr>\n",
              "<tr><td><i style='opacity: 0.6'>1</i></td><td>2018-01-01</td><td>UA          </td><td style=\"text-align: right;\">               2427</td><td>LAS     </td><td>SFO   </td><td style=\"text-align: right;\">          1115</td><td style=\"text-align: right;\">      1107</td><td style=\"text-align: right;\">         -8</td><td style=\"text-align: right;\">        11</td><td style=\"text-align: right;\">        1118</td><td style=\"text-align: right;\">       1223</td><td style=\"text-align: right;\">        7</td><td style=\"text-align: right;\">          1254</td><td style=\"text-align: right;\">      1230</td><td style=\"text-align: right;\">        -24</td><td style=\"text-align: right;\">          0</td><td>                   </td><td style=\"text-align: right;\">         0</td><td style=\"text-align: right;\">                99</td><td style=\"text-align: right;\">                   83</td><td style=\"text-align: right;\">        65</td><td style=\"text-align: right;\">       414</td><td>--             </td><td>--             </td><td>--         </td><td>--              </td><td>--                   </td><td>--           </td></tr>\n",
              "<tr><td><i style='opacity: 0.6'>2</i></td><td>2018-01-01</td><td>UA          </td><td style=\"text-align: right;\">               2426</td><td>SNA     </td><td>DEN   </td><td style=\"text-align: right;\">          1335</td><td style=\"text-align: right;\">      1330</td><td style=\"text-align: right;\">         -5</td><td style=\"text-align: right;\">        15</td><td style=\"text-align: right;\">        1345</td><td style=\"text-align: right;\">       1631</td><td style=\"text-align: right;\">        5</td><td style=\"text-align: right;\">          1649</td><td style=\"text-align: right;\">      1636</td><td style=\"text-align: right;\">        -13</td><td style=\"text-align: right;\">          0</td><td>                   </td><td style=\"text-align: right;\">         0</td><td style=\"text-align: right;\">               134</td><td style=\"text-align: right;\">                  126</td><td style=\"text-align: right;\">       106</td><td style=\"text-align: right;\">       846</td><td>--             </td><td>--             </td><td>--         </td><td>--              </td><td>--                   </td><td>--           </td></tr>\n",
              "<tr><td><i style='opacity: 0.6'>3</i></td><td>2018-01-01</td><td>UA          </td><td style=\"text-align: right;\">               2425</td><td>RSW     </td><td>ORD   </td><td style=\"text-align: right;\">          1546</td><td style=\"text-align: right;\">      1552</td><td style=\"text-align: right;\">          6</td><td style=\"text-align: right;\">        19</td><td style=\"text-align: right;\">        1611</td><td style=\"text-align: right;\">       1748</td><td style=\"text-align: right;\">        6</td><td style=\"text-align: right;\">          1756</td><td style=\"text-align: right;\">      1754</td><td style=\"text-align: right;\">         -2</td><td style=\"text-align: right;\">          0</td><td>                   </td><td style=\"text-align: right;\">         0</td><td style=\"text-align: right;\">               190</td><td style=\"text-align: right;\">                  182</td><td style=\"text-align: right;\">       157</td><td style=\"text-align: right;\">      1120</td><td>--             </td><td>--             </td><td>--         </td><td>--              </td><td>--                   </td><td>--           </td></tr>\n",
              "<tr><td><i style='opacity: 0.6'>4</i></td><td>2018-01-01</td><td>UA          </td><td style=\"text-align: right;\">               2424</td><td>ORD     </td><td>ALB   </td><td style=\"text-align: right;\">           630</td><td style=\"text-align: right;\">       650</td><td style=\"text-align: right;\">         20</td><td style=\"text-align: right;\">        13</td><td style=\"text-align: right;\">         703</td><td style=\"text-align: right;\">        926</td><td style=\"text-align: right;\">       10</td><td style=\"text-align: right;\">           922</td><td style=\"text-align: right;\">       936</td><td style=\"text-align: right;\">         14</td><td style=\"text-align: right;\">          0</td><td>                   </td><td style=\"text-align: right;\">         0</td><td style=\"text-align: right;\">               112</td><td style=\"text-align: right;\">                  106</td><td style=\"text-align: right;\">        83</td><td style=\"text-align: right;\">       723</td><td>--             </td><td>--             </td><td>--         </td><td>--              </td><td>--                   </td><td>--           </td></tr>\n",
              "<tr><td><i style='opacity: 0.6'>5</i></td><td>2018-01-01</td><td>UA          </td><td style=\"text-align: right;\">               2422</td><td>ORD     </td><td>OMA   </td><td style=\"text-align: right;\">          2241</td><td style=\"text-align: right;\">      2244</td><td style=\"text-align: right;\">          3</td><td style=\"text-align: right;\">        15</td><td style=\"text-align: right;\">        2259</td><td style=\"text-align: right;\">          1</td><td style=\"text-align: right;\">        2</td><td style=\"text-align: right;\">            14</td><td style=\"text-align: right;\">         3</td><td style=\"text-align: right;\">        -11</td><td style=\"text-align: right;\">          0</td><td>                   </td><td style=\"text-align: right;\">         0</td><td style=\"text-align: right;\">                93</td><td style=\"text-align: right;\">                   79</td><td style=\"text-align: right;\">        62</td><td style=\"text-align: right;\">       416</td><td>--             </td><td>--             </td><td>--         </td><td>--              </td><td>--                   </td><td>--           </td></tr>\n",
              "<tr><td><i style='opacity: 0.6'>6</i></td><td>2018-01-01</td><td>UA          </td><td style=\"text-align: right;\">               2421</td><td>IAH     </td><td>LAS   </td><td style=\"text-align: right;\">           750</td><td style=\"text-align: right;\">       747</td><td style=\"text-align: right;\">         -3</td><td style=\"text-align: right;\">        14</td><td style=\"text-align: right;\">         801</td><td style=\"text-align: right;\">        854</td><td style=\"text-align: right;\">        6</td><td style=\"text-align: right;\">           916</td><td style=\"text-align: right;\">       900</td><td style=\"text-align: right;\">        -16</td><td style=\"text-align: right;\">          0</td><td>                   </td><td style=\"text-align: right;\">         0</td><td style=\"text-align: right;\">               206</td><td style=\"text-align: right;\">                  193</td><td style=\"text-align: right;\">       173</td><td style=\"text-align: right;\">      1222</td><td>--             </td><td>--             </td><td>--         </td><td>--              </td><td>--                   </td><td>--           </td></tr>\n",
              "<tr><td><i style='opacity: 0.6'>7</i></td><td>2018-01-01</td><td>UA          </td><td style=\"text-align: right;\">               2420</td><td>DEN     </td><td>CID   </td><td style=\"text-align: right;\">          1324</td><td style=\"text-align: right;\">      1318</td><td style=\"text-align: right;\">         -6</td><td style=\"text-align: right;\">        11</td><td style=\"text-align: right;\">        1329</td><td style=\"text-align: right;\">       1554</td><td style=\"text-align: right;\">        6</td><td style=\"text-align: right;\">          1619</td><td style=\"text-align: right;\">      1600</td><td style=\"text-align: right;\">        -19</td><td style=\"text-align: right;\">          0</td><td>                   </td><td style=\"text-align: right;\">         0</td><td style=\"text-align: right;\">               115</td><td style=\"text-align: right;\">                  102</td><td style=\"text-align: right;\">        85</td><td style=\"text-align: right;\">       692</td><td>--             </td><td>--             </td><td>--         </td><td>--              </td><td>--                   </td><td>--           </td></tr>\n",
              "<tr><td><i style='opacity: 0.6'>8</i></td><td>2018-01-01</td><td>UA          </td><td style=\"text-align: right;\">               2419</td><td>SMF     </td><td>EWR   </td><td style=\"text-align: right;\">          2224</td><td style=\"text-align: right;\">      2237</td><td style=\"text-align: right;\">         13</td><td style=\"text-align: right;\">        10</td><td style=\"text-align: right;\">        2247</td><td style=\"text-align: right;\">        627</td><td style=\"text-align: right;\">        9</td><td style=\"text-align: right;\">           638</td><td style=\"text-align: right;\">       636</td><td style=\"text-align: right;\">         -2</td><td style=\"text-align: right;\">          0</td><td>                   </td><td style=\"text-align: right;\">         0</td><td style=\"text-align: right;\">               314</td><td style=\"text-align: right;\">                  299</td><td style=\"text-align: right;\">       280</td><td style=\"text-align: right;\">      2500</td><td>--             </td><td>--             </td><td>--         </td><td>--              </td><td>--                   </td><td>--           </td></tr>\n",
              "<tr><td><i style='opacity: 0.6'>9</i></td><td>2018-01-01</td><td>UA          </td><td style=\"text-align: right;\">               2418</td><td>RIC     </td><td>DEN   </td><td style=\"text-align: right;\">          1601</td><td style=\"text-align: right;\">      1559</td><td style=\"text-align: right;\">         -2</td><td style=\"text-align: right;\">        12</td><td style=\"text-align: right;\">        1611</td><td style=\"text-align: right;\">       1748</td><td style=\"text-align: right;\">        8</td><td style=\"text-align: right;\">          1813</td><td style=\"text-align: right;\">      1756</td><td style=\"text-align: right;\">        -17</td><td style=\"text-align: right;\">          0</td><td>                   </td><td style=\"text-align: right;\">         0</td><td style=\"text-align: right;\">               252</td><td style=\"text-align: right;\">                  237</td><td style=\"text-align: right;\">       217</td><td style=\"text-align: right;\">      1482</td><td>--             </td><td>--             </td><td>--         </td><td>--              </td><td>--                   </td><td>--           </td></tr>\n",
              "</tbody>\n",
              "</table>"
            ],
            "text/plain": [
              "  #  FL_DATE     OP_CARRIER      OP_CARRIER_FL_NUM  ORIGIN    DEST      CRS_DEP_TIME    DEP_TIME    DEP_DELAY    TAXI_OUT    WHEELS_OFF    WHEELS_ON    TAXI_IN    CRS_ARR_TIME    ARR_TIME    ARR_DELAY    CANCELLED  CANCELLATION_CODE      DIVERTED    CRS_ELAPSED_TIME    ACTUAL_ELAPSED_TIME    AIR_TIME    DISTANCE  CARRIER_DELAY    WEATHER_DELAY    NAS_DELAY    SECURITY_DELAY    LATE_AIRCRAFT_DELAY    Unnamed: 27\n",
              "  0  2018-01-01  UA                           2429  EWR       DEN               1517        1512           -5          15          1527         1712         10            1745        1722          -23            0                                0                 268                    250         225        1605  --               --               --           --                --                     --\n",
              "  1  2018-01-01  UA                           2427  LAS       SFO               1115        1107           -8          11          1118         1223          7            1254        1230          -24            0                                0                  99                     83          65         414  --               --               --           --                --                     --\n",
              "  2  2018-01-01  UA                           2426  SNA       DEN               1335        1330           -5          15          1345         1631          5            1649        1636          -13            0                                0                 134                    126         106         846  --               --               --           --                --                     --\n",
              "  3  2018-01-01  UA                           2425  RSW       ORD               1546        1552            6          19          1611         1748          6            1756        1754           -2            0                                0                 190                    182         157        1120  --               --               --           --                --                     --\n",
              "  4  2018-01-01  UA                           2424  ORD       ALB                630         650           20          13           703          926         10             922         936           14            0                                0                 112                    106          83         723  --               --               --           --                --                     --\n",
              "  5  2018-01-01  UA                           2422  ORD       OMA               2241        2244            3          15          2259            1          2              14           3          -11            0                                0                  93                     79          62         416  --               --               --           --                --                     --\n",
              "  6  2018-01-01  UA                           2421  IAH       LAS                750         747           -3          14           801          854          6             916         900          -16            0                                0                 206                    193         173        1222  --               --               --           --                --                     --\n",
              "  7  2018-01-01  UA                           2420  DEN       CID               1324        1318           -6          11          1329         1554          6            1619        1600          -19            0                                0                 115                    102          85         692  --               --               --           --                --                     --\n",
              "  8  2018-01-01  UA                           2419  SMF       EWR               2224        2237           13          10          2247          627          9             638         636           -2            0                                0                 314                    299         280        2500  --               --               --           --                --                     --\n",
              "  9  2018-01-01  UA                           2418  RIC       DEN               1601        1559           -2          12          1611         1748          8            1813        1756          -17            0                                0                 252                    237         217        1482  --               --               --           --                --                     --"
            ]
          },
          "metadata": {},
          "execution_count": 16
        }
      ],
      "source": [
        "dfc = vx.open(\"2018.csv\")\n",
        "dfc.head()"
      ]
    },
    {
      "cell_type": "code",
      "execution_count": 17,
      "metadata": {
        "colab": {
          "base_uri": "https://localhost:8080/",
          "height": 465
        },
        "id": "4dpYofDjuh91",
        "outputId": "ff352ae9-f133-4842-eec9-88e20617312f"
      },
      "outputs": [
        {
          "output_type": "execute_result",
          "data": {
            "text/html": [
              "<table>\n",
              "<thead>\n",
              "<tr><th>#                            </th><th>FL_DATE   </th><th>OP_CARRIER  </th><th style=\"text-align: right;\">  OP_CARRIER_FL_NUM</th><th>ORIGIN  </th><th>DEST  </th><th style=\"text-align: right;\">  CRS_DEP_TIME</th><th style=\"text-align: right;\">  DEP_TIME</th><th style=\"text-align: right;\">  DEP_DELAY</th><th style=\"text-align: right;\">  TAXI_OUT</th><th style=\"text-align: right;\">  WHEELS_OFF</th><th style=\"text-align: right;\">  WHEELS_ON</th><th style=\"text-align: right;\">  TAXI_IN</th><th style=\"text-align: right;\">  CRS_ARR_TIME</th><th style=\"text-align: right;\">  ARR_TIME</th><th style=\"text-align: right;\">  ARR_DELAY</th><th style=\"text-align: right;\">  CANCELLED</th><th>CANCELLATION_CODE  </th><th style=\"text-align: right;\">  DIVERTED</th><th style=\"text-align: right;\">  CRS_ELAPSED_TIME</th><th style=\"text-align: right;\">  ACTUAL_ELAPSED_TIME</th><th style=\"text-align: right;\">  AIR_TIME</th><th style=\"text-align: right;\">  DISTANCE</th><th>CARRIER_DELAY  </th><th>WEATHER_DELAY  </th><th>NAS_DELAY  </th><th>SECURITY_DELAY  </th><th>LATE_AIRCRAFT_DELAY  </th><th>Unnamed: 27  </th></tr>\n",
              "</thead>\n",
              "<tbody>\n",
              "<tr><td><i style='opacity: 0.6'>0</i></td><td>2016-01-01</td><td>DL          </td><td style=\"text-align: right;\">               1248</td><td>DTW     </td><td>LAX   </td><td style=\"text-align: right;\">          1935</td><td style=\"text-align: right;\">      1935</td><td style=\"text-align: right;\">          0</td><td style=\"text-align: right;\">        23</td><td style=\"text-align: right;\">        1958</td><td style=\"text-align: right;\">       2107</td><td style=\"text-align: right;\">       13</td><td style=\"text-align: right;\">          2144</td><td style=\"text-align: right;\">      2120</td><td style=\"text-align: right;\">        -24</td><td style=\"text-align: right;\">          0</td><td>                   </td><td style=\"text-align: right;\">         0</td><td style=\"text-align: right;\">               309</td><td style=\"text-align: right;\">                  285</td><td style=\"text-align: right;\">       249</td><td style=\"text-align: right;\">      1979</td><td>--             </td><td>--             </td><td>--         </td><td>--              </td><td>--                   </td><td>--           </td></tr>\n",
              "<tr><td><i style='opacity: 0.6'>1</i></td><td>2016-01-01</td><td>DL          </td><td style=\"text-align: right;\">               1251</td><td>ATL     </td><td>GRR   </td><td style=\"text-align: right;\">          2125</td><td style=\"text-align: right;\">      2130</td><td style=\"text-align: right;\">          5</td><td style=\"text-align: right;\">        13</td><td style=\"text-align: right;\">        2143</td><td style=\"text-align: right;\">       2315</td><td style=\"text-align: right;\">        4</td><td style=\"text-align: right;\">          2321</td><td style=\"text-align: right;\">      2319</td><td style=\"text-align: right;\">         -2</td><td style=\"text-align: right;\">          0</td><td>                   </td><td style=\"text-align: right;\">         0</td><td style=\"text-align: right;\">               116</td><td style=\"text-align: right;\">                  109</td><td style=\"text-align: right;\">        92</td><td style=\"text-align: right;\">       640</td><td>--             </td><td>--             </td><td>--         </td><td>--              </td><td>--                   </td><td>--           </td></tr>\n",
              "<tr><td><i style='opacity: 0.6'>2</i></td><td>2016-01-01</td><td>DL          </td><td style=\"text-align: right;\">               1254</td><td>LAX     </td><td>ATL   </td><td style=\"text-align: right;\">          2255</td><td style=\"text-align: right;\">      2256</td><td style=\"text-align: right;\">          1</td><td style=\"text-align: right;\">        19</td><td style=\"text-align: right;\">        2315</td><td style=\"text-align: right;\">        542</td><td style=\"text-align: right;\">        5</td><td style=\"text-align: right;\">           600</td><td style=\"text-align: right;\">       547</td><td style=\"text-align: right;\">        -13</td><td style=\"text-align: right;\">          0</td><td>                   </td><td style=\"text-align: right;\">         0</td><td style=\"text-align: right;\">               245</td><td style=\"text-align: right;\">                  231</td><td style=\"text-align: right;\">       207</td><td style=\"text-align: right;\">      1947</td><td>--             </td><td>--             </td><td>--         </td><td>--              </td><td>--                   </td><td>--           </td></tr>\n",
              "<tr><td><i style='opacity: 0.6'>3</i></td><td>2016-01-01</td><td>DL          </td><td style=\"text-align: right;\">               1255</td><td>SLC     </td><td>ATL   </td><td style=\"text-align: right;\">          1656</td><td style=\"text-align: right;\">      1700</td><td style=\"text-align: right;\">          4</td><td style=\"text-align: right;\">        12</td><td style=\"text-align: right;\">        1712</td><td style=\"text-align: right;\">       2205</td><td style=\"text-align: right;\">        8</td><td style=\"text-align: right;\">          2229</td><td style=\"text-align: right;\">      2213</td><td style=\"text-align: right;\">        -16</td><td style=\"text-align: right;\">          0</td><td>                   </td><td style=\"text-align: right;\">         0</td><td style=\"text-align: right;\">               213</td><td style=\"text-align: right;\">                  193</td><td style=\"text-align: right;\">       173</td><td style=\"text-align: right;\">      1590</td><td>--             </td><td>--             </td><td>--         </td><td>--              </td><td>--                   </td><td>--           </td></tr>\n",
              "<tr><td><i style='opacity: 0.6'>4</i></td><td>2016-01-01</td><td>DL          </td><td style=\"text-align: right;\">               1256</td><td>BZN     </td><td>MSP   </td><td style=\"text-align: right;\">           900</td><td style=\"text-align: right;\">      1012</td><td style=\"text-align: right;\">         72</td><td style=\"text-align: right;\">        63</td><td style=\"text-align: right;\">        1115</td><td style=\"text-align: right;\">       1416</td><td style=\"text-align: right;\">        4</td><td style=\"text-align: right;\">          1216</td><td style=\"text-align: right;\">      1420</td><td style=\"text-align: right;\">        124</td><td style=\"text-align: right;\">          0</td><td>                   </td><td style=\"text-align: right;\">         0</td><td style=\"text-align: right;\">               136</td><td style=\"text-align: right;\">                  188</td><td style=\"text-align: right;\">       121</td><td style=\"text-align: right;\">       874</td><td>72.0           </td><td>0.0            </td><td>52.0       </td><td>0.0             </td><td>0.0                  </td><td>--           </td></tr>\n",
              "<tr><td><i style='opacity: 0.6'>5</i></td><td>2016-01-01</td><td>DL          </td><td style=\"text-align: right;\">               1257</td><td>ATL     </td><td>BNA   </td><td style=\"text-align: right;\">          1233</td><td style=\"text-align: right;\">      1356</td><td style=\"text-align: right;\">         83</td><td style=\"text-align: right;\">        22</td><td style=\"text-align: right;\">        1418</td><td style=\"text-align: right;\">       1356</td><td style=\"text-align: right;\">        6</td><td style=\"text-align: right;\">          1239</td><td style=\"text-align: right;\">      1402</td><td style=\"text-align: right;\">         83</td><td style=\"text-align: right;\">          0</td><td>                   </td><td style=\"text-align: right;\">         0</td><td style=\"text-align: right;\">                66</td><td style=\"text-align: right;\">                   66</td><td style=\"text-align: right;\">        38</td><td style=\"text-align: right;\">       214</td><td>43.0           </td><td>0.0            </td><td>0.0        </td><td>0.0             </td><td>40.0                 </td><td>--           </td></tr>\n",
              "<tr><td><i style='opacity: 0.6'>6</i></td><td>2016-01-01</td><td>DL          </td><td style=\"text-align: right;\">               1257</td><td>BNA     </td><td>ATL   </td><td style=\"text-align: right;\">          1320</td><td style=\"text-align: right;\">      1446</td><td style=\"text-align: right;\">         86</td><td style=\"text-align: right;\">        15</td><td style=\"text-align: right;\">        1501</td><td style=\"text-align: right;\">       1638</td><td style=\"text-align: right;\">        6</td><td style=\"text-align: right;\">          1530</td><td style=\"text-align: right;\">      1644</td><td style=\"text-align: right;\">         74</td><td style=\"text-align: right;\">          0</td><td>                   </td><td style=\"text-align: right;\">         0</td><td style=\"text-align: right;\">                70</td><td style=\"text-align: right;\">                   58</td><td style=\"text-align: right;\">        37</td><td style=\"text-align: right;\">       214</td><td>3.0            </td><td>0.0            </td><td>0.0        </td><td>0.0             </td><td>71.0                 </td><td>--           </td></tr>\n",
              "<tr><td><i style='opacity: 0.6'>7</i></td><td>2016-01-01</td><td>DL          </td><td style=\"text-align: right;\">               1258</td><td>ATL     </td><td>JAX   </td><td style=\"text-align: right;\">           945</td><td style=\"text-align: right;\">       946</td><td style=\"text-align: right;\">          1</td><td style=\"text-align: right;\">        19</td><td style=\"text-align: right;\">        1005</td><td style=\"text-align: right;\">       1050</td><td style=\"text-align: right;\">        3</td><td style=\"text-align: right;\">          1050</td><td style=\"text-align: right;\">      1053</td><td style=\"text-align: right;\">          3</td><td style=\"text-align: right;\">          0</td><td>                   </td><td style=\"text-align: right;\">         0</td><td style=\"text-align: right;\">                65</td><td style=\"text-align: right;\">                   67</td><td style=\"text-align: right;\">        45</td><td style=\"text-align: right;\">       270</td><td>--             </td><td>--             </td><td>--         </td><td>--              </td><td>--                   </td><td>--           </td></tr>\n",
              "<tr><td><i style='opacity: 0.6'>8</i></td><td>2016-01-01</td><td>DL          </td><td style=\"text-align: right;\">               1258</td><td>JAX     </td><td>ATL   </td><td style=\"text-align: right;\">          1145</td><td style=\"text-align: right;\">      1144</td><td style=\"text-align: right;\">         -1</td><td style=\"text-align: right;\">        12</td><td style=\"text-align: right;\">        1156</td><td style=\"text-align: right;\">       1239</td><td style=\"text-align: right;\">        8</td><td style=\"text-align: right;\">          1302</td><td style=\"text-align: right;\">      1247</td><td style=\"text-align: right;\">        -15</td><td style=\"text-align: right;\">          0</td><td>                   </td><td style=\"text-align: right;\">         0</td><td style=\"text-align: right;\">                77</td><td style=\"text-align: right;\">                   63</td><td style=\"text-align: right;\">        43</td><td style=\"text-align: right;\">       270</td><td>--             </td><td>--             </td><td>--         </td><td>--              </td><td>--                   </td><td>--           </td></tr>\n",
              "<tr><td><i style='opacity: 0.6'>9</i></td><td>2016-01-01</td><td>DL          </td><td style=\"text-align: right;\">               1259</td><td>ATL     </td><td>OKC   </td><td style=\"text-align: right;\">          2110</td><td style=\"text-align: right;\">      2107</td><td style=\"text-align: right;\">         -3</td><td style=\"text-align: right;\">        16</td><td style=\"text-align: right;\">        2123</td><td style=\"text-align: right;\">       2219</td><td style=\"text-align: right;\">        5</td><td style=\"text-align: right;\">          2236</td><td style=\"text-align: right;\">      2224</td><td style=\"text-align: right;\">        -12</td><td style=\"text-align: right;\">          0</td><td>                   </td><td style=\"text-align: right;\">         0</td><td style=\"text-align: right;\">               146</td><td style=\"text-align: right;\">                  137</td><td style=\"text-align: right;\">       116</td><td style=\"text-align: right;\">       761</td><td>--             </td><td>--             </td><td>--         </td><td>--              </td><td>--                   </td><td>--           </td></tr>\n",
              "</tbody>\n",
              "</table>"
            ],
            "text/plain": [
              "  #  FL_DATE     OP_CARRIER      OP_CARRIER_FL_NUM  ORIGIN    DEST      CRS_DEP_TIME    DEP_TIME    DEP_DELAY    TAXI_OUT    WHEELS_OFF    WHEELS_ON    TAXI_IN    CRS_ARR_TIME    ARR_TIME    ARR_DELAY    CANCELLED  CANCELLATION_CODE      DIVERTED    CRS_ELAPSED_TIME    ACTUAL_ELAPSED_TIME    AIR_TIME    DISTANCE  CARRIER_DELAY    WEATHER_DELAY    NAS_DELAY    SECURITY_DELAY    LATE_AIRCRAFT_DELAY    Unnamed: 27\n",
              "  0  2016-01-01  DL                           1248  DTW       LAX               1935        1935            0          23          1958         2107         13            2144        2120          -24            0                                0                 309                    285         249        1979  --               --               --           --                --                     --\n",
              "  1  2016-01-01  DL                           1251  ATL       GRR               2125        2130            5          13          2143         2315          4            2321        2319           -2            0                                0                 116                    109          92         640  --               --               --           --                --                     --\n",
              "  2  2016-01-01  DL                           1254  LAX       ATL               2255        2256            1          19          2315          542          5             600         547          -13            0                                0                 245                    231         207        1947  --               --               --           --                --                     --\n",
              "  3  2016-01-01  DL                           1255  SLC       ATL               1656        1700            4          12          1712         2205          8            2229        2213          -16            0                                0                 213                    193         173        1590  --               --               --           --                --                     --\n",
              "  4  2016-01-01  DL                           1256  BZN       MSP                900        1012           72          63          1115         1416          4            1216        1420          124            0                                0                 136                    188         121         874  72.0             0.0              52.0         0.0               0.0                    --\n",
              "  5  2016-01-01  DL                           1257  ATL       BNA               1233        1356           83          22          1418         1356          6            1239        1402           83            0                                0                  66                     66          38         214  43.0             0.0              0.0          0.0               40.0                   --\n",
              "  6  2016-01-01  DL                           1257  BNA       ATL               1320        1446           86          15          1501         1638          6            1530        1644           74            0                                0                  70                     58          37         214  3.0              0.0              0.0          0.0               71.0                   --\n",
              "  7  2016-01-01  DL                           1258  ATL       JAX                945         946            1          19          1005         1050          3            1050        1053            3            0                                0                  65                     67          45         270  --               --               --           --                --                     --\n",
              "  8  2016-01-01  DL                           1258  JAX       ATL               1145        1144           -1          12          1156         1239          8            1302        1247          -15            0                                0                  77                     63          43         270  --               --               --           --                --                     --\n",
              "  9  2016-01-01  DL                           1259  ATL       OKC               2110        2107           -3          16          2123         2219          5            2236        2224          -12            0                                0                 146                    137         116         761  --               --               --           --                --                     --"
            ]
          },
          "metadata": {},
          "execution_count": 17
        }
      ],
      "source": [
        "vdf = vx.concat([dfa, dfb, dfc])\n",
        "vdf.head()"
      ]
    },
    {
      "cell_type": "markdown",
      "metadata": {
        "id": "ofO1MBm6uWZI"
      },
      "source": [
        "**Reading The Dataset into a Dataframe:** Using *PySpark Library*\n",
        "\n",
        "\n",
        "*   Read all 3 files\n",
        "*   Combine/Merge the dataframe into a single dataframe\n",
        "\n"
      ]
    },
    {
      "cell_type": "code",
      "execution_count": 18,
      "metadata": {
        "colab": {
          "base_uri": "https://localhost:8080/"
        },
        "id": "MvjxPZc20FEo",
        "outputId": "813d85ae-661f-45a2-a3ab-b97270306755"
      },
      "outputs": [
        {
          "output_type": "stream",
          "name": "stdout",
          "text": [
            "+-------------------+----------+-----------------+------+----+------------+--------+---------+--------+----------+---------+-------+------------+--------+---------+---------+-----------------+--------+----------------+-------------------+--------+--------+-------------+-------------+---------+--------------+-------------------+-----------+\n",
            "|            FL_DATE|OP_CARRIER|OP_CARRIER_FL_NUM|ORIGIN|DEST|CRS_DEP_TIME|DEP_TIME|DEP_DELAY|TAXI_OUT|WHEELS_OFF|WHEELS_ON|TAXI_IN|CRS_ARR_TIME|ARR_TIME|ARR_DELAY|CANCELLED|CANCELLATION_CODE|DIVERTED|CRS_ELAPSED_TIME|ACTUAL_ELAPSED_TIME|AIR_TIME|DISTANCE|CARRIER_DELAY|WEATHER_DELAY|NAS_DELAY|SECURITY_DELAY|LATE_AIRCRAFT_DELAY|Unnamed: 27|\n",
            "+-------------------+----------+-----------------+------+----+------------+--------+---------+--------+----------+---------+-------+------------+--------+---------+---------+-----------------+--------+----------------+-------------------+--------+--------+-------------+-------------+---------+--------------+-------------------+-----------+\n",
            "|2016-01-01 00:00:00|        DL|             1248|   DTW| LAX|        1935|  1935.0|      0.0|    23.0|    1958.0|   2107.0|   13.0|        2144|  2120.0|    -24.0|      0.0|             null|     0.0|           309.0|              285.0|   249.0|  1979.0|         null|         null|     null|          null|               null|       null|\n",
            "|2016-01-01 00:00:00|        DL|             1251|   ATL| GRR|        2125|  2130.0|      5.0|    13.0|    2143.0|   2315.0|    4.0|        2321|  2319.0|     -2.0|      0.0|             null|     0.0|           116.0|              109.0|    92.0|   640.0|         null|         null|     null|          null|               null|       null|\n",
            "|2016-01-01 00:00:00|        DL|             1254|   LAX| ATL|        2255|  2256.0|      1.0|    19.0|    2315.0|    542.0|    5.0|         600|   547.0|    -13.0|      0.0|             null|     0.0|           245.0|              231.0|   207.0|  1947.0|         null|         null|     null|          null|               null|       null|\n",
            "|2016-01-01 00:00:00|        DL|             1255|   SLC| ATL|        1656|  1700.0|      4.0|    12.0|    1712.0|   2205.0|    8.0|        2229|  2213.0|    -16.0|      0.0|             null|     0.0|           213.0|              193.0|   173.0|  1590.0|         null|         null|     null|          null|               null|       null|\n",
            "|2016-01-01 00:00:00|        DL|             1256|   BZN| MSP|         900|  1012.0|     72.0|    63.0|    1115.0|   1416.0|    4.0|        1216|  1420.0|    124.0|      0.0|             null|     0.0|           136.0|              188.0|   121.0|   874.0|         72.0|          0.0|     52.0|           0.0|                0.0|       null|\n",
            "|2016-01-01 00:00:00|        DL|             1257|   ATL| BNA|        1233|  1356.0|     83.0|    22.0|    1418.0|   1356.0|    6.0|        1239|  1402.0|     83.0|      0.0|             null|     0.0|            66.0|               66.0|    38.0|   214.0|         43.0|          0.0|      0.0|           0.0|               40.0|       null|\n",
            "|2016-01-01 00:00:00|        DL|             1257|   BNA| ATL|        1320|  1446.0|     86.0|    15.0|    1501.0|   1638.0|    6.0|        1530|  1644.0|     74.0|      0.0|             null|     0.0|            70.0|               58.0|    37.0|   214.0|          3.0|          0.0|      0.0|           0.0|               71.0|       null|\n",
            "|2016-01-01 00:00:00|        DL|             1258|   ATL| JAX|         945|   946.0|      1.0|    19.0|    1005.0|   1050.0|    3.0|        1050|  1053.0|      3.0|      0.0|             null|     0.0|            65.0|               67.0|    45.0|   270.0|         null|         null|     null|          null|               null|       null|\n",
            "|2016-01-01 00:00:00|        DL|             1258|   JAX| ATL|        1145|  1144.0|     -1.0|    12.0|    1156.0|   1239.0|    8.0|        1302|  1247.0|    -15.0|      0.0|             null|     0.0|            77.0|               63.0|    43.0|   270.0|         null|         null|     null|          null|               null|       null|\n",
            "|2016-01-01 00:00:00|        DL|             1259|   ATL| OKC|        2110|  2107.0|     -3.0|    16.0|    2123.0|   2219.0|    5.0|        2236|  2224.0|    -12.0|      0.0|             null|     0.0|           146.0|              137.0|   116.0|   761.0|         null|         null|     null|          null|               null|       null|\n",
            "+-------------------+----------+-----------------+------+----+------------+--------+---------+--------+----------+---------+-------+------------+--------+---------+---------+-----------------+--------+----------------+-------------------+--------+--------+-------------+-------------+---------+--------------+-------------------+-----------+\n",
            "only showing top 10 rows\n",
            "\n"
          ]
        }
      ],
      "source": [
        "df_1 = spark.read.csv(\"2016.csv\", inferSchema=True, header=True)\n",
        "df_1.show(10)"
      ]
    },
    {
      "cell_type": "code",
      "execution_count": 19,
      "metadata": {
        "colab": {
          "base_uri": "https://localhost:8080/"
        },
        "id": "gAhgTCSL0bhr",
        "outputId": "04ccb0ff-2304-4a24-e2b3-e277ba89afb3"
      },
      "outputs": [
        {
          "output_type": "stream",
          "name": "stdout",
          "text": [
            "+-------------------+----------+-----------------+------+----+------------+--------+---------+--------+----------+---------+-------+------------+--------+---------+---------+-----------------+--------+----------------+-------------------+--------+--------+-------------+-------------+---------+--------------+-------------------+-----------+\n",
            "|            FL_DATE|OP_CARRIER|OP_CARRIER_FL_NUM|ORIGIN|DEST|CRS_DEP_TIME|DEP_TIME|DEP_DELAY|TAXI_OUT|WHEELS_OFF|WHEELS_ON|TAXI_IN|CRS_ARR_TIME|ARR_TIME|ARR_DELAY|CANCELLED|CANCELLATION_CODE|DIVERTED|CRS_ELAPSED_TIME|ACTUAL_ELAPSED_TIME|AIR_TIME|DISTANCE|CARRIER_DELAY|WEATHER_DELAY|NAS_DELAY|SECURITY_DELAY|LATE_AIRCRAFT_DELAY|Unnamed: 27|\n",
            "+-------------------+----------+-----------------+------+----+------------+--------+---------+--------+----------+---------+-------+------------+--------+---------+---------+-----------------+--------+----------------+-------------------+--------+--------+-------------+-------------+---------+--------------+-------------------+-----------+\n",
            "|2017-01-01 00:00:00|        AA|                1|   JFK| LAX|         800|   831.0|     31.0|    25.0|     856.0|   1143.0|   26.0|        1142|  1209.0|     27.0|      0.0|             null|     0.0|           402.0|              398.0|   347.0|  2475.0|         27.0|          0.0|      0.0|           0.0|                0.0|       null|\n",
            "|2017-01-01 00:00:00|        AA|                2|   LAX| JFK|         900|   934.0|     34.0|    34.0|    1008.0|   1757.0|   12.0|        1727|  1809.0|     42.0|      0.0|             null|     0.0|           327.0|              335.0|   289.0|  2475.0|         34.0|          0.0|      8.0|           0.0|                0.0|       null|\n",
            "|2017-01-01 00:00:00|        AA|                4|   LAX| JFK|        1130|  1221.0|     51.0|    20.0|    1241.0|   2025.0|   15.0|        1958|  2040.0|     42.0|      0.0|             null|     0.0|           328.0|              319.0|   284.0|  2475.0|          7.0|          0.0|      0.0|           0.0|               35.0|       null|\n",
            "|2017-01-01 00:00:00|        AA|                5|   DFW| HNL|        1135|  1252.0|     77.0|    19.0|    1311.0|   1744.0|    5.0|        1612|  1749.0|     97.0|      0.0|             null|     0.0|           517.0|              537.0|   513.0|  3784.0|         77.0|          0.0|     20.0|           0.0|                0.0|       null|\n",
            "|2017-01-01 00:00:00|        AA|                6|   OGG| DFW|        1855|  1855.0|      0.0|    16.0|    1911.0|    631.0|   11.0|         600|   642.0|     42.0|      0.0|             null|     0.0|           425.0|              467.0|   440.0|  3711.0|          0.0|          0.0|     42.0|           0.0|                0.0|       null|\n",
            "|2017-01-01 00:00:00|        AA|                7|   DFW| OGG|         940|  1619.0|    399.0|    12.0|    1631.0|   2031.0|    6.0|        1403|  2037.0|    394.0|      0.0|             null|     0.0|           503.0|              498.0|   480.0|  3711.0|        394.0|          0.0|      0.0|           0.0|                0.0|       null|\n",
            "|2017-01-01 00:00:00|        AA|                8|   HNL| DFW|        1838|  1903.0|     25.0|    19.0|    1922.0|    636.0|   12.0|         550|   648.0|     58.0|      0.0|             null|     0.0|           432.0|              465.0|   434.0|  3784.0|         25.0|          0.0|     33.0|           0.0|                0.0|       null|\n",
            "|2017-01-01 00:00:00|        AA|                9|   JFK| SFO|         700|   656.0|     -4.0|    22.0|     718.0|   1020.0|    3.0|        1045|  1023.0|    -22.0|      0.0|             null|     0.0|           405.0|              387.0|   362.0|  2586.0|         null|         null|     null|          null|               null|       null|\n",
            "|2017-01-01 00:00:00|        AA|               10|   LAX| JFK|        2100|  2100.0|      0.0|    15.0|    2115.0|    447.0|   10.0|         527|   457.0|    -30.0|      0.0|             null|     0.0|           327.0|              297.0|   272.0|  2475.0|         null|         null|     null|          null|               null|       null|\n",
            "|2017-01-01 00:00:00|        AA|               12|   SFO| JFK|        1135|  1130.0|     -5.0|    27.0|    1157.0|   1937.0|   17.0|        2018|  1954.0|    -24.0|      0.0|             null|     0.0|           343.0|              324.0|   280.0|  2586.0|         null|         null|     null|          null|               null|       null|\n",
            "+-------------------+----------+-----------------+------+----+------------+--------+---------+--------+----------+---------+-------+------------+--------+---------+---------+-----------------+--------+----------------+-------------------+--------+--------+-------------+-------------+---------+--------------+-------------------+-----------+\n",
            "only showing top 10 rows\n",
            "\n"
          ]
        }
      ],
      "source": [
        "df_2 = spark.read.csv(\"2017.csv\", inferSchema=True, header=True)\n",
        "df_2.show(10)"
      ]
    },
    {
      "cell_type": "code",
      "execution_count": 20,
      "metadata": {
        "colab": {
          "base_uri": "https://localhost:8080/"
        },
        "id": "d6-8rVP94Ie9",
        "outputId": "5e0e32d7-cab5-4371-f8a8-bc43e1c1a9eb"
      },
      "outputs": [
        {
          "output_type": "stream",
          "name": "stdout",
          "text": [
            "+-------------------+----------+-----------------+------+----+------------+--------+---------+--------+----------+---------+-------+------------+--------+---------+---------+-----------------+--------+----------------+-------------------+--------+--------+-------------+-------------+---------+--------------+-------------------+-----------+\n",
            "|            FL_DATE|OP_CARRIER|OP_CARRIER_FL_NUM|ORIGIN|DEST|CRS_DEP_TIME|DEP_TIME|DEP_DELAY|TAXI_OUT|WHEELS_OFF|WHEELS_ON|TAXI_IN|CRS_ARR_TIME|ARR_TIME|ARR_DELAY|CANCELLED|CANCELLATION_CODE|DIVERTED|CRS_ELAPSED_TIME|ACTUAL_ELAPSED_TIME|AIR_TIME|DISTANCE|CARRIER_DELAY|WEATHER_DELAY|NAS_DELAY|SECURITY_DELAY|LATE_AIRCRAFT_DELAY|Unnamed: 27|\n",
            "+-------------------+----------+-----------------+------+----+------------+--------+---------+--------+----------+---------+-------+------------+--------+---------+---------+-----------------+--------+----------------+-------------------+--------+--------+-------------+-------------+---------+--------------+-------------------+-----------+\n",
            "|2018-01-01 00:00:00|        UA|             2429|   EWR| DEN|        1517|  1512.0|     -5.0|    15.0|    1527.0|   1712.0|   10.0|        1745|  1722.0|    -23.0|      0.0|             null|     0.0|           268.0|              250.0|   225.0|  1605.0|         null|         null|     null|          null|               null|       null|\n",
            "|2018-01-01 00:00:00|        UA|             2427|   LAS| SFO|        1115|  1107.0|     -8.0|    11.0|    1118.0|   1223.0|    7.0|        1254|  1230.0|    -24.0|      0.0|             null|     0.0|            99.0|               83.0|    65.0|   414.0|         null|         null|     null|          null|               null|       null|\n",
            "|2018-01-01 00:00:00|        UA|             2426|   SNA| DEN|        1335|  1330.0|     -5.0|    15.0|    1345.0|   1631.0|    5.0|        1649|  1636.0|    -13.0|      0.0|             null|     0.0|           134.0|              126.0|   106.0|   846.0|         null|         null|     null|          null|               null|       null|\n",
            "|2018-01-01 00:00:00|        UA|             2425|   RSW| ORD|        1546|  1552.0|      6.0|    19.0|    1611.0|   1748.0|    6.0|        1756|  1754.0|     -2.0|      0.0|             null|     0.0|           190.0|              182.0|   157.0|  1120.0|         null|         null|     null|          null|               null|       null|\n",
            "|2018-01-01 00:00:00|        UA|             2424|   ORD| ALB|         630|   650.0|     20.0|    13.0|     703.0|    926.0|   10.0|         922|   936.0|     14.0|      0.0|             null|     0.0|           112.0|              106.0|    83.0|   723.0|         null|         null|     null|          null|               null|       null|\n",
            "|2018-01-01 00:00:00|        UA|             2422|   ORD| OMA|        2241|  2244.0|      3.0|    15.0|    2259.0|      1.0|    2.0|          14|     3.0|    -11.0|      0.0|             null|     0.0|            93.0|               79.0|    62.0|   416.0|         null|         null|     null|          null|               null|       null|\n",
            "|2018-01-01 00:00:00|        UA|             2421|   IAH| LAS|         750|   747.0|     -3.0|    14.0|     801.0|    854.0|    6.0|         916|   900.0|    -16.0|      0.0|             null|     0.0|           206.0|              193.0|   173.0|  1222.0|         null|         null|     null|          null|               null|       null|\n",
            "|2018-01-01 00:00:00|        UA|             2420|   DEN| CID|        1324|  1318.0|     -6.0|    11.0|    1329.0|   1554.0|    6.0|        1619|  1600.0|    -19.0|      0.0|             null|     0.0|           115.0|              102.0|    85.0|   692.0|         null|         null|     null|          null|               null|       null|\n",
            "|2018-01-01 00:00:00|        UA|             2419|   SMF| EWR|        2224|  2237.0|     13.0|    10.0|    2247.0|    627.0|    9.0|         638|   636.0|     -2.0|      0.0|             null|     0.0|           314.0|              299.0|   280.0|  2500.0|         null|         null|     null|          null|               null|       null|\n",
            "|2018-01-01 00:00:00|        UA|             2418|   RIC| DEN|        1601|  1559.0|     -2.0|    12.0|    1611.0|   1748.0|    8.0|        1813|  1756.0|    -17.0|      0.0|             null|     0.0|           252.0|              237.0|   217.0|  1482.0|         null|         null|     null|          null|               null|       null|\n",
            "+-------------------+----------+-----------------+------+----+------------+--------+---------+--------+----------+---------+-------+------------+--------+---------+---------+-----------------+--------+----------------+-------------------+--------+--------+-------------+-------------+---------+--------------+-------------------+-----------+\n",
            "only showing top 10 rows\n",
            "\n"
          ]
        }
      ],
      "source": [
        "df_3 = spark.read.csv(\"2018.csv\", inferSchema=True, header=True)\n",
        "df_3.show(10)"
      ]
    },
    {
      "cell_type": "code",
      "execution_count": 21,
      "metadata": {
        "colab": {
          "base_uri": "https://localhost:8080/"
        },
        "id": "600ktk-a4Lbn",
        "outputId": "86bba30c-440f-4806-ddb0-caab6501f1f9"
      },
      "outputs": [
        {
          "output_type": "stream",
          "name": "stdout",
          "text": [
            "+-------------------+----------+-----------------+------+----+------------+--------+---------+--------+----------+---------+-------+------------+--------+---------+---------+-----------------+--------+----------------+-------------------+--------+--------+-------------+-------------+---------+--------------+-------------------+-----------+\n",
            "|            FL_DATE|OP_CARRIER|OP_CARRIER_FL_NUM|ORIGIN|DEST|CRS_DEP_TIME|DEP_TIME|DEP_DELAY|TAXI_OUT|WHEELS_OFF|WHEELS_ON|TAXI_IN|CRS_ARR_TIME|ARR_TIME|ARR_DELAY|CANCELLED|CANCELLATION_CODE|DIVERTED|CRS_ELAPSED_TIME|ACTUAL_ELAPSED_TIME|AIR_TIME|DISTANCE|CARRIER_DELAY|WEATHER_DELAY|NAS_DELAY|SECURITY_DELAY|LATE_AIRCRAFT_DELAY|Unnamed: 27|\n",
            "+-------------------+----------+-----------------+------+----+------------+--------+---------+--------+----------+---------+-------+------------+--------+---------+---------+-----------------+--------+----------------+-------------------+--------+--------+-------------+-------------+---------+--------------+-------------------+-----------+\n",
            "|2016-01-01 00:00:00|        DL|             1248|   DTW| LAX|        1935|  1935.0|      0.0|    23.0|    1958.0|   2107.0|   13.0|        2144|  2120.0|    -24.0|      0.0|             null|     0.0|           309.0|              285.0|   249.0|  1979.0|         null|         null|     null|          null|               null|       null|\n",
            "|2016-01-01 00:00:00|        DL|             1251|   ATL| GRR|        2125|  2130.0|      5.0|    13.0|    2143.0|   2315.0|    4.0|        2321|  2319.0|     -2.0|      0.0|             null|     0.0|           116.0|              109.0|    92.0|   640.0|         null|         null|     null|          null|               null|       null|\n",
            "|2016-01-01 00:00:00|        DL|             1254|   LAX| ATL|        2255|  2256.0|      1.0|    19.0|    2315.0|    542.0|    5.0|         600|   547.0|    -13.0|      0.0|             null|     0.0|           245.0|              231.0|   207.0|  1947.0|         null|         null|     null|          null|               null|       null|\n",
            "|2016-01-01 00:00:00|        DL|             1255|   SLC| ATL|        1656|  1700.0|      4.0|    12.0|    1712.0|   2205.0|    8.0|        2229|  2213.0|    -16.0|      0.0|             null|     0.0|           213.0|              193.0|   173.0|  1590.0|         null|         null|     null|          null|               null|       null|\n",
            "|2016-01-01 00:00:00|        DL|             1256|   BZN| MSP|         900|  1012.0|     72.0|    63.0|    1115.0|   1416.0|    4.0|        1216|  1420.0|    124.0|      0.0|             null|     0.0|           136.0|              188.0|   121.0|   874.0|         72.0|          0.0|     52.0|           0.0|                0.0|       null|\n",
            "|2016-01-01 00:00:00|        DL|             1257|   ATL| BNA|        1233|  1356.0|     83.0|    22.0|    1418.0|   1356.0|    6.0|        1239|  1402.0|     83.0|      0.0|             null|     0.0|            66.0|               66.0|    38.0|   214.0|         43.0|          0.0|      0.0|           0.0|               40.0|       null|\n",
            "|2016-01-01 00:00:00|        DL|             1257|   BNA| ATL|        1320|  1446.0|     86.0|    15.0|    1501.0|   1638.0|    6.0|        1530|  1644.0|     74.0|      0.0|             null|     0.0|            70.0|               58.0|    37.0|   214.0|          3.0|          0.0|      0.0|           0.0|               71.0|       null|\n",
            "|2016-01-01 00:00:00|        DL|             1258|   ATL| JAX|         945|   946.0|      1.0|    19.0|    1005.0|   1050.0|    3.0|        1050|  1053.0|      3.0|      0.0|             null|     0.0|            65.0|               67.0|    45.0|   270.0|         null|         null|     null|          null|               null|       null|\n",
            "|2016-01-01 00:00:00|        DL|             1258|   JAX| ATL|        1145|  1144.0|     -1.0|    12.0|    1156.0|   1239.0|    8.0|        1302|  1247.0|    -15.0|      0.0|             null|     0.0|            77.0|               63.0|    43.0|   270.0|         null|         null|     null|          null|               null|       null|\n",
            "|2016-01-01 00:00:00|        DL|             1259|   ATL| OKC|        2110|  2107.0|     -3.0|    16.0|    2123.0|   2219.0|    5.0|        2236|  2224.0|    -12.0|      0.0|             null|     0.0|           146.0|              137.0|   116.0|   761.0|         null|         null|     null|          null|               null|       null|\n",
            "|2016-01-01 00:00:00|        DL|             1260|   MSP| SMF|        1115|  1113.0|     -2.0|    12.0|    1125.0|   1232.0|    4.0|        1309|  1236.0|    -33.0|      0.0|             null|     0.0|           234.0|              203.0|   187.0|  1517.0|         null|         null|     null|          null|               null|       null|\n",
            "|2016-01-01 00:00:00|        DL|             1262|   LAX| JFK|        2255|  2248.0|     -7.0|    23.0|    2311.0|    650.0|   11.0|         715|   701.0|    -14.0|      0.0|             null|     0.0|           320.0|              313.0|   279.0|  2475.0|         null|         null|     null|          null|               null|       null|\n",
            "|2016-01-01 00:00:00|        DL|             1263|   ATL| MDT|        1510|  1509.0|     -1.0|    17.0|    1526.0|   1646.0|    5.0|        1702|  1651.0|    -11.0|      0.0|             null|     0.0|           112.0|              102.0|    80.0|   620.0|         null|         null|     null|          null|               null|       null|\n",
            "|2016-01-01 00:00:00|        DL|             1263|   MDT| ATL|        1737|  1727.0|    -10.0|    11.0|    1738.0|   1923.0|   11.0|        1949|  1934.0|    -15.0|      0.0|             null|     0.0|           132.0|              127.0|   105.0|   620.0|         null|         null|     null|          null|               null|       null|\n",
            "|2016-01-01 00:00:00|        DL|             1264|   SLC| JFK|        2345|  2341.0|     -4.0|    25.0|       6.0|    602.0|   11.0|         607|   613.0|      6.0|      0.0|             null|     0.0|           262.0|              272.0|   236.0|  1990.0|         null|         null|     null|          null|               null|       null|\n",
            "|2016-01-01 00:00:00|        DL|             1265|   SAV| ATL|        1408|  1403.0|     -5.0|    15.0|    1418.0|   1459.0|    6.0|        1523|  1505.0|    -18.0|      0.0|             null|     0.0|            75.0|               62.0|    41.0|   214.0|         null|         null|     null|          null|               null|       null|\n",
            "|2016-01-01 00:00:00|        DL|             1266|   BUF| ATL|         615|   612.0|     -3.0|    38.0|     650.0|    844.0|    5.0|         843|   849.0|      6.0|      0.0|             null|     0.0|           148.0|              157.0|   114.0|   712.0|         null|         null|     null|          null|               null|       null|\n",
            "|2016-01-01 00:00:00|        DL|             1269|   LGA| MIA|        1100|  1100.0|      0.0|    15.0|    1115.0|   1402.0|    4.0|        1432|  1406.0|    -26.0|      0.0|             null|     0.0|           212.0|              186.0|   167.0|  1096.0|         null|         null|     null|          null|               null|       null|\n",
            "|2016-01-01 00:00:00|        DL|             1270|   ATL| PNS|        1340|  1337.0|     -3.0|    11.0|    1348.0|   1339.0|    3.0|        1352|  1342.0|    -10.0|      0.0|             null|     0.0|            72.0|               65.0|    51.0|   271.0|         null|         null|     null|          null|               null|       null|\n",
            "|2016-01-01 00:00:00|        DL|             1270|   PNS| ATL|        1435|  1431.0|     -4.0|    10.0|    1441.0|   1622.0|    6.0|        1648|  1628.0|    -20.0|      0.0|             null|     0.0|            73.0|               57.0|    41.0|   271.0|         null|         null|     null|          null|               null|       null|\n",
            "+-------------------+----------+-----------------+------+----+------------+--------+---------+--------+----------+---------+-------+------------+--------+---------+---------+-----------------+--------+----------------+-------------------+--------+--------+-------------+-------------+---------+--------------+-------------------+-----------+\n",
            "only showing top 20 rows\n",
            "\n"
          ]
        }
      ],
      "source": [
        "# Perform union\n",
        "pdf = df_1.union(df_2)\n",
        "pdf = pdf.union(df_3)\n",
        "pdf.show()"
      ]
    },
    {
      "cell_type": "markdown",
      "metadata": {
        "id": "gku3PXZH6VOh"
      },
      "source": [
        "# Performing Data Preparation & Data Cleaning"
      ]
    },
    {
      "cell_type": "markdown",
      "metadata": {
        "id": "JdR0zBQ4rvxY"
      },
      "source": [
        "**Getting Dataframe Information**"
      ]
    },
    {
      "cell_type": "code",
      "execution_count": null,
      "metadata": {
        "colab": {
          "base_uri": "https://localhost:8080/"
        },
        "id": "x_10igWn6VE9",
        "outputId": "c9f68747-726b-4e26-ee29-7a9982a2989d"
      },
      "outputs": [
        {
          "name": "stdout",
          "output_type": "stream",
          "text": [
            "CPU times: user 4 µs, sys: 0 ns, total: 4 µs\n",
            "Wall time: 8.11 µs\n"
          ]
        },
        {
          "data": {
            "text/plain": [
              "FL_DATE                datetime64[ns]\n",
              "OP_CARRIER                     object\n",
              "OP_CARRIER_FL_NUM               int32\n",
              "ORIGIN                         object\n",
              "DEST                           object\n",
              "CRS_DEP_TIME                    int32\n",
              "DEP_TIME                      float64\n",
              "DEP_DELAY                     float64\n",
              "TAXI_OUT                      float64\n",
              "WHEELS_OFF                    float64\n",
              "WHEELS_ON                     float64\n",
              "TAXI_IN                       float64\n",
              "CRS_ARR_TIME                    int32\n",
              "ARR_TIME                      float64\n",
              "ARR_DELAY                     float64\n",
              "CANCELLED                     float64\n",
              "CANCELLATION_CODE              object\n",
              "DIVERTED                      float64\n",
              "CRS_ELAPSED_TIME              float64\n",
              "ACTUAL_ELAPSED_TIME           float64\n",
              "AIR_TIME                      float64\n",
              "DISTANCE                      float64\n",
              "CARRIER_DELAY                 float64\n",
              "WEATHER_DELAY                 float64\n",
              "NAS_DELAY                     float64\n",
              "SECURITY_DELAY                float64\n",
              "LATE_AIRCRAFT_DELAY           float64\n",
              "Unnamed: 27                    object\n",
              "dtype: object"
            ]
          },
          "execution_count": 12,
          "metadata": {},
          "output_type": "execute_result"
        }
      ],
      "source": [
        "#Koalas df\n",
        "%time\n",
        "kdf.dtypes"
      ]
    },
    {
      "cell_type": "code",
      "execution_count": null,
      "metadata": {
        "colab": {
          "base_uri": "https://localhost:8080/"
        },
        "id": "1r6NufEH6m-H",
        "outputId": "b805c90d-90c6-4c19-fe4c-b8bf5a50c2f2"
      },
      "outputs": [
        {
          "name": "stdout",
          "output_type": "stream",
          "text": [
            "CPU times: user 4 µs, sys: 0 ns, total: 4 µs\n",
            "Wall time: 8.82 µs\n"
          ]
        },
        {
          "data": {
            "text/plain": [
              "FL_DATE                date32[day]\n",
              "OP_CARRIER                  string\n",
              "OP_CARRIER_FL_NUM            int64\n",
              "ORIGIN                      string\n",
              "DEST                        string\n",
              "CRS_DEP_TIME                 int64\n",
              "DEP_TIME                   float64\n",
              "DEP_DELAY                  float64\n",
              "TAXI_OUT                   float64\n",
              "WHEELS_OFF                 float64\n",
              "WHEELS_ON                  float64\n",
              "TAXI_IN                    float64\n",
              "CRS_ARR_TIME                 int64\n",
              "ARR_TIME                   float64\n",
              "ARR_DELAY                  float64\n",
              "CANCELLED                  float64\n",
              "CANCELLATION_CODE           string\n",
              "DIVERTED                   float64\n",
              "CRS_ELAPSED_TIME           float64\n",
              "ACTUAL_ELAPSED_TIME        float64\n",
              "AIR_TIME                   float64\n",
              "DISTANCE                   float64\n",
              "CARRIER_DELAY              float64\n",
              "WEATHER_DELAY              float64\n",
              "NAS_DELAY                  float64\n",
              "SECURITY_DELAY             float64\n",
              "LATE_AIRCRAFT_DELAY        float64\n",
              "Unnamed: 27                   int8\n",
              "dtype: object"
            ]
          },
          "execution_count": 10,
          "metadata": {},
          "output_type": "execute_result"
        }
      ],
      "source": [
        "#Vaex df\n",
        "%time\n",
        "vdf.dtypes"
      ]
    },
    {
      "cell_type": "code",
      "execution_count": null,
      "metadata": {
        "id": "JeJC_aftswDb"
      },
      "outputs": [],
      "source": [
        "#Pyspark df\n",
        "%time\n",
        "pdf.dtypes"
      ]
    },
    {
      "cell_type": "markdown",
      "metadata": {
        "id": "6OonQ8XW3S0C"
      },
      "source": [
        "**Dataframe Shape**"
      ]
    },
    {
      "cell_type": "code",
      "execution_count": null,
      "metadata": {
        "colab": {
          "base_uri": "https://localhost:8080/"
        },
        "id": "nkyh4OS904qK",
        "outputId": "62c6e76d-b3be-403b-98b5-7e523fcceb1c"
      },
      "outputs": [
        {
          "name": "stdout",
          "output_type": "stream",
          "text": [
            "CPU times: user 3 µs, sys: 1 µs, total: 4 µs\n",
            "Wall time: 7.39 µs\n"
          ]
        },
        {
          "data": {
            "text/plain": [
              "(18505725, 28)"
            ]
          },
          "execution_count": 13,
          "metadata": {},
          "output_type": "execute_result"
        }
      ],
      "source": [
        "#Koalas\n",
        "%time\n",
        "kdf.shape"
      ]
    },
    {
      "cell_type": "code",
      "execution_count": null,
      "metadata": {
        "colab": {
          "base_uri": "https://localhost:8080/"
        },
        "id": "vUkFYpzi1mdr",
        "outputId": "728e39a9-bd03-45db-9bcb-bbfb048faf12"
      },
      "outputs": [
        {
          "name": "stdout",
          "output_type": "stream",
          "text": [
            "CPU times: user 3 µs, sys: 0 ns, total: 3 µs\n",
            "Wall time: 7.63 µs\n"
          ]
        },
        {
          "data": {
            "text/plain": [
              "(18505725, 28)"
            ]
          },
          "execution_count": 11,
          "metadata": {},
          "output_type": "execute_result"
        }
      ],
      "source": [
        "#Vaex\n",
        "%time\n",
        "vdf.shape"
      ]
    },
    {
      "cell_type": "code",
      "execution_count": null,
      "metadata": {
        "id": "oWsywuht2NEC"
      },
      "outputs": [],
      "source": [
        "#PySpark\n",
        "%time\n",
        "print(\"Number of rows:\", pdf.count())\n",
        "pdf.printSchema()"
      ]
    },
    {
      "cell_type": "markdown",
      "metadata": {
        "id": "pupVaTP6BFvh"
      },
      "source": [
        "**Data Cleaning (Dropping Columns, Null Values, Coverting Datatype)**"
      ]
    },
    {
      "cell_type": "markdown",
      "metadata": {
        "id": "s8w8Eg7Ttf4a"
      },
      "source": [
        "###Koalas"
      ]
    },
    {
      "cell_type": "code",
      "execution_count": 22,
      "metadata": {
        "colab": {
          "base_uri": "https://localhost:8080/",
          "height": 206
        },
        "id": "mFNTpcqcFzjL",
        "outputId": "bbe2ab57-fe8f-4cf1-f6ad-b6a65148169f"
      },
      "outputs": [
        {
          "output_type": "execute_result",
          "data": {
            "text/plain": [
              "     FL_DATE OP_CARRIER  OP_CARRIER_FL_NUM ORIGIN DEST  CRS_DEP_TIME  DEP_TIME  DEP_DELAY  TAXI_OUT  WHEELS_OFF  WHEELS_ON  TAXI_IN  CRS_ARR_TIME  ARR_TIME  ARR_DELAY  CRS_ELAPSED_TIME  ACTUAL_ELAPSED_TIME  AIR_TIME  DISTANCE\n",
              "0 2016-01-01         DL               1248    DTW  LAX          1935    1935.0        0.0      23.0      1958.0     2107.0     13.0          2144    2120.0      -24.0             309.0                285.0     249.0    1979.0\n",
              "1 2016-01-01         DL               1251    ATL  GRR          2125    2130.0        5.0      13.0      2143.0     2315.0      4.0          2321    2319.0       -2.0             116.0                109.0      92.0     640.0\n",
              "2 2016-01-01         DL               1254    LAX  ATL          2255    2256.0        1.0      19.0      2315.0      542.0      5.0           600     547.0      -13.0             245.0                231.0     207.0    1947.0\n",
              "3 2016-01-01         DL               1255    SLC  ATL          1656    1700.0        4.0      12.0      1712.0     2205.0      8.0          2229    2213.0      -16.0             213.0                193.0     173.0    1590.0\n",
              "4 2016-01-01         DL               1256    BZN  MSP           900    1012.0       72.0      63.0      1115.0     1416.0      4.0          1216    1420.0      124.0             136.0                188.0     121.0     874.0"
            ],
            "text/html": [
              "<div>\n",
              "<style scoped>\n",
              "    .dataframe tbody tr th:only-of-type {\n",
              "        vertical-align: middle;\n",
              "    }\n",
              "\n",
              "    .dataframe tbody tr th {\n",
              "        vertical-align: top;\n",
              "    }\n",
              "\n",
              "    .dataframe thead th {\n",
              "        text-align: right;\n",
              "    }\n",
              "</style>\n",
              "<table border=\"1\" class=\"dataframe\">\n",
              "  <thead>\n",
              "    <tr style=\"text-align: right;\">\n",
              "      <th></th>\n",
              "      <th>FL_DATE</th>\n",
              "      <th>OP_CARRIER</th>\n",
              "      <th>OP_CARRIER_FL_NUM</th>\n",
              "      <th>ORIGIN</th>\n",
              "      <th>DEST</th>\n",
              "      <th>CRS_DEP_TIME</th>\n",
              "      <th>DEP_TIME</th>\n",
              "      <th>DEP_DELAY</th>\n",
              "      <th>TAXI_OUT</th>\n",
              "      <th>WHEELS_OFF</th>\n",
              "      <th>WHEELS_ON</th>\n",
              "      <th>TAXI_IN</th>\n",
              "      <th>CRS_ARR_TIME</th>\n",
              "      <th>ARR_TIME</th>\n",
              "      <th>ARR_DELAY</th>\n",
              "      <th>CRS_ELAPSED_TIME</th>\n",
              "      <th>ACTUAL_ELAPSED_TIME</th>\n",
              "      <th>AIR_TIME</th>\n",
              "      <th>DISTANCE</th>\n",
              "    </tr>\n",
              "  </thead>\n",
              "  <tbody>\n",
              "    <tr>\n",
              "      <th>0</th>\n",
              "      <td>2016-01-01</td>\n",
              "      <td>DL</td>\n",
              "      <td>1248</td>\n",
              "      <td>DTW</td>\n",
              "      <td>LAX</td>\n",
              "      <td>1935</td>\n",
              "      <td>1935.0</td>\n",
              "      <td>0.0</td>\n",
              "      <td>23.0</td>\n",
              "      <td>1958.0</td>\n",
              "      <td>2107.0</td>\n",
              "      <td>13.0</td>\n",
              "      <td>2144</td>\n",
              "      <td>2120.0</td>\n",
              "      <td>-24.0</td>\n",
              "      <td>309.0</td>\n",
              "      <td>285.0</td>\n",
              "      <td>249.0</td>\n",
              "      <td>1979.0</td>\n",
              "    </tr>\n",
              "    <tr>\n",
              "      <th>1</th>\n",
              "      <td>2016-01-01</td>\n",
              "      <td>DL</td>\n",
              "      <td>1251</td>\n",
              "      <td>ATL</td>\n",
              "      <td>GRR</td>\n",
              "      <td>2125</td>\n",
              "      <td>2130.0</td>\n",
              "      <td>5.0</td>\n",
              "      <td>13.0</td>\n",
              "      <td>2143.0</td>\n",
              "      <td>2315.0</td>\n",
              "      <td>4.0</td>\n",
              "      <td>2321</td>\n",
              "      <td>2319.0</td>\n",
              "      <td>-2.0</td>\n",
              "      <td>116.0</td>\n",
              "      <td>109.0</td>\n",
              "      <td>92.0</td>\n",
              "      <td>640.0</td>\n",
              "    </tr>\n",
              "    <tr>\n",
              "      <th>2</th>\n",
              "      <td>2016-01-01</td>\n",
              "      <td>DL</td>\n",
              "      <td>1254</td>\n",
              "      <td>LAX</td>\n",
              "      <td>ATL</td>\n",
              "      <td>2255</td>\n",
              "      <td>2256.0</td>\n",
              "      <td>1.0</td>\n",
              "      <td>19.0</td>\n",
              "      <td>2315.0</td>\n",
              "      <td>542.0</td>\n",
              "      <td>5.0</td>\n",
              "      <td>600</td>\n",
              "      <td>547.0</td>\n",
              "      <td>-13.0</td>\n",
              "      <td>245.0</td>\n",
              "      <td>231.0</td>\n",
              "      <td>207.0</td>\n",
              "      <td>1947.0</td>\n",
              "    </tr>\n",
              "    <tr>\n",
              "      <th>3</th>\n",
              "      <td>2016-01-01</td>\n",
              "      <td>DL</td>\n",
              "      <td>1255</td>\n",
              "      <td>SLC</td>\n",
              "      <td>ATL</td>\n",
              "      <td>1656</td>\n",
              "      <td>1700.0</td>\n",
              "      <td>4.0</td>\n",
              "      <td>12.0</td>\n",
              "      <td>1712.0</td>\n",
              "      <td>2205.0</td>\n",
              "      <td>8.0</td>\n",
              "      <td>2229</td>\n",
              "      <td>2213.0</td>\n",
              "      <td>-16.0</td>\n",
              "      <td>213.0</td>\n",
              "      <td>193.0</td>\n",
              "      <td>173.0</td>\n",
              "      <td>1590.0</td>\n",
              "    </tr>\n",
              "    <tr>\n",
              "      <th>4</th>\n",
              "      <td>2016-01-01</td>\n",
              "      <td>DL</td>\n",
              "      <td>1256</td>\n",
              "      <td>BZN</td>\n",
              "      <td>MSP</td>\n",
              "      <td>900</td>\n",
              "      <td>1012.0</td>\n",
              "      <td>72.0</td>\n",
              "      <td>63.0</td>\n",
              "      <td>1115.0</td>\n",
              "      <td>1416.0</td>\n",
              "      <td>4.0</td>\n",
              "      <td>1216</td>\n",
              "      <td>1420.0</td>\n",
              "      <td>124.0</td>\n",
              "      <td>136.0</td>\n",
              "      <td>188.0</td>\n",
              "      <td>121.0</td>\n",
              "      <td>874.0</td>\n",
              "    </tr>\n",
              "  </tbody>\n",
              "</table>\n",
              "</div>"
            ]
          },
          "metadata": {},
          "execution_count": 22
        }
      ],
      "source": [
        "#Koalas (Dropping Unused Column)\n",
        "kdf = kdf.drop(columns=['CANCELLED', 'CANCELLATION_CODE', 'DIVERTED', 'CARRIER_DELAY', 'WEATHER_DELAY', 'NAS_DELAY', 'SECURITY_DELAY', 'LATE_AIRCRAFT_DELAY','Unnamed: 27']).reset_index(drop=True)\n",
        "kdf.head()"
      ]
    },
    {
      "cell_type": "code",
      "execution_count": 23,
      "metadata": {
        "id": "-Mwi2JczMfOz"
      },
      "outputs": [],
      "source": [
        "#Koalas (Dropping Rows with Null Values)\n",
        "kdf = kdf.dropna()"
      ]
    },
    {
      "cell_type": "code",
      "execution_count": 24,
      "metadata": {
        "colab": {
          "base_uri": "https://localhost:8080/",
          "height": 206
        },
        "id": "wpV6Z3imR8Z9",
        "outputId": "a4262c8a-f819-4c91-8aeb-c5e4fb27be16"
      },
      "outputs": [
        {
          "output_type": "execute_result",
          "data": {
            "text/plain": [
              "     FL_DATE OP_CARRIER  OP_CARRIER_FL_NUM ORIGIN DEST  CRS_DEP_TIME  DEP_TIME  DEP_DELAY  TAXI_OUT  WHEELS_OFF  WHEELS_ON  TAXI_IN  CRS_ARR_TIME  ARR_TIME  ARR_DELAY  CRS_ELAPSED_TIME  ACTUAL_ELAPSED_TIME  AIR_TIME  DISTANCE\n",
              "0 2016-01-01         DL               1248    DTW  LAX          1935    1935.0        0.0      23.0      1958.0     2107.0     13.0          2144    2120.0      -24.0             309.0                285.0     249.0    1979.0\n",
              "1 2016-01-01         DL               1251    ATL  GRR          2125    2130.0        5.0      13.0      2143.0     2315.0      4.0          2321    2319.0       -2.0             116.0                109.0      92.0     640.0\n",
              "2 2016-01-01         DL               1254    LAX  ATL          2255    2256.0        1.0      19.0      2315.0      542.0      5.0           600     547.0      -13.0             245.0                231.0     207.0    1947.0\n",
              "3 2016-01-01         DL               1255    SLC  ATL          1656    1700.0        4.0      12.0      1712.0     2205.0      8.0          2229    2213.0      -16.0             213.0                193.0     173.0    1590.0\n",
              "4 2016-01-01         DL               1256    BZN  MSP           900    1012.0       72.0      63.0      1115.0     1416.0      4.0          1216    1420.0      124.0             136.0                188.0     121.0     874.0"
            ],
            "text/html": [
              "<div>\n",
              "<style scoped>\n",
              "    .dataframe tbody tr th:only-of-type {\n",
              "        vertical-align: middle;\n",
              "    }\n",
              "\n",
              "    .dataframe tbody tr th {\n",
              "        vertical-align: top;\n",
              "    }\n",
              "\n",
              "    .dataframe thead th {\n",
              "        text-align: right;\n",
              "    }\n",
              "</style>\n",
              "<table border=\"1\" class=\"dataframe\">\n",
              "  <thead>\n",
              "    <tr style=\"text-align: right;\">\n",
              "      <th></th>\n",
              "      <th>FL_DATE</th>\n",
              "      <th>OP_CARRIER</th>\n",
              "      <th>OP_CARRIER_FL_NUM</th>\n",
              "      <th>ORIGIN</th>\n",
              "      <th>DEST</th>\n",
              "      <th>CRS_DEP_TIME</th>\n",
              "      <th>DEP_TIME</th>\n",
              "      <th>DEP_DELAY</th>\n",
              "      <th>TAXI_OUT</th>\n",
              "      <th>WHEELS_OFF</th>\n",
              "      <th>WHEELS_ON</th>\n",
              "      <th>TAXI_IN</th>\n",
              "      <th>CRS_ARR_TIME</th>\n",
              "      <th>ARR_TIME</th>\n",
              "      <th>ARR_DELAY</th>\n",
              "      <th>CRS_ELAPSED_TIME</th>\n",
              "      <th>ACTUAL_ELAPSED_TIME</th>\n",
              "      <th>AIR_TIME</th>\n",
              "      <th>DISTANCE</th>\n",
              "    </tr>\n",
              "  </thead>\n",
              "  <tbody>\n",
              "    <tr>\n",
              "      <th>0</th>\n",
              "      <td>2016-01-01</td>\n",
              "      <td>DL</td>\n",
              "      <td>1248</td>\n",
              "      <td>DTW</td>\n",
              "      <td>LAX</td>\n",
              "      <td>1935</td>\n",
              "      <td>1935.0</td>\n",
              "      <td>0.0</td>\n",
              "      <td>23.0</td>\n",
              "      <td>1958.0</td>\n",
              "      <td>2107.0</td>\n",
              "      <td>13.0</td>\n",
              "      <td>2144</td>\n",
              "      <td>2120.0</td>\n",
              "      <td>-24.0</td>\n",
              "      <td>309.0</td>\n",
              "      <td>285.0</td>\n",
              "      <td>249.0</td>\n",
              "      <td>1979.0</td>\n",
              "    </tr>\n",
              "    <tr>\n",
              "      <th>1</th>\n",
              "      <td>2016-01-01</td>\n",
              "      <td>DL</td>\n",
              "      <td>1251</td>\n",
              "      <td>ATL</td>\n",
              "      <td>GRR</td>\n",
              "      <td>2125</td>\n",
              "      <td>2130.0</td>\n",
              "      <td>5.0</td>\n",
              "      <td>13.0</td>\n",
              "      <td>2143.0</td>\n",
              "      <td>2315.0</td>\n",
              "      <td>4.0</td>\n",
              "      <td>2321</td>\n",
              "      <td>2319.0</td>\n",
              "      <td>-2.0</td>\n",
              "      <td>116.0</td>\n",
              "      <td>109.0</td>\n",
              "      <td>92.0</td>\n",
              "      <td>640.0</td>\n",
              "    </tr>\n",
              "    <tr>\n",
              "      <th>2</th>\n",
              "      <td>2016-01-01</td>\n",
              "      <td>DL</td>\n",
              "      <td>1254</td>\n",
              "      <td>LAX</td>\n",
              "      <td>ATL</td>\n",
              "      <td>2255</td>\n",
              "      <td>2256.0</td>\n",
              "      <td>1.0</td>\n",
              "      <td>19.0</td>\n",
              "      <td>2315.0</td>\n",
              "      <td>542.0</td>\n",
              "      <td>5.0</td>\n",
              "      <td>600</td>\n",
              "      <td>547.0</td>\n",
              "      <td>-13.0</td>\n",
              "      <td>245.0</td>\n",
              "      <td>231.0</td>\n",
              "      <td>207.0</td>\n",
              "      <td>1947.0</td>\n",
              "    </tr>\n",
              "    <tr>\n",
              "      <th>3</th>\n",
              "      <td>2016-01-01</td>\n",
              "      <td>DL</td>\n",
              "      <td>1255</td>\n",
              "      <td>SLC</td>\n",
              "      <td>ATL</td>\n",
              "      <td>1656</td>\n",
              "      <td>1700.0</td>\n",
              "      <td>4.0</td>\n",
              "      <td>12.0</td>\n",
              "      <td>1712.0</td>\n",
              "      <td>2205.0</td>\n",
              "      <td>8.0</td>\n",
              "      <td>2229</td>\n",
              "      <td>2213.0</td>\n",
              "      <td>-16.0</td>\n",
              "      <td>213.0</td>\n",
              "      <td>193.0</td>\n",
              "      <td>173.0</td>\n",
              "      <td>1590.0</td>\n",
              "    </tr>\n",
              "    <tr>\n",
              "      <th>4</th>\n",
              "      <td>2016-01-01</td>\n",
              "      <td>DL</td>\n",
              "      <td>1256</td>\n",
              "      <td>BZN</td>\n",
              "      <td>MSP</td>\n",
              "      <td>900</td>\n",
              "      <td>1012.0</td>\n",
              "      <td>72.0</td>\n",
              "      <td>63.0</td>\n",
              "      <td>1115.0</td>\n",
              "      <td>1416.0</td>\n",
              "      <td>4.0</td>\n",
              "      <td>1216</td>\n",
              "      <td>1420.0</td>\n",
              "      <td>124.0</td>\n",
              "      <td>136.0</td>\n",
              "      <td>188.0</td>\n",
              "      <td>121.0</td>\n",
              "      <td>874.0</td>\n",
              "    </tr>\n",
              "  </tbody>\n",
              "</table>\n",
              "</div>"
            ]
          },
          "metadata": {},
          "execution_count": 24
        }
      ],
      "source": [
        "#Koalas (Display Dataframe)\n",
        "kdf.head()"
      ]
    },
    {
      "cell_type": "markdown",
      "metadata": {
        "id": "BlJHgssYtmwY"
      },
      "source": [
        "###Vaex"
      ]
    },
    {
      "cell_type": "code",
      "execution_count": 25,
      "metadata": {
        "colab": {
          "base_uri": "https://localhost:8080/",
          "height": 448
        },
        "id": "1WrS1PRRQ0j7",
        "outputId": "798a28c1-e7dd-4e58-c367-79b0aecd0223"
      },
      "outputs": [
        {
          "output_type": "execute_result",
          "data": {
            "text/html": [
              "<table>\n",
              "<thead>\n",
              "<tr><th>#                            </th><th>FL_DATE   </th><th>OP_CARRIER  </th><th style=\"text-align: right;\">  OP_CARRIER_FL_NUM</th><th>ORIGIN  </th><th>DEST  </th><th style=\"text-align: right;\">  CRS_DEP_TIME</th><th style=\"text-align: right;\">  DEP_TIME</th><th style=\"text-align: right;\">  DEP_DELAY</th><th style=\"text-align: right;\">  TAXI_OUT</th><th style=\"text-align: right;\">  WHEELS_OFF</th><th style=\"text-align: right;\">  WHEELS_ON</th><th style=\"text-align: right;\">  TAXI_IN</th><th style=\"text-align: right;\">  CRS_ARR_TIME</th><th style=\"text-align: right;\">  ARR_TIME</th><th style=\"text-align: right;\">  ARR_DELAY</th><th style=\"text-align: right;\">  CRS_ELAPSED_TIME</th><th style=\"text-align: right;\">  ACTUAL_ELAPSED_TIME</th><th style=\"text-align: right;\">  AIR_TIME</th><th style=\"text-align: right;\">  DISTANCE</th></tr>\n",
              "</thead>\n",
              "<tbody>\n",
              "<tr><td><i style='opacity: 0.6'>0</i></td><td>2016-01-01</td><td>DL          </td><td style=\"text-align: right;\">               1248</td><td>DTW     </td><td>LAX   </td><td style=\"text-align: right;\">          1935</td><td style=\"text-align: right;\">      1935</td><td style=\"text-align: right;\">          0</td><td style=\"text-align: right;\">        23</td><td style=\"text-align: right;\">        1958</td><td style=\"text-align: right;\">       2107</td><td style=\"text-align: right;\">       13</td><td style=\"text-align: right;\">          2144</td><td style=\"text-align: right;\">      2120</td><td style=\"text-align: right;\">        -24</td><td style=\"text-align: right;\">               309</td><td style=\"text-align: right;\">                  285</td><td style=\"text-align: right;\">       249</td><td style=\"text-align: right;\">      1979</td></tr>\n",
              "<tr><td><i style='opacity: 0.6'>1</i></td><td>2016-01-01</td><td>DL          </td><td style=\"text-align: right;\">               1251</td><td>ATL     </td><td>GRR   </td><td style=\"text-align: right;\">          2125</td><td style=\"text-align: right;\">      2130</td><td style=\"text-align: right;\">          5</td><td style=\"text-align: right;\">        13</td><td style=\"text-align: right;\">        2143</td><td style=\"text-align: right;\">       2315</td><td style=\"text-align: right;\">        4</td><td style=\"text-align: right;\">          2321</td><td style=\"text-align: right;\">      2319</td><td style=\"text-align: right;\">         -2</td><td style=\"text-align: right;\">               116</td><td style=\"text-align: right;\">                  109</td><td style=\"text-align: right;\">        92</td><td style=\"text-align: right;\">       640</td></tr>\n",
              "<tr><td><i style='opacity: 0.6'>2</i></td><td>2016-01-01</td><td>DL          </td><td style=\"text-align: right;\">               1254</td><td>LAX     </td><td>ATL   </td><td style=\"text-align: right;\">          2255</td><td style=\"text-align: right;\">      2256</td><td style=\"text-align: right;\">          1</td><td style=\"text-align: right;\">        19</td><td style=\"text-align: right;\">        2315</td><td style=\"text-align: right;\">        542</td><td style=\"text-align: right;\">        5</td><td style=\"text-align: right;\">           600</td><td style=\"text-align: right;\">       547</td><td style=\"text-align: right;\">        -13</td><td style=\"text-align: right;\">               245</td><td style=\"text-align: right;\">                  231</td><td style=\"text-align: right;\">       207</td><td style=\"text-align: right;\">      1947</td></tr>\n",
              "<tr><td><i style='opacity: 0.6'>3</i></td><td>2016-01-01</td><td>DL          </td><td style=\"text-align: right;\">               1255</td><td>SLC     </td><td>ATL   </td><td style=\"text-align: right;\">          1656</td><td style=\"text-align: right;\">      1700</td><td style=\"text-align: right;\">          4</td><td style=\"text-align: right;\">        12</td><td style=\"text-align: right;\">        1712</td><td style=\"text-align: right;\">       2205</td><td style=\"text-align: right;\">        8</td><td style=\"text-align: right;\">          2229</td><td style=\"text-align: right;\">      2213</td><td style=\"text-align: right;\">        -16</td><td style=\"text-align: right;\">               213</td><td style=\"text-align: right;\">                  193</td><td style=\"text-align: right;\">       173</td><td style=\"text-align: right;\">      1590</td></tr>\n",
              "<tr><td><i style='opacity: 0.6'>4</i></td><td>2016-01-01</td><td>DL          </td><td style=\"text-align: right;\">               1256</td><td>BZN     </td><td>MSP   </td><td style=\"text-align: right;\">           900</td><td style=\"text-align: right;\">      1012</td><td style=\"text-align: right;\">         72</td><td style=\"text-align: right;\">        63</td><td style=\"text-align: right;\">        1115</td><td style=\"text-align: right;\">       1416</td><td style=\"text-align: right;\">        4</td><td style=\"text-align: right;\">          1216</td><td style=\"text-align: right;\">      1420</td><td style=\"text-align: right;\">        124</td><td style=\"text-align: right;\">               136</td><td style=\"text-align: right;\">                  188</td><td style=\"text-align: right;\">       121</td><td style=\"text-align: right;\">       874</td></tr>\n",
              "<tr><td><i style='opacity: 0.6'>5</i></td><td>2016-01-01</td><td>DL          </td><td style=\"text-align: right;\">               1257</td><td>ATL     </td><td>BNA   </td><td style=\"text-align: right;\">          1233</td><td style=\"text-align: right;\">      1356</td><td style=\"text-align: right;\">         83</td><td style=\"text-align: right;\">        22</td><td style=\"text-align: right;\">        1418</td><td style=\"text-align: right;\">       1356</td><td style=\"text-align: right;\">        6</td><td style=\"text-align: right;\">          1239</td><td style=\"text-align: right;\">      1402</td><td style=\"text-align: right;\">         83</td><td style=\"text-align: right;\">                66</td><td style=\"text-align: right;\">                   66</td><td style=\"text-align: right;\">        38</td><td style=\"text-align: right;\">       214</td></tr>\n",
              "<tr><td><i style='opacity: 0.6'>6</i></td><td>2016-01-01</td><td>DL          </td><td style=\"text-align: right;\">               1257</td><td>BNA     </td><td>ATL   </td><td style=\"text-align: right;\">          1320</td><td style=\"text-align: right;\">      1446</td><td style=\"text-align: right;\">         86</td><td style=\"text-align: right;\">        15</td><td style=\"text-align: right;\">        1501</td><td style=\"text-align: right;\">       1638</td><td style=\"text-align: right;\">        6</td><td style=\"text-align: right;\">          1530</td><td style=\"text-align: right;\">      1644</td><td style=\"text-align: right;\">         74</td><td style=\"text-align: right;\">                70</td><td style=\"text-align: right;\">                   58</td><td style=\"text-align: right;\">        37</td><td style=\"text-align: right;\">       214</td></tr>\n",
              "<tr><td><i style='opacity: 0.6'>7</i></td><td>2016-01-01</td><td>DL          </td><td style=\"text-align: right;\">               1258</td><td>ATL     </td><td>JAX   </td><td style=\"text-align: right;\">           945</td><td style=\"text-align: right;\">       946</td><td style=\"text-align: right;\">          1</td><td style=\"text-align: right;\">        19</td><td style=\"text-align: right;\">        1005</td><td style=\"text-align: right;\">       1050</td><td style=\"text-align: right;\">        3</td><td style=\"text-align: right;\">          1050</td><td style=\"text-align: right;\">      1053</td><td style=\"text-align: right;\">          3</td><td style=\"text-align: right;\">                65</td><td style=\"text-align: right;\">                   67</td><td style=\"text-align: right;\">        45</td><td style=\"text-align: right;\">       270</td></tr>\n",
              "<tr><td><i style='opacity: 0.6'>8</i></td><td>2016-01-01</td><td>DL          </td><td style=\"text-align: right;\">               1258</td><td>JAX     </td><td>ATL   </td><td style=\"text-align: right;\">          1145</td><td style=\"text-align: right;\">      1144</td><td style=\"text-align: right;\">         -1</td><td style=\"text-align: right;\">        12</td><td style=\"text-align: right;\">        1156</td><td style=\"text-align: right;\">       1239</td><td style=\"text-align: right;\">        8</td><td style=\"text-align: right;\">          1302</td><td style=\"text-align: right;\">      1247</td><td style=\"text-align: right;\">        -15</td><td style=\"text-align: right;\">                77</td><td style=\"text-align: right;\">                   63</td><td style=\"text-align: right;\">        43</td><td style=\"text-align: right;\">       270</td></tr>\n",
              "<tr><td><i style='opacity: 0.6'>9</i></td><td>2016-01-01</td><td>DL          </td><td style=\"text-align: right;\">               1259</td><td>ATL     </td><td>OKC   </td><td style=\"text-align: right;\">          2110</td><td style=\"text-align: right;\">      2107</td><td style=\"text-align: right;\">         -3</td><td style=\"text-align: right;\">        16</td><td style=\"text-align: right;\">        2123</td><td style=\"text-align: right;\">       2219</td><td style=\"text-align: right;\">        5</td><td style=\"text-align: right;\">          2236</td><td style=\"text-align: right;\">      2224</td><td style=\"text-align: right;\">        -12</td><td style=\"text-align: right;\">               146</td><td style=\"text-align: right;\">                  137</td><td style=\"text-align: right;\">       116</td><td style=\"text-align: right;\">       761</td></tr>\n",
              "</tbody>\n",
              "</table>"
            ],
            "text/plain": [
              "  #  FL_DATE     OP_CARRIER      OP_CARRIER_FL_NUM  ORIGIN    DEST      CRS_DEP_TIME    DEP_TIME    DEP_DELAY    TAXI_OUT    WHEELS_OFF    WHEELS_ON    TAXI_IN    CRS_ARR_TIME    ARR_TIME    ARR_DELAY    CRS_ELAPSED_TIME    ACTUAL_ELAPSED_TIME    AIR_TIME    DISTANCE\n",
              "  0  2016-01-01  DL                           1248  DTW       LAX               1935        1935            0          23          1958         2107         13            2144        2120          -24                 309                    285         249        1979\n",
              "  1  2016-01-01  DL                           1251  ATL       GRR               2125        2130            5          13          2143         2315          4            2321        2319           -2                 116                    109          92         640\n",
              "  2  2016-01-01  DL                           1254  LAX       ATL               2255        2256            1          19          2315          542          5             600         547          -13                 245                    231         207        1947\n",
              "  3  2016-01-01  DL                           1255  SLC       ATL               1656        1700            4          12          1712         2205          8            2229        2213          -16                 213                    193         173        1590\n",
              "  4  2016-01-01  DL                           1256  BZN       MSP                900        1012           72          63          1115         1416          4            1216        1420          124                 136                    188         121         874\n",
              "  5  2016-01-01  DL                           1257  ATL       BNA               1233        1356           83          22          1418         1356          6            1239        1402           83                  66                     66          38         214\n",
              "  6  2016-01-01  DL                           1257  BNA       ATL               1320        1446           86          15          1501         1638          6            1530        1644           74                  70                     58          37         214\n",
              "  7  2016-01-01  DL                           1258  ATL       JAX                945         946            1          19          1005         1050          3            1050        1053            3                  65                     67          45         270\n",
              "  8  2016-01-01  DL                           1258  JAX       ATL               1145        1144           -1          12          1156         1239          8            1302        1247          -15                  77                     63          43         270\n",
              "  9  2016-01-01  DL                           1259  ATL       OKC               2110        2107           -3          16          2123         2219          5            2236        2224          -12                 146                    137         116         761"
            ]
          },
          "metadata": {},
          "execution_count": 25
        }
      ],
      "source": [
        "#Vaex (Dropping Unused Column)\n",
        "vdf = vdf.drop(columns=['CANCELLED', 'CANCELLATION_CODE', 'DIVERTED', 'CARRIER_DELAY', 'WEATHER_DELAY', 'NAS_DELAY', 'SECURITY_DELAY', 'LATE_AIRCRAFT_DELAY','Unnamed: 27'])\n",
        "vdf.head()"
      ]
    },
    {
      "cell_type": "code",
      "execution_count": 26,
      "metadata": {
        "id": "4Lvk50ySSHQ9"
      },
      "outputs": [],
      "source": [
        "#Vaex (Converting String to Datetime)\n",
        "\n",
        "vdf['FL_DATE'] = vdf['FL_DATE'].astype('datetime64[ns]')"
      ]
    },
    {
      "cell_type": "code",
      "execution_count": 27,
      "metadata": {
        "id": "UtIcDyDRTepX"
      },
      "outputs": [],
      "source": [
        "#Vaex (Dropping Rows with Null Values)\n",
        "vdf = vdf.dropna()\n"
      ]
    },
    {
      "cell_type": "code",
      "execution_count": 28,
      "metadata": {
        "colab": {
          "base_uri": "https://localhost:8080/",
          "height": 621
        },
        "id": "OS8oCz0YqGwV",
        "outputId": "b13fe6ce-6bb2-4840-e752-b7c3a38a0e47"
      },
      "outputs": [
        {
          "output_type": "execute_result",
          "data": {
            "text/html": [
              "<table>\n",
              "<thead>\n",
              "<tr><th>#                            </th><th>FL_DATE            </th><th>OP_CARRIER  </th><th style=\"text-align: right;\">  OP_CARRIER_FL_NUM</th><th>ORIGIN  </th><th>DEST  </th><th style=\"text-align: right;\">  CRS_DEP_TIME</th><th style=\"text-align: right;\">  DEP_TIME</th><th style=\"text-align: right;\">  DEP_DELAY</th><th style=\"text-align: right;\">  TAXI_OUT</th><th style=\"text-align: right;\">  WHEELS_OFF</th><th style=\"text-align: right;\">  WHEELS_ON</th><th style=\"text-align: right;\">  TAXI_IN</th><th style=\"text-align: right;\">  CRS_ARR_TIME</th><th style=\"text-align: right;\">  ARR_TIME</th><th style=\"text-align: right;\">  ARR_DELAY</th><th style=\"text-align: right;\">  CRS_ELAPSED_TIME</th><th style=\"text-align: right;\">  ACTUAL_ELAPSED_TIME</th><th style=\"text-align: right;\">  AIR_TIME</th><th style=\"text-align: right;\">  DISTANCE</th></tr>\n",
              "</thead>\n",
              "<tbody>\n",
              "<tr><td><i style='opacity: 0.6'>0</i></td><td>2016-01-01 00:00:00</td><td>DL          </td><td style=\"text-align: right;\">               1248</td><td>DTW     </td><td>LAX   </td><td style=\"text-align: right;\">          1935</td><td style=\"text-align: right;\">      1935</td><td style=\"text-align: right;\">          0</td><td style=\"text-align: right;\">        23</td><td style=\"text-align: right;\">        1958</td><td style=\"text-align: right;\">       2107</td><td style=\"text-align: right;\">       13</td><td style=\"text-align: right;\">          2144</td><td style=\"text-align: right;\">      2120</td><td style=\"text-align: right;\">        -24</td><td style=\"text-align: right;\">               309</td><td style=\"text-align: right;\">                  285</td><td style=\"text-align: right;\">       249</td><td style=\"text-align: right;\">      1979</td></tr>\n",
              "<tr><td><i style='opacity: 0.6'>1</i></td><td>2016-01-01 00:00:00</td><td>DL          </td><td style=\"text-align: right;\">               1251</td><td>ATL     </td><td>GRR   </td><td style=\"text-align: right;\">          2125</td><td style=\"text-align: right;\">      2130</td><td style=\"text-align: right;\">          5</td><td style=\"text-align: right;\">        13</td><td style=\"text-align: right;\">        2143</td><td style=\"text-align: right;\">       2315</td><td style=\"text-align: right;\">        4</td><td style=\"text-align: right;\">          2321</td><td style=\"text-align: right;\">      2319</td><td style=\"text-align: right;\">         -2</td><td style=\"text-align: right;\">               116</td><td style=\"text-align: right;\">                  109</td><td style=\"text-align: right;\">        92</td><td style=\"text-align: right;\">       640</td></tr>\n",
              "<tr><td><i style='opacity: 0.6'>2</i></td><td>2016-01-01 00:00:00</td><td>DL          </td><td style=\"text-align: right;\">               1254</td><td>LAX     </td><td>ATL   </td><td style=\"text-align: right;\">          2255</td><td style=\"text-align: right;\">      2256</td><td style=\"text-align: right;\">          1</td><td style=\"text-align: right;\">        19</td><td style=\"text-align: right;\">        2315</td><td style=\"text-align: right;\">        542</td><td style=\"text-align: right;\">        5</td><td style=\"text-align: right;\">           600</td><td style=\"text-align: right;\">       547</td><td style=\"text-align: right;\">        -13</td><td style=\"text-align: right;\">               245</td><td style=\"text-align: right;\">                  231</td><td style=\"text-align: right;\">       207</td><td style=\"text-align: right;\">      1947</td></tr>\n",
              "<tr><td><i style='opacity: 0.6'>3</i></td><td>2016-01-01 00:00:00</td><td>DL          </td><td style=\"text-align: right;\">               1255</td><td>SLC     </td><td>ATL   </td><td style=\"text-align: right;\">          1656</td><td style=\"text-align: right;\">      1700</td><td style=\"text-align: right;\">          4</td><td style=\"text-align: right;\">        12</td><td style=\"text-align: right;\">        1712</td><td style=\"text-align: right;\">       2205</td><td style=\"text-align: right;\">        8</td><td style=\"text-align: right;\">          2229</td><td style=\"text-align: right;\">      2213</td><td style=\"text-align: right;\">        -16</td><td style=\"text-align: right;\">               213</td><td style=\"text-align: right;\">                  193</td><td style=\"text-align: right;\">       173</td><td style=\"text-align: right;\">      1590</td></tr>\n",
              "<tr><td><i style='opacity: 0.6'>4</i></td><td>2016-01-01 00:00:00</td><td>DL          </td><td style=\"text-align: right;\">               1256</td><td>BZN     </td><td>MSP   </td><td style=\"text-align: right;\">           900</td><td style=\"text-align: right;\">      1012</td><td style=\"text-align: right;\">         72</td><td style=\"text-align: right;\">        63</td><td style=\"text-align: right;\">        1115</td><td style=\"text-align: right;\">       1416</td><td style=\"text-align: right;\">        4</td><td style=\"text-align: right;\">          1216</td><td style=\"text-align: right;\">      1420</td><td style=\"text-align: right;\">        124</td><td style=\"text-align: right;\">               136</td><td style=\"text-align: right;\">                  188</td><td style=\"text-align: right;\">       121</td><td style=\"text-align: right;\">       874</td></tr>\n",
              "<tr><td><i style='opacity: 0.6'>5</i></td><td>2016-01-01 00:00:00</td><td>DL          </td><td style=\"text-align: right;\">               1257</td><td>ATL     </td><td>BNA   </td><td style=\"text-align: right;\">          1233</td><td style=\"text-align: right;\">      1356</td><td style=\"text-align: right;\">         83</td><td style=\"text-align: right;\">        22</td><td style=\"text-align: right;\">        1418</td><td style=\"text-align: right;\">       1356</td><td style=\"text-align: right;\">        6</td><td style=\"text-align: right;\">          1239</td><td style=\"text-align: right;\">      1402</td><td style=\"text-align: right;\">         83</td><td style=\"text-align: right;\">                66</td><td style=\"text-align: right;\">                   66</td><td style=\"text-align: right;\">        38</td><td style=\"text-align: right;\">       214</td></tr>\n",
              "<tr><td><i style='opacity: 0.6'>6</i></td><td>2016-01-01 00:00:00</td><td>DL          </td><td style=\"text-align: right;\">               1257</td><td>BNA     </td><td>ATL   </td><td style=\"text-align: right;\">          1320</td><td style=\"text-align: right;\">      1446</td><td style=\"text-align: right;\">         86</td><td style=\"text-align: right;\">        15</td><td style=\"text-align: right;\">        1501</td><td style=\"text-align: right;\">       1638</td><td style=\"text-align: right;\">        6</td><td style=\"text-align: right;\">          1530</td><td style=\"text-align: right;\">      1644</td><td style=\"text-align: right;\">         74</td><td style=\"text-align: right;\">                70</td><td style=\"text-align: right;\">                   58</td><td style=\"text-align: right;\">        37</td><td style=\"text-align: right;\">       214</td></tr>\n",
              "<tr><td><i style='opacity: 0.6'>7</i></td><td>2016-01-01 00:00:00</td><td>DL          </td><td style=\"text-align: right;\">               1258</td><td>ATL     </td><td>JAX   </td><td style=\"text-align: right;\">           945</td><td style=\"text-align: right;\">       946</td><td style=\"text-align: right;\">          1</td><td style=\"text-align: right;\">        19</td><td style=\"text-align: right;\">        1005</td><td style=\"text-align: right;\">       1050</td><td style=\"text-align: right;\">        3</td><td style=\"text-align: right;\">          1050</td><td style=\"text-align: right;\">      1053</td><td style=\"text-align: right;\">          3</td><td style=\"text-align: right;\">                65</td><td style=\"text-align: right;\">                   67</td><td style=\"text-align: right;\">        45</td><td style=\"text-align: right;\">       270</td></tr>\n",
              "<tr><td><i style='opacity: 0.6'>8</i></td><td>2016-01-01 00:00:00</td><td>DL          </td><td style=\"text-align: right;\">               1258</td><td>JAX     </td><td>ATL   </td><td style=\"text-align: right;\">          1145</td><td style=\"text-align: right;\">      1144</td><td style=\"text-align: right;\">         -1</td><td style=\"text-align: right;\">        12</td><td style=\"text-align: right;\">        1156</td><td style=\"text-align: right;\">       1239</td><td style=\"text-align: right;\">        8</td><td style=\"text-align: right;\">          1302</td><td style=\"text-align: right;\">      1247</td><td style=\"text-align: right;\">        -15</td><td style=\"text-align: right;\">                77</td><td style=\"text-align: right;\">                   63</td><td style=\"text-align: right;\">        43</td><td style=\"text-align: right;\">       270</td></tr>\n",
              "<tr><td><i style='opacity: 0.6'>9</i></td><td>2016-01-01 00:00:00</td><td>DL          </td><td style=\"text-align: right;\">               1259</td><td>ATL     </td><td>OKC   </td><td style=\"text-align: right;\">          2110</td><td style=\"text-align: right;\">      2107</td><td style=\"text-align: right;\">         -3</td><td style=\"text-align: right;\">        16</td><td style=\"text-align: right;\">        2123</td><td style=\"text-align: right;\">       2219</td><td style=\"text-align: right;\">        5</td><td style=\"text-align: right;\">          2236</td><td style=\"text-align: right;\">      2224</td><td style=\"text-align: right;\">        -12</td><td style=\"text-align: right;\">               146</td><td style=\"text-align: right;\">                  137</td><td style=\"text-align: right;\">       116</td><td style=\"text-align: right;\">       761</td></tr>\n",
              "</tbody>\n",
              "</table>"
            ],
            "text/plain": [
              "  #  FL_DATE              OP_CARRIER      OP_CARRIER_FL_NUM  ORIGIN    DEST      CRS_DEP_TIME    DEP_TIME    DEP_DELAY    TAXI_OUT    WHEELS_OFF    WHEELS_ON    TAXI_IN    CRS_ARR_TIME    ARR_TIME    ARR_DELAY    CRS_ELAPSED_TIME    ACTUAL_ELAPSED_TIME    AIR_TIME    DISTANCE\n",
              "  0  2016-01-01 00:00:00  DL                           1248  DTW       LAX               1935        1935            0          23          1958         2107         13            2144        2120          -24                 309                    285         249        1979\n",
              "  1  2016-01-01 00:00:00  DL                           1251  ATL       GRR               2125        2130            5          13          2143         2315          4            2321        2319           -2                 116                    109          92         640\n",
              "  2  2016-01-01 00:00:00  DL                           1254  LAX       ATL               2255        2256            1          19          2315          542          5             600         547          -13                 245                    231         207        1947\n",
              "  3  2016-01-01 00:00:00  DL                           1255  SLC       ATL               1656        1700            4          12          1712         2205          8            2229        2213          -16                 213                    193         173        1590\n",
              "  4  2016-01-01 00:00:00  DL                           1256  BZN       MSP                900        1012           72          63          1115         1416          4            1216        1420          124                 136                    188         121         874\n",
              "  5  2016-01-01 00:00:00  DL                           1257  ATL       BNA               1233        1356           83          22          1418         1356          6            1239        1402           83                  66                     66          38         214\n",
              "  6  2016-01-01 00:00:00  DL                           1257  BNA       ATL               1320        1446           86          15          1501         1638          6            1530        1644           74                  70                     58          37         214\n",
              "  7  2016-01-01 00:00:00  DL                           1258  ATL       JAX                945         946            1          19          1005         1050          3            1050        1053            3                  65                     67          45         270\n",
              "  8  2016-01-01 00:00:00  DL                           1258  JAX       ATL               1145        1144           -1          12          1156         1239          8            1302        1247          -15                  77                     63          43         270\n",
              "  9  2016-01-01 00:00:00  DL                           1259  ATL       OKC               2110        2107           -3          16          2123         2219          5            2236        2224          -12                 146                    137         116         761"
            ]
          },
          "metadata": {},
          "execution_count": 28
        }
      ],
      "source": [
        "#Vaex (Display Dataframe)\n",
        "vdf.head()"
      ]
    },
    {
      "cell_type": "code",
      "execution_count": null,
      "metadata": {
        "colab": {
          "base_uri": "https://localhost:8080/"
        },
        "id": "saVbDK8msRlt",
        "outputId": "386ea361-bd76-4450-df60-9b0c4e80bd24"
      },
      "outputs": [
        {
          "data": {
            "text/plain": [
              "FL_DATE                datetime64[ns]\n",
              "OP_CARRIER                     string\n",
              "OP_CARRIER_FL_NUM               int64\n",
              "ORIGIN                         string\n",
              "DEST                           string\n",
              "CRS_DEP_TIME                    int64\n",
              "DEP_TIME                      float64\n",
              "DEP_DELAY                     float64\n",
              "TAXI_OUT                      float64\n",
              "WHEELS_OFF                    float64\n",
              "WHEELS_ON                     float64\n",
              "TAXI_IN                       float64\n",
              "CRS_ARR_TIME                    int64\n",
              "ARR_TIME                      float64\n",
              "ARR_DELAY                     float64\n",
              "CRS_ELAPSED_TIME              float64\n",
              "ACTUAL_ELAPSED_TIME           float64\n",
              "AIR_TIME                      float64\n",
              "DISTANCE                      float64\n",
              "dtype: object"
            ]
          },
          "execution_count": 13,
          "metadata": {},
          "output_type": "execute_result"
        }
      ],
      "source": [
        "#Vaex (List columns datatypes)\n",
        "vdf.dtypes"
      ]
    },
    {
      "cell_type": "markdown",
      "metadata": {
        "id": "H9RQXh_Kt1lh"
      },
      "source": [
        "###Pyspark"
      ]
    },
    {
      "cell_type": "code",
      "execution_count": 29,
      "metadata": {
        "id": "3nwFU7pIX6FP"
      },
      "outputs": [],
      "source": [
        "#Pyspark (Dropping Unused Column)\n",
        "pdf = pdf.drop('CANCELLED', 'CANCELLATION_CODE', 'DIVERTED', 'CARRIER_DELAY', 'WEATHER_DELAY', 'NAS_DELAY', 'SECURITY_DELAY', 'LATE_AIRCRAFT_DELAY','Unnamed: 27')"
      ]
    },
    {
      "cell_type": "code",
      "execution_count": 30,
      "metadata": {
        "id": "mMTW0cL4ZEQM"
      },
      "outputs": [],
      "source": [
        "#Pyspark (Dropping Rows with Null Values)\n",
        "pdf = pdf.na.drop()\n"
      ]
    },
    {
      "cell_type": "code",
      "execution_count": 31,
      "metadata": {
        "id": "bmpYa0OTjggZ"
      },
      "outputs": [],
      "source": [
        "#Pyspark (Converting String to Datetime)\n",
        "from pyspark.sql.functions import *\n",
        "pdf = pdf.withColumn(\"FL_DATE\",to_date(\"FL_DATE\"))"
      ]
    },
    {
      "cell_type": "code",
      "execution_count": null,
      "metadata": {
        "colab": {
          "base_uri": "https://localhost:8080/"
        },
        "id": "UlyRYo4if8xt",
        "outputId": "6e06583d-37bf-4b0b-c81e-0e9957b213ea"
      },
      "outputs": [
        {
          "data": {
            "text/plain": [
              "[('FL_DATE', 'date'),\n",
              " ('OP_CARRIER', 'string'),\n",
              " ('OP_CARRIER_FL_NUM', 'int'),\n",
              " ('ORIGIN', 'string'),\n",
              " ('DEST', 'string'),\n",
              " ('CRS_DEP_TIME', 'int'),\n",
              " ('DEP_TIME', 'double'),\n",
              " ('DEP_DELAY', 'double'),\n",
              " ('TAXI_OUT', 'double'),\n",
              " ('WHEELS_OFF', 'double'),\n",
              " ('WHEELS_ON', 'double'),\n",
              " ('TAXI_IN', 'double'),\n",
              " ('CRS_ARR_TIME', 'int'),\n",
              " ('ARR_TIME', 'double'),\n",
              " ('ARR_DELAY', 'double'),\n",
              " ('CRS_ELAPSED_TIME', 'double'),\n",
              " ('ACTUAL_ELAPSED_TIME', 'double'),\n",
              " ('AIR_TIME', 'double'),\n",
              " ('DISTANCE', 'double')]"
            ]
          },
          "execution_count": 27,
          "metadata": {},
          "output_type": "execute_result"
        }
      ],
      "source": [
        "#Pyspark (List columns datatypes)\n",
        "pdf.dtypes"
      ]
    },
    {
      "cell_type": "code",
      "execution_count": null,
      "metadata": {
        "colab": {
          "base_uri": "https://localhost:8080/"
        },
        "id": "ICKPtRMBnZ0_",
        "outputId": "6434722d-8fe5-468d-f845-5c556eccd092"
      },
      "outputs": [
        {
          "name": "stdout",
          "output_type": "stream",
          "text": [
            "+----------+----------+-----------------+------+----+------------+--------+---------+--------+----------+---------+-------+------------+--------+---------+----------------+-------------------+--------+--------+\n",
            "|   FL_DATE|OP_CARRIER|OP_CARRIER_FL_NUM|ORIGIN|DEST|CRS_DEP_TIME|DEP_TIME|DEP_DELAY|TAXI_OUT|WHEELS_OFF|WHEELS_ON|TAXI_IN|CRS_ARR_TIME|ARR_TIME|ARR_DELAY|CRS_ELAPSED_TIME|ACTUAL_ELAPSED_TIME|AIR_TIME|DISTANCE|\n",
            "+----------+----------+-----------------+------+----+------------+--------+---------+--------+----------+---------+-------+------------+--------+---------+----------------+-------------------+--------+--------+\n",
            "|2016-01-01|        DL|             1248|   DTW| LAX|        1935|  1935.0|      0.0|    23.0|    1958.0|   2107.0|   13.0|        2144|  2120.0|    -24.0|           309.0|              285.0|   249.0|  1979.0|\n",
            "|2016-01-01|        DL|             1251|   ATL| GRR|        2125|  2130.0|      5.0|    13.0|    2143.0|   2315.0|    4.0|        2321|  2319.0|     -2.0|           116.0|              109.0|    92.0|   640.0|\n",
            "|2016-01-01|        DL|             1254|   LAX| ATL|        2255|  2256.0|      1.0|    19.0|    2315.0|    542.0|    5.0|         600|   547.0|    -13.0|           245.0|              231.0|   207.0|  1947.0|\n",
            "|2016-01-01|        DL|             1255|   SLC| ATL|        1656|  1700.0|      4.0|    12.0|    1712.0|   2205.0|    8.0|        2229|  2213.0|    -16.0|           213.0|              193.0|   173.0|  1590.0|\n",
            "|2016-01-01|        DL|             1256|   BZN| MSP|         900|  1012.0|     72.0|    63.0|    1115.0|   1416.0|    4.0|        1216|  1420.0|    124.0|           136.0|              188.0|   121.0|   874.0|\n",
            "|2016-01-01|        DL|             1257|   ATL| BNA|        1233|  1356.0|     83.0|    22.0|    1418.0|   1356.0|    6.0|        1239|  1402.0|     83.0|            66.0|               66.0|    38.0|   214.0|\n",
            "|2016-01-01|        DL|             1257|   BNA| ATL|        1320|  1446.0|     86.0|    15.0|    1501.0|   1638.0|    6.0|        1530|  1644.0|     74.0|            70.0|               58.0|    37.0|   214.0|\n",
            "|2016-01-01|        DL|             1258|   ATL| JAX|         945|   946.0|      1.0|    19.0|    1005.0|   1050.0|    3.0|        1050|  1053.0|      3.0|            65.0|               67.0|    45.0|   270.0|\n",
            "|2016-01-01|        DL|             1258|   JAX| ATL|        1145|  1144.0|     -1.0|    12.0|    1156.0|   1239.0|    8.0|        1302|  1247.0|    -15.0|            77.0|               63.0|    43.0|   270.0|\n",
            "|2016-01-01|        DL|             1259|   ATL| OKC|        2110|  2107.0|     -3.0|    16.0|    2123.0|   2219.0|    5.0|        2236|  2224.0|    -12.0|           146.0|              137.0|   116.0|   761.0|\n",
            "|2016-01-01|        DL|             1260|   MSP| SMF|        1115|  1113.0|     -2.0|    12.0|    1125.0|   1232.0|    4.0|        1309|  1236.0|    -33.0|           234.0|              203.0|   187.0|  1517.0|\n",
            "|2016-01-01|        DL|             1262|   LAX| JFK|        2255|  2248.0|     -7.0|    23.0|    2311.0|    650.0|   11.0|         715|   701.0|    -14.0|           320.0|              313.0|   279.0|  2475.0|\n",
            "|2016-01-01|        DL|             1263|   ATL| MDT|        1510|  1509.0|     -1.0|    17.0|    1526.0|   1646.0|    5.0|        1702|  1651.0|    -11.0|           112.0|              102.0|    80.0|   620.0|\n",
            "|2016-01-01|        DL|             1263|   MDT| ATL|        1737|  1727.0|    -10.0|    11.0|    1738.0|   1923.0|   11.0|        1949|  1934.0|    -15.0|           132.0|              127.0|   105.0|   620.0|\n",
            "|2016-01-01|        DL|             1264|   SLC| JFK|        2345|  2341.0|     -4.0|    25.0|       6.0|    602.0|   11.0|         607|   613.0|      6.0|           262.0|              272.0|   236.0|  1990.0|\n",
            "|2016-01-01|        DL|             1265|   SAV| ATL|        1408|  1403.0|     -5.0|    15.0|    1418.0|   1459.0|    6.0|        1523|  1505.0|    -18.0|            75.0|               62.0|    41.0|   214.0|\n",
            "|2016-01-01|        DL|             1266|   BUF| ATL|         615|   612.0|     -3.0|    38.0|     650.0|    844.0|    5.0|         843|   849.0|      6.0|           148.0|              157.0|   114.0|   712.0|\n",
            "|2016-01-01|        DL|             1269|   LGA| MIA|        1100|  1100.0|      0.0|    15.0|    1115.0|   1402.0|    4.0|        1432|  1406.0|    -26.0|           212.0|              186.0|   167.0|  1096.0|\n",
            "|2016-01-01|        DL|             1270|   ATL| PNS|        1340|  1337.0|     -3.0|    11.0|    1348.0|   1339.0|    3.0|        1352|  1342.0|    -10.0|            72.0|               65.0|    51.0|   271.0|\n",
            "|2016-01-01|        DL|             1270|   PNS| ATL|        1435|  1431.0|     -4.0|    10.0|    1441.0|   1622.0|    6.0|        1648|  1628.0|    -20.0|            73.0|               57.0|    41.0|   271.0|\n",
            "+----------+----------+-----------------+------+----+------------+--------+---------+--------+----------+---------+-------+------------+--------+---------+----------------+-------------------+--------+--------+\n",
            "only showing top 20 rows\n",
            "\n"
          ]
        }
      ],
      "source": [
        "#Pyspark (Display Dataframe)\n",
        "pdf.show()"
      ]
    },
    {
      "cell_type": "markdown",
      "metadata": {
        "id": "y-foGhOf4sxh"
      },
      "source": [
        "##Exploratory Analysis and Visualization\n",
        "\n",
        "Throughout this section, we will be providing the overall analysis while visualizing certain aspects of the dataset in the form of bar chart, pie chart and scatter plot."
      ]
    },
    {
      "cell_type": "markdown",
      "source": [
        "**Describing the Dataframe**"
      ],
      "metadata": {
        "id": "pOdm2FrK-99d"
      }
    },
    {
      "cell_type": "code",
      "source": [
        "%%time\n",
        "kdf.describe()"
      ],
      "metadata": {
        "colab": {
          "base_uri": "https://localhost:8080/",
          "height": 335
        },
        "id": "o1NRdXtk-ryY",
        "outputId": "bc12d226-7275-43db-c963-08493e590f12"
      },
      "execution_count": 32,
      "outputs": [
        {
          "output_type": "stream",
          "name": "stdout",
          "text": [
            "CPU times: user 2.66 s, sys: 287 ms, total: 2.95 s\n",
            "Wall time: 7min 1s\n"
          ]
        },
        {
          "output_type": "execute_result",
          "data": {
            "text/plain": [
              "       OP_CARRIER_FL_NUM  CRS_DEP_TIME      DEP_TIME     DEP_DELAY      TAXI_OUT    WHEELS_OFF     WHEELS_ON       TAXI_IN  CRS_ARR_TIME      ARR_TIME     ARR_DELAY  CRS_ELAPSED_TIME  ACTUAL_ELAPSED_TIME      AIR_TIME      DISTANCE\n",
              "count       1.818937e+07  1.818937e+07  1.818937e+07  1.818937e+07  1.818937e+07  1.818937e+07  1.818937e+07  1.818937e+07  1.818937e+07  1.818937e+07  1.818937e+07      1.818937e+07         1.818937e+07  1.818937e+07  1.818937e+07\n",
              "mean        2.297483e+03  1.329286e+03  1.333582e+03  9.514718e+00  1.683657e+01  1.356265e+03  1.464367e+03  7.522501e+00  1.487824e+03  1.468826e+03  4.364191e+00      1.443913e+02         1.392409e+02  1.148818e+02  8.343475e+02\n",
              "std         1.789496e+03  4.903677e+02  5.038933e+02  4.285813e+01  9.428298e+00  5.055795e+02  5.323567e+02  5.891136e+00  5.177049e+02  5.366764e+02  4.512349e+01      7.561084e+01         7.504639e+01  7.288849e+01  6.142550e+02\n",
              "min         1.000000e+00  1.000000e+00  1.000000e+00 -2.340000e+02  0.000000e+00  1.000000e+00  1.000000e+00  0.000000e+00  1.000000e+00  1.000000e+00 -2.380000e+02     -9.900000e+01         1.400000e+01  4.000000e+00  2.800000e+01\n",
              "25%         8.000000e+02  9.150000e+02  9.160000e+02 -5.000000e+00  1.100000e+01  9.310000e+02  1.046000e+03  4.000000e+00  1.102000e+03  1.050000e+03 -1.400000e+01      8.900000e+01         8.400000e+01  6.100000e+01  3.760000e+02\n",
              "50%         1.814000e+03  1.320000e+03  1.327000e+03 -2.000000e+00  1.400000e+01  1.340000e+03  1.505000e+03  6.000000e+00  1.517000e+03  1.508000e+03 -6.000000e+00      1.250000e+02         1.200000e+02  9.600000e+01  6.660000e+02\n",
              "75%         3.539000e+03  1.735000e+03  1.743000e+03  6.000000e+00  2.000000e+01  1.758000e+03  1.912000e+03  9.000000e+00  1.919000e+03  1.917000e+03  7.000000e+00      1.750000e+02         1.710000e+02  1.450000e+02  1.072000e+03\n",
              "max         8.402000e+03  2.359000e+03  2.400000e+03  2.710000e+03  1.960000e+02  2.400000e+03  2.400000e+03  4.140000e+02  2.400000e+03  2.400000e+03  2.692000e+03      7.180000e+02         7.840000e+02  7.230000e+02  4.983000e+03"
            ],
            "text/html": [
              "<div>\n",
              "<style scoped>\n",
              "    .dataframe tbody tr th:only-of-type {\n",
              "        vertical-align: middle;\n",
              "    }\n",
              "\n",
              "    .dataframe tbody tr th {\n",
              "        vertical-align: top;\n",
              "    }\n",
              "\n",
              "    .dataframe thead th {\n",
              "        text-align: right;\n",
              "    }\n",
              "</style>\n",
              "<table border=\"1\" class=\"dataframe\">\n",
              "  <thead>\n",
              "    <tr style=\"text-align: right;\">\n",
              "      <th></th>\n",
              "      <th>OP_CARRIER_FL_NUM</th>\n",
              "      <th>CRS_DEP_TIME</th>\n",
              "      <th>DEP_TIME</th>\n",
              "      <th>DEP_DELAY</th>\n",
              "      <th>TAXI_OUT</th>\n",
              "      <th>WHEELS_OFF</th>\n",
              "      <th>WHEELS_ON</th>\n",
              "      <th>TAXI_IN</th>\n",
              "      <th>CRS_ARR_TIME</th>\n",
              "      <th>ARR_TIME</th>\n",
              "      <th>ARR_DELAY</th>\n",
              "      <th>CRS_ELAPSED_TIME</th>\n",
              "      <th>ACTUAL_ELAPSED_TIME</th>\n",
              "      <th>AIR_TIME</th>\n",
              "      <th>DISTANCE</th>\n",
              "    </tr>\n",
              "  </thead>\n",
              "  <tbody>\n",
              "    <tr>\n",
              "      <th>count</th>\n",
              "      <td>1.818937e+07</td>\n",
              "      <td>1.818937e+07</td>\n",
              "      <td>1.818937e+07</td>\n",
              "      <td>1.818937e+07</td>\n",
              "      <td>1.818937e+07</td>\n",
              "      <td>1.818937e+07</td>\n",
              "      <td>1.818937e+07</td>\n",
              "      <td>1.818937e+07</td>\n",
              "      <td>1.818937e+07</td>\n",
              "      <td>1.818937e+07</td>\n",
              "      <td>1.818937e+07</td>\n",
              "      <td>1.818937e+07</td>\n",
              "      <td>1.818937e+07</td>\n",
              "      <td>1.818937e+07</td>\n",
              "      <td>1.818937e+07</td>\n",
              "    </tr>\n",
              "    <tr>\n",
              "      <th>mean</th>\n",
              "      <td>2.297483e+03</td>\n",
              "      <td>1.329286e+03</td>\n",
              "      <td>1.333582e+03</td>\n",
              "      <td>9.514718e+00</td>\n",
              "      <td>1.683657e+01</td>\n",
              "      <td>1.356265e+03</td>\n",
              "      <td>1.464367e+03</td>\n",
              "      <td>7.522501e+00</td>\n",
              "      <td>1.487824e+03</td>\n",
              "      <td>1.468826e+03</td>\n",
              "      <td>4.364191e+00</td>\n",
              "      <td>1.443913e+02</td>\n",
              "      <td>1.392409e+02</td>\n",
              "      <td>1.148818e+02</td>\n",
              "      <td>8.343475e+02</td>\n",
              "    </tr>\n",
              "    <tr>\n",
              "      <th>std</th>\n",
              "      <td>1.789496e+03</td>\n",
              "      <td>4.903677e+02</td>\n",
              "      <td>5.038933e+02</td>\n",
              "      <td>4.285813e+01</td>\n",
              "      <td>9.428298e+00</td>\n",
              "      <td>5.055795e+02</td>\n",
              "      <td>5.323567e+02</td>\n",
              "      <td>5.891136e+00</td>\n",
              "      <td>5.177049e+02</td>\n",
              "      <td>5.366764e+02</td>\n",
              "      <td>4.512349e+01</td>\n",
              "      <td>7.561084e+01</td>\n",
              "      <td>7.504639e+01</td>\n",
              "      <td>7.288849e+01</td>\n",
              "      <td>6.142550e+02</td>\n",
              "    </tr>\n",
              "    <tr>\n",
              "      <th>min</th>\n",
              "      <td>1.000000e+00</td>\n",
              "      <td>1.000000e+00</td>\n",
              "      <td>1.000000e+00</td>\n",
              "      <td>-2.340000e+02</td>\n",
              "      <td>0.000000e+00</td>\n",
              "      <td>1.000000e+00</td>\n",
              "      <td>1.000000e+00</td>\n",
              "      <td>0.000000e+00</td>\n",
              "      <td>1.000000e+00</td>\n",
              "      <td>1.000000e+00</td>\n",
              "      <td>-2.380000e+02</td>\n",
              "      <td>-9.900000e+01</td>\n",
              "      <td>1.400000e+01</td>\n",
              "      <td>4.000000e+00</td>\n",
              "      <td>2.800000e+01</td>\n",
              "    </tr>\n",
              "    <tr>\n",
              "      <th>25%</th>\n",
              "      <td>8.000000e+02</td>\n",
              "      <td>9.150000e+02</td>\n",
              "      <td>9.160000e+02</td>\n",
              "      <td>-5.000000e+00</td>\n",
              "      <td>1.100000e+01</td>\n",
              "      <td>9.310000e+02</td>\n",
              "      <td>1.046000e+03</td>\n",
              "      <td>4.000000e+00</td>\n",
              "      <td>1.102000e+03</td>\n",
              "      <td>1.050000e+03</td>\n",
              "      <td>-1.400000e+01</td>\n",
              "      <td>8.900000e+01</td>\n",
              "      <td>8.400000e+01</td>\n",
              "      <td>6.100000e+01</td>\n",
              "      <td>3.760000e+02</td>\n",
              "    </tr>\n",
              "    <tr>\n",
              "      <th>50%</th>\n",
              "      <td>1.814000e+03</td>\n",
              "      <td>1.320000e+03</td>\n",
              "      <td>1.327000e+03</td>\n",
              "      <td>-2.000000e+00</td>\n",
              "      <td>1.400000e+01</td>\n",
              "      <td>1.340000e+03</td>\n",
              "      <td>1.505000e+03</td>\n",
              "      <td>6.000000e+00</td>\n",
              "      <td>1.517000e+03</td>\n",
              "      <td>1.508000e+03</td>\n",
              "      <td>-6.000000e+00</td>\n",
              "      <td>1.250000e+02</td>\n",
              "      <td>1.200000e+02</td>\n",
              "      <td>9.600000e+01</td>\n",
              "      <td>6.660000e+02</td>\n",
              "    </tr>\n",
              "    <tr>\n",
              "      <th>75%</th>\n",
              "      <td>3.539000e+03</td>\n",
              "      <td>1.735000e+03</td>\n",
              "      <td>1.743000e+03</td>\n",
              "      <td>6.000000e+00</td>\n",
              "      <td>2.000000e+01</td>\n",
              "      <td>1.758000e+03</td>\n",
              "      <td>1.912000e+03</td>\n",
              "      <td>9.000000e+00</td>\n",
              "      <td>1.919000e+03</td>\n",
              "      <td>1.917000e+03</td>\n",
              "      <td>7.000000e+00</td>\n",
              "      <td>1.750000e+02</td>\n",
              "      <td>1.710000e+02</td>\n",
              "      <td>1.450000e+02</td>\n",
              "      <td>1.072000e+03</td>\n",
              "    </tr>\n",
              "    <tr>\n",
              "      <th>max</th>\n",
              "      <td>8.402000e+03</td>\n",
              "      <td>2.359000e+03</td>\n",
              "      <td>2.400000e+03</td>\n",
              "      <td>2.710000e+03</td>\n",
              "      <td>1.960000e+02</td>\n",
              "      <td>2.400000e+03</td>\n",
              "      <td>2.400000e+03</td>\n",
              "      <td>4.140000e+02</td>\n",
              "      <td>2.400000e+03</td>\n",
              "      <td>2.400000e+03</td>\n",
              "      <td>2.692000e+03</td>\n",
              "      <td>7.180000e+02</td>\n",
              "      <td>7.840000e+02</td>\n",
              "      <td>7.230000e+02</td>\n",
              "      <td>4.983000e+03</td>\n",
              "    </tr>\n",
              "  </tbody>\n",
              "</table>\n",
              "</div>"
            ]
          },
          "metadata": {},
          "execution_count": 32
        }
      ]
    },
    {
      "cell_type": "markdown",
      "source": [
        "**Vaex Library**"
      ],
      "metadata": {
        "id": "xB6vcFASC8jH"
      }
    },
    {
      "cell_type": "code",
      "source": [
        "# Describe the data in the vdf DataFrame\n",
        "%%time\n",
        "vdf.describe()"
      ],
      "metadata": {
        "id": "ggErTdlKGSvL",
        "colab": {
          "base_uri": "https://localhost:8080/",
          "height": 420
        },
        "outputId": "f131343c-5114-45c1-98b2-797cf0b00146"
      },
      "execution_count": 33,
      "outputs": [
        {
          "output_type": "stream",
          "name": "stdout",
          "text": [
            "CPU times: user 1h 51min 49s, sys: 10min 41s, total: 2h 2min 31s\n",
            "Wall time: 1h 4min 18s\n"
          ]
        },
        {
          "output_type": "execute_result",
          "data": {
            "text/plain": [
              "                                 FL_DATE OP_CARRIER  OP_CARRIER_FL_NUM  \\\n",
              "data_type                 datetime64[ns]     string              int64   \n",
              "count                           18189372   18189372           18189372   \n",
              "NA                                     0          0                  0   \n",
              "mean       1970-01-01T00:10:09.865930863         --  2297.482562234694   \n",
              "std                  27664444794939420.0         --        1789.495803   \n",
              "min        2016-01-01T00:00:49.632313344         --                  1   \n",
              "max        2018-12-30T23:58:59.961159680         --               8402   \n",
              "\n",
              "             ORIGIN      DEST        CRS_DEP_TIME            DEP_TIME  \\\n",
              "data_type    string    string               int64             float64   \n",
              "count      18189372  18189372            18189372            18189372   \n",
              "NA                0         0                   0                   0   \n",
              "mean             --        --  1329.2860249380792  1333.5815675219574   \n",
              "std              --        --          490.367713          503.893288   \n",
              "min              --        --                   1                 1.0   \n",
              "max              --        --                2359              2400.0   \n",
              "\n",
              "                   DEP_DELAY            TAXI_OUT          WHEELS_OFF  \\\n",
              "data_type            float64             float64             float64   \n",
              "count               18189372            18189372            18189372   \n",
              "NA                         0                   0                   0   \n",
              "mean       9.514718375103879  16.836573412210164  1356.2646803309096   \n",
              "std                42.858129            9.428298          505.579441   \n",
              "min                   -234.0                 0.0                 1.0   \n",
              "max                   2710.0               196.0              2400.0   \n",
              "\n",
              "                    WHEELS_ON            TAXI_IN       CRS_ARR_TIME  \\\n",
              "data_type             float64            float64              int64   \n",
              "count                18189372           18189372           18189372   \n",
              "NA                          0                  0                  0   \n",
              "mean       1464.3673966863728  7.522501216644533  1487.823601056705   \n",
              "std                532.356654           5.891135         517.704931   \n",
              "min                       1.0                0.0                  1   \n",
              "max                    2400.0              414.0               2400   \n",
              "\n",
              "                    ARR_TIME          ARR_DELAY   CRS_ELAPSED_TIME  \\\n",
              "data_type            float64            float64            float64   \n",
              "count               18189372           18189372           18189372   \n",
              "NA                         0                  0                  0   \n",
              "mean       1468.826040613167  4.364191353060457  144.3913175232218   \n",
              "std               536.676428          45.123492          75.610837   \n",
              "min                      1.0             -238.0              -99.0   \n",
              "max                   2400.0             2692.0              718.0   \n",
              "\n",
              "          ACTUAL_ELAPSED_TIME            AIR_TIME           DISTANCE  \n",
              "data_type             float64             float64            float64  \n",
              "count                18189372            18189372           18189372  \n",
              "NA                          0                   0                  0  \n",
              "mean       139.24090171997142  114.88182709111672  834.3474715894534  \n",
              "std                 75.046387           72.888493         614.254984  \n",
              "min                      14.0                 4.0               28.0  \n",
              "max                     784.0               723.0             4983.0  "
            ],
            "text/html": [
              "\n",
              "  <div id=\"df-68737ad7-a95b-40d6-9840-c194cdd0da75\">\n",
              "    <div class=\"colab-df-container\">\n",
              "      <div>\n",
              "<style scoped>\n",
              "    .dataframe tbody tr th:only-of-type {\n",
              "        vertical-align: middle;\n",
              "    }\n",
              "\n",
              "    .dataframe tbody tr th {\n",
              "        vertical-align: top;\n",
              "    }\n",
              "\n",
              "    .dataframe thead th {\n",
              "        text-align: right;\n",
              "    }\n",
              "</style>\n",
              "<table border=\"1\" class=\"dataframe\">\n",
              "  <thead>\n",
              "    <tr style=\"text-align: right;\">\n",
              "      <th></th>\n",
              "      <th>FL_DATE</th>\n",
              "      <th>OP_CARRIER</th>\n",
              "      <th>OP_CARRIER_FL_NUM</th>\n",
              "      <th>ORIGIN</th>\n",
              "      <th>DEST</th>\n",
              "      <th>CRS_DEP_TIME</th>\n",
              "      <th>DEP_TIME</th>\n",
              "      <th>DEP_DELAY</th>\n",
              "      <th>TAXI_OUT</th>\n",
              "      <th>WHEELS_OFF</th>\n",
              "      <th>WHEELS_ON</th>\n",
              "      <th>TAXI_IN</th>\n",
              "      <th>CRS_ARR_TIME</th>\n",
              "      <th>ARR_TIME</th>\n",
              "      <th>ARR_DELAY</th>\n",
              "      <th>CRS_ELAPSED_TIME</th>\n",
              "      <th>ACTUAL_ELAPSED_TIME</th>\n",
              "      <th>AIR_TIME</th>\n",
              "      <th>DISTANCE</th>\n",
              "    </tr>\n",
              "  </thead>\n",
              "  <tbody>\n",
              "    <tr>\n",
              "      <th>data_type</th>\n",
              "      <td>datetime64[ns]</td>\n",
              "      <td>string</td>\n",
              "      <td>int64</td>\n",
              "      <td>string</td>\n",
              "      <td>string</td>\n",
              "      <td>int64</td>\n",
              "      <td>float64</td>\n",
              "      <td>float64</td>\n",
              "      <td>float64</td>\n",
              "      <td>float64</td>\n",
              "      <td>float64</td>\n",
              "      <td>float64</td>\n",
              "      <td>int64</td>\n",
              "      <td>float64</td>\n",
              "      <td>float64</td>\n",
              "      <td>float64</td>\n",
              "      <td>float64</td>\n",
              "      <td>float64</td>\n",
              "      <td>float64</td>\n",
              "    </tr>\n",
              "    <tr>\n",
              "      <th>count</th>\n",
              "      <td>18189372</td>\n",
              "      <td>18189372</td>\n",
              "      <td>18189372</td>\n",
              "      <td>18189372</td>\n",
              "      <td>18189372</td>\n",
              "      <td>18189372</td>\n",
              "      <td>18189372</td>\n",
              "      <td>18189372</td>\n",
              "      <td>18189372</td>\n",
              "      <td>18189372</td>\n",
              "      <td>18189372</td>\n",
              "      <td>18189372</td>\n",
              "      <td>18189372</td>\n",
              "      <td>18189372</td>\n",
              "      <td>18189372</td>\n",
              "      <td>18189372</td>\n",
              "      <td>18189372</td>\n",
              "      <td>18189372</td>\n",
              "      <td>18189372</td>\n",
              "    </tr>\n",
              "    <tr>\n",
              "      <th>NA</th>\n",
              "      <td>0</td>\n",
              "      <td>0</td>\n",
              "      <td>0</td>\n",
              "      <td>0</td>\n",
              "      <td>0</td>\n",
              "      <td>0</td>\n",
              "      <td>0</td>\n",
              "      <td>0</td>\n",
              "      <td>0</td>\n",
              "      <td>0</td>\n",
              "      <td>0</td>\n",
              "      <td>0</td>\n",
              "      <td>0</td>\n",
              "      <td>0</td>\n",
              "      <td>0</td>\n",
              "      <td>0</td>\n",
              "      <td>0</td>\n",
              "      <td>0</td>\n",
              "      <td>0</td>\n",
              "    </tr>\n",
              "    <tr>\n",
              "      <th>mean</th>\n",
              "      <td>1970-01-01T00:10:09.865930863</td>\n",
              "      <td>--</td>\n",
              "      <td>2297.482562234694</td>\n",
              "      <td>--</td>\n",
              "      <td>--</td>\n",
              "      <td>1329.2860249380792</td>\n",
              "      <td>1333.5815675219574</td>\n",
              "      <td>9.514718375103879</td>\n",
              "      <td>16.836573412210164</td>\n",
              "      <td>1356.2646803309096</td>\n",
              "      <td>1464.3673966863728</td>\n",
              "      <td>7.522501216644533</td>\n",
              "      <td>1487.823601056705</td>\n",
              "      <td>1468.826040613167</td>\n",
              "      <td>4.364191353060457</td>\n",
              "      <td>144.3913175232218</td>\n",
              "      <td>139.24090171997142</td>\n",
              "      <td>114.88182709111672</td>\n",
              "      <td>834.3474715894534</td>\n",
              "    </tr>\n",
              "    <tr>\n",
              "      <th>std</th>\n",
              "      <td>27664444794939420.0</td>\n",
              "      <td>--</td>\n",
              "      <td>1789.495803</td>\n",
              "      <td>--</td>\n",
              "      <td>--</td>\n",
              "      <td>490.367713</td>\n",
              "      <td>503.893288</td>\n",
              "      <td>42.858129</td>\n",
              "      <td>9.428298</td>\n",
              "      <td>505.579441</td>\n",
              "      <td>532.356654</td>\n",
              "      <td>5.891135</td>\n",
              "      <td>517.704931</td>\n",
              "      <td>536.676428</td>\n",
              "      <td>45.123492</td>\n",
              "      <td>75.610837</td>\n",
              "      <td>75.046387</td>\n",
              "      <td>72.888493</td>\n",
              "      <td>614.254984</td>\n",
              "    </tr>\n",
              "    <tr>\n",
              "      <th>min</th>\n",
              "      <td>2016-01-01T00:00:49.632313344</td>\n",
              "      <td>--</td>\n",
              "      <td>1</td>\n",
              "      <td>--</td>\n",
              "      <td>--</td>\n",
              "      <td>1</td>\n",
              "      <td>1.0</td>\n",
              "      <td>-234.0</td>\n",
              "      <td>0.0</td>\n",
              "      <td>1.0</td>\n",
              "      <td>1.0</td>\n",
              "      <td>0.0</td>\n",
              "      <td>1</td>\n",
              "      <td>1.0</td>\n",
              "      <td>-238.0</td>\n",
              "      <td>-99.0</td>\n",
              "      <td>14.0</td>\n",
              "      <td>4.0</td>\n",
              "      <td>28.0</td>\n",
              "    </tr>\n",
              "    <tr>\n",
              "      <th>max</th>\n",
              "      <td>2018-12-30T23:58:59.961159680</td>\n",
              "      <td>--</td>\n",
              "      <td>8402</td>\n",
              "      <td>--</td>\n",
              "      <td>--</td>\n",
              "      <td>2359</td>\n",
              "      <td>2400.0</td>\n",
              "      <td>2710.0</td>\n",
              "      <td>196.0</td>\n",
              "      <td>2400.0</td>\n",
              "      <td>2400.0</td>\n",
              "      <td>414.0</td>\n",
              "      <td>2400</td>\n",
              "      <td>2400.0</td>\n",
              "      <td>2692.0</td>\n",
              "      <td>718.0</td>\n",
              "      <td>784.0</td>\n",
              "      <td>723.0</td>\n",
              "      <td>4983.0</td>\n",
              "    </tr>\n",
              "  </tbody>\n",
              "</table>\n",
              "</div>\n",
              "      <button class=\"colab-df-convert\" onclick=\"convertToInteractive('df-68737ad7-a95b-40d6-9840-c194cdd0da75')\"\n",
              "              title=\"Convert this dataframe to an interactive table.\"\n",
              "              style=\"display:none;\">\n",
              "        \n",
              "  <svg xmlns=\"http://www.w3.org/2000/svg\" height=\"24px\"viewBox=\"0 0 24 24\"\n",
              "       width=\"24px\">\n",
              "    <path d=\"M0 0h24v24H0V0z\" fill=\"none\"/>\n",
              "    <path d=\"M18.56 5.44l.94 2.06.94-2.06 2.06-.94-2.06-.94-.94-2.06-.94 2.06-2.06.94zm-11 1L8.5 8.5l.94-2.06 2.06-.94-2.06-.94L8.5 2.5l-.94 2.06-2.06.94zm10 10l.94 2.06.94-2.06 2.06-.94-2.06-.94-.94-2.06-.94 2.06-2.06.94z\"/><path d=\"M17.41 7.96l-1.37-1.37c-.4-.4-.92-.59-1.43-.59-.52 0-1.04.2-1.43.59L10.3 9.45l-7.72 7.72c-.78.78-.78 2.05 0 2.83L4 21.41c.39.39.9.59 1.41.59.51 0 1.02-.2 1.41-.59l7.78-7.78 2.81-2.81c.8-.78.8-2.07 0-2.86zM5.41 20L4 18.59l7.72-7.72 1.47 1.35L5.41 20z\"/>\n",
              "  </svg>\n",
              "      </button>\n",
              "      \n",
              "  <style>\n",
              "    .colab-df-container {\n",
              "      display:flex;\n",
              "      flex-wrap:wrap;\n",
              "      gap: 12px;\n",
              "    }\n",
              "\n",
              "    .colab-df-convert {\n",
              "      background-color: #E8F0FE;\n",
              "      border: none;\n",
              "      border-radius: 50%;\n",
              "      cursor: pointer;\n",
              "      display: none;\n",
              "      fill: #1967D2;\n",
              "      height: 32px;\n",
              "      padding: 0 0 0 0;\n",
              "      width: 32px;\n",
              "    }\n",
              "\n",
              "    .colab-df-convert:hover {\n",
              "      background-color: #E2EBFA;\n",
              "      box-shadow: 0px 1px 2px rgba(60, 64, 67, 0.3), 0px 1px 3px 1px rgba(60, 64, 67, 0.15);\n",
              "      fill: #174EA6;\n",
              "    }\n",
              "\n",
              "    [theme=dark] .colab-df-convert {\n",
              "      background-color: #3B4455;\n",
              "      fill: #D2E3FC;\n",
              "    }\n",
              "\n",
              "    [theme=dark] .colab-df-convert:hover {\n",
              "      background-color: #434B5C;\n",
              "      box-shadow: 0px 1px 3px 1px rgba(0, 0, 0, 0.15);\n",
              "      filter: drop-shadow(0px 1px 2px rgba(0, 0, 0, 0.3));\n",
              "      fill: #FFFFFF;\n",
              "    }\n",
              "  </style>\n",
              "\n",
              "      <script>\n",
              "        const buttonEl =\n",
              "          document.querySelector('#df-68737ad7-a95b-40d6-9840-c194cdd0da75 button.colab-df-convert');\n",
              "        buttonEl.style.display =\n",
              "          google.colab.kernel.accessAllowed ? 'block' : 'none';\n",
              "\n",
              "        async function convertToInteractive(key) {\n",
              "          const element = document.querySelector('#df-68737ad7-a95b-40d6-9840-c194cdd0da75');\n",
              "          const dataTable =\n",
              "            await google.colab.kernel.invokeFunction('convertToInteractive',\n",
              "                                                     [key], {});\n",
              "          if (!dataTable) return;\n",
              "\n",
              "          const docLinkHtml = 'Like what you see? Visit the ' +\n",
              "            '<a target=\"_blank\" href=https://colab.research.google.com/notebooks/data_table.ipynb>data table notebook</a>'\n",
              "            + ' to learn more about interactive tables.';\n",
              "          element.innerHTML = '';\n",
              "          dataTable['output_type'] = 'display_data';\n",
              "          await google.colab.output.renderOutput(dataTable, element);\n",
              "          const docLink = document.createElement('div');\n",
              "          docLink.innerHTML = docLinkHtml;\n",
              "          element.appendChild(docLink);\n",
              "        }\n",
              "      </script>\n",
              "    </div>\n",
              "  </div>\n",
              "  "
            ]
          },
          "metadata": {},
          "execution_count": 33
        }
      ]
    },
    {
      "cell_type": "markdown",
      "source": [
        "**Pyspark Library**"
      ],
      "metadata": {
        "id": "O0ADWWWyDC_t"
      }
    },
    {
      "cell_type": "code",
      "source": [
        "# Describe the data in the pdf DataFrame\n",
        "%%time\n",
        "pdf.describe().show()"
      ],
      "metadata": {
        "id": "S2v3ml8PDGDj",
        "colab": {
          "base_uri": "https://localhost:8080/"
        },
        "outputId": "c628ad94-3c45-4b8c-fa58-2738bbed08e6"
      },
      "execution_count": 34,
      "outputs": [
        {
          "output_type": "stream",
          "name": "stdout",
          "text": [
            "+-------+----------+------------------+--------+--------+------------------+------------------+-----------------+------------------+------------------+------------------+-----------------+-----------------+-----------------+-----------------+-----------------+-------------------+------------------+-----------------+\n",
            "|summary|OP_CARRIER| OP_CARRIER_FL_NUM|  ORIGIN|    DEST|      CRS_DEP_TIME|          DEP_TIME|        DEP_DELAY|          TAXI_OUT|        WHEELS_OFF|         WHEELS_ON|          TAXI_IN|     CRS_ARR_TIME|         ARR_TIME|        ARR_DELAY| CRS_ELAPSED_TIME|ACTUAL_ELAPSED_TIME|          AIR_TIME|         DISTANCE|\n",
            "+-------+----------+------------------+--------+--------+------------------+------------------+-----------------+------------------+------------------+------------------+-----------------+-----------------+-----------------+-----------------+-----------------+-------------------+------------------+-----------------+\n",
            "|  count|  18189372|          18189372|18189372|18189372|          18189372|          18189372|         18189372|          18189372|          18189372|          18189372|         18189372|         18189372|         18189372|         18189372|         18189372|           18189372|          18189372|         18189372|\n",
            "|   mean|      null| 2297.482562234694|    null|    null|1329.2860249380792|1333.5815675219574|9.514718375103879|16.836573412210164|1356.2646803309096|1464.3673966863728|7.522501216644533|1487.823601056705|1468.826040613167|4.364191353060457|144.3913175232218| 139.24090171997142|114.88182709111672|834.3474715894534|\n",
            "| stddev|      null|1789.4958522424226|    null|    null|490.36772625833925| 503.8933021861939|42.85812991141012| 9.428298281348885| 505.5794547295724| 532.3566683831133| 5.89113557479894| 517.704944738968|536.6764428437261| 45.1234933951688|75.61083954985202|  75.04638918916437|  72.8884947744964|614.2550006964163|\n",
            "|    min|        9E|                 1|     ABE|     ABE|                 1|               1.0|           -234.0|               0.0|               1.0|               1.0|              0.0|                1|              1.0|           -238.0|            -99.0|               14.0|               4.0|             28.0|\n",
            "|    max|        YX|              8402|     YUM|     YUM|              2359|            2400.0|           2710.0|             196.0|            2400.0|            2400.0|            414.0|             2400|           2400.0|           2692.0|            718.0|              784.0|             723.0|           4983.0|\n",
            "+-------+----------+------------------+--------+--------+------------------+------------------+-----------------+------------------+------------------+------------------+-----------------+-----------------+-----------------+-----------------+-----------------+-------------------+------------------+-----------------+\n",
            "\n",
            "CPU times: user 7.09 s, sys: 1.03 s, total: 8.12 s\n",
            "Wall time: 20min 23s\n"
          ]
        }
      ]
    },
    {
      "cell_type": "markdown",
      "metadata": {
        "id": "vNIFKXnLe6Cw"
      },
      "source": [
        "**Bar Chart: Total Travel Time on Air by Flights**"
      ]
    },
    {
      "cell_type": "markdown",
      "metadata": {
        "id": "oMZ_fMyyffrH"
      },
      "source": [
        "Using Koalas"
      ]
    },
    {
      "cell_type": "code",
      "execution_count": null,
      "metadata": {
        "colab": {
          "base_uri": "https://localhost:8080/",
          "height": 577
        },
        "id": "ePeTSlz296_v",
        "outputId": "e4b5a95d-5605-4d57-a9b8-6ae60bb1c5be"
      },
      "outputs": [
        {
          "name": "stdout",
          "output_type": "stream",
          "text": [
            "CPU times: user 1.41 s, sys: 225 ms, total: 1.63 s\n",
            "Wall time: 1min 48s\n"
          ]
        },
        {
          "data": {
            "text/html": [
              "<html>\n",
              "<head><meta charset=\"utf-8\" /></head>\n",
              "<body>\n",
              "    <div>            <script src=\"https://cdnjs.cloudflare.com/ajax/libs/mathjax/2.7.5/MathJax.js?config=TeX-AMS-MML_SVG\"></script><script type=\"text/javascript\">if (window.MathJax) {MathJax.Hub.Config({SVG: {font: \"STIX-Web\"}});}</script>                <script type=\"text/javascript\">window.PlotlyConfig = {MathJaxConfig: 'local'};</script>\n",
              "        <script src=\"https://cdn.plot.ly/plotly-2.8.3.min.js\"></script>                <div id=\"174f3f71-57f2-4f09-9911-684a394055a8\" class=\"plotly-graph-div\" style=\"height:525px; width:100%;\"></div>            <script type=\"text/javascript\">                                    window.PLOTLYENV=window.PLOTLYENV || {};                                    if (document.getElementById(\"174f3f71-57f2-4f09-9911-684a394055a8\")) {                    Plotly.newPlot(                        \"174f3f71-57f2-4f09-9911-684a394055a8\",                        [{\"alignmentgroup\":\"True\",\"hovertemplate\":\"variable=AIR_TIME<br>OP_CARRIER=%{x}<br>value=%{y}<extra></extra>\",\"legendgroup\":\"AIR_TIME\",\"marker\":{\"color\":\"#636efa\",\"pattern\":{\"shape\":\"\"}},\"name\":\"AIR_TIME\",\"offsetgroup\":\"AIR_TIME\",\"orientation\":\"v\",\"showlegend\":true,\"textposition\":\"auto\",\"x\":[\"UA\",\"NK\",\"AA\",\"EV\",\"B6\",\"DL\",\"OO\",\"F9\",\"HA\",\"AS\",\"VX\",\"WN\",\"YV\",\"MQ\",\"OH\",\"G4\",\"YX\",\"9E\"],\"xaxis\":\"x\",\"y\":[269851830.0,62151525.0,369380921.0,72038801.0,124496029.0,327834442.0,152776394.0,43879221.0,20766053.0,99982649.0,29288172.0,406868390.0,17268734.0,19710835.0,17159767.0,11270280.0,27696844.0,17207402.0],\"yaxis\":\"y\",\"type\":\"bar\"}],                        {\"template\":{\"data\":{\"bar\":[{\"error_x\":{\"color\":\"#2a3f5f\"},\"error_y\":{\"color\":\"#2a3f5f\"},\"marker\":{\"line\":{\"color\":\"#E5ECF6\",\"width\":0.5},\"pattern\":{\"fillmode\":\"overlay\",\"size\":10,\"solidity\":0.2}},\"type\":\"bar\"}],\"barpolar\":[{\"marker\":{\"line\":{\"color\":\"#E5ECF6\",\"width\":0.5},\"pattern\":{\"fillmode\":\"overlay\",\"size\":10,\"solidity\":0.2}},\"type\":\"barpolar\"}],\"carpet\":[{\"aaxis\":{\"endlinecolor\":\"#2a3f5f\",\"gridcolor\":\"white\",\"linecolor\":\"white\",\"minorgridcolor\":\"white\",\"startlinecolor\":\"#2a3f5f\"},\"baxis\":{\"endlinecolor\":\"#2a3f5f\",\"gridcolor\":\"white\",\"linecolor\":\"white\",\"minorgridcolor\":\"white\",\"startlinecolor\":\"#2a3f5f\"},\"type\":\"carpet\"}],\"choropleth\":[{\"colorbar\":{\"outlinewidth\":0,\"ticks\":\"\"},\"type\":\"choropleth\"}],\"contour\":[{\"colorbar\":{\"outlinewidth\":0,\"ticks\":\"\"},\"colorscale\":[[0.0,\"#0d0887\"],[0.1111111111111111,\"#46039f\"],[0.2222222222222222,\"#7201a8\"],[0.3333333333333333,\"#9c179e\"],[0.4444444444444444,\"#bd3786\"],[0.5555555555555556,\"#d8576b\"],[0.6666666666666666,\"#ed7953\"],[0.7777777777777778,\"#fb9f3a\"],[0.8888888888888888,\"#fdca26\"],[1.0,\"#f0f921\"]],\"type\":\"contour\"}],\"contourcarpet\":[{\"colorbar\":{\"outlinewidth\":0,\"ticks\":\"\"},\"type\":\"contourcarpet\"}],\"heatmap\":[{\"colorbar\":{\"outlinewidth\":0,\"ticks\":\"\"},\"colorscale\":[[0.0,\"#0d0887\"],[0.1111111111111111,\"#46039f\"],[0.2222222222222222,\"#7201a8\"],[0.3333333333333333,\"#9c179e\"],[0.4444444444444444,\"#bd3786\"],[0.5555555555555556,\"#d8576b\"],[0.6666666666666666,\"#ed7953\"],[0.7777777777777778,\"#fb9f3a\"],[0.8888888888888888,\"#fdca26\"],[1.0,\"#f0f921\"]],\"type\":\"heatmap\"}],\"heatmapgl\":[{\"colorbar\":{\"outlinewidth\":0,\"ticks\":\"\"},\"colorscale\":[[0.0,\"#0d0887\"],[0.1111111111111111,\"#46039f\"],[0.2222222222222222,\"#7201a8\"],[0.3333333333333333,\"#9c179e\"],[0.4444444444444444,\"#bd3786\"],[0.5555555555555556,\"#d8576b\"],[0.6666666666666666,\"#ed7953\"],[0.7777777777777778,\"#fb9f3a\"],[0.8888888888888888,\"#fdca26\"],[1.0,\"#f0f921\"]],\"type\":\"heatmapgl\"}],\"histogram\":[{\"marker\":{\"pattern\":{\"fillmode\":\"overlay\",\"size\":10,\"solidity\":0.2}},\"type\":\"histogram\"}],\"histogram2d\":[{\"colorbar\":{\"outlinewidth\":0,\"ticks\":\"\"},\"colorscale\":[[0.0,\"#0d0887\"],[0.1111111111111111,\"#46039f\"],[0.2222222222222222,\"#7201a8\"],[0.3333333333333333,\"#9c179e\"],[0.4444444444444444,\"#bd3786\"],[0.5555555555555556,\"#d8576b\"],[0.6666666666666666,\"#ed7953\"],[0.7777777777777778,\"#fb9f3a\"],[0.8888888888888888,\"#fdca26\"],[1.0,\"#f0f921\"]],\"type\":\"histogram2d\"}],\"histogram2dcontour\":[{\"colorbar\":{\"outlinewidth\":0,\"ticks\":\"\"},\"colorscale\":[[0.0,\"#0d0887\"],[0.1111111111111111,\"#46039f\"],[0.2222222222222222,\"#7201a8\"],[0.3333333333333333,\"#9c179e\"],[0.4444444444444444,\"#bd3786\"],[0.5555555555555556,\"#d8576b\"],[0.6666666666666666,\"#ed7953\"],[0.7777777777777778,\"#fb9f3a\"],[0.8888888888888888,\"#fdca26\"],[1.0,\"#f0f921\"]],\"type\":\"histogram2dcontour\"}],\"mesh3d\":[{\"colorbar\":{\"outlinewidth\":0,\"ticks\":\"\"},\"type\":\"mesh3d\"}],\"parcoords\":[{\"line\":{\"colorbar\":{\"outlinewidth\":0,\"ticks\":\"\"}},\"type\":\"parcoords\"}],\"pie\":[{\"automargin\":true,\"type\":\"pie\"}],\"scatter\":[{\"marker\":{\"colorbar\":{\"outlinewidth\":0,\"ticks\":\"\"}},\"type\":\"scatter\"}],\"scatter3d\":[{\"line\":{\"colorbar\":{\"outlinewidth\":0,\"ticks\":\"\"}},\"marker\":{\"colorbar\":{\"outlinewidth\":0,\"ticks\":\"\"}},\"type\":\"scatter3d\"}],\"scattercarpet\":[{\"marker\":{\"colorbar\":{\"outlinewidth\":0,\"ticks\":\"\"}},\"type\":\"scattercarpet\"}],\"scattergeo\":[{\"marker\":{\"colorbar\":{\"outlinewidth\":0,\"ticks\":\"\"}},\"type\":\"scattergeo\"}],\"scattergl\":[{\"marker\":{\"colorbar\":{\"outlinewidth\":0,\"ticks\":\"\"}},\"type\":\"scattergl\"}],\"scattermapbox\":[{\"marker\":{\"colorbar\":{\"outlinewidth\":0,\"ticks\":\"\"}},\"type\":\"scattermapbox\"}],\"scatterpolar\":[{\"marker\":{\"colorbar\":{\"outlinewidth\":0,\"ticks\":\"\"}},\"type\":\"scatterpolar\"}],\"scatterpolargl\":[{\"marker\":{\"colorbar\":{\"outlinewidth\":0,\"ticks\":\"\"}},\"type\":\"scatterpolargl\"}],\"scatterternary\":[{\"marker\":{\"colorbar\":{\"outlinewidth\":0,\"ticks\":\"\"}},\"type\":\"scatterternary\"}],\"surface\":[{\"colorbar\":{\"outlinewidth\":0,\"ticks\":\"\"},\"colorscale\":[[0.0,\"#0d0887\"],[0.1111111111111111,\"#46039f\"],[0.2222222222222222,\"#7201a8\"],[0.3333333333333333,\"#9c179e\"],[0.4444444444444444,\"#bd3786\"],[0.5555555555555556,\"#d8576b\"],[0.6666666666666666,\"#ed7953\"],[0.7777777777777778,\"#fb9f3a\"],[0.8888888888888888,\"#fdca26\"],[1.0,\"#f0f921\"]],\"type\":\"surface\"}],\"table\":[{\"cells\":{\"fill\":{\"color\":\"#EBF0F8\"},\"line\":{\"color\":\"white\"}},\"header\":{\"fill\":{\"color\":\"#C8D4E3\"},\"line\":{\"color\":\"white\"}},\"type\":\"table\"}]},\"layout\":{\"annotationdefaults\":{\"arrowcolor\":\"#2a3f5f\",\"arrowhead\":0,\"arrowwidth\":1},\"autotypenumbers\":\"strict\",\"coloraxis\":{\"colorbar\":{\"outlinewidth\":0,\"ticks\":\"\"}},\"colorscale\":{\"diverging\":[[0,\"#8e0152\"],[0.1,\"#c51b7d\"],[0.2,\"#de77ae\"],[0.3,\"#f1b6da\"],[0.4,\"#fde0ef\"],[0.5,\"#f7f7f7\"],[0.6,\"#e6f5d0\"],[0.7,\"#b8e186\"],[0.8,\"#7fbc41\"],[0.9,\"#4d9221\"],[1,\"#276419\"]],\"sequential\":[[0.0,\"#0d0887\"],[0.1111111111111111,\"#46039f\"],[0.2222222222222222,\"#7201a8\"],[0.3333333333333333,\"#9c179e\"],[0.4444444444444444,\"#bd3786\"],[0.5555555555555556,\"#d8576b\"],[0.6666666666666666,\"#ed7953\"],[0.7777777777777778,\"#fb9f3a\"],[0.8888888888888888,\"#fdca26\"],[1.0,\"#f0f921\"]],\"sequentialminus\":[[0.0,\"#0d0887\"],[0.1111111111111111,\"#46039f\"],[0.2222222222222222,\"#7201a8\"],[0.3333333333333333,\"#9c179e\"],[0.4444444444444444,\"#bd3786\"],[0.5555555555555556,\"#d8576b\"],[0.6666666666666666,\"#ed7953\"],[0.7777777777777778,\"#fb9f3a\"],[0.8888888888888888,\"#fdca26\"],[1.0,\"#f0f921\"]]},\"colorway\":[\"#636efa\",\"#EF553B\",\"#00cc96\",\"#ab63fa\",\"#FFA15A\",\"#19d3f3\",\"#FF6692\",\"#B6E880\",\"#FF97FF\",\"#FECB52\"],\"font\":{\"color\":\"#2a3f5f\"},\"geo\":{\"bgcolor\":\"white\",\"lakecolor\":\"white\",\"landcolor\":\"#E5ECF6\",\"showlakes\":true,\"showland\":true,\"subunitcolor\":\"white\"},\"hoverlabel\":{\"align\":\"left\"},\"hovermode\":\"closest\",\"mapbox\":{\"style\":\"light\"},\"paper_bgcolor\":\"white\",\"plot_bgcolor\":\"#E5ECF6\",\"polar\":{\"angularaxis\":{\"gridcolor\":\"white\",\"linecolor\":\"white\",\"ticks\":\"\"},\"bgcolor\":\"#E5ECF6\",\"radialaxis\":{\"gridcolor\":\"white\",\"linecolor\":\"white\",\"ticks\":\"\"}},\"scene\":{\"xaxis\":{\"backgroundcolor\":\"#E5ECF6\",\"gridcolor\":\"white\",\"gridwidth\":2,\"linecolor\":\"white\",\"showbackground\":true,\"ticks\":\"\",\"zerolinecolor\":\"white\"},\"yaxis\":{\"backgroundcolor\":\"#E5ECF6\",\"gridcolor\":\"white\",\"gridwidth\":2,\"linecolor\":\"white\",\"showbackground\":true,\"ticks\":\"\",\"zerolinecolor\":\"white\"},\"zaxis\":{\"backgroundcolor\":\"#E5ECF6\",\"gridcolor\":\"white\",\"gridwidth\":2,\"linecolor\":\"white\",\"showbackground\":true,\"ticks\":\"\",\"zerolinecolor\":\"white\"}},\"shapedefaults\":{\"line\":{\"color\":\"#2a3f5f\"}},\"ternary\":{\"aaxis\":{\"gridcolor\":\"white\",\"linecolor\":\"white\",\"ticks\":\"\"},\"baxis\":{\"gridcolor\":\"white\",\"linecolor\":\"white\",\"ticks\":\"\"},\"bgcolor\":\"#E5ECF6\",\"caxis\":{\"gridcolor\":\"white\",\"linecolor\":\"white\",\"ticks\":\"\"}},\"title\":{\"x\":0.05},\"xaxis\":{\"automargin\":true,\"gridcolor\":\"white\",\"linecolor\":\"white\",\"ticks\":\"\",\"title\":{\"standoff\":15},\"zerolinecolor\":\"white\",\"zerolinewidth\":2},\"yaxis\":{\"automargin\":true,\"gridcolor\":\"white\",\"linecolor\":\"white\",\"ticks\":\"\",\"title\":{\"standoff\":15},\"zerolinecolor\":\"white\",\"zerolinewidth\":2}}},\"xaxis\":{\"anchor\":\"y\",\"domain\":[0.0,1.0],\"title\":{\"text\":\"Flight Name\"}},\"yaxis\":{\"anchor\":\"x\",\"domain\":[0.0,1.0],\"title\":{\"text\":\"Total Travel Time on Air by Flights\"}},\"legend\":{\"title\":{\"text\":\"variable\"},\"tracegroupgap\":0},\"margin\":{\"t\":60},\"barmode\":\"relative\",\"title\":{\"text\":\"Total Time on Air (min)\"}},                        {\"responsive\": true}                    ).then(function(){\n",
              "                            \n",
              "var gd = document.getElementById('174f3f71-57f2-4f09-9911-684a394055a8');\n",
              "var x = new MutationObserver(function (mutations, observer) {{\n",
              "        var display = window.getComputedStyle(gd).display;\n",
              "        if (!display || display === 'none') {{\n",
              "            console.log([gd, 'removed!']);\n",
              "            Plotly.purge(gd);\n",
              "            observer.disconnect();\n",
              "        }}\n",
              "}});\n",
              "\n",
              "// Listen for the removal of the full notebook cells\n",
              "var notebookContainer = gd.closest('#notebook-container');\n",
              "if (notebookContainer) {{\n",
              "    x.observe(notebookContainer, {childList: true});\n",
              "}}\n",
              "\n",
              "// Listen for the clearing of the current output cell\n",
              "var outputEl = gd.closest('.output');\n",
              "if (outputEl) {{\n",
              "    x.observe(outputEl, {childList: true});\n",
              "}}\n",
              "\n",
              "                        })                };                            </script>        </div>\n",
              "</body>\n",
              "</html>"
            ]
          },
          "metadata": {},
          "output_type": "display_data"
        }
      ],
      "source": [
        "%%time\n",
        "\n",
        "\n",
        "flights_distance = kdf.groupby('OP_CARRIER').sum()['AIR_TIME']\n",
        "\n",
        "fig = flights_distance.plot.bar()\n",
        "\n",
        "fig.update_layout(title_text='Total Time on Air (min)',xaxis_title='Flight Name', yaxis_title='Total Travel Time on Air by Flights')\n"
      ]
    },
    {
      "cell_type": "markdown",
      "metadata": {
        "id": "ZHWfg7Gzf5w1"
      },
      "source": [
        "Using Vaex"
      ]
    },
    {
      "cell_type": "code",
      "execution_count": null,
      "metadata": {
        "id": "g-Py6-SYOffd",
        "colab": {
          "base_uri": "https://localhost:8080/",
          "height": 338
        },
        "outputId": "2d3bd72c-4f2d-436c-93d7-9c9e615f7dfa"
      },
      "outputs": [
        {
          "output_type": "display_data",
          "data": {
            "text/plain": [
              "<Figure size 432x288 with 1 Axes>"
            ],
            "image/png": "[encoded data removed]"
          },
          "metadata": {
            "needs_background": "light"
          }
        },
        {
          "output_type": "stream",
          "name": "stdout",
          "text": [
            "CPU times: user 2min 33s, sys: 14.5 s, total: 2min 48s\n",
            "Wall time: 2min 14s\n"
          ]
        }
      ],
      "source": [
        "%%time\n",
        "\n",
        "\n",
        "flights_distance = vdf.groupby('OP_CARRIER').agg({'AIR_TIME': 'sum'})\n",
        "flights_distance = flights_distance.to_pandas_df()\n",
        "flights_distance.plot.bar(x='OP_CARRIER', y='AIR_TIME', color='blue')\n",
        "plt.xlabel(\"Flight Name\")\n",
        "plt.ylabel(\"Total Time on Air (min)\")\n",
        "plt.title(\"Total Travel Time on Air by Flights\")\n",
        "plt.show()\n"
      ]
    },
    {
      "cell_type": "markdown",
      "metadata": {
        "id": "sXKa79-wf-Bv"
      },
      "source": [
        "Using Pyspark"
      ]
    },
    {
      "cell_type": "code",
      "execution_count": null,
      "metadata": {
        "id": "p2Xz92EIbrR7",
        "colab": {
          "base_uri": "https://localhost:8080/",
          "height": 656
        },
        "outputId": "8b7b5b1a-74bc-4c72-9338-06cbae08745b"
      },
      "outputs": [
        {
          "output_type": "display_data",
          "data": {
            "text/plain": [
              "<Figure size 1080x720 with 1 Axes>"
            ],
            "image/png": "[encoded data removed]"
          },
          "metadata": {
            "needs_background": "light"
          }
        },
        {
          "output_type": "stream",
          "name": "stdout",
          "text": [
            "CPU times: user 588 ms, sys: 238 ms, total: 826 ms\n",
            "Wall time: 1min 22s\n"
          ]
        }
      ],
      "source": [
        "%%time\n",
        "\n",
        "import seaborn as sns\n",
        "\n",
        "pyspark_chart1 = pdf.groupby(\"OP_CARRIER\").sum(\"AIR_TIME\")\n",
        "pyspark_chart1 = pyspark_chart1.sort(col(\"OP_CARRIER\").asc())\n",
        "pyspark_chart1 = pyspark_chart1.toPandas()\n",
        "\n",
        "\n",
        "plt.figure(figsize=(15,10))\n",
        "plt.title(\"Total Travel Time on Air by Flights\")\n",
        "sns.barplot(x=pyspark_chart1['OP_CARRIER'], y=pyspark_chart1['sum(AIR_TIME)'])\n",
        "plt.xlabel('Flight Name')\n",
        "plt.ylabel('Total Time on Air (min)')\n",
        "plt.show()"
      ]
    },
    {
      "cell_type": "markdown",
      "source": [
        "From above visualization, we can see the total time on air in minutes for each of the flight name. WN flights spent the most time on air while G4 spent the least."
      ],
      "metadata": {
        "id": "SNG0OQ6aADfb"
      }
    },
    {
      "cell_type": "markdown",
      "source": [
        "# Questions & Answers with Visualization"
      ],
      "metadata": {
        "id": "SOixNHJh9UdD"
      }
    },
    {
      "cell_type": "markdown",
      "metadata": {
        "id": "o0O1UOHPoFZx"
      },
      "source": [
        "***Question 1: Which airline has the highest number of flights from year 2016 - 2018?***"
      ]
    },
    {
      "cell_type": "markdown",
      "metadata": {
        "id": "9yeaSNu7drKB"
      },
      "source": [
        "**Visualisation with Koalas**"
      ]
    },
    {
      "cell_type": "code",
      "execution_count": null,
      "metadata": {
        "colab": {
          "base_uri": "https://localhost:8080/",
          "height": 577
        },
        "id": "MQvaNpRwQX_N",
        "outputId": "9c49381c-dd98-467b-d1ea-2216e54e118c"
      },
      "outputs": [
        {
          "output_type": "stream",
          "name": "stdout",
          "text": [
            "CPU times: user 4 µs, sys: 1e+03 ns, total: 5 µs\n",
            "Wall time: 8.58 µs\n"
          ]
        },
        {
          "output_type": "display_data",
          "data": {
            "text/html": [
              "<html>\n",
              "<head><meta charset=\"utf-8\" /></head>\n",
              "<body>\n",
              "    <div>            <script src=\"https://cdnjs.cloudflare.com/ajax/libs/mathjax/2.7.5/MathJax.js?config=TeX-AMS-MML_SVG\"></script><script type=\"text/javascript\">if (window.MathJax) {MathJax.Hub.Config({SVG: {font: \"STIX-Web\"}});}</script>                <script type=\"text/javascript\">window.PlotlyConfig = {MathJaxConfig: 'local'};</script>\n",
              "        <script src=\"https://cdn.plot.ly/plotly-2.8.3.min.js\"></script>                <div id=\"d387f5b6-4782-42fb-8ee1-598c309f4884\" class=\"plotly-graph-div\" style=\"height:525px; width:100%;\"></div>            <script type=\"text/javascript\">                                    window.PLOTLYENV=window.PLOTLYENV || {};                                    if (document.getElementById(\"d387f5b6-4782-42fb-8ee1-598c309f4884\")) {                    Plotly.newPlot(                        \"d387f5b6-4782-42fb-8ee1-598c309f4884\",                        [{\"alignmentgroup\":\"True\",\"hovertemplate\":\"variable=0<br>OP_CARRIER=%{x}<br>value=%{y}<extra></extra>\",\"legendgroup\":\"0\",\"marker\":{\"color\":\"#636efa\",\"pattern\":{\"shape\":\"\"}},\"name\":\"0\",\"offsetgroup\":\"0\",\"orientation\":\"v\",\"showlegend\":true,\"textposition\":\"auto\",\"x\":[\"UA\",\"NK\",\"AA\",\"EV\",\"B6\",\"DL\",\"OO\",\"F9\",\"HA\",\"AS\",\"VX\",\"WN\",\"YV\",\"MQ\",\"OH\",\"G4\",\"YX\",\"9E\"],\"xaxis\":\"x\",\"y\":[1730317,460968,2683157,1002681,865396,2773525,2050388,313232,239823,602048,155092,3921112,209094,284497,265784,95192,305251,231815],\"yaxis\":\"y\",\"type\":\"bar\"}],                        {\"template\":{\"data\":{\"bar\":[{\"error_x\":{\"color\":\"#2a3f5f\"},\"error_y\":{\"color\":\"#2a3f5f\"},\"marker\":{\"line\":{\"color\":\"#E5ECF6\",\"width\":0.5},\"pattern\":{\"fillmode\":\"overlay\",\"size\":10,\"solidity\":0.2}},\"type\":\"bar\"}],\"barpolar\":[{\"marker\":{\"line\":{\"color\":\"#E5ECF6\",\"width\":0.5},\"pattern\":{\"fillmode\":\"overlay\",\"size\":10,\"solidity\":0.2}},\"type\":\"barpolar\"}],\"carpet\":[{\"aaxis\":{\"endlinecolor\":\"#2a3f5f\",\"gridcolor\":\"white\",\"linecolor\":\"white\",\"minorgridcolor\":\"white\",\"startlinecolor\":\"#2a3f5f\"},\"baxis\":{\"endlinecolor\":\"#2a3f5f\",\"gridcolor\":\"white\",\"linecolor\":\"white\",\"minorgridcolor\":\"white\",\"startlinecolor\":\"#2a3f5f\"},\"type\":\"carpet\"}],\"choropleth\":[{\"colorbar\":{\"outlinewidth\":0,\"ticks\":\"\"},\"type\":\"choropleth\"}],\"contour\":[{\"colorbar\":{\"outlinewidth\":0,\"ticks\":\"\"},\"colorscale\":[[0.0,\"#0d0887\"],[0.1111111111111111,\"#46039f\"],[0.2222222222222222,\"#7201a8\"],[0.3333333333333333,\"#9c179e\"],[0.4444444444444444,\"#bd3786\"],[0.5555555555555556,\"#d8576b\"],[0.6666666666666666,\"#ed7953\"],[0.7777777777777778,\"#fb9f3a\"],[0.8888888888888888,\"#fdca26\"],[1.0,\"#f0f921\"]],\"type\":\"contour\"}],\"contourcarpet\":[{\"colorbar\":{\"outlinewidth\":0,\"ticks\":\"\"},\"type\":\"contourcarpet\"}],\"heatmap\":[{\"colorbar\":{\"outlinewidth\":0,\"ticks\":\"\"},\"colorscale\":[[0.0,\"#0d0887\"],[0.1111111111111111,\"#46039f\"],[0.2222222222222222,\"#7201a8\"],[0.3333333333333333,\"#9c179e\"],[0.4444444444444444,\"#bd3786\"],[0.5555555555555556,\"#d8576b\"],[0.6666666666666666,\"#ed7953\"],[0.7777777777777778,\"#fb9f3a\"],[0.8888888888888888,\"#fdca26\"],[1.0,\"#f0f921\"]],\"type\":\"heatmap\"}],\"heatmapgl\":[{\"colorbar\":{\"outlinewidth\":0,\"ticks\":\"\"},\"colorscale\":[[0.0,\"#0d0887\"],[0.1111111111111111,\"#46039f\"],[0.2222222222222222,\"#7201a8\"],[0.3333333333333333,\"#9c179e\"],[0.4444444444444444,\"#bd3786\"],[0.5555555555555556,\"#d8576b\"],[0.6666666666666666,\"#ed7953\"],[0.7777777777777778,\"#fb9f3a\"],[0.8888888888888888,\"#fdca26\"],[1.0,\"#f0f921\"]],\"type\":\"heatmapgl\"}],\"histogram\":[{\"marker\":{\"pattern\":{\"fillmode\":\"overlay\",\"size\":10,\"solidity\":0.2}},\"type\":\"histogram\"}],\"histogram2d\":[{\"colorbar\":{\"outlinewidth\":0,\"ticks\":\"\"},\"colorscale\":[[0.0,\"#0d0887\"],[0.1111111111111111,\"#46039f\"],[0.2222222222222222,\"#7201a8\"],[0.3333333333333333,\"#9c179e\"],[0.4444444444444444,\"#bd3786\"],[0.5555555555555556,\"#d8576b\"],[0.6666666666666666,\"#ed7953\"],[0.7777777777777778,\"#fb9f3a\"],[0.8888888888888888,\"#fdca26\"],[1.0,\"#f0f921\"]],\"type\":\"histogram2d\"}],\"histogram2dcontour\":[{\"colorbar\":{\"outlinewidth\":0,\"ticks\":\"\"},\"colorscale\":[[0.0,\"#0d0887\"],[0.1111111111111111,\"#46039f\"],[0.2222222222222222,\"#7201a8\"],[0.3333333333333333,\"#9c179e\"],[0.4444444444444444,\"#bd3786\"],[0.5555555555555556,\"#d8576b\"],[0.6666666666666666,\"#ed7953\"],[0.7777777777777778,\"#fb9f3a\"],[0.8888888888888888,\"#fdca26\"],[1.0,\"#f0f921\"]],\"type\":\"histogram2dcontour\"}],\"mesh3d\":[{\"colorbar\":{\"outlinewidth\":0,\"ticks\":\"\"},\"type\":\"mesh3d\"}],\"parcoords\":[{\"line\":{\"colorbar\":{\"outlinewidth\":0,\"ticks\":\"\"}},\"type\":\"parcoords\"}],\"pie\":[{\"automargin\":true,\"type\":\"pie\"}],\"scatter\":[{\"marker\":{\"colorbar\":{\"outlinewidth\":0,\"ticks\":\"\"}},\"type\":\"scatter\"}],\"scatter3d\":[{\"line\":{\"colorbar\":{\"outlinewidth\":0,\"ticks\":\"\"}},\"marker\":{\"colorbar\":{\"outlinewidth\":0,\"ticks\":\"\"}},\"type\":\"scatter3d\"}],\"scattercarpet\":[{\"marker\":{\"colorbar\":{\"outlinewidth\":0,\"ticks\":\"\"}},\"type\":\"scattercarpet\"}],\"scattergeo\":[{\"marker\":{\"colorbar\":{\"outlinewidth\":0,\"ticks\":\"\"}},\"type\":\"scattergeo\"}],\"scattergl\":[{\"marker\":{\"colorbar\":{\"outlinewidth\":0,\"ticks\":\"\"}},\"type\":\"scattergl\"}],\"scattermapbox\":[{\"marker\":{\"colorbar\":{\"outlinewidth\":0,\"ticks\":\"\"}},\"type\":\"scattermapbox\"}],\"scatterpolar\":[{\"marker\":{\"colorbar\":{\"outlinewidth\":0,\"ticks\":\"\"}},\"type\":\"scatterpolar\"}],\"scatterpolargl\":[{\"marker\":{\"colorbar\":{\"outlinewidth\":0,\"ticks\":\"\"}},\"type\":\"scatterpolargl\"}],\"scatterternary\":[{\"marker\":{\"colorbar\":{\"outlinewidth\":0,\"ticks\":\"\"}},\"type\":\"scatterternary\"}],\"surface\":[{\"colorbar\":{\"outlinewidth\":0,\"ticks\":\"\"},\"colorscale\":[[0.0,\"#0d0887\"],[0.1111111111111111,\"#46039f\"],[0.2222222222222222,\"#7201a8\"],[0.3333333333333333,\"#9c179e\"],[0.4444444444444444,\"#bd3786\"],[0.5555555555555556,\"#d8576b\"],[0.6666666666666666,\"#ed7953\"],[0.7777777777777778,\"#fb9f3a\"],[0.8888888888888888,\"#fdca26\"],[1.0,\"#f0f921\"]],\"type\":\"surface\"}],\"table\":[{\"cells\":{\"fill\":{\"color\":\"#EBF0F8\"},\"line\":{\"color\":\"white\"}},\"header\":{\"fill\":{\"color\":\"#C8D4E3\"},\"line\":{\"color\":\"white\"}},\"type\":\"table\"}]},\"layout\":{\"annotationdefaults\":{\"arrowcolor\":\"#2a3f5f\",\"arrowhead\":0,\"arrowwidth\":1},\"autotypenumbers\":\"strict\",\"coloraxis\":{\"colorbar\":{\"outlinewidth\":0,\"ticks\":\"\"}},\"colorscale\":{\"diverging\":[[0,\"#8e0152\"],[0.1,\"#c51b7d\"],[0.2,\"#de77ae\"],[0.3,\"#f1b6da\"],[0.4,\"#fde0ef\"],[0.5,\"#f7f7f7\"],[0.6,\"#e6f5d0\"],[0.7,\"#b8e186\"],[0.8,\"#7fbc41\"],[0.9,\"#4d9221\"],[1,\"#276419\"]],\"sequential\":[[0.0,\"#0d0887\"],[0.1111111111111111,\"#46039f\"],[0.2222222222222222,\"#7201a8\"],[0.3333333333333333,\"#9c179e\"],[0.4444444444444444,\"#bd3786\"],[0.5555555555555556,\"#d8576b\"],[0.6666666666666666,\"#ed7953\"],[0.7777777777777778,\"#fb9f3a\"],[0.8888888888888888,\"#fdca26\"],[1.0,\"#f0f921\"]],\"sequentialminus\":[[0.0,\"#0d0887\"],[0.1111111111111111,\"#46039f\"],[0.2222222222222222,\"#7201a8\"],[0.3333333333333333,\"#9c179e\"],[0.4444444444444444,\"#bd3786\"],[0.5555555555555556,\"#d8576b\"],[0.6666666666666666,\"#ed7953\"],[0.7777777777777778,\"#fb9f3a\"],[0.8888888888888888,\"#fdca26\"],[1.0,\"#f0f921\"]]},\"colorway\":[\"#636efa\",\"#EF553B\",\"#00cc96\",\"#ab63fa\",\"#FFA15A\",\"#19d3f3\",\"#FF6692\",\"#B6E880\",\"#FF97FF\",\"#FECB52\"],\"font\":{\"color\":\"#2a3f5f\"},\"geo\":{\"bgcolor\":\"white\",\"lakecolor\":\"white\",\"landcolor\":\"#E5ECF6\",\"showlakes\":true,\"showland\":true,\"subunitcolor\":\"white\"},\"hoverlabel\":{\"align\":\"left\"},\"hovermode\":\"closest\",\"mapbox\":{\"style\":\"light\"},\"paper_bgcolor\":\"white\",\"plot_bgcolor\":\"#E5ECF6\",\"polar\":{\"angularaxis\":{\"gridcolor\":\"white\",\"linecolor\":\"white\",\"ticks\":\"\"},\"bgcolor\":\"#E5ECF6\",\"radialaxis\":{\"gridcolor\":\"white\",\"linecolor\":\"white\",\"ticks\":\"\"}},\"scene\":{\"xaxis\":{\"backgroundcolor\":\"#E5ECF6\",\"gridcolor\":\"white\",\"gridwidth\":2,\"linecolor\":\"white\",\"showbackground\":true,\"ticks\":\"\",\"zerolinecolor\":\"white\"},\"yaxis\":{\"backgroundcolor\":\"#E5ECF6\",\"gridcolor\":\"white\",\"gridwidth\":2,\"linecolor\":\"white\",\"showbackground\":true,\"ticks\":\"\",\"zerolinecolor\":\"white\"},\"zaxis\":{\"backgroundcolor\":\"#E5ECF6\",\"gridcolor\":\"white\",\"gridwidth\":2,\"linecolor\":\"white\",\"showbackground\":true,\"ticks\":\"\",\"zerolinecolor\":\"white\"}},\"shapedefaults\":{\"line\":{\"color\":\"#2a3f5f\"}},\"ternary\":{\"aaxis\":{\"gridcolor\":\"white\",\"linecolor\":\"white\",\"ticks\":\"\"},\"baxis\":{\"gridcolor\":\"white\",\"linecolor\":\"white\",\"ticks\":\"\"},\"bgcolor\":\"#E5ECF6\",\"caxis\":{\"gridcolor\":\"white\",\"linecolor\":\"white\",\"ticks\":\"\"}},\"title\":{\"x\":0.05},\"xaxis\":{\"automargin\":true,\"gridcolor\":\"white\",\"linecolor\":\"white\",\"ticks\":\"\",\"title\":{\"standoff\":15},\"zerolinecolor\":\"white\",\"zerolinewidth\":2},\"yaxis\":{\"automargin\":true,\"gridcolor\":\"white\",\"linecolor\":\"white\",\"ticks\":\"\",\"title\":{\"standoff\":15},\"zerolinecolor\":\"white\",\"zerolinewidth\":2}}},\"xaxis\":{\"anchor\":\"y\",\"domain\":[0.0,1.0],\"title\":{\"text\":\"OP_CARRIER\"}},\"yaxis\":{\"anchor\":\"x\",\"domain\":[0.0,1.0],\"title\":{\"text\":\"value\"}},\"legend\":{\"title\":{\"text\":\"variable\"},\"tracegroupgap\":0},\"margin\":{\"t\":60},\"barmode\":\"relative\"},                        {\"responsive\": true}                    ).then(function(){\n",
              "                            \n",
              "var gd = document.getElementById('d387f5b6-4782-42fb-8ee1-598c309f4884');\n",
              "var x = new MutationObserver(function (mutations, observer) {{\n",
              "        var display = window.getComputedStyle(gd).display;\n",
              "        if (!display || display === 'none') {{\n",
              "            console.log([gd, 'removed!']);\n",
              "            Plotly.purge(gd);\n",
              "            observer.disconnect();\n",
              "        }}\n",
              "}});\n",
              "\n",
              "// Listen for the removal of the full notebook cells\n",
              "var notebookContainer = gd.closest('#notebook-container');\n",
              "if (notebookContainer) {{\n",
              "    x.observe(notebookContainer, {childList: true});\n",
              "}}\n",
              "\n",
              "// Listen for the clearing of the current output cell\n",
              "var outputEl = gd.closest('.output');\n",
              "if (outputEl) {{\n",
              "    x.observe(outputEl, {childList: true});\n",
              "}}\n",
              "\n",
              "                        })                };                            </script>        </div>\n",
              "</body>\n",
              "</html>"
            ]
          },
          "metadata": {}
        }
      ],
      "source": [
        "%time\n",
        "flights_count = kdf.groupby('OP_CARRIER').size()\n",
        "flights_count.plot(kind='bar')"
      ]
    },
    {
      "cell_type": "markdown",
      "metadata": {
        "id": "YZyn0w-z220M"
      },
      "source": [
        "**Visualisation with Vaex**"
      ]
    },
    {
      "cell_type": "code",
      "execution_count": null,
      "metadata": {
        "colab": {
          "base_uri": "https://localhost:8080/",
          "height": 338
        },
        "id": "cS_1CI05gEGi",
        "outputId": "2317d362-82a0-4ab4-ba32-d24e0ba6506f"
      },
      "outputs": [
        {
          "output_type": "stream",
          "name": "stdout",
          "text": [
            "CPU times: user 3 µs, sys: 0 ns, total: 3 µs\n",
            "Wall time: 6.91 µs\n"
          ]
        },
        {
          "output_type": "display_data",
          "data": {
            "text/plain": [
              "<Figure size 432x288 with 1 Axes>"
            ],
            "image/png": "[encoded data removed]"
          },
          "metadata": {
            "needs_background": "light"
          }
        }
      ],
      "source": [
        "%time\n",
        "\n",
        "flights_count = vdf.groupby('OP_CARRIER').agg({'OP_CARRIER_FL_NUM': 'count'})\n",
        "flights_count = flights_count.to_pandas_df()\n",
        "flights_count.plot.bar(x='OP_CARRIER', y='OP_CARRIER_FL_NUM', color='orange')\n",
        "plt.xlabel(\"Carrier\")\n",
        "plt.ylabel(\"Number of Flights\")\n",
        "plt.title(\"Carrier with highest number of flights\")\n",
        "plt.show()"
      ]
    },
    {
      "cell_type": "markdown",
      "metadata": {
        "id": "zMF91pr66inx"
      },
      "source": [
        "\n",
        "**Visualisation using Pyspark**\n",
        "\n"
      ]
    },
    {
      "cell_type": "code",
      "execution_count": null,
      "metadata": {
        "colab": {
          "base_uri": "https://localhost:8080/",
          "height": 351
        },
        "id": "Y2lI9ymJ_Dng",
        "outputId": "577b39cc-7f99-40ae-8498-e8f7eb4510e2"
      },
      "outputs": [
        {
          "name": "stdout",
          "output_type": "stream",
          "text": [
            "CPU times: user 5 µs, sys: 0 ns, total: 5 µs\n",
            "Wall time: 9.3 µs\n"
          ]
        },
        {
          "data": {
            "text/plain": [
              "<AxesSubplot: xlabel='OP_CARRIER'>"
            ]
          },
          "execution_count": 47,
          "metadata": {},
          "output_type": "execute_result"
        },
        {
          "data": {
            "image/png": "[encoded data removed]",
            "text/plain": [
              "<Figure size 432x288 with 1 Axes>"
            ]
          },
          "metadata": {},
          "output_type": "display_data"
        }
      ],
      "source": [
        "%time\n",
        "from pyspark.sql.functions import count, desc\n",
        "carrier_counts = pdf.groupBy(\"OP_CARRIER\").agg(count(\"OP_CARRIER_FL_NUM\")).sort(col(\"OP_CARRIER\").asc()).toPandas()\n",
        "\n",
        "# plot the total distance travelled by each flight company name using a bar chart\n",
        "carrier_counts.plot(kind='bar', x='OP_CARRIER', y='count(OP_CARRIER_FL_NUM)')"
      ]
    },
    {
      "cell_type": "markdown",
      "metadata": {
        "id": "EesPTz3VmHHo"
      },
      "source": [
        "From the bar chart above, we can see the number of flights for each operating carrier (airline). It could be concluded that WN airline has the highest number of flights among all airline.\n",
        "\n",
        "\n",
        "\n",
        "***Question 2: Does the departure delay affects the arrival delay?***\n",
        "\n",
        "**Visualisation with Koalas**"
      ]
    },
    {
      "cell_type": "code",
      "execution_count": null,
      "metadata": {
        "colab": {
          "base_uri": "https://localhost:8080/",
          "height": 577
        },
        "id": "0ZTJhgnJRwjL",
        "outputId": "b725ba02-9577-421d-bfc2-24343927ac21"
      },
      "outputs": [
        {
          "name": "stdout",
          "output_type": "stream",
          "text": [
            "CPU times: user 2 µs, sys: 0 ns, total: 2 µs\n",
            "Wall time: 6.91 µs\n"
          ]
        },
        {
          "data": {
            "text/html": [
              "<html>\n",
              "<head><meta charset=\"utf-8\" /></head>\n",
              "<body>\n",
              "    <div>            <script src=\"https://cdnjs.cloudflare.com/ajax/libs/mathjax/2.7.5/MathJax.js?config=TeX-AMS-MML_SVG\"></script><script type=\"text/javascript\">if (window.MathJax) {MathJax.Hub.Config({SVG: {font: \"STIX-Web\"}});}</script>                <script type=\"text/javascript\">window.PlotlyConfig = {MathJaxConfig: 'local'};</script>\n",
              "        <script src=\"https://cdn.plot.ly/plotly-2.8.3.min.js\"></script>                <div id=\"30a2983c-e60f-46a6-a997-eec7b2922323\" class=\"plotly-graph-div\" style=\"height:525px; width:100%;\"></div>            <script type=\"text/javascript\">                                    window.PLOTLYENV=window.PLOTLYENV || {};                                    if (document.getElementById(\"30a2983c-e60f-46a6-a997-eec7b2922323\")) {                    Plotly.newPlot(                        \"30a2983c-e60f-46a6-a997-eec7b2922323\",                        [{\"hovertemplate\":\"DEP_DELAY=%{x}<br>ARR_DELAY=%{y}<extra></extra>\",\"legendgroup\":\"\",\"marker\":{\"color\":\"#636efa\",\"symbol\":\"circle\"},\"mode\":\"markers\",\"name\":\"\",\"orientation\":\"v\",\"showlegend\":false,\"x\":[0.0,5.0,1.0,4.0,72.0,83.0,86.0,1.0,-1.0,-3.0,-2.0,-7.0,-1.0,-10.0,-4.0,-5.0,-3.0,0.0,-3.0,-4.0,7.0,-4.0,-6.0,-6.0,0.0,11.0,0.0,-3.0,-5.0,0.0,0.0,-1.0,2.0,1.0,0.0,0.0,1.0,-3.0,-1.0,0.0,4.0,-4.0,17.0,0.0,-1.0,49.0,-1.0,46.0,1.0,-2.0,0.0,17.0,-2.0,-5.0,6.0,-7.0,0.0,-1.0,-6.0,-1.0,33.0,-5.0,1.0,-2.0,-5.0,-3.0,4.0,-5.0,-6.0,0.0,-4.0,-9.0,-2.0,-1.0,71.0,-3.0,-3.0,3.0,1.0,1.0,-3.0,-1.0,24.0,15.0,-8.0,-2.0,15.0,-3.0,-6.0,-4.0,-2.0,5.0,0.0,-1.0,-1.0,-5.0,-7.0,-3.0,-1.0,-5.0,-12.0,-7.0,-3.0,-7.0,16.0,-4.0,-4.0,-2.0,-3.0,-4.0,-3.0,0.0,10.0,-5.0,-1.0,36.0,32.0,0.0,-2.0,10.0,2.0,140.0,-11.0,0.0,-3.0,2.0,-1.0,-6.0,-3.0,-4.0,63.0,10.0,-7.0,-1.0,-3.0,1.0,-7.0,-1.0,-2.0,-1.0,0.0,-5.0,-3.0,5.0,1.0,-3.0,-14.0,-1.0,6.0,-2.0,-6.0,12.0,4.0,6.0,-5.0,-7.0,8.0,12.0,-6.0,12.0,18.0,-6.0,-4.0,8.0,0.0,-3.0,-5.0,-5.0,-3.0,1.0,-1.0,-2.0,0.0,-2.0,-1.0,0.0,-6.0,-2.0,0.0,-2.0,0.0,-2.0,-1.0,-4.0,-9.0,-6.0,22.0,7.0,-21.0,0.0,-6.0,-3.0,-1.0,-4.0,12.0,-3.0,-7.0,-4.0,0.0,-4.0,-4.0,-7.0,-4.0,-2.0,10.0,2.0,9.0,-3.0,-5.0,-3.0,0.0,3.0,-1.0,-6.0,-8.0,29.0,-4.0,3.0,36.0,0.0,-1.0,-6.0,-2.0,5.0,-3.0,-11.0,-3.0,12.0,6.0,-1.0,-3.0,41.0,21.0,7.0,-5.0,-7.0,5.0,-6.0,-5.0,-5.0,-1.0,-2.0,-5.0,4.0,-1.0,-3.0,2.0,-2.0,-5.0,-3.0,-4.0,-3.0,58.0,47.0,-5.0,-3.0,-4.0,-2.0,-4.0,-1.0,-1.0,-4.0,-1.0,-8.0,-6.0,11.0,1.0,10.0,-2.0,-1.0,-3.0,-6.0,19.0,0.0,460.0,-1.0,6.0,0.0,2.0,11.0,2.0,2.0,-2.0,-1.0,-5.0,-5.0,-10.0,1.0,0.0,-3.0,-3.0,-6.0,-5.0,1.0,0.0,8.0,-1.0,0.0,2.0,124.0,114.0,25.0,1.0,9.0,-1.0,-4.0,-3.0,3.0,9.0,-1.0,0.0,2.0,7.0,11.0,-7.0,-3.0,-14.0,-1.0,-3.0,-2.0,-3.0,-3.0,-4.0,-3.0,9.0,16.0,-3.0,-2.0,-5.0,-4.0,-7.0,24.0,13.0,-4.0,-4.0,-3.0,0.0,51.0,-2.0,0.0,-2.0,11.0,-5.0,-4.0,-3.0,22.0,1.0,-1.0,-1.0,0.0,-3.0,-7.0,-2.0,-6.0,-2.0,-1.0,-4.0,-1.0,-3.0,-2.0,-2.0,11.0,-2.0,0.0,-6.0,-1.0,-2.0,-1.0,-5.0,-3.0,15.0,-3.0,-1.0,25.0,8.0,-1.0,-2.0,-2.0,-3.0,-7.0,-8.0,0.0,8.0,17.0,-2.0,-3.0,-4.0,-2.0,-5.0,-5.0,3.0,-1.0,50.0,-4.0,-1.0,-1.0,-2.0,3.0,-5.0,3.0,0.0,-3.0,-1.0,-5.0,-1.0,5.0,-3.0,-6.0,-4.0,-2.0,1.0,-2.0,-6.0,1.0,-3.0,0.0,-2.0,-3.0,0.0,-4.0,1.0,0.0,-7.0,-1.0,-2.0,15.0,33.0,0.0,2.0,-5.0,-2.0,1.0,-2.0,17.0,-1.0,-1.0,-1.0,-1.0,17.0,11.0,-11.0,0.0,-5.0,-1.0,-3.0,-5.0,-6.0,-5.0,26.0,-4.0,-2.0,-2.0,-3.0,-1.0,2.0,-7.0,-4.0,35.0,-3.0,11.0,10.0,12.0,-4.0,-3.0,4.0,-1.0,0.0,28.0,21.0,-2.0,-1.0,-3.0,-2.0,111.0,93.0,-2.0,45.0,-2.0,-4.0,-2.0,-2.0,-4.0,-9.0,1.0,15.0,14.0,-1.0,-8.0,15.0,-4.0,-7.0,-4.0,-3.0,0.0,-4.0,-12.0,-3.0,-4.0,-1.0,0.0,-5.0,-1.0,-4.0,-1.0,8.0,-2.0,0.0,7.0,0.0,5.0,-2.0,-6.0,-7.0,4.0,0.0,-4.0,-2.0,-3.0,-4.0,-1.0,-2.0,0.0,16.0,-1.0,12.0,-1.0,0.0,1.0,2.0,-2.0,1.0,-5.0,-5.0,-2.0,-1.0,18.0,-7.0,-2.0,-6.0,67.0,56.0,-11.0,-3.0,1.0,145.0,-3.0,-15.0,-2.0,-1.0,-3.0,7.0,-6.0,2.0,-4.0,-3.0,12.0,16.0,-2.0,1.0,31.0,1.0,-4.0,0.0,-2.0,24.0,83.0,1.0,19.0,3.0,25.0,48.0,-3.0,-5.0,9.0,3.0,-6.0,8.0,-5.0,4.0,-4.0,-6.0,-5.0,-4.0,-2.0,-4.0,0.0,-1.0,10.0,1.0,-2.0,5.0,0.0,-3.0,-1.0,5.0,-1.0,-3.0,-2.0,-1.0,-5.0,-5.0,-3.0,-4.0,-2.0,6.0,-5.0,-2.0,3.0,-4.0,-4.0,-3.0,-7.0,-1.0,-3.0,-3.0,-4.0,-6.0,0.0,6.0,-4.0,-1.0,0.0,-6.0,-4.0,-9.0,-1.0,-9.0,101.0,0.0,3.0,-3.0,5.0,-2.0,0.0,-1.0,82.0,0.0,-4.0,-4.0,-1.0,-2.0,-3.0,-3.0,1.0,23.0,-4.0,4.0,-6.0,-3.0,1.0,-3.0,13.0,1.0,10.0,-4.0,-7.0,-2.0,-4.0,-7.0,13.0,-2.0,1.0,1.0,-5.0,11.0,-3.0,26.0,-3.0,5.0,-3.0,25.0,0.0,-6.0,-3.0,10.0,-2.0,-6.0,-2.0,0.0,20.0,-3.0,7.0,2.0,-5.0,25.0,2.0,9.0,-3.0,-4.0,-9.0,15.0,-4.0,1.0,-3.0,3.0,-13.0,-2.0,-4.0,-9.0,3.0,5.0,10.0,49.0,13.0,-5.0,4.0,20.0,18.0,-5.0,-10.0,-21.0,1.0,-19.0,-7.0,-22.0,-46.0,1.0,-26.0,-14.0,-15.0,-15.0,-19.0,-17.0,-10.0,-8.0,-8.0,-1.0,-12.0,-23.0,-31.0,-9.0,-15.0,1.0,-18.0,-16.0,-20.0,-2.0,-24.0,-9.0,4.0,-21.0,-5.0,-17.0,-11.0,1.0,-1.0,-3.0,10.0,50.0,11.0,-10.0,-6.0,4.0,10.0,0.0,-7.0,-4.0,-10.0,22.0,-1.0,-1.0,-1.0,-4.0,17.0,-12.0,-3.0,26.0,113.0,-5.0,-6.0,-9.0,-4.0,-17.0,-6.0,-5.0,-1.0,53.0,-4.0,23.0,-1.0,-6.0,-8.0,49.0,49.0,-10.0,-5.0,-6.0,-8.0,-8.0,-8.0,2.0,-3.0,-5.0,-8.0,-5.0,19.0,-8.0,3.0,-1.0,200.0,-6.0,9.0,-6.0,-1.0,14.0,-5.0,9.0,-21.0,-6.0,-2.0,17.0,0.0,2.0,2.0,15.0,-13.0,-3.0,-4.0,-9.0,-3.0,-8.0,-8.0,10.0,-3.0,-11.0,-4.0,17.0,-7.0,-11.0,-2.0,-9.0,-15.0,-4.0,-14.0,-9.0,-4.0,5.0,6.0,2.0,-5.0,7.0,10.0,0.0,0.0,4.0,2.0,-1.0,-6.0,-6.0,-16.0,-11.0,-5.0,22.0,-11.0,-8.0,6.0,-7.0,9.0,-7.0,3.0,-1.0,-3.0,-8.0,-4.0,-4.0,5.0,-6.0,-4.0,-7.0,-1.0,-4.0,12.0,-6.0,-7.0,-4.0,-8.0,-4.0,4.0,-7.0,-4.0,-7.0,-8.0,-3.0,0.0,-4.0,-4.0,-3.0,-5.0,16.0,-8.0,-11.0,-1.0,-4.0,-3.0,-11.0,15.0,-7.0,-5.0,14.0,-4.0,9.0,-2.0,-1.0,8.0,6.0,-1.0,-6.0,-4.0,5.0,0.0,-6.0,9.0,-1.0,100.0,-4.0,-8.0,-5.0,-1.0,-3.0,-7.0,-5.0,-6.0,-4.0,-6.0,-5.0,-6.0,-15.0,11.0,-8.0,-2.0,-2.0,-4.0,-11.0,109.0,51.0,2.0,-1.0,3.0,-3.0,1.0,-8.0,-2.0,-4.0,-17.0,-3.0,-2.0,-4.0,-3.0,0.0,-8.0,-4.0,-4.0,-2.0,-10.0,0.0,-1.0,0.0,-8.0,-2.0,-5.0,1.0,-9.0,-3.0,1.0,20.0,16.0,-5.0,-8.0,-6.0,40.0,-3.0,-6.0,-4.0,-6.0,-9.0,-12.0,-3.0,-5.0,-16.0,3.0,-12.0,40.0,-6.0,-13.0,2.0,7.0,-2.0,-8.0,-5.0,-6.0,4.0,-3.0,-1.0,-2.0,9.0,-4.0,0.0,-7.0,15.0,0.0],\"xaxis\":\"x\",\"y\":[-24.0,-2.0,-13.0,-16.0,124.0,83.0,74.0,3.0,-15.0,-12.0,-33.0,-14.0,-11.0,-15.0,6.0,-18.0,6.0,-26.0,-10.0,-20.0,-2.0,-19.0,-26.0,-11.0,-11.0,-4.0,5.0,-16.0,-28.0,9.0,-4.0,-6.0,-9.0,-3.0,-25.0,-16.0,2.0,-3.0,-26.0,-12.0,-3.0,-8.0,2.0,-9.0,-7.0,28.0,6.0,11.0,0.0,-15.0,-12.0,-2.0,-9.0,-1.0,-6.0,-16.0,-19.0,-9.0,-26.0,-7.0,31.0,-18.0,24.0,-22.0,-11.0,-19.0,2.0,-9.0,-7.0,-17.0,-13.0,-6.0,2.0,7.0,45.0,27.0,-12.0,-8.0,-16.0,-14.0,-24.0,-4.0,15.0,5.0,-14.0,0.0,6.0,-23.0,-21.0,-17.0,-18.0,-13.0,-7.0,-10.0,6.0,-26.0,-3.0,-13.0,-9.0,-18.0,-11.0,-20.0,-14.0,-12.0,-5.0,-5.0,-17.0,-11.0,-9.0,-9.0,-1.0,4.0,1.0,-6.0,-14.0,33.0,14.0,-5.0,-20.0,4.0,-8.0,108.0,-12.0,-16.0,-17.0,-41.0,-24.0,-16.0,-11.0,-30.0,67.0,-4.0,-23.0,-2.0,-10.0,-12.0,-51.0,4.0,-25.0,-11.0,-12.0,-17.0,-12.0,-14.0,7.0,-18.0,-19.0,5.0,3.0,-7.0,-16.0,0.0,-17.0,8.0,-12.0,0.0,-12.0,7.0,-26.0,22.0,21.0,-17.0,-36.0,-5.0,-3.0,-12.0,-14.0,-29.0,-16.0,-15.0,5.0,-20.0,-5.0,3.0,-20.0,-2.0,-9.0,-8.0,1.0,-7.0,-4.0,-7.0,4.0,-18.0,-5.0,-9.0,10.0,3.0,-39.0,-23.0,-14.0,-17.0,-14.0,-7.0,39.0,-7.0,-15.0,-11.0,-7.0,-15.0,2.0,-24.0,-14.0,-10.0,0.0,-17.0,8.0,-30.0,-23.0,-19.0,-1.0,2.0,-11.0,-8.0,-20.0,17.0,-44.0,-9.0,18.0,-11.0,-12.0,-26.0,-6.0,-5.0,-12.0,-33.0,-22.0,10.0,-9.0,-7.0,-10.0,27.0,24.0,5.0,8.0,-2.0,-24.0,11.0,-10.0,-25.0,-21.0,-8.0,-11.0,-21.0,-14.0,-15.0,14.0,-2.0,-22.0,-18.0,-13.0,-15.0,47.0,36.0,-1.0,-18.0,-13.0,-17.0,-16.0,-7.0,19.0,-8.0,-14.0,-27.0,-17.0,14.0,-9.0,-2.0,-10.0,-8.0,-17.0,22.0,26.0,-7.0,445.0,-20.0,8.0,-8.0,-23.0,7.0,-33.0,-1.0,-2.0,-14.0,-9.0,-11.0,-6.0,-10.0,-15.0,-26.0,-26.0,1.0,10.0,-2.0,-28.0,9.0,0.0,-4.0,-11.0,120.0,94.0,6.0,-8.0,-12.0,-6.0,1.0,-23.0,8.0,33.0,-14.0,-14.0,-38.0,-14.0,11.0,-27.0,-27.0,-33.0,-19.0,-16.0,-8.0,-17.0,-28.0,-10.0,-29.0,-12.0,4.0,-2.0,-19.0,-2.0,-9.0,5.0,12.0,-1.0,-1.0,-8.0,-8.0,-7.0,20.0,-32.0,-23.0,-9.0,13.0,-3.0,-21.0,-25.0,8.0,-9.0,-6.0,-5.0,9.0,-17.0,-43.0,-10.0,-8.0,-7.0,-14.0,-6.0,-40.0,-12.0,-12.0,0.0,-1.0,-26.0,-28.0,-5.0,-6.0,-3.0,-15.0,-13.0,-8.0,-7.0,-4.0,-20.0,-9.0,-14.0,-18.0,-19.0,33.0,-4.0,-27.0,-21.0,-2.0,-4.0,17.0,-3.0,-11.0,-7.0,-3.0,-18.0,-11.0,-17.0,-20.0,32.0,-4.0,-14.0,-11.0,-12.0,-10.0,-17.0,13.0,-27.0,0.0,-11.0,-4.0,-6.0,2.0,-34.0,-27.0,4.0,-9.0,-12.0,-14.0,8.0,-19.0,-6.0,3.0,-16.0,-12.0,-17.0,-11.0,-15.0,-12.0,-22.0,-14.0,-7.0,4.0,27.0,-8.0,-3.0,-17.0,-8.0,10.0,-11.0,10.0,4.0,-17.0,1.0,-22.0,-5.0,-19.0,-33.0,-9.0,-26.0,-14.0,-20.0,-10.0,-23.0,-20.0,9.0,-14.0,-18.0,-9.0,-17.0,-11.0,-17.0,-27.0,-22.0,22.0,-6.0,-14.0,-8.0,-3.0,-9.0,-9.0,61.0,-2.0,-37.0,12.0,6.0,-28.0,-5.0,-11.0,-16.0,97.0,73.0,-16.0,42.0,-6.0,-17.0,-19.0,-2.0,8.0,-11.0,-10.0,8.0,-4.0,-16.0,-22.0,15.0,-8.0,-7.0,7.0,-4.0,-16.0,-11.0,-10.0,-26.0,-8.0,-3.0,-12.0,-5.0,-5.0,6.0,-8.0,-11.0,-6.0,-14.0,-3.0,-34.0,7.0,11.0,-12.0,2.0,-2.0,-7.0,-9.0,-19.0,-11.0,-10.0,-34.0,-4.0,4.0,15.0,1.0,0.0,-12.0,-27.0,-11.0,2.0,0.0,-16.0,-25.0,-23.0,-14.0,-18.0,6.0,-14.0,-21.0,-14.0,65.0,56.0,-14.0,-4.0,-18.0,145.0,-26.0,-31.0,-7.0,-1.0,-8.0,-26.0,-21.0,-3.0,-20.0,-22.0,4.0,21.0,5.0,-16.0,12.0,22.0,-14.0,-24.0,-12.0,16.0,71.0,-7.0,-1.0,-11.0,16.0,36.0,-16.0,10.0,0.0,4.0,-26.0,-5.0,2.0,-14.0,-20.0,-30.0,-25.0,-2.0,-10.0,-25.0,-13.0,-7.0,7.0,-11.0,-35.0,-18.0,-14.0,-25.0,-6.0,-9.0,-9.0,-30.0,16.0,-4.0,-14.0,-15.0,-12.0,-15.0,-19.0,4.0,-19.0,-18.0,-12.0,-23.0,-14.0,-17.0,-15.0,-12.0,-2.0,-1.0,-28.0,-25.0,-10.0,3.0,-26.0,-22.0,-12.0,-17.0,-36.0,5.0,-9.0,-26.0,111.0,-15.0,-4.0,-24.0,-23.0,-7.0,-5.0,-11.0,65.0,5.0,-10.0,-14.0,-10.0,-10.0,-17.0,-4.0,14.0,13.0,-9.0,-13.0,-21.0,-21.0,4.0,-3.0,-3.0,-8.0,16.0,-26.0,-22.0,-16.0,-8.0,-5.0,11.0,-3.0,2.0,-21.0,-21.0,-14.0,-11.0,19.0,-14.0,-7.0,45.0,9.0,-8.0,-48.0,26.0,-25.0,19.0,-24.0,-9.0,-12.0,10.0,-12.0,-48.0,6.0,1.0,-2.0,24.0,-30.0,1.0,-15.0,5.0,-10.0,10.0,-37.0,-9.0,-31.0,-11.0,-44.0,35.0,-9.0,-49.0,6.0,-57.0,50.0,-11.0,11.0,2.0,17.0,7.0,-13.0,-6.0,-22.0,-13.0,-15.0,-19.0,-14.0,-33.0,-6.0,-24.0,-22.0,-15.0,-10.0,-17.0,-11.0,-22.0,-11.0,-1.0,-8.0,-6.0,-21.0,-32.0,-16.0,-5.0,-22.0,-22.0,-14.0,-32.0,-21.0,-31.0,-17.0,-17.0,-24.0,-19.0,-18.0,2.0,-19.0,-35.0,32.0,-24.0,67.0,-17.0,6.0,-36.0,-28.0,-13.0,15.0,-11.0,-33.0,-2.0,-40.0,9.0,17.0,-42.0,-31.0,-22.0,12.0,-52.0,4.0,115.0,17.0,-51.0,5.0,-36.0,-21.0,-28.0,7.0,27.0,37.0,4.0,-14.0,-32.0,-28.0,26.0,59.0,66.0,-10.0,-9.0,17.0,2.0,-13.0,7.0,-36.0,-5.0,-7.0,-20.0,-11.0,5.0,-30.0,1.0,-5.0,187.0,-18.0,13.0,6.0,-16.0,15.0,-5.0,-6.0,-24.0,-4.0,-12.0,7.0,-11.0,-1.0,-1.0,7.0,-23.0,-11.0,-1.0,-20.0,-16.0,15.0,-6.0,-10.0,-5.0,-23.0,-2.0,10.0,-26.0,-20.0,-3.0,-18.0,-12.0,-10.0,-22.0,5.0,-16.0,15.0,-5.0,3.0,-6.0,-18.0,15.0,-16.0,14.0,1.0,-1.0,-2.0,-20.0,-20.0,-25.0,-2.0,-8.0,9.0,-14.0,-8.0,1.0,-4.0,-11.0,8.0,-2.0,-19.0,-11.0,-1.0,-21.0,3.0,8.0,-28.0,0.0,-29.0,-3.0,-27.0,20.0,-21.0,1.0,-12.0,-33.0,-6.0,3.0,-28.0,3.0,-24.0,7.0,-28.0,-15.0,-29.0,4.0,-4.0,-26.0,28.0,-40.0,-29.0,-1.0,-5.0,-4.0,-36.0,29.0,0.0,-29.0,10.0,-1.0,-3.0,5.0,-29.0,9.0,7.0,-18.0,-17.0,8.0,-12.0,-32.0,-8.0,-12.0,-16.0,81.0,-7.0,-24.0,1.0,-22.0,-1.0,-32.0,-4.0,-16.0,7.0,-17.0,-5.0,-13.0,-22.0,8.0,-8.0,-2.0,7.0,3.0,-6.0,101.0,67.0,-9.0,-6.0,1.0,-17.0,4.0,-15.0,-8.0,-21.0,-24.0,12.0,-8.0,2.0,-12.0,5.0,-23.0,-15.0,-27.0,-1.0,-1.0,-11.0,-7.0,-4.0,-3.0,1.0,-11.0,-23.0,-4.0,-5.0,-10.0,29.0,1.0,-2.0,-34.0,0.0,37.0,-9.0,-6.0,-21.0,-16.0,-7.0,-18.0,-5.0,-19.0,-26.0,-12.0,-2.0,36.0,-6.0,2.0,-21.0,-16.0,-1.0,-35.0,-10.0,-9.0,-25.0,-13.0,-1.0,1.0,12.0,-19.0,9.0,-55.0,27.0,-31.0],\"yaxis\":\"y\",\"type\":\"scatter\"}],                        {\"template\":{\"data\":{\"bar\":[{\"error_x\":{\"color\":\"#2a3f5f\"},\"error_y\":{\"color\":\"#2a3f5f\"},\"marker\":{\"line\":{\"color\":\"#E5ECF6\",\"width\":0.5},\"pattern\":{\"fillmode\":\"overlay\",\"size\":10,\"solidity\":0.2}},\"type\":\"bar\"}],\"barpolar\":[{\"marker\":{\"line\":{\"color\":\"#E5ECF6\",\"width\":0.5},\"pattern\":{\"fillmode\":\"overlay\",\"size\":10,\"solidity\":0.2}},\"type\":\"barpolar\"}],\"carpet\":[{\"aaxis\":{\"endlinecolor\":\"#2a3f5f\",\"gridcolor\":\"white\",\"linecolor\":\"white\",\"minorgridcolor\":\"white\",\"startlinecolor\":\"#2a3f5f\"},\"baxis\":{\"endlinecolor\":\"#2a3f5f\",\"gridcolor\":\"white\",\"linecolor\":\"white\",\"minorgridcolor\":\"white\",\"startlinecolor\":\"#2a3f5f\"},\"type\":\"carpet\"}],\"choropleth\":[{\"colorbar\":{\"outlinewidth\":0,\"ticks\":\"\"},\"type\":\"choropleth\"}],\"contour\":[{\"colorbar\":{\"outlinewidth\":0,\"ticks\":\"\"},\"colorscale\":[[0.0,\"#0d0887\"],[0.1111111111111111,\"#46039f\"],[0.2222222222222222,\"#7201a8\"],[0.3333333333333333,\"#9c179e\"],[0.4444444444444444,\"#bd3786\"],[0.5555555555555556,\"#d8576b\"],[0.6666666666666666,\"#ed7953\"],[0.7777777777777778,\"#fb9f3a\"],[0.8888888888888888,\"#fdca26\"],[1.0,\"#f0f921\"]],\"type\":\"contour\"}],\"contourcarpet\":[{\"colorbar\":{\"outlinewidth\":0,\"ticks\":\"\"},\"type\":\"contourcarpet\"}],\"heatmap\":[{\"colorbar\":{\"outlinewidth\":0,\"ticks\":\"\"},\"colorscale\":[[0.0,\"#0d0887\"],[0.1111111111111111,\"#46039f\"],[0.2222222222222222,\"#7201a8\"],[0.3333333333333333,\"#9c179e\"],[0.4444444444444444,\"#bd3786\"],[0.5555555555555556,\"#d8576b\"],[0.6666666666666666,\"#ed7953\"],[0.7777777777777778,\"#fb9f3a\"],[0.8888888888888888,\"#fdca26\"],[1.0,\"#f0f921\"]],\"type\":\"heatmap\"}],\"heatmapgl\":[{\"colorbar\":{\"outlinewidth\":0,\"ticks\":\"\"},\"colorscale\":[[0.0,\"#0d0887\"],[0.1111111111111111,\"#46039f\"],[0.2222222222222222,\"#7201a8\"],[0.3333333333333333,\"#9c179e\"],[0.4444444444444444,\"#bd3786\"],[0.5555555555555556,\"#d8576b\"],[0.6666666666666666,\"#ed7953\"],[0.7777777777777778,\"#fb9f3a\"],[0.8888888888888888,\"#fdca26\"],[1.0,\"#f0f921\"]],\"type\":\"heatmapgl\"}],\"histogram\":[{\"marker\":{\"pattern\":{\"fillmode\":\"overlay\",\"size\":10,\"solidity\":0.2}},\"type\":\"histogram\"}],\"histogram2d\":[{\"colorbar\":{\"outlinewidth\":0,\"ticks\":\"\"},\"colorscale\":[[0.0,\"#0d0887\"],[0.1111111111111111,\"#46039f\"],[0.2222222222222222,\"#7201a8\"],[0.3333333333333333,\"#9c179e\"],[0.4444444444444444,\"#bd3786\"],[0.5555555555555556,\"#d8576b\"],[0.6666666666666666,\"#ed7953\"],[0.7777777777777778,\"#fb9f3a\"],[0.8888888888888888,\"#fdca26\"],[1.0,\"#f0f921\"]],\"type\":\"histogram2d\"}],\"histogram2dcontour\":[{\"colorbar\":{\"outlinewidth\":0,\"ticks\":\"\"},\"colorscale\":[[0.0,\"#0d0887\"],[0.1111111111111111,\"#46039f\"],[0.2222222222222222,\"#7201a8\"],[0.3333333333333333,\"#9c179e\"],[0.4444444444444444,\"#bd3786\"],[0.5555555555555556,\"#d8576b\"],[0.6666666666666666,\"#ed7953\"],[0.7777777777777778,\"#fb9f3a\"],[0.8888888888888888,\"#fdca26\"],[1.0,\"#f0f921\"]],\"type\":\"histogram2dcontour\"}],\"mesh3d\":[{\"colorbar\":{\"outlinewidth\":0,\"ticks\":\"\"},\"type\":\"mesh3d\"}],\"parcoords\":[{\"line\":{\"colorbar\":{\"outlinewidth\":0,\"ticks\":\"\"}},\"type\":\"parcoords\"}],\"pie\":[{\"automargin\":true,\"type\":\"pie\"}],\"scatter\":[{\"marker\":{\"colorbar\":{\"outlinewidth\":0,\"ticks\":\"\"}},\"type\":\"scatter\"}],\"scatter3d\":[{\"line\":{\"colorbar\":{\"outlinewidth\":0,\"ticks\":\"\"}},\"marker\":{\"colorbar\":{\"outlinewidth\":0,\"ticks\":\"\"}},\"type\":\"scatter3d\"}],\"scattercarpet\":[{\"marker\":{\"colorbar\":{\"outlinewidth\":0,\"ticks\":\"\"}},\"type\":\"scattercarpet\"}],\"scattergeo\":[{\"marker\":{\"colorbar\":{\"outlinewidth\":0,\"ticks\":\"\"}},\"type\":\"scattergeo\"}],\"scattergl\":[{\"marker\":{\"colorbar\":{\"outlinewidth\":0,\"ticks\":\"\"}},\"type\":\"scattergl\"}],\"scattermapbox\":[{\"marker\":{\"colorbar\":{\"outlinewidth\":0,\"ticks\":\"\"}},\"type\":\"scattermapbox\"}],\"scatterpolar\":[{\"marker\":{\"colorbar\":{\"outlinewidth\":0,\"ticks\":\"\"}},\"type\":\"scatterpolar\"}],\"scatterpolargl\":[{\"marker\":{\"colorbar\":{\"outlinewidth\":0,\"ticks\":\"\"}},\"type\":\"scatterpolargl\"}],\"scatterternary\":[{\"marker\":{\"colorbar\":{\"outlinewidth\":0,\"ticks\":\"\"}},\"type\":\"scatterternary\"}],\"surface\":[{\"colorbar\":{\"outlinewidth\":0,\"ticks\":\"\"},\"colorscale\":[[0.0,\"#0d0887\"],[0.1111111111111111,\"#46039f\"],[0.2222222222222222,\"#7201a8\"],[0.3333333333333333,\"#9c179e\"],[0.4444444444444444,\"#bd3786\"],[0.5555555555555556,\"#d8576b\"],[0.6666666666666666,\"#ed7953\"],[0.7777777777777778,\"#fb9f3a\"],[0.8888888888888888,\"#fdca26\"],[1.0,\"#f0f921\"]],\"type\":\"surface\"}],\"table\":[{\"cells\":{\"fill\":{\"color\":\"#EBF0F8\"},\"line\":{\"color\":\"white\"}},\"header\":{\"fill\":{\"color\":\"#C8D4E3\"},\"line\":{\"color\":\"white\"}},\"type\":\"table\"}]},\"layout\":{\"annotationdefaults\":{\"arrowcolor\":\"#2a3f5f\",\"arrowhead\":0,\"arrowwidth\":1},\"autotypenumbers\":\"strict\",\"coloraxis\":{\"colorbar\":{\"outlinewidth\":0,\"ticks\":\"\"}},\"colorscale\":{\"diverging\":[[0,\"#8e0152\"],[0.1,\"#c51b7d\"],[0.2,\"#de77ae\"],[0.3,\"#f1b6da\"],[0.4,\"#fde0ef\"],[0.5,\"#f7f7f7\"],[0.6,\"#e6f5d0\"],[0.7,\"#b8e186\"],[0.8,\"#7fbc41\"],[0.9,\"#4d9221\"],[1,\"#276419\"]],\"sequential\":[[0.0,\"#0d0887\"],[0.1111111111111111,\"#46039f\"],[0.2222222222222222,\"#7201a8\"],[0.3333333333333333,\"#9c179e\"],[0.4444444444444444,\"#bd3786\"],[0.5555555555555556,\"#d8576b\"],[0.6666666666666666,\"#ed7953\"],[0.7777777777777778,\"#fb9f3a\"],[0.8888888888888888,\"#fdca26\"],[1.0,\"#f0f921\"]],\"sequentialminus\":[[0.0,\"#0d0887\"],[0.1111111111111111,\"#46039f\"],[0.2222222222222222,\"#7201a8\"],[0.3333333333333333,\"#9c179e\"],[0.4444444444444444,\"#bd3786\"],[0.5555555555555556,\"#d8576b\"],[0.6666666666666666,\"#ed7953\"],[0.7777777777777778,\"#fb9f3a\"],[0.8888888888888888,\"#fdca26\"],[1.0,\"#f0f921\"]]},\"colorway\":[\"#636efa\",\"#EF553B\",\"#00cc96\",\"#ab63fa\",\"#FFA15A\",\"#19d3f3\",\"#FF6692\",\"#B6E880\",\"#FF97FF\",\"#FECB52\"],\"font\":{\"color\":\"#2a3f5f\"},\"geo\":{\"bgcolor\":\"white\",\"lakecolor\":\"white\",\"landcolor\":\"#E5ECF6\",\"showlakes\":true,\"showland\":true,\"subunitcolor\":\"white\"},\"hoverlabel\":{\"align\":\"left\"},\"hovermode\":\"closest\",\"mapbox\":{\"style\":\"light\"},\"paper_bgcolor\":\"white\",\"plot_bgcolor\":\"#E5ECF6\",\"polar\":{\"angularaxis\":{\"gridcolor\":\"white\",\"linecolor\":\"white\",\"ticks\":\"\"},\"bgcolor\":\"#E5ECF6\",\"radialaxis\":{\"gridcolor\":\"white\",\"linecolor\":\"white\",\"ticks\":\"\"}},\"scene\":{\"xaxis\":{\"backgroundcolor\":\"#E5ECF6\",\"gridcolor\":\"white\",\"gridwidth\":2,\"linecolor\":\"white\",\"showbackground\":true,\"ticks\":\"\",\"zerolinecolor\":\"white\"},\"yaxis\":{\"backgroundcolor\":\"#E5ECF6\",\"gridcolor\":\"white\",\"gridwidth\":2,\"linecolor\":\"white\",\"showbackground\":true,\"ticks\":\"\",\"zerolinecolor\":\"white\"},\"zaxis\":{\"backgroundcolor\":\"#E5ECF6\",\"gridcolor\":\"white\",\"gridwidth\":2,\"linecolor\":\"white\",\"showbackground\":true,\"ticks\":\"\",\"zerolinecolor\":\"white\"}},\"shapedefaults\":{\"line\":{\"color\":\"#2a3f5f\"}},\"ternary\":{\"aaxis\":{\"gridcolor\":\"white\",\"linecolor\":\"white\",\"ticks\":\"\"},\"baxis\":{\"gridcolor\":\"white\",\"linecolor\":\"white\",\"ticks\":\"\"},\"bgcolor\":\"#E5ECF6\",\"caxis\":{\"gridcolor\":\"white\",\"linecolor\":\"white\",\"ticks\":\"\"}},\"title\":{\"x\":0.05},\"xaxis\":{\"automargin\":true,\"gridcolor\":\"white\",\"linecolor\":\"white\",\"ticks\":\"\",\"title\":{\"standoff\":15},\"zerolinecolor\":\"white\",\"zerolinewidth\":2},\"yaxis\":{\"automargin\":true,\"gridcolor\":\"white\",\"linecolor\":\"white\",\"ticks\":\"\",\"title\":{\"standoff\":15},\"zerolinecolor\":\"white\",\"zerolinewidth\":2}}},\"xaxis\":{\"anchor\":\"y\",\"domain\":[0.0,1.0],\"title\":{\"text\":\"DEP_DELAY\"}},\"yaxis\":{\"anchor\":\"x\",\"domain\":[0.0,1.0],\"title\":{\"text\":\"ARR_DELAY\"}},\"legend\":{\"tracegroupgap\":0},\"margin\":{\"t\":60}},                        {\"responsive\": true}                    ).then(function(){\n",
              "                            \n",
              "var gd = document.getElementById('30a2983c-e60f-46a6-a997-eec7b2922323');\n",
              "var x = new MutationObserver(function (mutations, observer) {{\n",
              "        var display = window.getComputedStyle(gd).display;\n",
              "        if (!display || display === 'none') {{\n",
              "            console.log([gd, 'removed!']);\n",
              "            Plotly.purge(gd);\n",
              "            observer.disconnect();\n",
              "        }}\n",
              "}});\n",
              "\n",
              "// Listen for the removal of the full notebook cells\n",
              "var notebookContainer = gd.closest('#notebook-container');\n",
              "if (notebookContainer) {{\n",
              "    x.observe(notebookContainer, {childList: true});\n",
              "}}\n",
              "\n",
              "// Listen for the clearing of the current output cell\n",
              "var outputEl = gd.closest('.output');\n",
              "if (outputEl) {{\n",
              "    x.observe(outputEl, {childList: true});\n",
              "}}\n",
              "\n",
              "                        })                };                            </script>        </div>\n",
              "</body>\n",
              "</html>"
            ]
          },
          "metadata": {},
          "output_type": "display_data"
        }
      ],
      "source": [
        "%time\n",
        "kdf.plot(x='DEP_DELAY', y='ARR_DELAY', kind='scatter')"
      ]
    },
    {
      "cell_type": "markdown",
      "metadata": {
        "id": "ZbQbjd5V8ev7"
      },
      "source": [
        "**Visualisation with Vaex**"
      ]
    },
    {
      "cell_type": "code",
      "execution_count": null,
      "metadata": {
        "colab": {
          "background_save": true,
          "base_uri": "https://localhost:8080/",
          "height": 331
        },
        "id": "dRkYYmPqru-g",
        "outputId": "abe6dac6-d81e-4b79-fd92-3845952f7a74"
      },
      "outputs": [
        {
          "name": "stdout",
          "output_type": "stream",
          "text": [
            "CPU times: user 3 µs, sys: 0 ns, total: 3 µs\n",
            "Wall time: 6.44 µs\n"
          ]
        },
        {
          "data": {
            "image/png": "[encoded data removed]",
            "text/plain": [
              "<Figure size 432x288 with 1 Axes>"
            ]
          },
          "metadata": {},
          "output_type": "display_data"
        }
      ],
      "source": [
        "%time\n",
        "pandas_vdf = vdf[['DEP_DELAY', 'ARR_DELAY']].to_pandas_df()\n",
        "\n",
        "plt.scatter(pandas_vdf['DEP_DELAY'], pandas_vdf['ARR_DELAY'])\n",
        "plt.xlabel('Departure Delay (min)')\n",
        "plt.ylabel('Arrival Delay (min)')\n",
        "plt.title('Scatter Plot of Departure Delay vs Arrival Delay')\n",
        "\n",
        "plt.show()\n"
      ]
    },
    {
      "cell_type": "markdown",
      "metadata": {
        "id": "cJBe96IZ8f5W"
      },
      "source": [
        "**Visualisation with Pyspark**"
      ]
    },
    {
      "cell_type": "code",
      "execution_count": null,
      "metadata": {
        "colab": {
          "base_uri": "https://localhost:8080/",
          "height": 330
        },
        "id": "f6t7VMkD_Cnd",
        "outputId": "ce17f92a-5232-41f6-e082-c95e2c8d8396"
      },
      "outputs": [
        {
          "name": "stdout",
          "output_type": "stream",
          "text": [
            "CPU times: user 3 µs, sys: 1e+03 ns, total: 4 µs\n",
            "Wall time: 8.34 µs\n"
          ]
        },
        {
          "data": {
            "image/png": "[encoded data removed]",
            "text/plain": [
              "<Figure size 432x288 with 1 Axes>"
            ]
          },
          "metadata": {},
          "output_type": "display_data"
        }
      ],
      "source": [
        "%time\n",
        "sample_pdf=pdf.select(['DEP_DELAY','ARR_DELAY']).sample(False,0.5,42)\n",
        "pandas_pdf= sample_pdf.toPandas()\n",
        "plt.scatter(pandas_pdf['DEP_DELAY'], pandas_pdf['ARR_DELAY'])\n",
        "plt.xlabel('Departure Delay')\n",
        "plt.ylabel('Arrival Delay')\n",
        "plt.title('Scatter Plot of Departure Delay vs Arrival Delay')\n",
        "plt.show()"
      ]
    },
    {
      "cell_type": "markdown",
      "metadata": {
        "id": "7G7-hAWQmTR1"
      },
      "source": [
        "This shows the relationship between the departure delay and arrival delay of flights. When the arrival delay  tends to increase as the departure delay variable increases, we say there is a positive correlation between the variables.\n",
        "\n",
        "***Question 3: Which carrier has the highest total flight distance ?***"
      ]
    },
    {
      "cell_type": "markdown",
      "metadata": {
        "id": "678AIbkWPoN-"
      },
      "source": [
        "**Visualisation with Koalas**"
      ]
    },
    {
      "cell_type": "code",
      "execution_count": null,
      "metadata": {
        "colab": {
          "base_uri": "https://localhost:8080/",
          "height": 577
        },
        "id": "yLt2SoBSSxUm",
        "outputId": "6d849d2e-af64-424a-9827-6d6ace9ceadd"
      },
      "outputs": [
        {
          "output_type": "stream",
          "name": "stdout",
          "text": [
            "CPU times: user 937 ms, sys: 128 ms, total: 1.06 s\n",
            "Wall time: 1min 43s\n"
          ]
        },
        {
          "output_type": "display_data",
          "data": {
            "text/html": [
              "<html>\n",
              "<head><meta charset=\"utf-8\" /></head>\n",
              "<body>\n",
              "    <div>            <script src=\"https://cdnjs.cloudflare.com/ajax/libs/mathjax/2.7.5/MathJax.js?config=TeX-AMS-MML_SVG\"></script><script type=\"text/javascript\">if (window.MathJax) {MathJax.Hub.Config({SVG: {font: \"STIX-Web\"}});}</script>                <script type=\"text/javascript\">window.PlotlyConfig = {MathJaxConfig: 'local'};</script>\n",
              "        <script src=\"https://cdn.plot.ly/plotly-2.8.3.min.js\"></script>                <div id=\"e862b241-efd9-4f6a-be60-a14dff922e44\" class=\"plotly-graph-div\" style=\"height:525px; width:100%;\"></div>            <script type=\"text/javascript\">                                    window.PLOTLYENV=window.PLOTLYENV || {};                                    if (document.getElementById(\"e862b241-efd9-4f6a-be60-a14dff922e44\")) {                    Plotly.newPlot(                        \"e862b241-efd9-4f6a-be60-a14dff922e44\",                        [{\"alignmentgroup\":\"True\",\"hovertemplate\":\"variable=DISTANCE<br>OP_CARRIER=%{x}<br>value=%{y}<extra></extra>\",\"legendgroup\":\"DISTANCE\",\"marker\":{\"color\":\"#636efa\",\"pattern\":{\"shape\":\"\"}},\"name\":\"DISTANCE\",\"offsetgroup\":\"DISTANCE\",\"orientation\":\"v\",\"showlegend\":true,\"textposition\":\"auto\",\"x\":[\"UA\",\"NK\",\"AA\",\"EV\",\"B6\",\"DL\",\"OO\",\"F9\",\"HA\",\"AS\",\"VX\",\"WN\",\"YV\",\"MQ\",\"OH\",\"G4\",\"YX\",\"9E\"],\"xaxis\":\"x\",\"y\":[2071433807.0,464398343.0,2738098191.0,454743272.0,918318466.0,2413025415.0,989108066.0,330490333.0,154513450.0,762406515.0,226933443.0,2935639753.0,115638276.0,123271752.0,102108055.0,84158332.0,181827856.0,110143213.0],\"yaxis\":\"y\",\"type\":\"bar\"}],                        {\"template\":{\"data\":{\"bar\":[{\"error_x\":{\"color\":\"#2a3f5f\"},\"error_y\":{\"color\":\"#2a3f5f\"},\"marker\":{\"line\":{\"color\":\"#E5ECF6\",\"width\":0.5},\"pattern\":{\"fillmode\":\"overlay\",\"size\":10,\"solidity\":0.2}},\"type\":\"bar\"}],\"barpolar\":[{\"marker\":{\"line\":{\"color\":\"#E5ECF6\",\"width\":0.5},\"pattern\":{\"fillmode\":\"overlay\",\"size\":10,\"solidity\":0.2}},\"type\":\"barpolar\"}],\"carpet\":[{\"aaxis\":{\"endlinecolor\":\"#2a3f5f\",\"gridcolor\":\"white\",\"linecolor\":\"white\",\"minorgridcolor\":\"white\",\"startlinecolor\":\"#2a3f5f\"},\"baxis\":{\"endlinecolor\":\"#2a3f5f\",\"gridcolor\":\"white\",\"linecolor\":\"white\",\"minorgridcolor\":\"white\",\"startlinecolor\":\"#2a3f5f\"},\"type\":\"carpet\"}],\"choropleth\":[{\"colorbar\":{\"outlinewidth\":0,\"ticks\":\"\"},\"type\":\"choropleth\"}],\"contour\":[{\"colorbar\":{\"outlinewidth\":0,\"ticks\":\"\"},\"colorscale\":[[0.0,\"#0d0887\"],[0.1111111111111111,\"#46039f\"],[0.2222222222222222,\"#7201a8\"],[0.3333333333333333,\"#9c179e\"],[0.4444444444444444,\"#bd3786\"],[0.5555555555555556,\"#d8576b\"],[0.6666666666666666,\"#ed7953\"],[0.7777777777777778,\"#fb9f3a\"],[0.8888888888888888,\"#fdca26\"],[1.0,\"#f0f921\"]],\"type\":\"contour\"}],\"contourcarpet\":[{\"colorbar\":{\"outlinewidth\":0,\"ticks\":\"\"},\"type\":\"contourcarpet\"}],\"heatmap\":[{\"colorbar\":{\"outlinewidth\":0,\"ticks\":\"\"},\"colorscale\":[[0.0,\"#0d0887\"],[0.1111111111111111,\"#46039f\"],[0.2222222222222222,\"#7201a8\"],[0.3333333333333333,\"#9c179e\"],[0.4444444444444444,\"#bd3786\"],[0.5555555555555556,\"#d8576b\"],[0.6666666666666666,\"#ed7953\"],[0.7777777777777778,\"#fb9f3a\"],[0.8888888888888888,\"#fdca26\"],[1.0,\"#f0f921\"]],\"type\":\"heatmap\"}],\"heatmapgl\":[{\"colorbar\":{\"outlinewidth\":0,\"ticks\":\"\"},\"colorscale\":[[0.0,\"#0d0887\"],[0.1111111111111111,\"#46039f\"],[0.2222222222222222,\"#7201a8\"],[0.3333333333333333,\"#9c179e\"],[0.4444444444444444,\"#bd3786\"],[0.5555555555555556,\"#d8576b\"],[0.6666666666666666,\"#ed7953\"],[0.7777777777777778,\"#fb9f3a\"],[0.8888888888888888,\"#fdca26\"],[1.0,\"#f0f921\"]],\"type\":\"heatmapgl\"}],\"histogram\":[{\"marker\":{\"pattern\":{\"fillmode\":\"overlay\",\"size\":10,\"solidity\":0.2}},\"type\":\"histogram\"}],\"histogram2d\":[{\"colorbar\":{\"outlinewidth\":0,\"ticks\":\"\"},\"colorscale\":[[0.0,\"#0d0887\"],[0.1111111111111111,\"#46039f\"],[0.2222222222222222,\"#7201a8\"],[0.3333333333333333,\"#9c179e\"],[0.4444444444444444,\"#bd3786\"],[0.5555555555555556,\"#d8576b\"],[0.6666666666666666,\"#ed7953\"],[0.7777777777777778,\"#fb9f3a\"],[0.8888888888888888,\"#fdca26\"],[1.0,\"#f0f921\"]],\"type\":\"histogram2d\"}],\"histogram2dcontour\":[{\"colorbar\":{\"outlinewidth\":0,\"ticks\":\"\"},\"colorscale\":[[0.0,\"#0d0887\"],[0.1111111111111111,\"#46039f\"],[0.2222222222222222,\"#7201a8\"],[0.3333333333333333,\"#9c179e\"],[0.4444444444444444,\"#bd3786\"],[0.5555555555555556,\"#d8576b\"],[0.6666666666666666,\"#ed7953\"],[0.7777777777777778,\"#fb9f3a\"],[0.8888888888888888,\"#fdca26\"],[1.0,\"#f0f921\"]],\"type\":\"histogram2dcontour\"}],\"mesh3d\":[{\"colorbar\":{\"outlinewidth\":0,\"ticks\":\"\"},\"type\":\"mesh3d\"}],\"parcoords\":[{\"line\":{\"colorbar\":{\"outlinewidth\":0,\"ticks\":\"\"}},\"type\":\"parcoords\"}],\"pie\":[{\"automargin\":true,\"type\":\"pie\"}],\"scatter\":[{\"marker\":{\"colorbar\":{\"outlinewidth\":0,\"ticks\":\"\"}},\"type\":\"scatter\"}],\"scatter3d\":[{\"line\":{\"colorbar\":{\"outlinewidth\":0,\"ticks\":\"\"}},\"marker\":{\"colorbar\":{\"outlinewidth\":0,\"ticks\":\"\"}},\"type\":\"scatter3d\"}],\"scattercarpet\":[{\"marker\":{\"colorbar\":{\"outlinewidth\":0,\"ticks\":\"\"}},\"type\":\"scattercarpet\"}],\"scattergeo\":[{\"marker\":{\"colorbar\":{\"outlinewidth\":0,\"ticks\":\"\"}},\"type\":\"scattergeo\"}],\"scattergl\":[{\"marker\":{\"colorbar\":{\"outlinewidth\":0,\"ticks\":\"\"}},\"type\":\"scattergl\"}],\"scattermapbox\":[{\"marker\":{\"colorbar\":{\"outlinewidth\":0,\"ticks\":\"\"}},\"type\":\"scattermapbox\"}],\"scatterpolar\":[{\"marker\":{\"colorbar\":{\"outlinewidth\":0,\"ticks\":\"\"}},\"type\":\"scatterpolar\"}],\"scatterpolargl\":[{\"marker\":{\"colorbar\":{\"outlinewidth\":0,\"ticks\":\"\"}},\"type\":\"scatterpolargl\"}],\"scatterternary\":[{\"marker\":{\"colorbar\":{\"outlinewidth\":0,\"ticks\":\"\"}},\"type\":\"scatterternary\"}],\"surface\":[{\"colorbar\":{\"outlinewidth\":0,\"ticks\":\"\"},\"colorscale\":[[0.0,\"#0d0887\"],[0.1111111111111111,\"#46039f\"],[0.2222222222222222,\"#7201a8\"],[0.3333333333333333,\"#9c179e\"],[0.4444444444444444,\"#bd3786\"],[0.5555555555555556,\"#d8576b\"],[0.6666666666666666,\"#ed7953\"],[0.7777777777777778,\"#fb9f3a\"],[0.8888888888888888,\"#fdca26\"],[1.0,\"#f0f921\"]],\"type\":\"surface\"}],\"table\":[{\"cells\":{\"fill\":{\"color\":\"#EBF0F8\"},\"line\":{\"color\":\"white\"}},\"header\":{\"fill\":{\"color\":\"#C8D4E3\"},\"line\":{\"color\":\"white\"}},\"type\":\"table\"}]},\"layout\":{\"annotationdefaults\":{\"arrowcolor\":\"#2a3f5f\",\"arrowhead\":0,\"arrowwidth\":1},\"autotypenumbers\":\"strict\",\"coloraxis\":{\"colorbar\":{\"outlinewidth\":0,\"ticks\":\"\"}},\"colorscale\":{\"diverging\":[[0,\"#8e0152\"],[0.1,\"#c51b7d\"],[0.2,\"#de77ae\"],[0.3,\"#f1b6da\"],[0.4,\"#fde0ef\"],[0.5,\"#f7f7f7\"],[0.6,\"#e6f5d0\"],[0.7,\"#b8e186\"],[0.8,\"#7fbc41\"],[0.9,\"#4d9221\"],[1,\"#276419\"]],\"sequential\":[[0.0,\"#0d0887\"],[0.1111111111111111,\"#46039f\"],[0.2222222222222222,\"#7201a8\"],[0.3333333333333333,\"#9c179e\"],[0.4444444444444444,\"#bd3786\"],[0.5555555555555556,\"#d8576b\"],[0.6666666666666666,\"#ed7953\"],[0.7777777777777778,\"#fb9f3a\"],[0.8888888888888888,\"#fdca26\"],[1.0,\"#f0f921\"]],\"sequentialminus\":[[0.0,\"#0d0887\"],[0.1111111111111111,\"#46039f\"],[0.2222222222222222,\"#7201a8\"],[0.3333333333333333,\"#9c179e\"],[0.4444444444444444,\"#bd3786\"],[0.5555555555555556,\"#d8576b\"],[0.6666666666666666,\"#ed7953\"],[0.7777777777777778,\"#fb9f3a\"],[0.8888888888888888,\"#fdca26\"],[1.0,\"#f0f921\"]]},\"colorway\":[\"#636efa\",\"#EF553B\",\"#00cc96\",\"#ab63fa\",\"#FFA15A\",\"#19d3f3\",\"#FF6692\",\"#B6E880\",\"#FF97FF\",\"#FECB52\"],\"font\":{\"color\":\"#2a3f5f\"},\"geo\":{\"bgcolor\":\"white\",\"lakecolor\":\"white\",\"landcolor\":\"#E5ECF6\",\"showlakes\":true,\"showland\":true,\"subunitcolor\":\"white\"},\"hoverlabel\":{\"align\":\"left\"},\"hovermode\":\"closest\",\"mapbox\":{\"style\":\"light\"},\"paper_bgcolor\":\"white\",\"plot_bgcolor\":\"#E5ECF6\",\"polar\":{\"angularaxis\":{\"gridcolor\":\"white\",\"linecolor\":\"white\",\"ticks\":\"\"},\"bgcolor\":\"#E5ECF6\",\"radialaxis\":{\"gridcolor\":\"white\",\"linecolor\":\"white\",\"ticks\":\"\"}},\"scene\":{\"xaxis\":{\"backgroundcolor\":\"#E5ECF6\",\"gridcolor\":\"white\",\"gridwidth\":2,\"linecolor\":\"white\",\"showbackground\":true,\"ticks\":\"\",\"zerolinecolor\":\"white\"},\"yaxis\":{\"backgroundcolor\":\"#E5ECF6\",\"gridcolor\":\"white\",\"gridwidth\":2,\"linecolor\":\"white\",\"showbackground\":true,\"ticks\":\"\",\"zerolinecolor\":\"white\"},\"zaxis\":{\"backgroundcolor\":\"#E5ECF6\",\"gridcolor\":\"white\",\"gridwidth\":2,\"linecolor\":\"white\",\"showbackground\":true,\"ticks\":\"\",\"zerolinecolor\":\"white\"}},\"shapedefaults\":{\"line\":{\"color\":\"#2a3f5f\"}},\"ternary\":{\"aaxis\":{\"gridcolor\":\"white\",\"linecolor\":\"white\",\"ticks\":\"\"},\"baxis\":{\"gridcolor\":\"white\",\"linecolor\":\"white\",\"ticks\":\"\"},\"bgcolor\":\"#E5ECF6\",\"caxis\":{\"gridcolor\":\"white\",\"linecolor\":\"white\",\"ticks\":\"\"}},\"title\":{\"x\":0.05},\"xaxis\":{\"automargin\":true,\"gridcolor\":\"white\",\"linecolor\":\"white\",\"ticks\":\"\",\"title\":{\"standoff\":15},\"zerolinecolor\":\"white\",\"zerolinewidth\":2},\"yaxis\":{\"automargin\":true,\"gridcolor\":\"white\",\"linecolor\":\"white\",\"ticks\":\"\",\"title\":{\"standoff\":15},\"zerolinecolor\":\"white\",\"zerolinewidth\":2}}},\"xaxis\":{\"anchor\":\"y\",\"domain\":[0.0,1.0],\"title\":{\"text\":\"Flight Name\"}},\"yaxis\":{\"anchor\":\"x\",\"domain\":[0.0,1.0],\"title\":{\"text\":\"Total Travel Distance by Flights\"}},\"legend\":{\"title\":{\"text\":\"variable\"},\"tracegroupgap\":0},\"margin\":{\"t\":60},\"barmode\":\"relative\",\"title\":{\"text\":\"Total Travel Distance (km)\"}},                        {\"responsive\": true}                    ).then(function(){\n",
              "                            \n",
              "var gd = document.getElementById('e862b241-efd9-4f6a-be60-a14dff922e44');\n",
              "var x = new MutationObserver(function (mutations, observer) {{\n",
              "        var display = window.getComputedStyle(gd).display;\n",
              "        if (!display || display === 'none') {{\n",
              "            console.log([gd, 'removed!']);\n",
              "            Plotly.purge(gd);\n",
              "            observer.disconnect();\n",
              "        }}\n",
              "}});\n",
              "\n",
              "// Listen for the removal of the full notebook cells\n",
              "var notebookContainer = gd.closest('#notebook-container');\n",
              "if (notebookContainer) {{\n",
              "    x.observe(notebookContainer, {childList: true});\n",
              "}}\n",
              "\n",
              "// Listen for the clearing of the current output cell\n",
              "var outputEl = gd.closest('.output');\n",
              "if (outputEl) {{\n",
              "    x.observe(outputEl, {childList: true});\n",
              "}}\n",
              "\n",
              "                        })                };                            </script>        </div>\n",
              "</body>\n",
              "</html>"
            ]
          },
          "metadata": {}
        }
      ],
      "source": [
        "%%time\n",
        "\n",
        "flights_distance = kdf.groupby('OP_CARRIER').sum()['DISTANCE']\n",
        "\n",
        "fig = flights_distance.plot.bar()\n",
        "\n",
        "fig.update_layout(title_text='Total Travel Distance (km)',xaxis_title='Flight Name', yaxis_title='Total Travel Distance by Flights')"
      ]
    },
    {
      "cell_type": "markdown",
      "metadata": {
        "id": "ecVIvEiV8o4H"
      },
      "source": [
        "**Visualisation with Vaex**"
      ]
    },
    {
      "cell_type": "code",
      "execution_count": null,
      "metadata": {
        "colab": {
          "base_uri": "https://localhost:8080/",
          "height": 334
        },
        "id": "sOsxbgCn-y8P",
        "outputId": "7ec26a8c-4593-47a0-bb42-4c8f6a57c386"
      },
      "outputs": [
        {
          "name": "stdout",
          "output_type": "stream",
          "text": [
            "CPU times: user 5 µs, sys: 0 ns, total: 5 µs\n",
            "Wall time: 9.3 µs\n"
          ]
        },
        {
          "data": {
            "image/png": "[encoded data removed]",
            "text/plain": [
              "<Figure size 432x288 with 1 Axes>"
            ]
          },
          "metadata": {},
          "output_type": "display_data"
        }
      ],
      "source": [
        "%time\n",
        "import matplotlib.pyplot as plt\n",
        "\n",
        "carrier_distance = vdf.groupby('OP_CARRIER').agg({'DISTANCE': 'sum'})\n",
        "pandas_vdf = carrier_distance.to_pandas_df()\n",
        "pandas_vdf.plot.bar(x='OP_CARRIER', y='DISTANCE', color='orange')\n",
        "plt.show()\n",
        "\n"
      ]
    },
    {
      "cell_type": "markdown",
      "metadata": {
        "id": "EqI9veKY8sCh"
      },
      "source": [
        "**Visualisation with Pyspark**"
      ]
    },
    {
      "cell_type": "code",
      "execution_count": null,
      "metadata": {
        "colab": {
          "base_uri": "https://localhost:8080/",
          "height": 656
        },
        "id": "6gRVPlII-yWJ",
        "outputId": "e9238cf5-2c90-47b6-9c72-eb8801b12fce"
      },
      "outputs": [
        {
          "output_type": "display_data",
          "data": {
            "text/plain": [
              "<Figure size 1080x720 with 1 Axes>"
            ],
            "image/png": "[encoded data removed]"
          },
          "metadata": {
            "needs_background": "light"
          }
        },
        {
          "output_type": "stream",
          "name": "stdout",
          "text": [
            "CPU times: user 838 ms, sys: 153 ms, total: 991 ms\n",
            "Wall time: 1min 23s\n"
          ]
        }
      ],
      "source": [
        "\n",
        "%%time\n",
        "\n",
        "import seaborn as sns\n",
        "\n",
        "pyspark_chart1 = pdf.groupby(\"OP_CARRIER\").sum(\"DISTANCE\")\n",
        "pyspark_chart1 = pyspark_chart1.sort(col(\"OP_CARRIER\").asc())\n",
        "pyspark_chart1 = pyspark_chart1.toPandas()\n",
        "\n",
        "\n",
        "plt.figure(figsize=(15,10))\n",
        "plt.title(\"Total Travel Distance by Flights\")\n",
        "sns.barplot(x=pyspark_chart1['OP_CARRIER'], y=pyspark_chart1['sum(DISTANCE)'])\n",
        "plt.xlabel('Flight Name')\n",
        "plt.ylabel('Total Travel Distance (km)')\n",
        "plt.show()"
      ]
    },
    {
      "cell_type": "markdown",
      "metadata": {
        "id": "K_oMD2homhw9"
      },
      "source": [
        "This bar chart shows the distribution of flight distances by carrier. From the bar chart above, VX airline has the highest total flight distance among all airlines.\n",
        "\n",
        "***Question 4: What is the average departure delay for each origin airport ?***"
      ]
    },
    {
      "cell_type": "markdown",
      "metadata": {
        "id": "bgsSq_zl9HDB"
      },
      "source": [
        "**Visualisation with Koalas**"
      ]
    },
    {
      "cell_type": "code",
      "execution_count": null,
      "metadata": {
        "id": "UeezrJgl-wR0",
        "colab": {
          "base_uri": "https://localhost:8080/",
          "height": 577
        },
        "outputId": "d3b34f82-d941-4710-b0c9-9679a1e4fc37"
      },
      "outputs": [
        {
          "output_type": "stream",
          "name": "stdout",
          "text": [
            "CPU times: user 5 µs, sys: 0 ns, total: 5 µs\n",
            "Wall time: 9.78 µs\n"
          ]
        },
        {
          "output_type": "display_data",
          "data": {
            "text/html": [
              "<html>\n",
              "<head><meta charset=\"utf-8\" /></head>\n",
              "<body>\n",
              "    <div>            <script src=\"https://cdnjs.cloudflare.com/ajax/libs/mathjax/2.7.5/MathJax.js?config=TeX-AMS-MML_SVG\"></script><script type=\"text/javascript\">if (window.MathJax) {MathJax.Hub.Config({SVG: {font: \"STIX-Web\"}});}</script>                <script type=\"text/javascript\">window.PlotlyConfig = {MathJaxConfig: 'local'};</script>\n",
              "        <script src=\"https://cdn.plot.ly/plotly-2.8.3.min.js\"></script>                <div id=\"0be4330d-ed98-4d2a-97fa-4eddb31680a4\" class=\"plotly-graph-div\" style=\"height:525px; width:100%;\"></div>            <script type=\"text/javascript\">                                    window.PLOTLYENV=window.PLOTLYENV || {};                                    if (document.getElementById(\"0be4330d-ed98-4d2a-97fa-4eddb31680a4\")) {                    Plotly.newPlot(                        \"0be4330d-ed98-4d2a-97fa-4eddb31680a4\",                        [{\"alignmentgroup\":\"True\",\"hovertemplate\":\"variable=DEP_DELAY<br>ORIGIN=%{x}<br>value=%{y}<extra></extra>\",\"legendgroup\":\"DEP_DELAY\",\"marker\":{\"color\":\"#636efa\",\"pattern\":{\"shape\":\"\"}},\"name\":\"DEP_DELAY\",\"offsetgroup\":\"DEP_DELAY\",\"orientation\":\"v\",\"showlegend\":true,\"textposition\":\"auto\",\"x\":[\"BGM\",\"INL\",\"PSE\",\"MSY\",\"PPG\",\"GEG\",\"SNA\",\"BUR\",\"GRB\",\"GTF\",\"IDA\",\"GRR\",\"JLN\",\"PSG\",\"EUG\",\"GSO\",\"PVD\",\"MYR\",\"OAK\",\"MSN\",\"FSM\",\"FAR\",\"MQT\",\"BTM\",\"COD\",\"SCC\",\"ESC\",\"DCA\",\"PIB\",\"MLU\",\"GTR\",\"CID\",\"LWS\",\"WRG\",\"HLN\",\"CIU\",\"IAG\",\"LEX\",\"RDM\",\"JMS\",\"ORF\",\"SCE\",\"KTN\",\"EVV\",\"CWA\",\"CRW\",\"SAV\",\"TRI\",\"CDV\",\"CMH\",\"TYR\",\"CAK\",\"ADK\",\"CHO\",\"MOB\",\"PNS\",\"LIH\",\"IAH\",\"HNL\",\"SHV\",\"ERI\",\"CVG\",\"SJC\",\"BUF\",\"LGA\",\"TLH\",\"CDC\",\"ACT\",\"HPN\",\"RDD\",\"AUS\",\"MLI\",\"GCC\",\"SJU\",\"ATW\",\"DHN\",\"GJT\",\"AVL\",\"LGB\",\"BFL\",\"GFK\",\"SRQ\",\"RNO\",\"EYW\",\"SBN\",\"BJI\",\"TTN\",\"JAC\",\"RST\",\"CHS\",\"RSW\",\"TUL\",\"HRL\",\"AMA\",\"ISP\",\"BOS\",\"MLB\",\"MAF\",\"EWR\",\"LAS\",\"BIS\",\"FAI\",\"JAN\",\"ITO\",\"IMT\",\"XNA\",\"DLH\",\"DEN\",\"EWN\",\"RHI\",\"SGU\",\"ALB\",\"CPR\",\"OME\",\"LNK\",\"BOI\",\"IAD\",\"PSP\",\"SBA\",\"MEI\",\"LAR\",\"HOB\",\"BRO\",\"DRO\",\"BRD\",\"BMI\",\"RKS\",\"SEA\",\"LAN\",\"LRD\",\"PBG\",\"VLD\",\"HYS\",\"MCI\",\"FLG\",\"GRK\",\"BNA\",\"CLT\",\"CLL\",\"TVC\",\"UST\",\"BLI\",\"PSC\",\"ORH\",\"PBI\",\"ABQ\",\"SDF\",\"LAW\",\"ACV\",\"DAL\",\"BDL\",\"MRY\",\"ITH\",\"CLE\",\"PDX\",\"MIA\",\"MFR\",\"TWF\",\"BWI\",\"TPA\",\"CMX\",\"APN\",\"OKC\",\"ROA\",\"SMF\",\"BRW\",\"SPI\",\"OTH\",\"ELM\",\"MBS\",\"PHX\",\"FCA\",\"DVL\",\"ABR\",\"STL\",\"BET\",\"PWM\",\"ABY\",\"DFW\",\"TXK\",\"ABE\",\"MHT\",\"GSP\",\"LSE\",\"MMH\",\"FAY\",\"STX\",\"HDN\",\"GUC\",\"LBB\",\"EKO\",\"CRP\",\"EGE\",\"FSD\",\"SWF\",\"BQK\",\"CSG\",\"SUN\",\"SFO\",\"MEM\",\"SAF\",\"ELP\",\"BHM\",\"ATL\",\"FLL\",\"FNT\",\"PIH\",\"RIC\",\"DAY\",\"PHF\",\"OMA\",\"SJT\",\"LCH\",\"VPS\",\"BPT\",\"LIT\",\"CAE\",\"ECP\",\"ICT\",\"FAT\",\"ORD\",\"AVP\",\"LBE\",\"BTV\",\"MKG\",\"BIL\",\"AEX\",\"SPS\",\"ILM\",\"SMX\",\"PIA\",\"GUM\",\"RDU\",\"BQN\",\"MFE\",\"HIB\",\"MKE\",\"SYR\",\"ISN\",\"HSV\",\"LFT\",\"PIT\",\"TUS\",\"ACY\",\"MTJ\",\"ROW\",\"MDW\",\"AZO\",\"PLN\",\"OAJ\",\"COS\",\"JNU\",\"IND\",\"KOA\",\"EAU\",\"GPT\",\"MGM\",\"DTW\",\"HOU\",\"TYS\",\"CHA\",\"YUM\",\"ADQ\",\"MDT\",\"ONT\",\"FWA\",\"JAX\",\"LAX\",\"MSP\",\"MOT\",\"SIT\",\"BTR\",\"BGR\",\"ROC\",\"MCO\",\"SGF\",\"OTZ\",\"AGS\",\"SAN\",\"BZN\",\"GGG\",\"YAK\",\"ANC\",\"JFK\",\"PAH\",\"DAB\",\"GNV\",\"MSO\",\"PHL\",\"OGG\",\"DSM\",\"SLC\",\"SAT\",\"STT\",\"SBP\",\"RAP\",\"ASE\",\"HYA\",\"ACK\",\"MVY\",\"DLG\",\"GCK\",\"GST\",\"GRI\",\"ABI\",\"AKN\",\"MHK\",\"WYS\",\"EFD\",\"SPN\",\"PGD\",\"IFP\",\"COU\",\"STS\",\"TOL\",\"ALO\",\"SUX\",\"SWO\",\"UIN\",\"CGI\",\"PUB\",\"CKB\",\"PVU\",\"RFD\",\"FLO\",\"OGS\",\"YNG\",\"LBF\",\"LYH\",\"HGR\",\"OGD\",\"CMI\",\"PSM\",\"PIE\",\"SCK\",\"DBQ\",\"USA\",\"SFB\",\"BFF\",\"HVN\",\"AZA\",\"LCK\",\"STC\",\"LBL\",\"BLV\",\"OWB\",\"HTS\",\"LWB\",\"SLN\",\"PGV\",\"SHD\",\"CNY\",\"BKG\",\"HHH\",\"VEL\",\"EAR\",\"PRC\",\"DRT\",\"CYS\",\"ART\"],\"xaxis\":\"x\",\"y\":[10.559832317073171,3.9203444564047363,7.196436332029553,9.246874978334569,35.97506925207756,4.3205332860352375,6.808093868962526,8.539854624400567,6.115026648635749,3.8839115516584064,3.6494639027877054,8.468770438194898,10.102803738317757,-5.420093457943925,10.97036586425654,10.137886219762713,7.64100580270793,9.029606831678876,8.72849550204392,7.458622331021352,8.13922227556409,7.757041410675816,14.8,3.81187624750499,4.367045454545455,-7.159534690486082,12.013100436681222,8.998172889434535,13.02907268170426,9.724592145015105,7.482372881355932,8.94067067927773,-1.8110091743119265,-3.687294889826535,1.7526797895147144,13.88391959798995,12.416666666666666,10.124712930604094,10.942372212354451,5.503260869565217,11.058516722331518,10.5583402951824,-2.3654112434228747,9.010564898663217,6.212688172043011,12.144764897317922,11.055208368144905,10.58806146572104,-6.844308560677328,8.74834167984537,5.38493944181148,10.71081289187108,-0.17,14.446027062773426,8.109009490709798,5.720165534613828,1.1070597159373283,8.116736228301052,2.0526308494122865,8.539075703712337,6.943543356207112,9.65788639687957,7.3349321762516375,8.877582072273215,13.289731287371227,7.0738210456400035,0.9147909967845659,6.132757023772769,14.138392663102534,12.334621578099839,8.964011585354411,9.256581494386372,2.798731053930208,10.5715904186448,6.3201906842784785,11.03651473180559,0.4743491994336129,13.530488230774603,7.895558032160484,5.041322314049586,4.324186991869919,9.511574258213349,8.840296339949067,7.945141264411504,10.608473888599084,7.423674588665448,16.244806456434016,11.41851141711696,11.595573724274034,9.580808279552967,9.196453461359765,5.949174021271781,7.559936189608022,4.817729172223704,10.528575073351194,11.43385484481748,5.663698757187905,6.9316440175743335,14.692246211819509,10.184524626746951,7.48970335866634,-1.184008872756604,7.270230706171683,-0.6789880072285198,8.859398879266429,10.529470616381747,10.449869109947644,9.389536797936534,9.035378835316218,6.32479674796748,1.5776351518143668,7.74007598585091,-0.44859524544612533,-3.5513928914505284,6.336902585531471,6.344503126327931,9.71579482708515,8.664474799172966,9.660919540229886,18.833766233766234,6.5285087719298245,1.7075371549893843,4.24990990990991,6.177887683471602,6.563790365272631,8.531611353056014,3.8892276422764227,6.2775467162219964,7.52317322739858,7.330433407149636,11.565714285714286,8.075808249721293,7.363515901060071,6.96587485109663,2.882147024504084,7.706051873198847,10.070276181129959,9.31487666636134,6.4547210300429185,11.37421209775517,24.77734375,3.2060588739639897,5.863460421908264,15.621515679442508,12.961920186038785,8.125793844650708,9.74874755474975,9.942517662170841,13.881665820213307,12.025675806607888,7.084164552583026,9.025525694366356,11.683022922636104,8.717538583847496,5.395666759701632,12.076874088192916,12.558115955387594,2.393895767348114,9.850818928589428,9.659452307368964,15.767848470131131,12.647513812154696,6.659760971195898,12.253677078168897,7.59742902971975,-5.24110355857657,9.779627601314349,28.29752953813104,7.412259615384615,8.631969239219995,7.753664136347654,4.714584495259342,8.597014925373134,7.632252169940612,9.544921398198035,-6.017777777777778,12.206494446099502,11.99691595990748,11.187579500893198,8.192418426103647,11.210991862247907,5.950487382709301,9.92598324148864,7.029297716501508,25.641196013289036,11.374114810908543,5.418968692449355,10.483678483678483,11.84688995215311,6.841568890378813,1.484659386375455,4.782445542742083,16.842578125,10.065230685601685,17.94656692492653,7.841204908888063,9.943390452876377,8.20294882914137,12.178615810735531,7.961186047426167,10.221383647798742,8.774503722084367,8.630421118793212,9.41644883794076,12.61536551132451,7.151061695368668,-1.319479695431472,11.798497701707836,9.829851448281268,10.510085836909871,6.6223747849514725,7.863196529863196,4.373900971772327,7.1581355821402886,10.445845697329377,6.321710799944545,9.031487513572204,7.453667817630893,6.904506848266891,9.574098312972659,12.068845218359371,11.066950699939136,4.585623003194888,12.162784981257298,6.038987341772152,2.978437904867666,7.122101814516129,6.859724203518783,7.857813795008749,13.14225352112676,10.80304140710883,8.564312267657993,11.346753034419937,15.283464566929133,7.765558981386319,4.9226988382484365,8.06027695393347,9.747934540832539,5.2650398647016186,6.2101449275362315,7.78949995009482,6.749353493118789,7.173751371560938,8.263219626624963,8.467881408276714,6.723766816143498,11.593701431492843,6.467017344327552,10.166832834828847,11.834735576923077,10.723819938035357,-2.077416918429003,8.499174044215836,1.0286415511105658,8.400791687283522,6.909357644346642,11.713272795123771,8.83152020099205,11.182776412776413,10.163152282343228,13.104806090887461,1.098068350668648,-3.0443548387096775,9.548486667238276,8.482206318271892,12.048059484947407,9.121889979456745,10.80700747682496,7.371227912491395,8.41464279383088,-2.214857428714357,11.771871968962172,13.033282031550597,8.98725127663321,12.04981331881654,9.749146881579902,-2.9149347510874817,12.34753632688736,7.754560344724016,6.920947030497592,8.103056768558952,-9.868533459895586,0.11149925552628565,13.031446881948188,9.366917293233083,8.264074524098826,10.884072330938816,5.779985805535841,10.071107226107227,2.7528063578640003,8.063238046073433,5.7343038165635845,7.677437663913571,7.20742841946636,11.00881445570736,7.506040530007795,15.270266819864675,19.717607973421927,22.956880733944953,23.751565762004176,-2.935483870967742,11.156033820138354,-2.3959183673469386,11.855271366188397,8.395039044556729,-2.0476190476190474,9.915577138587972,5.094066570188133,7.0,5.342629482071713,10.537488542621448,7.104395604395604,10.480547550432277,13.899086213746523,10.611759425493716,9.933928571428572,12.673504273504273,3.0836550836550836,12.31803628601921,8.415360501567399,8.343584305408271,17.069351230425056,14.441558441558442,9.977477477477477,12.48502994011976,13.736,63.0,-3.275800711743772,15.691929133858268,25.14179104477612,19.064,5.9523809523809526,24.225589225589225,7.177921552769915,24.29769959404601,5.86282722513089,16.94159836065574,10.670178025913831,0.3631578947368421,10.19869706840391,8.617737591381301,19.755597014925375,15.86111111111111,6.121818181818182,21.202180376610507,27.635514018691588,18.16547619047619,24.2831541218638,21.073134328358208,20.42979242979243,15.97045101088647,3.3173076923076925,17.926470588235293,2.6871287128712873,3.7770700636942673,-7.884422110552764,9.948936170212766,6.725663716814159,5.350877192982456,36.333333333333336],\"yaxis\":\"y\",\"type\":\"bar\"}],                        {\"template\":{\"data\":{\"bar\":[{\"error_x\":{\"color\":\"#2a3f5f\"},\"error_y\":{\"color\":\"#2a3f5f\"},\"marker\":{\"line\":{\"color\":\"#E5ECF6\",\"width\":0.5},\"pattern\":{\"fillmode\":\"overlay\",\"size\":10,\"solidity\":0.2}},\"type\":\"bar\"}],\"barpolar\":[{\"marker\":{\"line\":{\"color\":\"#E5ECF6\",\"width\":0.5},\"pattern\":{\"fillmode\":\"overlay\",\"size\":10,\"solidity\":0.2}},\"type\":\"barpolar\"}],\"carpet\":[{\"aaxis\":{\"endlinecolor\":\"#2a3f5f\",\"gridcolor\":\"white\",\"linecolor\":\"white\",\"minorgridcolor\":\"white\",\"startlinecolor\":\"#2a3f5f\"},\"baxis\":{\"endlinecolor\":\"#2a3f5f\",\"gridcolor\":\"white\",\"linecolor\":\"white\",\"minorgridcolor\":\"white\",\"startlinecolor\":\"#2a3f5f\"},\"type\":\"carpet\"}],\"choropleth\":[{\"colorbar\":{\"outlinewidth\":0,\"ticks\":\"\"},\"type\":\"choropleth\"}],\"contour\":[{\"colorbar\":{\"outlinewidth\":0,\"ticks\":\"\"},\"colorscale\":[[0.0,\"#0d0887\"],[0.1111111111111111,\"#46039f\"],[0.2222222222222222,\"#7201a8\"],[0.3333333333333333,\"#9c179e\"],[0.4444444444444444,\"#bd3786\"],[0.5555555555555556,\"#d8576b\"],[0.6666666666666666,\"#ed7953\"],[0.7777777777777778,\"#fb9f3a\"],[0.8888888888888888,\"#fdca26\"],[1.0,\"#f0f921\"]],\"type\":\"contour\"}],\"contourcarpet\":[{\"colorbar\":{\"outlinewidth\":0,\"ticks\":\"\"},\"type\":\"contourcarpet\"}],\"heatmap\":[{\"colorbar\":{\"outlinewidth\":0,\"ticks\":\"\"},\"colorscale\":[[0.0,\"#0d0887\"],[0.1111111111111111,\"#46039f\"],[0.2222222222222222,\"#7201a8\"],[0.3333333333333333,\"#9c179e\"],[0.4444444444444444,\"#bd3786\"],[0.5555555555555556,\"#d8576b\"],[0.6666666666666666,\"#ed7953\"],[0.7777777777777778,\"#fb9f3a\"],[0.8888888888888888,\"#fdca26\"],[1.0,\"#f0f921\"]],\"type\":\"heatmap\"}],\"heatmapgl\":[{\"colorbar\":{\"outlinewidth\":0,\"ticks\":\"\"},\"colorscale\":[[0.0,\"#0d0887\"],[0.1111111111111111,\"#46039f\"],[0.2222222222222222,\"#7201a8\"],[0.3333333333333333,\"#9c179e\"],[0.4444444444444444,\"#bd3786\"],[0.5555555555555556,\"#d8576b\"],[0.6666666666666666,\"#ed7953\"],[0.7777777777777778,\"#fb9f3a\"],[0.8888888888888888,\"#fdca26\"],[1.0,\"#f0f921\"]],\"type\":\"heatmapgl\"}],\"histogram\":[{\"marker\":{\"pattern\":{\"fillmode\":\"overlay\",\"size\":10,\"solidity\":0.2}},\"type\":\"histogram\"}],\"histogram2d\":[{\"colorbar\":{\"outlinewidth\":0,\"ticks\":\"\"},\"colorscale\":[[0.0,\"#0d0887\"],[0.1111111111111111,\"#46039f\"],[0.2222222222222222,\"#7201a8\"],[0.3333333333333333,\"#9c179e\"],[0.4444444444444444,\"#bd3786\"],[0.5555555555555556,\"#d8576b\"],[0.6666666666666666,\"#ed7953\"],[0.7777777777777778,\"#fb9f3a\"],[0.8888888888888888,\"#fdca26\"],[1.0,\"#f0f921\"]],\"type\":\"histogram2d\"}],\"histogram2dcontour\":[{\"colorbar\":{\"outlinewidth\":0,\"ticks\":\"\"},\"colorscale\":[[0.0,\"#0d0887\"],[0.1111111111111111,\"#46039f\"],[0.2222222222222222,\"#7201a8\"],[0.3333333333333333,\"#9c179e\"],[0.4444444444444444,\"#bd3786\"],[0.5555555555555556,\"#d8576b\"],[0.6666666666666666,\"#ed7953\"],[0.7777777777777778,\"#fb9f3a\"],[0.8888888888888888,\"#fdca26\"],[1.0,\"#f0f921\"]],\"type\":\"histogram2dcontour\"}],\"mesh3d\":[{\"colorbar\":{\"outlinewidth\":0,\"ticks\":\"\"},\"type\":\"mesh3d\"}],\"parcoords\":[{\"line\":{\"colorbar\":{\"outlinewidth\":0,\"ticks\":\"\"}},\"type\":\"parcoords\"}],\"pie\":[{\"automargin\":true,\"type\":\"pie\"}],\"scatter\":[{\"marker\":{\"colorbar\":{\"outlinewidth\":0,\"ticks\":\"\"}},\"type\":\"scatter\"}],\"scatter3d\":[{\"line\":{\"colorbar\":{\"outlinewidth\":0,\"ticks\":\"\"}},\"marker\":{\"colorbar\":{\"outlinewidth\":0,\"ticks\":\"\"}},\"type\":\"scatter3d\"}],\"scattercarpet\":[{\"marker\":{\"colorbar\":{\"outlinewidth\":0,\"ticks\":\"\"}},\"type\":\"scattercarpet\"}],\"scattergeo\":[{\"marker\":{\"colorbar\":{\"outlinewidth\":0,\"ticks\":\"\"}},\"type\":\"scattergeo\"}],\"scattergl\":[{\"marker\":{\"colorbar\":{\"outlinewidth\":0,\"ticks\":\"\"}},\"type\":\"scattergl\"}],\"scattermapbox\":[{\"marker\":{\"colorbar\":{\"outlinewidth\":0,\"ticks\":\"\"}},\"type\":\"scattermapbox\"}],\"scatterpolar\":[{\"marker\":{\"colorbar\":{\"outlinewidth\":0,\"ticks\":\"\"}},\"type\":\"scatterpolar\"}],\"scatterpolargl\":[{\"marker\":{\"colorbar\":{\"outlinewidth\":0,\"ticks\":\"\"}},\"type\":\"scatterpolargl\"}],\"scatterternary\":[{\"marker\":{\"colorbar\":{\"outlinewidth\":0,\"ticks\":\"\"}},\"type\":\"scatterternary\"}],\"surface\":[{\"colorbar\":{\"outlinewidth\":0,\"ticks\":\"\"},\"colorscale\":[[0.0,\"#0d0887\"],[0.1111111111111111,\"#46039f\"],[0.2222222222222222,\"#7201a8\"],[0.3333333333333333,\"#9c179e\"],[0.4444444444444444,\"#bd3786\"],[0.5555555555555556,\"#d8576b\"],[0.6666666666666666,\"#ed7953\"],[0.7777777777777778,\"#fb9f3a\"],[0.8888888888888888,\"#fdca26\"],[1.0,\"#f0f921\"]],\"type\":\"surface\"}],\"table\":[{\"cells\":{\"fill\":{\"color\":\"#EBF0F8\"},\"line\":{\"color\":\"white\"}},\"header\":{\"fill\":{\"color\":\"#C8D4E3\"},\"line\":{\"color\":\"white\"}},\"type\":\"table\"}]},\"layout\":{\"annotationdefaults\":{\"arrowcolor\":\"#2a3f5f\",\"arrowhead\":0,\"arrowwidth\":1},\"autotypenumbers\":\"strict\",\"coloraxis\":{\"colorbar\":{\"outlinewidth\":0,\"ticks\":\"\"}},\"colorscale\":{\"diverging\":[[0,\"#8e0152\"],[0.1,\"#c51b7d\"],[0.2,\"#de77ae\"],[0.3,\"#f1b6da\"],[0.4,\"#fde0ef\"],[0.5,\"#f7f7f7\"],[0.6,\"#e6f5d0\"],[0.7,\"#b8e186\"],[0.8,\"#7fbc41\"],[0.9,\"#4d9221\"],[1,\"#276419\"]],\"sequential\":[[0.0,\"#0d0887\"],[0.1111111111111111,\"#46039f\"],[0.2222222222222222,\"#7201a8\"],[0.3333333333333333,\"#9c179e\"],[0.4444444444444444,\"#bd3786\"],[0.5555555555555556,\"#d8576b\"],[0.6666666666666666,\"#ed7953\"],[0.7777777777777778,\"#fb9f3a\"],[0.8888888888888888,\"#fdca26\"],[1.0,\"#f0f921\"]],\"sequentialminus\":[[0.0,\"#0d0887\"],[0.1111111111111111,\"#46039f\"],[0.2222222222222222,\"#7201a8\"],[0.3333333333333333,\"#9c179e\"],[0.4444444444444444,\"#bd3786\"],[0.5555555555555556,\"#d8576b\"],[0.6666666666666666,\"#ed7953\"],[0.7777777777777778,\"#fb9f3a\"],[0.8888888888888888,\"#fdca26\"],[1.0,\"#f0f921\"]]},\"colorway\":[\"#636efa\",\"#EF553B\",\"#00cc96\",\"#ab63fa\",\"#FFA15A\",\"#19d3f3\",\"#FF6692\",\"#B6E880\",\"#FF97FF\",\"#FECB52\"],\"font\":{\"color\":\"#2a3f5f\"},\"geo\":{\"bgcolor\":\"white\",\"lakecolor\":\"white\",\"landcolor\":\"#E5ECF6\",\"showlakes\":true,\"showland\":true,\"subunitcolor\":\"white\"},\"hoverlabel\":{\"align\":\"left\"},\"hovermode\":\"closest\",\"mapbox\":{\"style\":\"light\"},\"paper_bgcolor\":\"white\",\"plot_bgcolor\":\"#E5ECF6\",\"polar\":{\"angularaxis\":{\"gridcolor\":\"white\",\"linecolor\":\"white\",\"ticks\":\"\"},\"bgcolor\":\"#E5ECF6\",\"radialaxis\":{\"gridcolor\":\"white\",\"linecolor\":\"white\",\"ticks\":\"\"}},\"scene\":{\"xaxis\":{\"backgroundcolor\":\"#E5ECF6\",\"gridcolor\":\"white\",\"gridwidth\":2,\"linecolor\":\"white\",\"showbackground\":true,\"ticks\":\"\",\"zerolinecolor\":\"white\"},\"yaxis\":{\"backgroundcolor\":\"#E5ECF6\",\"gridcolor\":\"white\",\"gridwidth\":2,\"linecolor\":\"white\",\"showbackground\":true,\"ticks\":\"\",\"zerolinecolor\":\"white\"},\"zaxis\":{\"backgroundcolor\":\"#E5ECF6\",\"gridcolor\":\"white\",\"gridwidth\":2,\"linecolor\":\"white\",\"showbackground\":true,\"ticks\":\"\",\"zerolinecolor\":\"white\"}},\"shapedefaults\":{\"line\":{\"color\":\"#2a3f5f\"}},\"ternary\":{\"aaxis\":{\"gridcolor\":\"white\",\"linecolor\":\"white\",\"ticks\":\"\"},\"baxis\":{\"gridcolor\":\"white\",\"linecolor\":\"white\",\"ticks\":\"\"},\"bgcolor\":\"#E5ECF6\",\"caxis\":{\"gridcolor\":\"white\",\"linecolor\":\"white\",\"ticks\":\"\"}},\"title\":{\"x\":0.05},\"xaxis\":{\"automargin\":true,\"gridcolor\":\"white\",\"linecolor\":\"white\",\"ticks\":\"\",\"title\":{\"standoff\":15},\"zerolinecolor\":\"white\",\"zerolinewidth\":2},\"yaxis\":{\"automargin\":true,\"gridcolor\":\"white\",\"linecolor\":\"white\",\"ticks\":\"\",\"title\":{\"standoff\":15},\"zerolinecolor\":\"white\",\"zerolinewidth\":2}}},\"xaxis\":{\"anchor\":\"y\",\"domain\":[0.0,1.0],\"title\":{\"text\":\"ORIGIN\"}},\"yaxis\":{\"anchor\":\"x\",\"domain\":[0.0,1.0],\"title\":{\"text\":\"value\"}},\"legend\":{\"title\":{\"text\":\"variable\"},\"tracegroupgap\":0},\"margin\":{\"t\":60},\"barmode\":\"relative\"},                        {\"responsive\": true}                    ).then(function(){\n",
              "                            \n",
              "var gd = document.getElementById('0be4330d-ed98-4d2a-97fa-4eddb31680a4');\n",
              "var x = new MutationObserver(function (mutations, observer) {{\n",
              "        var display = window.getComputedStyle(gd).display;\n",
              "        if (!display || display === 'none') {{\n",
              "            console.log([gd, 'removed!']);\n",
              "            Plotly.purge(gd);\n",
              "            observer.disconnect();\n",
              "        }}\n",
              "}});\n",
              "\n",
              "// Listen for the removal of the full notebook cells\n",
              "var notebookContainer = gd.closest('#notebook-container');\n",
              "if (notebookContainer) {{\n",
              "    x.observe(notebookContainer, {childList: true});\n",
              "}}\n",
              "\n",
              "// Listen for the clearing of the current output cell\n",
              "var outputEl = gd.closest('.output');\n",
              "if (outputEl) {{\n",
              "    x.observe(outputEl, {childList: true});\n",
              "}}\n",
              "\n",
              "                        })                };                            </script>        </div>\n",
              "</body>\n",
              "</html>"
            ]
          },
          "metadata": {}
        }
      ],
      "source": [
        "%time\n",
        "kdf.groupby(['ORIGIN'])['DEP_DELAY'].mean().plot(kind='bar')"
      ]
    },
    {
      "cell_type": "markdown",
      "metadata": {
        "id": "NEupAaVVgT18"
      },
      "source": [
        "**Visualisation with Vaex**"
      ]
    },
    {
      "cell_type": "code",
      "execution_count": null,
      "metadata": {
        "id": "AnaihIOa-xQb",
        "colab": {
          "base_uri": "https://localhost:8080/",
          "height": 673
        },
        "outputId": "b56b10fd-012e-4f67-bd93-dc423f32aa79"
      },
      "outputs": [
        {
          "output_type": "stream",
          "name": "stdout",
          "text": [
            "CPU times: user 4 µs, sys: 0 ns, total: 4 µs\n",
            "Wall time: 8.34 µs\n"
          ]
        },
        {
          "output_type": "display_data",
          "data": {
            "text/plain": [
              "<Figure size 2160x720 with 1 Axes>"
            ],
            "image/png": "[encoded data removed]"
          },
          "metadata": {
            "needs_background": "light"
          }
        }
      ],
      "source": [
        "%time\n",
        "flights_avg_delay = vdf.groupby('ORIGIN').agg({'DEP_DELAY': 'mean'})\n",
        "pandas_avg_delay = flights_avg_delay.to_pandas_df()\n",
        "pandas_avg_delay.plot.bar(x='ORIGIN', y='DEP_DELAY', color='red',figsize=(30,10))\n",
        "\n",
        "plt.xlabel(\"Origin airport\")\n",
        "plt.ylabel(\"Avg Departure Delays\")\n",
        "plt.title(\"Average departure delay for each origin airport\")\n",
        "plt.show()"
      ]
    },
    {
      "cell_type": "markdown",
      "metadata": {
        "id": "bMdWqagBmwDA"
      },
      "source": [
        "\n",
        "**Visualisation using Pyspark**\n",
        "\n"
      ]
    },
    {
      "cell_type": "code",
      "source": [
        "from pyspark.sql.functions import mean\n",
        "\n",
        "flights_avg_delay = pdf.groupBy(\"ORIGIN\").agg(mean(\"DEP_DELAY\").alias(\"Avg_Dep_Delay\"))\n",
        "\n",
        "plt.figure(figsize=(30, 10))\n",
        "plt.bar(flights_avg_delay.toPandas()['ORIGIN'], flights_avg_delay.toPandas()['Avg_Dep_Delay'])\n",
        "plt.xlabel(\"Origin airport\")\n",
        "plt.ylabel(\"Avg Departure Delays\")\n",
        "plt.title(\"Average departure delay for each origin airport\")\n",
        "plt.xticks(rotation=90)\n",
        "plt.show()"
      ],
      "metadata": {
        "colab": {
          "base_uri": "https://localhost:8080/",
          "height": 638
        },
        "id": "Jynnnre08WcE",
        "outputId": "fc685ae0-dbab-4b79-bbe9-005f184607e7"
      },
      "execution_count": null,
      "outputs": [
        {
          "output_type": "display_data",
          "data": {
            "text/plain": [
              "<Figure size 2160x720 with 1 Axes>"
            ],
            "image/png": "[encoded data removed]"
          },
          "metadata": {
            "needs_background": "light"
          }
        }
      ]
    },
    {
      "cell_type": "code",
      "execution_count": null,
      "metadata": {
        "id": "ldhwSHJAClfU",
        "colab": {
          "base_uri": "https://localhost:8080/"
        },
        "outputId": "1b9154eb-a113-4d71-d7ec-fab5a21dc4ca"
      },
      "outputs": [
        {
          "output_type": "stream",
          "name": "stdout",
          "text": [
            "CPU times: user 4 µs, sys: 0 ns, total: 4 µs\n",
            "Wall time: 8.82 µs\n",
            "+------+-------------------+\n",
            "|ORIGIN|Avg Departure Delay|\n",
            "+------+-------------------+\n",
            "|   YAK| -9.868533459895586|\n",
            "|   EAR| -7.884422110552764|\n",
            "|   SCC| -7.159534690486082|\n",
            "|   CDV| -6.844308560677328|\n",
            "|   BET| -6.017777777777778|\n",
            "|   PSG| -5.420093457943925|\n",
            "|   BRW|  -5.24110355857657|\n",
            "|   WRG| -3.687294889826535|\n",
            "|   OME|-3.5513928914505284|\n",
            "|   LBF| -3.275800711743772|\n",
            "|   ADQ|-3.0443548387096775|\n",
            "|   DLG| -2.935483870967742|\n",
            "|   OTZ|-2.9149347510874817|\n",
            "|   GST|-2.3959183673469386|\n",
            "|   KTN|-2.3654112434228747|\n",
            "|   SIT| -2.214857428714357|\n",
            "|   JNU| -2.077416918429003|\n",
            "|   AKN|-2.0476190476190474|\n",
            "|   LWS|-1.8110091743119265|\n",
            "|   PIH| -1.319479695431472|\n",
            "+------+-------------------+\n",
            "only showing top 20 rows\n",
            "\n"
          ]
        }
      ],
      "source": [
        "%time\n",
        "import pyspark.sql.functions as F\n",
        "pdf.groupBy(\"ORIGIN\").agg(F.avg(\"DEP_DELAY\").alias(\"Avg Departure Delay\")).sort(\"Avg Departure Delay\").show()"
      ]
    },
    {
      "cell_type": "markdown",
      "metadata": {
        "id": "PkkzzYKL9JOt"
      },
      "source": [
        "From the bar chart above, we can see that some of the bar shows positive values and some are negative values. Positive values stand for the departure delay of the flight at the responding airport. While negative values means the time that the flight departs early. In conclusion, YNG airport has the highest departure delay and YAK airport has the lowest departure delay, in other words, YAK airport has the most earliest departure time than the original scheduled departure time."
      ]
    },
    {
      "cell_type": "markdown",
      "metadata": {
        "id": "NXNLDFbA9ckx"
      },
      "source": [
        "***Question 5: What is the average arrival delay for every destination airport?***"
      ]
    },
    {
      "cell_type": "markdown",
      "metadata": {
        "id": "ZaUfvrzQ9W1N"
      },
      "source": [
        "**Visualisation with Koalas**"
      ]
    },
    {
      "cell_type": "code",
      "execution_count": null,
      "metadata": {
        "id": "K81YC-5R-tpk",
        "colab": {
          "base_uri": "https://localhost:8080/",
          "height": 577
        },
        "outputId": "cf01ac56-840b-4f8d-a312-db370f48d4ab"
      },
      "outputs": [
        {
          "output_type": "stream",
          "name": "stdout",
          "text": [
            "CPU times: user 4 µs, sys: 1e+03 ns, total: 5 µs\n",
            "Wall time: 9.3 µs\n"
          ]
        },
        {
          "output_type": "display_data",
          "data": {
            "text/html": [
              "<html>\n",
              "<head><meta charset=\"utf-8\" /></head>\n",
              "<body>\n",
              "    <div>            <script src=\"https://cdnjs.cloudflare.com/ajax/libs/mathjax/2.7.5/MathJax.js?config=TeX-AMS-MML_SVG\"></script><script type=\"text/javascript\">if (window.MathJax) {MathJax.Hub.Config({SVG: {font: \"STIX-Web\"}});}</script>                <script type=\"text/javascript\">window.PlotlyConfig = {MathJaxConfig: 'local'};</script>\n",
              "        <script src=\"https://cdn.plot.ly/plotly-2.8.3.min.js\"></script>                <div id=\"9426a136-1dbd-49ed-a697-bbd7ebb6929f\" class=\"plotly-graph-div\" style=\"height:525px; width:100%;\"></div>            <script type=\"text/javascript\">                                    window.PLOTLYENV=window.PLOTLYENV || {};                                    if (document.getElementById(\"9426a136-1dbd-49ed-a697-bbd7ebb6929f\")) {                    Plotly.newPlot(                        \"9426a136-1dbd-49ed-a697-bbd7ebb6929f\",                        [{\"alignmentgroup\":\"True\",\"hovertemplate\":\"variable=ARR_DELAY<br>DEST=%{x}<br>value=%{y}<extra></extra>\",\"legendgroup\":\"ARR_DELAY\",\"marker\":{\"color\":\"#636efa\",\"pattern\":{\"shape\":\"\"}},\"name\":\"ARR_DELAY\",\"offsetgroup\":\"ARR_DELAY\",\"orientation\":\"v\",\"showlegend\":true,\"textposition\":\"auto\",\"x\":[\"BGM\",\"INL\",\"PSE\",\"MSY\",\"PPG\",\"GEG\",\"SNA\",\"BUR\",\"GRB\",\"GTF\",\"IDA\",\"GRR\",\"JLN\",\"PSG\",\"EUG\",\"GSO\",\"PVD\",\"MYR\",\"OAK\",\"MSN\",\"FAR\",\"FSM\",\"MQT\",\"BTM\",\"COD\",\"SCC\",\"ESC\",\"DCA\",\"PIB\",\"MLU\",\"GTR\",\"CID\",\"LWS\",\"WRG\",\"HLN\",\"CIU\",\"IAG\",\"LEX\",\"RDM\",\"JMS\",\"ORF\",\"SCE\",\"KTN\",\"EVV\",\"CWA\",\"CRW\",\"SAV\",\"TRI\",\"CDV\",\"CMH\",\"CAK\",\"TYR\",\"ADK\",\"CHO\",\"MOB\",\"PNS\",\"LIH\",\"IAH\",\"HNL\",\"SHV\",\"ERI\",\"CVG\",\"SJC\",\"LGA\",\"TLH\",\"BUF\",\"CDC\",\"ACT\",\"HPN\",\"RDD\",\"AUS\",\"MLI\",\"GCC\",\"SJU\",\"ATW\",\"DHN\",\"AVL\",\"GJT\",\"LGB\",\"BFL\",\"GFK\",\"SRQ\",\"RNO\",\"EYW\",\"SBN\",\"BJI\",\"TTN\",\"JAC\",\"RST\",\"CHS\",\"RSW\",\"TUL\",\"HRL\",\"AMA\",\"ISP\",\"BOS\",\"MLB\",\"MAF\",\"EWR\",\"LAS\",\"BIS\",\"JAN\",\"FAI\",\"ITO\",\"IMT\",\"XNA\",\"DLH\",\"DEN\",\"EWN\",\"RHI\",\"SGU\",\"ALB\",\"CPR\",\"OME\",\"LNK\",\"BOI\",\"IAD\",\"PSP\",\"SBA\",\"MEI\",\"HOB\",\"LAR\",\"BRO\",\"DRO\",\"BRD\",\"BMI\",\"RKS\",\"SEA\",\"LAN\",\"LRD\",\"PBG\",\"VLD\",\"HYS\",\"MCI\",\"FLG\",\"GRK\",\"BNA\",\"CLT\",\"TVC\",\"CLL\",\"UST\",\"BLI\",\"PSC\",\"ORH\",\"PBI\",\"ABQ\",\"SDF\",\"LAW\",\"ACV\",\"BDL\",\"DAL\",\"MRY\",\"ITH\",\"CLE\",\"PDX\",\"MIA\",\"MFR\",\"TWF\",\"TPA\",\"BWI\",\"CMX\",\"APN\",\"OKC\",\"ROA\",\"SMF\",\"BRW\",\"SPI\",\"OTH\",\"ELM\",\"MBS\",\"PHX\",\"DVL\",\"FCA\",\"ABR\",\"STL\",\"BET\",\"PWM\",\"ABY\",\"DFW\",\"MHT\",\"TXK\",\"ABE\",\"GSP\",\"MMH\",\"LSE\",\"FAY\",\"STX\",\"HDN\",\"GUC\",\"LBB\",\"EKO\",\"CRP\",\"EGE\",\"FSD\",\"SWF\",\"CSG\",\"BQK\",\"SUN\",\"SFO\",\"MEM\",\"SAF\",\"ELP\",\"BHM\",\"ATL\",\"FLL\",\"FNT\",\"PIH\",\"RIC\",\"DAY\",\"PHF\",\"OMA\",\"SJT\",\"LCH\",\"VPS\",\"BPT\",\"LIT\",\"CAE\",\"ICT\",\"ECP\",\"FAT\",\"ORD\",\"AVP\",\"LBE\",\"BTV\",\"MKG\",\"BIL\",\"AEX\",\"SPS\",\"ILM\",\"SMX\",\"PIA\",\"GUM\",\"RDU\",\"BQN\",\"MFE\",\"HIB\",\"MKE\",\"SYR\",\"ISN\",\"HSV\",\"LFT\",\"PIT\",\"TUS\",\"ACY\",\"MTJ\",\"ROW\",\"AZO\",\"MDW\",\"PLN\",\"OAJ\",\"COS\",\"JNU\",\"IND\",\"KOA\",\"EAU\",\"GPT\",\"MGM\",\"DTW\",\"HOU\",\"TYS\",\"CHA\",\"YUM\",\"ADQ\",\"MDT\",\"ONT\",\"FWA\",\"JAX\",\"LAX\",\"MSP\",\"MOT\",\"SIT\",\"BTR\",\"BGR\",\"MCO\",\"ROC\",\"OTZ\",\"AGS\",\"SGF\",\"SAN\",\"BZN\",\"GGG\",\"YAK\",\"JFK\",\"ANC\",\"PAH\",\"DAB\",\"GNV\",\"MSO\",\"OGG\",\"PHL\",\"DSM\",\"SLC\",\"SAT\",\"STT\",\"SBP\",\"ASE\",\"RAP\",\"HYA\",\"ACK\",\"MVY\",\"DLG\",\"GCK\",\"GST\",\"GRI\",\"ABI\",\"AKN\",\"MHK\",\"WYS\",\"SPN\",\"PGD\",\"IFP\",\"COU\",\"STS\",\"TOL\",\"ALO\",\"SUX\",\"FNL\",\"SWO\",\"UIN\",\"CGI\",\"PUB\",\"CKB\",\"PVU\",\"RFD\",\"FLO\",\"OGS\",\"YNG\",\"LBF\",\"LYH\",\"HGR\",\"OGD\",\"CMI\",\"PSM\",\"PIE\",\"SCK\",\"DBQ\",\"USA\",\"SFB\",\"BFF\",\"HVN\",\"AZA\",\"LCK\",\"STC\",\"LBL\",\"BLV\",\"OWB\",\"HTS\",\"LWB\",\"SLN\",\"PGV\",\"SHD\",\"CNY\",\"BKG\",\"HHH\",\"VEL\",\"EAR\",\"PRC\",\"DRT\",\"CYS\",\"ART\"],\"xaxis\":\"x\",\"y\":[6.47440794499618,-4.565380493033226,13.622289679098005,3.609337562151157,17.225,2.732142857142857,1.5611631337587788,5.063988912064991,5.723261925619177,-2.769450800915332,0.5893878718535469,4.3181125503428754,8.945441493180187,0.675549322113137,3.9334726576105887,6.640143758619248,5.468742911581908,3.0672769669228774,4.252754582077208,3.3092695865070727,3.552166294998407,7.1961113778204515,6.724076704545454,-5.114430379746835,-4.257350133638793,-2.87894952810833,3.561230093355299,4.559603366687137,15.770969362129582,6.278637022716288,6.844716275908937,4.981248656780572,-7.2573664825046045,-0.4466200466200466,-2.3274990276157137,1.8849066128218073,3.1305375073833432,6.040347114857115,5.090693304322025,2.1235507246376812,5.780929542080621,6.023145566090351,-0.7011304108078301,6.026041106208974,4.051480051480051,7.221796461174349,4.1177490910303876,8.051882597094574,-1.8415841584158417,4.09677242588635,8.731422914031132,5.4868143459915615,-8.32,9.887508907665683,6.227831196581197,3.538354629006949,-0.6389722969268127,1.5992257160618686,1.0347433595185433,5.373261969864449,5.3234375,4.992654748875107,3.0421269905037644,10.123259777020392,3.9447188449848025,5.530673884698543,6.019860440150295,4.921846153846154,12.041563086048235,5.431643132220796,3.7136188666983276,6.203789636504253,-0.6572537945640664,7.585647836958567,3.5308089842973565,8.473139974779318,8.624510352546167,-2.4184551694084324,5.549611891375111,4.914899672691049,0.9063327224597841,1.5101022106013786,5.060106304754301,1.8719081272084805,7.974423065744347,-0.8172635445362718,11.408715251690458,6.787135625763659,9.844378781483044,3.0406588660279565,2.798127721656093,5.01711795126578,4.652996126680337,4.533209186840471,7.874258751514379,7.5304824850946614,1.970326409495549,4.637216894511324,13.80344951787585,3.6026626484511435,3.1490926924963216,3.1746635459332944,-2.3057376222647976,-0.06228682373930839,-3.4224489795918367,5.252116896087542,4.740833223813905,1.8724592242147364,8.887425525243023,-1.730456026058632,0.6480681397358351,4.69466396708249,-4.383498145859085,-2.9189580318379162,3.173350751143044,3.014178094641811,2.7897466441978036,3.673773770380665,6.638616071428571,15.39298473530367,-3.7881040892193307,2.128925619834711,2.3216342692584595,4.4045911047345765,-0.5638579756226815,7.64293209413881,-0.9543147208121827,1.9490801980733579,4.5546592824464245,4.259405627568764,3.5131128848346638,5.500929713648197,4.631205673758865,2.686220006581573,-0.29749941575134375,5.351321056845476,4.061725491513655,1.9991625615763546,7.184265927977839,4.933218810392956,11.875486381322958,-0.35339418140330864,3.0848391148903276,10.584162700129815,5.353947241279351,4.532680960353712,4.949519230769231,9.630784061696659,9.531898539584935,5.481671100884447,4.536195490620841,6.9042384406165,4.661145120633777,4.697757073844031,1.5895056834646444,4.450813784878915,6.372019959342081,-0.8418560606060606,4.612972018797262,2.538679280169704,11.109744094488189,1.5130338325013866,5.101966249811662,5.621259712349149,4.389146150766372,-5.915124698310539,6.405517845412744,21.455834242093783,2.989554037766171,5.614379983502887,2.9789604114261086,-2.3710045662100456,0.5938152946092771,-0.33180987202925044,3.470069873796476,-3.187037037037037,7.036717428087987,8.818216904670011,5.432441000680671,4.474885222055548,6.835576923076923,5.307783018867925,6.0011669050666265,13.2,5.858065905664441,5.439644792293799,7.172794117647059,4.5999295029961225,8.733226837060704,6.2251088048208905,-4.01620491374804,5.912888482632541,12.300333922608525,6.0948880266830034,12.07718924673942,6.870977627949739,5.938267013759762,0.5746553241419771,11.099337825754079,4.248052279372804,8.233909341347358,6.457937654830719,5.305720492396814,1.5738312076639616,5.881322239373517,3.90796415710577,-1.2065355329949239,8.475152035219939,6.1740817686488185,6.730777468408653,3.2455941244183597,5.357428381079281,2.655028901734104,3.9520454100606774,8.391401037805782,3.643010454891643,6.176362896663955,3.97742810220372,6.571780957079428,4.802914416210534,6.2015968717120735,5.545440729483283,6.303833865814696,6.667236119585113,3.120403022670025,-0.05609552901971675,3.400604686318972,5.968155893536122,5.532792925571113,7.934936350777935,7.978346276838739,1.306547619047619,5.86833751173964,13.909395973154362,6.7434262948207175,-6.384304932735426,3.5380901630608546,6.840022208121828,-2.5863899613899615,3.4905544651619236,3.1316708229426435,4.0230916747395264,5.504999695758879,8.834698654183732,3.0856702619414484,2.7207530255490813,5.614651493598862,2.366138016038943,3.707943925233645,10.111133320007996,8.720565721367645,-3.2760546373858577,4.325794627066228,-1.39103508552878,4.135483870967742,4.867457235806485,9.899279682066567,1.8629363144437177,4.546156874323393,8.660410496590675,10.115839524517087,-0.3191760458696114,-1.682237600922722,4.87066974595843,5.595783309889104,10.363278648828622,5.050005314867963,5.05522373872814,0.9602421208024193,2.6216216216216215,-2.79860244571999,7.466950959488273,4.860157299060043,5.505316293108985,5.133082653921845,-2.784652278177458,8.686426774581648,4.600723850886717,2.8152163473082648,0.5371088526343942,8.821583986074847,-3.830740216878831,8.382130983670953,-3.5929137618183553,5.984962406015038,3.3951482479784367,6.245767947609044,0.21388921695996221,0.11356384441877097,4.631589583357623,4.134938825580269,0.47997073073784435,4.228479249156768,4.235216704685032,7.255649717514125,11.132333936417679,2.9227848101265823,5.748344370860927,5.983922829581994,3.0768431983385254,-3.8835341365461846,3.307455803228286,-4.51440329218107,8.450931677018634,6.304367816091954,-1.7936507936507937,9.971322160148976,4.696220930232558,2.605577689243028,11.69998166147075,7.859504132231405,10.903272204243079,4.768133174791914,9.415212527964206,7.727921498661909,9.973728813559323,-11.0,2.7622107969151672,13.768085106382978,1.1459968602825745,5.7854122621564485,15.606666666666667,5.167597765363128,-3.3033033033033035,10.785714285714286,-5.365853658536586,59.5,-2.1601423487544484,13.469026548672566,10.145985401459853,7.312,7.907807675341862,7.655405405405405,11.319859876044193,13.290760869565217,6.598540145985401,9.630658436213992,18.509211495946943,-1.718804920913884,8.956756756756757,11.075978511128167,8.389148737137512,-1.6408450704225352,3.916967509025271,8.993069306930693,6.009345794392523,9.228132387706856,14.4375,12.740685543964233,18.991525423728813,15.973520249221183,4.038461538461538,19.246376811594203,6.9800399201596806,-2.3662420382165603,-4.7272727272727275,5.203389830508475,-11.415929203539823,-0.40350877192982454,9.0],\"yaxis\":\"y\",\"type\":\"bar\"}],                        {\"template\":{\"data\":{\"bar\":[{\"error_x\":{\"color\":\"#2a3f5f\"},\"error_y\":{\"color\":\"#2a3f5f\"},\"marker\":{\"line\":{\"color\":\"#E5ECF6\",\"width\":0.5},\"pattern\":{\"fillmode\":\"overlay\",\"size\":10,\"solidity\":0.2}},\"type\":\"bar\"}],\"barpolar\":[{\"marker\":{\"line\":{\"color\":\"#E5ECF6\",\"width\":0.5},\"pattern\":{\"fillmode\":\"overlay\",\"size\":10,\"solidity\":0.2}},\"type\":\"barpolar\"}],\"carpet\":[{\"aaxis\":{\"endlinecolor\":\"#2a3f5f\",\"gridcolor\":\"white\",\"linecolor\":\"white\",\"minorgridcolor\":\"white\",\"startlinecolor\":\"#2a3f5f\"},\"baxis\":{\"endlinecolor\":\"#2a3f5f\",\"gridcolor\":\"white\",\"linecolor\":\"white\",\"minorgridcolor\":\"white\",\"startlinecolor\":\"#2a3f5f\"},\"type\":\"carpet\"}],\"choropleth\":[{\"colorbar\":{\"outlinewidth\":0,\"ticks\":\"\"},\"type\":\"choropleth\"}],\"contour\":[{\"colorbar\":{\"outlinewidth\":0,\"ticks\":\"\"},\"colorscale\":[[0.0,\"#0d0887\"],[0.1111111111111111,\"#46039f\"],[0.2222222222222222,\"#7201a8\"],[0.3333333333333333,\"#9c179e\"],[0.4444444444444444,\"#bd3786\"],[0.5555555555555556,\"#d8576b\"],[0.6666666666666666,\"#ed7953\"],[0.7777777777777778,\"#fb9f3a\"],[0.8888888888888888,\"#fdca26\"],[1.0,\"#f0f921\"]],\"type\":\"contour\"}],\"contourcarpet\":[{\"colorbar\":{\"outlinewidth\":0,\"ticks\":\"\"},\"type\":\"contourcarpet\"}],\"heatmap\":[{\"colorbar\":{\"outlinewidth\":0,\"ticks\":\"\"},\"colorscale\":[[0.0,\"#0d0887\"],[0.1111111111111111,\"#46039f\"],[0.2222222222222222,\"#7201a8\"],[0.3333333333333333,\"#9c179e\"],[0.4444444444444444,\"#bd3786\"],[0.5555555555555556,\"#d8576b\"],[0.6666666666666666,\"#ed7953\"],[0.7777777777777778,\"#fb9f3a\"],[0.8888888888888888,\"#fdca26\"],[1.0,\"#f0f921\"]],\"type\":\"heatmap\"}],\"heatmapgl\":[{\"colorbar\":{\"outlinewidth\":0,\"ticks\":\"\"},\"colorscale\":[[0.0,\"#0d0887\"],[0.1111111111111111,\"#46039f\"],[0.2222222222222222,\"#7201a8\"],[0.3333333333333333,\"#9c179e\"],[0.4444444444444444,\"#bd3786\"],[0.5555555555555556,\"#d8576b\"],[0.6666666666666666,\"#ed7953\"],[0.7777777777777778,\"#fb9f3a\"],[0.8888888888888888,\"#fdca26\"],[1.0,\"#f0f921\"]],\"type\":\"heatmapgl\"}],\"histogram\":[{\"marker\":{\"pattern\":{\"fillmode\":\"overlay\",\"size\":10,\"solidity\":0.2}},\"type\":\"histogram\"}],\"histogram2d\":[{\"colorbar\":{\"outlinewidth\":0,\"ticks\":\"\"},\"colorscale\":[[0.0,\"#0d0887\"],[0.1111111111111111,\"#46039f\"],[0.2222222222222222,\"#7201a8\"],[0.3333333333333333,\"#9c179e\"],[0.4444444444444444,\"#bd3786\"],[0.5555555555555556,\"#d8576b\"],[0.6666666666666666,\"#ed7953\"],[0.7777777777777778,\"#fb9f3a\"],[0.8888888888888888,\"#fdca26\"],[1.0,\"#f0f921\"]],\"type\":\"histogram2d\"}],\"histogram2dcontour\":[{\"colorbar\":{\"outlinewidth\":0,\"ticks\":\"\"},\"colorscale\":[[0.0,\"#0d0887\"],[0.1111111111111111,\"#46039f\"],[0.2222222222222222,\"#7201a8\"],[0.3333333333333333,\"#9c179e\"],[0.4444444444444444,\"#bd3786\"],[0.5555555555555556,\"#d8576b\"],[0.6666666666666666,\"#ed7953\"],[0.7777777777777778,\"#fb9f3a\"],[0.8888888888888888,\"#fdca26\"],[1.0,\"#f0f921\"]],\"type\":\"histogram2dcontour\"}],\"mesh3d\":[{\"colorbar\":{\"outlinewidth\":0,\"ticks\":\"\"},\"type\":\"mesh3d\"}],\"parcoords\":[{\"line\":{\"colorbar\":{\"outlinewidth\":0,\"ticks\":\"\"}},\"type\":\"parcoords\"}],\"pie\":[{\"automargin\":true,\"type\":\"pie\"}],\"scatter\":[{\"marker\":{\"colorbar\":{\"outlinewidth\":0,\"ticks\":\"\"}},\"type\":\"scatter\"}],\"scatter3d\":[{\"line\":{\"colorbar\":{\"outlinewidth\":0,\"ticks\":\"\"}},\"marker\":{\"colorbar\":{\"outlinewidth\":0,\"ticks\":\"\"}},\"type\":\"scatter3d\"}],\"scattercarpet\":[{\"marker\":{\"colorbar\":{\"outlinewidth\":0,\"ticks\":\"\"}},\"type\":\"scattercarpet\"}],\"scattergeo\":[{\"marker\":{\"colorbar\":{\"outlinewidth\":0,\"ticks\":\"\"}},\"type\":\"scattergeo\"}],\"scattergl\":[{\"marker\":{\"colorbar\":{\"outlinewidth\":0,\"ticks\":\"\"}},\"type\":\"scattergl\"}],\"scattermapbox\":[{\"marker\":{\"colorbar\":{\"outlinewidth\":0,\"ticks\":\"\"}},\"type\":\"scattermapbox\"}],\"scatterpolar\":[{\"marker\":{\"colorbar\":{\"outlinewidth\":0,\"ticks\":\"\"}},\"type\":\"scatterpolar\"}],\"scatterpolargl\":[{\"marker\":{\"colorbar\":{\"outlinewidth\":0,\"ticks\":\"\"}},\"type\":\"scatterpolargl\"}],\"scatterternary\":[{\"marker\":{\"colorbar\":{\"outlinewidth\":0,\"ticks\":\"\"}},\"type\":\"scatterternary\"}],\"surface\":[{\"colorbar\":{\"outlinewidth\":0,\"ticks\":\"\"},\"colorscale\":[[0.0,\"#0d0887\"],[0.1111111111111111,\"#46039f\"],[0.2222222222222222,\"#7201a8\"],[0.3333333333333333,\"#9c179e\"],[0.4444444444444444,\"#bd3786\"],[0.5555555555555556,\"#d8576b\"],[0.6666666666666666,\"#ed7953\"],[0.7777777777777778,\"#fb9f3a\"],[0.8888888888888888,\"#fdca26\"],[1.0,\"#f0f921\"]],\"type\":\"surface\"}],\"table\":[{\"cells\":{\"fill\":{\"color\":\"#EBF0F8\"},\"line\":{\"color\":\"white\"}},\"header\":{\"fill\":{\"color\":\"#C8D4E3\"},\"line\":{\"color\":\"white\"}},\"type\":\"table\"}]},\"layout\":{\"annotationdefaults\":{\"arrowcolor\":\"#2a3f5f\",\"arrowhead\":0,\"arrowwidth\":1},\"autotypenumbers\":\"strict\",\"coloraxis\":{\"colorbar\":{\"outlinewidth\":0,\"ticks\":\"\"}},\"colorscale\":{\"diverging\":[[0,\"#8e0152\"],[0.1,\"#c51b7d\"],[0.2,\"#de77ae\"],[0.3,\"#f1b6da\"],[0.4,\"#fde0ef\"],[0.5,\"#f7f7f7\"],[0.6,\"#e6f5d0\"],[0.7,\"#b8e186\"],[0.8,\"#7fbc41\"],[0.9,\"#4d9221\"],[1,\"#276419\"]],\"sequential\":[[0.0,\"#0d0887\"],[0.1111111111111111,\"#46039f\"],[0.2222222222222222,\"#7201a8\"],[0.3333333333333333,\"#9c179e\"],[0.4444444444444444,\"#bd3786\"],[0.5555555555555556,\"#d8576b\"],[0.6666666666666666,\"#ed7953\"],[0.7777777777777778,\"#fb9f3a\"],[0.8888888888888888,\"#fdca26\"],[1.0,\"#f0f921\"]],\"sequentialminus\":[[0.0,\"#0d0887\"],[0.1111111111111111,\"#46039f\"],[0.2222222222222222,\"#7201a8\"],[0.3333333333333333,\"#9c179e\"],[0.4444444444444444,\"#bd3786\"],[0.5555555555555556,\"#d8576b\"],[0.6666666666666666,\"#ed7953\"],[0.7777777777777778,\"#fb9f3a\"],[0.8888888888888888,\"#fdca26\"],[1.0,\"#f0f921\"]]},\"colorway\":[\"#636efa\",\"#EF553B\",\"#00cc96\",\"#ab63fa\",\"#FFA15A\",\"#19d3f3\",\"#FF6692\",\"#B6E880\",\"#FF97FF\",\"#FECB52\"],\"font\":{\"color\":\"#2a3f5f\"},\"geo\":{\"bgcolor\":\"white\",\"lakecolor\":\"white\",\"landcolor\":\"#E5ECF6\",\"showlakes\":true,\"showland\":true,\"subunitcolor\":\"white\"},\"hoverlabel\":{\"align\":\"left\"},\"hovermode\":\"closest\",\"mapbox\":{\"style\":\"light\"},\"paper_bgcolor\":\"white\",\"plot_bgcolor\":\"#E5ECF6\",\"polar\":{\"angularaxis\":{\"gridcolor\":\"white\",\"linecolor\":\"white\",\"ticks\":\"\"},\"bgcolor\":\"#E5ECF6\",\"radialaxis\":{\"gridcolor\":\"white\",\"linecolor\":\"white\",\"ticks\":\"\"}},\"scene\":{\"xaxis\":{\"backgroundcolor\":\"#E5ECF6\",\"gridcolor\":\"white\",\"gridwidth\":2,\"linecolor\":\"white\",\"showbackground\":true,\"ticks\":\"\",\"zerolinecolor\":\"white\"},\"yaxis\":{\"backgroundcolor\":\"#E5ECF6\",\"gridcolor\":\"white\",\"gridwidth\":2,\"linecolor\":\"white\",\"showbackground\":true,\"ticks\":\"\",\"zerolinecolor\":\"white\"},\"zaxis\":{\"backgroundcolor\":\"#E5ECF6\",\"gridcolor\":\"white\",\"gridwidth\":2,\"linecolor\":\"white\",\"showbackground\":true,\"ticks\":\"\",\"zerolinecolor\":\"white\"}},\"shapedefaults\":{\"line\":{\"color\":\"#2a3f5f\"}},\"ternary\":{\"aaxis\":{\"gridcolor\":\"white\",\"linecolor\":\"white\",\"ticks\":\"\"},\"baxis\":{\"gridcolor\":\"white\",\"linecolor\":\"white\",\"ticks\":\"\"},\"bgcolor\":\"#E5ECF6\",\"caxis\":{\"gridcolor\":\"white\",\"linecolor\":\"white\",\"ticks\":\"\"}},\"title\":{\"x\":0.05},\"xaxis\":{\"automargin\":true,\"gridcolor\":\"white\",\"linecolor\":\"white\",\"ticks\":\"\",\"title\":{\"standoff\":15},\"zerolinecolor\":\"white\",\"zerolinewidth\":2},\"yaxis\":{\"automargin\":true,\"gridcolor\":\"white\",\"linecolor\":\"white\",\"ticks\":\"\",\"title\":{\"standoff\":15},\"zerolinecolor\":\"white\",\"zerolinewidth\":2}}},\"xaxis\":{\"anchor\":\"y\",\"domain\":[0.0,1.0],\"title\":{\"text\":\"DEST\"}},\"yaxis\":{\"anchor\":\"x\",\"domain\":[0.0,1.0],\"title\":{\"text\":\"value\"}},\"legend\":{\"title\":{\"text\":\"variable\"},\"tracegroupgap\":0},\"margin\":{\"t\":60},\"barmode\":\"relative\"},                        {\"responsive\": true}                    ).then(function(){\n",
              "                            \n",
              "var gd = document.getElementById('9426a136-1dbd-49ed-a697-bbd7ebb6929f');\n",
              "var x = new MutationObserver(function (mutations, observer) {{\n",
              "        var display = window.getComputedStyle(gd).display;\n",
              "        if (!display || display === 'none') {{\n",
              "            console.log([gd, 'removed!']);\n",
              "            Plotly.purge(gd);\n",
              "            observer.disconnect();\n",
              "        }}\n",
              "}});\n",
              "\n",
              "// Listen for the removal of the full notebook cells\n",
              "var notebookContainer = gd.closest('#notebook-container');\n",
              "if (notebookContainer) {{\n",
              "    x.observe(notebookContainer, {childList: true});\n",
              "}}\n",
              "\n",
              "// Listen for the clearing of the current output cell\n",
              "var outputEl = gd.closest('.output');\n",
              "if (outputEl) {{\n",
              "    x.observe(outputEl, {childList: true});\n",
              "}}\n",
              "\n",
              "                        })                };                            </script>        </div>\n",
              "</body>\n",
              "</html>"
            ]
          },
          "metadata": {}
        }
      ],
      "source": [
        "%time\n",
        "kdf.groupby(['DEST'])['ARR_DELAY'].mean().plot(kind='bar')"
      ]
    },
    {
      "cell_type": "markdown",
      "metadata": {
        "id": "du-4fvWjgQA1"
      },
      "source": [
        "**Visualisation with Vaex**"
      ]
    },
    {
      "cell_type": "code",
      "execution_count": null,
      "metadata": {
        "id": "rWFSGg6p-uXI",
        "colab": {
          "base_uri": "https://localhost:8080/",
          "height": 673
        },
        "outputId": "16b2351b-b225-4ba2-e505-e01f0a42192f"
      },
      "outputs": [
        {
          "output_type": "stream",
          "name": "stdout",
          "text": [
            "CPU times: user 4 µs, sys: 0 ns, total: 4 µs\n",
            "Wall time: 9.06 µs\n"
          ]
        },
        {
          "output_type": "display_data",
          "data": {
            "text/plain": [
              "<Figure size 2160x720 with 1 Axes>"
            ],
            "image/png": "[encoded data removed]"
          },
          "metadata": {
            "needs_background": "light"
          }
        }
      ],
      "source": [
        "%time\n",
        "flights_avg_adelay = vdf.groupby('DEST').agg({'ARR_DELAY': 'mean'})\n",
        "pandas_avg_adelay = flights_avg_adelay.to_pandas_df()\n",
        "pandas_avg_adelay.plot.bar(x='DEST', y='ARR_DELAY', color='green', figsize=(30,10))\n",
        "plt.xlabel(\"Destination airport\")\n",
        "plt.ylabel(\"Avg Arrival Delays\")\n",
        "plt.title(\"Average arrival delay for each destination airport\")\n",
        "plt.show()"
      ]
    },
    {
      "cell_type": "markdown",
      "metadata": {
        "id": "xwM2nYuZ9Zpx"
      },
      "source": [
        "\n",
        "**Visualisation using Pyspark**\n",
        "\n"
      ]
    },
    {
      "cell_type": "code",
      "source": [
        "pdf.groupby(\"DEST\").agg({\"ARR_DELAY\" : 'mean'}).sort(col(\"DEST\").asc()).toPandas().plot.bar(x='DEST', y='avg(ARR_DELAY)', color='green', figsize=(30,10))\n",
        "plt.xlabel(\"Destination airport\")\n",
        "plt.ylabel(\"Avg Arrival Delays\")\n",
        "plt.title(\"Average arrival delay for each destination airport\")\n",
        "plt.xticks(rotation=90)\n",
        "plt.show()"
      ],
      "metadata": {
        "colab": {
          "base_uri": "https://localhost:8080/",
          "height": 638
        },
        "id": "-0eBrWLf-AEm",
        "outputId": "24cd3bf3-d05a-4f6f-ca13-91aa0c5517ce"
      },
      "execution_count": null,
      "outputs": [
        {
          "output_type": "display_data",
          "data": {
            "text/plain": [
              "<Figure size 2160x720 with 1 Axes>"
            ],
            "image/png": "[encoded data removed]"
          },
          "metadata": {
            "needs_background": "light"
          }
        }
      ]
    },
    {
      "cell_type": "code",
      "execution_count": null,
      "metadata": {
        "colab": {
          "base_uri": "https://localhost:8080/"
        },
        "id": "lPxIf75_-vGU",
        "outputId": "d831a85d-cccd-4588-8703-fd533ed0054f"
      },
      "outputs": [
        {
          "name": "stdout",
          "output_type": "stream",
          "text": [
            "CPU times: user 4 µs, sys: 0 ns, total: 4 µs\n",
            "Wall time: 8.34 µs\n",
            "+----+-------------------+\n",
            "|DEST|  Avg Arrival Delay|\n",
            "+----+-------------------+\n",
            "| DRT|-11.415929203539823|\n",
            "| FNL|              -11.0|\n",
            "| ADK|              -8.32|\n",
            "| LWS|-7.2573664825046045|\n",
            "| HIB| -6.384304932735426|\n",
            "| BRW| -5.915124698310539|\n",
            "| OGS| -5.365853658536586|\n",
            "| BTM| -5.114430379746835|\n",
            "| EAR|-4.7272727272727275|\n",
            "| INL| -4.565380493033226|\n",
            "| GST|  -4.51440329218107|\n",
            "| CPR| -4.383498145859085|\n",
            "| COD| -4.257350133638793|\n",
            "| EKO|  -4.01620491374804|\n",
            "| DLG|-3.8835341365461846|\n",
            "| YAK| -3.830740216878831|\n",
            "| HOB|-3.7881040892193307|\n",
            "| ANC|-3.5929137618183553|\n",
            "| IMT|-3.4224489795918367|\n",
            "| RFD|-3.3033033033033035|\n",
            "+----+-------------------+\n",
            "only showing top 20 rows\n",
            "\n"
          ]
        }
      ],
      "source": [
        "%time\n",
        "import pyspark.sql.functions as F\n",
        "pdf.groupBy(\"DEST\").agg(F.avg(\"ARR_DELAY\").alias(\"Avg Arrival Delay\")).sort(\"Avg Arrival Delay\").show()"
      ]
    },
    {
      "cell_type": "markdown",
      "metadata": {
        "id": "JauewOb59UQx"
      },
      "source": [
        "From the bar chart above, we can see that some of the bar shows positive values and some are negative values. Positive values stand for the arrival delay of the flight at the responding airport. While negative values means the time that the flight arrive early. In conclusion, YNG airport has the highest arrival delay and YAK airport has the lowest arrival delay, in other words, DRT airport has the most earliest arrival time than the original scheduled arrival time."
      ]
    }
  ],
  "metadata": {
    "colab": {
      "provenance": [],
      "include_colab_link": true
    },
    "kernelspec": {
      "display_name": "Python 3",
      "name": "python3"
    },
    "language_info": {
      "name": "python"
    }
  },
  "nbformat": 4,
  "nbformat_minor": 0
}