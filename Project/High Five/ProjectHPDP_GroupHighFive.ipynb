{
  "cells": [
    {
      "cell_type": "markdown",
      "metadata": {
        "id": "view-in-github",
        "colab_type": "text"
      },
      "source": [
        "<a href=\"https://colab.research.google.com/github/drshahizan/Python-big-data/blob/main/Project/High%20Five/ProjectHPDP_GroupHighFive.ipynb\" target=\"_parent\"><img src=\"https://colab.research.google.com/assets/colab-badge.svg\" alt=\"Open In Colab\"/></a>"
      ]
    },
    {
      "cell_type": "markdown",
      "metadata": {
        "id": "JCYAKvjbJGR9"
      },
      "source": [
        "# **Airline Delay and Cancellation Dataset 2015 - 2016 ✈**\n",
        "\n",
        "\n",
        "\n",
        "<br>\n",
        "The \"Airline Delay and Cancellation Data 2015-2016\" found on Kaggle is an \n",
        "extensive collection of data that showcases the performance of different airlines for the two-year span of 2015 to 2016. This dataset is quite comprehensive, as it comprises of information about the delays, cancellations, and a range of other performance metrics of various airlines. The details included in this database are the airline carrier, flight number, departure and arrival airports, departure and arrival times, as well as information about the delays and cancellations experienced.\n",
        "<br>\n",
        "\n",
        "The objective of this study is multifaceted and comprises of the following points:\n",
        "<br>\n",
        "\n",
        "1. A comparison of the efficiency of three libraries\n",
        "2. An analysis of the data and its visualization\n",
        "3. An attempt to answer five significant questions related to the data through careful examination.\n",
        "\n",
        "**Group Members:**\n",
        "\n",
        "<br>\n",
        "<table width = 700>\n",
        "  <tr>\n",
        "    <th>Name</th>\n",
        "    <th>Matric</th>\n",
        "  </tr>\n",
        "  <tr>\n",
        "    <th>AHMAD MUHAIMIN BIN AHMAD HAMBALI</th>\n",
        "    <th>A20EC0006</th>\n",
        "  </tr>\n",
        "  <tr>\n",
        "    <th>NAYLI NABIHAH BINTI JASNI</th>\n",
        "    <th>A20EC0105</th>\n",
        "  </tr>\n",
        "    <tr>\n",
        "    <th>SAKINAH AL’IZZAH BINTI MOHD ASRI</th>\n",
        "    <th>A20EC0142</th>\n",
        "  </tr>\n",
        "    <tr>\n",
        "    <th>LEE JIA XIAN</th>\n",
        "    <th>A20EC0200</th>\n",
        "  </tr>\n",
        "</table> \n",
        "\n",
        "<br>\n",
        "\n",
        "\n"
      ]
    },
    {
      "cell_type": "markdown",
      "metadata": {
        "id": "7suHm-BWW8sC"
      },
      "source": [
        "### **Download and install each library**"
      ]
    },
    {
      "cell_type": "markdown",
      "metadata": {
        "id": "5wTSJWnGslDx"
      },
      "source": [
        "##### **Koalas installation**"
      ]
    },
    {
      "cell_type": "code",
      "execution_count": null,
      "metadata": {
        "colab": {
          "base_uri": "https://localhost:8080/"
        },
        "id": "fw4H8fY5YnVF",
        "outputId": "091afb3a-f72e-43b6-b9e2-aeea4415f2d2"
      },
      "outputs": [
        {
          "output_type": "stream",
          "name": "stdout",
          "text": [
            "Looking in indexes: https://pypi.org/simple, https://us-python.pkg.dev/colab-wheels/public/simple/\n",
            "Collecting koalas\n",
            "  Downloading koalas-1.8.2-py3-none-any.whl (390 kB)\n",
            "\u001b[2K     \u001b[90m━━━━━━━━━━━━━━━━━━━━━━━━━━━━━━━━━━━━━━━\u001b[0m \u001b[32m390.8/390.8 KB\u001b[0m \u001b[31m7.9 MB/s\u001b[0m eta \u001b[36m0:00:00\u001b[0m\n",
            "\u001b[?25hRequirement already satisfied: numpy>=1.14 in /usr/local/lib/python3.8/dist-packages (from koalas) (1.21.6)\n",
            "Requirement already satisfied: pyarrow>=0.10 in /usr/local/lib/python3.8/dist-packages (from koalas) (9.0.0)\n",
            "Requirement already satisfied: pandas>=0.23.2 in /usr/local/lib/python3.8/dist-packages (from koalas) (1.3.5)\n",
            "Requirement already satisfied: pytz>=2017.3 in /usr/local/lib/python3.8/dist-packages (from pandas>=0.23.2->koalas) (2022.7)\n",
            "Requirement already satisfied: python-dateutil>=2.7.3 in /usr/local/lib/python3.8/dist-packages (from pandas>=0.23.2->koalas) (2.8.2)\n",
            "Requirement already satisfied: six>=1.5 in /usr/local/lib/python3.8/dist-packages (from python-dateutil>=2.7.3->pandas>=0.23.2->koalas) (1.15.0)\n",
            "Installing collected packages: koalas\n",
            "Successfully installed koalas-1.8.2\n",
            "Looking in indexes: https://pypi.org/simple, https://us-python.pkg.dev/colab-wheels/public/simple/\n",
            "Collecting pyspark\n",
            "  Downloading pyspark-3.3.1.tar.gz (281.4 MB)\n",
            "\u001b[2K     \u001b[90m━━━━━━━━━━━━━━━━━━━━━━━━━━━━━━━━━━━━━━━\u001b[0m \u001b[32m281.4/281.4 MB\u001b[0m \u001b[31m4.3 MB/s\u001b[0m eta \u001b[36m0:00:00\u001b[0m\n",
            "\u001b[?25h  Preparing metadata (setup.py) ... \u001b[?25l\u001b[?25hdone\n",
            "Collecting py4j==0.10.9.5\n",
            "  Downloading py4j-0.10.9.5-py2.py3-none-any.whl (199 kB)\n",
            "\u001b[2K     \u001b[90m━━━━━━━━━━━━━━━━━━━━━━━━━━━━━━━━━━━━━━\u001b[0m \u001b[32m199.7/199.7 KB\u001b[0m \u001b[31m18.2 MB/s\u001b[0m eta \u001b[36m0:00:00\u001b[0m\n",
            "\u001b[?25hBuilding wheels for collected packages: pyspark\n",
            "  Building wheel for pyspark (setup.py) ... \u001b[?25l\u001b[?25hdone\n",
            "  Created wheel for pyspark: filename=pyspark-3.3.1-py2.py3-none-any.whl size=281845512 sha256=c110b7a995ebc9483d46e841851826c7c1f1fd6cb24b50392eb7e5130c9d626b\n",
            "  Stored in directory: /root/.cache/pip/wheels/43/dc/11/ec201cd671da62fa9c5cc77078235e40722170ceba231d7598\n",
            "Successfully built pyspark\n",
            "Installing collected packages: py4j, pyspark\n",
            "Successfully installed py4j-0.10.9.5 pyspark-3.3.1\n"
          ]
        }
      ],
      "source": [
        "!pip install koalas\n",
        "!pip install pyspark"
      ]
    },
    {
      "cell_type": "markdown",
      "metadata": {
        "id": "oTUFODeesQpV"
      },
      "source": [
        "##### **Modin installation**"
      ]
    },
    {
      "cell_type": "code",
      "execution_count": null,
      "metadata": {
        "colab": {
          "base_uri": "https://localhost:8080/"
        },
        "id": "TeF24lSXo2PJ",
        "outputId": "c1c77f02-081d-4c79-e011-4bb37dc0b3fa"
      },
      "outputs": [
        {
          "name": "stdout",
          "output_type": "stream",
          "text": [
            "Looking in indexes: https://pypi.org/simple, https://us-python.pkg.dev/colab-wheels/public/simple/\n",
            "Collecting modin[all]\n",
            "  Downloading modin-0.18.1-py3-none-any.whl (970 kB)\n",
            "\u001b[2K     \u001b[90m━━━━━━━━━━━━━━━━━━━━━━━━━━━━━━━━━━━━━━\u001b[0m \u001b[32m970.3/970.3 KB\u001b[0m \u001b[31m13.8 MB/s\u001b[0m eta \u001b[36m0:00:00\u001b[0m\n",
            "\u001b[?25hRequirement already satisfied: fsspec in /usr/local/lib/python3.8/dist-packages (from modin[all]) (2022.11.0)\n",
            "Requirement already satisfied: numpy>=1.18.5 in /usr/local/lib/python3.8/dist-packages (from modin[all]) (1.21.6)\n",
            "Requirement already satisfied: packaging in /usr/local/lib/python3.8/dist-packages (from modin[all]) (21.3)\n",
            "Requirement already satisfied: psutil in /usr/local/lib/python3.8/dist-packages (from modin[all]) (5.4.8)\n",
            "Collecting pandas==1.5.3\n",
            "  Downloading pandas-1.5.3-cp38-cp38-manylinux_2_17_x86_64.manylinux2014_x86_64.whl (12.2 MB)\n",
            "\u001b[2K     \u001b[90m━━━━━━━━━━━━━━━━━━━━━━━━━━━━━━━━━━━━━━━━\u001b[0m \u001b[32m12.2/12.2 MB\u001b[0m \u001b[31m66.8 MB/s\u001b[0m eta \u001b[36m0:00:00\u001b[0m\n",
            "\u001b[?25hCollecting boto3\n",
            "  Downloading boto3-1.26.59-py3-none-any.whl (132 kB)\n",
            "\u001b[2K     \u001b[90m━━━━━━━━━━━━━━━━━━━━━━━━━━━━━━━━━━━━━━\u001b[0m \u001b[32m132.7/132.7 KB\u001b[0m \u001b[31m16.5 MB/s\u001b[0m eta \u001b[36m0:00:00\u001b[0m\n",
            "\u001b[?25hCollecting rpyc==4.1.5\n",
            "  Downloading rpyc-4.1.5-py3-none-any.whl (68 kB)\n",
            "\u001b[2K     \u001b[90m━━━━━━━━━━━━━━━━━━━━━━━━━━━━━━━━━━━━━━━━\u001b[0m \u001b[32m68.9/68.9 KB\u001b[0m \u001b[31m6.8 MB/s\u001b[0m eta \u001b[36m0:00:00\u001b[0m\n",
            "\u001b[?25hRequirement already satisfied: distributed>=2.22.0 in /usr/local/lib/python3.8/dist-packages (from modin[all]) (2022.2.1)\n",
            "Collecting modin-spreadsheet>=0.1.0\n",
            "  Downloading modin_spreadsheet-0.1.2-py2.py3-none-any.whl (1.8 MB)\n",
            "\u001b[2K     \u001b[90m━━━━━━━━━━━━━━━━━━━━━━━━━━━━━━━━━━━━━━━━\u001b[0m \u001b[32m1.8/1.8 MB\u001b[0m \u001b[31m83.0 MB/s\u001b[0m eta \u001b[36m0:00:00\u001b[0m\n",
            "\u001b[?25hRequirement already satisfied: dask>=2.22.0 in /usr/local/lib/python3.8/dist-packages (from modin[all]) (2022.2.1)\n",
            "Collecting ray[default]>=1.13.0\n",
            "  Downloading ray-2.2.0-cp38-cp38-manylinux2014_x86_64.whl (57.4 MB)\n",
            "\u001b[2K     \u001b[90m━━━━━━━━━━━━━━━━━━━━━━━━━━━━━━━━━━━━━━━━\u001b[0m \u001b[32m57.4/57.4 MB\u001b[0m \u001b[31m14.9 MB/s\u001b[0m eta \u001b[36m0:00:00\u001b[0m\n",
            "\u001b[?25hRequirement already satisfied: pyarrow in /usr/local/lib/python3.8/dist-packages (from modin[all]) (9.0.0)\n",
            "Collecting unidist[mpi]>=0.2.1\n",
            "  Downloading unidist-0.2.2-py3-none-any.whl (102 kB)\n",
            "\u001b[2K     \u001b[90m━━━━━━━━━━━━━━━━━━━━━━━━━━━━━━━━━━━━━━\u001b[0m \u001b[32m102.6/102.6 KB\u001b[0m \u001b[31m11.0 MB/s\u001b[0m eta \u001b[36m0:00:00\u001b[0m\n",
            "\u001b[?25hRequirement already satisfied: cloudpickle in /usr/local/lib/python3.8/dist-packages (from modin[all]) (2.2.0)\n",
            "Requirement already satisfied: pytz>=2020.1 in /usr/local/lib/python3.8/dist-packages (from pandas==1.5.3->modin[all]) (2022.7)\n",
            "Requirement already satisfied: python-dateutil>=2.8.1 in /usr/local/lib/python3.8/dist-packages (from pandas==1.5.3->modin[all]) (2.8.2)\n",
            "Collecting plumbum\n",
            "  Downloading plumbum-1.8.1-py3-none-any.whl (126 kB)\n",
            "\u001b[2K     \u001b[90m━━━━━━━━━━━━━━━━━━━━━━━━━━━━━━━━━━━━━━\u001b[0m \u001b[32m126.7/126.7 KB\u001b[0m \u001b[31m13.8 MB/s\u001b[0m eta \u001b[36m0:00:00\u001b[0m\n",
            "\u001b[?25hRequirement already satisfied: toolz>=0.8.2 in /usr/local/lib/python3.8/dist-packages (from dask>=2.22.0->modin[all]) (0.12.0)\n",
            "Requirement already satisfied: partd>=0.3.10 in /usr/local/lib/python3.8/dist-packages (from dask>=2.22.0->modin[all]) (1.3.0)\n",
            "Requirement already satisfied: pyyaml>=5.3.1 in /usr/local/lib/python3.8/dist-packages (from dask>=2.22.0->modin[all]) (6.0)\n",
            "Requirement already satisfied: click>=6.6 in /usr/local/lib/python3.8/dist-packages (from distributed>=2.22.0->modin[all]) (7.1.2)\n",
            "Requirement already satisfied: zict>=0.1.3 in /usr/local/lib/python3.8/dist-packages (from distributed>=2.22.0->modin[all]) (2.2.0)\n",
            "Requirement already satisfied: setuptools in /usr/local/lib/python3.8/dist-packages (from distributed>=2.22.0->modin[all]) (57.4.0)\n",
            "Requirement already satisfied: tornado>=6.0.3 in /usr/local/lib/python3.8/dist-packages (from distributed>=2.22.0->modin[all]) (6.0.4)\n",
            "Requirement already satisfied: sortedcontainers!=2.0.0,!=2.0.1 in /usr/local/lib/python3.8/dist-packages (from distributed>=2.22.0->modin[all]) (2.4.0)\n",
            "Requirement already satisfied: tblib>=1.6.0 in /usr/local/lib/python3.8/dist-packages (from distributed>=2.22.0->modin[all]) (1.7.0)\n",
            "Requirement already satisfied: msgpack>=0.6.0 in /usr/local/lib/python3.8/dist-packages (from distributed>=2.22.0->modin[all]) (1.0.4)\n",
            "Requirement already satisfied: jinja2 in /usr/local/lib/python3.8/dist-packages (from distributed>=2.22.0->modin[all]) (2.11.3)\n",
            "Requirement already satisfied: ipywidgets>=7.0.0 in /usr/local/lib/python3.8/dist-packages (from modin-spreadsheet>=0.1.0->modin[all]) (7.7.1)\n",
            "Collecting notebook>=6.0.3\n",
            "  Downloading notebook-6.5.2-py3-none-any.whl (439 kB)\n",
            "\u001b[2K     \u001b[90m━━━━━━━━━━━━━━━━━━━━━━━━━━━━━━━━━━━━━━\u001b[0m \u001b[32m439.1/439.1 KB\u001b[0m \u001b[31m42.3 MB/s\u001b[0m eta \u001b[36m0:00:00\u001b[0m\n",
            "\u001b[?25hCollecting jupyter>=1.0.0\n",
            "  Downloading jupyter-1.0.0-py2.py3-none-any.whl (2.7 kB)\n",
            "Requirement already satisfied: pyparsing!=3.0.5,>=2.0.2 in /usr/local/lib/python3.8/dist-packages (from packaging->modin[all]) (3.0.9)\n",
            "Requirement already satisfied: attrs in /usr/local/lib/python3.8/dist-packages (from ray[default]>=1.13.0->modin[all]) (22.2.0)\n",
            "Requirement already satisfied: requests in /usr/local/lib/python3.8/dist-packages (from ray[default]>=1.13.0->modin[all]) (2.25.1)\n",
            "Requirement already satisfied: grpcio>=1.32.0 in /usr/local/lib/python3.8/dist-packages (from ray[default]>=1.13.0->modin[all]) (1.51.1)\n",
            "Requirement already satisfied: aiosignal in /usr/local/lib/python3.8/dist-packages (from ray[default]>=1.13.0->modin[all]) (1.3.1)\n",
            "Requirement already satisfied: protobuf!=3.19.5,>=3.15.3 in /usr/local/lib/python3.8/dist-packages (from ray[default]>=1.13.0->modin[all]) (3.19.6)\n",
            "Collecting virtualenv>=20.0.24\n",
            "  Downloading virtualenv-20.17.1-py3-none-any.whl (8.8 MB)\n",
            "\u001b[2K     \u001b[90m━━━━━━━━━━━━━━━━━━━━━━━━━━━━━━━━━━━━━━━━\u001b[0m \u001b[32m8.8/8.8 MB\u001b[0m \u001b[31m79.9 MB/s\u001b[0m eta \u001b[36m0:00:00\u001b[0m\n",
            "\u001b[?25hRequirement already satisfied: frozenlist in /usr/local/lib/python3.8/dist-packages (from ray[default]>=1.13.0->modin[all]) (1.3.3)\n",
            "Requirement already satisfied: filelock in /usr/local/lib/python3.8/dist-packages (from ray[default]>=1.13.0->modin[all]) (3.9.0)\n",
            "Requirement already satisfied: jsonschema in /usr/local/lib/python3.8/dist-packages (from ray[default]>=1.13.0->modin[all]) (4.3.3)\n",
            "Collecting prometheus-client<0.14.0,>=0.7.1\n",
            "  Downloading prometheus_client-0.13.1-py3-none-any.whl (57 kB)\n",
            "\u001b[2K     \u001b[90m━━━━━━━━━━━━━━━━━━━━━━━━━━━━━━━━━━━━━━━━\u001b[0m \u001b[32m57.1/57.1 KB\u001b[0m \u001b[31m6.8 MB/s\u001b[0m eta \u001b[36m0:00:00\u001b[0m\n",
            "\u001b[?25hCollecting gpustat>=1.0.0\n",
            "  Downloading gpustat-1.0.0.tar.gz (90 kB)\n",
            "\u001b[2K     \u001b[90m━━━━━━━━━━━━━━━━━━━━━━━━━━━━━━━━━━━━━━━━\u001b[0m \u001b[32m90.5/90.5 KB\u001b[0m \u001b[31m9.8 MB/s\u001b[0m eta \u001b[36m0:00:00\u001b[0m\n",
            "\u001b[?25h  Preparing metadata (setup.py) ... \u001b[?25l\u001b[?25hdone\n",
            "Collecting aiohttp-cors\n",
            "  Downloading aiohttp_cors-0.7.0-py3-none-any.whl (27 kB)\n",
            "Requirement already satisfied: aiohttp>=3.7 in /usr/local/lib/python3.8/dist-packages (from ray[default]>=1.13.0->modin[all]) (3.8.3)\n",
            "Requirement already satisfied: smart-open in /usr/local/lib/python3.8/dist-packages (from ray[default]>=1.13.0->modin[all]) (6.3.0)\n",
            "Collecting py-spy>=0.2.0\n",
            "  Downloading py_spy-0.3.14-py2.py3-none-manylinux_2_5_x86_64.manylinux1_x86_64.whl (3.0 MB)\n",
            "\u001b[2K     \u001b[90m━━━━━━━━━━━━━━━━━━━━━━━━━━━━━━━━━━━━━━━━\u001b[0m \u001b[32m3.0/3.0 MB\u001b[0m \u001b[31m75.7 MB/s\u001b[0m eta \u001b[36m0:00:00\u001b[0m\n",
            "\u001b[?25hRequirement already satisfied: pydantic in /usr/local/lib/python3.8/dist-packages (from ray[default]>=1.13.0->modin[all]) (1.10.4)\n",
            "Collecting opencensus\n",
            "  Downloading opencensus-0.11.1-py2.py3-none-any.whl (128 kB)\n",
            "\u001b[2K     \u001b[90m━━━━━━━━━━━━━━━━━━━━━━━━━━━━━━━━━━━━━━\u001b[0m \u001b[32m128.2/128.2 KB\u001b[0m \u001b[31m14.0 MB/s\u001b[0m eta \u001b[36m0:00:00\u001b[0m\n",
            "\u001b[?25hCollecting colorful\n",
            "  Downloading colorful-0.5.5-py2.py3-none-any.whl (201 kB)\n",
            "\u001b[2K     \u001b[90m━━━━━━━━━━━━━━━━━━━━━━━━━━━━━━━━━━━━━━\u001b[0m \u001b[32m201.4/201.4 KB\u001b[0m \u001b[31m22.3 MB/s\u001b[0m eta \u001b[36m0:00:00\u001b[0m\n",
            "\u001b[?25hCollecting mpi4py-mpich\n",
            "  Downloading mpi4py_mpich-3.1.2-cp38-cp38-manylinux_2_17_x86_64.manylinux2014_x86_64.whl (6.5 MB)\n",
            "\u001b[2K     \u001b[90m━━━━━━━━━━━━━━━━━━━━━━━━━━━━━━━━━━━━━━━━\u001b[0m \u001b[32m6.5/6.5 MB\u001b[0m \u001b[31m10.9 MB/s\u001b[0m eta \u001b[36m0:00:00\u001b[0m\n",
            "\u001b[?25hCollecting botocore<1.30.0,>=1.29.59\n",
            "  Downloading botocore-1.29.59-py3-none-any.whl (10.4 MB)\n",
            "\u001b[2K     \u001b[90m━━━━━━━━━━━━━━━━━━━━━━━━━━━━━━━━━━━━━━━━\u001b[0m \u001b[32m10.4/10.4 MB\u001b[0m \u001b[31m93.8 MB/s\u001b[0m eta \u001b[36m0:00:00\u001b[0m\n",
            "\u001b[?25hCollecting s3transfer<0.7.0,>=0.6.0\n",
            "  Downloading s3transfer-0.6.0-py3-none-any.whl (79 kB)\n",
            "\u001b[2K     \u001b[90m━━━━━━━━━━━━━━━━━━━━━━━━━━━━━━━━━━━━━━━━\u001b[0m \u001b[32m79.6/79.6 KB\u001b[0m \u001b[31m9.0 MB/s\u001b[0m eta \u001b[36m0:00:00\u001b[0m\n",
            "\u001b[?25hCollecting jmespath<2.0.0,>=0.7.1\n",
            "  Downloading jmespath-1.0.1-py3-none-any.whl (20 kB)\n",
            "Requirement already satisfied: async-timeout<5.0,>=4.0.0a3 in /usr/local/lib/python3.8/dist-packages (from aiohttp>=3.7->ray[default]>=1.13.0->modin[all]) (4.0.2)\n",
            "Requirement already satisfied: charset-normalizer<3.0,>=2.0 in /usr/local/lib/python3.8/dist-packages (from aiohttp>=3.7->ray[default]>=1.13.0->modin[all]) (2.1.1)\n",
            "Requirement already satisfied: multidict<7.0,>=4.5 in /usr/local/lib/python3.8/dist-packages (from aiohttp>=3.7->ray[default]>=1.13.0->modin[all]) (6.0.4)\n",
            "Requirement already satisfied: yarl<2.0,>=1.0 in /usr/local/lib/python3.8/dist-packages (from aiohttp>=3.7->ray[default]>=1.13.0->modin[all]) (1.8.2)\n",
            "Collecting urllib3<1.27,>=1.25.4\n",
            "  Downloading urllib3-1.26.14-py2.py3-none-any.whl (140 kB)\n",
            "\u001b[2K     \u001b[90m━━━━━━━━━━━━━━━━━━━━━━━━━━━━━━━━━━━━━━\u001b[0m \u001b[32m140.6/140.6 KB\u001b[0m \u001b[31m15.3 MB/s\u001b[0m eta \u001b[36m0:00:00\u001b[0m\n",
            "\u001b[?25hRequirement already satisfied: six>=1.7 in /usr/local/lib/python3.8/dist-packages (from gpustat>=1.0.0->ray[default]>=1.13.0->modin[all]) (1.15.0)\n",
            "Collecting nvidia-ml-py<=11.495.46,>=11.450.129\n",
            "  Downloading nvidia_ml_py-11.495.46-py3-none-any.whl (25 kB)\n",
            "Collecting psutil\n",
            "  Downloading psutil-5.9.4-cp36-abi3-manylinux_2_12_x86_64.manylinux2010_x86_64.manylinux_2_17_x86_64.manylinux2014_x86_64.whl (280 kB)\n",
            "\u001b[2K     \u001b[90m━━━━━━━━━━━━━━━━━━━━━━━━━━━━━━━━━━━━━━\u001b[0m \u001b[32m280.2/280.2 KB\u001b[0m \u001b[31m30.7 MB/s\u001b[0m eta \u001b[36m0:00:00\u001b[0m\n",
            "\u001b[?25hCollecting blessed>=1.17.1\n",
            "  Downloading blessed-1.19.1-py2.py3-none-any.whl (58 kB)\n",
            "\u001b[2K     \u001b[90m━━━━━━━━━━━━━━━━━━━━━━━━━━━━━━━━━━━━━━━━\u001b[0m \u001b[32m58.0/58.0 KB\u001b[0m \u001b[31m3.9 MB/s\u001b[0m eta \u001b[36m0:00:00\u001b[0m\n",
            "\u001b[?25hRequirement already satisfied: ipykernel>=4.5.1 in /usr/local/lib/python3.8/dist-packages (from ipywidgets>=7.0.0->modin-spreadsheet>=0.1.0->modin[all]) (5.3.4)\n",
            "Requirement already satisfied: jupyterlab-widgets>=1.0.0 in /usr/local/lib/python3.8/dist-packages (from ipywidgets>=7.0.0->modin-spreadsheet>=0.1.0->modin[all]) (3.0.5)\n",
            "Requirement already satisfied: widgetsnbextension~=3.6.0 in /usr/local/lib/python3.8/dist-packages (from ipywidgets>=7.0.0->modin-spreadsheet>=0.1.0->modin[all]) (3.6.1)\n",
            "Requirement already satisfied: ipython>=4.0.0 in /usr/local/lib/python3.8/dist-packages (from ipywidgets>=7.0.0->modin-spreadsheet>=0.1.0->modin[all]) (7.9.0)\n",
            "Requirement already satisfied: ipython-genutils~=0.2.0 in /usr/local/lib/python3.8/dist-packages (from ipywidgets>=7.0.0->modin-spreadsheet>=0.1.0->modin[all]) (0.2.0)\n",
            "Requirement already satisfied: traitlets>=4.3.1 in /usr/local/lib/python3.8/dist-packages (from ipywidgets>=7.0.0->modin-spreadsheet>=0.1.0->modin[all]) (5.7.1)\n",
            "Requirement already satisfied: jupyter-console in /usr/local/lib/python3.8/dist-packages (from jupyter>=1.0.0->modin-spreadsheet>=0.1.0->modin[all]) (6.1.0)\n",
            "Collecting qtconsole\n",
            "  Downloading qtconsole-5.4.0-py3-none-any.whl (121 kB)\n",
            "\u001b[2K     \u001b[90m━━━━━━━━━━━━━━━━━━━━━━━━━━━━━━━━━━━━━━\u001b[0m \u001b[32m121.0/121.0 KB\u001b[0m \u001b[31m14.1 MB/s\u001b[0m eta \u001b[36m0:00:00\u001b[0m\n",
            "\u001b[?25hRequirement already satisfied: nbconvert in /usr/local/lib/python3.8/dist-packages (from jupyter>=1.0.0->modin-spreadsheet>=0.1.0->modin[all]) (5.6.1)\n",
            "Requirement already satisfied: nbformat in /usr/local/lib/python3.8/dist-packages (from notebook>=6.0.3->modin-spreadsheet>=0.1.0->modin[all]) (5.7.1)\n",
            "Collecting nest-asyncio>=1.5\n",
            "  Downloading nest_asyncio-1.5.6-py3-none-any.whl (5.2 kB)\n",
            "Requirement already satisfied: terminado>=0.8.3 in /usr/local/lib/python3.8/dist-packages (from notebook>=6.0.3->modin-spreadsheet>=0.1.0->modin[all]) (0.13.3)\n",
            "Collecting nbclassic>=0.4.7\n",
            "  Downloading nbclassic-0.5.1-py3-none-any.whl (10.0 MB)\n",
            "\u001b[2K     \u001b[90m━━━━━━━━━━━━━━━━━━━━━━━━━━━━━━━━━━━━━━━\u001b[0m \u001b[32m10.0/10.0 MB\u001b[0m \u001b[31m102.9 MB/s\u001b[0m eta \u001b[36m0:00:00\u001b[0m\n",
            "\u001b[?25hRequirement already satisfied: jupyter-core>=4.6.1 in /usr/local/lib/python3.8/dist-packages (from notebook>=6.0.3->modin-spreadsheet>=0.1.0->modin[all]) (5.1.3)\n",
            "Collecting tornado>=6.0.3\n",
            "  Downloading tornado-6.2-cp37-abi3-manylinux_2_5_x86_64.manylinux1_x86_64.manylinux_2_17_x86_64.manylinux2014_x86_64.whl (423 kB)\n",
            "\u001b[2K     \u001b[90m━━━━━━━━━━━━━━━━━━━━━━━━━━━━━━━━━━━━━━\u001b[0m \u001b[32m424.0/424.0 KB\u001b[0m \u001b[31m37.0 MB/s\u001b[0m eta \u001b[36m0:00:00\u001b[0m\n",
            "\u001b[?25hRequirement already satisfied: pyzmq>=17 in /usr/local/lib/python3.8/dist-packages (from notebook>=6.0.3->modin-spreadsheet>=0.1.0->modin[all]) (23.2.1)\n",
            "Collecting argon2-cffi\n",
            "  Downloading argon2_cffi-21.3.0-py3-none-any.whl (14 kB)\n",
            "Requirement already satisfied: Send2Trash>=1.8.0 in /usr/local/lib/python3.8/dist-packages (from notebook>=6.0.3->modin-spreadsheet>=0.1.0->modin[all]) (1.8.0)\n",
            "Requirement already satisfied: jupyter-client>=5.3.4 in /usr/local/lib/python3.8/dist-packages (from notebook>=6.0.3->modin-spreadsheet>=0.1.0->modin[all]) (6.1.12)\n",
            "Requirement already satisfied: locket in /usr/local/lib/python3.8/dist-packages (from partd>=0.3.10->dask>=2.22.0->modin[all]) (1.0.0)\n",
            "Requirement already satisfied: platformdirs<3,>=2.4 in /usr/local/lib/python3.8/dist-packages (from virtualenv>=20.0.24->ray[default]>=1.13.0->modin[all]) (2.6.2)\n",
            "Collecting distlib<1,>=0.3.6\n",
            "  Downloading distlib-0.3.6-py2.py3-none-any.whl (468 kB)\n",
            "\u001b[2K     \u001b[90m━━━━━━━━━━━━━━━━━━━━━━━━━━━━━━━━━━━━━━\u001b[0m \u001b[32m468.5/468.5 KB\u001b[0m \u001b[31m44.0 MB/s\u001b[0m eta \u001b[36m0:00:00\u001b[0m\n",
            "\u001b[?25hRequirement already satisfied: heapdict in /usr/local/lib/python3.8/dist-packages (from zict>=0.1.3->distributed>=2.22.0->modin[all]) (1.0.1)\n",
            "Requirement already satisfied: MarkupSafe>=0.23 in /usr/local/lib/python3.8/dist-packages (from jinja2->distributed>=2.22.0->modin[all]) (2.0.1)\n",
            "Requirement already satisfied: importlib-resources>=1.4.0 in /usr/local/lib/python3.8/dist-packages (from jsonschema->ray[default]>=1.13.0->modin[all]) (5.10.2)\n",
            "Requirement already satisfied: pyrsistent!=0.17.0,!=0.17.1,!=0.17.2,>=0.14.0 in /usr/local/lib/python3.8/dist-packages (from jsonschema->ray[default]>=1.13.0->modin[all]) (0.19.3)\n",
            "Collecting opencensus-context>=0.1.3\n",
            "  Downloading opencensus_context-0.1.3-py2.py3-none-any.whl (5.1 kB)\n",
            "Requirement already satisfied: google-api-core<3.0.0,>=1.0.0 in /usr/local/lib/python3.8/dist-packages (from opencensus->ray[default]>=1.13.0->modin[all]) (2.11.0)\n",
            "Requirement already satisfied: typing-extensions>=4.2.0 in /usr/local/lib/python3.8/dist-packages (from pydantic->ray[default]>=1.13.0->modin[all]) (4.4.0)\n",
            "Requirement already satisfied: idna<3,>=2.5 in /usr/local/lib/python3.8/dist-packages (from requests->ray[default]>=1.13.0->modin[all]) (2.10)\n",
            "Requirement already satisfied: chardet<5,>=3.0.2 in /usr/local/lib/python3.8/dist-packages (from requests->ray[default]>=1.13.0->modin[all]) (4.0.0)\n",
            "Requirement already satisfied: certifi>=2017.4.17 in /usr/local/lib/python3.8/dist-packages (from requests->ray[default]>=1.13.0->modin[all]) (2022.12.7)\n",
            "Requirement already satisfied: wcwidth>=0.1.4 in /usr/local/lib/python3.8/dist-packages (from blessed>=1.17.1->gpustat>=1.0.0->ray[default]>=1.13.0->modin[all]) (0.2.5)\n",
            "Requirement already satisfied: googleapis-common-protos<2.0dev,>=1.56.2 in /usr/local/lib/python3.8/dist-packages (from google-api-core<3.0.0,>=1.0.0->opencensus->ray[default]>=1.13.0->modin[all]) (1.58.0)\n",
            "Requirement already satisfied: google-auth<3.0dev,>=2.14.1 in /usr/local/lib/python3.8/dist-packages (from google-api-core<3.0.0,>=1.0.0->opencensus->ray[default]>=1.13.0->modin[all]) (2.16.0)\n",
            "Requirement already satisfied: zipp>=3.1.0 in /usr/local/lib/python3.8/dist-packages (from importlib-resources>=1.4.0->jsonschema->ray[default]>=1.13.0->modin[all]) (3.11.0)\n",
            "Requirement already satisfied: prompt-toolkit<2.1.0,>=2.0.0 in /usr/local/lib/python3.8/dist-packages (from ipython>=4.0.0->ipywidgets>=7.0.0->modin-spreadsheet>=0.1.0->modin[all]) (2.0.10)\n",
            "Requirement already satisfied: backcall in /usr/local/lib/python3.8/dist-packages (from ipython>=4.0.0->ipywidgets>=7.0.0->modin-spreadsheet>=0.1.0->modin[all]) (0.2.0)\n",
            "Requirement already satisfied: pexpect in /usr/local/lib/python3.8/dist-packages (from ipython>=4.0.0->ipywidgets>=7.0.0->modin-spreadsheet>=0.1.0->modin[all]) (4.8.0)\n",
            "Requirement already satisfied: pygments in /usr/local/lib/python3.8/dist-packages (from ipython>=4.0.0->ipywidgets>=7.0.0->modin-spreadsheet>=0.1.0->modin[all]) (2.6.1)\n",
            "Requirement already satisfied: pickleshare in /usr/local/lib/python3.8/dist-packages (from ipython>=4.0.0->ipywidgets>=7.0.0->modin-spreadsheet>=0.1.0->modin[all]) (0.7.5)\n",
            "Requirement already satisfied: decorator in /usr/local/lib/python3.8/dist-packages (from ipython>=4.0.0->ipywidgets>=7.0.0->modin-spreadsheet>=0.1.0->modin[all]) (4.4.2)\n",
            "Collecting jedi>=0.10\n",
            "  Downloading jedi-0.18.2-py2.py3-none-any.whl (1.6 MB)\n",
            "\u001b[2K     \u001b[90m━━━━━━━━━━━━━━━━━━━━━━━━━━━━━━━━━━━━━━━━\u001b[0m \u001b[32m1.6/1.6 MB\u001b[0m \u001b[31m63.8 MB/s\u001b[0m eta \u001b[36m0:00:00\u001b[0m\n",
            "\u001b[?25hCollecting notebook-shim>=0.1.0\n",
            "  Downloading notebook_shim-0.2.2-py3-none-any.whl (13 kB)\n",
            "Collecting jupyter-server>=1.17.0\n",
            "  Downloading jupyter_server-2.1.0-py3-none-any.whl (365 kB)\n",
            "\u001b[2K     \u001b[90m━━━━━━━━━━━━━━━━━━━━━━━━━━━━━━━━━━━━━━\u001b[0m \u001b[32m365.2/365.2 KB\u001b[0m \u001b[31m36.5 MB/s\u001b[0m eta \u001b[36m0:00:00\u001b[0m\n",
            "\u001b[?25hRequirement already satisfied: pandocfilters>=1.4.1 in /usr/local/lib/python3.8/dist-packages (from nbconvert->jupyter>=1.0.0->modin-spreadsheet>=0.1.0->modin[all]) (1.5.0)\n",
            "Requirement already satisfied: defusedxml in /usr/local/lib/python3.8/dist-packages (from nbconvert->jupyter>=1.0.0->modin-spreadsheet>=0.1.0->modin[all]) (0.7.1)\n",
            "Requirement already satisfied: mistune<2,>=0.8.1 in /usr/local/lib/python3.8/dist-packages (from nbconvert->jupyter>=1.0.0->modin-spreadsheet>=0.1.0->modin[all]) (0.8.4)\n",
            "Requirement already satisfied: entrypoints>=0.2.2 in /usr/local/lib/python3.8/dist-packages (from nbconvert->jupyter>=1.0.0->modin-spreadsheet>=0.1.0->modin[all]) (0.4)\n",
            "Requirement already satisfied: bleach in /usr/local/lib/python3.8/dist-packages (from nbconvert->jupyter>=1.0.0->modin-spreadsheet>=0.1.0->modin[all]) (5.0.1)\n",
            "Requirement already satisfied: testpath in /usr/local/lib/python3.8/dist-packages (from nbconvert->jupyter>=1.0.0->modin-spreadsheet>=0.1.0->modin[all]) (0.6.0)\n",
            "Requirement already satisfied: fastjsonschema in /usr/local/lib/python3.8/dist-packages (from nbformat->notebook>=6.0.3->modin-spreadsheet>=0.1.0->modin[all]) (2.16.2)\n",
            "Requirement already satisfied: ptyprocess in /usr/local/lib/python3.8/dist-packages (from terminado>=0.8.3->notebook>=6.0.3->modin-spreadsheet>=0.1.0->modin[all]) (0.7.0)\n",
            "Collecting argon2-cffi-bindings\n",
            "  Downloading argon2_cffi_bindings-21.2.0-cp36-abi3-manylinux_2_17_x86_64.manylinux2014_x86_64.whl (86 kB)\n",
            "\u001b[2K     \u001b[90m━━━━━━━━━━━━━━━━━━━━━━━━━━━━━━━━━━━━━━━━\u001b[0m \u001b[32m86.2/86.2 KB\u001b[0m \u001b[31m9.7 MB/s\u001b[0m eta \u001b[36m0:00:00\u001b[0m\n",
            "\u001b[?25hCollecting qtpy>=2.0.1\n",
            "  Downloading QtPy-2.3.0-py3-none-any.whl (83 kB)\n",
            "\u001b[2K     \u001b[90m━━━━━━━━━━━━━━━━━━━━━━━━━━━━━━━━━━━━━━━━\u001b[0m \u001b[32m83.6/83.6 KB\u001b[0m \u001b[31m9.5 MB/s\u001b[0m eta \u001b[36m0:00:00\u001b[0m\n",
            "\u001b[?25hRequirement already satisfied: rsa<5,>=3.1.4 in /usr/local/lib/python3.8/dist-packages (from google-auth<3.0dev,>=2.14.1->google-api-core<3.0.0,>=1.0.0->opencensus->ray[default]>=1.13.0->modin[all]) (4.9)\n",
            "Requirement already satisfied: pyasn1-modules>=0.2.1 in /usr/local/lib/python3.8/dist-packages (from google-auth<3.0dev,>=2.14.1->google-api-core<3.0.0,>=1.0.0->opencensus->ray[default]>=1.13.0->modin[all]) (0.2.8)\n",
            "Requirement already satisfied: cachetools<6.0,>=2.0.0 in /usr/local/lib/python3.8/dist-packages (from google-auth<3.0dev,>=2.14.1->google-api-core<3.0.0,>=1.0.0->opencensus->ray[default]>=1.13.0->modin[all]) (5.2.1)\n",
            "Requirement already satisfied: parso<0.9.0,>=0.8.0 in /usr/local/lib/python3.8/dist-packages (from jedi>=0.10->ipython>=4.0.0->ipywidgets>=7.0.0->modin-spreadsheet>=0.1.0->modin[all]) (0.8.3)\n",
            "Collecting pyzmq>=17\n",
            "  Downloading pyzmq-25.0.0-cp38-cp38-manylinux_2_12_x86_64.manylinux2010_x86_64.whl (1.1 MB)\n",
            "\u001b[2K     \u001b[90m━━━━━━━━━━━━━━━━━━━━━━━━━━━━━━━━━━━━━━━━\u001b[0m \u001b[32m1.1/1.1 MB\u001b[0m \u001b[31m8.3 MB/s\u001b[0m eta \u001b[36m0:00:00\u001b[0m\n",
            "\u001b[?25hCollecting anyio<4,>=3.1.0\n",
            "  Downloading anyio-3.6.2-py3-none-any.whl (80 kB)\n",
            "\u001b[2K     \u001b[90m━━━━━━━━━━━━━━━━━━━━━━━━━━━━━━━━━━━━━━━━\u001b[0m \u001b[32m80.6/80.6 KB\u001b[0m \u001b[31m9.5 MB/s\u001b[0m eta \u001b[36m0:00:00\u001b[0m\n",
            "\u001b[?25hCollecting nbconvert\n",
            "  Downloading nbconvert-7.2.9-py3-none-any.whl (274 kB)\n",
            "\u001b[2K     \u001b[90m━━━━━━━━━━━━━━━━━━━━━━━━━━━━━━━━━━━━━━\u001b[0m \u001b[32m274.9/274.9 KB\u001b[0m \u001b[31m28.7 MB/s\u001b[0m eta \u001b[36m0:00:00\u001b[0m\n",
            "\u001b[?25hCollecting jupyter-client>=5.3.4\n",
            "  Downloading jupyter_client-8.0.1-py3-none-any.whl (103 kB)\n",
            "\u001b[2K     \u001b[90m━━━━━━━━━━━━━━━━━━━━━━━━━━━━━━━━━━━━━━\u001b[0m \u001b[32m103.2/103.2 KB\u001b[0m \u001b[31m12.6 MB/s\u001b[0m eta \u001b[36m0:00:00\u001b[0m\n",
            "\u001b[?25hCollecting jupyter-events>=0.4.0\n",
            "  Downloading jupyter_events-0.6.3-py3-none-any.whl (18 kB)\n",
            "Collecting websocket-client\n",
            "  Downloading websocket_client-1.5.0-py3-none-any.whl (55 kB)\n",
            "\u001b[2K     \u001b[90m━━━━━━━━━━━━━━━━━━━━━━━━━━━━━━━━━━━━━━━━\u001b[0m \u001b[32m55.9/55.9 KB\u001b[0m \u001b[31m6.4 MB/s\u001b[0m eta \u001b[36m0:00:00\u001b[0m\n",
            "\u001b[?25hCollecting jupyter-server-terminals\n",
            "  Downloading jupyter_server_terminals-0.4.4-py3-none-any.whl (13 kB)\n",
            "Requirement already satisfied: importlib-metadata>=4.8.3 in /usr/local/lib/python3.8/dist-packages (from jupyter-client>=5.3.4->notebook>=6.0.3->modin-spreadsheet>=0.1.0->modin[all]) (6.0.0)\n",
            "Requirement already satisfied: beautifulsoup4 in /usr/local/lib/python3.8/dist-packages (from nbconvert->jupyter>=1.0.0->modin-spreadsheet>=0.1.0->modin[all]) (4.6.3)\n",
            "Collecting jinja2\n",
            "  Downloading Jinja2-3.1.2-py3-none-any.whl (133 kB)\n",
            "\u001b[2K     \u001b[90m━━━━━━━━━━━━━━━━━━━━━━━━━━━━━━━━━━━━━━\u001b[0m \u001b[32m133.1/133.1 KB\u001b[0m \u001b[31m15.9 MB/s\u001b[0m eta \u001b[36m0:00:00\u001b[0m\n",
            "\u001b[?25hCollecting nbconvert\n",
            "  Downloading nbconvert-7.2.8-py3-none-any.whl (274 kB)\n",
            "\u001b[2K     \u001b[90m━━━━━━━━━━━━━━━━━━━━━━━━━━━━━━━━━━━━━━\u001b[0m \u001b[32m274.8/274.8 KB\u001b[0m \u001b[31m28.1 MB/s\u001b[0m eta \u001b[36m0:00:00\u001b[0m\n",
            "\u001b[?25h  Downloading nbconvert-7.2.7-py3-none-any.whl (273 kB)\n",
            "\u001b[2K     \u001b[90m━━━━━━━━━━━━━━━━━━━━━━━━━━━━━━━━━━━━━━\u001b[0m \u001b[32m273.2/273.2 KB\u001b[0m \u001b[31m27.8 MB/s\u001b[0m eta \u001b[36m0:00:00\u001b[0m\n",
            "\u001b[?25h  Downloading nbconvert-7.2.6-py3-none-any.whl (273 kB)\n",
            "\u001b[2K     \u001b[90m━━━━━━━━━━━━━━━━━━━━━━━━━━━━━━━━━━━━━━\u001b[0m \u001b[32m273.2/273.2 KB\u001b[0m \u001b[31m29.1 MB/s\u001b[0m eta \u001b[36m0:00:00\u001b[0m\n",
            "\u001b[?25h  Downloading nbconvert-7.2.5-py3-none-any.whl (273 kB)\n",
            "\u001b[2K     \u001b[90m━━━━━━━━━━━━━━━━━━━━━━━━━━━━━━━━━━━━━━\u001b[0m \u001b[32m273.3/273.3 KB\u001b[0m \u001b[31m21.8 MB/s\u001b[0m eta \u001b[36m0:00:00\u001b[0m\n",
            "\u001b[?25h  Downloading nbconvert-7.2.4-py3-none-any.whl (273 kB)\n",
            "\u001b[2K     \u001b[90m━━━━━━━━━━━━━━━━━━━━━━━━━━━━━━━━━━━━━━\u001b[0m \u001b[32m273.2/273.2 KB\u001b[0m \u001b[31m27.9 MB/s\u001b[0m eta \u001b[36m0:00:00\u001b[0m\n",
            "\u001b[?25h  Downloading nbconvert-7.2.3-py3-none-any.whl (273 kB)\n",
            "\u001b[2K     \u001b[90m━━━━━━━━━━━━━━━━━━━━━━━━━━━━━━━━━━━━━━\u001b[0m \u001b[32m273.1/273.1 KB\u001b[0m \u001b[31m25.7 MB/s\u001b[0m eta \u001b[36m0:00:00\u001b[0m\n",
            "\u001b[?25h  Downloading nbconvert-7.2.2-py3-none-any.whl (271 kB)\n",
            "\u001b[2K     \u001b[90m━━━━━━━━━━━━━━━━━━━━━━━━━━━━━━━━━━━━━━\u001b[0m \u001b[32m271.6/271.6 KB\u001b[0m \u001b[31m28.9 MB/s\u001b[0m eta \u001b[36m0:00:00\u001b[0m\n",
            "\u001b[?25h  Downloading nbconvert-7.2.1-py3-none-any.whl (271 kB)\n",
            "\u001b[2K     \u001b[90m━━━━━━━━━━━━━━━━━━━━━━━━━━━━━━━━━━━━━━\u001b[0m \u001b[32m271.6/271.6 KB\u001b[0m \u001b[31m28.3 MB/s\u001b[0m eta \u001b[36m0:00:00\u001b[0m\n",
            "\u001b[?25h  Downloading nbconvert-7.1.0-py3-none-any.whl (272 kB)\n",
            "\u001b[2K     \u001b[90m━━━━━━━━━━━━━━━━━━━━━━━━━━━━━━━━━━━━━━\u001b[0m \u001b[32m272.0/272.0 KB\u001b[0m \u001b[31m30.4 MB/s\u001b[0m eta \u001b[36m0:00:00\u001b[0m\n",
            "\u001b[?25h  Downloading nbconvert-7.0.0-py3-none-any.whl (271 kB)\n",
            "\u001b[2K     \u001b[90m━━━━━━━━━━━━━━━━━━━━━━━━━━━━━━━━━━━━━━\u001b[0m \u001b[32m271.3/271.3 KB\u001b[0m \u001b[31m30.4 MB/s\u001b[0m eta \u001b[36m0:00:00\u001b[0m\n",
            "\u001b[?25hRequirement already satisfied: lxml in /usr/local/lib/python3.8/dist-packages (from nbconvert->jupyter>=1.0.0->modin-spreadsheet>=0.1.0->modin[all]) (4.9.2)\n",
            "  Downloading nbconvert-6.5.4-py3-none-any.whl (563 kB)\n",
            "\u001b[2K     \u001b[90m━━━━━━━━━━━━━━━━━━━━━━━━━━━━━━━━━━━━━━\u001b[0m \u001b[32m563.8/563.8 KB\u001b[0m \u001b[31m45.8 MB/s\u001b[0m eta \u001b[36m0:00:00\u001b[0m\n",
            "\u001b[?25hCollecting nbclient>=0.5.0\n",
            "  Downloading nbclient-0.7.2-py3-none-any.whl (71 kB)\n",
            "\u001b[2K     \u001b[90m━━━━━━━━━━━━━━━━━━━━━━━━━━━━━━━━━━━━━━━━\u001b[0m \u001b[32m72.0/72.0 KB\u001b[0m \u001b[31m9.5 MB/s\u001b[0m eta \u001b[36m0:00:00\u001b[0m\n",
            "\u001b[?25hCollecting tinycss2\n",
            "  Downloading tinycss2-1.2.1-py3-none-any.whl (21 kB)\n",
            "Collecting jupyterlab-pygments\n",
            "  Downloading jupyterlab_pygments-0.2.2-py2.py3-none-any.whl (21 kB)\n",
            "Requirement already satisfied: cffi>=1.0.1 in /usr/local/lib/python3.8/dist-packages (from argon2-cffi-bindings->argon2-cffi->notebook>=6.0.3->modin-spreadsheet>=0.1.0->modin[all]) (1.15.1)\n",
            "Requirement already satisfied: webencodings in /usr/local/lib/python3.8/dist-packages (from bleach->nbconvert->jupyter>=1.0.0->modin-spreadsheet>=0.1.0->modin[all]) (0.5.1)\n",
            "Collecting sniffio>=1.1\n",
            "  Downloading sniffio-1.3.0-py3-none-any.whl (10 kB)\n",
            "Requirement already satisfied: pycparser in /usr/local/lib/python3.8/dist-packages (from cffi>=1.0.1->argon2-cffi-bindings->argon2-cffi->notebook>=6.0.3->modin-spreadsheet>=0.1.0->modin[all]) (2.21)\n",
            "Collecting rfc3339-validator\n",
            "  Downloading rfc3339_validator-0.1.4-py2.py3-none-any.whl (3.5 kB)\n",
            "Collecting python-json-logger>=2.0.4\n",
            "  Downloading python_json_logger-2.0.4-py3-none-any.whl (7.8 kB)\n",
            "Collecting rfc3986-validator>=0.1.1\n",
            "  Downloading rfc3986_validator-0.1.1-py2.py3-none-any.whl (4.2 kB)\n",
            "Requirement already satisfied: pyasn1<0.5.0,>=0.4.6 in /usr/local/lib/python3.8/dist-packages (from pyasn1-modules>=0.2.1->google-auth<3.0dev,>=2.14.1->google-api-core<3.0.0,>=1.0.0->opencensus->ray[default]>=1.13.0->modin[all]) (0.4.8)\n",
            "\u001b[33mWARNING: jsonschema 4.3.3 does not provide the extra 'format-nongpl'\u001b[0m\u001b[33m\n",
            "\u001b[0mBuilding wheels for collected packages: gpustat\n",
            "  Building wheel for gpustat (setup.py) ... \u001b[?25l\u001b[?25hdone\n",
            "  Created wheel for gpustat: filename=gpustat-1.0.0-py3-none-any.whl size=19887 sha256=7f1f581c2f492e7cbeb214e826e342624182e373f8022f7738d2666cca632692\n",
            "  Stored in directory: /root/.cache/pip/wheels/1b/ed/14/0d513c962b25da841c42022cb5847c2ef835902c8563b8fb01\n",
            "Successfully built gpustat\n",
            "Installing collected packages: py-spy, opencensus-context, nvidia-ml-py, distlib, colorful, websocket-client, virtualenv, urllib3, tornado, tinycss2, sniffio, rfc3986-validator, rfc3339-validator, pyzmq, python-json-logger, psutil, prometheus-client, plumbum, nest-asyncio, mpi4py-mpich, jupyterlab-pygments, jmespath, jinja2, jedi, blessed, unidist, rpyc, qtpy, pandas, jupyter-client, gpustat, botocore, argon2-cffi-bindings, anyio, s3transfer, ray, modin, jupyter-server-terminals, argon2-cffi, aiohttp-cors, qtconsole, opencensus, nbclient, jupyter-events, boto3, nbconvert, jupyter-server, notebook-shim, nbclassic, notebook, jupyter, modin-spreadsheet\n",
            "  Attempting uninstall: urllib3\n",
            "    Found existing installation: urllib3 1.24.3\n",
            "    Uninstalling urllib3-1.24.3:\n",
            "      Successfully uninstalled urllib3-1.24.3\n",
            "  Attempting uninstall: tornado\n",
            "    Found existing installation: tornado 6.0.4\n",
            "    Uninstalling tornado-6.0.4:\n",
            "      Successfully uninstalled tornado-6.0.4\n",
            "  Attempting uninstall: pyzmq\n",
            "    Found existing installation: pyzmq 23.2.1\n",
            "    Uninstalling pyzmq-23.2.1:\n",
            "      Successfully uninstalled pyzmq-23.2.1\n",
            "  Attempting uninstall: psutil\n",
            "    Found existing installation: psutil 5.4.8\n",
            "    Uninstalling psutil-5.4.8:\n",
            "      Successfully uninstalled psutil-5.4.8\n",
            "  Attempting uninstall: prometheus-client\n",
            "    Found existing installation: prometheus-client 0.15.0\n",
            "    Uninstalling prometheus-client-0.15.0:\n",
            "      Successfully uninstalled prometheus-client-0.15.0\n",
            "  Attempting uninstall: jinja2\n",
            "    Found existing installation: Jinja2 2.11.3\n",
            "    Uninstalling Jinja2-2.11.3:\n",
            "      Successfully uninstalled Jinja2-2.11.3\n",
            "  Attempting uninstall: pandas\n",
            "    Found existing installation: pandas 1.3.5\n",
            "    Uninstalling pandas-1.3.5:\n",
            "      Successfully uninstalled pandas-1.3.5\n",
            "  Attempting uninstall: jupyter-client\n",
            "    Found existing installation: jupyter-client 6.1.12\n",
            "    Uninstalling jupyter-client-6.1.12:\n",
            "      Successfully uninstalled jupyter-client-6.1.12\n",
            "  Attempting uninstall: nbconvert\n",
            "    Found existing installation: nbconvert 5.6.1\n",
            "    Uninstalling nbconvert-5.6.1:\n",
            "      Successfully uninstalled nbconvert-5.6.1\n",
            "  Attempting uninstall: notebook\n",
            "    Found existing installation: notebook 5.7.16\n",
            "    Uninstalling notebook-5.7.16:\n",
            "      Successfully uninstalled notebook-5.7.16\n",
            "\u001b[31mERROR: pip's dependency resolver does not currently take into account all the packages that are installed. This behaviour is the source of the following dependency conflicts.\n",
            "google-colab 1.0.0 requires notebook~=5.7.16, but you have notebook 6.5.2 which is incompatible.\n",
            "google-colab 1.0.0 requires tornado~=6.0.4, but you have tornado 6.2 which is incompatible.\n",
            "flask 1.1.4 requires Jinja2<3.0,>=2.10.1, but you have jinja2 3.1.2 which is incompatible.\u001b[0m\u001b[31m\n",
            "\u001b[0mSuccessfully installed aiohttp-cors-0.7.0 anyio-3.6.2 argon2-cffi-21.3.0 argon2-cffi-bindings-21.2.0 blessed-1.19.1 boto3-1.26.59 botocore-1.29.59 colorful-0.5.5 distlib-0.3.6 gpustat-1.0.0 jedi-0.18.2 jinja2-3.1.2 jmespath-1.0.1 jupyter-1.0.0 jupyter-client-8.0.1 jupyter-events-0.6.3 jupyter-server-2.1.0 jupyter-server-terminals-0.4.4 jupyterlab-pygments-0.2.2 modin-0.18.1 modin-spreadsheet-0.1.2 mpi4py-mpich-3.1.2 nbclassic-0.5.1 nbclient-0.7.2 nbconvert-6.5.4 nest-asyncio-1.5.6 notebook-6.5.2 notebook-shim-0.2.2 nvidia-ml-py-11.495.46 opencensus-0.11.1 opencensus-context-0.1.3 pandas-1.5.3 plumbum-1.8.1 prometheus-client-0.13.1 psutil-5.9.4 py-spy-0.3.14 python-json-logger-2.0.4 pyzmq-25.0.0 qtconsole-5.4.0 qtpy-2.3.0 ray-2.2.0 rfc3339-validator-0.1.4 rfc3986-validator-0.1.1 rpyc-4.1.5 s3transfer-0.6.0 sniffio-1.3.0 tinycss2-1.2.1 tornado-6.2 unidist-0.2.2 urllib3-1.26.14 virtualenv-20.17.1 websocket-client-1.5.0\n"
          ]
        }
      ],
      "source": [
        "!pip install modin[all] "
      ]
    },
    {
      "cell_type": "markdown",
      "metadata": {
        "id": "BEU5ZBYgYBn6"
      },
      "source": [
        "### **Import all used libraries**"
      ]
    },
    {
      "cell_type": "code",
      "execution_count": null,
      "metadata": {
        "id": "uLjuEyQakieC"
      },
      "outputs": [],
      "source": [
        "import pandas as pd\n",
        "import random\n",
        "from sklearn.linear_model import LogisticRegression\n",
        "import numpy as np"
      ]
    },
    {
      "cell_type": "markdown",
      "metadata": {
        "id": "i4V0ETiPY1oC"
      },
      "source": [
        "**Koalas**"
      ]
    },
    {
      "cell_type": "code",
      "execution_count": null,
      "metadata": {
        "colab": {
          "base_uri": "https://localhost:8080/"
        },
        "id": "mibW11oaYvqa",
        "outputId": "9bdced12-bcde-415e-c02e-9899ff6b5c3f"
      },
      "outputs": [
        {
          "output_type": "stream",
          "name": "stderr",
          "text": [
            "WARNING:root:Found pyspark version \"3.3.1\" installed. The pyspark version 3.2 and above has a built-in \"pandas APIs on Spark\" module ported from Koalas. Try `import pyspark.pandas as ps` instead. \n",
            "WARNING:root:'PYARROW_IGNORE_TIMEZONE' environment variable was not set. It is required to set this environment variable to '1' in both driver and executor sides if you use pyarrow>=2.0.0. Koalas will set it for you but it does not work if there is a Spark context already launched.\n"
          ]
        }
      ],
      "source": [
        "import databricks.koalas as ks\n",
        "import pyspark.pandas as ps"
      ]
    },
    {
      "cell_type": "markdown",
      "metadata": {
        "id": "knbPcbBrvUJe"
      },
      "source": [
        "**Modin**"
      ]
    },
    {
      "cell_type": "code",
      "execution_count": null,
      "metadata": {
        "id": "xyOGeTRtrGLP"
      },
      "outputs": [],
      "source": [
        "import modin.pandas as md"
      ]
    },
    {
      "cell_type": "markdown",
      "metadata": {
        "id": "EzYTxfzgESML"
      },
      "source": [
        "# **Import Dataset**\n",
        "\n",
        "This code downloads a csv file named \"airline1516.csv\" from Google Drive to a local environment. It uses PyDrive, GoogleAuth and oauth2client packages and authenticates the user to access Google Drive. The file link and ID are extracted, and the file is then downloaded using CreateFile() and GetContentFile() methods."
      ]
    },
    {
      "cell_type": "markdown",
      "metadata": {
        "id": "NS6eQugAWCZa"
      },
      "source": [
        "### **Access the dataset saved in google drive**"
      ]
    },
    {
      "cell_type": "code",
      "execution_count": null,
      "metadata": {
        "id": "oQ43ELZsWBUR"
      },
      "outputs": [],
      "source": [
        "!pip install -U -q PyDrive\n",
        "from pydrive.auth import GoogleAuth\n",
        "from pydrive.drive import GoogleDrive\n",
        "from google.colab import auth\n",
        "from oauth2client.client import GoogleCredentials\n",
        "\n",
        "auth.authenticate_user()\n",
        "gauth = GoogleAuth()\n",
        "gauth.credentials = GoogleCredentials.get_application_default()\n",
        "drive = GoogleDrive(gauth)\n",
        "link = 'https://drive.google.com/file/d/1MerhI69Lsmynn-HYUthGIoqKzx5wDXNN/view?usp=sharing'\n",
        "# to get the id part of the file\n",
        "id = link.split(\"/\")[-2]\n",
        "\n",
        "downloaded = drive.CreateFile({'id':id})\n",
        "downloaded.GetContentFile('airline1516.csv')"
      ]
    },
    {
      "cell_type": "markdown",
      "metadata": {
        "id": "Bo0vvN3DGzVj"
      },
      "source": [
        "### **Reading file**\n",
        "\n",
        "This code reads a CSV file 'airline1516.csv' into a DataFrame for further data analysis."
      ]
    },
    {
      "cell_type": "markdown",
      "metadata": {
        "id": "vbqFClOd5O3J"
      },
      "source": [
        "**Pandas**"
      ]
    },
    {
      "cell_type": "code",
      "execution_count": null,
      "metadata": {
        "colab": {
          "base_uri": "https://localhost:8080/",
          "height": 748
        },
        "id": "pafL7Li0jyXW",
        "outputId": "61f40ee0-0097-4672-91ae-72021e6f9566"
      },
      "outputs": [
        {
          "output_type": "stream",
          "name": "stderr",
          "text": [
            "/usr/local/lib/python3.8/dist-packages/IPython/core/magics/execution.py:1310: DtypeWarning: Columns (17) have mixed types.Specify dtype option on import or set low_memory=False.\n",
            "  exec(code, glob, local_ns)\n"
          ]
        },
        {
          "output_type": "stream",
          "name": "stdout",
          "text": [
            "CPU times: user 40.4 s, sys: 7.43 s, total: 47.9 s\n",
            "Wall time: 54.2 s\n"
          ]
        },
        {
          "output_type": "execute_result",
          "data": {
            "text/plain": [
              "          Unnamed: 0     FL_DATE OP_CARRIER  OP_CARRIER_FL_NUM ORIGIN DEST  \\\n",
              "0                  0  2015-01-01         NK                195    MCO  FLL   \n",
              "1                  1  2015-01-01         NK                197    LGA  FLL   \n",
              "2                  2  2015-01-01         NK                198    FLL  MCO   \n",
              "3                  3  2015-01-01         NK                199    IAH  LAS   \n",
              "4                  4  2015-01-01         NK                200    IAH  ORD   \n",
              "...              ...         ...        ...                ...    ...  ...   \n",
              "11436732     5617653  2016-12-31         NK                112    IAH  BWI   \n",
              "11436733     5617654  2016-12-31         NK                113    BWI  IAH   \n",
              "11436734     5617655  2016-12-31         NK                121    ORD  RSW   \n",
              "11436735     5617656  2016-12-31         NK                124    RSW  ORD   \n",
              "11436736     5617657  2016-12-31         NK                126    FLL  MYR   \n",
              "\n",
              "          CRS_DEP_TIME  DEP_TIME  DEP_DELAY  TAXI_OUT  ...  CRS_ELAPSED_TIME  \\\n",
              "0                 2147    2143.0       -4.0      15.0  ...              63.0   \n",
              "1                 1050    1104.0       14.0      20.0  ...             194.0   \n",
              "2                  700     712.0       12.0      19.0  ...              57.0   \n",
              "3                 2240    2251.0       11.0       8.0  ...             196.0   \n",
              "4                  623     620.0       -3.0      15.0  ...             152.0   \n",
              "...                ...       ...        ...       ...  ...               ...   \n",
              "11436732           615     613.0       -2.0      12.0  ...             170.0   \n",
              "11436733          2108    2229.0       81.0       9.0  ...             214.0   \n",
              "11436734           700     704.0        4.0      11.0  ...             172.0   \n",
              "11436735          1704    1711.0        7.0       9.0  ...             183.0   \n",
              "11436736          2015    2208.0      113.0      21.0  ...              98.0   \n",
              "\n",
              "          ACTUAL_ELAPSED_TIME  AIR_TIME  DISTANCE  CARRIER_DELAY  \\\n",
              "0                        62.0      40.0     177.0            NaN   \n",
              "1                       179.0     150.0    1076.0            NaN   \n",
              "2                        61.0      32.0     177.0            0.0   \n",
              "3                       176.0     164.0    1222.0            NaN   \n",
              "4                       140.0     115.0     925.0            NaN   \n",
              "...                       ...       ...       ...            ...   \n",
              "11436732                167.0     144.0    1235.0            NaN   \n",
              "11436733                200.0     182.0    1235.0            0.0   \n",
              "11436734                151.0     136.0    1120.0            NaN   \n",
              "11436735                170.0     154.0    1120.0            NaN   \n",
              "11436736                102.0      75.0     529.0          113.0   \n",
              "\n",
              "          WEATHER_DELAY  NAS_DELAY SECURITY_DELAY  LATE_AIRCRAFT_DELAY  \\\n",
              "0                   NaN        NaN            NaN                  NaN   \n",
              "1                   NaN        NaN            NaN                  NaN   \n",
              "2                   0.0       16.0            0.0                  0.0   \n",
              "3                   NaN        NaN            NaN                  NaN   \n",
              "4                   NaN        NaN            NaN                  NaN   \n",
              "...                 ...        ...            ...                  ...   \n",
              "11436732            NaN        NaN            NaN                  NaN   \n",
              "11436733            0.0        0.0            0.0                 67.0   \n",
              "11436734            NaN        NaN            NaN                  NaN   \n",
              "11436735            NaN        NaN            NaN                  NaN   \n",
              "11436736            0.0        4.0            0.0                  0.0   \n",
              "\n",
              "          Unnamed: 27  \n",
              "0                 NaN  \n",
              "1                 NaN  \n",
              "2                 NaN  \n",
              "3                 NaN  \n",
              "4                 NaN  \n",
              "...               ...  \n",
              "11436732          NaN  \n",
              "11436733          NaN  \n",
              "11436734          NaN  \n",
              "11436735          NaN  \n",
              "11436736          NaN  \n",
              "\n",
              "[11436737 rows x 29 columns]"
            ],
            "text/html": [
              "\n",
              "  <div id=\"df-013a36ab-e0da-4b20-a6b8-48529e2cf2f3\">\n",
              "    <div class=\"colab-df-container\">\n",
              "      <div>\n",
              "<style scoped>\n",
              "    .dataframe tbody tr th:only-of-type {\n",
              "        vertical-align: middle;\n",
              "    }\n",
              "\n",
              "    .dataframe tbody tr th {\n",
              "        vertical-align: top;\n",
              "    }\n",
              "\n",
              "    .dataframe thead th {\n",
              "        text-align: right;\n",
              "    }\n",
              "</style>\n",
              "<table border=\"1\" class=\"dataframe\">\n",
              "  <thead>\n",
              "    <tr style=\"text-align: right;\">\n",
              "      <th></th>\n",
              "      <th>Unnamed: 0</th>\n",
              "      <th>FL_DATE</th>\n",
              "      <th>OP_CARRIER</th>\n",
              "      <th>OP_CARRIER_FL_NUM</th>\n",
              "      <th>ORIGIN</th>\n",
              "      <th>DEST</th>\n",
              "      <th>CRS_DEP_TIME</th>\n",
              "      <th>DEP_TIME</th>\n",
              "      <th>DEP_DELAY</th>\n",
              "      <th>TAXI_OUT</th>\n",
              "      <th>...</th>\n",
              "      <th>CRS_ELAPSED_TIME</th>\n",
              "      <th>ACTUAL_ELAPSED_TIME</th>\n",
              "      <th>AIR_TIME</th>\n",
              "      <th>DISTANCE</th>\n",
              "      <th>CARRIER_DELAY</th>\n",
              "      <th>WEATHER_DELAY</th>\n",
              "      <th>NAS_DELAY</th>\n",
              "      <th>SECURITY_DELAY</th>\n",
              "      <th>LATE_AIRCRAFT_DELAY</th>\n",
              "      <th>Unnamed: 27</th>\n",
              "    </tr>\n",
              "  </thead>\n",
              "  <tbody>\n",
              "    <tr>\n",
              "      <th>0</th>\n",
              "      <td>0</td>\n",
              "      <td>2015-01-01</td>\n",
              "      <td>NK</td>\n",
              "      <td>195</td>\n",
              "      <td>MCO</td>\n",
              "      <td>FLL</td>\n",
              "      <td>2147</td>\n",
              "      <td>2143.0</td>\n",
              "      <td>-4.0</td>\n",
              "      <td>15.0</td>\n",
              "      <td>...</td>\n",
              "      <td>63.0</td>\n",
              "      <td>62.0</td>\n",
              "      <td>40.0</td>\n",
              "      <td>177.0</td>\n",
              "      <td>NaN</td>\n",
              "      <td>NaN</td>\n",
              "      <td>NaN</td>\n",
              "      <td>NaN</td>\n",
              "      <td>NaN</td>\n",
              "      <td>NaN</td>\n",
              "    </tr>\n",
              "    <tr>\n",
              "      <th>1</th>\n",
              "      <td>1</td>\n",
              "      <td>2015-01-01</td>\n",
              "      <td>NK</td>\n",
              "      <td>197</td>\n",
              "      <td>LGA</td>\n",
              "      <td>FLL</td>\n",
              "      <td>1050</td>\n",
              "      <td>1104.0</td>\n",
              "      <td>14.0</td>\n",
              "      <td>20.0</td>\n",
              "      <td>...</td>\n",
              "      <td>194.0</td>\n",
              "      <td>179.0</td>\n",
              "      <td>150.0</td>\n",
              "      <td>1076.0</td>\n",
              "      <td>NaN</td>\n",
              "      <td>NaN</td>\n",
              "      <td>NaN</td>\n",
              "      <td>NaN</td>\n",
              "      <td>NaN</td>\n",
              "      <td>NaN</td>\n",
              "    </tr>\n",
              "    <tr>\n",
              "      <th>2</th>\n",
              "      <td>2</td>\n",
              "      <td>2015-01-01</td>\n",
              "      <td>NK</td>\n",
              "      <td>198</td>\n",
              "      <td>FLL</td>\n",
              "      <td>MCO</td>\n",
              "      <td>700</td>\n",
              "      <td>712.0</td>\n",
              "      <td>12.0</td>\n",
              "      <td>19.0</td>\n",
              "      <td>...</td>\n",
              "      <td>57.0</td>\n",
              "      <td>61.0</td>\n",
              "      <td>32.0</td>\n",
              "      <td>177.0</td>\n",
              "      <td>0.0</td>\n",
              "      <td>0.0</td>\n",
              "      <td>16.0</td>\n",
              "      <td>0.0</td>\n",
              "      <td>0.0</td>\n",
              "      <td>NaN</td>\n",
              "    </tr>\n",
              "    <tr>\n",
              "      <th>3</th>\n",
              "      <td>3</td>\n",
              "      <td>2015-01-01</td>\n",
              "      <td>NK</td>\n",
              "      <td>199</td>\n",
              "      <td>IAH</td>\n",
              "      <td>LAS</td>\n",
              "      <td>2240</td>\n",
              "      <td>2251.0</td>\n",
              "      <td>11.0</td>\n",
              "      <td>8.0</td>\n",
              "      <td>...</td>\n",
              "      <td>196.0</td>\n",
              "      <td>176.0</td>\n",
              "      <td>164.0</td>\n",
              "      <td>1222.0</td>\n",
              "      <td>NaN</td>\n",
              "      <td>NaN</td>\n",
              "      <td>NaN</td>\n",
              "      <td>NaN</td>\n",
              "      <td>NaN</td>\n",
              "      <td>NaN</td>\n",
              "    </tr>\n",
              "    <tr>\n",
              "      <th>4</th>\n",
              "      <td>4</td>\n",
              "      <td>2015-01-01</td>\n",
              "      <td>NK</td>\n",
              "      <td>200</td>\n",
              "      <td>IAH</td>\n",
              "      <td>ORD</td>\n",
              "      <td>623</td>\n",
              "      <td>620.0</td>\n",
              "      <td>-3.0</td>\n",
              "      <td>15.0</td>\n",
              "      <td>...</td>\n",
              "      <td>152.0</td>\n",
              "      <td>140.0</td>\n",
              "      <td>115.0</td>\n",
              "      <td>925.0</td>\n",
              "      <td>NaN</td>\n",
              "      <td>NaN</td>\n",
              "      <td>NaN</td>\n",
              "      <td>NaN</td>\n",
              "      <td>NaN</td>\n",
              "      <td>NaN</td>\n",
              "    </tr>\n",
              "    <tr>\n",
              "      <th>...</th>\n",
              "      <td>...</td>\n",
              "      <td>...</td>\n",
              "      <td>...</td>\n",
              "      <td>...</td>\n",
              "      <td>...</td>\n",
              "      <td>...</td>\n",
              "      <td>...</td>\n",
              "      <td>...</td>\n",
              "      <td>...</td>\n",
              "      <td>...</td>\n",
              "      <td>...</td>\n",
              "      <td>...</td>\n",
              "      <td>...</td>\n",
              "      <td>...</td>\n",
              "      <td>...</td>\n",
              "      <td>...</td>\n",
              "      <td>...</td>\n",
              "      <td>...</td>\n",
              "      <td>...</td>\n",
              "      <td>...</td>\n",
              "      <td>...</td>\n",
              "    </tr>\n",
              "    <tr>\n",
              "      <th>11436732</th>\n",
              "      <td>5617653</td>\n",
              "      <td>2016-12-31</td>\n",
              "      <td>NK</td>\n",
              "      <td>112</td>\n",
              "      <td>IAH</td>\n",
              "      <td>BWI</td>\n",
              "      <td>615</td>\n",
              "      <td>613.0</td>\n",
              "      <td>-2.0</td>\n",
              "      <td>12.0</td>\n",
              "      <td>...</td>\n",
              "      <td>170.0</td>\n",
              "      <td>167.0</td>\n",
              "      <td>144.0</td>\n",
              "      <td>1235.0</td>\n",
              "      <td>NaN</td>\n",
              "      <td>NaN</td>\n",
              "      <td>NaN</td>\n",
              "      <td>NaN</td>\n",
              "      <td>NaN</td>\n",
              "      <td>NaN</td>\n",
              "    </tr>\n",
              "    <tr>\n",
              "      <th>11436733</th>\n",
              "      <td>5617654</td>\n",
              "      <td>2016-12-31</td>\n",
              "      <td>NK</td>\n",
              "      <td>113</td>\n",
              "      <td>BWI</td>\n",
              "      <td>IAH</td>\n",
              "      <td>2108</td>\n",
              "      <td>2229.0</td>\n",
              "      <td>81.0</td>\n",
              "      <td>9.0</td>\n",
              "      <td>...</td>\n",
              "      <td>214.0</td>\n",
              "      <td>200.0</td>\n",
              "      <td>182.0</td>\n",
              "      <td>1235.0</td>\n",
              "      <td>0.0</td>\n",
              "      <td>0.0</td>\n",
              "      <td>0.0</td>\n",
              "      <td>0.0</td>\n",
              "      <td>67.0</td>\n",
              "      <td>NaN</td>\n",
              "    </tr>\n",
              "    <tr>\n",
              "      <th>11436734</th>\n",
              "      <td>5617655</td>\n",
              "      <td>2016-12-31</td>\n",
              "      <td>NK</td>\n",
              "      <td>121</td>\n",
              "      <td>ORD</td>\n",
              "      <td>RSW</td>\n",
              "      <td>700</td>\n",
              "      <td>704.0</td>\n",
              "      <td>4.0</td>\n",
              "      <td>11.0</td>\n",
              "      <td>...</td>\n",
              "      <td>172.0</td>\n",
              "      <td>151.0</td>\n",
              "      <td>136.0</td>\n",
              "      <td>1120.0</td>\n",
              "      <td>NaN</td>\n",
              "      <td>NaN</td>\n",
              "      <td>NaN</td>\n",
              "      <td>NaN</td>\n",
              "      <td>NaN</td>\n",
              "      <td>NaN</td>\n",
              "    </tr>\n",
              "    <tr>\n",
              "      <th>11436735</th>\n",
              "      <td>5617656</td>\n",
              "      <td>2016-12-31</td>\n",
              "      <td>NK</td>\n",
              "      <td>124</td>\n",
              "      <td>RSW</td>\n",
              "      <td>ORD</td>\n",
              "      <td>1704</td>\n",
              "      <td>1711.0</td>\n",
              "      <td>7.0</td>\n",
              "      <td>9.0</td>\n",
              "      <td>...</td>\n",
              "      <td>183.0</td>\n",
              "      <td>170.0</td>\n",
              "      <td>154.0</td>\n",
              "      <td>1120.0</td>\n",
              "      <td>NaN</td>\n",
              "      <td>NaN</td>\n",
              "      <td>NaN</td>\n",
              "      <td>NaN</td>\n",
              "      <td>NaN</td>\n",
              "      <td>NaN</td>\n",
              "    </tr>\n",
              "    <tr>\n",
              "      <th>11436736</th>\n",
              "      <td>5617657</td>\n",
              "      <td>2016-12-31</td>\n",
              "      <td>NK</td>\n",
              "      <td>126</td>\n",
              "      <td>FLL</td>\n",
              "      <td>MYR</td>\n",
              "      <td>2015</td>\n",
              "      <td>2208.0</td>\n",
              "      <td>113.0</td>\n",
              "      <td>21.0</td>\n",
              "      <td>...</td>\n",
              "      <td>98.0</td>\n",
              "      <td>102.0</td>\n",
              "      <td>75.0</td>\n",
              "      <td>529.0</td>\n",
              "      <td>113.0</td>\n",
              "      <td>0.0</td>\n",
              "      <td>4.0</td>\n",
              "      <td>0.0</td>\n",
              "      <td>0.0</td>\n",
              "      <td>NaN</td>\n",
              "    </tr>\n",
              "  </tbody>\n",
              "</table>\n",
              "<p>11436737 rows × 29 columns</p>\n",
              "</div>\n",
              "      <button class=\"colab-df-convert\" onclick=\"convertToInteractive('df-013a36ab-e0da-4b20-a6b8-48529e2cf2f3')\"\n",
              "              title=\"Convert this dataframe to an interactive table.\"\n",
              "              style=\"display:none;\">\n",
              "        \n",
              "  <svg xmlns=\"http://www.w3.org/2000/svg\" height=\"24px\"viewBox=\"0 0 24 24\"\n",
              "       width=\"24px\">\n",
              "    <path d=\"M0 0h24v24H0V0z\" fill=\"none\"/>\n",
              "    <path d=\"M18.56 5.44l.94 2.06.94-2.06 2.06-.94-2.06-.94-.94-2.06-.94 2.06-2.06.94zm-11 1L8.5 8.5l.94-2.06 2.06-.94-2.06-.94L8.5 2.5l-.94 2.06-2.06.94zm10 10l.94 2.06.94-2.06 2.06-.94-2.06-.94-.94-2.06-.94 2.06-2.06.94z\"/><path d=\"M17.41 7.96l-1.37-1.37c-.4-.4-.92-.59-1.43-.59-.52 0-1.04.2-1.43.59L10.3 9.45l-7.72 7.72c-.78.78-.78 2.05 0 2.83L4 21.41c.39.39.9.59 1.41.59.51 0 1.02-.2 1.41-.59l7.78-7.78 2.81-2.81c.8-.78.8-2.07 0-2.86zM5.41 20L4 18.59l7.72-7.72 1.47 1.35L5.41 20z\"/>\n",
              "  </svg>\n",
              "      </button>\n",
              "      \n",
              "  <style>\n",
              "    .colab-df-container {\n",
              "      display:flex;\n",
              "      flex-wrap:wrap;\n",
              "      gap: 12px;\n",
              "    }\n",
              "\n",
              "    .colab-df-convert {\n",
              "      background-color: #E8F0FE;\n",
              "      border: none;\n",
              "      border-radius: 50%;\n",
              "      cursor: pointer;\n",
              "      display: none;\n",
              "      fill: #1967D2;\n",
              "      height: 32px;\n",
              "      padding: 0 0 0 0;\n",
              "      width: 32px;\n",
              "    }\n",
              "\n",
              "    .colab-df-convert:hover {\n",
              "      background-color: #E2EBFA;\n",
              "      box-shadow: 0px 1px 2px rgba(60, 64, 67, 0.3), 0px 1px 3px 1px rgba(60, 64, 67, 0.15);\n",
              "      fill: #174EA6;\n",
              "    }\n",
              "\n",
              "    [theme=dark] .colab-df-convert {\n",
              "      background-color: #3B4455;\n",
              "      fill: #D2E3FC;\n",
              "    }\n",
              "\n",
              "    [theme=dark] .colab-df-convert:hover {\n",
              "      background-color: #434B5C;\n",
              "      box-shadow: 0px 1px 3px 1px rgba(0, 0, 0, 0.15);\n",
              "      filter: drop-shadow(0px 1px 2px rgba(0, 0, 0, 0.3));\n",
              "      fill: #FFFFFF;\n",
              "    }\n",
              "  </style>\n",
              "\n",
              "      <script>\n",
              "        const buttonEl =\n",
              "          document.querySelector('#df-013a36ab-e0da-4b20-a6b8-48529e2cf2f3 button.colab-df-convert');\n",
              "        buttonEl.style.display =\n",
              "          google.colab.kernel.accessAllowed ? 'block' : 'none';\n",
              "\n",
              "        async function convertToInteractive(key) {\n",
              "          const element = document.querySelector('#df-013a36ab-e0da-4b20-a6b8-48529e2cf2f3');\n",
              "          const dataTable =\n",
              "            await google.colab.kernel.invokeFunction('convertToInteractive',\n",
              "                                                     [key], {});\n",
              "          if (!dataTable) return;\n",
              "\n",
              "          const docLinkHtml = 'Like what you see? Visit the ' +\n",
              "            '<a target=\"_blank\" href=https://colab.research.google.com/notebooks/data_table.ipynb>data table notebook</a>'\n",
              "            + ' to learn more about interactive tables.';\n",
              "          element.innerHTML = '';\n",
              "          dataTable['output_type'] = 'display_data';\n",
              "          await google.colab.output.renderOutput(dataTable, element);\n",
              "          const docLink = document.createElement('div');\n",
              "          docLink.innerHTML = docLinkHtml;\n",
              "          element.appendChild(docLink);\n",
              "        }\n",
              "      </script>\n",
              "    </div>\n",
              "  </div>\n",
              "  "
            ]
          },
          "metadata": {},
          "execution_count": 5
        }
      ],
      "source": [
        "%%time\n",
        "df =pd.read_csv('airline1516.csv')\n",
        "df"
      ]
    },
    {
      "cell_type": "code",
      "execution_count": null,
      "metadata": {
        "colab": {
          "base_uri": "https://localhost:8080/",
          "height": 352
        },
        "id": "Kv4_Fng1tkaG",
        "outputId": "14d11af9-5583-474a-e214-b19da12c0c55"
      },
      "outputs": [
        {
          "name": "stdout",
          "output_type": "stream",
          "text": [
            "CPU times: user 198 µs, sys: 0 ns, total: 198 µs\n",
            "Wall time: 203 µs\n"
          ]
        },
        {
          "data": {
            "text/html": [
              "\n",
              "  <div id=\"df-8b7575ff-a4eb-44a1-ae57-e8444e164cdf\">\n",
              "    <div class=\"colab-df-container\">\n",
              "      <div>\n",
              "<style scoped>\n",
              "    .dataframe tbody tr th:only-of-type {\n",
              "        vertical-align: middle;\n",
              "    }\n",
              "\n",
              "    .dataframe tbody tr th {\n",
              "        vertical-align: top;\n",
              "    }\n",
              "\n",
              "    .dataframe thead th {\n",
              "        text-align: right;\n",
              "    }\n",
              "</style>\n",
              "<table border=\"1\" class=\"dataframe\">\n",
              "  <thead>\n",
              "    <tr style=\"text-align: right;\">\n",
              "      <th></th>\n",
              "      <th>Unnamed: 0</th>\n",
              "      <th>FL_DATE</th>\n",
              "      <th>OP_CARRIER</th>\n",
              "      <th>OP_CARRIER_FL_NUM</th>\n",
              "      <th>ORIGIN</th>\n",
              "      <th>DEST</th>\n",
              "      <th>CRS_DEP_TIME</th>\n",
              "      <th>DEP_TIME</th>\n",
              "      <th>DEP_DELAY</th>\n",
              "      <th>TAXI_OUT</th>\n",
              "      <th>...</th>\n",
              "      <th>CRS_ELAPSED_TIME</th>\n",
              "      <th>ACTUAL_ELAPSED_TIME</th>\n",
              "      <th>AIR_TIME</th>\n",
              "      <th>DISTANCE</th>\n",
              "      <th>CARRIER_DELAY</th>\n",
              "      <th>WEATHER_DELAY</th>\n",
              "      <th>NAS_DELAY</th>\n",
              "      <th>SECURITY_DELAY</th>\n",
              "      <th>LATE_AIRCRAFT_DELAY</th>\n",
              "      <th>Unnamed: 27</th>\n",
              "    </tr>\n",
              "  </thead>\n",
              "  <tbody>\n",
              "    <tr>\n",
              "      <th>0</th>\n",
              "      <td>0</td>\n",
              "      <td>2015-01-01</td>\n",
              "      <td>NK</td>\n",
              "      <td>195</td>\n",
              "      <td>MCO</td>\n",
              "      <td>FLL</td>\n",
              "      <td>2147</td>\n",
              "      <td>2143.0</td>\n",
              "      <td>-4.0</td>\n",
              "      <td>15.0</td>\n",
              "      <td>...</td>\n",
              "      <td>63.0</td>\n",
              "      <td>62.0</td>\n",
              "      <td>40.0</td>\n",
              "      <td>177.0</td>\n",
              "      <td>NaN</td>\n",
              "      <td>NaN</td>\n",
              "      <td>NaN</td>\n",
              "      <td>NaN</td>\n",
              "      <td>NaN</td>\n",
              "      <td>NaN</td>\n",
              "    </tr>\n",
              "    <tr>\n",
              "      <th>1</th>\n",
              "      <td>1</td>\n",
              "      <td>2015-01-01</td>\n",
              "      <td>NK</td>\n",
              "      <td>197</td>\n",
              "      <td>LGA</td>\n",
              "      <td>FLL</td>\n",
              "      <td>1050</td>\n",
              "      <td>1104.0</td>\n",
              "      <td>14.0</td>\n",
              "      <td>20.0</td>\n",
              "      <td>...</td>\n",
              "      <td>194.0</td>\n",
              "      <td>179.0</td>\n",
              "      <td>150.0</td>\n",
              "      <td>1076.0</td>\n",
              "      <td>NaN</td>\n",
              "      <td>NaN</td>\n",
              "      <td>NaN</td>\n",
              "      <td>NaN</td>\n",
              "      <td>NaN</td>\n",
              "      <td>NaN</td>\n",
              "    </tr>\n",
              "    <tr>\n",
              "      <th>2</th>\n",
              "      <td>2</td>\n",
              "      <td>2015-01-01</td>\n",
              "      <td>NK</td>\n",
              "      <td>198</td>\n",
              "      <td>FLL</td>\n",
              "      <td>MCO</td>\n",
              "      <td>700</td>\n",
              "      <td>712.0</td>\n",
              "      <td>12.0</td>\n",
              "      <td>19.0</td>\n",
              "      <td>...</td>\n",
              "      <td>57.0</td>\n",
              "      <td>61.0</td>\n",
              "      <td>32.0</td>\n",
              "      <td>177.0</td>\n",
              "      <td>0.0</td>\n",
              "      <td>0.0</td>\n",
              "      <td>16.0</td>\n",
              "      <td>0.0</td>\n",
              "      <td>0.0</td>\n",
              "      <td>NaN</td>\n",
              "    </tr>\n",
              "    <tr>\n",
              "      <th>3</th>\n",
              "      <td>3</td>\n",
              "      <td>2015-01-01</td>\n",
              "      <td>NK</td>\n",
              "      <td>199</td>\n",
              "      <td>IAH</td>\n",
              "      <td>LAS</td>\n",
              "      <td>2240</td>\n",
              "      <td>2251.0</td>\n",
              "      <td>11.0</td>\n",
              "      <td>8.0</td>\n",
              "      <td>...</td>\n",
              "      <td>196.0</td>\n",
              "      <td>176.0</td>\n",
              "      <td>164.0</td>\n",
              "      <td>1222.0</td>\n",
              "      <td>NaN</td>\n",
              "      <td>NaN</td>\n",
              "      <td>NaN</td>\n",
              "      <td>NaN</td>\n",
              "      <td>NaN</td>\n",
              "      <td>NaN</td>\n",
              "    </tr>\n",
              "    <tr>\n",
              "      <th>4</th>\n",
              "      <td>4</td>\n",
              "      <td>2015-01-01</td>\n",
              "      <td>NK</td>\n",
              "      <td>200</td>\n",
              "      <td>IAH</td>\n",
              "      <td>ORD</td>\n",
              "      <td>623</td>\n",
              "      <td>620.0</td>\n",
              "      <td>-3.0</td>\n",
              "      <td>15.0</td>\n",
              "      <td>...</td>\n",
              "      <td>152.0</td>\n",
              "      <td>140.0</td>\n",
              "      <td>115.0</td>\n",
              "      <td>925.0</td>\n",
              "      <td>NaN</td>\n",
              "      <td>NaN</td>\n",
              "      <td>NaN</td>\n",
              "      <td>NaN</td>\n",
              "      <td>NaN</td>\n",
              "      <td>NaN</td>\n",
              "    </tr>\n",
              "  </tbody>\n",
              "</table>\n",
              "<p>5 rows × 29 columns</p>\n",
              "</div>\n",
              "      <button class=\"colab-df-convert\" onclick=\"convertToInteractive('df-8b7575ff-a4eb-44a1-ae57-e8444e164cdf')\"\n",
              "              title=\"Convert this dataframe to an interactive table.\"\n",
              "              style=\"display:none;\">\n",
              "        \n",
              "  <svg xmlns=\"http://www.w3.org/2000/svg\" height=\"24px\"viewBox=\"0 0 24 24\"\n",
              "       width=\"24px\">\n",
              "    <path d=\"M0 0h24v24H0V0z\" fill=\"none\"/>\n",
              "    <path d=\"M18.56 5.44l.94 2.06.94-2.06 2.06-.94-2.06-.94-.94-2.06-.94 2.06-2.06.94zm-11 1L8.5 8.5l.94-2.06 2.06-.94-2.06-.94L8.5 2.5l-.94 2.06-2.06.94zm10 10l.94 2.06.94-2.06 2.06-.94-2.06-.94-.94-2.06-.94 2.06-2.06.94z\"/><path d=\"M17.41 7.96l-1.37-1.37c-.4-.4-.92-.59-1.43-.59-.52 0-1.04.2-1.43.59L10.3 9.45l-7.72 7.72c-.78.78-.78 2.05 0 2.83L4 21.41c.39.39.9.59 1.41.59.51 0 1.02-.2 1.41-.59l7.78-7.78 2.81-2.81c.8-.78.8-2.07 0-2.86zM5.41 20L4 18.59l7.72-7.72 1.47 1.35L5.41 20z\"/>\n",
              "  </svg>\n",
              "      </button>\n",
              "      \n",
              "  <style>\n",
              "    .colab-df-container {\n",
              "      display:flex;\n",
              "      flex-wrap:wrap;\n",
              "      gap: 12px;\n",
              "    }\n",
              "\n",
              "    .colab-df-convert {\n",
              "      background-color: #E8F0FE;\n",
              "      border: none;\n",
              "      border-radius: 50%;\n",
              "      cursor: pointer;\n",
              "      display: none;\n",
              "      fill: #1967D2;\n",
              "      height: 32px;\n",
              "      padding: 0 0 0 0;\n",
              "      width: 32px;\n",
              "    }\n",
              "\n",
              "    .colab-df-convert:hover {\n",
              "      background-color: #E2EBFA;\n",
              "      box-shadow: 0px 1px 2px rgba(60, 64, 67, 0.3), 0px 1px 3px 1px rgba(60, 64, 67, 0.15);\n",
              "      fill: #174EA6;\n",
              "    }\n",
              "\n",
              "    [theme=dark] .colab-df-convert {\n",
              "      background-color: #3B4455;\n",
              "      fill: #D2E3FC;\n",
              "    }\n",
              "\n",
              "    [theme=dark] .colab-df-convert:hover {\n",
              "      background-color: #434B5C;\n",
              "      box-shadow: 0px 1px 3px 1px rgba(0, 0, 0, 0.15);\n",
              "      filter: drop-shadow(0px 1px 2px rgba(0, 0, 0, 0.3));\n",
              "      fill: #FFFFFF;\n",
              "    }\n",
              "  </style>\n",
              "\n",
              "      <script>\n",
              "        const buttonEl =\n",
              "          document.querySelector('#df-8b7575ff-a4eb-44a1-ae57-e8444e164cdf button.colab-df-convert');\n",
              "        buttonEl.style.display =\n",
              "          google.colab.kernel.accessAllowed ? 'block' : 'none';\n",
              "\n",
              "        async function convertToInteractive(key) {\n",
              "          const element = document.querySelector('#df-8b7575ff-a4eb-44a1-ae57-e8444e164cdf');\n",
              "          const dataTable =\n",
              "            await google.colab.kernel.invokeFunction('convertToInteractive',\n",
              "                                                     [key], {});\n",
              "          if (!dataTable) return;\n",
              "\n",
              "          const docLinkHtml = 'Like what you see? Visit the ' +\n",
              "            '<a target=\"_blank\" href=https://colab.research.google.com/notebooks/data_table.ipynb>data table notebook</a>'\n",
              "            + ' to learn more about interactive tables.';\n",
              "          element.innerHTML = '';\n",
              "          dataTable['output_type'] = 'display_data';\n",
              "          await google.colab.output.renderOutput(dataTable, element);\n",
              "          const docLink = document.createElement('div');\n",
              "          docLink.innerHTML = docLinkHtml;\n",
              "          element.appendChild(docLink);\n",
              "        }\n",
              "      </script>\n",
              "    </div>\n",
              "  </div>\n",
              "  "
            ],
            "text/plain": [
              "   Unnamed: 0     FL_DATE OP_CARRIER  OP_CARRIER_FL_NUM ORIGIN DEST  \\\n",
              "0           0  2015-01-01         NK                195    MCO  FLL   \n",
              "1           1  2015-01-01         NK                197    LGA  FLL   \n",
              "2           2  2015-01-01         NK                198    FLL  MCO   \n",
              "3           3  2015-01-01         NK                199    IAH  LAS   \n",
              "4           4  2015-01-01         NK                200    IAH  ORD   \n",
              "\n",
              "   CRS_DEP_TIME  DEP_TIME  DEP_DELAY  TAXI_OUT  ...  CRS_ELAPSED_TIME  \\\n",
              "0          2147    2143.0       -4.0      15.0  ...              63.0   \n",
              "1          1050    1104.0       14.0      20.0  ...             194.0   \n",
              "2           700     712.0       12.0      19.0  ...              57.0   \n",
              "3          2240    2251.0       11.0       8.0  ...             196.0   \n",
              "4           623     620.0       -3.0      15.0  ...             152.0   \n",
              "\n",
              "   ACTUAL_ELAPSED_TIME  AIR_TIME  DISTANCE  CARRIER_DELAY  WEATHER_DELAY  \\\n",
              "0                 62.0      40.0     177.0            NaN            NaN   \n",
              "1                179.0     150.0    1076.0            NaN            NaN   \n",
              "2                 61.0      32.0     177.0            0.0            0.0   \n",
              "3                176.0     164.0    1222.0            NaN            NaN   \n",
              "4                140.0     115.0     925.0            NaN            NaN   \n",
              "\n",
              "   NAS_DELAY SECURITY_DELAY  LATE_AIRCRAFT_DELAY  Unnamed: 27  \n",
              "0        NaN            NaN                  NaN          NaN  \n",
              "1        NaN            NaN                  NaN          NaN  \n",
              "2       16.0            0.0                  0.0          NaN  \n",
              "3        NaN            NaN                  NaN          NaN  \n",
              "4        NaN            NaN                  NaN          NaN  \n",
              "\n",
              "[5 rows x 29 columns]"
            ]
          },
          "execution_count": 22,
          "metadata": {},
          "output_type": "execute_result"
        }
      ],
      "source": [
        "%%time\n",
        "df.head()"
      ]
    },
    {
      "cell_type": "code",
      "execution_count": null,
      "metadata": {
        "colab": {
          "base_uri": "https://localhost:8080/",
          "height": 352
        },
        "id": "lrfKeuJqtvSW",
        "outputId": "772c378d-c47f-4a9a-af82-2f3de1b22a61"
      },
      "outputs": [
        {
          "name": "stdout",
          "output_type": "stream",
          "text": [
            "CPU times: user 210 µs, sys: 30 µs, total: 240 µs\n",
            "Wall time: 247 µs\n"
          ]
        },
        {
          "data": {
            "text/html": [
              "\n",
              "  <div id=\"df-0c978d73-3927-49e3-8543-23ad333d2f90\">\n",
              "    <div class=\"colab-df-container\">\n",
              "      <div>\n",
              "<style scoped>\n",
              "    .dataframe tbody tr th:only-of-type {\n",
              "        vertical-align: middle;\n",
              "    }\n",
              "\n",
              "    .dataframe tbody tr th {\n",
              "        vertical-align: top;\n",
              "    }\n",
              "\n",
              "    .dataframe thead th {\n",
              "        text-align: right;\n",
              "    }\n",
              "</style>\n",
              "<table border=\"1\" class=\"dataframe\">\n",
              "  <thead>\n",
              "    <tr style=\"text-align: right;\">\n",
              "      <th></th>\n",
              "      <th>Unnamed: 0</th>\n",
              "      <th>FL_DATE</th>\n",
              "      <th>OP_CARRIER</th>\n",
              "      <th>OP_CARRIER_FL_NUM</th>\n",
              "      <th>ORIGIN</th>\n",
              "      <th>DEST</th>\n",
              "      <th>CRS_DEP_TIME</th>\n",
              "      <th>DEP_TIME</th>\n",
              "      <th>DEP_DELAY</th>\n",
              "      <th>TAXI_OUT</th>\n",
              "      <th>...</th>\n",
              "      <th>CRS_ELAPSED_TIME</th>\n",
              "      <th>ACTUAL_ELAPSED_TIME</th>\n",
              "      <th>AIR_TIME</th>\n",
              "      <th>DISTANCE</th>\n",
              "      <th>CARRIER_DELAY</th>\n",
              "      <th>WEATHER_DELAY</th>\n",
              "      <th>NAS_DELAY</th>\n",
              "      <th>SECURITY_DELAY</th>\n",
              "      <th>LATE_AIRCRAFT_DELAY</th>\n",
              "      <th>Unnamed: 27</th>\n",
              "    </tr>\n",
              "  </thead>\n",
              "  <tbody>\n",
              "    <tr>\n",
              "      <th>11436732</th>\n",
              "      <td>5617653</td>\n",
              "      <td>2016-12-31</td>\n",
              "      <td>NK</td>\n",
              "      <td>112</td>\n",
              "      <td>IAH</td>\n",
              "      <td>BWI</td>\n",
              "      <td>615</td>\n",
              "      <td>613.0</td>\n",
              "      <td>-2.0</td>\n",
              "      <td>12.0</td>\n",
              "      <td>...</td>\n",
              "      <td>170.0</td>\n",
              "      <td>167.0</td>\n",
              "      <td>144.0</td>\n",
              "      <td>1235.0</td>\n",
              "      <td>NaN</td>\n",
              "      <td>NaN</td>\n",
              "      <td>NaN</td>\n",
              "      <td>NaN</td>\n",
              "      <td>NaN</td>\n",
              "      <td>NaN</td>\n",
              "    </tr>\n",
              "    <tr>\n",
              "      <th>11436733</th>\n",
              "      <td>5617654</td>\n",
              "      <td>2016-12-31</td>\n",
              "      <td>NK</td>\n",
              "      <td>113</td>\n",
              "      <td>BWI</td>\n",
              "      <td>IAH</td>\n",
              "      <td>2108</td>\n",
              "      <td>2229.0</td>\n",
              "      <td>81.0</td>\n",
              "      <td>9.0</td>\n",
              "      <td>...</td>\n",
              "      <td>214.0</td>\n",
              "      <td>200.0</td>\n",
              "      <td>182.0</td>\n",
              "      <td>1235.0</td>\n",
              "      <td>0.0</td>\n",
              "      <td>0.0</td>\n",
              "      <td>0.0</td>\n",
              "      <td>0.0</td>\n",
              "      <td>67.0</td>\n",
              "      <td>NaN</td>\n",
              "    </tr>\n",
              "    <tr>\n",
              "      <th>11436734</th>\n",
              "      <td>5617655</td>\n",
              "      <td>2016-12-31</td>\n",
              "      <td>NK</td>\n",
              "      <td>121</td>\n",
              "      <td>ORD</td>\n",
              "      <td>RSW</td>\n",
              "      <td>700</td>\n",
              "      <td>704.0</td>\n",
              "      <td>4.0</td>\n",
              "      <td>11.0</td>\n",
              "      <td>...</td>\n",
              "      <td>172.0</td>\n",
              "      <td>151.0</td>\n",
              "      <td>136.0</td>\n",
              "      <td>1120.0</td>\n",
              "      <td>NaN</td>\n",
              "      <td>NaN</td>\n",
              "      <td>NaN</td>\n",
              "      <td>NaN</td>\n",
              "      <td>NaN</td>\n",
              "      <td>NaN</td>\n",
              "    </tr>\n",
              "    <tr>\n",
              "      <th>11436735</th>\n",
              "      <td>5617656</td>\n",
              "      <td>2016-12-31</td>\n",
              "      <td>NK</td>\n",
              "      <td>124</td>\n",
              "      <td>RSW</td>\n",
              "      <td>ORD</td>\n",
              "      <td>1704</td>\n",
              "      <td>1711.0</td>\n",
              "      <td>7.0</td>\n",
              "      <td>9.0</td>\n",
              "      <td>...</td>\n",
              "      <td>183.0</td>\n",
              "      <td>170.0</td>\n",
              "      <td>154.0</td>\n",
              "      <td>1120.0</td>\n",
              "      <td>NaN</td>\n",
              "      <td>NaN</td>\n",
              "      <td>NaN</td>\n",
              "      <td>NaN</td>\n",
              "      <td>NaN</td>\n",
              "      <td>NaN</td>\n",
              "    </tr>\n",
              "    <tr>\n",
              "      <th>11436736</th>\n",
              "      <td>5617657</td>\n",
              "      <td>2016-12-31</td>\n",
              "      <td>NK</td>\n",
              "      <td>126</td>\n",
              "      <td>FLL</td>\n",
              "      <td>MYR</td>\n",
              "      <td>2015</td>\n",
              "      <td>2208.0</td>\n",
              "      <td>113.0</td>\n",
              "      <td>21.0</td>\n",
              "      <td>...</td>\n",
              "      <td>98.0</td>\n",
              "      <td>102.0</td>\n",
              "      <td>75.0</td>\n",
              "      <td>529.0</td>\n",
              "      <td>113.0</td>\n",
              "      <td>0.0</td>\n",
              "      <td>4.0</td>\n",
              "      <td>0.0</td>\n",
              "      <td>0.0</td>\n",
              "      <td>NaN</td>\n",
              "    </tr>\n",
              "  </tbody>\n",
              "</table>\n",
              "<p>5 rows × 29 columns</p>\n",
              "</div>\n",
              "      <button class=\"colab-df-convert\" onclick=\"convertToInteractive('df-0c978d73-3927-49e3-8543-23ad333d2f90')\"\n",
              "              title=\"Convert this dataframe to an interactive table.\"\n",
              "              style=\"display:none;\">\n",
              "        \n",
              "  <svg xmlns=\"http://www.w3.org/2000/svg\" height=\"24px\"viewBox=\"0 0 24 24\"\n",
              "       width=\"24px\">\n",
              "    <path d=\"M0 0h24v24H0V0z\" fill=\"none\"/>\n",
              "    <path d=\"M18.56 5.44l.94 2.06.94-2.06 2.06-.94-2.06-.94-.94-2.06-.94 2.06-2.06.94zm-11 1L8.5 8.5l.94-2.06 2.06-.94-2.06-.94L8.5 2.5l-.94 2.06-2.06.94zm10 10l.94 2.06.94-2.06 2.06-.94-2.06-.94-.94-2.06-.94 2.06-2.06.94z\"/><path d=\"M17.41 7.96l-1.37-1.37c-.4-.4-.92-.59-1.43-.59-.52 0-1.04.2-1.43.59L10.3 9.45l-7.72 7.72c-.78.78-.78 2.05 0 2.83L4 21.41c.39.39.9.59 1.41.59.51 0 1.02-.2 1.41-.59l7.78-7.78 2.81-2.81c.8-.78.8-2.07 0-2.86zM5.41 20L4 18.59l7.72-7.72 1.47 1.35L5.41 20z\"/>\n",
              "  </svg>\n",
              "      </button>\n",
              "      \n",
              "  <style>\n",
              "    .colab-df-container {\n",
              "      display:flex;\n",
              "      flex-wrap:wrap;\n",
              "      gap: 12px;\n",
              "    }\n",
              "\n",
              "    .colab-df-convert {\n",
              "      background-color: #E8F0FE;\n",
              "      border: none;\n",
              "      border-radius: 50%;\n",
              "      cursor: pointer;\n",
              "      display: none;\n",
              "      fill: #1967D2;\n",
              "      height: 32px;\n",
              "      padding: 0 0 0 0;\n",
              "      width: 32px;\n",
              "    }\n",
              "\n",
              "    .colab-df-convert:hover {\n",
              "      background-color: #E2EBFA;\n",
              "      box-shadow: 0px 1px 2px rgba(60, 64, 67, 0.3), 0px 1px 3px 1px rgba(60, 64, 67, 0.15);\n",
              "      fill: #174EA6;\n",
              "    }\n",
              "\n",
              "    [theme=dark] .colab-df-convert {\n",
              "      background-color: #3B4455;\n",
              "      fill: #D2E3FC;\n",
              "    }\n",
              "\n",
              "    [theme=dark] .colab-df-convert:hover {\n",
              "      background-color: #434B5C;\n",
              "      box-shadow: 0px 1px 3px 1px rgba(0, 0, 0, 0.15);\n",
              "      filter: drop-shadow(0px 1px 2px rgba(0, 0, 0, 0.3));\n",
              "      fill: #FFFFFF;\n",
              "    }\n",
              "  </style>\n",
              "\n",
              "      <script>\n",
              "        const buttonEl =\n",
              "          document.querySelector('#df-0c978d73-3927-49e3-8543-23ad333d2f90 button.colab-df-convert');\n",
              "        buttonEl.style.display =\n",
              "          google.colab.kernel.accessAllowed ? 'block' : 'none';\n",
              "\n",
              "        async function convertToInteractive(key) {\n",
              "          const element = document.querySelector('#df-0c978d73-3927-49e3-8543-23ad333d2f90');\n",
              "          const dataTable =\n",
              "            await google.colab.kernel.invokeFunction('convertToInteractive',\n",
              "                                                     [key], {});\n",
              "          if (!dataTable) return;\n",
              "\n",
              "          const docLinkHtml = 'Like what you see? Visit the ' +\n",
              "            '<a target=\"_blank\" href=https://colab.research.google.com/notebooks/data_table.ipynb>data table notebook</a>'\n",
              "            + ' to learn more about interactive tables.';\n",
              "          element.innerHTML = '';\n",
              "          dataTable['output_type'] = 'display_data';\n",
              "          await google.colab.output.renderOutput(dataTable, element);\n",
              "          const docLink = document.createElement('div');\n",
              "          docLink.innerHTML = docLinkHtml;\n",
              "          element.appendChild(docLink);\n",
              "        }\n",
              "      </script>\n",
              "    </div>\n",
              "  </div>\n",
              "  "
            ],
            "text/plain": [
              "          Unnamed: 0     FL_DATE OP_CARRIER  OP_CARRIER_FL_NUM ORIGIN DEST  \\\n",
              "11436732     5617653  2016-12-31         NK                112    IAH  BWI   \n",
              "11436733     5617654  2016-12-31         NK                113    BWI  IAH   \n",
              "11436734     5617655  2016-12-31         NK                121    ORD  RSW   \n",
              "11436735     5617656  2016-12-31         NK                124    RSW  ORD   \n",
              "11436736     5617657  2016-12-31         NK                126    FLL  MYR   \n",
              "\n",
              "          CRS_DEP_TIME  DEP_TIME  DEP_DELAY  TAXI_OUT  ...  CRS_ELAPSED_TIME  \\\n",
              "11436732           615     613.0       -2.0      12.0  ...             170.0   \n",
              "11436733          2108    2229.0       81.0       9.0  ...             214.0   \n",
              "11436734           700     704.0        4.0      11.0  ...             172.0   \n",
              "11436735          1704    1711.0        7.0       9.0  ...             183.0   \n",
              "11436736          2015    2208.0      113.0      21.0  ...              98.0   \n",
              "\n",
              "          ACTUAL_ELAPSED_TIME  AIR_TIME  DISTANCE  CARRIER_DELAY  \\\n",
              "11436732                167.0     144.0    1235.0            NaN   \n",
              "11436733                200.0     182.0    1235.0            0.0   \n",
              "11436734                151.0     136.0    1120.0            NaN   \n",
              "11436735                170.0     154.0    1120.0            NaN   \n",
              "11436736                102.0      75.0     529.0          113.0   \n",
              "\n",
              "          WEATHER_DELAY  NAS_DELAY SECURITY_DELAY  LATE_AIRCRAFT_DELAY  \\\n",
              "11436732            NaN        NaN            NaN                  NaN   \n",
              "11436733            0.0        0.0            0.0                 67.0   \n",
              "11436734            NaN        NaN            NaN                  NaN   \n",
              "11436735            NaN        NaN            NaN                  NaN   \n",
              "11436736            0.0        4.0            0.0                  0.0   \n",
              "\n",
              "          Unnamed: 27  \n",
              "11436732          NaN  \n",
              "11436733          NaN  \n",
              "11436734          NaN  \n",
              "11436735          NaN  \n",
              "11436736          NaN  \n",
              "\n",
              "[5 rows x 29 columns]"
            ]
          },
          "execution_count": 21,
          "metadata": {},
          "output_type": "execute_result"
        }
      ],
      "source": [
        "%%time\n",
        "df.tail()"
      ]
    },
    {
      "cell_type": "markdown",
      "metadata": {
        "id": "nA1isCzkZN_7"
      },
      "source": [
        "**Koalas**"
      ]
    },
    {
      "cell_type": "code",
      "execution_count": null,
      "metadata": {
        "colab": {
          "base_uri": "https://localhost:8080/"
        },
        "id": "rxJP4bQAZNMp",
        "outputId": "13745850-fd4b-4099-ac99-da4fb276f1de"
      },
      "outputs": [
        {
          "output_type": "stream",
          "name": "stdout",
          "text": [
            "CPU times: user 582 ms, sys: 139 ms, total: 721 ms\n",
            "Wall time: 1min 32s\n"
          ]
        }
      ],
      "source": [
        "%%time\n",
        "kdf = ks.read_csv('airline1516.csv')"
      ]
    },
    {
      "cell_type": "code",
      "execution_count": null,
      "metadata": {
        "id": "bW-fUa1IWO_L",
        "colab": {
          "base_uri": "https://localhost:8080/",
          "height": 365
        },
        "outputId": "1fbe1e5d-add0-4f75-ab65-41d661fd621e"
      },
      "outputs": [
        {
          "output_type": "stream",
          "name": "stdout",
          "text": [
            "CPU times: user 44.4 ms, sys: 6.94 ms, total: 51.3 ms\n",
            "Wall time: 368 ms\n"
          ]
        },
        {
          "output_type": "execute_result",
          "data": {
            "text/plain": [
              "   _c0    FL_DATE OP_CARRIER  OP_CARRIER_FL_NUM ORIGIN DEST  CRS_DEP_TIME  DEP_TIME  DEP_DELAY  TAXI_OUT  WHEELS_OFF  WHEELS_ON  TAXI_IN  CRS_ARR_TIME  ARR_TIME  ARR_DELAY  CANCELLED CANCELLATION_CODE  DIVERTED  CRS_ELAPSED_TIME  ACTUAL_ELAPSED_TIME  AIR_TIME  DISTANCE  CARRIER_DELAY  WEATHER_DELAY  NAS_DELAY  SECURITY_DELAY  LATE_AIRCRAFT_DELAY Unnamed: 27\n",
              "0    0 2015-01-01         NK                195    MCO  FLL          2147    2143.0       -4.0      15.0      2158.0     2238.0      7.0          2250    2245.0       -5.0        0.0              None       0.0              63.0                 62.0      40.0     177.0            NaN            NaN        NaN             NaN                  NaN        None\n",
              "1    1 2015-01-01         NK                197    LGA  FLL          1050    1104.0       14.0      20.0      1124.0     1354.0      9.0          1404    1403.0       -1.0        0.0              None       0.0             194.0                179.0     150.0    1076.0            NaN            NaN        NaN             NaN                  NaN        None\n",
              "2    2 2015-01-01         NK                198    FLL  MCO           700     712.0       12.0      19.0       731.0      803.0     10.0           757     813.0       16.0        0.0              None       0.0              57.0                 61.0      32.0     177.0            0.0            0.0       16.0             0.0                  0.0        None\n",
              "3    3 2015-01-01         NK                199    IAH  LAS          2240    2251.0       11.0       8.0      2259.0     2343.0      4.0          2356    2347.0       -9.0        0.0              None       0.0             196.0                176.0     164.0    1222.0            NaN            NaN        NaN             NaN                  NaN        None\n",
              "4    4 2015-01-01         NK                200    IAH  ORD           623     620.0       -3.0      15.0       635.0      830.0     10.0           855     840.0      -15.0        0.0              None       0.0             152.0                140.0     115.0     925.0            NaN            NaN        NaN             NaN                  NaN        None"
            ],
            "text/html": [
              "<div>\n",
              "<style scoped>\n",
              "    .dataframe tbody tr th:only-of-type {\n",
              "        vertical-align: middle;\n",
              "    }\n",
              "\n",
              "    .dataframe tbody tr th {\n",
              "        vertical-align: top;\n",
              "    }\n",
              "\n",
              "    .dataframe thead th {\n",
              "        text-align: right;\n",
              "    }\n",
              "</style>\n",
              "<table border=\"1\" class=\"dataframe\">\n",
              "  <thead>\n",
              "    <tr style=\"text-align: right;\">\n",
              "      <th></th>\n",
              "      <th>_c0</th>\n",
              "      <th>FL_DATE</th>\n",
              "      <th>OP_CARRIER</th>\n",
              "      <th>OP_CARRIER_FL_NUM</th>\n",
              "      <th>ORIGIN</th>\n",
              "      <th>DEST</th>\n",
              "      <th>CRS_DEP_TIME</th>\n",
              "      <th>DEP_TIME</th>\n",
              "      <th>DEP_DELAY</th>\n",
              "      <th>TAXI_OUT</th>\n",
              "      <th>WHEELS_OFF</th>\n",
              "      <th>WHEELS_ON</th>\n",
              "      <th>TAXI_IN</th>\n",
              "      <th>CRS_ARR_TIME</th>\n",
              "      <th>ARR_TIME</th>\n",
              "      <th>ARR_DELAY</th>\n",
              "      <th>CANCELLED</th>\n",
              "      <th>CANCELLATION_CODE</th>\n",
              "      <th>DIVERTED</th>\n",
              "      <th>CRS_ELAPSED_TIME</th>\n",
              "      <th>ACTUAL_ELAPSED_TIME</th>\n",
              "      <th>AIR_TIME</th>\n",
              "      <th>DISTANCE</th>\n",
              "      <th>CARRIER_DELAY</th>\n",
              "      <th>WEATHER_DELAY</th>\n",
              "      <th>NAS_DELAY</th>\n",
              "      <th>SECURITY_DELAY</th>\n",
              "      <th>LATE_AIRCRAFT_DELAY</th>\n",
              "      <th>Unnamed: 27</th>\n",
              "    </tr>\n",
              "  </thead>\n",
              "  <tbody>\n",
              "    <tr>\n",
              "      <th>0</th>\n",
              "      <td>0</td>\n",
              "      <td>2015-01-01</td>\n",
              "      <td>NK</td>\n",
              "      <td>195</td>\n",
              "      <td>MCO</td>\n",
              "      <td>FLL</td>\n",
              "      <td>2147</td>\n",
              "      <td>2143.0</td>\n",
              "      <td>-4.0</td>\n",
              "      <td>15.0</td>\n",
              "      <td>2158.0</td>\n",
              "      <td>2238.0</td>\n",
              "      <td>7.0</td>\n",
              "      <td>2250</td>\n",
              "      <td>2245.0</td>\n",
              "      <td>-5.0</td>\n",
              "      <td>0.0</td>\n",
              "      <td>None</td>\n",
              "      <td>0.0</td>\n",
              "      <td>63.0</td>\n",
              "      <td>62.0</td>\n",
              "      <td>40.0</td>\n",
              "      <td>177.0</td>\n",
              "      <td>NaN</td>\n",
              "      <td>NaN</td>\n",
              "      <td>NaN</td>\n",
              "      <td>NaN</td>\n",
              "      <td>NaN</td>\n",
              "      <td>None</td>\n",
              "    </tr>\n",
              "    <tr>\n",
              "      <th>1</th>\n",
              "      <td>1</td>\n",
              "      <td>2015-01-01</td>\n",
              "      <td>NK</td>\n",
              "      <td>197</td>\n",
              "      <td>LGA</td>\n",
              "      <td>FLL</td>\n",
              "      <td>1050</td>\n",
              "      <td>1104.0</td>\n",
              "      <td>14.0</td>\n",
              "      <td>20.0</td>\n",
              "      <td>1124.0</td>\n",
              "      <td>1354.0</td>\n",
              "      <td>9.0</td>\n",
              "      <td>1404</td>\n",
              "      <td>1403.0</td>\n",
              "      <td>-1.0</td>\n",
              "      <td>0.0</td>\n",
              "      <td>None</td>\n",
              "      <td>0.0</td>\n",
              "      <td>194.0</td>\n",
              "      <td>179.0</td>\n",
              "      <td>150.0</td>\n",
              "      <td>1076.0</td>\n",
              "      <td>NaN</td>\n",
              "      <td>NaN</td>\n",
              "      <td>NaN</td>\n",
              "      <td>NaN</td>\n",
              "      <td>NaN</td>\n",
              "      <td>None</td>\n",
              "    </tr>\n",
              "    <tr>\n",
              "      <th>2</th>\n",
              "      <td>2</td>\n",
              "      <td>2015-01-01</td>\n",
              "      <td>NK</td>\n",
              "      <td>198</td>\n",
              "      <td>FLL</td>\n",
              "      <td>MCO</td>\n",
              "      <td>700</td>\n",
              "      <td>712.0</td>\n",
              "      <td>12.0</td>\n",
              "      <td>19.0</td>\n",
              "      <td>731.0</td>\n",
              "      <td>803.0</td>\n",
              "      <td>10.0</td>\n",
              "      <td>757</td>\n",
              "      <td>813.0</td>\n",
              "      <td>16.0</td>\n",
              "      <td>0.0</td>\n",
              "      <td>None</td>\n",
              "      <td>0.0</td>\n",
              "      <td>57.0</td>\n",
              "      <td>61.0</td>\n",
              "      <td>32.0</td>\n",
              "      <td>177.0</td>\n",
              "      <td>0.0</td>\n",
              "      <td>0.0</td>\n",
              "      <td>16.0</td>\n",
              "      <td>0.0</td>\n",
              "      <td>0.0</td>\n",
              "      <td>None</td>\n",
              "    </tr>\n",
              "    <tr>\n",
              "      <th>3</th>\n",
              "      <td>3</td>\n",
              "      <td>2015-01-01</td>\n",
              "      <td>NK</td>\n",
              "      <td>199</td>\n",
              "      <td>IAH</td>\n",
              "      <td>LAS</td>\n",
              "      <td>2240</td>\n",
              "      <td>2251.0</td>\n",
              "      <td>11.0</td>\n",
              "      <td>8.0</td>\n",
              "      <td>2259.0</td>\n",
              "      <td>2343.0</td>\n",
              "      <td>4.0</td>\n",
              "      <td>2356</td>\n",
              "      <td>2347.0</td>\n",
              "      <td>-9.0</td>\n",
              "      <td>0.0</td>\n",
              "      <td>None</td>\n",
              "      <td>0.0</td>\n",
              "      <td>196.0</td>\n",
              "      <td>176.0</td>\n",
              "      <td>164.0</td>\n",
              "      <td>1222.0</td>\n",
              "      <td>NaN</td>\n",
              "      <td>NaN</td>\n",
              "      <td>NaN</td>\n",
              "      <td>NaN</td>\n",
              "      <td>NaN</td>\n",
              "      <td>None</td>\n",
              "    </tr>\n",
              "    <tr>\n",
              "      <th>4</th>\n",
              "      <td>4</td>\n",
              "      <td>2015-01-01</td>\n",
              "      <td>NK</td>\n",
              "      <td>200</td>\n",
              "      <td>IAH</td>\n",
              "      <td>ORD</td>\n",
              "      <td>623</td>\n",
              "      <td>620.0</td>\n",
              "      <td>-3.0</td>\n",
              "      <td>15.0</td>\n",
              "      <td>635.0</td>\n",
              "      <td>830.0</td>\n",
              "      <td>10.0</td>\n",
              "      <td>855</td>\n",
              "      <td>840.0</td>\n",
              "      <td>-15.0</td>\n",
              "      <td>0.0</td>\n",
              "      <td>None</td>\n",
              "      <td>0.0</td>\n",
              "      <td>152.0</td>\n",
              "      <td>140.0</td>\n",
              "      <td>115.0</td>\n",
              "      <td>925.0</td>\n",
              "      <td>NaN</td>\n",
              "      <td>NaN</td>\n",
              "      <td>NaN</td>\n",
              "      <td>NaN</td>\n",
              "      <td>NaN</td>\n",
              "      <td>None</td>\n",
              "    </tr>\n",
              "  </tbody>\n",
              "</table>\n",
              "</div>"
            ]
          },
          "metadata": {},
          "execution_count": 7
        }
      ],
      "source": [
        "%%time\n",
        "kdf.head()"
      ]
    },
    {
      "cell_type": "code",
      "execution_count": null,
      "metadata": {
        "id": "4mDmXggnWTwl",
        "colab": {
          "base_uri": "https://localhost:8080/",
          "height": 365
        },
        "outputId": "43c66b49-5e18-458c-9da4-f0e764e94461"
      },
      "outputs": [
        {
          "output_type": "stream",
          "name": "stdout",
          "text": [
            "CPU times: user 767 ms, sys: 71.2 ms, total: 838 ms\n",
            "Wall time: 2min 15s\n"
          ]
        },
        {
          "output_type": "execute_result",
          "data": {
            "text/plain": [
              "              _c0    FL_DATE OP_CARRIER  OP_CARRIER_FL_NUM ORIGIN DEST  CRS_DEP_TIME  DEP_TIME  DEP_DELAY  TAXI_OUT  WHEELS_OFF  WHEELS_ON  TAXI_IN  CRS_ARR_TIME  ARR_TIME  ARR_DELAY  CANCELLED CANCELLATION_CODE  DIVERTED  CRS_ELAPSED_TIME  ACTUAL_ELAPSED_TIME  AIR_TIME  DISTANCE  CARRIER_DELAY  WEATHER_DELAY  NAS_DELAY  SECURITY_DELAY  LATE_AIRCRAFT_DELAY Unnamed: 27\n",
              "11436732  5617653 2016-12-31         NK                112    IAH  BWI           615     613.0       -2.0      12.0       625.0      949.0     11.0          1005    1000.0       -5.0        0.0              None       0.0             170.0                167.0     144.0    1235.0            NaN            NaN        NaN             NaN                  NaN        None\n",
              "11436733  5617654 2016-12-31         NK                113    BWI  IAH          2108    2229.0       81.0       9.0      2238.0       40.0      9.0          2342      49.0       67.0        0.0              None       0.0             214.0                200.0     182.0    1235.0            0.0            0.0        0.0             0.0                 67.0        None\n",
              "11436734  5617655 2016-12-31         NK                121    ORD  RSW           700     704.0        4.0      11.0       715.0     1031.0      4.0          1052    1035.0      -17.0        0.0              None       0.0             172.0                151.0     136.0    1120.0            NaN            NaN        NaN             NaN                  NaN        None\n",
              "11436735  5617656 2016-12-31         NK                124    RSW  ORD          1704    1711.0        7.0       9.0      1720.0     1854.0      7.0          1907    1901.0       -6.0        0.0              None       0.0             183.0                170.0     154.0    1120.0            NaN            NaN        NaN             NaN                  NaN        None\n",
              "11436736  5617657 2016-12-31         NK                126    FLL  MYR          2015    2208.0      113.0      21.0      2229.0     2344.0      6.0          2153    2350.0      117.0        0.0              None       0.0              98.0                102.0      75.0     529.0          113.0            0.0        4.0             0.0                  0.0        None"
            ],
            "text/html": [
              "<div>\n",
              "<style scoped>\n",
              "    .dataframe tbody tr th:only-of-type {\n",
              "        vertical-align: middle;\n",
              "    }\n",
              "\n",
              "    .dataframe tbody tr th {\n",
              "        vertical-align: top;\n",
              "    }\n",
              "\n",
              "    .dataframe thead th {\n",
              "        text-align: right;\n",
              "    }\n",
              "</style>\n",
              "<table border=\"1\" class=\"dataframe\">\n",
              "  <thead>\n",
              "    <tr style=\"text-align: right;\">\n",
              "      <th></th>\n",
              "      <th>_c0</th>\n",
              "      <th>FL_DATE</th>\n",
              "      <th>OP_CARRIER</th>\n",
              "      <th>OP_CARRIER_FL_NUM</th>\n",
              "      <th>ORIGIN</th>\n",
              "      <th>DEST</th>\n",
              "      <th>CRS_DEP_TIME</th>\n",
              "      <th>DEP_TIME</th>\n",
              "      <th>DEP_DELAY</th>\n",
              "      <th>TAXI_OUT</th>\n",
              "      <th>WHEELS_OFF</th>\n",
              "      <th>WHEELS_ON</th>\n",
              "      <th>TAXI_IN</th>\n",
              "      <th>CRS_ARR_TIME</th>\n",
              "      <th>ARR_TIME</th>\n",
              "      <th>ARR_DELAY</th>\n",
              "      <th>CANCELLED</th>\n",
              "      <th>CANCELLATION_CODE</th>\n",
              "      <th>DIVERTED</th>\n",
              "      <th>CRS_ELAPSED_TIME</th>\n",
              "      <th>ACTUAL_ELAPSED_TIME</th>\n",
              "      <th>AIR_TIME</th>\n",
              "      <th>DISTANCE</th>\n",
              "      <th>CARRIER_DELAY</th>\n",
              "      <th>WEATHER_DELAY</th>\n",
              "      <th>NAS_DELAY</th>\n",
              "      <th>SECURITY_DELAY</th>\n",
              "      <th>LATE_AIRCRAFT_DELAY</th>\n",
              "      <th>Unnamed: 27</th>\n",
              "    </tr>\n",
              "  </thead>\n",
              "  <tbody>\n",
              "    <tr>\n",
              "      <th>11436732</th>\n",
              "      <td>5617653</td>\n",
              "      <td>2016-12-31</td>\n",
              "      <td>NK</td>\n",
              "      <td>112</td>\n",
              "      <td>IAH</td>\n",
              "      <td>BWI</td>\n",
              "      <td>615</td>\n",
              "      <td>613.0</td>\n",
              "      <td>-2.0</td>\n",
              "      <td>12.0</td>\n",
              "      <td>625.0</td>\n",
              "      <td>949.0</td>\n",
              "      <td>11.0</td>\n",
              "      <td>1005</td>\n",
              "      <td>1000.0</td>\n",
              "      <td>-5.0</td>\n",
              "      <td>0.0</td>\n",
              "      <td>None</td>\n",
              "      <td>0.0</td>\n",
              "      <td>170.0</td>\n",
              "      <td>167.0</td>\n",
              "      <td>144.0</td>\n",
              "      <td>1235.0</td>\n",
              "      <td>NaN</td>\n",
              "      <td>NaN</td>\n",
              "      <td>NaN</td>\n",
              "      <td>NaN</td>\n",
              "      <td>NaN</td>\n",
              "      <td>None</td>\n",
              "    </tr>\n",
              "    <tr>\n",
              "      <th>11436733</th>\n",
              "      <td>5617654</td>\n",
              "      <td>2016-12-31</td>\n",
              "      <td>NK</td>\n",
              "      <td>113</td>\n",
              "      <td>BWI</td>\n",
              "      <td>IAH</td>\n",
              "      <td>2108</td>\n",
              "      <td>2229.0</td>\n",
              "      <td>81.0</td>\n",
              "      <td>9.0</td>\n",
              "      <td>2238.0</td>\n",
              "      <td>40.0</td>\n",
              "      <td>9.0</td>\n",
              "      <td>2342</td>\n",
              "      <td>49.0</td>\n",
              "      <td>67.0</td>\n",
              "      <td>0.0</td>\n",
              "      <td>None</td>\n",
              "      <td>0.0</td>\n",
              "      <td>214.0</td>\n",
              "      <td>200.0</td>\n",
              "      <td>182.0</td>\n",
              "      <td>1235.0</td>\n",
              "      <td>0.0</td>\n",
              "      <td>0.0</td>\n",
              "      <td>0.0</td>\n",
              "      <td>0.0</td>\n",
              "      <td>67.0</td>\n",
              "      <td>None</td>\n",
              "    </tr>\n",
              "    <tr>\n",
              "      <th>11436734</th>\n",
              "      <td>5617655</td>\n",
              "      <td>2016-12-31</td>\n",
              "      <td>NK</td>\n",
              "      <td>121</td>\n",
              "      <td>ORD</td>\n",
              "      <td>RSW</td>\n",
              "      <td>700</td>\n",
              "      <td>704.0</td>\n",
              "      <td>4.0</td>\n",
              "      <td>11.0</td>\n",
              "      <td>715.0</td>\n",
              "      <td>1031.0</td>\n",
              "      <td>4.0</td>\n",
              "      <td>1052</td>\n",
              "      <td>1035.0</td>\n",
              "      <td>-17.0</td>\n",
              "      <td>0.0</td>\n",
              "      <td>None</td>\n",
              "      <td>0.0</td>\n",
              "      <td>172.0</td>\n",
              "      <td>151.0</td>\n",
              "      <td>136.0</td>\n",
              "      <td>1120.0</td>\n",
              "      <td>NaN</td>\n",
              "      <td>NaN</td>\n",
              "      <td>NaN</td>\n",
              "      <td>NaN</td>\n",
              "      <td>NaN</td>\n",
              "      <td>None</td>\n",
              "    </tr>\n",
              "    <tr>\n",
              "      <th>11436735</th>\n",
              "      <td>5617656</td>\n",
              "      <td>2016-12-31</td>\n",
              "      <td>NK</td>\n",
              "      <td>124</td>\n",
              "      <td>RSW</td>\n",
              "      <td>ORD</td>\n",
              "      <td>1704</td>\n",
              "      <td>1711.0</td>\n",
              "      <td>7.0</td>\n",
              "      <td>9.0</td>\n",
              "      <td>1720.0</td>\n",
              "      <td>1854.0</td>\n",
              "      <td>7.0</td>\n",
              "      <td>1907</td>\n",
              "      <td>1901.0</td>\n",
              "      <td>-6.0</td>\n",
              "      <td>0.0</td>\n",
              "      <td>None</td>\n",
              "      <td>0.0</td>\n",
              "      <td>183.0</td>\n",
              "      <td>170.0</td>\n",
              "      <td>154.0</td>\n",
              "      <td>1120.0</td>\n",
              "      <td>NaN</td>\n",
              "      <td>NaN</td>\n",
              "      <td>NaN</td>\n",
              "      <td>NaN</td>\n",
              "      <td>NaN</td>\n",
              "      <td>None</td>\n",
              "    </tr>\n",
              "    <tr>\n",
              "      <th>11436736</th>\n",
              "      <td>5617657</td>\n",
              "      <td>2016-12-31</td>\n",
              "      <td>NK</td>\n",
              "      <td>126</td>\n",
              "      <td>FLL</td>\n",
              "      <td>MYR</td>\n",
              "      <td>2015</td>\n",
              "      <td>2208.0</td>\n",
              "      <td>113.0</td>\n",
              "      <td>21.0</td>\n",
              "      <td>2229.0</td>\n",
              "      <td>2344.0</td>\n",
              "      <td>6.0</td>\n",
              "      <td>2153</td>\n",
              "      <td>2350.0</td>\n",
              "      <td>117.0</td>\n",
              "      <td>0.0</td>\n",
              "      <td>None</td>\n",
              "      <td>0.0</td>\n",
              "      <td>98.0</td>\n",
              "      <td>102.0</td>\n",
              "      <td>75.0</td>\n",
              "      <td>529.0</td>\n",
              "      <td>113.0</td>\n",
              "      <td>0.0</td>\n",
              "      <td>4.0</td>\n",
              "      <td>0.0</td>\n",
              "      <td>0.0</td>\n",
              "      <td>None</td>\n",
              "    </tr>\n",
              "  </tbody>\n",
              "</table>\n",
              "</div>"
            ]
          },
          "metadata": {},
          "execution_count": 8
        }
      ],
      "source": [
        "%%time\n",
        "kdf.tail()"
      ]
    },
    {
      "cell_type": "markdown",
      "metadata": {
        "id": "WyYdi5mdnNK0"
      },
      "source": [
        "**Modin**"
      ]
    },
    {
      "cell_type": "code",
      "execution_count": null,
      "metadata": {
        "colab": {
          "base_uri": "https://localhost:8080/",
          "height": 739
        },
        "id": "2F9MCF41sKgz",
        "outputId": "f7fb0aae-4805-4383-e3a6-189a7f6752f4"
      },
      "outputs": [
        {
          "name": "stderr",
          "output_type": "stream",
          "text": [
            "\u001b[2m\u001b[36m(raylet)\u001b[0m Spilled 9259 MiB, 176 objects, write throughput 225 MiB/s.\n"
          ]
        },
        {
          "name": "stdout",
          "output_type": "stream",
          "text": [
            "CPU times: user 2.18 s, sys: 842 ms, total: 3.02 s\n",
            "Wall time: 1min 12s\n"
          ]
        },
        {
          "name": "stderr",
          "output_type": "stream",
          "text": [
            "\u001b[2m\u001b[33m(raylet)\u001b[0m [2023-01-28 21:18:32,183 E 4945 4945] (raylet) node_manager.cc:3097: 5 Workers (tasks / actors) killed due to memory pressure (OOM), 0 Workers crashed due to other reasons at node (ID: 936a5be0d289402570056d6d94efc5d2b8a300023a9c291b75cc3192, IP: 172.28.0.12) over the last time period. To see more information about the Workers killed on this node, use `ray logs raylet.out -ip 172.28.0.12`\n",
            "\u001b[2m\u001b[33m(raylet)\u001b[0m \n",
            "\u001b[2m\u001b[33m(raylet)\u001b[0m Refer to the documentation on how to address the out of memory issue: https://docs.ray.io/en/latest/ray-core/scheduling/ray-oom-prevention.html. Consider provisioning more memory on this node or reducing task parallelism by requesting more CPUs per task. To adjust the kill threshold, set the environment variable `RAY_memory_usage_threshold` when starting Ray. To disable worker killing, set the environment variable `RAY_memory_monitor_refresh_ms` to zero.\n"
          ]
        },
        {
          "data": {
            "text/html": [
              "<div>\n",
              "<style scoped>\n",
              "    .dataframe tbody tr th:only-of-type {\n",
              "        vertical-align: middle;\n",
              "    }\n",
              "\n",
              "    .dataframe tbody tr th {\n",
              "        vertical-align: top;\n",
              "    }\n",
              "\n",
              "    .dataframe thead th {\n",
              "        text-align: right;\n",
              "    }\n",
              "</style>\n",
              "<table border=\"1\" class=\"dataframe\">\n",
              "  <thead>\n",
              "    <tr style=\"text-align: right;\">\n",
              "      <th></th>\n",
              "      <th>Unnamed: 0</th>\n",
              "      <th>FL_DATE</th>\n",
              "      <th>OP_CARRIER</th>\n",
              "      <th>OP_CARRIER_FL_NUM</th>\n",
              "      <th>ORIGIN</th>\n",
              "      <th>DEST</th>\n",
              "      <th>CRS_DEP_TIME</th>\n",
              "      <th>DEP_TIME</th>\n",
              "      <th>DEP_DELAY</th>\n",
              "      <th>TAXI_OUT</th>\n",
              "      <th>...</th>\n",
              "      <th>CRS_ELAPSED_TIME</th>\n",
              "      <th>ACTUAL_ELAPSED_TIME</th>\n",
              "      <th>AIR_TIME</th>\n",
              "      <th>DISTANCE</th>\n",
              "      <th>CARRIER_DELAY</th>\n",
              "      <th>WEATHER_DELAY</th>\n",
              "      <th>NAS_DELAY</th>\n",
              "      <th>SECURITY_DELAY</th>\n",
              "      <th>LATE_AIRCRAFT_DELAY</th>\n",
              "      <th>Unnamed: 27</th>\n",
              "    </tr>\n",
              "  </thead>\n",
              "  <tbody>\n",
              "    <tr>\n",
              "      <th>0</th>\n",
              "      <td>0</td>\n",
              "      <td>2015-01-01</td>\n",
              "      <td>NK</td>\n",
              "      <td>195</td>\n",
              "      <td>MCO</td>\n",
              "      <td>FLL</td>\n",
              "      <td>2147</td>\n",
              "      <td>2143.0</td>\n",
              "      <td>-4.0</td>\n",
              "      <td>15.0</td>\n",
              "      <td>...</td>\n",
              "      <td>63.0</td>\n",
              "      <td>62.0</td>\n",
              "      <td>40.0</td>\n",
              "      <td>177.0</td>\n",
              "      <td>NaN</td>\n",
              "      <td>NaN</td>\n",
              "      <td>NaN</td>\n",
              "      <td>NaN</td>\n",
              "      <td>NaN</td>\n",
              "      <td>NaN</td>\n",
              "    </tr>\n",
              "    <tr>\n",
              "      <th>1</th>\n",
              "      <td>1</td>\n",
              "      <td>2015-01-01</td>\n",
              "      <td>NK</td>\n",
              "      <td>197</td>\n",
              "      <td>LGA</td>\n",
              "      <td>FLL</td>\n",
              "      <td>1050</td>\n",
              "      <td>1104.0</td>\n",
              "      <td>14.0</td>\n",
              "      <td>20.0</td>\n",
              "      <td>...</td>\n",
              "      <td>194.0</td>\n",
              "      <td>179.0</td>\n",
              "      <td>150.0</td>\n",
              "      <td>1076.0</td>\n",
              "      <td>NaN</td>\n",
              "      <td>NaN</td>\n",
              "      <td>NaN</td>\n",
              "      <td>NaN</td>\n",
              "      <td>NaN</td>\n",
              "      <td>NaN</td>\n",
              "    </tr>\n",
              "    <tr>\n",
              "      <th>2</th>\n",
              "      <td>2</td>\n",
              "      <td>2015-01-01</td>\n",
              "      <td>NK</td>\n",
              "      <td>198</td>\n",
              "      <td>FLL</td>\n",
              "      <td>MCO</td>\n",
              "      <td>700</td>\n",
              "      <td>712.0</td>\n",
              "      <td>12.0</td>\n",
              "      <td>19.0</td>\n",
              "      <td>...</td>\n",
              "      <td>57.0</td>\n",
              "      <td>61.0</td>\n",
              "      <td>32.0</td>\n",
              "      <td>177.0</td>\n",
              "      <td>0.0</td>\n",
              "      <td>0.0</td>\n",
              "      <td>16.0</td>\n",
              "      <td>0.0</td>\n",
              "      <td>0.0</td>\n",
              "      <td>NaN</td>\n",
              "    </tr>\n",
              "    <tr>\n",
              "      <th>3</th>\n",
              "      <td>3</td>\n",
              "      <td>2015-01-01</td>\n",
              "      <td>NK</td>\n",
              "      <td>199</td>\n",
              "      <td>IAH</td>\n",
              "      <td>LAS</td>\n",
              "      <td>2240</td>\n",
              "      <td>2251.0</td>\n",
              "      <td>11.0</td>\n",
              "      <td>8.0</td>\n",
              "      <td>...</td>\n",
              "      <td>196.0</td>\n",
              "      <td>176.0</td>\n",
              "      <td>164.0</td>\n",
              "      <td>1222.0</td>\n",
              "      <td>NaN</td>\n",
              "      <td>NaN</td>\n",
              "      <td>NaN</td>\n",
              "      <td>NaN</td>\n",
              "      <td>NaN</td>\n",
              "      <td>NaN</td>\n",
              "    </tr>\n",
              "    <tr>\n",
              "      <th>4</th>\n",
              "      <td>4</td>\n",
              "      <td>2015-01-01</td>\n",
              "      <td>NK</td>\n",
              "      <td>200</td>\n",
              "      <td>IAH</td>\n",
              "      <td>ORD</td>\n",
              "      <td>623</td>\n",
              "      <td>620.0</td>\n",
              "      <td>-3.0</td>\n",
              "      <td>15.0</td>\n",
              "      <td>...</td>\n",
              "      <td>152.0</td>\n",
              "      <td>140.0</td>\n",
              "      <td>115.0</td>\n",
              "      <td>925.0</td>\n",
              "      <td>NaN</td>\n",
              "      <td>NaN</td>\n",
              "      <td>NaN</td>\n",
              "      <td>NaN</td>\n",
              "      <td>NaN</td>\n",
              "      <td>NaN</td>\n",
              "    </tr>\n",
              "    <tr>\n",
              "      <th>...</th>\n",
              "      <td>...</td>\n",
              "      <td>...</td>\n",
              "      <td>...</td>\n",
              "      <td>...</td>\n",
              "      <td>...</td>\n",
              "      <td>...</td>\n",
              "      <td>...</td>\n",
              "      <td>...</td>\n",
              "      <td>...</td>\n",
              "      <td>...</td>\n",
              "      <td>...</td>\n",
              "      <td>...</td>\n",
              "      <td>...</td>\n",
              "      <td>...</td>\n",
              "      <td>...</td>\n",
              "      <td>...</td>\n",
              "      <td>...</td>\n",
              "      <td>...</td>\n",
              "      <td>...</td>\n",
              "      <td>...</td>\n",
              "      <td>...</td>\n",
              "    </tr>\n",
              "    <tr>\n",
              "      <th>11436732</th>\n",
              "      <td>5617653</td>\n",
              "      <td>2016-12-31</td>\n",
              "      <td>NK</td>\n",
              "      <td>112</td>\n",
              "      <td>IAH</td>\n",
              "      <td>BWI</td>\n",
              "      <td>615</td>\n",
              "      <td>613.0</td>\n",
              "      <td>-2.0</td>\n",
              "      <td>12.0</td>\n",
              "      <td>...</td>\n",
              "      <td>170.0</td>\n",
              "      <td>167.0</td>\n",
              "      <td>144.0</td>\n",
              "      <td>1235.0</td>\n",
              "      <td>NaN</td>\n",
              "      <td>NaN</td>\n",
              "      <td>NaN</td>\n",
              "      <td>NaN</td>\n",
              "      <td>NaN</td>\n",
              "      <td>NaN</td>\n",
              "    </tr>\n",
              "    <tr>\n",
              "      <th>11436733</th>\n",
              "      <td>5617654</td>\n",
              "      <td>2016-12-31</td>\n",
              "      <td>NK</td>\n",
              "      <td>113</td>\n",
              "      <td>BWI</td>\n",
              "      <td>IAH</td>\n",
              "      <td>2108</td>\n",
              "      <td>2229.0</td>\n",
              "      <td>81.0</td>\n",
              "      <td>9.0</td>\n",
              "      <td>...</td>\n",
              "      <td>214.0</td>\n",
              "      <td>200.0</td>\n",
              "      <td>182.0</td>\n",
              "      <td>1235.0</td>\n",
              "      <td>0.0</td>\n",
              "      <td>0.0</td>\n",
              "      <td>0.0</td>\n",
              "      <td>0.0</td>\n",
              "      <td>67.0</td>\n",
              "      <td>NaN</td>\n",
              "    </tr>\n",
              "    <tr>\n",
              "      <th>11436734</th>\n",
              "      <td>5617655</td>\n",
              "      <td>2016-12-31</td>\n",
              "      <td>NK</td>\n",
              "      <td>121</td>\n",
              "      <td>ORD</td>\n",
              "      <td>RSW</td>\n",
              "      <td>700</td>\n",
              "      <td>704.0</td>\n",
              "      <td>4.0</td>\n",
              "      <td>11.0</td>\n",
              "      <td>...</td>\n",
              "      <td>172.0</td>\n",
              "      <td>151.0</td>\n",
              "      <td>136.0</td>\n",
              "      <td>1120.0</td>\n",
              "      <td>NaN</td>\n",
              "      <td>NaN</td>\n",
              "      <td>NaN</td>\n",
              "      <td>NaN</td>\n",
              "      <td>NaN</td>\n",
              "      <td>NaN</td>\n",
              "    </tr>\n",
              "    <tr>\n",
              "      <th>11436735</th>\n",
              "      <td>5617656</td>\n",
              "      <td>2016-12-31</td>\n",
              "      <td>NK</td>\n",
              "      <td>124</td>\n",
              "      <td>RSW</td>\n",
              "      <td>ORD</td>\n",
              "      <td>1704</td>\n",
              "      <td>1711.0</td>\n",
              "      <td>7.0</td>\n",
              "      <td>9.0</td>\n",
              "      <td>...</td>\n",
              "      <td>183.0</td>\n",
              "      <td>170.0</td>\n",
              "      <td>154.0</td>\n",
              "      <td>1120.0</td>\n",
              "      <td>NaN</td>\n",
              "      <td>NaN</td>\n",
              "      <td>NaN</td>\n",
              "      <td>NaN</td>\n",
              "      <td>NaN</td>\n",
              "      <td>NaN</td>\n",
              "    </tr>\n",
              "    <tr>\n",
              "      <th>11436736</th>\n",
              "      <td>5617657</td>\n",
              "      <td>2016-12-31</td>\n",
              "      <td>NK</td>\n",
              "      <td>126</td>\n",
              "      <td>FLL</td>\n",
              "      <td>MYR</td>\n",
              "      <td>2015</td>\n",
              "      <td>2208.0</td>\n",
              "      <td>113.0</td>\n",
              "      <td>21.0</td>\n",
              "      <td>...</td>\n",
              "      <td>98.0</td>\n",
              "      <td>102.0</td>\n",
              "      <td>75.0</td>\n",
              "      <td>529.0</td>\n",
              "      <td>113.0</td>\n",
              "      <td>0.0</td>\n",
              "      <td>4.0</td>\n",
              "      <td>0.0</td>\n",
              "      <td>0.0</td>\n",
              "      <td>NaN</td>\n",
              "    </tr>\n",
              "  </tbody>\n",
              "</table>\n",
              "<p>11436737 rows x 29 columns</p>\n",
              "</div>"
            ],
            "text/plain": [
              "          Unnamed: 0     FL_DATE OP_CARRIER  OP_CARRIER_FL_NUM ORIGIN DEST  \\\n",
              "0                  0  2015-01-01         NK                195    MCO  FLL   \n",
              "1                  1  2015-01-01         NK                197    LGA  FLL   \n",
              "2                  2  2015-01-01         NK                198    FLL  MCO   \n",
              "3                  3  2015-01-01         NK                199    IAH  LAS   \n",
              "4                  4  2015-01-01         NK                200    IAH  ORD   \n",
              "...              ...         ...        ...                ...    ...  ...   \n",
              "11436732     5617653  2016-12-31         NK                112    IAH  BWI   \n",
              "11436733     5617654  2016-12-31         NK                113    BWI  IAH   \n",
              "11436734     5617655  2016-12-31         NK                121    ORD  RSW   \n",
              "11436735     5617656  2016-12-31         NK                124    RSW  ORD   \n",
              "11436736     5617657  2016-12-31         NK                126    FLL  MYR   \n",
              "\n",
              "          CRS_DEP_TIME  DEP_TIME  DEP_DELAY  TAXI_OUT  ...  CRS_ELAPSED_TIME  \\\n",
              "0                 2147    2143.0       -4.0      15.0  ...              63.0   \n",
              "1                 1050    1104.0       14.0      20.0  ...             194.0   \n",
              "2                  700     712.0       12.0      19.0  ...              57.0   \n",
              "3                 2240    2251.0       11.0       8.0  ...             196.0   \n",
              "4                  623     620.0       -3.0      15.0  ...             152.0   \n",
              "...                ...       ...        ...       ...  ...               ...   \n",
              "11436732           615     613.0       -2.0      12.0  ...             170.0   \n",
              "11436733          2108    2229.0       81.0       9.0  ...             214.0   \n",
              "11436734           700     704.0        4.0      11.0  ...             172.0   \n",
              "11436735          1704    1711.0        7.0       9.0  ...             183.0   \n",
              "11436736          2015    2208.0      113.0      21.0  ...              98.0   \n",
              "\n",
              "          ACTUAL_ELAPSED_TIME  AIR_TIME  DISTANCE  CARRIER_DELAY  \\\n",
              "0                        62.0      40.0     177.0            NaN   \n",
              "1                       179.0     150.0    1076.0            NaN   \n",
              "2                        61.0      32.0     177.0            0.0   \n",
              "3                       176.0     164.0    1222.0            NaN   \n",
              "4                       140.0     115.0     925.0            NaN   \n",
              "...                       ...       ...       ...            ...   \n",
              "11436732                167.0     144.0    1235.0            NaN   \n",
              "11436733                200.0     182.0    1235.0            0.0   \n",
              "11436734                151.0     136.0    1120.0            NaN   \n",
              "11436735                170.0     154.0    1120.0            NaN   \n",
              "11436736                102.0      75.0     529.0          113.0   \n",
              "\n",
              "          WEATHER_DELAY  NAS_DELAY  SECURITY_DELAY  LATE_AIRCRAFT_DELAY  \\\n",
              "0                   NaN        NaN             NaN                  NaN   \n",
              "1                   NaN        NaN             NaN                  NaN   \n",
              "2                   0.0       16.0             0.0                  0.0   \n",
              "3                   NaN        NaN             NaN                  NaN   \n",
              "4                   NaN        NaN             NaN                  NaN   \n",
              "...                 ...        ...             ...                  ...   \n",
              "11436732            NaN        NaN             NaN                  NaN   \n",
              "11436733            0.0        0.0             0.0                 67.0   \n",
              "11436734            NaN        NaN             NaN                  NaN   \n",
              "11436735            NaN        NaN             NaN                  NaN   \n",
              "11436736            0.0        4.0             0.0                  0.0   \n",
              "\n",
              "          Unnamed: 27  \n",
              "0                 NaN  \n",
              "1                 NaN  \n",
              "2                 NaN  \n",
              "3                 NaN  \n",
              "4                 NaN  \n",
              "...               ...  \n",
              "11436732          NaN  \n",
              "11436733          NaN  \n",
              "11436734          NaN  \n",
              "11436735          NaN  \n",
              "11436736          NaN  \n",
              "\n",
              "[11436737 rows x 29 columns]"
            ]
          },
          "execution_count": 47,
          "metadata": {},
          "output_type": "execute_result"
        }
      ],
      "source": [
        "%%time\n",
        "mdf = md.read_csv('airline1516.csv')\n",
        "mdf"
      ]
    },
    {
      "cell_type": "code",
      "execution_count": null,
      "metadata": {
        "colab": {
          "base_uri": "https://localhost:8080/",
          "height": 394
        },
        "id": "6J6a9Q_6u7Kp",
        "outputId": "2ce67ba8-9668-4dc4-ee8b-5402b4cc773e"
      },
      "outputs": [
        {
          "name": "stdout",
          "output_type": "stream",
          "text": [
            "CPU times: user 803 µs, sys: 21 µs, total: 824 µs\n",
            "Wall time: 838 µs\n"
          ]
        },
        {
          "data": {
            "text/html": [
              "<div>\n",
              "<style scoped>\n",
              "    .dataframe tbody tr th:only-of-type {\n",
              "        vertical-align: middle;\n",
              "    }\n",
              "\n",
              "    .dataframe tbody tr th {\n",
              "        vertical-align: top;\n",
              "    }\n",
              "\n",
              "    .dataframe thead th {\n",
              "        text-align: right;\n",
              "    }\n",
              "</style>\n",
              "<table border=\"1\" class=\"dataframe\">\n",
              "  <thead>\n",
              "    <tr style=\"text-align: right;\">\n",
              "      <th></th>\n",
              "      <th>Unnamed: 0</th>\n",
              "      <th>FL_DATE</th>\n",
              "      <th>OP_CARRIER</th>\n",
              "      <th>OP_CARRIER_FL_NUM</th>\n",
              "      <th>ORIGIN</th>\n",
              "      <th>DEST</th>\n",
              "      <th>CRS_DEP_TIME</th>\n",
              "      <th>DEP_TIME</th>\n",
              "      <th>DEP_DELAY</th>\n",
              "      <th>TAXI_OUT</th>\n",
              "      <th>...</th>\n",
              "      <th>CRS_ELAPSED_TIME</th>\n",
              "      <th>ACTUAL_ELAPSED_TIME</th>\n",
              "      <th>AIR_TIME</th>\n",
              "      <th>DISTANCE</th>\n",
              "      <th>CARRIER_DELAY</th>\n",
              "      <th>WEATHER_DELAY</th>\n",
              "      <th>NAS_DELAY</th>\n",
              "      <th>SECURITY_DELAY</th>\n",
              "      <th>LATE_AIRCRAFT_DELAY</th>\n",
              "      <th>Unnamed: 27</th>\n",
              "    </tr>\n",
              "  </thead>\n",
              "  <tbody>\n",
              "    <tr>\n",
              "      <th>0</th>\n",
              "      <td>0</td>\n",
              "      <td>2015-01-01</td>\n",
              "      <td>NK</td>\n",
              "      <td>195</td>\n",
              "      <td>MCO</td>\n",
              "      <td>FLL</td>\n",
              "      <td>2147</td>\n",
              "      <td>2143.0</td>\n",
              "      <td>-4.0</td>\n",
              "      <td>15.0</td>\n",
              "      <td>...</td>\n",
              "      <td>63.0</td>\n",
              "      <td>62.0</td>\n",
              "      <td>40.0</td>\n",
              "      <td>177.0</td>\n",
              "      <td>NaN</td>\n",
              "      <td>NaN</td>\n",
              "      <td>NaN</td>\n",
              "      <td>NaN</td>\n",
              "      <td>NaN</td>\n",
              "      <td>NaN</td>\n",
              "    </tr>\n",
              "    <tr>\n",
              "      <th>1</th>\n",
              "      <td>1</td>\n",
              "      <td>2015-01-01</td>\n",
              "      <td>NK</td>\n",
              "      <td>197</td>\n",
              "      <td>LGA</td>\n",
              "      <td>FLL</td>\n",
              "      <td>1050</td>\n",
              "      <td>1104.0</td>\n",
              "      <td>14.0</td>\n",
              "      <td>20.0</td>\n",
              "      <td>...</td>\n",
              "      <td>194.0</td>\n",
              "      <td>179.0</td>\n",
              "      <td>150.0</td>\n",
              "      <td>1076.0</td>\n",
              "      <td>NaN</td>\n",
              "      <td>NaN</td>\n",
              "      <td>NaN</td>\n",
              "      <td>NaN</td>\n",
              "      <td>NaN</td>\n",
              "      <td>NaN</td>\n",
              "    </tr>\n",
              "    <tr>\n",
              "      <th>2</th>\n",
              "      <td>2</td>\n",
              "      <td>2015-01-01</td>\n",
              "      <td>NK</td>\n",
              "      <td>198</td>\n",
              "      <td>FLL</td>\n",
              "      <td>MCO</td>\n",
              "      <td>700</td>\n",
              "      <td>712.0</td>\n",
              "      <td>12.0</td>\n",
              "      <td>19.0</td>\n",
              "      <td>...</td>\n",
              "      <td>57.0</td>\n",
              "      <td>61.0</td>\n",
              "      <td>32.0</td>\n",
              "      <td>177.0</td>\n",
              "      <td>0.0</td>\n",
              "      <td>0.0</td>\n",
              "      <td>16.0</td>\n",
              "      <td>0.0</td>\n",
              "      <td>0.0</td>\n",
              "      <td>NaN</td>\n",
              "    </tr>\n",
              "    <tr>\n",
              "      <th>3</th>\n",
              "      <td>3</td>\n",
              "      <td>2015-01-01</td>\n",
              "      <td>NK</td>\n",
              "      <td>199</td>\n",
              "      <td>IAH</td>\n",
              "      <td>LAS</td>\n",
              "      <td>2240</td>\n",
              "      <td>2251.0</td>\n",
              "      <td>11.0</td>\n",
              "      <td>8.0</td>\n",
              "      <td>...</td>\n",
              "      <td>196.0</td>\n",
              "      <td>176.0</td>\n",
              "      <td>164.0</td>\n",
              "      <td>1222.0</td>\n",
              "      <td>NaN</td>\n",
              "      <td>NaN</td>\n",
              "      <td>NaN</td>\n",
              "      <td>NaN</td>\n",
              "      <td>NaN</td>\n",
              "      <td>NaN</td>\n",
              "    </tr>\n",
              "    <tr>\n",
              "      <th>4</th>\n",
              "      <td>4</td>\n",
              "      <td>2015-01-01</td>\n",
              "      <td>NK</td>\n",
              "      <td>200</td>\n",
              "      <td>IAH</td>\n",
              "      <td>ORD</td>\n",
              "      <td>623</td>\n",
              "      <td>620.0</td>\n",
              "      <td>-3.0</td>\n",
              "      <td>15.0</td>\n",
              "      <td>...</td>\n",
              "      <td>152.0</td>\n",
              "      <td>140.0</td>\n",
              "      <td>115.0</td>\n",
              "      <td>925.0</td>\n",
              "      <td>NaN</td>\n",
              "      <td>NaN</td>\n",
              "      <td>NaN</td>\n",
              "      <td>NaN</td>\n",
              "      <td>NaN</td>\n",
              "      <td>NaN</td>\n",
              "    </tr>\n",
              "  </tbody>\n",
              "</table>\n",
              "<p>5 rows x 29 columns</p>\n",
              "</div>"
            ],
            "text/plain": [
              "   Unnamed: 0     FL_DATE OP_CARRIER  OP_CARRIER_FL_NUM ORIGIN DEST  \\\n",
              "0           0  2015-01-01         NK                195    MCO  FLL   \n",
              "1           1  2015-01-01         NK                197    LGA  FLL   \n",
              "2           2  2015-01-01         NK                198    FLL  MCO   \n",
              "3           3  2015-01-01         NK                199    IAH  LAS   \n",
              "4           4  2015-01-01         NK                200    IAH  ORD   \n",
              "\n",
              "   CRS_DEP_TIME  DEP_TIME  DEP_DELAY  TAXI_OUT  ...  CRS_ELAPSED_TIME  \\\n",
              "0          2147    2143.0       -4.0      15.0  ...              63.0   \n",
              "1          1050    1104.0       14.0      20.0  ...             194.0   \n",
              "2           700     712.0       12.0      19.0  ...              57.0   \n",
              "3          2240    2251.0       11.0       8.0  ...             196.0   \n",
              "4           623     620.0       -3.0      15.0  ...             152.0   \n",
              "\n",
              "   ACTUAL_ELAPSED_TIME  AIR_TIME  DISTANCE  CARRIER_DELAY  WEATHER_DELAY  \\\n",
              "0                 62.0      40.0     177.0            NaN            NaN   \n",
              "1                179.0     150.0    1076.0            NaN            NaN   \n",
              "2                 61.0      32.0     177.0            0.0            0.0   \n",
              "3                176.0     164.0    1222.0            NaN            NaN   \n",
              "4                140.0     115.0     925.0            NaN            NaN   \n",
              "\n",
              "   NAS_DELAY  SECURITY_DELAY  LATE_AIRCRAFT_DELAY  Unnamed: 27  \n",
              "0        NaN             NaN                  NaN          NaN  \n",
              "1        NaN             NaN                  NaN          NaN  \n",
              "2       16.0             0.0                  0.0          NaN  \n",
              "3        NaN             NaN                  NaN          NaN  \n",
              "4        NaN             NaN                  NaN          NaN  \n",
              "\n",
              "[5 rows x 29 columns]"
            ]
          },
          "execution_count": 48,
          "metadata": {},
          "output_type": "execute_result"
        }
      ],
      "source": [
        "%%time\n",
        "mdf.head()"
      ]
    },
    {
      "cell_type": "code",
      "execution_count": null,
      "metadata": {
        "colab": {
          "base_uri": "https://localhost:8080/",
          "height": 394
        },
        "id": "rm9HXxPOu7zd",
        "outputId": "9556391e-e6ad-4efe-a2f4-77d891094e67"
      },
      "outputs": [
        {
          "name": "stdout",
          "output_type": "stream",
          "text": [
            "CPU times: user 1.02 ms, sys: 92 µs, total: 1.12 ms\n",
            "Wall time: 1.14 ms\n"
          ]
        },
        {
          "data": {
            "text/html": [
              "<div>\n",
              "<style scoped>\n",
              "    .dataframe tbody tr th:only-of-type {\n",
              "        vertical-align: middle;\n",
              "    }\n",
              "\n",
              "    .dataframe tbody tr th {\n",
              "        vertical-align: top;\n",
              "    }\n",
              "\n",
              "    .dataframe thead th {\n",
              "        text-align: right;\n",
              "    }\n",
              "</style>\n",
              "<table border=\"1\" class=\"dataframe\">\n",
              "  <thead>\n",
              "    <tr style=\"text-align: right;\">\n",
              "      <th></th>\n",
              "      <th>Unnamed: 0</th>\n",
              "      <th>FL_DATE</th>\n",
              "      <th>OP_CARRIER</th>\n",
              "      <th>OP_CARRIER_FL_NUM</th>\n",
              "      <th>ORIGIN</th>\n",
              "      <th>DEST</th>\n",
              "      <th>CRS_DEP_TIME</th>\n",
              "      <th>DEP_TIME</th>\n",
              "      <th>DEP_DELAY</th>\n",
              "      <th>TAXI_OUT</th>\n",
              "      <th>...</th>\n",
              "      <th>CRS_ELAPSED_TIME</th>\n",
              "      <th>ACTUAL_ELAPSED_TIME</th>\n",
              "      <th>AIR_TIME</th>\n",
              "      <th>DISTANCE</th>\n",
              "      <th>CARRIER_DELAY</th>\n",
              "      <th>WEATHER_DELAY</th>\n",
              "      <th>NAS_DELAY</th>\n",
              "      <th>SECURITY_DELAY</th>\n",
              "      <th>LATE_AIRCRAFT_DELAY</th>\n",
              "      <th>Unnamed: 27</th>\n",
              "    </tr>\n",
              "  </thead>\n",
              "  <tbody>\n",
              "    <tr>\n",
              "      <th>11436732</th>\n",
              "      <td>5617653</td>\n",
              "      <td>2016-12-31</td>\n",
              "      <td>NK</td>\n",
              "      <td>112</td>\n",
              "      <td>IAH</td>\n",
              "      <td>BWI</td>\n",
              "      <td>615</td>\n",
              "      <td>613.0</td>\n",
              "      <td>-2.0</td>\n",
              "      <td>12.0</td>\n",
              "      <td>...</td>\n",
              "      <td>170.0</td>\n",
              "      <td>167.0</td>\n",
              "      <td>144.0</td>\n",
              "      <td>1235.0</td>\n",
              "      <td>NaN</td>\n",
              "      <td>NaN</td>\n",
              "      <td>NaN</td>\n",
              "      <td>NaN</td>\n",
              "      <td>NaN</td>\n",
              "      <td>NaN</td>\n",
              "    </tr>\n",
              "    <tr>\n",
              "      <th>11436733</th>\n",
              "      <td>5617654</td>\n",
              "      <td>2016-12-31</td>\n",
              "      <td>NK</td>\n",
              "      <td>113</td>\n",
              "      <td>BWI</td>\n",
              "      <td>IAH</td>\n",
              "      <td>2108</td>\n",
              "      <td>2229.0</td>\n",
              "      <td>81.0</td>\n",
              "      <td>9.0</td>\n",
              "      <td>...</td>\n",
              "      <td>214.0</td>\n",
              "      <td>200.0</td>\n",
              "      <td>182.0</td>\n",
              "      <td>1235.0</td>\n",
              "      <td>0.0</td>\n",
              "      <td>0.0</td>\n",
              "      <td>0.0</td>\n",
              "      <td>0.0</td>\n",
              "      <td>67.0</td>\n",
              "      <td>NaN</td>\n",
              "    </tr>\n",
              "    <tr>\n",
              "      <th>11436734</th>\n",
              "      <td>5617655</td>\n",
              "      <td>2016-12-31</td>\n",
              "      <td>NK</td>\n",
              "      <td>121</td>\n",
              "      <td>ORD</td>\n",
              "      <td>RSW</td>\n",
              "      <td>700</td>\n",
              "      <td>704.0</td>\n",
              "      <td>4.0</td>\n",
              "      <td>11.0</td>\n",
              "      <td>...</td>\n",
              "      <td>172.0</td>\n",
              "      <td>151.0</td>\n",
              "      <td>136.0</td>\n",
              "      <td>1120.0</td>\n",
              "      <td>NaN</td>\n",
              "      <td>NaN</td>\n",
              "      <td>NaN</td>\n",
              "      <td>NaN</td>\n",
              "      <td>NaN</td>\n",
              "      <td>NaN</td>\n",
              "    </tr>\n",
              "    <tr>\n",
              "      <th>11436735</th>\n",
              "      <td>5617656</td>\n",
              "      <td>2016-12-31</td>\n",
              "      <td>NK</td>\n",
              "      <td>124</td>\n",
              "      <td>RSW</td>\n",
              "      <td>ORD</td>\n",
              "      <td>1704</td>\n",
              "      <td>1711.0</td>\n",
              "      <td>7.0</td>\n",
              "      <td>9.0</td>\n",
              "      <td>...</td>\n",
              "      <td>183.0</td>\n",
              "      <td>170.0</td>\n",
              "      <td>154.0</td>\n",
              "      <td>1120.0</td>\n",
              "      <td>NaN</td>\n",
              "      <td>NaN</td>\n",
              "      <td>NaN</td>\n",
              "      <td>NaN</td>\n",
              "      <td>NaN</td>\n",
              "      <td>NaN</td>\n",
              "    </tr>\n",
              "    <tr>\n",
              "      <th>11436736</th>\n",
              "      <td>5617657</td>\n",
              "      <td>2016-12-31</td>\n",
              "      <td>NK</td>\n",
              "      <td>126</td>\n",
              "      <td>FLL</td>\n",
              "      <td>MYR</td>\n",
              "      <td>2015</td>\n",
              "      <td>2208.0</td>\n",
              "      <td>113.0</td>\n",
              "      <td>21.0</td>\n",
              "      <td>...</td>\n",
              "      <td>98.0</td>\n",
              "      <td>102.0</td>\n",
              "      <td>75.0</td>\n",
              "      <td>529.0</td>\n",
              "      <td>113.0</td>\n",
              "      <td>0.0</td>\n",
              "      <td>4.0</td>\n",
              "      <td>0.0</td>\n",
              "      <td>0.0</td>\n",
              "      <td>NaN</td>\n",
              "    </tr>\n",
              "  </tbody>\n",
              "</table>\n",
              "<p>5 rows x 29 columns</p>\n",
              "</div>"
            ],
            "text/plain": [
              "          Unnamed: 0     FL_DATE OP_CARRIER  OP_CARRIER_FL_NUM ORIGIN DEST  \\\n",
              "11436732     5617653  2016-12-31         NK                112    IAH  BWI   \n",
              "11436733     5617654  2016-12-31         NK                113    BWI  IAH   \n",
              "11436734     5617655  2016-12-31         NK                121    ORD  RSW   \n",
              "11436735     5617656  2016-12-31         NK                124    RSW  ORD   \n",
              "11436736     5617657  2016-12-31         NK                126    FLL  MYR   \n",
              "\n",
              "          CRS_DEP_TIME  DEP_TIME  DEP_DELAY  TAXI_OUT  ...  CRS_ELAPSED_TIME  \\\n",
              "11436732           615     613.0       -2.0      12.0  ...             170.0   \n",
              "11436733          2108    2229.0       81.0       9.0  ...             214.0   \n",
              "11436734           700     704.0        4.0      11.0  ...             172.0   \n",
              "11436735          1704    1711.0        7.0       9.0  ...             183.0   \n",
              "11436736          2015    2208.0      113.0      21.0  ...              98.0   \n",
              "\n",
              "          ACTUAL_ELAPSED_TIME  AIR_TIME  DISTANCE  CARRIER_DELAY  \\\n",
              "11436732                167.0     144.0    1235.0            NaN   \n",
              "11436733                200.0     182.0    1235.0            0.0   \n",
              "11436734                151.0     136.0    1120.0            NaN   \n",
              "11436735                170.0     154.0    1120.0            NaN   \n",
              "11436736                102.0      75.0     529.0          113.0   \n",
              "\n",
              "          WEATHER_DELAY  NAS_DELAY  SECURITY_DELAY  LATE_AIRCRAFT_DELAY  \\\n",
              "11436732            NaN        NaN             NaN                  NaN   \n",
              "11436733            0.0        0.0             0.0                 67.0   \n",
              "11436734            NaN        NaN             NaN                  NaN   \n",
              "11436735            NaN        NaN             NaN                  NaN   \n",
              "11436736            0.0        4.0             0.0                  0.0   \n",
              "\n",
              "          Unnamed: 27  \n",
              "11436732          NaN  \n",
              "11436733          NaN  \n",
              "11436734          NaN  \n",
              "11436735          NaN  \n",
              "11436736          NaN  \n",
              "\n",
              "[5 rows x 29 columns]"
            ]
          },
          "execution_count": 49,
          "metadata": {},
          "output_type": "execute_result"
        }
      ],
      "source": [
        "%%time\n",
        "mdf.tail()"
      ]
    },
    {
      "cell_type": "markdown",
      "metadata": {
        "id": "P8n2xLLKGQRZ"
      },
      "source": [
        "# **Data Cleaning and Preparation**"
      ]
    },
    {
      "cell_type": "markdown",
      "metadata": {
        "id": "40CHU4-lCeKr"
      },
      "source": [
        "### **Dropping Columns** \n",
        "\n",
        "This code uses the Pandas, Koalas and Modin library to drop several columns (\"CANCELLATION_CODE\", \"CARRIER_DELAY\", \"WEATHER_DELAY\", \"NAS_DELAY\", \"SECURITY_DELAY\", \"LATE_AIRCRAFT_DELAY\", \"Unnamed: 27\") from the DataFrame using the 'drop' method. The 'axis' parameter is set to 1, indicating that the columns should be dropped along the horizontal axis."
      ]
    },
    {
      "cell_type": "markdown",
      "metadata": {
        "id": "sRHjwVy-CrP5"
      },
      "source": [
        "**Pandas**"
      ]
    },
    {
      "cell_type": "code",
      "execution_count": null,
      "metadata": {
        "colab": {
          "base_uri": "https://localhost:8080/"
        },
        "id": "ji1fbCkQ8RlC",
        "outputId": "eb651eb7-5593-49e2-d94d-1d106cb8cc40"
      },
      "outputs": [
        {
          "output_type": "stream",
          "name": "stdout",
          "text": [
            "CPU times: user 796 ms, sys: 1.79 ms, total: 798 ms\n",
            "Wall time: 809 ms\n"
          ]
        }
      ],
      "source": [
        "%%time\n",
        "df = df.drop([\"CANCELLATION_CODE\", \"CARRIER_DELAY\", \"WEATHER_DELAY\", \"NAS_DELAY\", \"SECURITY_DELAY\", \"LATE_AIRCRAFT_DELAY\", \"Unnamed: 27\"], axis=1)"
      ]
    },
    {
      "cell_type": "markdown",
      "metadata": {
        "id": "Ew4HhV-JZCN-"
      },
      "source": [
        "**Koalas**"
      ]
    },
    {
      "cell_type": "code",
      "execution_count": null,
      "metadata": {
        "colab": {
          "base_uri": "https://localhost:8080/"
        },
        "id": "mDP3ogLxZBwp",
        "outputId": "f536a9d7-e5ac-462b-b2fd-f3a5ba52063c"
      },
      "outputs": [
        {
          "output_type": "stream",
          "name": "stdout",
          "text": [
            "CPU times: user 28.3 ms, sys: 928 µs, total: 29.3 ms\n",
            "Wall time: 117 ms\n"
          ]
        }
      ],
      "source": [
        "%%time\n",
        "kdf = kdf.drop([\"CANCELLATION_CODE\", \"CARRIER_DELAY\", \"WEATHER_DELAY\", \"NAS_DELAY\", \"SECURITY_DELAY\", \"LATE_AIRCRAFT_DELAY\", \"Unnamed: 27\"], axis=1)"
      ]
    },
    {
      "cell_type": "markdown",
      "metadata": {
        "id": "dLWMinid2vtS"
      },
      "source": [
        "**Modin**"
      ]
    },
    {
      "cell_type": "code",
      "execution_count": null,
      "metadata": {
        "colab": {
          "base_uri": "https://localhost:8080/"
        },
        "id": "a_1FCE9QvCsy",
        "outputId": "40f0618d-ae11-4541-fa4c-b7e1c7576029"
      },
      "outputs": [
        {
          "name": "stdout",
          "output_type": "stream",
          "text": [
            "CPU times: user 3.87 ms, sys: 296 µs, total: 4.16 ms\n",
            "Wall time: 8.19 ms\n"
          ]
        }
      ],
      "source": [
        "%%time\n",
        "mdf = mdf.drop([\"CANCELLATION_CODE\", \"CARRIER_DELAY\", \"WEATHER_DELAY\", \"NAS_DELAY\", \"SECURITY_DELAY\", \"LATE_AIRCRAFT_DELAY\", \"Unnamed: 27\"], axis=1)"
      ]
    },
    {
      "cell_type": "code",
      "execution_count": null,
      "metadata": {
        "colab": {
          "base_uri": "https://localhost:8080/"
        },
        "id": "S9yGBvcZ9bVE",
        "outputId": "1c092c38-1025-4cf9-f145-a1ecf3346527"
      },
      "outputs": [
        {
          "name": "stdout",
          "output_type": "stream",
          "text": [
            "number of rows: 11436737\n",
            "number of column: 22\n"
          ]
        }
      ],
      "source": [
        "row, col = mdf.shape\n",
        "print('number of rows:',row)\n",
        "\n",
        "print('number of column:',col)"
      ]
    },
    {
      "cell_type": "markdown",
      "metadata": {
        "id": "ZVb_BDvSxitU"
      },
      "source": [
        "### **Checking and Dropping Null Value**\n",
        "\n",
        "Perform two operations on the DataFrame . The first operation removes all the rows with missing values ('NaN') from the DataFrame in place. The second operation calculates the sum of missing values ('NaN') for each column in the DataFrame and returns the result. These operations allow for a more thorough analysis of the data by removing rows with missing values and providing insight into the distribution of missing data in the DataFrame."
      ]
    },
    {
      "cell_type": "markdown",
      "metadata": {
        "id": "vrHMTVbbCTnN"
      },
      "source": [
        "**Pandas**"
      ]
    },
    {
      "cell_type": "code",
      "execution_count": null,
      "metadata": {
        "colab": {
          "base_uri": "https://localhost:8080/"
        },
        "id": "kT6kuEb35IsJ",
        "outputId": "dbf57def-f64c-4338-bd5e-e4da4698d9df"
      },
      "outputs": [
        {
          "data": {
            "text/plain": [
              "Unnamed: 0                    0\n",
              "FL_DATE                       0\n",
              "OP_CARRIER                    0\n",
              "OP_CARRIER_FL_NUM             0\n",
              "ORIGIN                        0\n",
              "DEST                          0\n",
              "CRS_DEP_TIME                  0\n",
              "DEP_TIME                 149609\n",
              "DEP_DELAY                149609\n",
              "TAXI_OUT                 154465\n",
              "WHEELS_OFF               154465\n",
              "WHEELS_ON                160357\n",
              "TAXI_IN                  160357\n",
              "CRS_ARR_TIME                  0\n",
              "ARR_TIME                 160357\n",
              "ARR_DELAY                184584\n",
              "CANCELLED                     0\n",
              "CANCELLATION_CODE      11280992\n",
              "DIVERTED                      0\n",
              "CRS_ELAPSED_TIME             12\n",
              "ACTUAL_ELAPSED_TIME      184584\n",
              "AIR_TIME                 184584\n",
              "DISTANCE                      0\n",
              "CARRIER_DELAY           9409059\n",
              "WEATHER_DELAY           9409059\n",
              "NAS_DELAY               9409059\n",
              "SECURITY_DELAY          9409059\n",
              "LATE_AIRCRAFT_DELAY     9409059\n",
              "Unnamed: 27            11436737\n",
              "dtype: int64"
            ]
          },
          "execution_count": 11,
          "metadata": {},
          "output_type": "execute_result"
        }
      ],
      "source": [
        "df.isna().sum()"
      ]
    },
    {
      "cell_type": "code",
      "execution_count": null,
      "metadata": {
        "colab": {
          "base_uri": "https://localhost:8080/"
        },
        "id": "Ibua8jrL62SA",
        "outputId": "3c2830ce-d4fe-4e28-f174-e90879711800"
      },
      "outputs": [
        {
          "output_type": "stream",
          "name": "stdout",
          "text": [
            "CPU times: user 6.77 s, sys: 270 ms, total: 7.04 s\n",
            "Wall time: 7.02 s\n"
          ]
        },
        {
          "output_type": "execute_result",
          "data": {
            "text/plain": [
              "Unnamed: 0             0\n",
              "FL_DATE                0\n",
              "OP_CARRIER             0\n",
              "OP_CARRIER_FL_NUM      0\n",
              "ORIGIN                 0\n",
              "DEST                   0\n",
              "CRS_DEP_TIME           0\n",
              "DEP_TIME               0\n",
              "DEP_DELAY              0\n",
              "TAXI_OUT               0\n",
              "WHEELS_OFF             0\n",
              "WHEELS_ON              0\n",
              "TAXI_IN                0\n",
              "CRS_ARR_TIME           0\n",
              "ARR_TIME               0\n",
              "ARR_DELAY              0\n",
              "CANCELLED              0\n",
              "DIVERTED               0\n",
              "CRS_ELAPSED_TIME       0\n",
              "ACTUAL_ELAPSED_TIME    0\n",
              "AIR_TIME               0\n",
              "DISTANCE               0\n",
              "dtype: int64"
            ]
          },
          "metadata": {},
          "execution_count": 7
        }
      ],
      "source": [
        "%%time\n",
        "df.dropna(inplace = True)\n",
        "df.isna().sum()"
      ]
    },
    {
      "cell_type": "markdown",
      "metadata": {
        "id": "NYXEdAzHZSd0"
      },
      "source": [
        "**Koalas**"
      ]
    },
    {
      "cell_type": "code",
      "execution_count": null,
      "metadata": {
        "colab": {
          "base_uri": "https://localhost:8080/"
        },
        "id": "dCZzuo-BZUQx",
        "outputId": "b2db8f5d-6b29-4922-ce11-aa533ab81472"
      },
      "outputs": [
        {
          "output_type": "execute_result",
          "data": {
            "text/plain": [
              "_c0                         0\n",
              "FL_DATE                     0\n",
              "OP_CARRIER                  0\n",
              "OP_CARRIER_FL_NUM           0\n",
              "ORIGIN                      0\n",
              "DEST                        0\n",
              "CRS_DEP_TIME                0\n",
              "DEP_TIME               149609\n",
              "DEP_DELAY              149609\n",
              "TAXI_OUT               154465\n",
              "WHEELS_OFF             154465\n",
              "WHEELS_ON              160357\n",
              "TAXI_IN                160357\n",
              "CRS_ARR_TIME                0\n",
              "ARR_TIME               160357\n",
              "ARR_DELAY              184584\n",
              "CANCELLED                   0\n",
              "DIVERTED                    0\n",
              "CRS_ELAPSED_TIME           12\n",
              "ACTUAL_ELAPSED_TIME    184584\n",
              "AIR_TIME               184584\n",
              "DISTANCE                    0\n",
              "dtype: int64"
            ]
          },
          "metadata": {},
          "execution_count": 10
        }
      ],
      "source": [
        "kdf.isna().sum()"
      ]
    },
    {
      "cell_type": "code",
      "execution_count": null,
      "metadata": {
        "colab": {
          "base_uri": "https://localhost:8080/"
        },
        "id": "YSzh0abzZY2c",
        "outputId": "9bc1df3c-4ba5-4a76-9be6-d6f727c2ef7b"
      },
      "outputs": [
        {
          "output_type": "stream",
          "name": "stdout",
          "text": [
            "CPU times: user 1.03 s, sys: 141 ms, total: 1.17 s\n",
            "Wall time: 1min 10s\n"
          ]
        },
        {
          "output_type": "execute_result",
          "data": {
            "text/plain": [
              "_c0                    0\n",
              "FL_DATE                0\n",
              "OP_CARRIER             0\n",
              "OP_CARRIER_FL_NUM      0\n",
              "ORIGIN                 0\n",
              "DEST                   0\n",
              "CRS_DEP_TIME           0\n",
              "DEP_TIME               0\n",
              "DEP_DELAY              0\n",
              "TAXI_OUT               0\n",
              "WHEELS_OFF             0\n",
              "WHEELS_ON              0\n",
              "TAXI_IN                0\n",
              "CRS_ARR_TIME           0\n",
              "ARR_TIME               0\n",
              "ARR_DELAY              0\n",
              "CANCELLED              0\n",
              "DIVERTED               0\n",
              "CRS_ELAPSED_TIME       0\n",
              "ACTUAL_ELAPSED_TIME    0\n",
              "AIR_TIME               0\n",
              "DISTANCE               0\n",
              "dtype: int64"
            ]
          },
          "metadata": {},
          "execution_count": 7
        }
      ],
      "source": [
        "%%time\n",
        "kdf.dropna(inplace = True)\n",
        "kdf.isna().sum()"
      ]
    },
    {
      "cell_type": "markdown",
      "metadata": {
        "id": "XaIiWggcG99m"
      },
      "source": [
        "**Modin**"
      ]
    },
    {
      "cell_type": "code",
      "execution_count": null,
      "metadata": {
        "colab": {
          "base_uri": "https://localhost:8080/"
        },
        "id": "ZSdyZs-66Vec",
        "outputId": "f7bd515b-fc0a-4268-925a-b1da0e7f36d5"
      },
      "outputs": [
        {
          "name": "stdout",
          "output_type": "stream",
          "text": [
            "CPU times: user 23.4 ms, sys: 4.28 ms, total: 27.7 ms\n",
            "Wall time: 26.8 ms\n"
          ]
        },
        {
          "data": {
            "text/plain": [
              "Unnamed: 0                  0\n",
              "FL_DATE                     0\n",
              "OP_CARRIER                  0\n",
              "OP_CARRIER_FL_NUM           0\n",
              "ORIGIN                      0\n",
              "DEST                        0\n",
              "CRS_DEP_TIME                0\n",
              "DEP_TIME               149609\n",
              "DEP_DELAY              149609\n",
              "TAXI_OUT               154465\n",
              "WHEELS_OFF             154465\n",
              "WHEELS_ON              160357\n",
              "TAXI_IN                160357\n",
              "CRS_ARR_TIME                0\n",
              "ARR_TIME               160357\n",
              "ARR_DELAY              184584\n",
              "CANCELLED                   0\n",
              "DIVERTED                    0\n",
              "CRS_ELAPSED_TIME           12\n",
              "ACTUAL_ELAPSED_TIME    184584\n",
              "AIR_TIME               184584\n",
              "DISTANCE                    0\n",
              "dtype: int64"
            ]
          },
          "execution_count": 52,
          "metadata": {},
          "output_type": "execute_result"
        }
      ],
      "source": [
        "%%time\n",
        "mdf.isna().sum()"
      ]
    },
    {
      "cell_type": "code",
      "execution_count": null,
      "metadata": {
        "colab": {
          "base_uri": "https://localhost:8080/"
        },
        "id": "-4qpjzzq68ni",
        "outputId": "2b94c706-d5fd-48d4-851b-e507f5192b15"
      },
      "outputs": [
        {
          "name": "stdout",
          "output_type": "stream",
          "text": [
            "CPU times: user 511 ms, sys: 147 ms, total: 658 ms\n",
            "Wall time: 26.5 s\n"
          ]
        },
        {
          "data": {
            "text/plain": [
              "Unnamed: 0             0\n",
              "FL_DATE                0\n",
              "OP_CARRIER             0\n",
              "OP_CARRIER_FL_NUM      0\n",
              "ORIGIN                 0\n",
              "DEST                   0\n",
              "CRS_DEP_TIME           0\n",
              "DEP_TIME               0\n",
              "DEP_DELAY              0\n",
              "TAXI_OUT               0\n",
              "WHEELS_OFF             0\n",
              "WHEELS_ON              0\n",
              "TAXI_IN                0\n",
              "CRS_ARR_TIME           0\n",
              "ARR_TIME               0\n",
              "ARR_DELAY              0\n",
              "CANCELLED              0\n",
              "DIVERTED               0\n",
              "CRS_ELAPSED_TIME       0\n",
              "ACTUAL_ELAPSED_TIME    0\n",
              "AIR_TIME               0\n",
              "DISTANCE               0\n",
              "dtype: int64"
            ]
          },
          "execution_count": 53,
          "metadata": {},
          "output_type": "execute_result"
        }
      ],
      "source": [
        "%%time\n",
        "mdf.dropna(inplace = True)\n",
        "mdf.isna().sum()"
      ]
    },
    {
      "cell_type": "markdown",
      "metadata": {
        "id": "6kMAxRMrEE_v"
      },
      "source": [
        "## **Manipulating columns value**\n",
        "\n",
        "Perform data cleaning on the DataFrame. The 'df['OP_CARRIER']' accesses a specific column of the DataFrame and the '.replace' method replaces the abbreviated airline codes with their full names.Returns the entire DataFrame with the cleaned values in the 'OP_CARRIER' column."
      ]
    },
    {
      "cell_type": "markdown",
      "metadata": {
        "id": "4n7QbhowEhP9"
      },
      "source": [
        "**Pandas**"
      ]
    },
    {
      "cell_type": "code",
      "source": [
        "%%time\n",
        "df['OP_CARRIER'].replace({\n",
        "    'UA':'United Airlines',\n",
        "    'AS':'Alaska Airlines',\n",
        "    '9E':'Endeavor Air',\n",
        "    'B6':'JetBlue Airways',\n",
        "    'EV':'ExpressJet',\n",
        "    'F9':'Frontier Airlines',\n",
        "    'G4':'Allegiant Air',\n",
        "    'HA':'Hawaiian Airlines',\n",
        "    'MQ':'Envoy Air',\n",
        "    'NK':'Spirit Airlines',\n",
        "    'OH':'PSA Airlines',\n",
        "    'OO':'SkyWest Airlines',\n",
        "    'VX':'Virgin America',\n",
        "    'WN':'Southwest Airlines',\n",
        "    'YV':'Mesa Airline',\n",
        "    'YX':'Republic Airways',\n",
        "    'AA':'American Airlines',\n",
        "    'DL':'Delta Airlines'\n",
        "},inplace=True)\n",
        "df"
      ],
      "metadata": {
        "colab": {
          "base_uri": "https://localhost:8080/",
          "height": 713
        },
        "outputId": "789df078-559a-41e9-8873-21b3837abab3",
        "id": "BrhgdQ8Zj9bi"
      },
      "execution_count": null,
      "outputs": [
        {
          "output_type": "stream",
          "name": "stdout",
          "text": [
            "CPU times: user 6.71 s, sys: 248 ms, total: 6.96 s\n",
            "Wall time: 6.9 s\n"
          ]
        },
        {
          "output_type": "execute_result",
          "data": {
            "text/plain": [
              "          Unnamed: 0     FL_DATE       OP_CARRIER  OP_CARRIER_FL_NUM ORIGIN  \\\n",
              "0                  0  2015-01-01  Spirit Airlines                195    MCO   \n",
              "1                  1  2015-01-01  Spirit Airlines                197    LGA   \n",
              "2                  2  2015-01-01  Spirit Airlines                198    FLL   \n",
              "3                  3  2015-01-01  Spirit Airlines                199    IAH   \n",
              "4                  4  2015-01-01  Spirit Airlines                200    IAH   \n",
              "...              ...         ...              ...                ...    ...   \n",
              "11436732     5617653  2016-12-31  Spirit Airlines                112    IAH   \n",
              "11436733     5617654  2016-12-31  Spirit Airlines                113    BWI   \n",
              "11436734     5617655  2016-12-31  Spirit Airlines                121    ORD   \n",
              "11436735     5617656  2016-12-31  Spirit Airlines                124    RSW   \n",
              "11436736     5617657  2016-12-31  Spirit Airlines                126    FLL   \n",
              "\n",
              "         DEST  CRS_DEP_TIME  DEP_TIME  DEP_DELAY  TAXI_OUT  ...  TAXI_IN  \\\n",
              "0         FLL          2147    2143.0       -4.0      15.0  ...      7.0   \n",
              "1         FLL          1050    1104.0       14.0      20.0  ...      9.0   \n",
              "2         MCO           700     712.0       12.0      19.0  ...     10.0   \n",
              "3         LAS          2240    2251.0       11.0       8.0  ...      4.0   \n",
              "4         ORD           623     620.0       -3.0      15.0  ...     10.0   \n",
              "...       ...           ...       ...        ...       ...  ...      ...   \n",
              "11436732  BWI           615     613.0       -2.0      12.0  ...     11.0   \n",
              "11436733  IAH          2108    2229.0       81.0       9.0  ...      9.0   \n",
              "11436734  RSW           700     704.0        4.0      11.0  ...      4.0   \n",
              "11436735  ORD          1704    1711.0        7.0       9.0  ...      7.0   \n",
              "11436736  MYR          2015    2208.0      113.0      21.0  ...      6.0   \n",
              "\n",
              "          CRS_ARR_TIME  ARR_TIME  ARR_DELAY  CANCELLED  DIVERTED  \\\n",
              "0                 2250    2245.0       -5.0        0.0       0.0   \n",
              "1                 1404    1403.0       -1.0        0.0       0.0   \n",
              "2                  757     813.0       16.0        0.0       0.0   \n",
              "3                 2356    2347.0       -9.0        0.0       0.0   \n",
              "4                  855     840.0      -15.0        0.0       0.0   \n",
              "...                ...       ...        ...        ...       ...   \n",
              "11436732          1005    1000.0       -5.0        0.0       0.0   \n",
              "11436733          2342      49.0       67.0        0.0       0.0   \n",
              "11436734          1052    1035.0      -17.0        0.0       0.0   \n",
              "11436735          1907    1901.0       -6.0        0.0       0.0   \n",
              "11436736          2153    2350.0      117.0        0.0       0.0   \n",
              "\n",
              "          CRS_ELAPSED_TIME  ACTUAL_ELAPSED_TIME  AIR_TIME  DISTANCE  \n",
              "0                     63.0                 62.0      40.0     177.0  \n",
              "1                    194.0                179.0     150.0    1076.0  \n",
              "2                     57.0                 61.0      32.0     177.0  \n",
              "3                    196.0                176.0     164.0    1222.0  \n",
              "4                    152.0                140.0     115.0     925.0  \n",
              "...                    ...                  ...       ...       ...  \n",
              "11436732             170.0                167.0     144.0    1235.0  \n",
              "11436733             214.0                200.0     182.0    1235.0  \n",
              "11436734             172.0                151.0     136.0    1120.0  \n",
              "11436735             183.0                170.0     154.0    1120.0  \n",
              "11436736              98.0                102.0      75.0     529.0  \n",
              "\n",
              "[11252153 rows x 22 columns]"
            ],
            "text/html": [
              "\n",
              "  <div id=\"df-7f8d4296-704f-4dfa-930e-8943ec0e9cad\">\n",
              "    <div class=\"colab-df-container\">\n",
              "      <div>\n",
              "<style scoped>\n",
              "    .dataframe tbody tr th:only-of-type {\n",
              "        vertical-align: middle;\n",
              "    }\n",
              "\n",
              "    .dataframe tbody tr th {\n",
              "        vertical-align: top;\n",
              "    }\n",
              "\n",
              "    .dataframe thead th {\n",
              "        text-align: right;\n",
              "    }\n",
              "</style>\n",
              "<table border=\"1\" class=\"dataframe\">\n",
              "  <thead>\n",
              "    <tr style=\"text-align: right;\">\n",
              "      <th></th>\n",
              "      <th>Unnamed: 0</th>\n",
              "      <th>FL_DATE</th>\n",
              "      <th>OP_CARRIER</th>\n",
              "      <th>OP_CARRIER_FL_NUM</th>\n",
              "      <th>ORIGIN</th>\n",
              "      <th>DEST</th>\n",
              "      <th>CRS_DEP_TIME</th>\n",
              "      <th>DEP_TIME</th>\n",
              "      <th>DEP_DELAY</th>\n",
              "      <th>TAXI_OUT</th>\n",
              "      <th>...</th>\n",
              "      <th>TAXI_IN</th>\n",
              "      <th>CRS_ARR_TIME</th>\n",
              "      <th>ARR_TIME</th>\n",
              "      <th>ARR_DELAY</th>\n",
              "      <th>CANCELLED</th>\n",
              "      <th>DIVERTED</th>\n",
              "      <th>CRS_ELAPSED_TIME</th>\n",
              "      <th>ACTUAL_ELAPSED_TIME</th>\n",
              "      <th>AIR_TIME</th>\n",
              "      <th>DISTANCE</th>\n",
              "    </tr>\n",
              "  </thead>\n",
              "  <tbody>\n",
              "    <tr>\n",
              "      <th>0</th>\n",
              "      <td>0</td>\n",
              "      <td>2015-01-01</td>\n",
              "      <td>Spirit Airlines</td>\n",
              "      <td>195</td>\n",
              "      <td>MCO</td>\n",
              "      <td>FLL</td>\n",
              "      <td>2147</td>\n",
              "      <td>2143.0</td>\n",
              "      <td>-4.0</td>\n",
              "      <td>15.0</td>\n",
              "      <td>...</td>\n",
              "      <td>7.0</td>\n",
              "      <td>2250</td>\n",
              "      <td>2245.0</td>\n",
              "      <td>-5.0</td>\n",
              "      <td>0.0</td>\n",
              "      <td>0.0</td>\n",
              "      <td>63.0</td>\n",
              "      <td>62.0</td>\n",
              "      <td>40.0</td>\n",
              "      <td>177.0</td>\n",
              "    </tr>\n",
              "    <tr>\n",
              "      <th>1</th>\n",
              "      <td>1</td>\n",
              "      <td>2015-01-01</td>\n",
              "      <td>Spirit Airlines</td>\n",
              "      <td>197</td>\n",
              "      <td>LGA</td>\n",
              "      <td>FLL</td>\n",
              "      <td>1050</td>\n",
              "      <td>1104.0</td>\n",
              "      <td>14.0</td>\n",
              "      <td>20.0</td>\n",
              "      <td>...</td>\n",
              "      <td>9.0</td>\n",
              "      <td>1404</td>\n",
              "      <td>1403.0</td>\n",
              "      <td>-1.0</td>\n",
              "      <td>0.0</td>\n",
              "      <td>0.0</td>\n",
              "      <td>194.0</td>\n",
              "      <td>179.0</td>\n",
              "      <td>150.0</td>\n",
              "      <td>1076.0</td>\n",
              "    </tr>\n",
              "    <tr>\n",
              "      <th>2</th>\n",
              "      <td>2</td>\n",
              "      <td>2015-01-01</td>\n",
              "      <td>Spirit Airlines</td>\n",
              "      <td>198</td>\n",
              "      <td>FLL</td>\n",
              "      <td>MCO</td>\n",
              "      <td>700</td>\n",
              "      <td>712.0</td>\n",
              "      <td>12.0</td>\n",
              "      <td>19.0</td>\n",
              "      <td>...</td>\n",
              "      <td>10.0</td>\n",
              "      <td>757</td>\n",
              "      <td>813.0</td>\n",
              "      <td>16.0</td>\n",
              "      <td>0.0</td>\n",
              "      <td>0.0</td>\n",
              "      <td>57.0</td>\n",
              "      <td>61.0</td>\n",
              "      <td>32.0</td>\n",
              "      <td>177.0</td>\n",
              "    </tr>\n",
              "    <tr>\n",
              "      <th>3</th>\n",
              "      <td>3</td>\n",
              "      <td>2015-01-01</td>\n",
              "      <td>Spirit Airlines</td>\n",
              "      <td>199</td>\n",
              "      <td>IAH</td>\n",
              "      <td>LAS</td>\n",
              "      <td>2240</td>\n",
              "      <td>2251.0</td>\n",
              "      <td>11.0</td>\n",
              "      <td>8.0</td>\n",
              "      <td>...</td>\n",
              "      <td>4.0</td>\n",
              "      <td>2356</td>\n",
              "      <td>2347.0</td>\n",
              "      <td>-9.0</td>\n",
              "      <td>0.0</td>\n",
              "      <td>0.0</td>\n",
              "      <td>196.0</td>\n",
              "      <td>176.0</td>\n",
              "      <td>164.0</td>\n",
              "      <td>1222.0</td>\n",
              "    </tr>\n",
              "    <tr>\n",
              "      <th>4</th>\n",
              "      <td>4</td>\n",
              "      <td>2015-01-01</td>\n",
              "      <td>Spirit Airlines</td>\n",
              "      <td>200</td>\n",
              "      <td>IAH</td>\n",
              "      <td>ORD</td>\n",
              "      <td>623</td>\n",
              "      <td>620.0</td>\n",
              "      <td>-3.0</td>\n",
              "      <td>15.0</td>\n",
              "      <td>...</td>\n",
              "      <td>10.0</td>\n",
              "      <td>855</td>\n",
              "      <td>840.0</td>\n",
              "      <td>-15.0</td>\n",
              "      <td>0.0</td>\n",
              "      <td>0.0</td>\n",
              "      <td>152.0</td>\n",
              "      <td>140.0</td>\n",
              "      <td>115.0</td>\n",
              "      <td>925.0</td>\n",
              "    </tr>\n",
              "    <tr>\n",
              "      <th>...</th>\n",
              "      <td>...</td>\n",
              "      <td>...</td>\n",
              "      <td>...</td>\n",
              "      <td>...</td>\n",
              "      <td>...</td>\n",
              "      <td>...</td>\n",
              "      <td>...</td>\n",
              "      <td>...</td>\n",
              "      <td>...</td>\n",
              "      <td>...</td>\n",
              "      <td>...</td>\n",
              "      <td>...</td>\n",
              "      <td>...</td>\n",
              "      <td>...</td>\n",
              "      <td>...</td>\n",
              "      <td>...</td>\n",
              "      <td>...</td>\n",
              "      <td>...</td>\n",
              "      <td>...</td>\n",
              "      <td>...</td>\n",
              "      <td>...</td>\n",
              "    </tr>\n",
              "    <tr>\n",
              "      <th>11436732</th>\n",
              "      <td>5617653</td>\n",
              "      <td>2016-12-31</td>\n",
              "      <td>Spirit Airlines</td>\n",
              "      <td>112</td>\n",
              "      <td>IAH</td>\n",
              "      <td>BWI</td>\n",
              "      <td>615</td>\n",
              "      <td>613.0</td>\n",
              "      <td>-2.0</td>\n",
              "      <td>12.0</td>\n",
              "      <td>...</td>\n",
              "      <td>11.0</td>\n",
              "      <td>1005</td>\n",
              "      <td>1000.0</td>\n",
              "      <td>-5.0</td>\n",
              "      <td>0.0</td>\n",
              "      <td>0.0</td>\n",
              "      <td>170.0</td>\n",
              "      <td>167.0</td>\n",
              "      <td>144.0</td>\n",
              "      <td>1235.0</td>\n",
              "    </tr>\n",
              "    <tr>\n",
              "      <th>11436733</th>\n",
              "      <td>5617654</td>\n",
              "      <td>2016-12-31</td>\n",
              "      <td>Spirit Airlines</td>\n",
              "      <td>113</td>\n",
              "      <td>BWI</td>\n",
              "      <td>IAH</td>\n",
              "      <td>2108</td>\n",
              "      <td>2229.0</td>\n",
              "      <td>81.0</td>\n",
              "      <td>9.0</td>\n",
              "      <td>...</td>\n",
              "      <td>9.0</td>\n",
              "      <td>2342</td>\n",
              "      <td>49.0</td>\n",
              "      <td>67.0</td>\n",
              "      <td>0.0</td>\n",
              "      <td>0.0</td>\n",
              "      <td>214.0</td>\n",
              "      <td>200.0</td>\n",
              "      <td>182.0</td>\n",
              "      <td>1235.0</td>\n",
              "    </tr>\n",
              "    <tr>\n",
              "      <th>11436734</th>\n",
              "      <td>5617655</td>\n",
              "      <td>2016-12-31</td>\n",
              "      <td>Spirit Airlines</td>\n",
              "      <td>121</td>\n",
              "      <td>ORD</td>\n",
              "      <td>RSW</td>\n",
              "      <td>700</td>\n",
              "      <td>704.0</td>\n",
              "      <td>4.0</td>\n",
              "      <td>11.0</td>\n",
              "      <td>...</td>\n",
              "      <td>4.0</td>\n",
              "      <td>1052</td>\n",
              "      <td>1035.0</td>\n",
              "      <td>-17.0</td>\n",
              "      <td>0.0</td>\n",
              "      <td>0.0</td>\n",
              "      <td>172.0</td>\n",
              "      <td>151.0</td>\n",
              "      <td>136.0</td>\n",
              "      <td>1120.0</td>\n",
              "    </tr>\n",
              "    <tr>\n",
              "      <th>11436735</th>\n",
              "      <td>5617656</td>\n",
              "      <td>2016-12-31</td>\n",
              "      <td>Spirit Airlines</td>\n",
              "      <td>124</td>\n",
              "      <td>RSW</td>\n",
              "      <td>ORD</td>\n",
              "      <td>1704</td>\n",
              "      <td>1711.0</td>\n",
              "      <td>7.0</td>\n",
              "      <td>9.0</td>\n",
              "      <td>...</td>\n",
              "      <td>7.0</td>\n",
              "      <td>1907</td>\n",
              "      <td>1901.0</td>\n",
              "      <td>-6.0</td>\n",
              "      <td>0.0</td>\n",
              "      <td>0.0</td>\n",
              "      <td>183.0</td>\n",
              "      <td>170.0</td>\n",
              "      <td>154.0</td>\n",
              "      <td>1120.0</td>\n",
              "    </tr>\n",
              "    <tr>\n",
              "      <th>11436736</th>\n",
              "      <td>5617657</td>\n",
              "      <td>2016-12-31</td>\n",
              "      <td>Spirit Airlines</td>\n",
              "      <td>126</td>\n",
              "      <td>FLL</td>\n",
              "      <td>MYR</td>\n",
              "      <td>2015</td>\n",
              "      <td>2208.0</td>\n",
              "      <td>113.0</td>\n",
              "      <td>21.0</td>\n",
              "      <td>...</td>\n",
              "      <td>6.0</td>\n",
              "      <td>2153</td>\n",
              "      <td>2350.0</td>\n",
              "      <td>117.0</td>\n",
              "      <td>0.0</td>\n",
              "      <td>0.0</td>\n",
              "      <td>98.0</td>\n",
              "      <td>102.0</td>\n",
              "      <td>75.0</td>\n",
              "      <td>529.0</td>\n",
              "    </tr>\n",
              "  </tbody>\n",
              "</table>\n",
              "<p>11252153 rows × 22 columns</p>\n",
              "</div>\n",
              "      <button class=\"colab-df-convert\" onclick=\"convertToInteractive('df-7f8d4296-704f-4dfa-930e-8943ec0e9cad')\"\n",
              "              title=\"Convert this dataframe to an interactive table.\"\n",
              "              style=\"display:none;\">\n",
              "        \n",
              "  <svg xmlns=\"http://www.w3.org/2000/svg\" height=\"24px\"viewBox=\"0 0 24 24\"\n",
              "       width=\"24px\">\n",
              "    <path d=\"M0 0h24v24H0V0z\" fill=\"none\"/>\n",
              "    <path d=\"M18.56 5.44l.94 2.06.94-2.06 2.06-.94-2.06-.94-.94-2.06-.94 2.06-2.06.94zm-11 1L8.5 8.5l.94-2.06 2.06-.94-2.06-.94L8.5 2.5l-.94 2.06-2.06.94zm10 10l.94 2.06.94-2.06 2.06-.94-2.06-.94-.94-2.06-.94 2.06-2.06.94z\"/><path d=\"M17.41 7.96l-1.37-1.37c-.4-.4-.92-.59-1.43-.59-.52 0-1.04.2-1.43.59L10.3 9.45l-7.72 7.72c-.78.78-.78 2.05 0 2.83L4 21.41c.39.39.9.59 1.41.59.51 0 1.02-.2 1.41-.59l7.78-7.78 2.81-2.81c.8-.78.8-2.07 0-2.86zM5.41 20L4 18.59l7.72-7.72 1.47 1.35L5.41 20z\"/>\n",
              "  </svg>\n",
              "      </button>\n",
              "      \n",
              "  <style>\n",
              "    .colab-df-container {\n",
              "      display:flex;\n",
              "      flex-wrap:wrap;\n",
              "      gap: 12px;\n",
              "    }\n",
              "\n",
              "    .colab-df-convert {\n",
              "      background-color: #E8F0FE;\n",
              "      border: none;\n",
              "      border-radius: 50%;\n",
              "      cursor: pointer;\n",
              "      display: none;\n",
              "      fill: #1967D2;\n",
              "      height: 32px;\n",
              "      padding: 0 0 0 0;\n",
              "      width: 32px;\n",
              "    }\n",
              "\n",
              "    .colab-df-convert:hover {\n",
              "      background-color: #E2EBFA;\n",
              "      box-shadow: 0px 1px 2px rgba(60, 64, 67, 0.3), 0px 1px 3px 1px rgba(60, 64, 67, 0.15);\n",
              "      fill: #174EA6;\n",
              "    }\n",
              "\n",
              "    [theme=dark] .colab-df-convert {\n",
              "      background-color: #3B4455;\n",
              "      fill: #D2E3FC;\n",
              "    }\n",
              "\n",
              "    [theme=dark] .colab-df-convert:hover {\n",
              "      background-color: #434B5C;\n",
              "      box-shadow: 0px 1px 3px 1px rgba(0, 0, 0, 0.15);\n",
              "      filter: drop-shadow(0px 1px 2px rgba(0, 0, 0, 0.3));\n",
              "      fill: #FFFFFF;\n",
              "    }\n",
              "  </style>\n",
              "\n",
              "      <script>\n",
              "        const buttonEl =\n",
              "          document.querySelector('#df-7f8d4296-704f-4dfa-930e-8943ec0e9cad button.colab-df-convert');\n",
              "        buttonEl.style.display =\n",
              "          google.colab.kernel.accessAllowed ? 'block' : 'none';\n",
              "\n",
              "        async function convertToInteractive(key) {\n",
              "          const element = document.querySelector('#df-7f8d4296-704f-4dfa-930e-8943ec0e9cad');\n",
              "          const dataTable =\n",
              "            await google.colab.kernel.invokeFunction('convertToInteractive',\n",
              "                                                     [key], {});\n",
              "          if (!dataTable) return;\n",
              "\n",
              "          const docLinkHtml = 'Like what you see? Visit the ' +\n",
              "            '<a target=\"_blank\" href=https://colab.research.google.com/notebooks/data_table.ipynb>data table notebook</a>'\n",
              "            + ' to learn more about interactive tables.';\n",
              "          element.innerHTML = '';\n",
              "          dataTable['output_type'] = 'display_data';\n",
              "          await google.colab.output.renderOutput(dataTable, element);\n",
              "          const docLink = document.createElement('div');\n",
              "          docLink.innerHTML = docLinkHtml;\n",
              "          element.appendChild(docLink);\n",
              "        }\n",
              "      </script>\n",
              "    </div>\n",
              "  </div>\n",
              "  "
            ]
          },
          "metadata": {},
          "execution_count": 6
        }
      ]
    },
    {
      "cell_type": "markdown",
      "metadata": {
        "id": "CxOxz89I80Gh"
      },
      "source": [
        "**Koalas**"
      ]
    },
    {
      "cell_type": "code",
      "source": [
        "%%time\n",
        "kdf['OP_CARRIER'] = kdf['OP_CARRIER'].replace({'UA':'United Airlines','AS':'Alaska Airlines','9E':'Endeavor Air','B6':'JetBlue Airways','EV':'ExpressJet','F9':'Frontier Airlines','G4':'Allegiant Air','HA':'Hawaiian Airlines','MQ':'Envoy Air','NK':'Spirit Airlines','OH':'PSA Airlines','OO':'SkyWest Airlines','VX':'Virgin America','WN':'Southwest Airlines','YV':'Mesa Airline','YX':'Republic Airways','AA':'American Airlines','DL':'Delta Airlines'})\n",
        "kdf.head(10)"
      ],
      "metadata": {
        "colab": {
          "base_uri": "https://localhost:8080/",
          "height": 591
        },
        "id": "wpK4LfyeHGyB",
        "outputId": "357b48ca-26a8-4e7b-94dc-b762610a940a"
      },
      "execution_count": null,
      "outputs": [
        {
          "output_type": "stream",
          "name": "stdout",
          "text": [
            "CPU times: user 346 ms, sys: 30.9 ms, total: 377 ms\n",
            "Wall time: 2.21 s\n"
          ]
        },
        {
          "output_type": "execute_result",
          "data": {
            "text/plain": [
              "   _c0    FL_DATE       OP_CARRIER  OP_CARRIER_FL_NUM ORIGIN DEST  CRS_DEP_TIME  DEP_TIME  DEP_DELAY  TAXI_OUT  WHEELS_OFF  WHEELS_ON  TAXI_IN  CRS_ARR_TIME  ARR_TIME  ARR_DELAY  CANCELLED  DIVERTED  CRS_ELAPSED_TIME  ACTUAL_ELAPSED_TIME  AIR_TIME  DISTANCE\n",
              "0    0 2015-01-01  Spirit Airlines                195    MCO  FLL          2147    2143.0       -4.0      15.0      2158.0     2238.0      7.0          2250    2245.0       -5.0        0.0       0.0              63.0                 62.0      40.0     177.0\n",
              "1    1 2015-01-01  Spirit Airlines                197    LGA  FLL          1050    1104.0       14.0      20.0      1124.0     1354.0      9.0          1404    1403.0       -1.0        0.0       0.0             194.0                179.0     150.0    1076.0\n",
              "2    2 2015-01-01  Spirit Airlines                198    FLL  MCO           700     712.0       12.0      19.0       731.0      803.0     10.0           757     813.0       16.0        0.0       0.0              57.0                 61.0      32.0     177.0\n",
              "3    3 2015-01-01  Spirit Airlines                199    IAH  LAS          2240    2251.0       11.0       8.0      2259.0     2343.0      4.0          2356    2347.0       -9.0        0.0       0.0             196.0                176.0     164.0    1222.0\n",
              "4    4 2015-01-01  Spirit Airlines                200    IAH  ORD           623     620.0       -3.0      15.0       635.0      830.0     10.0           855     840.0      -15.0        0.0       0.0             152.0                140.0     115.0     925.0\n",
              "5    5 2015-01-01  Spirit Airlines                201    FLL  STT          1253    1258.0        5.0      24.0      1322.0     1634.0     10.0          1630    1644.0       14.0        0.0       0.0             157.0                166.0     132.0    1107.0\n",
              "6    6 2015-01-01  Spirit Airlines                202    DFW  BWI          1342    1337.0       -5.0      11.0      1348.0     1700.0      5.0          1724    1705.0      -19.0        0.0       0.0             162.0                148.0     132.0    1217.0\n",
              "7    7 2015-01-01  Spirit Airlines                203    BOS  PBI          1555    1554.0       -1.0      17.0      1611.0     1903.0      5.0          1913    1908.0       -5.0        0.0       0.0             198.0                194.0     172.0    1197.0\n",
              "8    8 2015-01-01  Spirit Airlines                204    PBI  BOS          1205    1204.0       -1.0      11.0      1215.0     1455.0      9.0          1505    1504.0       -1.0        0.0       0.0             180.0                180.0     160.0    1197.0\n",
              "9    9 2015-01-01  Spirit Airlines                209    ORD  OAK          1534    1534.0        0.0      11.0      1545.0     1736.0      6.0          1819    1742.0      -37.0        0.0       0.0             285.0                248.0     231.0    1836.0"
            ],
            "text/html": [
              "<div>\n",
              "<style scoped>\n",
              "    .dataframe tbody tr th:only-of-type {\n",
              "        vertical-align: middle;\n",
              "    }\n",
              "\n",
              "    .dataframe tbody tr th {\n",
              "        vertical-align: top;\n",
              "    }\n",
              "\n",
              "    .dataframe thead th {\n",
              "        text-align: right;\n",
              "    }\n",
              "</style>\n",
              "<table border=\"1\" class=\"dataframe\">\n",
              "  <thead>\n",
              "    <tr style=\"text-align: right;\">\n",
              "      <th></th>\n",
              "      <th>_c0</th>\n",
              "      <th>FL_DATE</th>\n",
              "      <th>OP_CARRIER</th>\n",
              "      <th>OP_CARRIER_FL_NUM</th>\n",
              "      <th>ORIGIN</th>\n",
              "      <th>DEST</th>\n",
              "      <th>CRS_DEP_TIME</th>\n",
              "      <th>DEP_TIME</th>\n",
              "      <th>DEP_DELAY</th>\n",
              "      <th>TAXI_OUT</th>\n",
              "      <th>WHEELS_OFF</th>\n",
              "      <th>WHEELS_ON</th>\n",
              "      <th>TAXI_IN</th>\n",
              "      <th>CRS_ARR_TIME</th>\n",
              "      <th>ARR_TIME</th>\n",
              "      <th>ARR_DELAY</th>\n",
              "      <th>CANCELLED</th>\n",
              "      <th>DIVERTED</th>\n",
              "      <th>CRS_ELAPSED_TIME</th>\n",
              "      <th>ACTUAL_ELAPSED_TIME</th>\n",
              "      <th>AIR_TIME</th>\n",
              "      <th>DISTANCE</th>\n",
              "    </tr>\n",
              "  </thead>\n",
              "  <tbody>\n",
              "    <tr>\n",
              "      <th>0</th>\n",
              "      <td>0</td>\n",
              "      <td>2015-01-01</td>\n",
              "      <td>Spirit Airlines</td>\n",
              "      <td>195</td>\n",
              "      <td>MCO</td>\n",
              "      <td>FLL</td>\n",
              "      <td>2147</td>\n",
              "      <td>2143.0</td>\n",
              "      <td>-4.0</td>\n",
              "      <td>15.0</td>\n",
              "      <td>2158.0</td>\n",
              "      <td>2238.0</td>\n",
              "      <td>7.0</td>\n",
              "      <td>2250</td>\n",
              "      <td>2245.0</td>\n",
              "      <td>-5.0</td>\n",
              "      <td>0.0</td>\n",
              "      <td>0.0</td>\n",
              "      <td>63.0</td>\n",
              "      <td>62.0</td>\n",
              "      <td>40.0</td>\n",
              "      <td>177.0</td>\n",
              "    </tr>\n",
              "    <tr>\n",
              "      <th>1</th>\n",
              "      <td>1</td>\n",
              "      <td>2015-01-01</td>\n",
              "      <td>Spirit Airlines</td>\n",
              "      <td>197</td>\n",
              "      <td>LGA</td>\n",
              "      <td>FLL</td>\n",
              "      <td>1050</td>\n",
              "      <td>1104.0</td>\n",
              "      <td>14.0</td>\n",
              "      <td>20.0</td>\n",
              "      <td>1124.0</td>\n",
              "      <td>1354.0</td>\n",
              "      <td>9.0</td>\n",
              "      <td>1404</td>\n",
              "      <td>1403.0</td>\n",
              "      <td>-1.0</td>\n",
              "      <td>0.0</td>\n",
              "      <td>0.0</td>\n",
              "      <td>194.0</td>\n",
              "      <td>179.0</td>\n",
              "      <td>150.0</td>\n",
              "      <td>1076.0</td>\n",
              "    </tr>\n",
              "    <tr>\n",
              "      <th>2</th>\n",
              "      <td>2</td>\n",
              "      <td>2015-01-01</td>\n",
              "      <td>Spirit Airlines</td>\n",
              "      <td>198</td>\n",
              "      <td>FLL</td>\n",
              "      <td>MCO</td>\n",
              "      <td>700</td>\n",
              "      <td>712.0</td>\n",
              "      <td>12.0</td>\n",
              "      <td>19.0</td>\n",
              "      <td>731.0</td>\n",
              "      <td>803.0</td>\n",
              "      <td>10.0</td>\n",
              "      <td>757</td>\n",
              "      <td>813.0</td>\n",
              "      <td>16.0</td>\n",
              "      <td>0.0</td>\n",
              "      <td>0.0</td>\n",
              "      <td>57.0</td>\n",
              "      <td>61.0</td>\n",
              "      <td>32.0</td>\n",
              "      <td>177.0</td>\n",
              "    </tr>\n",
              "    <tr>\n",
              "      <th>3</th>\n",
              "      <td>3</td>\n",
              "      <td>2015-01-01</td>\n",
              "      <td>Spirit Airlines</td>\n",
              "      <td>199</td>\n",
              "      <td>IAH</td>\n",
              "      <td>LAS</td>\n",
              "      <td>2240</td>\n",
              "      <td>2251.0</td>\n",
              "      <td>11.0</td>\n",
              "      <td>8.0</td>\n",
              "      <td>2259.0</td>\n",
              "      <td>2343.0</td>\n",
              "      <td>4.0</td>\n",
              "      <td>2356</td>\n",
              "      <td>2347.0</td>\n",
              "      <td>-9.0</td>\n",
              "      <td>0.0</td>\n",
              "      <td>0.0</td>\n",
              "      <td>196.0</td>\n",
              "      <td>176.0</td>\n",
              "      <td>164.0</td>\n",
              "      <td>1222.0</td>\n",
              "    </tr>\n",
              "    <tr>\n",
              "      <th>4</th>\n",
              "      <td>4</td>\n",
              "      <td>2015-01-01</td>\n",
              "      <td>Spirit Airlines</td>\n",
              "      <td>200</td>\n",
              "      <td>IAH</td>\n",
              "      <td>ORD</td>\n",
              "      <td>623</td>\n",
              "      <td>620.0</td>\n",
              "      <td>-3.0</td>\n",
              "      <td>15.0</td>\n",
              "      <td>635.0</td>\n",
              "      <td>830.0</td>\n",
              "      <td>10.0</td>\n",
              "      <td>855</td>\n",
              "      <td>840.0</td>\n",
              "      <td>-15.0</td>\n",
              "      <td>0.0</td>\n",
              "      <td>0.0</td>\n",
              "      <td>152.0</td>\n",
              "      <td>140.0</td>\n",
              "      <td>115.0</td>\n",
              "      <td>925.0</td>\n",
              "    </tr>\n",
              "    <tr>\n",
              "      <th>5</th>\n",
              "      <td>5</td>\n",
              "      <td>2015-01-01</td>\n",
              "      <td>Spirit Airlines</td>\n",
              "      <td>201</td>\n",
              "      <td>FLL</td>\n",
              "      <td>STT</td>\n",
              "      <td>1253</td>\n",
              "      <td>1258.0</td>\n",
              "      <td>5.0</td>\n",
              "      <td>24.0</td>\n",
              "      <td>1322.0</td>\n",
              "      <td>1634.0</td>\n",
              "      <td>10.0</td>\n",
              "      <td>1630</td>\n",
              "      <td>1644.0</td>\n",
              "      <td>14.0</td>\n",
              "      <td>0.0</td>\n",
              "      <td>0.0</td>\n",
              "      <td>157.0</td>\n",
              "      <td>166.0</td>\n",
              "      <td>132.0</td>\n",
              "      <td>1107.0</td>\n",
              "    </tr>\n",
              "    <tr>\n",
              "      <th>6</th>\n",
              "      <td>6</td>\n",
              "      <td>2015-01-01</td>\n",
              "      <td>Spirit Airlines</td>\n",
              "      <td>202</td>\n",
              "      <td>DFW</td>\n",
              "      <td>BWI</td>\n",
              "      <td>1342</td>\n",
              "      <td>1337.0</td>\n",
              "      <td>-5.0</td>\n",
              "      <td>11.0</td>\n",
              "      <td>1348.0</td>\n",
              "      <td>1700.0</td>\n",
              "      <td>5.0</td>\n",
              "      <td>1724</td>\n",
              "      <td>1705.0</td>\n",
              "      <td>-19.0</td>\n",
              "      <td>0.0</td>\n",
              "      <td>0.0</td>\n",
              "      <td>162.0</td>\n",
              "      <td>148.0</td>\n",
              "      <td>132.0</td>\n",
              "      <td>1217.0</td>\n",
              "    </tr>\n",
              "    <tr>\n",
              "      <th>7</th>\n",
              "      <td>7</td>\n",
              "      <td>2015-01-01</td>\n",
              "      <td>Spirit Airlines</td>\n",
              "      <td>203</td>\n",
              "      <td>BOS</td>\n",
              "      <td>PBI</td>\n",
              "      <td>1555</td>\n",
              "      <td>1554.0</td>\n",
              "      <td>-1.0</td>\n",
              "      <td>17.0</td>\n",
              "      <td>1611.0</td>\n",
              "      <td>1903.0</td>\n",
              "      <td>5.0</td>\n",
              "      <td>1913</td>\n",
              "      <td>1908.0</td>\n",
              "      <td>-5.0</td>\n",
              "      <td>0.0</td>\n",
              "      <td>0.0</td>\n",
              "      <td>198.0</td>\n",
              "      <td>194.0</td>\n",
              "      <td>172.0</td>\n",
              "      <td>1197.0</td>\n",
              "    </tr>\n",
              "    <tr>\n",
              "      <th>8</th>\n",
              "      <td>8</td>\n",
              "      <td>2015-01-01</td>\n",
              "      <td>Spirit Airlines</td>\n",
              "      <td>204</td>\n",
              "      <td>PBI</td>\n",
              "      <td>BOS</td>\n",
              "      <td>1205</td>\n",
              "      <td>1204.0</td>\n",
              "      <td>-1.0</td>\n",
              "      <td>11.0</td>\n",
              "      <td>1215.0</td>\n",
              "      <td>1455.0</td>\n",
              "      <td>9.0</td>\n",
              "      <td>1505</td>\n",
              "      <td>1504.0</td>\n",
              "      <td>-1.0</td>\n",
              "      <td>0.0</td>\n",
              "      <td>0.0</td>\n",
              "      <td>180.0</td>\n",
              "      <td>180.0</td>\n",
              "      <td>160.0</td>\n",
              "      <td>1197.0</td>\n",
              "    </tr>\n",
              "    <tr>\n",
              "      <th>9</th>\n",
              "      <td>9</td>\n",
              "      <td>2015-01-01</td>\n",
              "      <td>Spirit Airlines</td>\n",
              "      <td>209</td>\n",
              "      <td>ORD</td>\n",
              "      <td>OAK</td>\n",
              "      <td>1534</td>\n",
              "      <td>1534.0</td>\n",
              "      <td>0.0</td>\n",
              "      <td>11.0</td>\n",
              "      <td>1545.0</td>\n",
              "      <td>1736.0</td>\n",
              "      <td>6.0</td>\n",
              "      <td>1819</td>\n",
              "      <td>1742.0</td>\n",
              "      <td>-37.0</td>\n",
              "      <td>0.0</td>\n",
              "      <td>0.0</td>\n",
              "      <td>285.0</td>\n",
              "      <td>248.0</td>\n",
              "      <td>231.0</td>\n",
              "      <td>1836.0</td>\n",
              "    </tr>\n",
              "  </tbody>\n",
              "</table>\n",
              "</div>"
            ]
          },
          "metadata": {},
          "execution_count": 14
        }
      ]
    },
    {
      "cell_type": "markdown",
      "metadata": {
        "id": "_iOan4TM8Lvz"
      },
      "source": [
        "**Modin**"
      ]
    },
    {
      "cell_type": "code",
      "execution_count": null,
      "metadata": {
        "colab": {
          "base_uri": "https://localhost:8080/",
          "height": 458
        },
        "id": "TX92kSDY8RNA",
        "outputId": "b324c72f-13f0-4a5e-c342-9b0c65aee0a5"
      },
      "outputs": [
        {
          "name": "stdout",
          "output_type": "stream",
          "text": [
            "CPU times: user 264 ms, sys: 58.7 ms, total: 322 ms\n",
            "Wall time: 8.77 s\n"
          ]
        },
        {
          "data": {
            "text/html": [
              "<div>\n",
              "<style scoped>\n",
              "    .dataframe tbody tr th:only-of-type {\n",
              "        vertical-align: middle;\n",
              "    }\n",
              "\n",
              "    .dataframe tbody tr th {\n",
              "        vertical-align: top;\n",
              "    }\n",
              "\n",
              "    .dataframe thead th {\n",
              "        text-align: right;\n",
              "    }\n",
              "</style>\n",
              "<table border=\"1\" class=\"dataframe\">\n",
              "  <thead>\n",
              "    <tr style=\"text-align: right;\">\n",
              "      <th></th>\n",
              "      <th>Unnamed: 0</th>\n",
              "      <th>FL_DATE</th>\n",
              "      <th>OP_CARRIER</th>\n",
              "      <th>OP_CARRIER_FL_NUM</th>\n",
              "      <th>ORIGIN</th>\n",
              "      <th>DEST</th>\n",
              "      <th>CRS_DEP_TIME</th>\n",
              "      <th>DEP_TIME</th>\n",
              "      <th>DEP_DELAY</th>\n",
              "      <th>TAXI_OUT</th>\n",
              "      <th>...</th>\n",
              "      <th>TAXI_IN</th>\n",
              "      <th>CRS_ARR_TIME</th>\n",
              "      <th>ARR_TIME</th>\n",
              "      <th>ARR_DELAY</th>\n",
              "      <th>CANCELLED</th>\n",
              "      <th>DIVERTED</th>\n",
              "      <th>CRS_ELAPSED_TIME</th>\n",
              "      <th>ACTUAL_ELAPSED_TIME</th>\n",
              "      <th>AIR_TIME</th>\n",
              "      <th>DISTANCE</th>\n",
              "    </tr>\n",
              "  </thead>\n",
              "  <tbody>\n",
              "    <tr>\n",
              "      <th>0</th>\n",
              "      <td>0</td>\n",
              "      <td>2015-01-01</td>\n",
              "      <td>Spirit Airlines</td>\n",
              "      <td>195</td>\n",
              "      <td>MCO</td>\n",
              "      <td>FLL</td>\n",
              "      <td>2147</td>\n",
              "      <td>2143.0</td>\n",
              "      <td>-4.0</td>\n",
              "      <td>15.0</td>\n",
              "      <td>...</td>\n",
              "      <td>7.0</td>\n",
              "      <td>2250</td>\n",
              "      <td>2245.0</td>\n",
              "      <td>-5.0</td>\n",
              "      <td>0.0</td>\n",
              "      <td>0.0</td>\n",
              "      <td>63.0</td>\n",
              "      <td>62.0</td>\n",
              "      <td>40.0</td>\n",
              "      <td>177.0</td>\n",
              "    </tr>\n",
              "    <tr>\n",
              "      <th>1</th>\n",
              "      <td>1</td>\n",
              "      <td>2015-01-01</td>\n",
              "      <td>Spirit Airlines</td>\n",
              "      <td>197</td>\n",
              "      <td>LGA</td>\n",
              "      <td>FLL</td>\n",
              "      <td>1050</td>\n",
              "      <td>1104.0</td>\n",
              "      <td>14.0</td>\n",
              "      <td>20.0</td>\n",
              "      <td>...</td>\n",
              "      <td>9.0</td>\n",
              "      <td>1404</td>\n",
              "      <td>1403.0</td>\n",
              "      <td>-1.0</td>\n",
              "      <td>0.0</td>\n",
              "      <td>0.0</td>\n",
              "      <td>194.0</td>\n",
              "      <td>179.0</td>\n",
              "      <td>150.0</td>\n",
              "      <td>1076.0</td>\n",
              "    </tr>\n",
              "    <tr>\n",
              "      <th>2</th>\n",
              "      <td>2</td>\n",
              "      <td>2015-01-01</td>\n",
              "      <td>Spirit Airlines</td>\n",
              "      <td>198</td>\n",
              "      <td>FLL</td>\n",
              "      <td>MCO</td>\n",
              "      <td>700</td>\n",
              "      <td>712.0</td>\n",
              "      <td>12.0</td>\n",
              "      <td>19.0</td>\n",
              "      <td>...</td>\n",
              "      <td>10.0</td>\n",
              "      <td>757</td>\n",
              "      <td>813.0</td>\n",
              "      <td>16.0</td>\n",
              "      <td>0.0</td>\n",
              "      <td>0.0</td>\n",
              "      <td>57.0</td>\n",
              "      <td>61.0</td>\n",
              "      <td>32.0</td>\n",
              "      <td>177.0</td>\n",
              "    </tr>\n",
              "    <tr>\n",
              "      <th>3</th>\n",
              "      <td>3</td>\n",
              "      <td>2015-01-01</td>\n",
              "      <td>Spirit Airlines</td>\n",
              "      <td>199</td>\n",
              "      <td>IAH</td>\n",
              "      <td>LAS</td>\n",
              "      <td>2240</td>\n",
              "      <td>2251.0</td>\n",
              "      <td>11.0</td>\n",
              "      <td>8.0</td>\n",
              "      <td>...</td>\n",
              "      <td>4.0</td>\n",
              "      <td>2356</td>\n",
              "      <td>2347.0</td>\n",
              "      <td>-9.0</td>\n",
              "      <td>0.0</td>\n",
              "      <td>0.0</td>\n",
              "      <td>196.0</td>\n",
              "      <td>176.0</td>\n",
              "      <td>164.0</td>\n",
              "      <td>1222.0</td>\n",
              "    </tr>\n",
              "    <tr>\n",
              "      <th>4</th>\n",
              "      <td>4</td>\n",
              "      <td>2015-01-01</td>\n",
              "      <td>Spirit Airlines</td>\n",
              "      <td>200</td>\n",
              "      <td>IAH</td>\n",
              "      <td>ORD</td>\n",
              "      <td>623</td>\n",
              "      <td>620.0</td>\n",
              "      <td>-3.0</td>\n",
              "      <td>15.0</td>\n",
              "      <td>...</td>\n",
              "      <td>10.0</td>\n",
              "      <td>855</td>\n",
              "      <td>840.0</td>\n",
              "      <td>-15.0</td>\n",
              "      <td>0.0</td>\n",
              "      <td>0.0</td>\n",
              "      <td>152.0</td>\n",
              "      <td>140.0</td>\n",
              "      <td>115.0</td>\n",
              "      <td>925.0</td>\n",
              "    </tr>\n",
              "    <tr>\n",
              "      <th>...</th>\n",
              "      <td>...</td>\n",
              "      <td>...</td>\n",
              "      <td>...</td>\n",
              "      <td>...</td>\n",
              "      <td>...</td>\n",
              "      <td>...</td>\n",
              "      <td>...</td>\n",
              "      <td>...</td>\n",
              "      <td>...</td>\n",
              "      <td>...</td>\n",
              "      <td>...</td>\n",
              "      <td>...</td>\n",
              "      <td>...</td>\n",
              "      <td>...</td>\n",
              "      <td>...</td>\n",
              "      <td>...</td>\n",
              "      <td>...</td>\n",
              "      <td>...</td>\n",
              "      <td>...</td>\n",
              "      <td>...</td>\n",
              "      <td>...</td>\n",
              "    </tr>\n",
              "    <tr>\n",
              "      <th>11436732</th>\n",
              "      <td>5617653</td>\n",
              "      <td>2016-12-31</td>\n",
              "      <td>Spirit Airlines</td>\n",
              "      <td>112</td>\n",
              "      <td>IAH</td>\n",
              "      <td>BWI</td>\n",
              "      <td>615</td>\n",
              "      <td>613.0</td>\n",
              "      <td>-2.0</td>\n",
              "      <td>12.0</td>\n",
              "      <td>...</td>\n",
              "      <td>11.0</td>\n",
              "      <td>1005</td>\n",
              "      <td>1000.0</td>\n",
              "      <td>-5.0</td>\n",
              "      <td>0.0</td>\n",
              "      <td>0.0</td>\n",
              "      <td>170.0</td>\n",
              "      <td>167.0</td>\n",
              "      <td>144.0</td>\n",
              "      <td>1235.0</td>\n",
              "    </tr>\n",
              "    <tr>\n",
              "      <th>11436733</th>\n",
              "      <td>5617654</td>\n",
              "      <td>2016-12-31</td>\n",
              "      <td>Spirit Airlines</td>\n",
              "      <td>113</td>\n",
              "      <td>BWI</td>\n",
              "      <td>IAH</td>\n",
              "      <td>2108</td>\n",
              "      <td>2229.0</td>\n",
              "      <td>81.0</td>\n",
              "      <td>9.0</td>\n",
              "      <td>...</td>\n",
              "      <td>9.0</td>\n",
              "      <td>2342</td>\n",
              "      <td>49.0</td>\n",
              "      <td>67.0</td>\n",
              "      <td>0.0</td>\n",
              "      <td>0.0</td>\n",
              "      <td>214.0</td>\n",
              "      <td>200.0</td>\n",
              "      <td>182.0</td>\n",
              "      <td>1235.0</td>\n",
              "    </tr>\n",
              "    <tr>\n",
              "      <th>11436734</th>\n",
              "      <td>5617655</td>\n",
              "      <td>2016-12-31</td>\n",
              "      <td>Spirit Airlines</td>\n",
              "      <td>121</td>\n",
              "      <td>ORD</td>\n",
              "      <td>RSW</td>\n",
              "      <td>700</td>\n",
              "      <td>704.0</td>\n",
              "      <td>4.0</td>\n",
              "      <td>11.0</td>\n",
              "      <td>...</td>\n",
              "      <td>4.0</td>\n",
              "      <td>1052</td>\n",
              "      <td>1035.0</td>\n",
              "      <td>-17.0</td>\n",
              "      <td>0.0</td>\n",
              "      <td>0.0</td>\n",
              "      <td>172.0</td>\n",
              "      <td>151.0</td>\n",
              "      <td>136.0</td>\n",
              "      <td>1120.0</td>\n",
              "    </tr>\n",
              "    <tr>\n",
              "      <th>11436735</th>\n",
              "      <td>5617656</td>\n",
              "      <td>2016-12-31</td>\n",
              "      <td>Spirit Airlines</td>\n",
              "      <td>124</td>\n",
              "      <td>RSW</td>\n",
              "      <td>ORD</td>\n",
              "      <td>1704</td>\n",
              "      <td>1711.0</td>\n",
              "      <td>7.0</td>\n",
              "      <td>9.0</td>\n",
              "      <td>...</td>\n",
              "      <td>7.0</td>\n",
              "      <td>1907</td>\n",
              "      <td>1901.0</td>\n",
              "      <td>-6.0</td>\n",
              "      <td>0.0</td>\n",
              "      <td>0.0</td>\n",
              "      <td>183.0</td>\n",
              "      <td>170.0</td>\n",
              "      <td>154.0</td>\n",
              "      <td>1120.0</td>\n",
              "    </tr>\n",
              "    <tr>\n",
              "      <th>11436736</th>\n",
              "      <td>5617657</td>\n",
              "      <td>2016-12-31</td>\n",
              "      <td>Spirit Airlines</td>\n",
              "      <td>126</td>\n",
              "      <td>FLL</td>\n",
              "      <td>MYR</td>\n",
              "      <td>2015</td>\n",
              "      <td>2208.0</td>\n",
              "      <td>113.0</td>\n",
              "      <td>21.0</td>\n",
              "      <td>...</td>\n",
              "      <td>6.0</td>\n",
              "      <td>2153</td>\n",
              "      <td>2350.0</td>\n",
              "      <td>117.0</td>\n",
              "      <td>0.0</td>\n",
              "      <td>0.0</td>\n",
              "      <td>98.0</td>\n",
              "      <td>102.0</td>\n",
              "      <td>75.0</td>\n",
              "      <td>529.0</td>\n",
              "    </tr>\n",
              "  </tbody>\n",
              "</table>\n",
              "<p>11252153 rows x 22 columns</p>\n",
              "</div>"
            ],
            "text/plain": [
              "          Unnamed: 0     FL_DATE       OP_CARRIER  OP_CARRIER_FL_NUM ORIGIN  \\\n",
              "0                  0  2015-01-01  Spirit Airlines                195    MCO   \n",
              "1                  1  2015-01-01  Spirit Airlines                197    LGA   \n",
              "2                  2  2015-01-01  Spirit Airlines                198    FLL   \n",
              "3                  3  2015-01-01  Spirit Airlines                199    IAH   \n",
              "4                  4  2015-01-01  Spirit Airlines                200    IAH   \n",
              "...              ...         ...              ...                ...    ...   \n",
              "11436732     5617653  2016-12-31  Spirit Airlines                112    IAH   \n",
              "11436733     5617654  2016-12-31  Spirit Airlines                113    BWI   \n",
              "11436734     5617655  2016-12-31  Spirit Airlines                121    ORD   \n",
              "11436735     5617656  2016-12-31  Spirit Airlines                124    RSW   \n",
              "11436736     5617657  2016-12-31  Spirit Airlines                126    FLL   \n",
              "\n",
              "         DEST  CRS_DEP_TIME  DEP_TIME  DEP_DELAY  TAXI_OUT  ...  TAXI_IN  \\\n",
              "0         FLL          2147    2143.0       -4.0      15.0  ...      7.0   \n",
              "1         FLL          1050    1104.0       14.0      20.0  ...      9.0   \n",
              "2         MCO           700     712.0       12.0      19.0  ...     10.0   \n",
              "3         LAS          2240    2251.0       11.0       8.0  ...      4.0   \n",
              "4         ORD           623     620.0       -3.0      15.0  ...     10.0   \n",
              "...       ...           ...       ...        ...       ...  ...      ...   \n",
              "11436732  BWI           615     613.0       -2.0      12.0  ...     11.0   \n",
              "11436733  IAH          2108    2229.0       81.0       9.0  ...      9.0   \n",
              "11436734  RSW           700     704.0        4.0      11.0  ...      4.0   \n",
              "11436735  ORD          1704    1711.0        7.0       9.0  ...      7.0   \n",
              "11436736  MYR          2015    2208.0      113.0      21.0  ...      6.0   \n",
              "\n",
              "          CRS_ARR_TIME  ARR_TIME  ARR_DELAY  CANCELLED  DIVERTED  \\\n",
              "0                 2250    2245.0       -5.0        0.0       0.0   \n",
              "1                 1404    1403.0       -1.0        0.0       0.0   \n",
              "2                  757     813.0       16.0        0.0       0.0   \n",
              "3                 2356    2347.0       -9.0        0.0       0.0   \n",
              "4                  855     840.0      -15.0        0.0       0.0   \n",
              "...                ...       ...        ...        ...       ...   \n",
              "11436732          1005    1000.0       -5.0        0.0       0.0   \n",
              "11436733          2342      49.0       67.0        0.0       0.0   \n",
              "11436734          1052    1035.0      -17.0        0.0       0.0   \n",
              "11436735          1907    1901.0       -6.0        0.0       0.0   \n",
              "11436736          2153    2350.0      117.0        0.0       0.0   \n",
              "\n",
              "          CRS_ELAPSED_TIME  ACTUAL_ELAPSED_TIME  AIR_TIME  DISTANCE  \n",
              "0                     63.0                 62.0      40.0     177.0  \n",
              "1                    194.0                179.0     150.0    1076.0  \n",
              "2                     57.0                 61.0      32.0     177.0  \n",
              "3                    196.0                176.0     164.0    1222.0  \n",
              "4                    152.0                140.0     115.0     925.0  \n",
              "...                    ...                  ...       ...       ...  \n",
              "11436732             170.0                167.0     144.0    1235.0  \n",
              "11436733             214.0                200.0     182.0    1235.0  \n",
              "11436734             172.0                151.0     136.0    1120.0  \n",
              "11436735             183.0                170.0     154.0    1120.0  \n",
              "11436736              98.0                102.0      75.0     529.0  \n",
              "\n",
              "[11252153 rows x 22 columns]"
            ]
          },
          "execution_count": 54,
          "metadata": {},
          "output_type": "execute_result"
        }
      ],
      "source": [
        "%%time\n",
        "mdf['OP_CARRIER'].replace({'UA':'United Airlines','AS':'Alaska Airlines','9E':'Endeavor Air','B6':'JetBlue Airways','EV':'ExpressJet','F9':'Frontier Airlines','G4':'Allegiant Air','HA':'Hawaiian Airlines','MQ':'Envoy Air','NK':'Spirit Airlines','OH':'PSA Airlines','OO':'SkyWest Airlines','VX':'Virgin America','WN':'Southwest Airlines','YV':'Mesa Airline','YX':'Republic Airways','AA':'American Airlines','DL':'Delta Airlines'},inplace=True)\n",
        "mdf"
      ]
    },
    {
      "cell_type": "code",
      "execution_count": null,
      "metadata": {
        "colab": {
          "base_uri": "https://localhost:8080/"
        },
        "id": "5qpB8T067DLg",
        "outputId": "e361943c-2c2b-40b5-b8f2-e160ec41ecea"
      },
      "outputs": [
        {
          "name": "stdout",
          "output_type": "stream",
          "text": [
            "number of rows: 11252153\n",
            "number of column: 22\n"
          ]
        }
      ],
      "source": [
        "row, col = df.shape\n",
        "print('number of rows:',row)\n",
        "\n",
        "print('number of column:',col)"
      ]
    },
    {
      "cell_type": "markdown",
      "metadata": {
        "id": "vnVeY7bOHLiR"
      },
      "source": [
        "# **Exploratory Analysis and Visualization**  \n",
        "\n",
        "*   Compute the mean, sum, range and other interesting statistics for numeric columns\n",
        "*   Explore distributions of numeric columns using histograms etc.\n",
        "*   Explore relationship between columns using scatter plots, bar charts etc.\n",
        "*   Make a note of interesting insights from the exploratory analysis\n"
      ]
    },
    {
      "cell_type": "markdown",
      "metadata": {
        "id": "9RQGDArlZ4dg"
      },
      "source": [
        "**Graph Formatter Function**"
      ]
    },
    {
      "cell_type": "code",
      "execution_count": null,
      "metadata": {
        "id": "rxJT4WTRZzJJ"
      },
      "outputs": [],
      "source": [
        "def reformat_large_tick_values(tick_val, pos):\n",
        "    \"\"\"\n",
        "    Turns large tick values (in the billions, millions and thousands) such as 4500 into 4.5K and also appropriately turns 4000 into 4K (no zero after the decimal).\n",
        "    \"\"\"\n",
        "    if tick_val >= 1000000000:\n",
        "        val = round(tick_val/1000000000, 1)\n",
        "        new_tick_format = '{:}B'.format(val)\n",
        "    elif tick_val >= 1000000:\n",
        "        val = round(tick_val/1000000, 1)\n",
        "        new_tick_format = '{:}M'.format(val)\n",
        "    elif tick_val >= 1000:\n",
        "        val = round(tick_val/1000, 1)\n",
        "        new_tick_format = '{:}K'.format(val)\n",
        "    elif tick_val < 1000:\n",
        "        new_tick_format = round(tick_val, 1)\n",
        "    else:\n",
        "        new_tick_format = tick_val\n",
        "\n",
        "    # make new_tick_format into a string value\n",
        "    new_tick_format = str(new_tick_format)\n",
        "    \n",
        "    # code below will keep 4.5M as is but change values such as 4.0M to 4M since that zero after the decimal isn't needed\n",
        "    index_of_decimal = new_tick_format.find(\".\")\n",
        "    \n",
        "    if index_of_decimal != -1:\n",
        "        value_after_decimal = new_tick_format[index_of_decimal+1]\n",
        "        if value_after_decimal == \"0\":\n",
        "            # remove the 0 after the decimal point since it's not needed\n",
        "            new_tick_format = new_tick_format[0:index_of_decimal] + new_tick_format[index_of_decimal+2:]\n",
        "            \n",
        "    return new_tick_format"
      ]
    },
    {
      "cell_type": "markdown",
      "metadata": {
        "id": "pBXBUZRhHnBs"
      },
      "source": [
        "#### **Graph 1: Graph of flight Delay Times Distribution**\n",
        "\n",
        "The histogram depicts the distribution of flight delay time in minutes. The histogram describes the distribution of arrival delay flight time as shifted to the right. When data are right-skewed, or positive-skewed, many of the values are near the lower end of the range, and higher values are infrequent. As a result, the median value of 1.50 is less than the mean value of 3.39, because the mean is more sensitive to higher values and is drawn to the tail of the histogram."
      ]
    },
    {
      "cell_type": "markdown",
      "metadata": {
        "id": "oebXCYJsHrhk"
      },
      "source": [
        "**Pandas**"
      ]
    },
    {
      "cell_type": "code",
      "execution_count": null,
      "metadata": {
        "colab": {
          "base_uri": "https://localhost:8080/",
          "height": 806
        },
        "id": "u6NuEPTs-3Vt",
        "outputId": "76ff5fd7-dc51-4efc-ba55-ffedc6b23f64"
      },
      "outputs": [
        {
          "output_type": "display_data",
          "data": {
            "text/plain": [
              "<Figure size 1440x720 with 1 Axes>"
            ],
            "image/png": "[encoded data removed]"
          },
          "metadata": {
            "needs_background": "light"
          }
        },
        {
          "output_type": "stream",
          "name": "stdout",
          "text": [
            "flight delay time median:  15.0\n"
          ]
        },
        {
          "output_type": "execute_result",
          "data": {
            "text/plain": [
              "count    3.971681e+06\n",
              "mean     3.391894e+01\n",
              "std      5.609328e+01\n",
              "min      1.000000e+00\n",
              "25%      6.000000e+00\n",
              "50%      1.500000e+01\n",
              "75%      3.800000e+01\n",
              "max      2.142000e+03\n",
              "Name: ARR_DELAY, dtype: float64"
            ]
          },
          "metadata": {},
          "execution_count": 12
        }
      ],
      "source": [
        "import matplotlib.pyplot as plt\n",
        "import matplotlib.ticker as tick\n",
        "\n",
        "df_delay = df[df.ARR_DELAY>0]\n",
        "\n",
        "plt.rcParams['figure.figsize'] = [20, 10]\n",
        "\n",
        "median_flight_delay_time = df_delay['ARR_DELAY'].median()\n",
        "max = df_delay['ARR_DELAY'].max()\n",
        "min = df_delay['ARR_DELAY'].min()\n",
        "\n",
        "\n",
        "\n",
        "df_delay.hist(column='ARR_DELAY', bins=50)\n",
        "plt.title('ARRIVAL delays time 2015-2016', fontsize=20)\n",
        "plt.ylabel('Flight', fontsize=15)\n",
        "plt.xlabel('Minutes', fontsize=15)\n",
        "ax = plt.gca()\n",
        "ax.yaxis.set_major_formatter(tick.FuncFormatter(reformat_large_tick_values));\n",
        "plt.show()\n",
        "\n",
        "print(\"flight delay time median: \",median_flight_delay_time)\n",
        "df_delay['ARR_DELAY'].describe()\n"
      ]
    },
    {
      "cell_type": "markdown",
      "metadata": {
        "id": "_QzvyY8aU1SS"
      },
      "source": [
        "**Koalas**"
      ]
    },
    {
      "cell_type": "code",
      "source": [
        "import matplotlib.pyplot as plt\n",
        "from databricks.koalas import DataFrame\n",
        "\n",
        "kdf_delay = kdf[kdf.ARR_DELAY>0]\n",
        "kdf_delay.head()"
      ],
      "metadata": {
        "colab": {
          "base_uri": "https://localhost:8080/",
          "height": 313
        },
        "id": "4JmtNbAnm_U4",
        "outputId": "0d8f5633-6e1c-4fa0-adb3-4ccbac6a2bd4"
      },
      "execution_count": null,
      "outputs": [
        {
          "output_type": "execute_result",
          "data": {
            "text/plain": [
              "    _c0    FL_DATE       OP_CARRIER  OP_CARRIER_FL_NUM ORIGIN DEST  CRS_DEP_TIME  DEP_TIME  DEP_DELAY  TAXI_OUT  WHEELS_OFF  WHEELS_ON  TAXI_IN  CRS_ARR_TIME  ARR_TIME  ARR_DELAY  CANCELLED  DIVERTED  CRS_ELAPSED_TIME  ACTUAL_ELAPSED_TIME  AIR_TIME  DISTANCE\n",
              "2     2 2015-01-01  Spirit Airlines                198    FLL  MCO           700     712.0       12.0      19.0       731.0      803.0     10.0           757     813.0       16.0        0.0       0.0              57.0                 61.0      32.0     177.0\n",
              "5     5 2015-01-01  Spirit Airlines                201    FLL  STT          1253    1258.0        5.0      24.0      1322.0     1634.0     10.0          1630    1644.0       14.0        0.0       0.0             157.0                166.0     132.0    1107.0\n",
              "12   12 2015-01-01  Spirit Airlines                215    PHL  DFW          2059    2051.0       -8.0      23.0      2114.0     2350.0      6.0          2352    2356.0        4.0        0.0       0.0             233.0                245.0     216.0    1303.0\n",
              "13   13 2015-01-01  Spirit Airlines                216    LAX  IAH          1648    1641.0       -7.0      27.0      1708.0     2159.0     10.0          2155    2209.0       14.0        0.0       0.0             187.0                208.0     171.0    1379.0\n",
              "15   15 2015-01-01  Spirit Airlines                218    FLL  ACY           800     815.0       15.0      12.0       827.0     1037.0      6.0          1025    1043.0       18.0        0.0       0.0             145.0                148.0     130.0     977.0"
            ],
            "text/html": [
              "<div>\n",
              "<style scoped>\n",
              "    .dataframe tbody tr th:only-of-type {\n",
              "        vertical-align: middle;\n",
              "    }\n",
              "\n",
              "    .dataframe tbody tr th {\n",
              "        vertical-align: top;\n",
              "    }\n",
              "\n",
              "    .dataframe thead th {\n",
              "        text-align: right;\n",
              "    }\n",
              "</style>\n",
              "<table border=\"1\" class=\"dataframe\">\n",
              "  <thead>\n",
              "    <tr style=\"text-align: right;\">\n",
              "      <th></th>\n",
              "      <th>_c0</th>\n",
              "      <th>FL_DATE</th>\n",
              "      <th>OP_CARRIER</th>\n",
              "      <th>OP_CARRIER_FL_NUM</th>\n",
              "      <th>ORIGIN</th>\n",
              "      <th>DEST</th>\n",
              "      <th>CRS_DEP_TIME</th>\n",
              "      <th>DEP_TIME</th>\n",
              "      <th>DEP_DELAY</th>\n",
              "      <th>TAXI_OUT</th>\n",
              "      <th>WHEELS_OFF</th>\n",
              "      <th>WHEELS_ON</th>\n",
              "      <th>TAXI_IN</th>\n",
              "      <th>CRS_ARR_TIME</th>\n",
              "      <th>ARR_TIME</th>\n",
              "      <th>ARR_DELAY</th>\n",
              "      <th>CANCELLED</th>\n",
              "      <th>DIVERTED</th>\n",
              "      <th>CRS_ELAPSED_TIME</th>\n",
              "      <th>ACTUAL_ELAPSED_TIME</th>\n",
              "      <th>AIR_TIME</th>\n",
              "      <th>DISTANCE</th>\n",
              "    </tr>\n",
              "  </thead>\n",
              "  <tbody>\n",
              "    <tr>\n",
              "      <th>2</th>\n",
              "      <td>2</td>\n",
              "      <td>2015-01-01</td>\n",
              "      <td>Spirit Airlines</td>\n",
              "      <td>198</td>\n",
              "      <td>FLL</td>\n",
              "      <td>MCO</td>\n",
              "      <td>700</td>\n",
              "      <td>712.0</td>\n",
              "      <td>12.0</td>\n",
              "      <td>19.0</td>\n",
              "      <td>731.0</td>\n",
              "      <td>803.0</td>\n",
              "      <td>10.0</td>\n",
              "      <td>757</td>\n",
              "      <td>813.0</td>\n",
              "      <td>16.0</td>\n",
              "      <td>0.0</td>\n",
              "      <td>0.0</td>\n",
              "      <td>57.0</td>\n",
              "      <td>61.0</td>\n",
              "      <td>32.0</td>\n",
              "      <td>177.0</td>\n",
              "    </tr>\n",
              "    <tr>\n",
              "      <th>5</th>\n",
              "      <td>5</td>\n",
              "      <td>2015-01-01</td>\n",
              "      <td>Spirit Airlines</td>\n",
              "      <td>201</td>\n",
              "      <td>FLL</td>\n",
              "      <td>STT</td>\n",
              "      <td>1253</td>\n",
              "      <td>1258.0</td>\n",
              "      <td>5.0</td>\n",
              "      <td>24.0</td>\n",
              "      <td>1322.0</td>\n",
              "      <td>1634.0</td>\n",
              "      <td>10.0</td>\n",
              "      <td>1630</td>\n",
              "      <td>1644.0</td>\n",
              "      <td>14.0</td>\n",
              "      <td>0.0</td>\n",
              "      <td>0.0</td>\n",
              "      <td>157.0</td>\n",
              "      <td>166.0</td>\n",
              "      <td>132.0</td>\n",
              "      <td>1107.0</td>\n",
              "    </tr>\n",
              "    <tr>\n",
              "      <th>12</th>\n",
              "      <td>12</td>\n",
              "      <td>2015-01-01</td>\n",
              "      <td>Spirit Airlines</td>\n",
              "      <td>215</td>\n",
              "      <td>PHL</td>\n",
              "      <td>DFW</td>\n",
              "      <td>2059</td>\n",
              "      <td>2051.0</td>\n",
              "      <td>-8.0</td>\n",
              "      <td>23.0</td>\n",
              "      <td>2114.0</td>\n",
              "      <td>2350.0</td>\n",
              "      <td>6.0</td>\n",
              "      <td>2352</td>\n",
              "      <td>2356.0</td>\n",
              "      <td>4.0</td>\n",
              "      <td>0.0</td>\n",
              "      <td>0.0</td>\n",
              "      <td>233.0</td>\n",
              "      <td>245.0</td>\n",
              "      <td>216.0</td>\n",
              "      <td>1303.0</td>\n",
              "    </tr>\n",
              "    <tr>\n",
              "      <th>13</th>\n",
              "      <td>13</td>\n",
              "      <td>2015-01-01</td>\n",
              "      <td>Spirit Airlines</td>\n",
              "      <td>216</td>\n",
              "      <td>LAX</td>\n",
              "      <td>IAH</td>\n",
              "      <td>1648</td>\n",
              "      <td>1641.0</td>\n",
              "      <td>-7.0</td>\n",
              "      <td>27.0</td>\n",
              "      <td>1708.0</td>\n",
              "      <td>2159.0</td>\n",
              "      <td>10.0</td>\n",
              "      <td>2155</td>\n",
              "      <td>2209.0</td>\n",
              "      <td>14.0</td>\n",
              "      <td>0.0</td>\n",
              "      <td>0.0</td>\n",
              "      <td>187.0</td>\n",
              "      <td>208.0</td>\n",
              "      <td>171.0</td>\n",
              "      <td>1379.0</td>\n",
              "    </tr>\n",
              "    <tr>\n",
              "      <th>15</th>\n",
              "      <td>15</td>\n",
              "      <td>2015-01-01</td>\n",
              "      <td>Spirit Airlines</td>\n",
              "      <td>218</td>\n",
              "      <td>FLL</td>\n",
              "      <td>ACY</td>\n",
              "      <td>800</td>\n",
              "      <td>815.0</td>\n",
              "      <td>15.0</td>\n",
              "      <td>12.0</td>\n",
              "      <td>827.0</td>\n",
              "      <td>1037.0</td>\n",
              "      <td>6.0</td>\n",
              "      <td>1025</td>\n",
              "      <td>1043.0</td>\n",
              "      <td>18.0</td>\n",
              "      <td>0.0</td>\n",
              "      <td>0.0</td>\n",
              "      <td>145.0</td>\n",
              "      <td>148.0</td>\n",
              "      <td>130.0</td>\n",
              "      <td>977.0</td>\n",
              "    </tr>\n",
              "  </tbody>\n",
              "</table>\n",
              "</div>"
            ]
          },
          "metadata": {},
          "execution_count": 16
        }
      ]
    },
    {
      "cell_type": "code",
      "execution_count": null,
      "metadata": {
        "colab": {
          "base_uri": "https://localhost:8080/",
          "height": 542
        },
        "id": "tNhm1NX7qEaJ",
        "outputId": "4675e0f4-d38d-4244-aa13-ae683fef1d91"
      },
      "outputs": [
        {
          "output_type": "display_data",
          "data": {
            "text/html": [
              "<html>\n",
              "<head><meta charset=\"utf-8\" /></head>\n",
              "<body>\n",
              "    <div>            <script src=\"https://cdnjs.cloudflare.com/ajax/libs/mathjax/2.7.5/MathJax.js?config=TeX-AMS-MML_SVG\"></script><script type=\"text/javascript\">if (window.MathJax) {MathJax.Hub.Config({SVG: {font: \"STIX-Web\"}});}</script>                <script type=\"text/javascript\">window.PlotlyConfig = {MathJaxConfig: 'local'};</script>\n",
              "        <script src=\"https://cdn.plot.ly/plotly-2.8.3.min.js\"></script>                <div id=\"ca0b8e1a-080d-440a-b572-82f1042d9b21\" class=\"plotly-graph-div\" style=\"height:525px; width:100%;\"></div>            <script type=\"text/javascript\">                                    window.PLOTLYENV=window.PLOTLYENV || {};                                    if (document.getElementById(\"ca0b8e1a-080d-440a-b572-82f1042d9b21\")) {                    Plotly.newPlot(                        \"ca0b8e1a-080d-440a-b572-82f1042d9b21\",                        [{\"hovertemplate\":\"variable=ARR_DELAY<br>value=%{text}<br>count=%{y}\",\"name\":\"ARR_DELAY\",\"text\":[\"[1.0, 43.82)\",\"[43.82, 86.64)\",\"[86.64, 129.46)\",\"[129.46, 172.28)\",\"[172.28, 215.1)\",\"[215.1, 257.92)\",\"[257.92, 300.74)\",\"[300.74, 343.56)\",\"[343.56, 386.38)\",\"[386.38, 429.2)\",\"[429.2, 472.02)\",\"[472.02, 514.84)\",\"[514.84, 557.66)\",\"[557.66, 600.48)\",\"[600.48, 643.3)\",\"[643.3, 686.12)\",\"[686.12, 728.94)\",\"[728.94, 771.76)\",\"[771.76, 814.58)\",\"[814.58, 857.4)\",\"[857.4, 900.22)\",\"[900.22, 943.04)\",\"[943.04, 985.86)\",\"[985.86, 1028.68)\",\"[1028.68, 1071.5)\",\"[1071.5, 1114.32)\",\"[1114.32, 1157.14)\",\"[1157.14, 1199.96)\",\"[1199.96, 1242.78)\",\"[1242.78, 1285.6)\",\"[1285.6, 1328.42)\",\"[1328.42, 1371.24)\",\"[1371.24, 1414.06)\",\"[1414.06, 1456.88)\",\"[1456.88, 1499.7)\",\"[1499.7, 1542.52)\",\"[1542.52, 1585.34)\",\"[1585.34, 1628.16)\",\"[1628.16, 1670.98)\",\"[1670.98, 1713.8)\",\"[1713.8, 1756.62)\",\"[1756.62, 1799.44)\",\"[1799.44, 1842.26)\",\"[1842.26, 1885.08)\",\"[1885.08, 1927.9)\",\"[1927.9, 1970.72)\",\"[1970.72, 2013.54)\",\"[2013.54, 2056.36)\",\"[2056.36, 2099.18)\",\"[2099.18, 2142.0]\"],\"x\":[22.41,65.23,108.05000000000001,150.87,193.69,236.51,279.33000000000004,322.15,364.97,407.78999999999996,450.61,493.43,536.25,579.0699999999999,621.89,664.71,707.53,750.35,793.1700000000001,835.99,878.81,921.63,964.45,1007.27,1050.0900000000001,1092.9099999999999,1135.73,1178.5500000000002,1221.37,1264.19,1307.01,1349.83,1392.65,1435.47,1478.29,1521.1100000000001,1563.9299999999998,1606.75,1649.5700000000002,1692.3899999999999,1735.21,1778.0300000000002,1820.85,1863.67,1906.49,1949.31,1992.13,2034.95,2077.77,2120.59],\"y\":[3088724.0,491131.0,192293.0,91612.0,46259.0,24028.0,13643.0,8053.0,4711.0,2907.0,1813.0,1284.0,834.0,617.0,501.0,406.0,340.0,341.0,332.0,293.0,285.0,228.0,207.0,170.0,151.0,110.0,106.0,70.0,54.0,41.0,26.0,23.0,15.0,14.0,18.0,8.0,16.0,3.0,9.0,0.0,0.0,0.0,0.0,0.0,1.0,0.0,2.0,1.0,0.0,1.0],\"type\":\"bar\"}],                        {\"barmode\":\"stack\",\"template\":{\"data\":{\"bar\":[{\"error_x\":{\"color\":\"#2a3f5f\"},\"error_y\":{\"color\":\"#2a3f5f\"},\"marker\":{\"line\":{\"color\":\"#E5ECF6\",\"width\":0.5},\"pattern\":{\"fillmode\":\"overlay\",\"size\":10,\"solidity\":0.2}},\"type\":\"bar\"}],\"barpolar\":[{\"marker\":{\"line\":{\"color\":\"#E5ECF6\",\"width\":0.5},\"pattern\":{\"fillmode\":\"overlay\",\"size\":10,\"solidity\":0.2}},\"type\":\"barpolar\"}],\"carpet\":[{\"aaxis\":{\"endlinecolor\":\"#2a3f5f\",\"gridcolor\":\"white\",\"linecolor\":\"white\",\"minorgridcolor\":\"white\",\"startlinecolor\":\"#2a3f5f\"},\"baxis\":{\"endlinecolor\":\"#2a3f5f\",\"gridcolor\":\"white\",\"linecolor\":\"white\",\"minorgridcolor\":\"white\",\"startlinecolor\":\"#2a3f5f\"},\"type\":\"carpet\"}],\"choropleth\":[{\"colorbar\":{\"outlinewidth\":0,\"ticks\":\"\"},\"type\":\"choropleth\"}],\"contour\":[{\"colorbar\":{\"outlinewidth\":0,\"ticks\":\"\"},\"colorscale\":[[0.0,\"#0d0887\"],[0.1111111111111111,\"#46039f\"],[0.2222222222222222,\"#7201a8\"],[0.3333333333333333,\"#9c179e\"],[0.4444444444444444,\"#bd3786\"],[0.5555555555555556,\"#d8576b\"],[0.6666666666666666,\"#ed7953\"],[0.7777777777777778,\"#fb9f3a\"],[0.8888888888888888,\"#fdca26\"],[1.0,\"#f0f921\"]],\"type\":\"contour\"}],\"contourcarpet\":[{\"colorbar\":{\"outlinewidth\":0,\"ticks\":\"\"},\"type\":\"contourcarpet\"}],\"heatmap\":[{\"colorbar\":{\"outlinewidth\":0,\"ticks\":\"\"},\"colorscale\":[[0.0,\"#0d0887\"],[0.1111111111111111,\"#46039f\"],[0.2222222222222222,\"#7201a8\"],[0.3333333333333333,\"#9c179e\"],[0.4444444444444444,\"#bd3786\"],[0.5555555555555556,\"#d8576b\"],[0.6666666666666666,\"#ed7953\"],[0.7777777777777778,\"#fb9f3a\"],[0.8888888888888888,\"#fdca26\"],[1.0,\"#f0f921\"]],\"type\":\"heatmap\"}],\"heatmapgl\":[{\"colorbar\":{\"outlinewidth\":0,\"ticks\":\"\"},\"colorscale\":[[0.0,\"#0d0887\"],[0.1111111111111111,\"#46039f\"],[0.2222222222222222,\"#7201a8\"],[0.3333333333333333,\"#9c179e\"],[0.4444444444444444,\"#bd3786\"],[0.5555555555555556,\"#d8576b\"],[0.6666666666666666,\"#ed7953\"],[0.7777777777777778,\"#fb9f3a\"],[0.8888888888888888,\"#fdca26\"],[1.0,\"#f0f921\"]],\"type\":\"heatmapgl\"}],\"histogram\":[{\"marker\":{\"pattern\":{\"fillmode\":\"overlay\",\"size\":10,\"solidity\":0.2}},\"type\":\"histogram\"}],\"histogram2d\":[{\"colorbar\":{\"outlinewidth\":0,\"ticks\":\"\"},\"colorscale\":[[0.0,\"#0d0887\"],[0.1111111111111111,\"#46039f\"],[0.2222222222222222,\"#7201a8\"],[0.3333333333333333,\"#9c179e\"],[0.4444444444444444,\"#bd3786\"],[0.5555555555555556,\"#d8576b\"],[0.6666666666666666,\"#ed7953\"],[0.7777777777777778,\"#fb9f3a\"],[0.8888888888888888,\"#fdca26\"],[1.0,\"#f0f921\"]],\"type\":\"histogram2d\"}],\"histogram2dcontour\":[{\"colorbar\":{\"outlinewidth\":0,\"ticks\":\"\"},\"colorscale\":[[0.0,\"#0d0887\"],[0.1111111111111111,\"#46039f\"],[0.2222222222222222,\"#7201a8\"],[0.3333333333333333,\"#9c179e\"],[0.4444444444444444,\"#bd3786\"],[0.5555555555555556,\"#d8576b\"],[0.6666666666666666,\"#ed7953\"],[0.7777777777777778,\"#fb9f3a\"],[0.8888888888888888,\"#fdca26\"],[1.0,\"#f0f921\"]],\"type\":\"histogram2dcontour\"}],\"mesh3d\":[{\"colorbar\":{\"outlinewidth\":0,\"ticks\":\"\"},\"type\":\"mesh3d\"}],\"parcoords\":[{\"line\":{\"colorbar\":{\"outlinewidth\":0,\"ticks\":\"\"}},\"type\":\"parcoords\"}],\"pie\":[{\"automargin\":true,\"type\":\"pie\"}],\"scatter\":[{\"marker\":{\"colorbar\":{\"outlinewidth\":0,\"ticks\":\"\"}},\"type\":\"scatter\"}],\"scatter3d\":[{\"line\":{\"colorbar\":{\"outlinewidth\":0,\"ticks\":\"\"}},\"marker\":{\"colorbar\":{\"outlinewidth\":0,\"ticks\":\"\"}},\"type\":\"scatter3d\"}],\"scattercarpet\":[{\"marker\":{\"colorbar\":{\"outlinewidth\":0,\"ticks\":\"\"}},\"type\":\"scattercarpet\"}],\"scattergeo\":[{\"marker\":{\"colorbar\":{\"outlinewidth\":0,\"ticks\":\"\"}},\"type\":\"scattergeo\"}],\"scattergl\":[{\"marker\":{\"colorbar\":{\"outlinewidth\":0,\"ticks\":\"\"}},\"type\":\"scattergl\"}],\"scattermapbox\":[{\"marker\":{\"colorbar\":{\"outlinewidth\":0,\"ticks\":\"\"}},\"type\":\"scattermapbox\"}],\"scatterpolar\":[{\"marker\":{\"colorbar\":{\"outlinewidth\":0,\"ticks\":\"\"}},\"type\":\"scatterpolar\"}],\"scatterpolargl\":[{\"marker\":{\"colorbar\":{\"outlinewidth\":0,\"ticks\":\"\"}},\"type\":\"scatterpolargl\"}],\"scatterternary\":[{\"marker\":{\"colorbar\":{\"outlinewidth\":0,\"ticks\":\"\"}},\"type\":\"scatterternary\"}],\"surface\":[{\"colorbar\":{\"outlinewidth\":0,\"ticks\":\"\"},\"colorscale\":[[0.0,\"#0d0887\"],[0.1111111111111111,\"#46039f\"],[0.2222222222222222,\"#7201a8\"],[0.3333333333333333,\"#9c179e\"],[0.4444444444444444,\"#bd3786\"],[0.5555555555555556,\"#d8576b\"],[0.6666666666666666,\"#ed7953\"],[0.7777777777777778,\"#fb9f3a\"],[0.8888888888888888,\"#fdca26\"],[1.0,\"#f0f921\"]],\"type\":\"surface\"}],\"table\":[{\"cells\":{\"fill\":{\"color\":\"#EBF0F8\"},\"line\":{\"color\":\"white\"}},\"header\":{\"fill\":{\"color\":\"#C8D4E3\"},\"line\":{\"color\":\"white\"}},\"type\":\"table\"}]},\"layout\":{\"annotationdefaults\":{\"arrowcolor\":\"#2a3f5f\",\"arrowhead\":0,\"arrowwidth\":1},\"autotypenumbers\":\"strict\",\"coloraxis\":{\"colorbar\":{\"outlinewidth\":0,\"ticks\":\"\"}},\"colorscale\":{\"diverging\":[[0,\"#8e0152\"],[0.1,\"#c51b7d\"],[0.2,\"#de77ae\"],[0.3,\"#f1b6da\"],[0.4,\"#fde0ef\"],[0.5,\"#f7f7f7\"],[0.6,\"#e6f5d0\"],[0.7,\"#b8e186\"],[0.8,\"#7fbc41\"],[0.9,\"#4d9221\"],[1,\"#276419\"]],\"sequential\":[[0.0,\"#0d0887\"],[0.1111111111111111,\"#46039f\"],[0.2222222222222222,\"#7201a8\"],[0.3333333333333333,\"#9c179e\"],[0.4444444444444444,\"#bd3786\"],[0.5555555555555556,\"#d8576b\"],[0.6666666666666666,\"#ed7953\"],[0.7777777777777778,\"#fb9f3a\"],[0.8888888888888888,\"#fdca26\"],[1.0,\"#f0f921\"]],\"sequentialminus\":[[0.0,\"#0d0887\"],[0.1111111111111111,\"#46039f\"],[0.2222222222222222,\"#7201a8\"],[0.3333333333333333,\"#9c179e\"],[0.4444444444444444,\"#bd3786\"],[0.5555555555555556,\"#d8576b\"],[0.6666666666666666,\"#ed7953\"],[0.7777777777777778,\"#fb9f3a\"],[0.8888888888888888,\"#fdca26\"],[1.0,\"#f0f921\"]]},\"colorway\":[\"#636efa\",\"#EF553B\",\"#00cc96\",\"#ab63fa\",\"#FFA15A\",\"#19d3f3\",\"#FF6692\",\"#B6E880\",\"#FF97FF\",\"#FECB52\"],\"font\":{\"color\":\"#2a3f5f\"},\"geo\":{\"bgcolor\":\"white\",\"lakecolor\":\"white\",\"landcolor\":\"#E5ECF6\",\"showlakes\":true,\"showland\":true,\"subunitcolor\":\"white\"},\"hoverlabel\":{\"align\":\"left\"},\"hovermode\":\"closest\",\"mapbox\":{\"style\":\"light\"},\"paper_bgcolor\":\"white\",\"plot_bgcolor\":\"#E5ECF6\",\"polar\":{\"angularaxis\":{\"gridcolor\":\"white\",\"linecolor\":\"white\",\"ticks\":\"\"},\"bgcolor\":\"#E5ECF6\",\"radialaxis\":{\"gridcolor\":\"white\",\"linecolor\":\"white\",\"ticks\":\"\"}},\"scene\":{\"xaxis\":{\"backgroundcolor\":\"#E5ECF6\",\"gridcolor\":\"white\",\"gridwidth\":2,\"linecolor\":\"white\",\"showbackground\":true,\"ticks\":\"\",\"zerolinecolor\":\"white\"},\"yaxis\":{\"backgroundcolor\":\"#E5ECF6\",\"gridcolor\":\"white\",\"gridwidth\":2,\"linecolor\":\"white\",\"showbackground\":true,\"ticks\":\"\",\"zerolinecolor\":\"white\"},\"zaxis\":{\"backgroundcolor\":\"#E5ECF6\",\"gridcolor\":\"white\",\"gridwidth\":2,\"linecolor\":\"white\",\"showbackground\":true,\"ticks\":\"\",\"zerolinecolor\":\"white\"}},\"shapedefaults\":{\"line\":{\"color\":\"#2a3f5f\"}},\"ternary\":{\"aaxis\":{\"gridcolor\":\"white\",\"linecolor\":\"white\",\"ticks\":\"\"},\"baxis\":{\"gridcolor\":\"white\",\"linecolor\":\"white\",\"ticks\":\"\"},\"bgcolor\":\"#E5ECF6\",\"caxis\":{\"gridcolor\":\"white\",\"linecolor\":\"white\",\"ticks\":\"\"}},\"title\":{\"x\":0.05},\"xaxis\":{\"automargin\":true,\"gridcolor\":\"white\",\"linecolor\":\"white\",\"ticks\":\"\",\"title\":{\"standoff\":15},\"zerolinecolor\":\"white\",\"zerolinewidth\":2},\"yaxis\":{\"automargin\":true,\"gridcolor\":\"white\",\"linecolor\":\"white\",\"ticks\":\"\",\"title\":{\"standoff\":15},\"zerolinecolor\":\"white\",\"zerolinewidth\":2}}},\"xaxis\":{\"title\":{\"text\":\"Minutes\"}},\"yaxis\":{\"title\":{\"text\":\"Flight\"}},\"title\":{\"text\":\"ARRIVAL delays time 2015-2016\"}},                        {\"responsive\": true}                    ).then(function(){\n",
              "                            \n",
              "var gd = document.getElementById('ca0b8e1a-080d-440a-b572-82f1042d9b21');\n",
              "var x = new MutationObserver(function (mutations, observer) {{\n",
              "        var display = window.getComputedStyle(gd).display;\n",
              "        if (!display || display === 'none') {{\n",
              "            console.log([gd, 'removed!']);\n",
              "            Plotly.purge(gd);\n",
              "            observer.disconnect();\n",
              "        }}\n",
              "}});\n",
              "\n",
              "// Listen for the removal of the full notebook cells\n",
              "var notebookContainer = gd.closest('#notebook-container');\n",
              "if (notebookContainer) {{\n",
              "    x.observe(notebookContainer, {childList: true});\n",
              "}}\n",
              "\n",
              "// Listen for the clearing of the current output cell\n",
              "var outputEl = gd.closest('.output');\n",
              "if (outputEl) {{\n",
              "    x.observe(outputEl, {childList: true});\n",
              "}}\n",
              "\n",
              "                        })                };                            </script>        </div>\n",
              "</body>\n",
              "</html>"
            ]
          },
          "metadata": {}
        }
      ],
      "source": [
        "fig = kdf_delay['ARR_DELAY'].plot.hist(bins=50)\n",
        "fig.update_layout(\n",
        "    title='ARRIVAL delays time 2015-2016',\n",
        "    xaxis_title='Minutes',\n",
        "    yaxis_title='Flight',\n",
        ")\n",
        "fig.show()"
      ]
    },
    {
      "cell_type": "markdown",
      "metadata": {
        "id": "Nn1FM7Ho9jEP"
      },
      "source": [
        "**Modin**"
      ]
    },
    {
      "cell_type": "code",
      "execution_count": null,
      "metadata": {
        "colab": {
          "base_uri": "https://localhost:8080/",
          "height": 549
        },
        "id": "W3d6kYfXHbqh",
        "outputId": "c38d82dd-9171-4607-b149-26c0034bb3b3"
      },
      "outputs": [
        {
          "name": "stderr",
          "output_type": "stream",
          "text": [
            "UserWarning: `DataFrame.hist_frame` is not currently supported by PandasOnRay, defaulting to pandas implementation.\n"
          ]
        },
        {
          "data": {
            "image/png": "[encoded data removed]",
            "text/plain": [
              "<Figure size 864x576 with 1 Axes>"
            ]
          },
          "metadata": {},
          "output_type": "display_data"
        }
      ],
      "source": [
        "md_delay = mdf[mdf.ARR_DELAY>0]\n",
        "\n",
        "ax = md_delay.hist(column='ARR_DELAY', bins=25, grid=False, figsize=(12,8), color='#86bf91', zorder=2, rwidth=0.9)\n",
        "\n",
        "ax = ax[0]\n",
        "for x in ax:\n",
        "\n",
        "    # Despine\n",
        "    x.spines['right'].set_visible(False)\n",
        "    x.spines['top'].set_visible(False)\n",
        "    x.spines['left'].set_visible(False)\n",
        "\n",
        "    # Switch off ticks\n",
        "    x.tick_params(axis=\"both\", which=\"both\", bottom=\"off\", top=\"off\", labelbottom=\"on\", left=\"off\", right=\"off\", labelleft=\"on\")\n",
        "\n",
        "    # Draw horizontal axis lines\n",
        "    vals = x.get_yticks()\n",
        "    for tick in vals:\n",
        "        x.axhline(y=tick, linestyle='dashed', alpha=0.4, color='#eeeeee', zorder=1)\n",
        "\n",
        "    # Remove title\n",
        "    x.set_title(\"ARRIVAL delays time 2015-2016\")\n",
        "\n",
        "    # Set x-axis label\n",
        "    x.set_xlabel(\"Time (Minutes)\", labelpad=20, weight='bold', size=12)\n",
        "\n",
        "    # Set y-axis label\n",
        "    x.set_ylabel(\"Flight\", labelpad=20, weight='bold', size=12)"
      ]
    },
    {
      "cell_type": "markdown",
      "metadata": {
        "id": "hBJsMlC1Hxht"
      },
      "source": [
        "### **Graph 2: Bar Graph of Flight Delays Count by each Airlines**\n",
        "\n",
        "The bar graph depicts the flight delays by airline. The chart shows which airlines frequently cause flight delays. Southwest Airlines is the most frequently delayed airline, followed by American Airlines and Delta Airlines. Virgin America is the airline with the fewest flight delays."
      ]
    },
    {
      "cell_type": "markdown",
      "metadata": {
        "id": "vs_hNX9fH05E"
      },
      "source": [
        "**Pandas**"
      ]
    },
    {
      "cell_type": "code",
      "execution_count": null,
      "metadata": {
        "colab": {
          "base_uri": "https://localhost:8080/",
          "height": 865
        },
        "id": "2xOpssIFIdDw",
        "outputId": "2647f2c9-bf6e-41eb-fa25-3140638b35d4"
      },
      "outputs": [
        {
          "output_type": "stream",
          "name": "stdout",
          "text": [
            "CPU times: user 344 ms, sys: 3.78 ms, total: 347 ms\n",
            "Wall time: 345 ms\n"
          ]
        },
        {
          "output_type": "execute_result",
          "data": {
            "text/plain": [
              "OP_CARRIER\n",
              "Virgin America         53931\n",
              "Hawaiian Airlines      55909\n",
              "US                     76285\n",
              "Frontier Airlines      76749\n",
              "Envoy Air             103505\n",
              "Alaska Airlines       112015\n",
              "Spirit Airlines       112939\n",
              "JetBlue Airways       212338\n",
              "United Airlines       346008\n",
              "ExpressJet            369745\n",
              "SkyWest Airlines      419596\n",
              "Delta Airlines        488367\n",
              "American Airlines     588136\n",
              "Southwest Airlines    956158\n",
              "Name: ARR_DELAY, dtype: int64"
            ]
          },
          "metadata": {},
          "execution_count": 14
        },
        {
          "output_type": "display_data",
          "data": {
            "text/plain": [
              "<Figure size 720x648 with 1 Axes>"
            ],
            "image/png": "[encoded data removed]"
          },
          "metadata": {
            "needs_background": "light"
          }
        }
      ],
      "source": [
        "%%time\n",
        "df_delay_carrier = df_delay.groupby(['OP_CARRIER'])['ARR_DELAY'].count().sort_values(ascending=True)\n",
        "\n",
        "\n",
        "\n",
        "df_delay_carrier.plot(kind='barh', title='Delay By Ailines', ylabel='Flight Delays',\n",
        "         xlabel='Airlines', figsize=(10, 9), color=['C0', 'C1', 'C2', 'C3', 'C4','C5','C6','C7','C8','C9','C10','C11','C12','C13','C14'])\n",
        "ax = plt.gca()\n",
        "ax.xaxis.set_major_formatter(tick.FuncFormatter(reformat_large_tick_values));\n",
        "\n",
        "df_delay_carrier"
      ]
    },
    {
      "cell_type": "markdown",
      "metadata": {
        "id": "GRP7G3uOVaDB"
      },
      "source": [
        "**Koalas**"
      ]
    },
    {
      "cell_type": "code",
      "execution_count": null,
      "metadata": {
        "id": "OGB41NzsVZX7",
        "colab": {
          "base_uri": "https://localhost:8080/",
          "height": 854
        },
        "outputId": "faaf723b-576b-49b4-81b5-5c38b741e59d"
      },
      "outputs": [
        {
          "output_type": "display_data",
          "data": {
            "text/html": [
              "<html>\n",
              "<head><meta charset=\"utf-8\" /></head>\n",
              "<body>\n",
              "    <div>            <script src=\"https://cdnjs.cloudflare.com/ajax/libs/mathjax/2.7.5/MathJax.js?config=TeX-AMS-MML_SVG\"></script><script type=\"text/javascript\">if (window.MathJax) {MathJax.Hub.Config({SVG: {font: \"STIX-Web\"}});}</script>                <script type=\"text/javascript\">window.PlotlyConfig = {MathJaxConfig: 'local'};</script>\n",
              "        <script src=\"https://cdn.plot.ly/plotly-2.8.3.min.js\"></script>                <div id=\"bb318662-81d9-434b-b988-9f74f4b52669\" class=\"plotly-graph-div\" style=\"height:525px; width:100%;\"></div>            <script type=\"text/javascript\">                                    window.PLOTLYENV=window.PLOTLYENV || {};                                    if (document.getElementById(\"bb318662-81d9-434b-b988-9f74f4b52669\")) {                    Plotly.newPlot(                        \"bb318662-81d9-434b-b988-9f74f4b52669\",                        [{\"alignmentgroup\":\"True\",\"hovertemplate\":\"variable=ARR_DELAY<br>value=%{x}<br>OP_CARRIER=%{y}<extra></extra>\",\"legendgroup\":\"ARR_DELAY\",\"marker\":{\"color\":\"#636efa\",\"pattern\":{\"shape\":\"\"}},\"name\":\"ARR_DELAY\",\"offsetgroup\":\"ARR_DELAY\",\"orientation\":\"h\",\"showlegend\":true,\"textposition\":\"auto\",\"x\":[53931,55909,76285,76749,103505,112015,112939,212338,346008,369745,419596,488367,588136,956158],\"xaxis\":\"x\",\"y\":[\"Virgin America\",\"Hawaiian Airlines\",\"US\",\"Frontier Airlines\",\"Envoy Air\",\"Alaska Airlines\",\"Spirit Airlines\",\"JetBlue Airways\",\"United Airlines\",\"ExpressJet\",\"SkyWest Airlines\",\"Delta Airlines\",\"American Airlines\",\"Southwest Airlines\"],\"yaxis\":\"y\",\"type\":\"bar\"}],                        {\"template\":{\"data\":{\"bar\":[{\"error_x\":{\"color\":\"#2a3f5f\"},\"error_y\":{\"color\":\"#2a3f5f\"},\"marker\":{\"line\":{\"color\":\"#E5ECF6\",\"width\":0.5},\"pattern\":{\"fillmode\":\"overlay\",\"size\":10,\"solidity\":0.2}},\"type\":\"bar\"}],\"barpolar\":[{\"marker\":{\"line\":{\"color\":\"#E5ECF6\",\"width\":0.5},\"pattern\":{\"fillmode\":\"overlay\",\"size\":10,\"solidity\":0.2}},\"type\":\"barpolar\"}],\"carpet\":[{\"aaxis\":{\"endlinecolor\":\"#2a3f5f\",\"gridcolor\":\"white\",\"linecolor\":\"white\",\"minorgridcolor\":\"white\",\"startlinecolor\":\"#2a3f5f\"},\"baxis\":{\"endlinecolor\":\"#2a3f5f\",\"gridcolor\":\"white\",\"linecolor\":\"white\",\"minorgridcolor\":\"white\",\"startlinecolor\":\"#2a3f5f\"},\"type\":\"carpet\"}],\"choropleth\":[{\"colorbar\":{\"outlinewidth\":0,\"ticks\":\"\"},\"type\":\"choropleth\"}],\"contour\":[{\"colorbar\":{\"outlinewidth\":0,\"ticks\":\"\"},\"colorscale\":[[0.0,\"#0d0887\"],[0.1111111111111111,\"#46039f\"],[0.2222222222222222,\"#7201a8\"],[0.3333333333333333,\"#9c179e\"],[0.4444444444444444,\"#bd3786\"],[0.5555555555555556,\"#d8576b\"],[0.6666666666666666,\"#ed7953\"],[0.7777777777777778,\"#fb9f3a\"],[0.8888888888888888,\"#fdca26\"],[1.0,\"#f0f921\"]],\"type\":\"contour\"}],\"contourcarpet\":[{\"colorbar\":{\"outlinewidth\":0,\"ticks\":\"\"},\"type\":\"contourcarpet\"}],\"heatmap\":[{\"colorbar\":{\"outlinewidth\":0,\"ticks\":\"\"},\"colorscale\":[[0.0,\"#0d0887\"],[0.1111111111111111,\"#46039f\"],[0.2222222222222222,\"#7201a8\"],[0.3333333333333333,\"#9c179e\"],[0.4444444444444444,\"#bd3786\"],[0.5555555555555556,\"#d8576b\"],[0.6666666666666666,\"#ed7953\"],[0.7777777777777778,\"#fb9f3a\"],[0.8888888888888888,\"#fdca26\"],[1.0,\"#f0f921\"]],\"type\":\"heatmap\"}],\"heatmapgl\":[{\"colorbar\":{\"outlinewidth\":0,\"ticks\":\"\"},\"colorscale\":[[0.0,\"#0d0887\"],[0.1111111111111111,\"#46039f\"],[0.2222222222222222,\"#7201a8\"],[0.3333333333333333,\"#9c179e\"],[0.4444444444444444,\"#bd3786\"],[0.5555555555555556,\"#d8576b\"],[0.6666666666666666,\"#ed7953\"],[0.7777777777777778,\"#fb9f3a\"],[0.8888888888888888,\"#fdca26\"],[1.0,\"#f0f921\"]],\"type\":\"heatmapgl\"}],\"histogram\":[{\"marker\":{\"pattern\":{\"fillmode\":\"overlay\",\"size\":10,\"solidity\":0.2}},\"type\":\"histogram\"}],\"histogram2d\":[{\"colorbar\":{\"outlinewidth\":0,\"ticks\":\"\"},\"colorscale\":[[0.0,\"#0d0887\"],[0.1111111111111111,\"#46039f\"],[0.2222222222222222,\"#7201a8\"],[0.3333333333333333,\"#9c179e\"],[0.4444444444444444,\"#bd3786\"],[0.5555555555555556,\"#d8576b\"],[0.6666666666666666,\"#ed7953\"],[0.7777777777777778,\"#fb9f3a\"],[0.8888888888888888,\"#fdca26\"],[1.0,\"#f0f921\"]],\"type\":\"histogram2d\"}],\"histogram2dcontour\":[{\"colorbar\":{\"outlinewidth\":0,\"ticks\":\"\"},\"colorscale\":[[0.0,\"#0d0887\"],[0.1111111111111111,\"#46039f\"],[0.2222222222222222,\"#7201a8\"],[0.3333333333333333,\"#9c179e\"],[0.4444444444444444,\"#bd3786\"],[0.5555555555555556,\"#d8576b\"],[0.6666666666666666,\"#ed7953\"],[0.7777777777777778,\"#fb9f3a\"],[0.8888888888888888,\"#fdca26\"],[1.0,\"#f0f921\"]],\"type\":\"histogram2dcontour\"}],\"mesh3d\":[{\"colorbar\":{\"outlinewidth\":0,\"ticks\":\"\"},\"type\":\"mesh3d\"}],\"parcoords\":[{\"line\":{\"colorbar\":{\"outlinewidth\":0,\"ticks\":\"\"}},\"type\":\"parcoords\"}],\"pie\":[{\"automargin\":true,\"type\":\"pie\"}],\"scatter\":[{\"marker\":{\"colorbar\":{\"outlinewidth\":0,\"ticks\":\"\"}},\"type\":\"scatter\"}],\"scatter3d\":[{\"line\":{\"colorbar\":{\"outlinewidth\":0,\"ticks\":\"\"}},\"marker\":{\"colorbar\":{\"outlinewidth\":0,\"ticks\":\"\"}},\"type\":\"scatter3d\"}],\"scattercarpet\":[{\"marker\":{\"colorbar\":{\"outlinewidth\":0,\"ticks\":\"\"}},\"type\":\"scattercarpet\"}],\"scattergeo\":[{\"marker\":{\"colorbar\":{\"outlinewidth\":0,\"ticks\":\"\"}},\"type\":\"scattergeo\"}],\"scattergl\":[{\"marker\":{\"colorbar\":{\"outlinewidth\":0,\"ticks\":\"\"}},\"type\":\"scattergl\"}],\"scattermapbox\":[{\"marker\":{\"colorbar\":{\"outlinewidth\":0,\"ticks\":\"\"}},\"type\":\"scattermapbox\"}],\"scatterpolar\":[{\"marker\":{\"colorbar\":{\"outlinewidth\":0,\"ticks\":\"\"}},\"type\":\"scatterpolar\"}],\"scatterpolargl\":[{\"marker\":{\"colorbar\":{\"outlinewidth\":0,\"ticks\":\"\"}},\"type\":\"scatterpolargl\"}],\"scatterternary\":[{\"marker\":{\"colorbar\":{\"outlinewidth\":0,\"ticks\":\"\"}},\"type\":\"scatterternary\"}],\"surface\":[{\"colorbar\":{\"outlinewidth\":0,\"ticks\":\"\"},\"colorscale\":[[0.0,\"#0d0887\"],[0.1111111111111111,\"#46039f\"],[0.2222222222222222,\"#7201a8\"],[0.3333333333333333,\"#9c179e\"],[0.4444444444444444,\"#bd3786\"],[0.5555555555555556,\"#d8576b\"],[0.6666666666666666,\"#ed7953\"],[0.7777777777777778,\"#fb9f3a\"],[0.8888888888888888,\"#fdca26\"],[1.0,\"#f0f921\"]],\"type\":\"surface\"}],\"table\":[{\"cells\":{\"fill\":{\"color\":\"#EBF0F8\"},\"line\":{\"color\":\"white\"}},\"header\":{\"fill\":{\"color\":\"#C8D4E3\"},\"line\":{\"color\":\"white\"}},\"type\":\"table\"}]},\"layout\":{\"annotationdefaults\":{\"arrowcolor\":\"#2a3f5f\",\"arrowhead\":0,\"arrowwidth\":1},\"autotypenumbers\":\"strict\",\"coloraxis\":{\"colorbar\":{\"outlinewidth\":0,\"ticks\":\"\"}},\"colorscale\":{\"diverging\":[[0,\"#8e0152\"],[0.1,\"#c51b7d\"],[0.2,\"#de77ae\"],[0.3,\"#f1b6da\"],[0.4,\"#fde0ef\"],[0.5,\"#f7f7f7\"],[0.6,\"#e6f5d0\"],[0.7,\"#b8e186\"],[0.8,\"#7fbc41\"],[0.9,\"#4d9221\"],[1,\"#276419\"]],\"sequential\":[[0.0,\"#0d0887\"],[0.1111111111111111,\"#46039f\"],[0.2222222222222222,\"#7201a8\"],[0.3333333333333333,\"#9c179e\"],[0.4444444444444444,\"#bd3786\"],[0.5555555555555556,\"#d8576b\"],[0.6666666666666666,\"#ed7953\"],[0.7777777777777778,\"#fb9f3a\"],[0.8888888888888888,\"#fdca26\"],[1.0,\"#f0f921\"]],\"sequentialminus\":[[0.0,\"#0d0887\"],[0.1111111111111111,\"#46039f\"],[0.2222222222222222,\"#7201a8\"],[0.3333333333333333,\"#9c179e\"],[0.4444444444444444,\"#bd3786\"],[0.5555555555555556,\"#d8576b\"],[0.6666666666666666,\"#ed7953\"],[0.7777777777777778,\"#fb9f3a\"],[0.8888888888888888,\"#fdca26\"],[1.0,\"#f0f921\"]]},\"colorway\":[\"#636efa\",\"#EF553B\",\"#00cc96\",\"#ab63fa\",\"#FFA15A\",\"#19d3f3\",\"#FF6692\",\"#B6E880\",\"#FF97FF\",\"#FECB52\"],\"font\":{\"color\":\"#2a3f5f\"},\"geo\":{\"bgcolor\":\"white\",\"lakecolor\":\"white\",\"landcolor\":\"#E5ECF6\",\"showlakes\":true,\"showland\":true,\"subunitcolor\":\"white\"},\"hoverlabel\":{\"align\":\"left\"},\"hovermode\":\"closest\",\"mapbox\":{\"style\":\"light\"},\"paper_bgcolor\":\"white\",\"plot_bgcolor\":\"#E5ECF6\",\"polar\":{\"angularaxis\":{\"gridcolor\":\"white\",\"linecolor\":\"white\",\"ticks\":\"\"},\"bgcolor\":\"#E5ECF6\",\"radialaxis\":{\"gridcolor\":\"white\",\"linecolor\":\"white\",\"ticks\":\"\"}},\"scene\":{\"xaxis\":{\"backgroundcolor\":\"#E5ECF6\",\"gridcolor\":\"white\",\"gridwidth\":2,\"linecolor\":\"white\",\"showbackground\":true,\"ticks\":\"\",\"zerolinecolor\":\"white\"},\"yaxis\":{\"backgroundcolor\":\"#E5ECF6\",\"gridcolor\":\"white\",\"gridwidth\":2,\"linecolor\":\"white\",\"showbackground\":true,\"ticks\":\"\",\"zerolinecolor\":\"white\"},\"zaxis\":{\"backgroundcolor\":\"#E5ECF6\",\"gridcolor\":\"white\",\"gridwidth\":2,\"linecolor\":\"white\",\"showbackground\":true,\"ticks\":\"\",\"zerolinecolor\":\"white\"}},\"shapedefaults\":{\"line\":{\"color\":\"#2a3f5f\"}},\"ternary\":{\"aaxis\":{\"gridcolor\":\"white\",\"linecolor\":\"white\",\"ticks\":\"\"},\"baxis\":{\"gridcolor\":\"white\",\"linecolor\":\"white\",\"ticks\":\"\"},\"bgcolor\":\"#E5ECF6\",\"caxis\":{\"gridcolor\":\"white\",\"linecolor\":\"white\",\"ticks\":\"\"}},\"title\":{\"x\":0.05},\"xaxis\":{\"automargin\":true,\"gridcolor\":\"white\",\"linecolor\":\"white\",\"ticks\":\"\",\"title\":{\"standoff\":15},\"zerolinecolor\":\"white\",\"zerolinewidth\":2},\"yaxis\":{\"automargin\":true,\"gridcolor\":\"white\",\"linecolor\":\"white\",\"ticks\":\"\",\"title\":{\"standoff\":15},\"zerolinecolor\":\"white\",\"zerolinewidth\":2}}},\"xaxis\":{\"anchor\":\"y\",\"domain\":[0.0,1.0],\"title\":{\"text\":\"Count\"}},\"yaxis\":{\"anchor\":\"x\",\"domain\":[0.0,1.0],\"title\":{\"text\":\"Airline\"}},\"legend\":{\"title\":{\"text\":\"variable\"},\"tracegroupgap\":0},\"margin\":{\"t\":60},\"barmode\":\"relative\",\"title\":{\"text\":\"Delay by Airlines\"}},                        {\"responsive\": true}                    ).then(function(){\n",
              "                            \n",
              "var gd = document.getElementById('bb318662-81d9-434b-b988-9f74f4b52669');\n",
              "var x = new MutationObserver(function (mutations, observer) {{\n",
              "        var display = window.getComputedStyle(gd).display;\n",
              "        if (!display || display === 'none') {{\n",
              "            console.log([gd, 'removed!']);\n",
              "            Plotly.purge(gd);\n",
              "            observer.disconnect();\n",
              "        }}\n",
              "}});\n",
              "\n",
              "// Listen for the removal of the full notebook cells\n",
              "var notebookContainer = gd.closest('#notebook-container');\n",
              "if (notebookContainer) {{\n",
              "    x.observe(notebookContainer, {childList: true});\n",
              "}}\n",
              "\n",
              "// Listen for the clearing of the current output cell\n",
              "var outputEl = gd.closest('.output');\n",
              "if (outputEl) {{\n",
              "    x.observe(outputEl, {childList: true});\n",
              "}}\n",
              "\n",
              "                        })                };                            </script>        </div>\n",
              "</body>\n",
              "</html>"
            ]
          },
          "metadata": {}
        },
        {
          "output_type": "stream",
          "name": "stdout",
          "text": [
            "CPU times: user 826 ms, sys: 182 ms, total: 1.01 s\n",
            "Wall time: 57.5 s\n"
          ]
        },
        {
          "output_type": "execute_result",
          "data": {
            "text/plain": [
              "OP_CARRIER\n",
              "Virgin America         53931\n",
              "Hawaiian Airlines      55909\n",
              "US                     76285\n",
              "Frontier Airlines      76749\n",
              "Envoy Air             103505\n",
              "Alaska Airlines       112015\n",
              "Spirit Airlines       112939\n",
              "JetBlue Airways       212338\n",
              "United Airlines       346008\n",
              "ExpressJet            369745\n",
              "SkyWest Airlines      419596\n",
              "Delta Airlines        488367\n",
              "American Airlines     588136\n",
              "Southwest Airlines    956158\n",
              "Name: ARR_DELAY, dtype: int64"
            ]
          },
          "metadata": {},
          "execution_count": 13
        }
      ],
      "source": [
        "%%time\n",
        "import plotly.express as px\n",
        "import random\n",
        "\n",
        "kdf_delay_carrier = kdf_delay.groupby(['OP_CARRIER'])['ARR_DELAY'].count().sort_values(ascending=True)\n",
        "\n",
        "fig2 = kdf_delay_carrier.plot.barh()\n",
        "fig2.update_layout(\n",
        "    title='Delay by Airlines',\n",
        "    xaxis_title='Count',\n",
        "    yaxis_title='Airline',\n",
        ")\n",
        "\n",
        "fig2.show()\n",
        "\n",
        "kdf_delay_carrier"
      ]
    },
    {
      "cell_type": "markdown",
      "metadata": {
        "id": "N6jyn1EME6ug"
      },
      "source": [
        "**Modin**"
      ]
    },
    {
      "cell_type": "code",
      "execution_count": null,
      "metadata": {
        "colab": {
          "base_uri": "https://localhost:8080/",
          "height": 879
        },
        "id": "nfSdpf5rCP-0",
        "outputId": "9092ac1f-5646-4122-bffd-aaebc4281287"
      },
      "outputs": [
        {
          "name": "stdout",
          "output_type": "stream",
          "text": [
            "CPU times: user 146 ms, sys: 30.7 ms, total: 177 ms\n",
            "Wall time: 2.83 s\n"
          ]
        },
        {
          "data": {
            "text/plain": [
              "OP_CARRIER\n",
              "Virgin America         53931\n",
              "Hawaiian Airlines      55909\n",
              "US                     76285\n",
              "Frontier Airlines      76749\n",
              "Envoy Air             103505\n",
              "Alaska Airlines       112015\n",
              "Spirit Airlines       112939\n",
              "JetBlue Airways       212338\n",
              "United Airlines       346008\n",
              "ExpressJet            369745\n",
              "SkyWest Airlines      419596\n",
              "Delta Airlines        488367\n",
              "American Airlines     588136\n",
              "Southwest Airlines    956158\n",
              "Name: ARR_DELAY, dtype: int64"
            ]
          },
          "execution_count": 57,
          "metadata": {},
          "output_type": "execute_result"
        },
        {
          "data": {
            "image/png": "[encoded data removed]",
            "text/plain": [
              "<Figure size 720x648 with 1 Axes>"
            ]
          },
          "metadata": {},
          "output_type": "display_data"
        }
      ],
      "source": [
        "%%time\n",
        "md_delay_carrier = md_delay.groupby(['OP_CARRIER'])['ARR_DELAY'].count().sort_values(ascending=True)\n",
        "\n",
        "\n",
        "\n",
        "md_delay_carrier.plot(kind='barh', title='Delay Flight By Airlines', ylabel='Flight Delays',\n",
        "         xlabel='Airlines', figsize=(10, 9), color=['C0', 'C1', 'C2', 'C3', 'C4','C5','C6','C7','C8','C9','C10','C11','C12','C13','C14'])\n",
        "\n",
        "md_delay_carrier"
      ]
    },
    {
      "cell_type": "markdown",
      "source": [
        "Pandas had a wall time of 345ms, koalas had a time of 57.5s, and modin had a time of 2.83s. Based on this, modin has the least wall time, pandas have the most, and koalas are in the middle."
      ],
      "metadata": {
        "id": "yl900bG-91JU"
      }
    },
    {
      "cell_type": "markdown",
      "metadata": {
        "id": "rGtUZrXSKWeH"
      },
      "source": [
        "### **Graph 3: Bar Graph of Average Flight Distance by Airlines**\n",
        "\n",
        "The bar graph depicts the average flight distance by airline. The graph shows which airlines have the longest flight distance. Virgin America has the longest flight distance at 1423.51 miles, followed by United Airlines at 1246.81 miles and Alaska Airlines at 1212.92 miles. Envoy Air has the shortest flight distance."
      ]
    },
    {
      "cell_type": "markdown",
      "metadata": {
        "id": "dn0D5AtiKcS_"
      },
      "source": [
        "**Pandas**"
      ]
    },
    {
      "cell_type": "code",
      "execution_count": null,
      "metadata": {
        "colab": {
          "base_uri": "https://localhost:8080/",
          "height": 963
        },
        "id": "ExEjuX-BrBja",
        "outputId": "056a0420-e723-41a9-8744-6534f1437837"
      },
      "outputs": [
        {
          "name": "stdout",
          "output_type": "stream",
          "text": [
            "CPU times: user 858 ms, sys: 1.69 ms, total: 860 ms\n",
            "Wall time: 854 ms\n"
          ]
        },
        {
          "data": {
            "text/plain": [
              "OP_CARRIER\n",
              "Virgin America        1423.505525\n",
              "United Airlines       1246.810537\n",
              "Alaska Airlines       1212.924453\n",
              "JetBlue Airways       1065.257669\n",
              "American Airlines     1028.827510\n",
              "Frontier Airlines     1005.696458\n",
              "Spirit Airlines        982.529485\n",
              "US                     915.380259\n",
              "Delta Airlines         851.753105\n",
              "Southwest Airlines     746.213229\n",
              "Hawaiian Airlines      635.873791\n",
              "SkyWest Airlines       498.301643\n",
              "ExpressJet             451.950055\n",
              "Envoy Air              422.661417\n",
              "Name: DISTANCE, dtype: float64"
            ]
          },
          "execution_count": 12,
          "metadata": {},
          "output_type": "execute_result"
        },
        {
          "data": {
            "image/png": "[encoded data removed]",
            "text/plain": [
              "<Figure size 720x648 with 1 Axes>"
            ]
          },
          "metadata": {},
          "output_type": "display_data"
        }
      ],
      "source": [
        "%%time\n",
        "\n",
        "df_distance = df.groupby(['OP_CARRIER'])['DISTANCE'].mean().sort_values(ascending=False)\n",
        "\n",
        "df_distance.plot(kind='bar', title='Average Flight Distance by Airlines', ylabel='Miles',\n",
        "         xlabel='Airlines', figsize=(10, 9))\n",
        "\n",
        "df_distance"
      ]
    },
    {
      "cell_type": "markdown",
      "metadata": {
        "id": "S2oytUBAWNJu"
      },
      "source": [
        "**Koalas**"
      ]
    },
    {
      "cell_type": "code",
      "execution_count": null,
      "metadata": {
        "id": "Jb_mw8qHWMne",
        "colab": {
          "base_uri": "https://localhost:8080/",
          "height": 854
        },
        "outputId": "73f084aa-35ef-491a-9421-a87409473555"
      },
      "outputs": [
        {
          "output_type": "display_data",
          "data": {
            "text/html": [
              "<html>\n",
              "<head><meta charset=\"utf-8\" /></head>\n",
              "<body>\n",
              "    <div>            <script src=\"https://cdnjs.cloudflare.com/ajax/libs/mathjax/2.7.5/MathJax.js?config=TeX-AMS-MML_SVG\"></script><script type=\"text/javascript\">if (window.MathJax) {MathJax.Hub.Config({SVG: {font: \"STIX-Web\"}});}</script>                <script type=\"text/javascript\">window.PlotlyConfig = {MathJaxConfig: 'local'};</script>\n",
              "        <script src=\"https://cdn.plot.ly/plotly-2.8.3.min.js\"></script>                <div id=\"2b662a65-ffd7-4e74-9da9-ce14c35e37af\" class=\"plotly-graph-div\" style=\"height:525px; width:100%;\"></div>            <script type=\"text/javascript\">                                    window.PLOTLYENV=window.PLOTLYENV || {};                                    if (document.getElementById(\"2b662a65-ffd7-4e74-9da9-ce14c35e37af\")) {                    Plotly.newPlot(                        \"2b662a65-ffd7-4e74-9da9-ce14c35e37af\",                        [{\"alignmentgroup\":\"True\",\"hovertemplate\":\"variable=DISTANCE<br>OP_CARRIER=%{x}<br>value=%{y}<extra></extra>\",\"legendgroup\":\"DISTANCE\",\"marker\":{\"color\":\"#636efa\",\"pattern\":{\"shape\":\"\"}},\"name\":\"DISTANCE\",\"offsetgroup\":\"DISTANCE\",\"orientation\":\"v\",\"showlegend\":true,\"textposition\":\"auto\",\"x\":[\"Virgin America\",\"United Airlines\",\"Alaska Airlines\",\"JetBlue Airways\",\"American Airlines\",\"Frontier Airlines\",\"Spirit Airlines\",\"US\",\"Delta Airlines\",\"Southwest Airlines\",\"Hawaiian Airlines\",\"SkyWest Airlines\",\"ExpressJet\",\"Envoy Air\"],\"xaxis\":\"x\",\"y\":[1423.505524883209,1246.8105371948234,1212.924452874066,1065.257669154694,1028.8275104423026,1005.696457510795,982.5294854807554,915.3802587747074,851.7531053267986,746.2132289726535,635.8737911785518,498.30164313642535,451.95005502404393,422.66141661674874],\"yaxis\":\"y\",\"type\":\"bar\"}],                        {\"template\":{\"data\":{\"bar\":[{\"error_x\":{\"color\":\"#2a3f5f\"},\"error_y\":{\"color\":\"#2a3f5f\"},\"marker\":{\"line\":{\"color\":\"#E5ECF6\",\"width\":0.5},\"pattern\":{\"fillmode\":\"overlay\",\"size\":10,\"solidity\":0.2}},\"type\":\"bar\"}],\"barpolar\":[{\"marker\":{\"line\":{\"color\":\"#E5ECF6\",\"width\":0.5},\"pattern\":{\"fillmode\":\"overlay\",\"size\":10,\"solidity\":0.2}},\"type\":\"barpolar\"}],\"carpet\":[{\"aaxis\":{\"endlinecolor\":\"#2a3f5f\",\"gridcolor\":\"white\",\"linecolor\":\"white\",\"minorgridcolor\":\"white\",\"startlinecolor\":\"#2a3f5f\"},\"baxis\":{\"endlinecolor\":\"#2a3f5f\",\"gridcolor\":\"white\",\"linecolor\":\"white\",\"minorgridcolor\":\"white\",\"startlinecolor\":\"#2a3f5f\"},\"type\":\"carpet\"}],\"choropleth\":[{\"colorbar\":{\"outlinewidth\":0,\"ticks\":\"\"},\"type\":\"choropleth\"}],\"contour\":[{\"colorbar\":{\"outlinewidth\":0,\"ticks\":\"\"},\"colorscale\":[[0.0,\"#0d0887\"],[0.1111111111111111,\"#46039f\"],[0.2222222222222222,\"#7201a8\"],[0.3333333333333333,\"#9c179e\"],[0.4444444444444444,\"#bd3786\"],[0.5555555555555556,\"#d8576b\"],[0.6666666666666666,\"#ed7953\"],[0.7777777777777778,\"#fb9f3a\"],[0.8888888888888888,\"#fdca26\"],[1.0,\"#f0f921\"]],\"type\":\"contour\"}],\"contourcarpet\":[{\"colorbar\":{\"outlinewidth\":0,\"ticks\":\"\"},\"type\":\"contourcarpet\"}],\"heatmap\":[{\"colorbar\":{\"outlinewidth\":0,\"ticks\":\"\"},\"colorscale\":[[0.0,\"#0d0887\"],[0.1111111111111111,\"#46039f\"],[0.2222222222222222,\"#7201a8\"],[0.3333333333333333,\"#9c179e\"],[0.4444444444444444,\"#bd3786\"],[0.5555555555555556,\"#d8576b\"],[0.6666666666666666,\"#ed7953\"],[0.7777777777777778,\"#fb9f3a\"],[0.8888888888888888,\"#fdca26\"],[1.0,\"#f0f921\"]],\"type\":\"heatmap\"}],\"heatmapgl\":[{\"colorbar\":{\"outlinewidth\":0,\"ticks\":\"\"},\"colorscale\":[[0.0,\"#0d0887\"],[0.1111111111111111,\"#46039f\"],[0.2222222222222222,\"#7201a8\"],[0.3333333333333333,\"#9c179e\"],[0.4444444444444444,\"#bd3786\"],[0.5555555555555556,\"#d8576b\"],[0.6666666666666666,\"#ed7953\"],[0.7777777777777778,\"#fb9f3a\"],[0.8888888888888888,\"#fdca26\"],[1.0,\"#f0f921\"]],\"type\":\"heatmapgl\"}],\"histogram\":[{\"marker\":{\"pattern\":{\"fillmode\":\"overlay\",\"size\":10,\"solidity\":0.2}},\"type\":\"histogram\"}],\"histogram2d\":[{\"colorbar\":{\"outlinewidth\":0,\"ticks\":\"\"},\"colorscale\":[[0.0,\"#0d0887\"],[0.1111111111111111,\"#46039f\"],[0.2222222222222222,\"#7201a8\"],[0.3333333333333333,\"#9c179e\"],[0.4444444444444444,\"#bd3786\"],[0.5555555555555556,\"#d8576b\"],[0.6666666666666666,\"#ed7953\"],[0.7777777777777778,\"#fb9f3a\"],[0.8888888888888888,\"#fdca26\"],[1.0,\"#f0f921\"]],\"type\":\"histogram2d\"}],\"histogram2dcontour\":[{\"colorbar\":{\"outlinewidth\":0,\"ticks\":\"\"},\"colorscale\":[[0.0,\"#0d0887\"],[0.1111111111111111,\"#46039f\"],[0.2222222222222222,\"#7201a8\"],[0.3333333333333333,\"#9c179e\"],[0.4444444444444444,\"#bd3786\"],[0.5555555555555556,\"#d8576b\"],[0.6666666666666666,\"#ed7953\"],[0.7777777777777778,\"#fb9f3a\"],[0.8888888888888888,\"#fdca26\"],[1.0,\"#f0f921\"]],\"type\":\"histogram2dcontour\"}],\"mesh3d\":[{\"colorbar\":{\"outlinewidth\":0,\"ticks\":\"\"},\"type\":\"mesh3d\"}],\"parcoords\":[{\"line\":{\"colorbar\":{\"outlinewidth\":0,\"ticks\":\"\"}},\"type\":\"parcoords\"}],\"pie\":[{\"automargin\":true,\"type\":\"pie\"}],\"scatter\":[{\"marker\":{\"colorbar\":{\"outlinewidth\":0,\"ticks\":\"\"}},\"type\":\"scatter\"}],\"scatter3d\":[{\"line\":{\"colorbar\":{\"outlinewidth\":0,\"ticks\":\"\"}},\"marker\":{\"colorbar\":{\"outlinewidth\":0,\"ticks\":\"\"}},\"type\":\"scatter3d\"}],\"scattercarpet\":[{\"marker\":{\"colorbar\":{\"outlinewidth\":0,\"ticks\":\"\"}},\"type\":\"scattercarpet\"}],\"scattergeo\":[{\"marker\":{\"colorbar\":{\"outlinewidth\":0,\"ticks\":\"\"}},\"type\":\"scattergeo\"}],\"scattergl\":[{\"marker\":{\"colorbar\":{\"outlinewidth\":0,\"ticks\":\"\"}},\"type\":\"scattergl\"}],\"scattermapbox\":[{\"marker\":{\"colorbar\":{\"outlinewidth\":0,\"ticks\":\"\"}},\"type\":\"scattermapbox\"}],\"scatterpolar\":[{\"marker\":{\"colorbar\":{\"outlinewidth\":0,\"ticks\":\"\"}},\"type\":\"scatterpolar\"}],\"scatterpolargl\":[{\"marker\":{\"colorbar\":{\"outlinewidth\":0,\"ticks\":\"\"}},\"type\":\"scatterpolargl\"}],\"scatterternary\":[{\"marker\":{\"colorbar\":{\"outlinewidth\":0,\"ticks\":\"\"}},\"type\":\"scatterternary\"}],\"surface\":[{\"colorbar\":{\"outlinewidth\":0,\"ticks\":\"\"},\"colorscale\":[[0.0,\"#0d0887\"],[0.1111111111111111,\"#46039f\"],[0.2222222222222222,\"#7201a8\"],[0.3333333333333333,\"#9c179e\"],[0.4444444444444444,\"#bd3786\"],[0.5555555555555556,\"#d8576b\"],[0.6666666666666666,\"#ed7953\"],[0.7777777777777778,\"#fb9f3a\"],[0.8888888888888888,\"#fdca26\"],[1.0,\"#f0f921\"]],\"type\":\"surface\"}],\"table\":[{\"cells\":{\"fill\":{\"color\":\"#EBF0F8\"},\"line\":{\"color\":\"white\"}},\"header\":{\"fill\":{\"color\":\"#C8D4E3\"},\"line\":{\"color\":\"white\"}},\"type\":\"table\"}]},\"layout\":{\"annotationdefaults\":{\"arrowcolor\":\"#2a3f5f\",\"arrowhead\":0,\"arrowwidth\":1},\"autotypenumbers\":\"strict\",\"coloraxis\":{\"colorbar\":{\"outlinewidth\":0,\"ticks\":\"\"}},\"colorscale\":{\"diverging\":[[0,\"#8e0152\"],[0.1,\"#c51b7d\"],[0.2,\"#de77ae\"],[0.3,\"#f1b6da\"],[0.4,\"#fde0ef\"],[0.5,\"#f7f7f7\"],[0.6,\"#e6f5d0\"],[0.7,\"#b8e186\"],[0.8,\"#7fbc41\"],[0.9,\"#4d9221\"],[1,\"#276419\"]],\"sequential\":[[0.0,\"#0d0887\"],[0.1111111111111111,\"#46039f\"],[0.2222222222222222,\"#7201a8\"],[0.3333333333333333,\"#9c179e\"],[0.4444444444444444,\"#bd3786\"],[0.5555555555555556,\"#d8576b\"],[0.6666666666666666,\"#ed7953\"],[0.7777777777777778,\"#fb9f3a\"],[0.8888888888888888,\"#fdca26\"],[1.0,\"#f0f921\"]],\"sequentialminus\":[[0.0,\"#0d0887\"],[0.1111111111111111,\"#46039f\"],[0.2222222222222222,\"#7201a8\"],[0.3333333333333333,\"#9c179e\"],[0.4444444444444444,\"#bd3786\"],[0.5555555555555556,\"#d8576b\"],[0.6666666666666666,\"#ed7953\"],[0.7777777777777778,\"#fb9f3a\"],[0.8888888888888888,\"#fdca26\"],[1.0,\"#f0f921\"]]},\"colorway\":[\"#636efa\",\"#EF553B\",\"#00cc96\",\"#ab63fa\",\"#FFA15A\",\"#19d3f3\",\"#FF6692\",\"#B6E880\",\"#FF97FF\",\"#FECB52\"],\"font\":{\"color\":\"#2a3f5f\"},\"geo\":{\"bgcolor\":\"white\",\"lakecolor\":\"white\",\"landcolor\":\"#E5ECF6\",\"showlakes\":true,\"showland\":true,\"subunitcolor\":\"white\"},\"hoverlabel\":{\"align\":\"left\"},\"hovermode\":\"closest\",\"mapbox\":{\"style\":\"light\"},\"paper_bgcolor\":\"white\",\"plot_bgcolor\":\"#E5ECF6\",\"polar\":{\"angularaxis\":{\"gridcolor\":\"white\",\"linecolor\":\"white\",\"ticks\":\"\"},\"bgcolor\":\"#E5ECF6\",\"radialaxis\":{\"gridcolor\":\"white\",\"linecolor\":\"white\",\"ticks\":\"\"}},\"scene\":{\"xaxis\":{\"backgroundcolor\":\"#E5ECF6\",\"gridcolor\":\"white\",\"gridwidth\":2,\"linecolor\":\"white\",\"showbackground\":true,\"ticks\":\"\",\"zerolinecolor\":\"white\"},\"yaxis\":{\"backgroundcolor\":\"#E5ECF6\",\"gridcolor\":\"white\",\"gridwidth\":2,\"linecolor\":\"white\",\"showbackground\":true,\"ticks\":\"\",\"zerolinecolor\":\"white\"},\"zaxis\":{\"backgroundcolor\":\"#E5ECF6\",\"gridcolor\":\"white\",\"gridwidth\":2,\"linecolor\":\"white\",\"showbackground\":true,\"ticks\":\"\",\"zerolinecolor\":\"white\"}},\"shapedefaults\":{\"line\":{\"color\":\"#2a3f5f\"}},\"ternary\":{\"aaxis\":{\"gridcolor\":\"white\",\"linecolor\":\"white\",\"ticks\":\"\"},\"baxis\":{\"gridcolor\":\"white\",\"linecolor\":\"white\",\"ticks\":\"\"},\"bgcolor\":\"#E5ECF6\",\"caxis\":{\"gridcolor\":\"white\",\"linecolor\":\"white\",\"ticks\":\"\"}},\"title\":{\"x\":0.05},\"xaxis\":{\"automargin\":true,\"gridcolor\":\"white\",\"linecolor\":\"white\",\"ticks\":\"\",\"title\":{\"standoff\":15},\"zerolinecolor\":\"white\",\"zerolinewidth\":2},\"yaxis\":{\"automargin\":true,\"gridcolor\":\"white\",\"linecolor\":\"white\",\"ticks\":\"\",\"title\":{\"standoff\":15},\"zerolinecolor\":\"white\",\"zerolinewidth\":2}}},\"xaxis\":{\"anchor\":\"y\",\"domain\":[0.0,1.0],\"title\":{\"text\":\"Airlines\"}},\"yaxis\":{\"anchor\":\"x\",\"domain\":[0.0,1.0],\"title\":{\"text\":\"Miles\"}},\"legend\":{\"title\":{\"text\":\"variable\"},\"tracegroupgap\":0},\"margin\":{\"t\":60},\"barmode\":\"relative\",\"title\":{\"text\":\"Average Flight Distance by Airlines\"}},                        {\"responsive\": true}                    ).then(function(){\n",
              "                            \n",
              "var gd = document.getElementById('2b662a65-ffd7-4e74-9da9-ce14c35e37af');\n",
              "var x = new MutationObserver(function (mutations, observer) {{\n",
              "        var display = window.getComputedStyle(gd).display;\n",
              "        if (!display || display === 'none') {{\n",
              "            console.log([gd, 'removed!']);\n",
              "            Plotly.purge(gd);\n",
              "            observer.disconnect();\n",
              "        }}\n",
              "}});\n",
              "\n",
              "// Listen for the removal of the full notebook cells\n",
              "var notebookContainer = gd.closest('#notebook-container');\n",
              "if (notebookContainer) {{\n",
              "    x.observe(notebookContainer, {childList: true});\n",
              "}}\n",
              "\n",
              "// Listen for the clearing of the current output cell\n",
              "var outputEl = gd.closest('.output');\n",
              "if (outputEl) {{\n",
              "    x.observe(outputEl, {childList: true});\n",
              "}}\n",
              "\n",
              "                        })                };                            </script>        </div>\n",
              "</body>\n",
              "</html>"
            ]
          },
          "metadata": {}
        },
        {
          "output_type": "stream",
          "name": "stdout",
          "text": [
            "CPU times: user 493 ms, sys: 47.6 ms, total: 541 ms\n",
            "Wall time: 54.7 s\n"
          ]
        },
        {
          "output_type": "execute_result",
          "data": {
            "text/plain": [
              "OP_CARRIER\n",
              "Virgin America        1423.505525\n",
              "United Airlines       1246.810537\n",
              "Alaska Airlines       1212.924453\n",
              "JetBlue Airways       1065.257669\n",
              "American Airlines     1028.827510\n",
              "Frontier Airlines     1005.696458\n",
              "Spirit Airlines        982.529485\n",
              "US                     915.380259\n",
              "Delta Airlines         851.753105\n",
              "Southwest Airlines     746.213229\n",
              "Hawaiian Airlines      635.873791\n",
              "SkyWest Airlines       498.301643\n",
              "ExpressJet             451.950055\n",
              "Envoy Air              422.661417\n",
              "Name: DISTANCE, dtype: float64"
            ]
          },
          "metadata": {},
          "execution_count": 42
        }
      ],
      "source": [
        "%%time\n",
        "\n",
        "kdf_distance = kdf.groupby(['OP_CARRIER'])['DISTANCE'].mean().sort_values(ascending=False)\n",
        "\n",
        "\n",
        "#kdf_distance.plot(kind='bar', title='Average Flight Distance by Airlines', ylabel='Miles',\n",
        "#         xlabel='Airlines', figsize=(10, 9))\n",
        "\n",
        "fig3 = kdf_distance.plot.bar()\n",
        "fig3.update_layout(\n",
        "    title='Average Flight Distance by Airlines',\n",
        "    xaxis_title='Airlines',\n",
        "    yaxis_title='Miles',\n",
        ")\n",
        "\n",
        "fig3.show()\n",
        "\n",
        "kdf_distance"
      ]
    },
    {
      "cell_type": "markdown",
      "metadata": {
        "id": "q2lQ7t7hKtkI"
      },
      "source": [
        "**Modin**"
      ]
    },
    {
      "cell_type": "code",
      "execution_count": null,
      "metadata": {
        "colab": {
          "base_uri": "https://localhost:8080/",
          "height": 962
        },
        "id": "sIGgPiBsGeIo",
        "outputId": "9e79468e-22a3-4a45-a888-9a25802d6380"
      },
      "outputs": [
        {
          "name": "stdout",
          "output_type": "stream",
          "text": [
            "CPU times: user 201 ms, sys: 45.4 ms, total: 247 ms\n",
            "Wall time: 5.66 s\n"
          ]
        },
        {
          "data": {
            "text/plain": [
              "OP_CARRIER\n",
              "Virgin America        1423.505525\n",
              "United Airlines       1246.810537\n",
              "Alaska Airlines       1212.924453\n",
              "JetBlue Airways       1065.257669\n",
              "American Airlines     1028.827510\n",
              "Frontier Airlines     1005.696458\n",
              "Spirit Airlines        982.529485\n",
              "US                     915.380259\n",
              "Delta Airlines         851.753105\n",
              "Southwest Airlines     746.213229\n",
              "Hawaiian Airlines      635.873791\n",
              "SkyWest Airlines       498.301643\n",
              "ExpressJet             451.950055\n",
              "Envoy Air              422.661417\n",
              "Name: DISTANCE, dtype: float64"
            ]
          },
          "execution_count": 61,
          "metadata": {},
          "output_type": "execute_result"
        },
        {
          "data": {
            "image/png": "[encoded data removed]",
            "text/plain": [
              "<Figure size 720x648 with 1 Axes>"
            ]
          },
          "metadata": {},
          "output_type": "display_data"
        }
      ],
      "source": [
        "%%time\n",
        "\n",
        "md_distance = mdf.groupby(['OP_CARRIER'])['DISTANCE'].mean().sort_values(ascending=False)\n",
        "\n",
        "\n",
        "md_distance.plot(kind='bar', title='Average Flight Distance by Airlines', ylabel='Miles',\n",
        "         xlabel='Airlines', figsize=(10, 9))\n",
        "\n",
        "\n",
        "md_distance"
      ]
    },
    {
      "cell_type": "markdown",
      "source": [
        "The wall time for pandas was 854ms, the time for koalas was 54.7s, and the time for modin was 5.66s. Modin has the least wall time, pandas have the most, and koalas fall between the two libraries."
      ],
      "metadata": {
        "id": "C56FXAXR__I1"
      }
    },
    {
      "cell_type": "markdown",
      "metadata": {
        "id": "yrm6jj_PK0R6"
      },
      "source": [
        "### **Graph 4: Pie Chart of Top 5 Airlines with most flight numbers**\n",
        "\n",
        "The pie chart shows the top five airlines in terms of flight numbers. Southwest Airlines has the highest percentage (31%) on the pie chart, followed by Delta Airlines (21.9%), American Airlines (19.8%), SkyWest Airlines (14.4%), and United Airlines (12.8%)."
      ]
    },
    {
      "cell_type": "code",
      "execution_count": null,
      "metadata": {
        "colab": {
          "base_uri": "https://localhost:8080/",
          "height": 425
        },
        "id": "K7ZnMSjMrLhC",
        "outputId": "df5cc09a-3627-4258-dafe-b3d05141967d"
      },
      "outputs": [
        {
          "name": "stdout",
          "output_type": "stream",
          "text": [
            "CPU times: user 857 ms, sys: 2.53 ms, total: 860 ms\n",
            "Wall time: 852 ms\n"
          ]
        },
        {
          "data": {
            "text/plain": [
              "<matplotlib.axes._subplots.AxesSubplot at 0x7fef4d334ca0>"
            ]
          },
          "execution_count": 13,
          "metadata": {},
          "output_type": "execute_result"
        },
        {
          "data": {
            "image/png": "[encoded data removed]",
            "text/plain": [
              "<Figure size 720x432 with 1 Axes>"
            ]
          },
          "metadata": {},
          "output_type": "display_data"
        }
      ],
      "source": [
        "%%time\n",
        "import matplotlib.pyplot as plt\n",
        "\n",
        "\n",
        "# Set the width and height of the figure\n",
        "plt.figure(figsize=(10,6))\n",
        "\n",
        "# Add title\n",
        "plt.title(\"Top 5 Airlines with most flight numbers\")\n",
        "\n",
        "\n",
        "\n",
        "# Bar chart showing the total number of tweets grouping with candidate\n",
        "df_source = df.groupby(['OP_CARRIER'])['DISTANCE'].count().sort_values(ascending=False).head(5)\n",
        "\n",
        "#Table Settings\n",
        "df_source.plot(kind='pie', autopct='%1.1f%%')"
      ]
    },
    {
      "cell_type": "markdown",
      "metadata": {
        "id": "bthOFlciWYXY"
      },
      "source": [
        "**Koalas**"
      ]
    },
    {
      "cell_type": "code",
      "execution_count": null,
      "metadata": {
        "id": "EiRi3k8MWanm",
        "colab": {
          "base_uri": "https://localhost:8080/",
          "height": 552
        },
        "outputId": "b3e833ba-2946-4593-a48b-ad09aa442cbf"
      },
      "outputs": [
        {
          "output_type": "stream",
          "name": "stdout",
          "text": [
            "CPU times: user 500 ms, sys: 61 ms, total: 561 ms\n",
            "Wall time: 57.2 s\n"
          ]
        },
        {
          "output_type": "display_data",
          "data": {
            "text/html": [
              "<html>\n",
              "<head><meta charset=\"utf-8\" /></head>\n",
              "<body>\n",
              "    <div>            <script src=\"https://cdnjs.cloudflare.com/ajax/libs/mathjax/2.7.5/MathJax.js?config=TeX-AMS-MML_SVG\"></script><script type=\"text/javascript\">if (window.MathJax) {MathJax.Hub.Config({SVG: {font: \"STIX-Web\"}});}</script>                <script type=\"text/javascript\">window.PlotlyConfig = {MathJaxConfig: 'local'};</script>\n",
              "        <script src=\"https://cdn.plot.ly/plotly-2.8.3.min.js\"></script>                <div id=\"b120bbee-114f-4b79-bddf-fd5e8b435896\" class=\"plotly-graph-div\" style=\"height:500px; width:800px;\"></div>            <script type=\"text/javascript\">                                    window.PLOTLYENV=window.PLOTLYENV || {};                                    if (document.getElementById(\"b120bbee-114f-4b79-bddf-fd5e8b435896\")) {                    Plotly.newPlot(                        \"b120bbee-114f-4b79-bddf-fd5e8b435896\",                        [{\"domain\":{\"x\":[0.0,1.0],\"y\":[0.0,1.0]},\"hovertemplate\":\"OP_CARRIER=%{label}<br>DISTANCE=%{value}<extra></extra>\",\"labels\":[\"Southwest Airlines\",\"Delta Airlines\",\"American Airlines\",\"SkyWest Airlines\",\"United Airlines\"],\"legendgroup\":\"\",\"name\":\"\",\"showlegend\":true,\"values\":[2522917,1787171,1614347,1172392,1045952],\"type\":\"pie\"}],                        {\"template\":{\"data\":{\"bar\":[{\"error_x\":{\"color\":\"#2a3f5f\"},\"error_y\":{\"color\":\"#2a3f5f\"},\"marker\":{\"line\":{\"color\":\"#E5ECF6\",\"width\":0.5},\"pattern\":{\"fillmode\":\"overlay\",\"size\":10,\"solidity\":0.2}},\"type\":\"bar\"}],\"barpolar\":[{\"marker\":{\"line\":{\"color\":\"#E5ECF6\",\"width\":0.5},\"pattern\":{\"fillmode\":\"overlay\",\"size\":10,\"solidity\":0.2}},\"type\":\"barpolar\"}],\"carpet\":[{\"aaxis\":{\"endlinecolor\":\"#2a3f5f\",\"gridcolor\":\"white\",\"linecolor\":\"white\",\"minorgridcolor\":\"white\",\"startlinecolor\":\"#2a3f5f\"},\"baxis\":{\"endlinecolor\":\"#2a3f5f\",\"gridcolor\":\"white\",\"linecolor\":\"white\",\"minorgridcolor\":\"white\",\"startlinecolor\":\"#2a3f5f\"},\"type\":\"carpet\"}],\"choropleth\":[{\"colorbar\":{\"outlinewidth\":0,\"ticks\":\"\"},\"type\":\"choropleth\"}],\"contour\":[{\"colorbar\":{\"outlinewidth\":0,\"ticks\":\"\"},\"colorscale\":[[0.0,\"#0d0887\"],[0.1111111111111111,\"#46039f\"],[0.2222222222222222,\"#7201a8\"],[0.3333333333333333,\"#9c179e\"],[0.4444444444444444,\"#bd3786\"],[0.5555555555555556,\"#d8576b\"],[0.6666666666666666,\"#ed7953\"],[0.7777777777777778,\"#fb9f3a\"],[0.8888888888888888,\"#fdca26\"],[1.0,\"#f0f921\"]],\"type\":\"contour\"}],\"contourcarpet\":[{\"colorbar\":{\"outlinewidth\":0,\"ticks\":\"\"},\"type\":\"contourcarpet\"}],\"heatmap\":[{\"colorbar\":{\"outlinewidth\":0,\"ticks\":\"\"},\"colorscale\":[[0.0,\"#0d0887\"],[0.1111111111111111,\"#46039f\"],[0.2222222222222222,\"#7201a8\"],[0.3333333333333333,\"#9c179e\"],[0.4444444444444444,\"#bd3786\"],[0.5555555555555556,\"#d8576b\"],[0.6666666666666666,\"#ed7953\"],[0.7777777777777778,\"#fb9f3a\"],[0.8888888888888888,\"#fdca26\"],[1.0,\"#f0f921\"]],\"type\":\"heatmap\"}],\"heatmapgl\":[{\"colorbar\":{\"outlinewidth\":0,\"ticks\":\"\"},\"colorscale\":[[0.0,\"#0d0887\"],[0.1111111111111111,\"#46039f\"],[0.2222222222222222,\"#7201a8\"],[0.3333333333333333,\"#9c179e\"],[0.4444444444444444,\"#bd3786\"],[0.5555555555555556,\"#d8576b\"],[0.6666666666666666,\"#ed7953\"],[0.7777777777777778,\"#fb9f3a\"],[0.8888888888888888,\"#fdca26\"],[1.0,\"#f0f921\"]],\"type\":\"heatmapgl\"}],\"histogram\":[{\"marker\":{\"pattern\":{\"fillmode\":\"overlay\",\"size\":10,\"solidity\":0.2}},\"type\":\"histogram\"}],\"histogram2d\":[{\"colorbar\":{\"outlinewidth\":0,\"ticks\":\"\"},\"colorscale\":[[0.0,\"#0d0887\"],[0.1111111111111111,\"#46039f\"],[0.2222222222222222,\"#7201a8\"],[0.3333333333333333,\"#9c179e\"],[0.4444444444444444,\"#bd3786\"],[0.5555555555555556,\"#d8576b\"],[0.6666666666666666,\"#ed7953\"],[0.7777777777777778,\"#fb9f3a\"],[0.8888888888888888,\"#fdca26\"],[1.0,\"#f0f921\"]],\"type\":\"histogram2d\"}],\"histogram2dcontour\":[{\"colorbar\":{\"outlinewidth\":0,\"ticks\":\"\"},\"colorscale\":[[0.0,\"#0d0887\"],[0.1111111111111111,\"#46039f\"],[0.2222222222222222,\"#7201a8\"],[0.3333333333333333,\"#9c179e\"],[0.4444444444444444,\"#bd3786\"],[0.5555555555555556,\"#d8576b\"],[0.6666666666666666,\"#ed7953\"],[0.7777777777777778,\"#fb9f3a\"],[0.8888888888888888,\"#fdca26\"],[1.0,\"#f0f921\"]],\"type\":\"histogram2dcontour\"}],\"mesh3d\":[{\"colorbar\":{\"outlinewidth\":0,\"ticks\":\"\"},\"type\":\"mesh3d\"}],\"parcoords\":[{\"line\":{\"colorbar\":{\"outlinewidth\":0,\"ticks\":\"\"}},\"type\":\"parcoords\"}],\"pie\":[{\"automargin\":true,\"type\":\"pie\"}],\"scatter\":[{\"marker\":{\"colorbar\":{\"outlinewidth\":0,\"ticks\":\"\"}},\"type\":\"scatter\"}],\"scatter3d\":[{\"line\":{\"colorbar\":{\"outlinewidth\":0,\"ticks\":\"\"}},\"marker\":{\"colorbar\":{\"outlinewidth\":0,\"ticks\":\"\"}},\"type\":\"scatter3d\"}],\"scattercarpet\":[{\"marker\":{\"colorbar\":{\"outlinewidth\":0,\"ticks\":\"\"}},\"type\":\"scattercarpet\"}],\"scattergeo\":[{\"marker\":{\"colorbar\":{\"outlinewidth\":0,\"ticks\":\"\"}},\"type\":\"scattergeo\"}],\"scattergl\":[{\"marker\":{\"colorbar\":{\"outlinewidth\":0,\"ticks\":\"\"}},\"type\":\"scattergl\"}],\"scattermapbox\":[{\"marker\":{\"colorbar\":{\"outlinewidth\":0,\"ticks\":\"\"}},\"type\":\"scattermapbox\"}],\"scatterpolar\":[{\"marker\":{\"colorbar\":{\"outlinewidth\":0,\"ticks\":\"\"}},\"type\":\"scatterpolar\"}],\"scatterpolargl\":[{\"marker\":{\"colorbar\":{\"outlinewidth\":0,\"ticks\":\"\"}},\"type\":\"scatterpolargl\"}],\"scatterternary\":[{\"marker\":{\"colorbar\":{\"outlinewidth\":0,\"ticks\":\"\"}},\"type\":\"scatterternary\"}],\"surface\":[{\"colorbar\":{\"outlinewidth\":0,\"ticks\":\"\"},\"colorscale\":[[0.0,\"#0d0887\"],[0.1111111111111111,\"#46039f\"],[0.2222222222222222,\"#7201a8\"],[0.3333333333333333,\"#9c179e\"],[0.4444444444444444,\"#bd3786\"],[0.5555555555555556,\"#d8576b\"],[0.6666666666666666,\"#ed7953\"],[0.7777777777777778,\"#fb9f3a\"],[0.8888888888888888,\"#fdca26\"],[1.0,\"#f0f921\"]],\"type\":\"surface\"}],\"table\":[{\"cells\":{\"fill\":{\"color\":\"#EBF0F8\"},\"line\":{\"color\":\"white\"}},\"header\":{\"fill\":{\"color\":\"#C8D4E3\"},\"line\":{\"color\":\"white\"}},\"type\":\"table\"}]},\"layout\":{\"annotationdefaults\":{\"arrowcolor\":\"#2a3f5f\",\"arrowhead\":0,\"arrowwidth\":1},\"autotypenumbers\":\"strict\",\"coloraxis\":{\"colorbar\":{\"outlinewidth\":0,\"ticks\":\"\"}},\"colorscale\":{\"diverging\":[[0,\"#8e0152\"],[0.1,\"#c51b7d\"],[0.2,\"#de77ae\"],[0.3,\"#f1b6da\"],[0.4,\"#fde0ef\"],[0.5,\"#f7f7f7\"],[0.6,\"#e6f5d0\"],[0.7,\"#b8e186\"],[0.8,\"#7fbc41\"],[0.9,\"#4d9221\"],[1,\"#276419\"]],\"sequential\":[[0.0,\"#0d0887\"],[0.1111111111111111,\"#46039f\"],[0.2222222222222222,\"#7201a8\"],[0.3333333333333333,\"#9c179e\"],[0.4444444444444444,\"#bd3786\"],[0.5555555555555556,\"#d8576b\"],[0.6666666666666666,\"#ed7953\"],[0.7777777777777778,\"#fb9f3a\"],[0.8888888888888888,\"#fdca26\"],[1.0,\"#f0f921\"]],\"sequentialminus\":[[0.0,\"#0d0887\"],[0.1111111111111111,\"#46039f\"],[0.2222222222222222,\"#7201a8\"],[0.3333333333333333,\"#9c179e\"],[0.4444444444444444,\"#bd3786\"],[0.5555555555555556,\"#d8576b\"],[0.6666666666666666,\"#ed7953\"],[0.7777777777777778,\"#fb9f3a\"],[0.8888888888888888,\"#fdca26\"],[1.0,\"#f0f921\"]]},\"colorway\":[\"#636efa\",\"#EF553B\",\"#00cc96\",\"#ab63fa\",\"#FFA15A\",\"#19d3f3\",\"#FF6692\",\"#B6E880\",\"#FF97FF\",\"#FECB52\"],\"font\":{\"color\":\"#2a3f5f\"},\"geo\":{\"bgcolor\":\"white\",\"lakecolor\":\"white\",\"landcolor\":\"#E5ECF6\",\"showlakes\":true,\"showland\":true,\"subunitcolor\":\"white\"},\"hoverlabel\":{\"align\":\"left\"},\"hovermode\":\"closest\",\"mapbox\":{\"style\":\"light\"},\"paper_bgcolor\":\"white\",\"plot_bgcolor\":\"#E5ECF6\",\"polar\":{\"angularaxis\":{\"gridcolor\":\"white\",\"linecolor\":\"white\",\"ticks\":\"\"},\"bgcolor\":\"#E5ECF6\",\"radialaxis\":{\"gridcolor\":\"white\",\"linecolor\":\"white\",\"ticks\":\"\"}},\"scene\":{\"xaxis\":{\"backgroundcolor\":\"#E5ECF6\",\"gridcolor\":\"white\",\"gridwidth\":2,\"linecolor\":\"white\",\"showbackground\":true,\"ticks\":\"\",\"zerolinecolor\":\"white\"},\"yaxis\":{\"backgroundcolor\":\"#E5ECF6\",\"gridcolor\":\"white\",\"gridwidth\":2,\"linecolor\":\"white\",\"showbackground\":true,\"ticks\":\"\",\"zerolinecolor\":\"white\"},\"zaxis\":{\"backgroundcolor\":\"#E5ECF6\",\"gridcolor\":\"white\",\"gridwidth\":2,\"linecolor\":\"white\",\"showbackground\":true,\"ticks\":\"\",\"zerolinecolor\":\"white\"}},\"shapedefaults\":{\"line\":{\"color\":\"#2a3f5f\"}},\"ternary\":{\"aaxis\":{\"gridcolor\":\"white\",\"linecolor\":\"white\",\"ticks\":\"\"},\"baxis\":{\"gridcolor\":\"white\",\"linecolor\":\"white\",\"ticks\":\"\"},\"bgcolor\":\"#E5ECF6\",\"caxis\":{\"gridcolor\":\"white\",\"linecolor\":\"white\",\"ticks\":\"\"}},\"title\":{\"x\":0.05},\"xaxis\":{\"automargin\":true,\"gridcolor\":\"white\",\"linecolor\":\"white\",\"ticks\":\"\",\"title\":{\"standoff\":15},\"zerolinecolor\":\"white\",\"zerolinewidth\":2},\"yaxis\":{\"automargin\":true,\"gridcolor\":\"white\",\"linecolor\":\"white\",\"ticks\":\"\",\"title\":{\"standoff\":15},\"zerolinecolor\":\"white\",\"zerolinewidth\":2}}},\"legend\":{\"tracegroupgap\":0,\"x\":-0.9,\"y\":1.0,\"bgcolor\":\"rgba(255, 255, 255, 0.5)\",\"orientation\":\"v\"},\"margin\":{\"t\":60},\"title\":{\"text\":\"Top 5 Airlines with most flight numbers\"},\"width\":800,\"height\":500},                        {\"responsive\": true}                    ).then(function(){\n",
              "                            \n",
              "var gd = document.getElementById('b120bbee-114f-4b79-bddf-fd5e8b435896');\n",
              "var x = new MutationObserver(function (mutations, observer) {{\n",
              "        var display = window.getComputedStyle(gd).display;\n",
              "        if (!display || display === 'none') {{\n",
              "            console.log([gd, 'removed!']);\n",
              "            Plotly.purge(gd);\n",
              "            observer.disconnect();\n",
              "        }}\n",
              "}});\n",
              "\n",
              "// Listen for the removal of the full notebook cells\n",
              "var notebookContainer = gd.closest('#notebook-container');\n",
              "if (notebookContainer) {{\n",
              "    x.observe(notebookContainer, {childList: true});\n",
              "}}\n",
              "\n",
              "// Listen for the clearing of the current output cell\n",
              "var outputEl = gd.closest('.output');\n",
              "if (outputEl) {{\n",
              "    x.observe(outputEl, {childList: true});\n",
              "}}\n",
              "\n",
              "                        })                };                            </script>        </div>\n",
              "</body>\n",
              "</html>"
            ]
          },
          "metadata": {}
        }
      ],
      "source": [
        "%%time\n",
        "import matplotlib.pyplot as plt\n",
        "\n",
        "kdf_source = kdf.groupby(['OP_CARRIER'])['DISTANCE'].count().sort_values(ascending=False).head(5)\n",
        "\n",
        "\n",
        "fig4 = kdf_source.plot.pie(labels='OP_CARRIER')\n",
        "fig4.update_layout(\n",
        "    title='Top 5 Airlines with most flight numbers',\n",
        "    width=800, height=500,\n",
        "    legend=dict(x=-0.9, y=1.0, bgcolor='rgba(255, 255, 255, 0.5)', orientation=\"v\")\n",
        ")\n",
        "# hover the cursor on the pie chart to see the values"
      ]
    },
    {
      "cell_type": "markdown",
      "metadata": {
        "id": "415Q33xwKula"
      },
      "source": [
        "**Modin**"
      ]
    },
    {
      "cell_type": "code",
      "source": [
        "%%time \n",
        "\n",
        "mdf.groupby(['OP_CARRIER'])['DISTANCE'].count().sort_values(ascending=False).head(5).plot(kind='pie', y='Distance', autopct='%1.1f%%',\n",
        "                                                                                          colors = ['red', 'pink', 'steelblue','lavender','yellow'],\n",
        "                                                                                          title='Top 5 Airlines with most flight numbers')"
      ],
      "metadata": {
        "colab": {
          "base_uri": "https://localhost:8080/",
          "height": 316
        },
        "id": "JDiYeeKiC2Kg",
        "outputId": "166b3f33-3df3-4a8e-dfc9-c2f8c4dd60e3"
      },
      "execution_count": null,
      "outputs": [
        {
          "output_type": "stream",
          "name": "stdout",
          "text": [
            "CPU times: user 138 ms, sys: 14.9 ms, total: 153 ms\n",
            "Wall time: 1.95 s\n"
          ]
        },
        {
          "output_type": "execute_result",
          "data": {
            "text/plain": [
              "<matplotlib.axes._subplots.AxesSubplot at 0x7f3c8c6e7040>"
            ]
          },
          "metadata": {},
          "execution_count": 29
        },
        {
          "output_type": "display_data",
          "data": {
            "text/plain": [
              "<Figure size 432x288 with 1 Axes>"
            ],
            "image/png": "[encoded data removed]"
          },
          "metadata": {}
        }
      ]
    },
    {
      "cell_type": "markdown",
      "source": [
        "Pandas had a wall time of 852ms, koalas had a time of 57.2s, and modin had a time of 1.95s. Based on this, modin has the least wall time, pandas have the most, and koalas are in between modin and pandas."
      ],
      "metadata": {
        "id": "UKM9ZOkfEVes"
      }
    },
    {
      "cell_type": "markdown",
      "metadata": {
        "id": "olhVSAv6MOMk"
      },
      "source": [
        "# **Asking and Answering Questions**\n",
        "\n",
        "\n",
        "> - Ask at least 5 interesting questions about your dataset\n",
        "> - Answer the questions either by computing the results using Numpy/Pandas or by plotting graphs using Matplotlib/Seaborn\n",
        "> - Create new columns, merge multiple dataset and perform grouping/aggregation wherever necessary\n",
        "> - Wherever you're using a library function from Pandas/Numpy/Matplotlib etc. explain briefly what it does"
      ]
    },
    {
      "cell_type": "markdown",
      "metadata": {
        "id": "pJsTiJZjMzu7"
      },
      "source": [
        "### **1. Top 5 Airlines that have the most flight numbers**\n",
        "\n",
        "The first question is about the top 5 airlines that offers the most flights in 2015 until 2016. The top airline that has the most flights is 'Southwest Airlines' with the count of 2522917 flights."
      ]
    },
    {
      "cell_type": "markdown",
      "metadata": {
        "id": "0XnooNF4M4M9"
      },
      "source": [
        "**Pandas**"
      ]
    },
    {
      "cell_type": "code",
      "source": [
        "%%time\n",
        "df_distance_q5 = df.groupby(['OP_CARRIER'])['DISTANCE'].count().sort_values(ascending=False).head(5)\n",
        "\n",
        "df_distance_q5 .plot(kind='bar', title='Top 5 Airlines that have the most flight numbers', ylabel='Total number of flights',\n",
        "         xlabel='Airlines', figsize=(15, 9), color=['C0', 'C1', 'C2', 'C3', 'C4'])\n",
        "ax = plt.gca()\n",
        "ax.yaxis.set_major_formatter(tick.FuncFormatter(reformat_large_tick_values));\n"
      ],
      "metadata": {
        "id": "WrShfMK3QgJK",
        "outputId": "c4f0e6df-2ccc-42ac-aca9-fa3ef296f50c",
        "colab": {
          "base_uri": "https://localhost:8080/",
          "height": 685
        }
      },
      "execution_count": null,
      "outputs": [
        {
          "output_type": "stream",
          "name": "stdout",
          "text": [
            "CPU times: user 860 ms, sys: 0 ns, total: 860 ms\n",
            "Wall time: 853 ms\n"
          ]
        },
        {
          "output_type": "display_data",
          "data": {
            "text/plain": [
              "<Figure size 1080x648 with 1 Axes>"
            ],
            "image/png": "[encoded data removed]"
          },
          "metadata": {
            "needs_background": "light"
          }
        }
      ]
    },
    {
      "cell_type": "markdown",
      "metadata": {
        "id": "8bJOdw8cmNrK"
      },
      "source": [
        "**Koalas**"
      ]
    },
    {
      "cell_type": "code",
      "execution_count": null,
      "metadata": {
        "id": "6ICBCvoVmSAK",
        "colab": {
          "base_uri": "https://localhost:8080/"
        },
        "outputId": "b2100453-33d4-43f7-ab2c-0b025f9a4662"
      },
      "outputs": [
        {
          "output_type": "stream",
          "name": "stdout",
          "text": [
            "CPU times: user 75.8 ms, sys: 9.39 ms, total: 85.2 ms\n",
            "Wall time: 574 ms\n"
          ]
        },
        {
          "output_type": "execute_result",
          "data": {
            "text/plain": [
              "OP_CARRIER\n",
              "Southwest Airlines    2522917\n",
              "Delta Airlines        1787171\n",
              "American Airlines     1614347\n",
              "SkyWest Airlines      1172392\n",
              "United Airlines       1045952\n",
              "Name: DISTANCE, dtype: int64"
            ]
          },
          "metadata": {},
          "execution_count": 13
        }
      ],
      "source": [
        "%%time\n",
        "kdf_top5_flight_number = kdf.groupby(['OP_CARRIER'])['DISTANCE'].count().sort_values(ascending=False).head(5)\n",
        "kdf_top5_flight_number "
      ]
    },
    {
      "cell_type": "code",
      "source": [
        "%%time\n",
        "kdf_top5_flight_number = kdf.groupby(['OP_CARRIER'])['DISTANCE'].count().sort_values(ascending=False).head(5)\n",
        "\n",
        "colors = ['b', 'g', 'r', 'c', 'm']\n",
        "fig3 = kdf_top5_flight_number.plot.bar(color=colors)\n",
        "fig3.update_layout(\n",
        "    title='Top 5 Airlines that have the most flight numbers',\n",
        "    xaxis_title='Airlines',\n",
        "    yaxis_title='Total number of flights',\n",
        ")\n",
        "\n",
        "fig3.show()\n"
      ],
      "metadata": {
        "colab": {
          "base_uri": "https://localhost:8080/",
          "height": 577
        },
        "outputId": "c46ea1bf-c6fc-4f13-a974-877c6f4ac397",
        "id": "2SApkMXDM1lk"
      },
      "execution_count": null,
      "outputs": [
        {
          "output_type": "display_data",
          "data": {
            "text/html": [
              "<html>\n",
              "<head><meta charset=\"utf-8\" /></head>\n",
              "<body>\n",
              "    <div>            <script src=\"https://cdnjs.cloudflare.com/ajax/libs/mathjax/2.7.5/MathJax.js?config=TeX-AMS-MML_SVG\"></script><script type=\"text/javascript\">if (window.MathJax) {MathJax.Hub.Config({SVG: {font: \"STIX-Web\"}});}</script>                <script type=\"text/javascript\">window.PlotlyConfig = {MathJaxConfig: 'local'};</script>\n",
              "        <script src=\"https://cdn.plot.ly/plotly-2.8.3.min.js\"></script>                <div id=\"148adc4b-50fd-4620-aeb4-5e26a655b5f8\" class=\"plotly-graph-div\" style=\"height:525px; width:100%;\"></div>            <script type=\"text/javascript\">                                    window.PLOTLYENV=window.PLOTLYENV || {};                                    if (document.getElementById(\"148adc4b-50fd-4620-aeb4-5e26a655b5f8\")) {                    Plotly.newPlot(                        \"148adc4b-50fd-4620-aeb4-5e26a655b5f8\",                        [{\"alignmentgroup\":\"True\",\"hovertemplate\":\"color=b<br>OP_CARRIER=%{x}<br>value=%{y}<extra></extra>\",\"legendgroup\":\"b\",\"marker\":{\"color\":\"#636efa\",\"pattern\":{\"shape\":\"\"}},\"name\":\"b\",\"offsetgroup\":\"b\",\"orientation\":\"v\",\"showlegend\":true,\"textposition\":\"auto\",\"x\":[\"Southwest Airlines\"],\"xaxis\":\"x\",\"y\":[2522917],\"yaxis\":\"y\",\"type\":\"bar\"},{\"alignmentgroup\":\"True\",\"hovertemplate\":\"color=g<br>OP_CARRIER=%{x}<br>value=%{y}<extra></extra>\",\"legendgroup\":\"g\",\"marker\":{\"color\":\"#EF553B\",\"pattern\":{\"shape\":\"\"}},\"name\":\"g\",\"offsetgroup\":\"g\",\"orientation\":\"v\",\"showlegend\":true,\"textposition\":\"auto\",\"x\":[\"Delta Airlines\"],\"xaxis\":\"x\",\"y\":[1787171],\"yaxis\":\"y\",\"type\":\"bar\"},{\"alignmentgroup\":\"True\",\"hovertemplate\":\"color=r<br>OP_CARRIER=%{x}<br>value=%{y}<extra></extra>\",\"legendgroup\":\"r\",\"marker\":{\"color\":\"#00cc96\",\"pattern\":{\"shape\":\"\"}},\"name\":\"r\",\"offsetgroup\":\"r\",\"orientation\":\"v\",\"showlegend\":true,\"textposition\":\"auto\",\"x\":[\"American Airlines\"],\"xaxis\":\"x\",\"y\":[1614347],\"yaxis\":\"y\",\"type\":\"bar\"},{\"alignmentgroup\":\"True\",\"hovertemplate\":\"color=c<br>OP_CARRIER=%{x}<br>value=%{y}<extra></extra>\",\"legendgroup\":\"c\",\"marker\":{\"color\":\"#ab63fa\",\"pattern\":{\"shape\":\"\"}},\"name\":\"c\",\"offsetgroup\":\"c\",\"orientation\":\"v\",\"showlegend\":true,\"textposition\":\"auto\",\"x\":[\"SkyWest Airlines\"],\"xaxis\":\"x\",\"y\":[1172392],\"yaxis\":\"y\",\"type\":\"bar\"},{\"alignmentgroup\":\"True\",\"hovertemplate\":\"color=m<br>OP_CARRIER=%{x}<br>value=%{y}<extra></extra>\",\"legendgroup\":\"m\",\"marker\":{\"color\":\"#FFA15A\",\"pattern\":{\"shape\":\"\"}},\"name\":\"m\",\"offsetgroup\":\"m\",\"orientation\":\"v\",\"showlegend\":true,\"textposition\":\"auto\",\"x\":[\"United Airlines\"],\"xaxis\":\"x\",\"y\":[1045952],\"yaxis\":\"y\",\"type\":\"bar\"}],                        {\"template\":{\"data\":{\"bar\":[{\"error_x\":{\"color\":\"#2a3f5f\"},\"error_y\":{\"color\":\"#2a3f5f\"},\"marker\":{\"line\":{\"color\":\"#E5ECF6\",\"width\":0.5},\"pattern\":{\"fillmode\":\"overlay\",\"size\":10,\"solidity\":0.2}},\"type\":\"bar\"}],\"barpolar\":[{\"marker\":{\"line\":{\"color\":\"#E5ECF6\",\"width\":0.5},\"pattern\":{\"fillmode\":\"overlay\",\"size\":10,\"solidity\":0.2}},\"type\":\"barpolar\"}],\"carpet\":[{\"aaxis\":{\"endlinecolor\":\"#2a3f5f\",\"gridcolor\":\"white\",\"linecolor\":\"white\",\"minorgridcolor\":\"white\",\"startlinecolor\":\"#2a3f5f\"},\"baxis\":{\"endlinecolor\":\"#2a3f5f\",\"gridcolor\":\"white\",\"linecolor\":\"white\",\"minorgridcolor\":\"white\",\"startlinecolor\":\"#2a3f5f\"},\"type\":\"carpet\"}],\"choropleth\":[{\"colorbar\":{\"outlinewidth\":0,\"ticks\":\"\"},\"type\":\"choropleth\"}],\"contour\":[{\"colorbar\":{\"outlinewidth\":0,\"ticks\":\"\"},\"colorscale\":[[0.0,\"#0d0887\"],[0.1111111111111111,\"#46039f\"],[0.2222222222222222,\"#7201a8\"],[0.3333333333333333,\"#9c179e\"],[0.4444444444444444,\"#bd3786\"],[0.5555555555555556,\"#d8576b\"],[0.6666666666666666,\"#ed7953\"],[0.7777777777777778,\"#fb9f3a\"],[0.8888888888888888,\"#fdca26\"],[1.0,\"#f0f921\"]],\"type\":\"contour\"}],\"contourcarpet\":[{\"colorbar\":{\"outlinewidth\":0,\"ticks\":\"\"},\"type\":\"contourcarpet\"}],\"heatmap\":[{\"colorbar\":{\"outlinewidth\":0,\"ticks\":\"\"},\"colorscale\":[[0.0,\"#0d0887\"],[0.1111111111111111,\"#46039f\"],[0.2222222222222222,\"#7201a8\"],[0.3333333333333333,\"#9c179e\"],[0.4444444444444444,\"#bd3786\"],[0.5555555555555556,\"#d8576b\"],[0.6666666666666666,\"#ed7953\"],[0.7777777777777778,\"#fb9f3a\"],[0.8888888888888888,\"#fdca26\"],[1.0,\"#f0f921\"]],\"type\":\"heatmap\"}],\"heatmapgl\":[{\"colorbar\":{\"outlinewidth\":0,\"ticks\":\"\"},\"colorscale\":[[0.0,\"#0d0887\"],[0.1111111111111111,\"#46039f\"],[0.2222222222222222,\"#7201a8\"],[0.3333333333333333,\"#9c179e\"],[0.4444444444444444,\"#bd3786\"],[0.5555555555555556,\"#d8576b\"],[0.6666666666666666,\"#ed7953\"],[0.7777777777777778,\"#fb9f3a\"],[0.8888888888888888,\"#fdca26\"],[1.0,\"#f0f921\"]],\"type\":\"heatmapgl\"}],\"histogram\":[{\"marker\":{\"pattern\":{\"fillmode\":\"overlay\",\"size\":10,\"solidity\":0.2}},\"type\":\"histogram\"}],\"histogram2d\":[{\"colorbar\":{\"outlinewidth\":0,\"ticks\":\"\"},\"colorscale\":[[0.0,\"#0d0887\"],[0.1111111111111111,\"#46039f\"],[0.2222222222222222,\"#7201a8\"],[0.3333333333333333,\"#9c179e\"],[0.4444444444444444,\"#bd3786\"],[0.5555555555555556,\"#d8576b\"],[0.6666666666666666,\"#ed7953\"],[0.7777777777777778,\"#fb9f3a\"],[0.8888888888888888,\"#fdca26\"],[1.0,\"#f0f921\"]],\"type\":\"histogram2d\"}],\"histogram2dcontour\":[{\"colorbar\":{\"outlinewidth\":0,\"ticks\":\"\"},\"colorscale\":[[0.0,\"#0d0887\"],[0.1111111111111111,\"#46039f\"],[0.2222222222222222,\"#7201a8\"],[0.3333333333333333,\"#9c179e\"],[0.4444444444444444,\"#bd3786\"],[0.5555555555555556,\"#d8576b\"],[0.6666666666666666,\"#ed7953\"],[0.7777777777777778,\"#fb9f3a\"],[0.8888888888888888,\"#fdca26\"],[1.0,\"#f0f921\"]],\"type\":\"histogram2dcontour\"}],\"mesh3d\":[{\"colorbar\":{\"outlinewidth\":0,\"ticks\":\"\"},\"type\":\"mesh3d\"}],\"parcoords\":[{\"line\":{\"colorbar\":{\"outlinewidth\":0,\"ticks\":\"\"}},\"type\":\"parcoords\"}],\"pie\":[{\"automargin\":true,\"type\":\"pie\"}],\"scatter\":[{\"marker\":{\"colorbar\":{\"outlinewidth\":0,\"ticks\":\"\"}},\"type\":\"scatter\"}],\"scatter3d\":[{\"line\":{\"colorbar\":{\"outlinewidth\":0,\"ticks\":\"\"}},\"marker\":{\"colorbar\":{\"outlinewidth\":0,\"ticks\":\"\"}},\"type\":\"scatter3d\"}],\"scattercarpet\":[{\"marker\":{\"colorbar\":{\"outlinewidth\":0,\"ticks\":\"\"}},\"type\":\"scattercarpet\"}],\"scattergeo\":[{\"marker\":{\"colorbar\":{\"outlinewidth\":0,\"ticks\":\"\"}},\"type\":\"scattergeo\"}],\"scattergl\":[{\"marker\":{\"colorbar\":{\"outlinewidth\":0,\"ticks\":\"\"}},\"type\":\"scattergl\"}],\"scattermapbox\":[{\"marker\":{\"colorbar\":{\"outlinewidth\":0,\"ticks\":\"\"}},\"type\":\"scattermapbox\"}],\"scatterpolar\":[{\"marker\":{\"colorbar\":{\"outlinewidth\":0,\"ticks\":\"\"}},\"type\":\"scatterpolar\"}],\"scatterpolargl\":[{\"marker\":{\"colorbar\":{\"outlinewidth\":0,\"ticks\":\"\"}},\"type\":\"scatterpolargl\"}],\"scatterternary\":[{\"marker\":{\"colorbar\":{\"outlinewidth\":0,\"ticks\":\"\"}},\"type\":\"scatterternary\"}],\"surface\":[{\"colorbar\":{\"outlinewidth\":0,\"ticks\":\"\"},\"colorscale\":[[0.0,\"#0d0887\"],[0.1111111111111111,\"#46039f\"],[0.2222222222222222,\"#7201a8\"],[0.3333333333333333,\"#9c179e\"],[0.4444444444444444,\"#bd3786\"],[0.5555555555555556,\"#d8576b\"],[0.6666666666666666,\"#ed7953\"],[0.7777777777777778,\"#fb9f3a\"],[0.8888888888888888,\"#fdca26\"],[1.0,\"#f0f921\"]],\"type\":\"surface\"}],\"table\":[{\"cells\":{\"fill\":{\"color\":\"#EBF0F8\"},\"line\":{\"color\":\"white\"}},\"header\":{\"fill\":{\"color\":\"#C8D4E3\"},\"line\":{\"color\":\"white\"}},\"type\":\"table\"}]},\"layout\":{\"annotationdefaults\":{\"arrowcolor\":\"#2a3f5f\",\"arrowhead\":0,\"arrowwidth\":1},\"autotypenumbers\":\"strict\",\"coloraxis\":{\"colorbar\":{\"outlinewidth\":0,\"ticks\":\"\"}},\"colorscale\":{\"diverging\":[[0,\"#8e0152\"],[0.1,\"#c51b7d\"],[0.2,\"#de77ae\"],[0.3,\"#f1b6da\"],[0.4,\"#fde0ef\"],[0.5,\"#f7f7f7\"],[0.6,\"#e6f5d0\"],[0.7,\"#b8e186\"],[0.8,\"#7fbc41\"],[0.9,\"#4d9221\"],[1,\"#276419\"]],\"sequential\":[[0.0,\"#0d0887\"],[0.1111111111111111,\"#46039f\"],[0.2222222222222222,\"#7201a8\"],[0.3333333333333333,\"#9c179e\"],[0.4444444444444444,\"#bd3786\"],[0.5555555555555556,\"#d8576b\"],[0.6666666666666666,\"#ed7953\"],[0.7777777777777778,\"#fb9f3a\"],[0.8888888888888888,\"#fdca26\"],[1.0,\"#f0f921\"]],\"sequentialminus\":[[0.0,\"#0d0887\"],[0.1111111111111111,\"#46039f\"],[0.2222222222222222,\"#7201a8\"],[0.3333333333333333,\"#9c179e\"],[0.4444444444444444,\"#bd3786\"],[0.5555555555555556,\"#d8576b\"],[0.6666666666666666,\"#ed7953\"],[0.7777777777777778,\"#fb9f3a\"],[0.8888888888888888,\"#fdca26\"],[1.0,\"#f0f921\"]]},\"colorway\":[\"#636efa\",\"#EF553B\",\"#00cc96\",\"#ab63fa\",\"#FFA15A\",\"#19d3f3\",\"#FF6692\",\"#B6E880\",\"#FF97FF\",\"#FECB52\"],\"font\":{\"color\":\"#2a3f5f\"},\"geo\":{\"bgcolor\":\"white\",\"lakecolor\":\"white\",\"landcolor\":\"#E5ECF6\",\"showlakes\":true,\"showland\":true,\"subunitcolor\":\"white\"},\"hoverlabel\":{\"align\":\"left\"},\"hovermode\":\"closest\",\"mapbox\":{\"style\":\"light\"},\"paper_bgcolor\":\"white\",\"plot_bgcolor\":\"#E5ECF6\",\"polar\":{\"angularaxis\":{\"gridcolor\":\"white\",\"linecolor\":\"white\",\"ticks\":\"\"},\"bgcolor\":\"#E5ECF6\",\"radialaxis\":{\"gridcolor\":\"white\",\"linecolor\":\"white\",\"ticks\":\"\"}},\"scene\":{\"xaxis\":{\"backgroundcolor\":\"#E5ECF6\",\"gridcolor\":\"white\",\"gridwidth\":2,\"linecolor\":\"white\",\"showbackground\":true,\"ticks\":\"\",\"zerolinecolor\":\"white\"},\"yaxis\":{\"backgroundcolor\":\"#E5ECF6\",\"gridcolor\":\"white\",\"gridwidth\":2,\"linecolor\":\"white\",\"showbackground\":true,\"ticks\":\"\",\"zerolinecolor\":\"white\"},\"zaxis\":{\"backgroundcolor\":\"#E5ECF6\",\"gridcolor\":\"white\",\"gridwidth\":2,\"linecolor\":\"white\",\"showbackground\":true,\"ticks\":\"\",\"zerolinecolor\":\"white\"}},\"shapedefaults\":{\"line\":{\"color\":\"#2a3f5f\"}},\"ternary\":{\"aaxis\":{\"gridcolor\":\"white\",\"linecolor\":\"white\",\"ticks\":\"\"},\"baxis\":{\"gridcolor\":\"white\",\"linecolor\":\"white\",\"ticks\":\"\"},\"bgcolor\":\"#E5ECF6\",\"caxis\":{\"gridcolor\":\"white\",\"linecolor\":\"white\",\"ticks\":\"\"}},\"title\":{\"x\":0.05},\"xaxis\":{\"automargin\":true,\"gridcolor\":\"white\",\"linecolor\":\"white\",\"ticks\":\"\",\"title\":{\"standoff\":15},\"zerolinecolor\":\"white\",\"zerolinewidth\":2},\"yaxis\":{\"automargin\":true,\"gridcolor\":\"white\",\"linecolor\":\"white\",\"ticks\":\"\",\"title\":{\"standoff\":15},\"zerolinecolor\":\"white\",\"zerolinewidth\":2}}},\"xaxis\":{\"anchor\":\"y\",\"domain\":[0.0,1.0],\"title\":{\"text\":\"Airlines\"}},\"yaxis\":{\"anchor\":\"x\",\"domain\":[0.0,1.0],\"title\":{\"text\":\"Total number of flights\"}},\"legend\":{\"title\":{\"text\":\"color\"},\"tracegroupgap\":0},\"margin\":{\"t\":60},\"barmode\":\"relative\",\"title\":{\"text\":\"Top 5 Airlines that have the most flight numbers\"}},                        {\"responsive\": true}                    ).then(function(){\n",
              "                            \n",
              "var gd = document.getElementById('148adc4b-50fd-4620-aeb4-5e26a655b5f8');\n",
              "var x = new MutationObserver(function (mutations, observer) {{\n",
              "        var display = window.getComputedStyle(gd).display;\n",
              "        if (!display || display === 'none') {{\n",
              "            console.log([gd, 'removed!']);\n",
              "            Plotly.purge(gd);\n",
              "            observer.disconnect();\n",
              "        }}\n",
              "}});\n",
              "\n",
              "// Listen for the removal of the full notebook cells\n",
              "var notebookContainer = gd.closest('#notebook-container');\n",
              "if (notebookContainer) {{\n",
              "    x.observe(notebookContainer, {childList: true});\n",
              "}}\n",
              "\n",
              "// Listen for the clearing of the current output cell\n",
              "var outputEl = gd.closest('.output');\n",
              "if (outputEl) {{\n",
              "    x.observe(outputEl, {childList: true});\n",
              "}}\n",
              "\n",
              "                        })                };                            </script>        </div>\n",
              "</body>\n",
              "</html>"
            ]
          },
          "metadata": {}
        },
        {
          "output_type": "stream",
          "name": "stdout",
          "text": [
            "CPU times: user 598 ms, sys: 58.8 ms, total: 656 ms\n",
            "Wall time: 54 s\n"
          ]
        }
      ]
    },
    {
      "cell_type": "markdown",
      "metadata": {
        "id": "Y23tmfwnKwoU"
      },
      "source": [
        "**Modin**"
      ]
    },
    {
      "cell_type": "code",
      "execution_count": null,
      "metadata": {
        "colab": {
          "base_uri": "https://localhost:8080/"
        },
        "id": "eGuEQ8MFNiQr",
        "outputId": "1f7a7665-8c49-4a93-f2f9-afeb208f6105"
      },
      "outputs": [
        {
          "name": "stdout",
          "output_type": "stream",
          "text": [
            "CPU times: user 106 ms, sys: 29.9 ms, total: 136 ms\n",
            "Wall time: 3.63 s\n"
          ]
        },
        {
          "data": {
            "text/plain": [
              "OP_CARRIER\n",
              "Southwest Airlines    2522917\n",
              "Delta Airlines        1787171\n",
              "American Airlines     1614347\n",
              "SkyWest Airlines      1172392\n",
              "United Airlines       1045952\n",
              "Name: DISTANCE, dtype: int64"
            ]
          },
          "execution_count": 63,
          "metadata": {},
          "output_type": "execute_result"
        }
      ],
      "source": [
        "%%time\n",
        "md_top5_flight_number = mdf.groupby(['OP_CARRIER'])['DISTANCE'].count().sort_values(ascending=False).head(5)\n",
        "md_top5_flight_number "
      ]
    },
    {
      "cell_type": "code",
      "source": [
        "%%time\n",
        "mdf_distance_q5 = mdf.groupby(['OP_CARRIER'])['DISTANCE'].count().sort_values(ascending=False).head(5)\n",
        "\n",
        "mdf_distance_q5 .plot(kind='bar', title='Top 5 Airlines that have the most flight numbers', ylabel='Number of flights',\n",
        "         xlabel='Airlines', figsize=(15, 9), color=['C0', 'C1', 'C2', 'C3', 'C4'])\n",
        "ax = plt.gca()"
      ],
      "metadata": {
        "colab": {
          "base_uri": "https://localhost:8080/",
          "height": 685
        },
        "id": "GgXShanQLfxO",
        "outputId": "0cc0ce1b-0ef2-4be7-b4f9-7ead8773f806"
      },
      "execution_count": null,
      "outputs": [
        {
          "output_type": "stream",
          "name": "stdout",
          "text": [
            "CPU times: user 134 ms, sys: 19.8 ms, total: 154 ms\n",
            "Wall time: 2.66 s\n"
          ]
        },
        {
          "output_type": "display_data",
          "data": {
            "text/plain": [
              "<Figure size 1080x648 with 1 Axes>"
            ],
            "image/png": "[encoded data removed]"
          },
          "metadata": {
            "needs_background": "light"
          }
        }
      ]
    },
    {
      "cell_type": "markdown",
      "source": [
        "So based on the codes above, for all libraries, we had use the 'groupby' method of the attribute 'OP_CARRIER' and 'DISTANCE'. The recorded time of wall time for pandas is 808ms, while koalas recorded 574ms and modin recorded 3.63s. This means that koalas has the least wall time, modin has the most wall time and pandas is in the middle of both of it."
      ],
      "metadata": {
        "id": "YZvABs-MqcbI"
      }
    },
    {
      "cell_type": "markdown",
      "metadata": {
        "id": "Of1iv-GkNA8c"
      },
      "source": [
        "### **2. Top 10 days with the most number of delay flights.**\n",
        "\n",
        "The second question is about the top 10 day in 2015 until 2016 that recorded the most delay flights. The highest rate of delayed flights was on 4th January 2015."
      ]
    },
    {
      "cell_type": "markdown",
      "metadata": {
        "id": "vTt-b0vkPvH7"
      },
      "source": [
        "**Pandas**"
      ]
    },
    {
      "cell_type": "code",
      "execution_count": null,
      "metadata": {
        "colab": {
          "base_uri": "https://localhost:8080/"
        },
        "id": "i8XBMvm7P1UQ",
        "outputId": "9da2945f-5129-4d86-edc6-d448d259866e"
      },
      "outputs": [
        {
          "name": "stderr",
          "output_type": "stream",
          "text": [
            "<timed exec>:9: SettingWithCopyWarning:\n",
            "\n",
            "\n",
            "A value is trying to be set on a copy of a slice from a DataFrame.\n",
            "Try using .loc[row_indexer,col_indexer] = value instead\n",
            "\n",
            "See the caveats in the documentation: https://pandas.pydata.org/pandas-docs/stable/user_guide/indexing.html#returning-a-view-versus-a-copy\n",
            "\n"
          ]
        },
        {
          "name": "stdout",
          "output_type": "stream",
          "text": [
            "CPU times: user 1.95 s, sys: 9.43 ms, total: 1.96 s\n",
            "Wall time: 2.04 s\n"
          ]
        },
        {
          "data": {
            "text/plain": [
              "day\n",
              "2015-01-04    11107\n",
              "2015-12-30    10047\n",
              "2015-01-03    10002\n",
              "2016-12-18     9854\n",
              "2015-12-23     9519\n",
              "2015-06-18     9300\n",
              "2016-12-17     9165\n",
              "2015-12-29     9148\n",
              "2015-02-26     9121\n",
              "2015-01-05     9080\n",
              "Name: ARR_DELAY, dtype: int64"
            ]
          },
          "execution_count": 17,
          "metadata": {},
          "output_type": "execute_result"
        }
      ],
      "source": [
        "%%time\n",
        "df_delay = df[df.ARR_DELAY>0]\n",
        "df_time = df_delay\n",
        "\n",
        "\n",
        "def get_day(timestamp):\n",
        "    day = timestamp.split(' ')[0]\n",
        "    return day\n",
        "\n",
        "df_time['day'] = df_time['FL_DATE'].apply(get_day)\n",
        "time_df = df_time.groupby(['day'])['ARR_DELAY'].count()\n",
        "\n",
        "time_df.nlargest(10)"
      ]
    },
    {
      "cell_type": "markdown",
      "metadata": {
        "id": "qrsHkUD7mat_"
      },
      "source": [
        "**Koalas**"
      ]
    },
    {
      "cell_type": "code",
      "execution_count": null,
      "metadata": {
        "id": "OB09H7brmess",
        "colab": {
          "base_uri": "https://localhost:8080/"
        },
        "outputId": "b734cebd-32b2-40cc-9477-c2f435ae5d24"
      },
      "outputs": [
        {
          "output_type": "stream",
          "name": "stderr",
          "text": [
            "/usr/local/lib/python3.8/dist-packages/pyspark/sql/pandas/functions.py:394: UserWarning: In Python 3.6+ and Spark 3.0+, it is preferred to specify type hints for pandas UDF instead of specifying pandas UDF type which will be deprecated in the future releases. See SPARK-28264 for more details.\n",
            "  warnings.warn(\n"
          ]
        },
        {
          "output_type": "stream",
          "name": "stdout",
          "text": [
            "CPU times: user 769 ms, sys: 101 ms, total: 870 ms\n",
            "Wall time: 1min 33s\n"
          ]
        },
        {
          "output_type": "execute_result",
          "data": {
            "text/plain": [
              "day\n",
              "2015-01-04    11107\n",
              "2015-12-30    10047\n",
              "2015-01-03    10002\n",
              "2016-12-18     9854\n",
              "2015-12-23     9519\n",
              "2015-06-18     9300\n",
              "2016-12-17     9165\n",
              "2015-12-29     9148\n",
              "2015-02-26     9121\n",
              "2015-01-05     9080\n",
              "Name: ARR_DELAY, dtype: int64"
            ]
          },
          "metadata": {},
          "execution_count": 15
        }
      ],
      "source": [
        "%%time\n",
        "kdf_delay = kdf[kdf.ARR_DELAY>0]\n",
        "kdf_time = kdf_delay\n",
        "\n",
        "def get_day(date):\n",
        "  return date.date()\n",
        "\n",
        "kdf_time['day'] = kdf_time['FL_DATE'].apply(get_day)\n",
        "time_kdf = kdf_time.groupby(['day'])['ARR_DELAY'].count()\n",
        "\n",
        "time_kdf.nlargest(10)"
      ]
    },
    {
      "cell_type": "markdown",
      "metadata": {
        "id": "3uEb3ohtKxuo"
      },
      "source": [
        "**Modin**"
      ]
    },
    {
      "cell_type": "code",
      "execution_count": null,
      "metadata": {
        "colab": {
          "base_uri": "https://localhost:8080/"
        },
        "id": "nZsbrzXtNtbd",
        "outputId": "4c41913b-64d7-4bb0-ef0e-56cfa411fd04"
      },
      "outputs": [
        {
          "name": "stdout",
          "output_type": "stream",
          "text": [
            "CPU times: user 329 ms, sys: 92.3 ms, total: 421 ms\n",
            "Wall time: 7.68 s\n"
          ]
        },
        {
          "name": "stderr",
          "output_type": "stream",
          "text": [
            "UserWarning: `Series.nlargest` is not currently supported by PandasOnRay, defaulting to pandas implementation.\n",
            "UserWarning: Distributing <class 'pandas.core.series.Series'> object. This may take some time.\n"
          ]
        },
        {
          "data": {
            "text/plain": [
              "day\n",
              "2015-01-04    11107\n",
              "2015-12-30    10047\n",
              "2015-01-03    10002\n",
              "2016-12-18     9854\n",
              "2015-12-23     9519\n",
              "2015-06-18     9300\n",
              "2016-12-17     9165\n",
              "2015-12-29     9148\n",
              "2015-02-26     9121\n",
              "2015-01-05     9080\n",
              "Name: ARR_DELAY, dtype: int64"
            ]
          },
          "execution_count": 71,
          "metadata": {},
          "output_type": "execute_result"
        }
      ],
      "source": [
        "%%time\n",
        "mdf_delay = mdf[mdf.ARR_DELAY>0]\n",
        "mdf_time = mdf_delay\n",
        "\n",
        "\n",
        "def get_day(timestamp):\n",
        "    day = timestamp.split(' ')[0]\n",
        "    return day\n",
        "\n",
        "mdf_time['day'] = mdf_time['FL_DATE'].apply(get_day)\n",
        "time_mdf = mdf_time.groupby(['day'])['ARR_DELAY'].count()\n",
        "\n",
        "time_mdf.nlargest(10)"
      ]
    },
    {
      "cell_type": "markdown",
      "source": [
        "So based on the codes above, the wall time pandas recorded is 2.04s, while koalas recorded 1min 33s and modin recorded 7.68s. This means that koalas has the most wall time, pandas has the least wall time and modin is in the middle of both of it."
      ],
      "metadata": {
        "id": "IIrUVcRSsBjt"
      }
    },
    {
      "cell_type": "markdown",
      "metadata": {
        "id": "UdG7zqHwPfOt"
      },
      "source": [
        "### **3. What is the longest and shortest of flight delay time?**"
      ]
    },
    {
      "cell_type": "markdown",
      "metadata": {
        "id": "u8sv8C5zQzaa"
      },
      "source": [
        "**Pandas**"
      ]
    },
    {
      "cell_type": "code",
      "execution_count": null,
      "metadata": {
        "colab": {
          "base_uri": "https://localhost:8080/"
        },
        "id": "a4n38KhQsxlw",
        "outputId": "e26c05ee-d37f-4199-a26f-3cf7fcec7dff"
      },
      "outputs": [
        {
          "name": "stdout",
          "output_type": "stream",
          "text": [
            "Longest flight delay time:  2142.0  minutes\n",
            "Shortest flight delay time:  1.0  minutes\n",
            "CPU times: user 588 ms, sys: 373 µs, total: 588 ms\n",
            "Wall time: 591 ms\n"
          ]
        }
      ],
      "source": [
        "%%time\n",
        "df_delay = df[df.ARR_DELAY>0]\n",
        "\n",
        "q3_max = df_delay['ARR_DELAY'].max()\n",
        "q3_min = df_delay['ARR_DELAY'].min()\n",
        "\n",
        "print(\"Longest flight delay time: \",q3_max, ' minutes')\n",
        "print(\"Shortest flight delay time: \",q3_min, ' minute')"
      ]
    },
    {
      "cell_type": "markdown",
      "metadata": {
        "id": "HOTepDER0-eV"
      },
      "source": [
        "**Koalas**"
      ]
    },
    {
      "cell_type": "code",
      "execution_count": null,
      "metadata": {
        "id": "3AUDV9KF1BAL",
        "colab": {
          "base_uri": "https://localhost:8080/"
        },
        "outputId": "4ec020f8-fdc0-406a-9d41-2deca029ce98"
      },
      "outputs": [
        {
          "output_type": "stream",
          "name": "stdout",
          "text": [
            "Longest flight delay time:  2142.0  minutes\n",
            "Shortest flight delay time:  1.0  minute\n",
            "CPU times: user 876 ms, sys: 84.6 ms, total: 961 ms\n",
            "Wall time: 2min 13s\n"
          ]
        }
      ],
      "source": [
        "%%time\n",
        "kdf_delay = kdf[kdf.ARR_DELAY>0]\n",
        "\n",
        "fl_max = kdf_delay['ARR_DELAY'].max()\n",
        "fl_min = kdf_delay['ARR_DELAY'].min()\n",
        "\n",
        "print(\"Longest flight delay time: \",fl_max, ' minutes')\n",
        "print(\"Shortest flight delay time: \",fl_min, ' minute')"
      ]
    },
    {
      "cell_type": "markdown",
      "metadata": {
        "id": "b9jjax7BK1mP"
      },
      "source": [
        "**Modin**"
      ]
    },
    {
      "cell_type": "code",
      "execution_count": null,
      "metadata": {
        "colab": {
          "base_uri": "https://localhost:8080/"
        },
        "id": "oJPypPJvSPdg",
        "outputId": "b20db683-dc04-468c-adb2-360b9c60374d"
      },
      "outputs": [
        {
          "name": "stdout",
          "output_type": "stream",
          "text": [
            "Longest flight delay time:  2142.0  minutes\n",
            "Shortest flight delay time:  1.0  minutes\n",
            "CPU times: user 263 ms, sys: 79.5 ms, total: 343 ms\n",
            "Wall time: 7.58 s\n"
          ]
        }
      ],
      "source": [
        "%%time\n",
        "mdf_delay = mdf[mdf.ARR_DELAY>0]\n",
        "\n",
        "arrd_max = mdf_delay['ARR_DELAY'].max()\n",
        "arrd_min = mdf_delay['ARR_DELAY'].min()\n",
        "\n",
        "print(\"Longest flight delay time: \",arrd_max, ' minutes')\n",
        "print(\"Shortest flight delay time: \",arrd_min, ' minute')"
      ]
    },
    {
      "cell_type": "markdown",
      "source": [
        "The third question is about the longest and the shortest delay time in 2015 until 2016. The longest delay of a flight is 2214 minutes and the shortest delay is 1 minute.\n",
        "\n",
        "So based on the codes above, the wall time pandas recorded is 591ms, while koalas recorded 2min 13s and modin recorded 7.58s. This means that koalas has the most wall time, pandas has the least wall time and modin is in the middle of both of it."
      ],
      "metadata": {
        "id": "WVlXeKFKshko"
      }
    },
    {
      "cell_type": "markdown",
      "metadata": {
        "id": "iZ8kceJnQKUO"
      },
      "source": [
        "### **4. What is the percentage of delay flight for each airlines?**"
      ]
    },
    {
      "cell_type": "markdown",
      "metadata": {
        "id": "sbJAUAIgQ1od"
      },
      "source": [
        "**Pandas**"
      ]
    },
    {
      "cell_type": "code",
      "execution_count": null,
      "metadata": {
        "colab": {
          "base_uri": "https://localhost:8080/"
        },
        "id": "ubFyw2Ggs4Nn",
        "outputId": "915aef18-e48f-4900-d03c-15d9115080c3"
      },
      "outputs": [
        {
          "name": "stdout",
          "output_type": "stream",
          "text": [
            "CPU times: user 1.33 s, sys: 5.17 ms, total: 1.34 s\n",
            "Wall time: 1.42 s\n"
          ]
        },
        {
          "data": {
            "text/plain": [
              "OP_CARRIER\n",
              "Spirit Airlines       45.073913\n",
              "Frontier Airlines     41.738180\n",
              "Virgin America        41.643952\n",
              "JetBlue Airways       39.317993\n",
              "US                    39.277017\n",
              "Southwest Airlines    37.898908\n",
              "Envoy Air             37.126378\n",
              "Hawaiian Airlines     36.630893\n",
              "American Airlines     36.431820\n",
              "ExpressJet            35.818425\n",
              "SkyWest Airlines      35.789736\n",
              "United Airlines       33.080677\n",
              "Alaska Airlines       32.238986\n",
              "Delta Airlines        27.326260\n",
              "Name: Delay Percentage, dtype: float64"
            ]
          },
          "execution_count": 18,
          "metadata": {},
          "output_type": "execute_result"
        }
      ],
      "source": [
        "%%time\n",
        "df_delay_percentage = ((df_delay.groupby(['OP_CARRIER'])['DISTANCE'].count()))/(df.groupby(['OP_CARRIER'])['DISTANCE'].count()) * 100\n",
        "\n",
        "df_delay_percentage.rename('Delay Percentage', inplace = True)\n",
        "\n",
        "df_delay_percentage.sort_values(ascending=False)"
      ]
    },
    {
      "cell_type": "markdown",
      "metadata": {
        "id": "3_ox8hid1Pvq"
      },
      "source": [
        "**Koalas**"
      ]
    },
    {
      "cell_type": "code",
      "source": [
        "ks.set_option('compute.ops_on_diff_frames', True)"
      ],
      "metadata": {
        "id": "BuedsYigDjEV"
      },
      "execution_count": null,
      "outputs": []
    },
    {
      "cell_type": "code",
      "source": [
        "%%time\n",
        "kdf_delay_percentage = ((kdf_delay.groupby(['OP_CARRIER'])['DISTANCE'].count()))/(kdf.groupby(['OP_CARRIER'])['DISTANCE'].count()) * 100\n",
        "\n",
        "kdf_delay_percentage.rename('Delay Percentage', inplace = True)\n",
        "\n",
        "kdf_delay_percentage.sort_values(ascending=False)\n"
      ],
      "metadata": {
        "colab": {
          "base_uri": "https://localhost:8080/"
        },
        "id": "jvqzdfCTpZMY",
        "outputId": "741f2b1c-65cd-4dae-b0f7-2d79e3e8f632"
      },
      "execution_count": null,
      "outputs": [
        {
          "output_type": "stream",
          "name": "stdout",
          "text": [
            "CPU times: user 243 ms, sys: 34.3 ms, total: 277 ms\n",
            "Wall time: 1.86 s\n"
          ]
        },
        {
          "output_type": "execute_result",
          "data": {
            "text/plain": [
              "OP_CARRIER\n",
              "Spirit Airlines       45.073913\n",
              "Frontier Airlines     41.738180\n",
              "Virgin America        41.643952\n",
              "JetBlue Airways       39.317993\n",
              "US                    39.277017\n",
              "Southwest Airlines    37.898908\n",
              "Envoy Air             37.126378\n",
              "Hawaiian Airlines     36.630893\n",
              "American Airlines     36.431820\n",
              "ExpressJet            35.818425\n",
              "SkyWest Airlines      35.789736\n",
              "United Airlines       33.080677\n",
              "Alaska Airlines       32.238986\n",
              "Delta Airlines        27.326260\n",
              "Name: Delay Percentage, dtype: float64"
            ]
          },
          "metadata": {},
          "execution_count": 20
        }
      ]
    },
    {
      "cell_type": "markdown",
      "metadata": {
        "id": "xlWE6KwkK2k6"
      },
      "source": [
        "**Modin**"
      ]
    },
    {
      "cell_type": "code",
      "execution_count": null,
      "metadata": {
        "colab": {
          "base_uri": "https://localhost:8080/"
        },
        "id": "-u3KYK7-S5gx",
        "outputId": "56dabc06-ba0f-4765-cab9-0e68994b507b"
      },
      "outputs": [
        {
          "name": "stdout",
          "output_type": "stream",
          "text": [
            "CPU times: user 182 ms, sys: 57.2 ms, total: 239 ms\n",
            "Wall time: 6.06 s\n"
          ]
        },
        {
          "data": {
            "text/plain": [
              "OP_CARRIER\n",
              "Spirit Airlines       45.073913\n",
              "Frontier Airlines     41.738180\n",
              "Virgin America        41.643952\n",
              "JetBlue Airways       39.317993\n",
              "US                    39.277017\n",
              "Southwest Airlines    37.898908\n",
              "Envoy Air             37.126378\n",
              "Hawaiian Airlines     36.630893\n",
              "American Airlines     36.431820\n",
              "ExpressJet            35.818425\n",
              "SkyWest Airlines      35.789736\n",
              "United Airlines       33.080677\n",
              "Alaska Airlines       32.238986\n",
              "Delta Airlines        27.326260\n",
              "Name: Delay Percentage, dtype: float64"
            ]
          },
          "execution_count": 78,
          "metadata": {},
          "output_type": "execute_result"
        }
      ],
      "source": [
        "%%time\n",
        "mdf_delay_percentage = ((mdf_delay.groupby(['OP_CARRIER'])['DISTANCE'].count()))/(mdf.groupby(['OP_CARRIER'])['DISTANCE'].count()) * 100\n",
        "\n",
        "mdf_delay_percentage.rename('Delay Percentage', inplace = True)\n",
        "\n",
        "mdf_delay_percentage.sort_values(ascending=False)"
      ]
    },
    {
      "cell_type": "markdown",
      "source": [
        "The question is about the percentage of the flight delay of each airline. So, from here, we can see each of the airline percentages which recorded that 'Spirit Airlines' has the highest percentage of delayed flights. \n",
        "\n",
        "Based on the above, the wall time of pandas has been recorded about 1.42s, koalas 1.38s and modin 6.06s. This means that koalas has the least wall time, while modin has the most and pandas is in the middle. "
      ],
      "metadata": {
        "id": "0ND__-Yt8HZn"
      }
    },
    {
      "cell_type": "markdown",
      "metadata": {
        "id": "Viq0y0WdQW1O"
      },
      "source": [
        "### **5. What is the average flight distance for each airlines?**"
      ]
    },
    {
      "cell_type": "markdown",
      "metadata": {
        "id": "FdEmHrROQ3vZ"
      },
      "source": [
        "**Pandas**"
      ]
    },
    {
      "cell_type": "code",
      "execution_count": null,
      "metadata": {
        "colab": {
          "base_uri": "https://localhost:8080/"
        },
        "id": "k2WJFNqBs-pH",
        "outputId": "371ef035-2691-4a2d-ce6b-0db8b4fb6033"
      },
      "outputs": [
        {
          "name": "stdout",
          "output_type": "stream",
          "text": [
            "CPU times: user 862 ms, sys: 3.74 ms, total: 866 ms\n",
            "Wall time: 862 ms\n"
          ]
        },
        {
          "data": {
            "text/plain": [
              "OP_CARRIER\n",
              "Virgin America        1423.505525\n",
              "United Airlines       1246.810537\n",
              "Alaska Airlines       1212.924453\n",
              "JetBlue Airways       1065.257669\n",
              "American Airlines     1028.827510\n",
              "Frontier Airlines     1005.696458\n",
              "Spirit Airlines        982.529485\n",
              "US                     915.380259\n",
              "Delta Airlines         851.753105\n",
              "Southwest Airlines     746.213229\n",
              "Hawaiian Airlines      635.873791\n",
              "SkyWest Airlines       498.301643\n",
              "ExpressJet             451.950055\n",
              "Envoy Air              422.661417\n",
              "Name: DISTANCE, dtype: float64"
            ]
          },
          "execution_count": 19,
          "metadata": {},
          "output_type": "execute_result"
        }
      ],
      "source": [
        "%%time\n",
        "df_distance_q5 = df.groupby(['OP_CARRIER'])['DISTANCE'].mean().sort_values(ascending=False)\n",
        "df_distance_q5"
      ]
    },
    {
      "cell_type": "markdown",
      "source": [
        "**Koalas**"
      ],
      "metadata": {
        "id": "rlBlPwV8C29r"
      }
    },
    {
      "cell_type": "code",
      "source": [
        "%%time\n",
        "kdf_distance_q5 = kdf.groupby(['OP_CARRIER'])['DISTANCE'].mean().sort_values(ascending=False)\n",
        "kdf_distance_q5"
      ],
      "metadata": {
        "colab": {
          "base_uri": "https://localhost:8080/"
        },
        "id": "zwOBNNayDWhp",
        "outputId": "b3f44722-49a9-4524-e25e-f186e3429f73"
      },
      "execution_count": null,
      "outputs": [
        {
          "output_type": "stream",
          "name": "stdout",
          "text": [
            "CPU times: user 35.9 ms, sys: 5.64 ms, total: 41.6 ms\n",
            "Wall time: 213 ms\n"
          ]
        },
        {
          "output_type": "execute_result",
          "data": {
            "text/plain": [
              "OP_CARRIER\n",
              "Virgin America        1423.505525\n",
              "United Airlines       1246.810537\n",
              "Alaska Airlines       1212.924453\n",
              "JetBlue Airways       1065.257669\n",
              "American Airlines     1028.827510\n",
              "Frontier Airlines     1005.696458\n",
              "Spirit Airlines        982.529485\n",
              "US                     915.380259\n",
              "Delta Airlines         851.753105\n",
              "Southwest Airlines     746.213229\n",
              "Hawaiian Airlines      635.873791\n",
              "SkyWest Airlines       498.301643\n",
              "ExpressJet             451.950055\n",
              "Envoy Air              422.661417\n",
              "Name: DISTANCE, dtype: float64"
            ]
          },
          "metadata": {},
          "execution_count": 19
        }
      ]
    },
    {
      "cell_type": "markdown",
      "metadata": {
        "id": "oDKHIKMaK3Xs"
      },
      "source": [
        "**Modin**"
      ]
    },
    {
      "cell_type": "code",
      "execution_count": null,
      "metadata": {
        "colab": {
          "base_uri": "https://localhost:8080/"
        },
        "id": "lW27BUE6TNk8",
        "outputId": "c1b837e1-f3e6-4edd-fcf7-e3fece424173"
      },
      "outputs": [
        {
          "name": "stderr",
          "output_type": "stream",
          "text": [
            "\u001b[2m\u001b[36m(raylet)\u001b[0m Spilled 16433 MiB, 352 objects, write throughput 234 MiB/s.\n"
          ]
        },
        {
          "name": "stdout",
          "output_type": "stream",
          "text": [
            "CPU times: user 152 ms, sys: 36.6 ms, total: 189 ms\n",
            "Wall time: 4.8 s\n"
          ]
        },
        {
          "data": {
            "text/plain": [
              "OP_CARRIER\n",
              "Virgin America        1423.505525\n",
              "United Airlines       1246.810537\n",
              "Alaska Airlines       1212.924453\n",
              "JetBlue Airways       1065.257669\n",
              "American Airlines     1028.827510\n",
              "Frontier Airlines     1005.696458\n",
              "Spirit Airlines        982.529485\n",
              "US                     915.380259\n",
              "Delta Airlines         851.753105\n",
              "Southwest Airlines     746.213229\n",
              "Hawaiian Airlines      635.873791\n",
              "SkyWest Airlines       498.301643\n",
              "ExpressJet             451.950055\n",
              "Envoy Air              422.661417\n",
              "Name: DISTANCE, dtype: float64"
            ]
          },
          "execution_count": 79,
          "metadata": {},
          "output_type": "execute_result"
        }
      ],
      "source": [
        "%%time\n",
        "mdf_distance = mdf.groupby(['OP_CARRIER'])['DISTANCE'].mean().sort_values(ascending=False)\n",
        "mdf_distance"
      ]
    },
    {
      "cell_type": "markdown",
      "source": [
        "This question is to find the average distance of each airline has travelled during 2015-2016. From the above results, it can be seen that 'Virgin America' has the highest average if travelled distance and 'Envoy Air' has the least.\n",
        "\n",
        "The wall time recorded by pandas was 862ms, koalas was 213ms and modin was 4.8s. Based on this, koalas has the least wall time, modin has the most wall time and pandas is in the middle of them."
      ],
      "metadata": {
        "id": "sEEe8CGA85en"
      }
    },
    {
      "cell_type": "markdown",
      "source": [
        "## **Inferences and Conclusion** \n",
        "\n",
        "In conclusion, the performance of Pandas, Koalas, and Modin was compared in terms of executing various data cleaning and manipulation operations on a DataFrame. The operations included replacing abbreviated airline codes with their full names in the 'OP_CARRIER' column, removing all rows with missing values ('NaN'), calculating the sum of missing values for each column, and dropping several columns from the DataFrame.\n",
        "\n",
        "From the results, it can be seen that each library has its strengths and weaknesses in terms of performance. Modin was the fastest in executing the 'drop' operation, with the shortest CPU time (3.87 ms) and wall time (8.19 ms). Koalas was the fastest in executing the 'replace' operation, with the shortest CPU time (65.3 ms) and wall time (416 ms). On the other hand, Pandas was the slowest in executing the 'replace' and 'drop' operations, but had a relatively short wall time in the 'remove missing values' operation.\n",
        "\n",
        "In terms of reading the CSV file 'airline1516.csv' into a DataFrame, Koalas had the shortest CPU time (537 ms) compared to Modin (2.18 s) and Pandas (40.4 s). However, Pandas had a relatively short wall time compared to Koalas (1min 23s) and Modin (1min 12s).\n",
        "\n",
        "The performance of Pandas, Koalas, and Modin varies depending on the operation being executed and the size of the data. For small datasets, Koalas may perform faster, while for larger datasets, Modin may be a better option. It is important to consider the specific requirements and nature of a project before choosing a library for data cleaning and manipulation operations.\n",
        "\n",
        "##### **Summary of questions**\n",
        "In 2015-2016, the top 5 airlines with the most flights were analyzed and it was found that Southwest Airlines had the highest number of flights with 2522917. Further, the top 10 days with the most delayed flights were analyzed, and January 4th, 2015 had the highest rate of delays. Additionally, the longest and shortest delay times were analyzed, with the longest being 2214 minutes and the shortest being 1 minute. A analysis of the percentage of delayed flights for each airline showed that Spirit Airlines had the highest percentage of delayed flights. Finally, the average distance traveled by each airline during 2015-2016 was analyzed, and it was found that Virgin America had the highest average distance traveled, while Envoy Air had the least."
      ],
      "metadata": {
        "id": "uaTyxhspZDrW"
      }
    },
    {
      "cell_type": "markdown",
      "source": [
        "## **References and Future Work**\n",
        "\n",
        "\n",
        "[Charts in Colaboratory Notebook](https://colab.research.google.com/notebooks/charts.ipynb\n",
        ")\n",
        "\n",
        "[Pandas](https://pandas.pydata.org/docs/\n",
        ")\n",
        "\n",
        "[Koalas](https://koalas.readthedocs.io/en/latest/\n",
        ")\n",
        "\n",
        "[Modin](https://modin.readthedocs.io/en/latest/\n",
        ")\n",
        "\n",
        "Future Work:\n",
        "1. Incorporating additional data sources, such as weather patterns and air traffic control information, to better understand the factors that contribute to flight delays.\n",
        "\n",
        "2. Conducting a survey of travelers to better understand their experiences with flight delays and use this data to inform the development of new strategies for mitigating delays.\n",
        "\n",
        "3. Creating an interactive visualization tool to allow users to explore the data and gain insights into flight delay patterns and causes.\n",
        "\n",
        "4. Creating a prediction model to better forecast delays and minimize the impact of delays on travelers."
      ],
      "metadata": {
        "id": "gw-3mJZ2ZFkR"
      }
    }
  ],
  "metadata": {
    "colab": {
      "provenance": [],
      "include_colab_link": true
    },
    "gpuClass": "standard",
    "kernelspec": {
      "display_name": "Python 3",
      "name": "python3"
    },
    "language_info": {
      "name": "python"
    }
  },
  "nbformat": 4,
  "nbformat_minor": 0
}